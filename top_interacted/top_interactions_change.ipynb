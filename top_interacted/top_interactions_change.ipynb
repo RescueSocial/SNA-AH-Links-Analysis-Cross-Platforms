{
 "cells": [
  {
   "cell_type": "code",
   "execution_count": 14,
   "id": "01069275",
   "metadata": {},
   "outputs": [],
   "source": [
    "import pandas as pd\n",
    "import json\n",
    "import ast"
   ]
  },
  {
   "cell_type": "code",
   "execution_count": 15,
   "id": "c75629d2",
   "metadata": {},
   "outputs": [],
   "source": [
    "data_path = \"../../URLs_Data_Filteration/Change/\""
   ]
  },
  {
   "cell_type": "code",
   "execution_count": 16,
   "id": "b17dd2c3",
   "metadata": {},
   "outputs": [
    {
     "name": "stdout",
     "output_type": "stream",
     "text": [
      " Volume in drive D is Essentials\n",
      " Volume Serial Number is 7063-374D\n",
      "\n",
      " Directory of D:\\Freelance\\Christina\\URLs_Data_Filteration\\Change\n",
      "\n",
      "01/30/2022  04:40 PM    <DIR>          .\n",
      "01/30/2022  04:40 PM    <DIR>          ..\n",
      "01/27/2022  07:44 AM             1,039 all_petitions_comments_4_months_urls_1_link.csv\n",
      "01/27/2022  07:44 AM             1,308 all_petitions_comments_4_months_urls_more.csv\n",
      "01/27/2022  07:40 AM            15,255 all_petitions_comments_4_urls.csv\n",
      "01/27/2022  07:48 AM            91,419 all_petitions_comments_dec_urls.csv\n",
      "01/27/2022  07:48 AM               818 all_petitions_comments_dec_urls_1_link.csv\n",
      "01/27/2022  07:49 AM             1,030 all_petitions_comments_dec_urls_more.csv\n",
      "01/30/2022  10:16 PM             1,379 df_all_petitions_comments_4_months_urls_1_link_title.csv\n",
      "01/30/2022  10:16 PM             1,653 df_all_petitions_comments_4_months_urls_more_title.csv\n",
      "01/30/2022  10:16 PM             1,156 df_all_petitions_comments_dec_urls_1_link_title.csv\n",
      "01/30/2022  10:16 PM             1,580 df_all_petitions_comments_dec_urls_more_title.csv\n",
      "01/30/2022  04:40 PM            12,578 df_comments_dec_urls_1_link_title.csv\n",
      "01/30/2022  01:42 PM    <DIR>          Filtered Data\n",
      "01/30/2022  01:44 PM    <DIR>          titles\n",
      "              11 File(s)        129,215 bytes\n",
      "               4 Dir(s)  131,963,199,488 bytes free\n"
     ]
    }
   ],
   "source": [
    "ls \"../../URLs_Data_Filteration/Change\""
   ]
  },
  {
   "cell_type": "code",
   "execution_count": 4,
   "id": "41d96975",
   "metadata": {},
   "outputs": [],
   "source": [
    "def save(set_, filepath):\n",
    "    with open(filepath, 'w') as f:\n",
    "        f.write(json.dumps(set_))\n",
    "\n",
    "def read(filepath):\n",
    "    with open(filepath, 'r') as f:\n",
    "        return json.loads(f.read())"
   ]
  },
  {
   "cell_type": "markdown",
   "id": "ac8bf7d7",
   "metadata": {},
   "source": [
    "## 4 Months"
   ]
  },
  {
   "cell_type": "code",
   "execution_count": 17,
   "id": "3f7ac1db",
   "metadata": {},
   "outputs": [],
   "source": [
    "df_all_petitions_comments_4_urls = pd.read_csv(data_path + \"all_petitions_comments_4_urls.csv\")"
   ]
  },
  {
   "cell_type": "code",
   "execution_count": 18,
   "id": "6e2c0f0f",
   "metadata": {},
   "outputs": [
    {
     "data": {
      "text/plain": [
       "10    2\n",
       "3     1\n",
       "9     1\n",
       "11    1\n",
       "0     0\n",
       "1     0\n",
       "2     0\n",
       "4     0\n",
       "5     0\n",
       "6     0\n",
       "7     0\n",
       "8     0\n",
       "12    0\n",
       "13    0\n",
       "14    0\n",
       "Name: likes, dtype: int64"
      ]
     },
     "execution_count": 18,
     "metadata": {},
     "output_type": "execute_result"
    }
   ],
   "source": [
    "df_all_petitions_comments_4_urls.sort_values(\"likes\", ascending=False).likes"
   ]
  },
  {
   "cell_type": "code",
   "execution_count": 7,
   "id": "d5b117af",
   "metadata": {},
   "outputs": [
    {
     "data": {
      "text/html": [
       "<div>\n",
       "<style scoped>\n",
       "    .dataframe tbody tr th:only-of-type {\n",
       "        vertical-align: middle;\n",
       "    }\n",
       "\n",
       "    .dataframe tbody tr th {\n",
       "        vertical-align: top;\n",
       "    }\n",
       "\n",
       "    .dataframe thead th {\n",
       "        text-align: right;\n",
       "    }\n",
       "</style>\n",
       "<table border=\"1\" class=\"dataframe\">\n",
       "  <thead>\n",
       "    <tr style=\"text-align: right;\">\n",
       "      <th></th>\n",
       "      <th>id</th>\n",
       "      <th>comment</th>\n",
       "      <th>parent_id</th>\n",
       "      <th>children_count</th>\n",
       "      <th>commentable_type</th>\n",
       "      <th>commentable_id</th>\n",
       "      <th>likes</th>\n",
       "      <th>role</th>\n",
       "      <th>created_at</th>\n",
       "      <th>deleted_at</th>\n",
       "      <th>...</th>\n",
       "      <th>user.photo.sizes.xlarge.url</th>\n",
       "      <th>user.photo.sizes.xlarge.processing</th>\n",
       "      <th>user.photo.sizes.xlarge.size.width</th>\n",
       "      <th>user.photo.sizes.xlarge.size.height</th>\n",
       "      <th>user.roles</th>\n",
       "      <th>commentable_entity.slug</th>\n",
       "      <th>petition__slug</th>\n",
       "      <th>status_manual</th>\n",
       "      <th>urls</th>\n",
       "      <th>n_urls</th>\n",
       "    </tr>\n",
       "  </thead>\n",
       "  <tbody>\n",
       "    <tr>\n",
       "      <th>10</th>\n",
       "      <td>811974730</td>\n",
       "      <td>sign this, the fate of the world depends on it...</td>\n",
       "      <td>0</td>\n",
       "      <td>0</td>\n",
       "      <td>Event</td>\n",
       "      <td>25752458</td>\n",
       "      <td>2</td>\n",
       "      <td>comment</td>\n",
       "      <td>2021-01-12 18:10:16+00:00</td>\n",
       "      <td>NaN</td>\n",
       "      <td>...</td>\n",
       "      <td>NaN</td>\n",
       "      <td>NaN</td>\n",
       "      <td>NaN</td>\n",
       "      <td>NaN</td>\n",
       "      <td>[]</td>\n",
       "      <td>dc-replace-amber-heard-with-danny-devito-in-aq...</td>\n",
       "      <td>dc-replace-amber-heard-with-danny-devito-in-aq...</td>\n",
       "      <td>against</td>\n",
       "      <td>['https://www.change.org/p/all-world-leaders-d...</td>\n",
       "      <td>1</td>\n",
       "    </tr>\n",
       "    <tr>\n",
       "      <th>3</th>\n",
       "      <td>813965979</td>\n",
       "      <td>Johnny hold on! Now the same script was writte...</td>\n",
       "      <td>0</td>\n",
       "      <td>0</td>\n",
       "      <td>Event</td>\n",
       "      <td>13641580</td>\n",
       "      <td>1</td>\n",
       "      <td>comment</td>\n",
       "      <td>2021-02-20 21:14:25+00:00</td>\n",
       "      <td>NaN</td>\n",
       "      <td>...</td>\n",
       "      <td>//assets.change.org/photos/3/xs/aw/ujxsAWlQZiu...</td>\n",
       "      <td>False</td>\n",
       "      <td>800.0</td>\n",
       "      <td>800.0</td>\n",
       "      <td>[]</td>\n",
       "      <td>johnnydeppisinnocent</td>\n",
       "      <td>johnnydeppisinnocent_limit_1</td>\n",
       "      <td>against</td>\n",
       "      <td>['https://www.change.org/p/%D0%BC%D0%B8%D0%B4-...</td>\n",
       "      <td>4</td>\n",
       "    </tr>\n",
       "    <tr>\n",
       "      <th>9</th>\n",
       "      <td>811386999</td>\n",
       "      <td>hey i have started my petition and mine is at ...</td>\n",
       "      <td>0</td>\n",
       "      <td>0</td>\n",
       "      <td>Event</td>\n",
       "      <td>20228936</td>\n",
       "      <td>1</td>\n",
       "      <td>comment</td>\n",
       "      <td>2021-01-02 09:51:57+00:00</td>\n",
       "      <td>NaN</td>\n",
       "      <td>...</td>\n",
       "      <td>//assets.change.org/photos/4/ql/he/wiQLHegaFDW...</td>\n",
       "      <td>False</td>\n",
       "      <td>800.0</td>\n",
       "      <td>800.0</td>\n",
       "      <td>[]</td>\n",
       "      <td>movie-fans-emilia-clarke-should-replace-amber-...</td>\n",
       "      <td>movie-fans-emilia-clarke-should-replace-amber-...</td>\n",
       "      <td>against</td>\n",
       "      <td>['https://www.change.org/p/warner-brothers-emi...</td>\n",
       "      <td>1</td>\n",
       "    </tr>\n",
       "    <tr>\n",
       "      <th>11</th>\n",
       "      <td>812231846</td>\n",
       "      <td>Judge Nicol is a corrupt judge. A disgrace of ...</td>\n",
       "      <td>0</td>\n",
       "      <td>0</td>\n",
       "      <td>Event</td>\n",
       "      <td>25819841</td>\n",
       "      <td>1</td>\n",
       "      <td>comment</td>\n",
       "      <td>2021-01-17 09:03:09+00:00</td>\n",
       "      <td>NaN</td>\n",
       "      <td>...</td>\n",
       "      <td>NaN</td>\n",
       "      <td>NaN</td>\n",
       "      <td>NaN</td>\n",
       "      <td>NaN</td>\n",
       "      <td>[]</td>\n",
       "      <td>the-judicial-conduct-investigations-office-a-o...</td>\n",
       "      <td>the-judicial-conduct-investigations-office-a-o...</td>\n",
       "      <td>against</td>\n",
       "      <td>['https://www.complaints.judicialconduct.gov.u...</td>\n",
       "      <td>1</td>\n",
       "    </tr>\n",
       "  </tbody>\n",
       "</table>\n",
       "<p>4 rows × 46 columns</p>\n",
       "</div>"
      ],
      "text/plain": [
       "           id                                            comment  parent_id  \\\n",
       "10  811974730  sign this, the fate of the world depends on it...          0   \n",
       "3   813965979  Johnny hold on! Now the same script was writte...          0   \n",
       "9   811386999  hey i have started my petition and mine is at ...          0   \n",
       "11  812231846  Judge Nicol is a corrupt judge. A disgrace of ...          0   \n",
       "\n",
       "    children_count commentable_type  commentable_id  likes     role  \\\n",
       "10               0            Event        25752458      2  comment   \n",
       "3                0            Event        13641580      1  comment   \n",
       "9                0            Event        20228936      1  comment   \n",
       "11               0            Event        25819841      1  comment   \n",
       "\n",
       "                   created_at  deleted_at  ...  \\\n",
       "10  2021-01-12 18:10:16+00:00         NaN  ...   \n",
       "3   2021-02-20 21:14:25+00:00         NaN  ...   \n",
       "9   2021-01-02 09:51:57+00:00         NaN  ...   \n",
       "11  2021-01-17 09:03:09+00:00         NaN  ...   \n",
       "\n",
       "                          user.photo.sizes.xlarge.url  \\\n",
       "10                                                NaN   \n",
       "3   //assets.change.org/photos/3/xs/aw/ujxsAWlQZiu...   \n",
       "9   //assets.change.org/photos/4/ql/he/wiQLHegaFDW...   \n",
       "11                                                NaN   \n",
       "\n",
       "    user.photo.sizes.xlarge.processing user.photo.sizes.xlarge.size.width  \\\n",
       "10                                 NaN                                NaN   \n",
       "3                                False                              800.0   \n",
       "9                                False                              800.0   \n",
       "11                                 NaN                                NaN   \n",
       "\n",
       "   user.photo.sizes.xlarge.size.height user.roles  \\\n",
       "10                                 NaN         []   \n",
       "3                                800.0         []   \n",
       "9                                800.0         []   \n",
       "11                                 NaN         []   \n",
       "\n",
       "                              commentable_entity.slug  \\\n",
       "10  dc-replace-amber-heard-with-danny-devito-in-aq...   \n",
       "3                                johnnydeppisinnocent   \n",
       "9   movie-fans-emilia-clarke-should-replace-amber-...   \n",
       "11  the-judicial-conduct-investigations-office-a-o...   \n",
       "\n",
       "                                       petition__slug  status_manual  \\\n",
       "10  dc-replace-amber-heard-with-danny-devito-in-aq...        against   \n",
       "3                        johnnydeppisinnocent_limit_1        against   \n",
       "9   movie-fans-emilia-clarke-should-replace-amber-...        against   \n",
       "11  the-judicial-conduct-investigations-office-a-o...        against   \n",
       "\n",
       "                                                 urls  n_urls  \n",
       "10  ['https://www.change.org/p/all-world-leaders-d...       1  \n",
       "3   ['https://www.change.org/p/%D0%BC%D0%B8%D0%B4-...       4  \n",
       "9   ['https://www.change.org/p/warner-brothers-emi...       1  \n",
       "11  ['https://www.complaints.judicialconduct.gov.u...       1  \n",
       "\n",
       "[4 rows x 46 columns]"
      ]
     },
     "execution_count": 7,
     "metadata": {},
     "output_type": "execute_result"
    }
   ],
   "source": [
    "df_top_urls = df_all_petitions_comments_4_urls[\n",
    "    df_all_petitions_comments_4_urls.likes > 0\n",
    "].sort_values(\"likes\", ascending=False)\n",
    "df_top_urls"
   ]
  },
  {
   "cell_type": "code",
   "execution_count": null,
   "id": "f492bb5a",
   "metadata": {},
   "outputs": [],
   "source": [
    "df_top_urls[[\"comment\", \"urls\"]]"
   ]
  },
  {
   "cell_type": "code",
   "execution_count": null,
   "id": "27b6d0f9",
   "metadata": {},
   "outputs": [],
   "source": []
  },
  {
   "cell_type": "code",
   "execution_count": null,
   "id": "8ec754d6",
   "metadata": {},
   "outputs": [],
   "source": []
  },
  {
   "cell_type": "code",
   "execution_count": 8,
   "id": "9b5fa0a7",
   "metadata": {},
   "outputs": [],
   "source": [
    "top_urls_4_months = list(df_top_urls.urls.apply(lambda x: ast.literal_eval(x)).values)"
   ]
  },
  {
   "cell_type": "code",
   "execution_count": 9,
   "id": "64d9c3ba",
   "metadata": {},
   "outputs": [
    {
     "data": {
      "text/plain": [
       "[['https://www.change.org/p/all-world-leaders-destroy-germany?utm_content=cl_sharecopy_26427862_en-US%3A3&recruiter=1171601200&utm_source=share_petition&utm_medium=copylink&utm_campaign=share_petition'],\n",
       " ['https://www.change.org/p/%D0%BC%D0%B8%D0%B4-%D1%80%D1%84-%D1%82%D1%80%D0%B5%D0%B1%D1%83%D0%B5%D0%BC-%D0%B2%D1%8B%D1%80%D0%B0%D0%B7%D0%B8%D1%82%D1%8C-%D0%BE%D0%B1%D0%B5%D1%81%D0%BF%D0%BE%D0%BA%D0%BE%D0%B5%D0%BD%D0%BD%D0%BE%D1%81%D1%82%D1%8C-%D0%B8-%D0%BE%D0%B1%D1%81%D1%83%D0%B4%D0%B8%D1%82%D1%8C-%D0%BD%D0%B0-%D0%B3%D0%BE%D1%81%D1%83%D1%80%D0%BE%D0%B2%D0%BD%D0%B5-%D1%81%D0%B8%D1%82%D1%83%D0%B0%D1%86%D0%B8%D1%8E-%D0%B8%D0%BC-%D1%81-%D0%BC%D1%8D%D1%80%D0%B8%D0%BB%D0%B8%D0%BD%D0%BE%D0%BC-%D0%BC%D1%8D%D0%BD%D1%81%D0%BE%D0%BD%D0%BE%D0%BC?utm_content=cl_sharecopy_27402992_ru-RU%3A5&recruiter=1179297829&recruited_by_id=421d1f20-67ad-11eb-91c9-95f87b35fc98&utm_source=share_petition&utm_medium=copylink&utm_campaign=psf_combo_share_initial&utm_term=psf_combo_share_initial',\n",
       "  'https://www.change.org/p/%D0%BC%D0%B8%D0%B4-%D1%80%D1%84-%D1%82%D1%80%D0%B5%D0%B1%D1%83%D0%B5%D0%BC-%D0%B2%D1%8B%D1%80%D0%B0%D0%B7%D0%B8%D1%82%D1%8C-%D0%BE%D0%B1%D0%B5%D1%81%D0%BF%D0%BE%D0%BA%D0%BE%D0%B5%D0%BD%D0%BD%D0%BE%D1%81%D1%82%D1%8C-%D0%B8-%D0%BE%D0%B1%D1%81%D1%83%D0%B4%D0%B8%D1%82%D1%8C-%D0%BD%D0%B0-%D0%B3%D0%BE%D1%81%D1%83%D1%80%D0%BE%D0%B2%D0%BD%D0%B5-%D1%81%D0%B8%D1%82%D1%83%D0%B0%D1%86%D0%B8%D1%8E-%D0%B8%D0%BC-%D1%81-%D0%BC%D1%8D%D1%80%D0%B8%D0%BB%D0%B8%D0%BD%D0%BE%D0%BC-%D0%BC%D1%8D%D0%BD%D1%81%D0%BE%D0%BD%D0%BE%D0%BC?utm_content=cl_sharecopy_27402992_ru-RU%3A5&recruiter=1179297829&recruited_by_id=421d1f20-67ad-11eb-91c9-95f87b35fc98&utm_source=share_petition&utm_medium=copylink&utm_campaign=psf_combo_share_initial&utm_term=psf_combo_share_initial',\n",
       "  'https://www.change.org/p/loma-vista-recordings-resign-marilyn-manson-to-his-record-label?utm_content=cl_sharecopy_27200758_en-US%3A3&recruiter=1179297829&recruited_by_id=421d1f20-67ad-11eb-91c9-95f87b35fc98&utm_source=share_petition&utm_medium=copylink&utm_campaign=psf_combo_share_initial&utm_term=psf_combo_share_initial',\n",
       "  'https://www.change.org/p/loma-vista-recordings-resign-marilyn-manson-to-his-record-label?utm_content=cl_sharecopy_27200758_en-US%3A3&recruiter=1179297829&recruited_by_id=421d1f20-67ad-11eb-91c9-95f87b35fc98&utm_source=share_petition&utm_medium=copylink&utm_campaign=psf_combo_share_initial&utm_term=psf_combo_share_initial'],\n",
       " ['https://www.change.org/p/warner-brothers-emilia-clarke-to-replace-amber-heard-as-mera-on-aquaman-2/exp/cl_/cl_sharecopy_20233661_en-GB/v3/1022046125?utm_content=cl_sharecopy_20233661_en-GB%3Av3&recruiter=1022046125&utm_source=share_petition&utm_medium=copylink&utm_campaign=share_petition'],\n",
       " ['https://www.complaints.judicialconduct.gov.uk/']]"
      ]
     },
     "execution_count": 9,
     "metadata": {},
     "output_type": "execute_result"
    }
   ],
   "source": [
    "top_urls_4_months"
   ]
  },
  {
   "cell_type": "code",
   "execution_count": 10,
   "id": "24db4a31",
   "metadata": {},
   "outputs": [],
   "source": [
    "top_urls_4_months = [item for sublist in top_urls_4_months for item in sublist]"
   ]
  },
  {
   "cell_type": "code",
   "execution_count": 11,
   "id": "c7596a82",
   "metadata": {},
   "outputs": [
    {
     "data": {
      "text/plain": [
       "['https://www.change.org/p/all-world-leaders-destroy-germany?utm_content=cl_sharecopy_26427862_en-US%3A3&recruiter=1171601200&utm_source=share_petition&utm_medium=copylink&utm_campaign=share_petition',\n",
       " 'https://www.change.org/p/%D0%BC%D0%B8%D0%B4-%D1%80%D1%84-%D1%82%D1%80%D0%B5%D0%B1%D1%83%D0%B5%D0%BC-%D0%B2%D1%8B%D1%80%D0%B0%D0%B7%D0%B8%D1%82%D1%8C-%D0%BE%D0%B1%D0%B5%D1%81%D0%BF%D0%BE%D0%BA%D0%BE%D0%B5%D0%BD%D0%BD%D0%BE%D1%81%D1%82%D1%8C-%D0%B8-%D0%BE%D0%B1%D1%81%D1%83%D0%B4%D0%B8%D1%82%D1%8C-%D0%BD%D0%B0-%D0%B3%D0%BE%D1%81%D1%83%D1%80%D0%BE%D0%B2%D0%BD%D0%B5-%D1%81%D0%B8%D1%82%D1%83%D0%B0%D1%86%D0%B8%D1%8E-%D0%B8%D0%BC-%D1%81-%D0%BC%D1%8D%D1%80%D0%B8%D0%BB%D0%B8%D0%BD%D0%BE%D0%BC-%D0%BC%D1%8D%D0%BD%D1%81%D0%BE%D0%BD%D0%BE%D0%BC?utm_content=cl_sharecopy_27402992_ru-RU%3A5&recruiter=1179297829&recruited_by_id=421d1f20-67ad-11eb-91c9-95f87b35fc98&utm_source=share_petition&utm_medium=copylink&utm_campaign=psf_combo_share_initial&utm_term=psf_combo_share_initial',\n",
       " 'https://www.change.org/p/%D0%BC%D0%B8%D0%B4-%D1%80%D1%84-%D1%82%D1%80%D0%B5%D0%B1%D1%83%D0%B5%D0%BC-%D0%B2%D1%8B%D1%80%D0%B0%D0%B7%D0%B8%D1%82%D1%8C-%D0%BE%D0%B1%D0%B5%D1%81%D0%BF%D0%BE%D0%BA%D0%BE%D0%B5%D0%BD%D0%BD%D0%BE%D1%81%D1%82%D1%8C-%D0%B8-%D0%BE%D0%B1%D1%81%D1%83%D0%B4%D0%B8%D1%82%D1%8C-%D0%BD%D0%B0-%D0%B3%D0%BE%D1%81%D1%83%D1%80%D0%BE%D0%B2%D0%BD%D0%B5-%D1%81%D0%B8%D1%82%D1%83%D0%B0%D1%86%D0%B8%D1%8E-%D0%B8%D0%BC-%D1%81-%D0%BC%D1%8D%D1%80%D0%B8%D0%BB%D0%B8%D0%BD%D0%BE%D0%BC-%D0%BC%D1%8D%D0%BD%D1%81%D0%BE%D0%BD%D0%BE%D0%BC?utm_content=cl_sharecopy_27402992_ru-RU%3A5&recruiter=1179297829&recruited_by_id=421d1f20-67ad-11eb-91c9-95f87b35fc98&utm_source=share_petition&utm_medium=copylink&utm_campaign=psf_combo_share_initial&utm_term=psf_combo_share_initial',\n",
       " 'https://www.change.org/p/loma-vista-recordings-resign-marilyn-manson-to-his-record-label?utm_content=cl_sharecopy_27200758_en-US%3A3&recruiter=1179297829&recruited_by_id=421d1f20-67ad-11eb-91c9-95f87b35fc98&utm_source=share_petition&utm_medium=copylink&utm_campaign=psf_combo_share_initial&utm_term=psf_combo_share_initial',\n",
       " 'https://www.change.org/p/loma-vista-recordings-resign-marilyn-manson-to-his-record-label?utm_content=cl_sharecopy_27200758_en-US%3A3&recruiter=1179297829&recruited_by_id=421d1f20-67ad-11eb-91c9-95f87b35fc98&utm_source=share_petition&utm_medium=copylink&utm_campaign=psf_combo_share_initial&utm_term=psf_combo_share_initial',\n",
       " 'https://www.change.org/p/warner-brothers-emilia-clarke-to-replace-amber-heard-as-mera-on-aquaman-2/exp/cl_/cl_sharecopy_20233661_en-GB/v3/1022046125?utm_content=cl_sharecopy_20233661_en-GB%3Av3&recruiter=1022046125&utm_source=share_petition&utm_medium=copylink&utm_campaign=share_petition',\n",
       " 'https://www.complaints.judicialconduct.gov.uk/']"
      ]
     },
     "execution_count": 11,
     "metadata": {},
     "output_type": "execute_result"
    }
   ],
   "source": [
    "top_urls_4_months"
   ]
  },
  {
   "cell_type": "code",
   "execution_count": 12,
   "id": "742f953b",
   "metadata": {},
   "outputs": [
    {
     "data": {
      "text/plain": [
       "7"
      ]
     },
     "execution_count": 12,
     "metadata": {},
     "output_type": "execute_result"
    }
   ],
   "source": [
    "len(top_urls_4_months)"
   ]
  },
  {
   "cell_type": "code",
   "execution_count": 13,
   "id": "2497dbdd",
   "metadata": {},
   "outputs": [
    {
     "data": {
      "text/plain": [
       "5"
      ]
     },
     "execution_count": 13,
     "metadata": {},
     "output_type": "execute_result"
    }
   ],
   "source": [
    "len(set(top_urls_4_months))"
   ]
  },
  {
   "cell_type": "code",
   "execution_count": 14,
   "id": "95298254",
   "metadata": {},
   "outputs": [],
   "source": [
    "save(list(set(top_urls_4_months)), data_path + \"top_urls_4_months.txt\")"
   ]
  },
  {
   "cell_type": "code",
   "execution_count": 15,
   "id": "21ad0ed2",
   "metadata": {},
   "outputs": [
    {
     "data": {
      "text/plain": [
       "['https://www.change.org/p/%D0%BC%D0%B8%D0%B4-%D1%80%D1%84-%D1%82%D1%80%D0%B5%D0%B1%D1%83%D0%B5%D0%BC-%D0%B2%D1%8B%D1%80%D0%B0%D0%B7%D0%B8%D1%82%D1%8C-%D0%BE%D0%B1%D0%B5%D1%81%D0%BF%D0%BE%D0%BA%D0%BE%D0%B5%D0%BD%D0%BD%D0%BE%D1%81%D1%82%D1%8C-%D0%B8-%D0%BE%D0%B1%D1%81%D1%83%D0%B4%D0%B8%D1%82%D1%8C-%D0%BD%D0%B0-%D0%B3%D0%BE%D1%81%D1%83%D1%80%D0%BE%D0%B2%D0%BD%D0%B5-%D1%81%D0%B8%D1%82%D1%83%D0%B0%D1%86%D0%B8%D1%8E-%D0%B8%D0%BC-%D1%81-%D0%BC%D1%8D%D1%80%D0%B8%D0%BB%D0%B8%D0%BD%D0%BE%D0%BC-%D0%BC%D1%8D%D0%BD%D1%81%D0%BE%D0%BD%D0%BE%D0%BC?utm_content=cl_sharecopy_27402992_ru-RU%3A5&recruiter=1179297829&recruited_by_id=421d1f20-67ad-11eb-91c9-95f87b35fc98&utm_source=share_petition&utm_medium=copylink&utm_campaign=psf_combo_share_initial&utm_term=psf_combo_share_initial',\n",
       " 'https://www.change.org/p/all-world-leaders-destroy-germany?utm_content=cl_sharecopy_26427862_en-US%3A3&recruiter=1171601200&utm_source=share_petition&utm_medium=copylink&utm_campaign=share_petition',\n",
       " 'https://www.complaints.judicialconduct.gov.uk/',\n",
       " 'https://www.change.org/p/loma-vista-recordings-resign-marilyn-manson-to-his-record-label?utm_content=cl_sharecopy_27200758_en-US%3A3&recruiter=1179297829&recruited_by_id=421d1f20-67ad-11eb-91c9-95f87b35fc98&utm_source=share_petition&utm_medium=copylink&utm_campaign=psf_combo_share_initial&utm_term=psf_combo_share_initial',\n",
       " 'https://www.change.org/p/warner-brothers-emilia-clarke-to-replace-amber-heard-as-mera-on-aquaman-2/exp/cl_/cl_sharecopy_20233661_en-GB/v3/1022046125?utm_content=cl_sharecopy_20233661_en-GB%3Av3&recruiter=1022046125&utm_source=share_petition&utm_medium=copylink&utm_campaign=share_petition']"
      ]
     },
     "execution_count": 15,
     "metadata": {},
     "output_type": "execute_result"
    }
   ],
   "source": [
    "read(data_path + \"top_urls_4_months.txt\")"
   ]
  },
  {
   "cell_type": "markdown",
   "id": "dd3779da",
   "metadata": {},
   "source": [
    "## Dec"
   ]
  },
  {
   "cell_type": "code",
   "execution_count": 16,
   "id": "a93b2e6d",
   "metadata": {},
   "outputs": [],
   "source": [
    "df_all_petitions_comments_dec_urls = pd.read_csv(data_path + \"all_petitions_comments_dec_urls.csv\")"
   ]
  },
  {
   "cell_type": "code",
   "execution_count": 17,
   "id": "467c3731",
   "metadata": {},
   "outputs": [],
   "source": [
    "df_top_urls_dec = df_all_petitions_comments_dec_urls[df_all_petitions_comments_dec_urls.likes > 0].sort_values(\"likes\", ascending=False)"
   ]
  },
  {
   "cell_type": "code",
   "execution_count": 18,
   "id": "e2ee67e6",
   "metadata": {},
   "outputs": [
    {
     "data": {
      "text/plain": [
       "11"
      ]
     },
     "execution_count": 18,
     "metadata": {},
     "output_type": "execute_result"
    }
   ],
   "source": [
    "df_top_urls_dec.shape[0]"
   ]
  },
  {
   "cell_type": "code",
   "execution_count": 19,
   "id": "a2109004",
   "metadata": {},
   "outputs": [],
   "source": [
    "top_urls_dec = list(df_top_urls_dec.urls.apply(lambda x: ast.literal_eval(x)).values)"
   ]
  },
  {
   "cell_type": "code",
   "execution_count": 20,
   "id": "5003ebbe",
   "metadata": {},
   "outputs": [],
   "source": [
    "top_urls_dec = [item for sublist in top_urls_dec for item in sublist]"
   ]
  },
  {
   "cell_type": "code",
   "execution_count": 21,
   "id": "d67f3967",
   "metadata": {},
   "outputs": [
    {
     "data": {
      "text/plain": [
       "{'https://www.change.org/p/dc-entertainment-remove-amber-heard-from-aquaman-2',\n",
       " 'https://www.change.org/p/warner-brothers-emilia-clarke-to-replace-amber-heard-as-mera-on-aquaman-2?recruiter=1022046125&recruited_by_id=66c03f40-115c-11ea-9eb1-477c88327213&utm_source=share_petition&utm_medium=copylink&utm_campaign=petition_dashboard',\n",
       " 'https://www.change.org/p/we-support-amber-heard-in-aquaman-2-her-life-and-public-safety-to-save-lives',\n",
       " 'https://www.documentcloud.org/documents/5835867-Amber-Heard-Motion-to-Dismiss.html',\n",
       " 'https://www.latimes.com/entertainment/gossip/la-et-mg-amber-heard-io-tillett-911-call-20160608-snap-story.html',\n",
       " 'https://www.truehollywoodtalk.com/amber-heards-story-cyberabuse-inspires-change-public-safety-save-lives/',\n",
       " 'https://www.youtube.com/channel/UCjKNc-woAlnxt0H-yJ8RXJg'}"
      ]
     },
     "execution_count": 21,
     "metadata": {},
     "output_type": "execute_result"
    }
   ],
   "source": [
    "set(top_urls_dec)"
   ]
  },
  {
   "cell_type": "code",
   "execution_count": 22,
   "id": "bdd14a9b",
   "metadata": {},
   "outputs": [
    {
     "data": {
      "text/plain": [
       "['https://www.latimes.com/entertainment/gossip/la-et-mg-amber-heard-io-tillett-911-call-20160608-snap-story.html',\n",
       " 'https://www.change.org/p/dc-entertainment-remove-amber-heard-from-aquaman-2',\n",
       " 'https://www.truehollywoodtalk.com/amber-heards-story-cyberabuse-inspires-change-public-safety-save-lives/',\n",
       " 'https://www.documentcloud.org/documents/5835867-Amber-Heard-Motion-to-Dismiss.html',\n",
       " 'https://www.change.org/p/warner-brothers-emilia-clarke-to-replace-amber-heard-as-mera-on-aquaman-2?recruiter=1022046125&recruited_by_id=66c03f40-115c-11ea-9eb1-477c88327213&utm_source=share_petition&utm_medium=copylink&utm_campaign=petition_dashboard',\n",
       " 'https://www.change.org/p/we-support-amber-heard-in-aquaman-2-her-life-and-public-safety-to-save-lives',\n",
       " 'https://www.youtube.com/channel/UCjKNc-woAlnxt0H-yJ8RXJg']"
      ]
     },
     "execution_count": 22,
     "metadata": {},
     "output_type": "execute_result"
    }
   ],
   "source": [
    "list(set(top_urls_dec))"
   ]
  },
  {
   "cell_type": "code",
   "execution_count": 23,
   "id": "e1d5aa43",
   "metadata": {},
   "outputs": [],
   "source": [
    "save(list(set(top_urls_dec)), data_path + \"top_urls_dec.txt\")"
   ]
  },
  {
   "cell_type": "code",
   "execution_count": 24,
   "id": "11974ec1",
   "metadata": {},
   "outputs": [
    {
     "data": {
      "text/plain": [
       "['https://www.latimes.com/entertainment/gossip/la-et-mg-amber-heard-io-tillett-911-call-20160608-snap-story.html',\n",
       " 'https://www.change.org/p/dc-entertainment-remove-amber-heard-from-aquaman-2',\n",
       " 'https://www.truehollywoodtalk.com/amber-heards-story-cyberabuse-inspires-change-public-safety-save-lives/',\n",
       " 'https://www.documentcloud.org/documents/5835867-Amber-Heard-Motion-to-Dismiss.html',\n",
       " 'https://www.change.org/p/warner-brothers-emilia-clarke-to-replace-amber-heard-as-mera-on-aquaman-2?recruiter=1022046125&recruited_by_id=66c03f40-115c-11ea-9eb1-477c88327213&utm_source=share_petition&utm_medium=copylink&utm_campaign=petition_dashboard',\n",
       " 'https://www.change.org/p/we-support-amber-heard-in-aquaman-2-her-life-and-public-safety-to-save-lives',\n",
       " 'https://www.youtube.com/channel/UCjKNc-woAlnxt0H-yJ8RXJg']"
      ]
     },
     "execution_count": 24,
     "metadata": {},
     "output_type": "execute_result"
    }
   ],
   "source": [
    "read(data_path + \"top_urls_dec.txt\")"
   ]
  }
 ],
 "metadata": {
  "kernelspec": {
   "display_name": "Python 3 (ipykernel)",
   "language": "python",
   "name": "python3"
  },
  "language_info": {
   "codemirror_mode": {
    "name": "ipython",
    "version": 3
   },
   "file_extension": ".py",
   "mimetype": "text/x-python",
   "name": "python",
   "nbconvert_exporter": "python",
   "pygments_lexer": "ipython3",
   "version": "3.9.7"
  }
 },
 "nbformat": 4,
 "nbformat_minor": 5
}
