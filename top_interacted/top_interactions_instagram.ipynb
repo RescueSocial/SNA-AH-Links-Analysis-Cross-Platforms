{
 "cells": [
  {
   "cell_type": "code",
   "execution_count": 1,
   "id": "01069275",
   "metadata": {},
   "outputs": [],
   "source": [
    "import pandas as pd\n",
    "import json\n",
    "import ast\n",
    "import warnings\n",
    "warnings.filterwarnings(\"ignore\")"
   ]
  },
  {
   "cell_type": "code",
   "execution_count": 2,
   "id": "c75629d2",
   "metadata": {},
   "outputs": [],
   "source": [
    "data_path = \"../../URLs_Data_Filteration/Instagram/\""
   ]
  },
  {
   "cell_type": "code",
   "execution_count": 3,
   "id": "b17dd2c3",
   "metadata": {},
   "outputs": [
    {
     "name": "stdout",
     "output_type": "stream",
     "text": [
      " Volume in drive D has no label.\n",
      " Volume Serial Number is 4623-EF98\n",
      "\n",
      " Directory of D:\\test\\mapbox-android-sample-master\\src\\New folder\\URLs_Data_Filteration\\Instagram\n",
      "\n",
      "01/31/2022  04:25 PM    <DIR>          .\n",
      "01/31/2022  04:25 PM    <DIR>          ..\n",
      "01/30/2022  11:57 AM           128,810 comments_4_months_urls.csv\n",
      "01/30/2022  11:57 AM            11,333 comments_4_months_urls_1_link.csv\n",
      "01/30/2022  11:57 AM            19,641 comments_4_months_urls_1_link_title.csv\n",
      "01/30/2022  11:57 AM             2,058 comments_4_months_urls_more.csv\n",
      "01/30/2022  11:57 AM             5,236 comments_4_months_urls_more_title.csv\n",
      "01/30/2022  11:57 AM           105,151 comments_dec_urls.csv\n",
      "01/30/2022  11:57 AM             6,412 comments_dec_urls_1_link.csv\n",
      "01/30/2022  11:57 AM             1,856 comments_dec_urls_more.csv\n",
      "               8 File(s)        280,497 bytes\n",
      "               2 Dir(s)  42,455,298,048 bytes free\n"
     ]
    }
   ],
   "source": [
    "ls \"../../URLs_Data_Filteration/Instagram\""
   ]
  },
  {
   "cell_type": "code",
   "execution_count": 4,
   "id": "41d96975",
   "metadata": {},
   "outputs": [],
   "source": [
    "def save(set_, filepath):\n",
    "    with open(filepath, 'w') as f:\n",
    "        f.write(json.dumps(set_))\n",
    "\n",
    "def read(filepath):\n",
    "    with open(filepath, 'r') as f:\n",
    "        return json.loads(f.read())"
   ]
  },
  {
   "cell_type": "markdown",
   "id": "ac8bf7d7",
   "metadata": {},
   "source": [
    "## 4 Months"
   ]
  },
  {
   "cell_type": "code",
   "execution_count": 5,
   "id": "3f7ac1db",
   "metadata": {},
   "outputs": [],
   "source": [
    "df_comments_4_months_urls = pd.read_csv(data_path + \"comments_4_months_urls.csv\")"
   ]
  },
  {
   "cell_type": "code",
   "execution_count": 6,
   "id": "50bc4756",
   "metadata": {},
   "outputs": [
    {
     "data": {
      "text/html": [
       "<div>\n",
       "<style scoped>\n",
       "    .dataframe tbody tr th:only-of-type {\n",
       "        vertical-align: middle;\n",
       "    }\n",
       "\n",
       "    .dataframe tbody tr th {\n",
       "        vertical-align: top;\n",
       "    }\n",
       "\n",
       "    .dataframe thead th {\n",
       "        text-align: right;\n",
       "    }\n",
       "</style>\n",
       "<table border=\"1\" class=\"dataframe\">\n",
       "  <thead>\n",
       "    <tr style=\"text-align: right;\">\n",
       "      <th></th>\n",
       "      <th>message</th>\n",
       "      <th>timestamp</th>\n",
       "      <th>id</th>\n",
       "      <th>n_replies</th>\n",
       "      <th>n_likes</th>\n",
       "      <th>media_id</th>\n",
       "      <th>in_reply_to</th>\n",
       "      <th>from.id</th>\n",
       "      <th>from.username</th>\n",
       "      <th>from.is_verified</th>\n",
       "      <th>from.url</th>\n",
       "      <th>from.profile_pic</th>\n",
       "      <th>urls</th>\n",
       "      <th>n_urls</th>\n",
       "    </tr>\n",
       "  </thead>\n",
       "  <tbody>\n",
       "    <tr>\n",
       "      <th>0</th>\n",
       "      <td>Тебя я встретил — и пропал.\\nВ любви к тебе я ...</td>\n",
       "      <td>2021-03-05 13:23:00</td>\n",
       "      <td>1.819656e+16</td>\n",
       "      <td>0.0</td>\n",
       "      <td>0.0</td>\n",
       "      <td>2.522479e+18</td>\n",
       "      <td>NaN</td>\n",
       "      <td>2.702826e+10</td>\n",
       "      <td>mir_o_slav_71</td>\n",
       "      <td>False</td>\n",
       "      <td>https://www.instagram.com/mir_o_slav_71</td>\n",
       "      <td>NaN</td>\n",
       "      <td>['http://lovefond.ru/stihi/o-lyubvi/lyubimoy-d...</td>\n",
       "      <td>1</td>\n",
       "    </tr>\n",
       "  </tbody>\n",
       "</table>\n",
       "</div>"
      ],
      "text/plain": [
       "                                             message            timestamp  \\\n",
       "0  Тебя я встретил — и пропал.\\nВ любви к тебе я ...  2021-03-05 13:23:00   \n",
       "\n",
       "             id  n_replies  n_likes      media_id  in_reply_to       from.id  \\\n",
       "0  1.819656e+16        0.0      0.0  2.522479e+18          NaN  2.702826e+10   \n",
       "\n",
       "   from.username from.is_verified                                 from.url  \\\n",
       "0  mir_o_slav_71            False  https://www.instagram.com/mir_o_slav_71   \n",
       "\n",
       "  from.profile_pic                                               urls  n_urls  \n",
       "0              NaN  ['http://lovefond.ru/stihi/o-lyubvi/lyubimoy-d...       1  "
      ]
     },
     "execution_count": 6,
     "metadata": {},
     "output_type": "execute_result"
    }
   ],
   "source": [
    "df_comments_4_months_urls.head(1)"
   ]
  },
  {
   "cell_type": "code",
   "execution_count": 7,
   "id": "03a6d353",
   "metadata": {},
   "outputs": [
    {
     "data": {
      "text/plain": [
       "Index(['message', 'timestamp', 'id', 'n_replies', 'n_likes', 'media_id',\n",
       "       'in_reply_to', 'from.id', 'from.username', 'from.is_verified',\n",
       "       'from.url', 'from.profile_pic', 'urls', 'n_urls'],\n",
       "      dtype='object')"
      ]
     },
     "execution_count": 7,
     "metadata": {},
     "output_type": "execute_result"
    }
   ],
   "source": [
    "df_comments_4_months_urls.columns"
   ]
  },
  {
   "cell_type": "markdown",
   "id": "928a9642",
   "metadata": {},
   "source": [
    "### Likes"
   ]
  },
  {
   "cell_type": "code",
   "execution_count": 8,
   "id": "d586e1c5",
   "metadata": {},
   "outputs": [
    {
     "data": {
      "text/plain": [
       "count    282.000000\n",
       "mean       7.851064\n",
       "std       56.090285\n",
       "min        0.000000\n",
       "25%        0.000000\n",
       "50%        0.000000\n",
       "75%        1.000000\n",
       "max      827.000000\n",
       "Name: n_likes, dtype: float64"
      ]
     },
     "execution_count": 8,
     "metadata": {},
     "output_type": "execute_result"
    }
   ],
   "source": [
    "df_comments_4_months_urls.n_likes.describe()"
   ]
  },
  {
   "cell_type": "code",
   "execution_count": 9,
   "id": "818f433b",
   "metadata": {},
   "outputs": [
    {
     "data": {
      "text/plain": [
       "7.851063829787234"
      ]
     },
     "execution_count": 9,
     "metadata": {},
     "output_type": "execute_result"
    }
   ],
   "source": [
    "df_comments_4_months_urls.n_likes.mean()"
   ]
  },
  {
   "cell_type": "code",
   "execution_count": 10,
   "id": "3c672499",
   "metadata": {},
   "outputs": [
    {
     "data": {
      "text/plain": [
       "0.0      193\n",
       "1.0       41\n",
       "9.0        6\n",
       "2.0        5\n",
       "23.0       4\n",
       "6.0        4\n",
       "42.0       3\n",
       "30.0       3\n",
       "22.0       3\n",
       "8.0        3\n",
       "7.0        2\n",
       "69.0       2\n",
       "4.0        2\n",
       "3.0        2\n",
       "424.0      1\n",
       "88.0       1\n",
       "50.0       1\n",
       "17.0       1\n",
       "16.0       1\n",
       "5.0        1\n",
       "827.0      1\n",
       "33.0       1\n",
       "61.0       1\n",
       "Name: n_likes, dtype: int64"
      ]
     },
     "execution_count": 10,
     "metadata": {},
     "output_type": "execute_result"
    }
   ],
   "source": [
    "df_comments_4_months_urls.n_likes.value_counts()"
   ]
  },
  {
   "cell_type": "code",
   "execution_count": 11,
   "id": "0179061e",
   "metadata": {},
   "outputs": [
    {
     "data": {
      "text/plain": [
       "282"
      ]
     },
     "execution_count": 11,
     "metadata": {},
     "output_type": "execute_result"
    }
   ],
   "source": [
    "df_comments_4_months_urls.shape[0]"
   ]
  },
  {
   "cell_type": "code",
   "execution_count": 12,
   "id": "2b0f141a",
   "metadata": {},
   "outputs": [],
   "source": [
    "df_comments_4_months_urls_top_likes = df_comments_4_months_urls[df_comments_4_months_urls.n_likes > 0]"
   ]
  },
  {
   "cell_type": "code",
   "execution_count": 13,
   "id": "b5c15aa6",
   "metadata": {},
   "outputs": [],
   "source": [
    "df_comments_4_months_urls_top_likes.sort_values(\"n_likes\", ascending=False, inplace=True)"
   ]
  },
  {
   "cell_type": "code",
   "execution_count": 14,
   "id": "443df568",
   "metadata": {},
   "outputs": [
    {
     "data": {
      "text/html": [
       "<div>\n",
       "<style scoped>\n",
       "    .dataframe tbody tr th:only-of-type {\n",
       "        vertical-align: middle;\n",
       "    }\n",
       "\n",
       "    .dataframe tbody tr th {\n",
       "        vertical-align: top;\n",
       "    }\n",
       "\n",
       "    .dataframe thead th {\n",
       "        text-align: right;\n",
       "    }\n",
       "</style>\n",
       "<table border=\"1\" class=\"dataframe\">\n",
       "  <thead>\n",
       "    <tr style=\"text-align: right;\">\n",
       "      <th></th>\n",
       "      <th>urls</th>\n",
       "      <th>n_likes</th>\n",
       "    </tr>\n",
       "  </thead>\n",
       "  <tbody>\n",
       "    <tr>\n",
       "      <th>63</th>\n",
       "      <td>['https://www.hollywoodreporter.com/news/marve...</td>\n",
       "      <td>827.0</td>\n",
       "    </tr>\n",
       "    <tr>\n",
       "      <th>103</th>\n",
       "      <td>['www.change.org/p/walt-disney-we-want-johnny-...</td>\n",
       "      <td>424.0</td>\n",
       "    </tr>\n",
       "    <tr>\n",
       "      <th>48</th>\n",
       "      <td>['https://www.google.com.br/amp/s/amp.news.com...</td>\n",
       "      <td>88.0</td>\n",
       "    </tr>\n",
       "    <tr>\n",
       "      <th>101</th>\n",
       "      <td>['http://chng.it/r7wxtqT8N9']</td>\n",
       "      <td>69.0</td>\n",
       "    </tr>\n",
       "    <tr>\n",
       "      <th>100</th>\n",
       "      <td>['http://chng.it/9fvfm2mSb4']</td>\n",
       "      <td>69.0</td>\n",
       "    </tr>\n",
       "    <tr>\n",
       "      <th>...</th>\n",
       "      <td>...</td>\n",
       "      <td>...</td>\n",
       "    </tr>\n",
       "    <tr>\n",
       "      <th>174</th>\n",
       "      <td>['https://mailchi.mp/e05adb114afb/pirateslifef...</td>\n",
       "      <td>1.0</td>\n",
       "    </tr>\n",
       "    <tr>\n",
       "      <th>181</th>\n",
       "      <td>['https://www.reserved.com.my/❤❤❤❤❤']</td>\n",
       "      <td>1.0</td>\n",
       "    </tr>\n",
       "    <tr>\n",
       "      <th>192</th>\n",
       "      <td>['https://www.instagram.com/p/CMM11dhjfA5/?igs...</td>\n",
       "      <td>1.0</td>\n",
       "    </tr>\n",
       "    <tr>\n",
       "      <th>124</th>\n",
       "      <td>['https://instagram.com/olga.boo?igshid=x3xxf8...</td>\n",
       "      <td>1.0</td>\n",
       "    </tr>\n",
       "    <tr>\n",
       "      <th>3</th>\n",
       "      <td>['https://youtube.com/channel/UC1aXFVDS7j8Ak-u...</td>\n",
       "      <td>1.0</td>\n",
       "    </tr>\n",
       "  </tbody>\n",
       "</table>\n",
       "<p>63 rows × 2 columns</p>\n",
       "</div>"
      ],
      "text/plain": [
       "                                                  urls  n_likes\n",
       "63   ['https://www.hollywoodreporter.com/news/marve...    827.0\n",
       "103  ['www.change.org/p/walt-disney-we-want-johnny-...    424.0\n",
       "48   ['https://www.google.com.br/amp/s/amp.news.com...     88.0\n",
       "101                      ['http://chng.it/r7wxtqT8N9']     69.0\n",
       "100                      ['http://chng.it/9fvfm2mSb4']     69.0\n",
       "..                                                 ...      ...\n",
       "174  ['https://mailchi.mp/e05adb114afb/pirateslifef...      1.0\n",
       "181              ['https://www.reserved.com.my/❤❤❤❤❤']      1.0\n",
       "192  ['https://www.instagram.com/p/CMM11dhjfA5/?igs...      1.0\n",
       "124  ['https://instagram.com/olga.boo?igshid=x3xxf8...      1.0\n",
       "3    ['https://youtube.com/channel/UC1aXFVDS7j8Ak-u...      1.0\n",
       "\n",
       "[63 rows x 2 columns]"
      ]
     },
     "execution_count": 14,
     "metadata": {},
     "output_type": "execute_result"
    }
   ],
   "source": [
    "df_comments_4_months_urls_top_likes[[\"urls\", \"n_likes\"]][~df_comments_4_months_urls_top_likes[[\"urls\", \"n_likes\"]].duplicated()]"
   ]
  },
  {
   "cell_type": "markdown",
   "id": "5c7546e7",
   "metadata": {},
   "source": [
    "### replies"
   ]
  },
  {
   "cell_type": "code",
   "execution_count": 15,
   "id": "7f85dd61",
   "metadata": {},
   "outputs": [
    {
     "data": {
      "text/plain": [
       "count    173.000000\n",
       "mean       0.046243\n",
       "std        0.236619\n",
       "min        0.000000\n",
       "25%        0.000000\n",
       "50%        0.000000\n",
       "75%        0.000000\n",
       "max        2.000000\n",
       "Name: n_replies, dtype: float64"
      ]
     },
     "execution_count": 15,
     "metadata": {},
     "output_type": "execute_result"
    }
   ],
   "source": [
    "df_comments_4_months_urls.n_replies.describe()"
   ]
  },
  {
   "cell_type": "code",
   "execution_count": 16,
   "id": "6f846ca7",
   "metadata": {},
   "outputs": [
    {
     "data": {
      "text/plain": [
       "0.0    166\n",
       "1.0      6\n",
       "2.0      1\n",
       "Name: n_replies, dtype: int64"
      ]
     },
     "execution_count": 16,
     "metadata": {},
     "output_type": "execute_result"
    }
   ],
   "source": [
    "df_comments_4_months_urls.n_replies.value_counts()"
   ]
  },
  {
   "cell_type": "code",
   "execution_count": 17,
   "id": "61332b58",
   "metadata": {},
   "outputs": [],
   "source": [
    "df_comments_4_months_urls_top_replies = df_comments_4_months_urls[df_comments_4_months_urls.n_replies > 0]"
   ]
  },
  {
   "cell_type": "code",
   "execution_count": 18,
   "id": "43b3962b",
   "metadata": {},
   "outputs": [],
   "source": [
    "df_comments_4_months_urls_top_replies.sort_values(\"n_replies\", ascending=False, inplace=True)"
   ]
  },
  {
   "cell_type": "code",
   "execution_count": 19,
   "id": "bee52d45",
   "metadata": {},
   "outputs": [
    {
     "data": {
      "text/html": [
       "<div>\n",
       "<style scoped>\n",
       "    .dataframe tbody tr th:only-of-type {\n",
       "        vertical-align: middle;\n",
       "    }\n",
       "\n",
       "    .dataframe tbody tr th {\n",
       "        vertical-align: top;\n",
       "    }\n",
       "\n",
       "    .dataframe thead th {\n",
       "        text-align: right;\n",
       "    }\n",
       "</style>\n",
       "<table border=\"1\" class=\"dataframe\">\n",
       "  <thead>\n",
       "    <tr style=\"text-align: right;\">\n",
       "      <th></th>\n",
       "      <th>urls</th>\n",
       "      <th>n_replies</th>\n",
       "    </tr>\n",
       "  </thead>\n",
       "  <tbody>\n",
       "    <tr>\n",
       "      <th>108</th>\n",
       "      <td>['https://www.change.org/p/walt-disney-we-want...</td>\n",
       "      <td>2.0</td>\n",
       "    </tr>\n",
       "    <tr>\n",
       "      <th>80</th>\n",
       "      <td>['https://youtu.be/uretrfMA-Io']</td>\n",
       "      <td>1.0</td>\n",
       "    </tr>\n",
       "    <tr>\n",
       "      <th>85</th>\n",
       "      <td>['http://chng.it/9fvfm2mSb4']</td>\n",
       "      <td>1.0</td>\n",
       "    </tr>\n",
       "    <tr>\n",
       "      <th>163</th>\n",
       "      <td>['https://scontent.feoh1-1.fna.fbcdn.net/v/t1....</td>\n",
       "      <td>1.0</td>\n",
       "    </tr>\n",
       "    <tr>\n",
       "      <th>171</th>\n",
       "      <td>['https://youtu.be/lVhDkUBDQsI']</td>\n",
       "      <td>1.0</td>\n",
       "    </tr>\n",
       "    <tr>\n",
       "      <th>233</th>\n",
       "      <td>['https://www.instagram.com/reel/CNCeoMRFkIt/?...</td>\n",
       "      <td>1.0</td>\n",
       "    </tr>\n",
       "    <tr>\n",
       "      <th>244</th>\n",
       "      <td>['https://youtube.com/user/drannaknabil']</td>\n",
       "      <td>1.0</td>\n",
       "    </tr>\n",
       "  </tbody>\n",
       "</table>\n",
       "</div>"
      ],
      "text/plain": [
       "                                                  urls  n_replies\n",
       "108  ['https://www.change.org/p/walt-disney-we-want...        2.0\n",
       "80                    ['https://youtu.be/uretrfMA-Io']        1.0\n",
       "85                       ['http://chng.it/9fvfm2mSb4']        1.0\n",
       "163  ['https://scontent.feoh1-1.fna.fbcdn.net/v/t1....        1.0\n",
       "171                   ['https://youtu.be/lVhDkUBDQsI']        1.0\n",
       "233  ['https://www.instagram.com/reel/CNCeoMRFkIt/?...        1.0\n",
       "244          ['https://youtube.com/user/drannaknabil']        1.0"
      ]
     },
     "execution_count": 19,
     "metadata": {},
     "output_type": "execute_result"
    }
   ],
   "source": [
    "df_comments_4_months_urls_top_replies[[\"urls\", \"n_replies\"]][~df_comments_4_months_urls_top_replies[[\"urls\", \"n_replies\"]].duplicated()]"
   ]
  },
  {
   "cell_type": "markdown",
   "id": "91ea0a41",
   "metadata": {},
   "source": [
    "## 4 dec"
   ]
  },
  {
   "cell_type": "code",
   "execution_count": 20,
   "id": "624e043c",
   "metadata": {},
   "outputs": [],
   "source": [
    "df_comments_dec_urls = pd.read_csv(data_path + \"comments_dec_urls.csv\")"
   ]
  },
  {
   "cell_type": "code",
   "execution_count": 21,
   "id": "4b67444e",
   "metadata": {},
   "outputs": [
    {
     "data": {
      "text/html": [
       "<div>\n",
       "<style scoped>\n",
       "    .dataframe tbody tr th:only-of-type {\n",
       "        vertical-align: middle;\n",
       "    }\n",
       "\n",
       "    .dataframe tbody tr th {\n",
       "        vertical-align: top;\n",
       "    }\n",
       "\n",
       "    .dataframe thead th {\n",
       "        text-align: right;\n",
       "    }\n",
       "</style>\n",
       "<table border=\"1\" class=\"dataframe\">\n",
       "  <thead>\n",
       "    <tr style=\"text-align: right;\">\n",
       "      <th></th>\n",
       "      <th>message</th>\n",
       "      <th>timestamp</th>\n",
       "      <th>id</th>\n",
       "      <th>n_replies</th>\n",
       "      <th>n_likes</th>\n",
       "      <th>media_id</th>\n",
       "      <th>in_reply_to</th>\n",
       "      <th>from.id</th>\n",
       "      <th>from.username</th>\n",
       "      <th>from.is_verified</th>\n",
       "      <th>from.url</th>\n",
       "      <th>from.profile_pic</th>\n",
       "      <th>urls</th>\n",
       "      <th>n_urls</th>\n",
       "    </tr>\n",
       "  </thead>\n",
       "  <tbody>\n",
       "    <tr>\n",
       "      <th>0</th>\n",
       "      <td>@lmntrix24_7 https://m.ru.armeniasputnik.am/wo...</td>\n",
       "      <td>2020-12-25 05:41:10</td>\n",
       "      <td>1.796951e+16</td>\n",
       "      <td>NaN</td>\n",
       "      <td>2.0</td>\n",
       "      <td>2.469892e+18</td>\n",
       "      <td>1.786325e+16</td>\n",
       "      <td>1.279517e+09</td>\n",
       "      <td>eva_soturi</td>\n",
       "      <td>NaN</td>\n",
       "      <td>https://www.instagram.com/eva_soturi</td>\n",
       "      <td>NaN</td>\n",
       "      <td>['https://m.ru.armeniasputnik.am/world/2020020...</td>\n",
       "      <td>1</td>\n",
       "    </tr>\n",
       "  </tbody>\n",
       "</table>\n",
       "</div>"
      ],
      "text/plain": [
       "                                             message            timestamp  \\\n",
       "0  @lmntrix24_7 https://m.ru.armeniasputnik.am/wo...  2020-12-25 05:41:10   \n",
       "\n",
       "             id  n_replies  n_likes      media_id   in_reply_to       from.id  \\\n",
       "0  1.796951e+16        NaN      2.0  2.469892e+18  1.786325e+16  1.279517e+09   \n",
       "\n",
       "  from.username from.is_verified                              from.url  \\\n",
       "0    eva_soturi              NaN  https://www.instagram.com/eva_soturi   \n",
       "\n",
       "  from.profile_pic                                               urls  n_urls  \n",
       "0              NaN  ['https://m.ru.armeniasputnik.am/world/2020020...       1  "
      ]
     },
     "execution_count": 21,
     "metadata": {},
     "output_type": "execute_result"
    }
   ],
   "source": [
    "df_comments_dec_urls.head(1)"
   ]
  },
  {
   "cell_type": "markdown",
   "id": "a6468d69",
   "metadata": {},
   "source": [
    "### Likes"
   ]
  },
  {
   "cell_type": "code",
   "execution_count": 22,
   "id": "28caf34d",
   "metadata": {},
   "outputs": [
    {
     "data": {
      "text/plain": [
       "count     266.000000\n",
       "mean       17.842105\n",
       "std       140.251948\n",
       "min         0.000000\n",
       "25%         0.000000\n",
       "50%         0.000000\n",
       "75%         2.000000\n",
       "max      2044.000000\n",
       "Name: n_likes, dtype: float64"
      ]
     },
     "execution_count": 22,
     "metadata": {},
     "output_type": "execute_result"
    }
   ],
   "source": [
    "df_comments_dec_urls.n_likes.describe()"
   ]
  },
  {
   "cell_type": "code",
   "execution_count": 23,
   "id": "8559d8c5",
   "metadata": {},
   "outputs": [
    {
     "data": {
      "text/plain": [
       "0.0       148\n",
       "1.0        40\n",
       "2.0        13\n",
       "3.0        11\n",
       "4.0        10\n",
       "5.0         8\n",
       "8.0         7\n",
       "7.0         4\n",
       "27.0        3\n",
       "6.0         2\n",
       "25.0        2\n",
       "10.0        2\n",
       "29.0        2\n",
       "9.0         2\n",
       "23.0        1\n",
       "2044.0      1\n",
       "372.0       1\n",
       "14.0        1\n",
       "43.0        1\n",
       "17.0        1\n",
       "705.0       1\n",
       "537.0       1\n",
       "430.0       1\n",
       "18.0        1\n",
       "20.0        1\n",
       "21.0        1\n",
       "Name: n_likes, dtype: int64"
      ]
     },
     "execution_count": 23,
     "metadata": {},
     "output_type": "execute_result"
    }
   ],
   "source": [
    "df_comments_dec_urls.n_likes.value_counts()"
   ]
  },
  {
   "cell_type": "code",
   "execution_count": 24,
   "id": "57ac1909",
   "metadata": {},
   "outputs": [],
   "source": [
    "df_comments_dec_urls_top_likes = df_comments_dec_urls[df_comments_dec_urls.n_likes > 0]"
   ]
  },
  {
   "cell_type": "code",
   "execution_count": 25,
   "id": "6d8842a8",
   "metadata": {},
   "outputs": [],
   "source": [
    "df_comments_dec_urls_top_likes.sort_values(\"n_likes\", ascending=False, inplace=True)"
   ]
  },
  {
   "cell_type": "code",
   "execution_count": 26,
   "id": "9f03f6e0",
   "metadata": {},
   "outputs": [
    {
     "data": {
      "text/html": [
       "<div>\n",
       "<style scoped>\n",
       "    .dataframe tbody tr th:only-of-type {\n",
       "        vertical-align: middle;\n",
       "    }\n",
       "\n",
       "    .dataframe tbody tr th {\n",
       "        vertical-align: top;\n",
       "    }\n",
       "\n",
       "    .dataframe thead th {\n",
       "        text-align: right;\n",
       "    }\n",
       "</style>\n",
       "<table border=\"1\" class=\"dataframe\">\n",
       "  <thead>\n",
       "    <tr style=\"text-align: right;\">\n",
       "      <th></th>\n",
       "      <th>urls</th>\n",
       "      <th>n_likes</th>\n",
       "    </tr>\n",
       "  </thead>\n",
       "  <tbody>\n",
       "    <tr>\n",
       "      <th>238</th>\n",
       "      <td>['http://chng.it/6FQKFDHkLS']</td>\n",
       "      <td>2044.0</td>\n",
       "    </tr>\n",
       "    <tr>\n",
       "      <th>252</th>\n",
       "      <td>['http://chng.it/6FQKFDHkLS']</td>\n",
       "      <td>705.0</td>\n",
       "    </tr>\n",
       "    <tr>\n",
       "      <th>253</th>\n",
       "      <td>['http://chng.it/cRRfCKcsbm']</td>\n",
       "      <td>537.0</td>\n",
       "    </tr>\n",
       "    <tr>\n",
       "      <th>206</th>\n",
       "      <td>['http://chng.it/6FQKFDHkLS']</td>\n",
       "      <td>430.0</td>\n",
       "    </tr>\n",
       "    <tr>\n",
       "      <th>250</th>\n",
       "      <td>['http://chng.it/6FQKFDHkLS']</td>\n",
       "      <td>372.0</td>\n",
       "    </tr>\n",
       "    <tr>\n",
       "      <th>...</th>\n",
       "      <td>...</td>\n",
       "      <td>...</td>\n",
       "    </tr>\n",
       "    <tr>\n",
       "      <th>114</th>\n",
       "      <td>['https://www.google.com/amp/s/amp.kompas.com/...</td>\n",
       "      <td>1.0</td>\n",
       "    </tr>\n",
       "    <tr>\n",
       "      <th>98</th>\n",
       "      <td>['https://www.google.com/amp/s/www.tvynovelas....</td>\n",
       "      <td>1.0</td>\n",
       "    </tr>\n",
       "    <tr>\n",
       "      <th>91</th>\n",
       "      <td>['https://elpais.com/gente/2020-04-08/johnny-d...</td>\n",
       "      <td>1.0</td>\n",
       "    </tr>\n",
       "    <tr>\n",
       "      <th>95</th>\n",
       "      <td>['https://www.elmundo.es/loc/2020/02/02/5e371b...</td>\n",
       "      <td>1.0</td>\n",
       "    </tr>\n",
       "    <tr>\n",
       "      <th>93</th>\n",
       "      <td>['https://elpais.com/elpais/2020/02/03/gente/1...</td>\n",
       "      <td>1.0</td>\n",
       "    </tr>\n",
       "  </tbody>\n",
       "</table>\n",
       "<p>76 rows × 2 columns</p>\n",
       "</div>"
      ],
      "text/plain": [
       "                                                  urls  n_likes\n",
       "238                      ['http://chng.it/6FQKFDHkLS']   2044.0\n",
       "252                      ['http://chng.it/6FQKFDHkLS']    705.0\n",
       "253                      ['http://chng.it/cRRfCKcsbm']    537.0\n",
       "206                      ['http://chng.it/6FQKFDHkLS']    430.0\n",
       "250                      ['http://chng.it/6FQKFDHkLS']    372.0\n",
       "..                                                 ...      ...\n",
       "114  ['https://www.google.com/amp/s/amp.kompas.com/...      1.0\n",
       "98   ['https://www.google.com/amp/s/www.tvynovelas....      1.0\n",
       "91   ['https://elpais.com/gente/2020-04-08/johnny-d...      1.0\n",
       "95   ['https://www.elmundo.es/loc/2020/02/02/5e371b...      1.0\n",
       "93   ['https://elpais.com/elpais/2020/02/03/gente/1...      1.0\n",
       "\n",
       "[76 rows x 2 columns]"
      ]
     },
     "execution_count": 26,
     "metadata": {},
     "output_type": "execute_result"
    }
   ],
   "source": [
    "df_comments_dec_urls_top_likes[[\"urls\", \"n_likes\"]][~df_comments_dec_urls_top_likes[[\"urls\", \"n_likes\"]].duplicated()]"
   ]
  },
  {
   "cell_type": "markdown",
   "id": "398e908d",
   "metadata": {},
   "source": [
    "### replies"
   ]
  },
  {
   "cell_type": "code",
   "execution_count": 27,
   "id": "fc2244d9",
   "metadata": {},
   "outputs": [
    {
     "data": {
      "text/plain": [
       "count    143.000000\n",
       "mean       0.097902\n",
       "std        0.479358\n",
       "min        0.000000\n",
       "25%        0.000000\n",
       "50%        0.000000\n",
       "75%        0.000000\n",
       "max        4.000000\n",
       "Name: n_replies, dtype: float64"
      ]
     },
     "execution_count": 27,
     "metadata": {},
     "output_type": "execute_result"
    }
   ],
   "source": [
    "df_comments_dec_urls.n_replies.describe()"
   ]
  },
  {
   "cell_type": "code",
   "execution_count": 28,
   "id": "4e732499",
   "metadata": {},
   "outputs": [
    {
     "data": {
      "text/plain": [
       "0.0    136\n",
       "2.0      4\n",
       "1.0      2\n",
       "4.0      1\n",
       "Name: n_replies, dtype: int64"
      ]
     },
     "execution_count": 28,
     "metadata": {},
     "output_type": "execute_result"
    }
   ],
   "source": [
    "df_comments_dec_urls.n_replies.value_counts()"
   ]
  },
  {
   "cell_type": "code",
   "execution_count": 29,
   "id": "80cabdce",
   "metadata": {},
   "outputs": [],
   "source": [
    "df_comments_dec_urls_top_replies = df_comments_dec_urls[df_comments_dec_urls.n_replies > 0]"
   ]
  },
  {
   "cell_type": "code",
   "execution_count": 30,
   "id": "7484cad6",
   "metadata": {},
   "outputs": [],
   "source": [
    "df_comments_dec_urls_top_replies.sort_values(\"n_replies\", ascending=False, inplace=True)"
   ]
  },
  {
   "cell_type": "code",
   "execution_count": 31,
   "id": "506aa9e5",
   "metadata": {},
   "outputs": [
    {
     "data": {
      "text/html": [
       "<div>\n",
       "<style scoped>\n",
       "    .dataframe tbody tr th:only-of-type {\n",
       "        vertical-align: middle;\n",
       "    }\n",
       "\n",
       "    .dataframe tbody tr th {\n",
       "        vertical-align: top;\n",
       "    }\n",
       "\n",
       "    .dataframe thead th {\n",
       "        text-align: right;\n",
       "    }\n",
       "</style>\n",
       "<table border=\"1\" class=\"dataframe\">\n",
       "  <thead>\n",
       "    <tr style=\"text-align: right;\">\n",
       "      <th></th>\n",
       "      <th>urls</th>\n",
       "      <th>n_replies</th>\n",
       "    </tr>\n",
       "  </thead>\n",
       "  <tbody>\n",
       "    <tr>\n",
       "      <th>8</th>\n",
       "      <td>['https://www.change.org/p/dc-entertainment-re...</td>\n",
       "      <td>4.0</td>\n",
       "    </tr>\n",
       "    <tr>\n",
       "      <th>35</th>\n",
       "      <td>['https://youtube.com/channel/UCg0C-N_MPYYOXyF...</td>\n",
       "      <td>2.0</td>\n",
       "    </tr>\n",
       "    <tr>\n",
       "      <th>117</th>\n",
       "      <td>['https://www.amazon.com/gp/product/B08L9RNVBR...</td>\n",
       "      <td>2.0</td>\n",
       "    </tr>\n",
       "    <tr>\n",
       "      <th>152</th>\n",
       "      <td>['http://chng.it/6mQrjqdMDd']</td>\n",
       "      <td>2.0</td>\n",
       "    </tr>\n",
       "    <tr>\n",
       "      <th>242</th>\n",
       "      <td>['www.nrc.no']</td>\n",
       "      <td>2.0</td>\n",
       "    </tr>\n",
       "    <tr>\n",
       "      <th>162</th>\n",
       "      <td>['http://chng.it/zhxsGNvZtx']</td>\n",
       "      <td>1.0</td>\n",
       "    </tr>\n",
       "    <tr>\n",
       "      <th>187</th>\n",
       "      <td>['https://www.change.org/p/dc-entertainment-re...</td>\n",
       "      <td>1.0</td>\n",
       "    </tr>\n",
       "  </tbody>\n",
       "</table>\n",
       "</div>"
      ],
      "text/plain": [
       "                                                  urls  n_replies\n",
       "8    ['https://www.change.org/p/dc-entertainment-re...        4.0\n",
       "35   ['https://youtube.com/channel/UCg0C-N_MPYYOXyF...        2.0\n",
       "117  ['https://www.amazon.com/gp/product/B08L9RNVBR...        2.0\n",
       "152                      ['http://chng.it/6mQrjqdMDd']        2.0\n",
       "242                                     ['www.nrc.no']        2.0\n",
       "162                      ['http://chng.it/zhxsGNvZtx']        1.0\n",
       "187  ['https://www.change.org/p/dc-entertainment-re...        1.0"
      ]
     },
     "execution_count": 31,
     "metadata": {},
     "output_type": "execute_result"
    }
   ],
   "source": [
    "df_comments_dec_urls_top_replies[[\"urls\", \"n_replies\"]][~df_comments_dec_urls_top_replies[[\"urls\", \"n_replies\"]].duplicated()]"
   ]
  }
 ],
 "metadata": {
  "kernelspec": {
   "display_name": "Python 3",
   "language": "python",
   "name": "python3"
  },
  "language_info": {
   "codemirror_mode": {
    "name": "ipython",
    "version": 3
   },
   "file_extension": ".py",
   "mimetype": "text/x-python",
   "name": "python",
   "nbconvert_exporter": "python",
   "pygments_lexer": "ipython3",
   "version": "3.8.8"
  }
 },
 "nbformat": 4,
 "nbformat_minor": 5
}
