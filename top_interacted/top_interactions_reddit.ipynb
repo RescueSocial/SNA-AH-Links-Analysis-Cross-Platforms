{
 "cells": [
  {
   "cell_type": "code",
   "execution_count": 1,
   "id": "01069275",
   "metadata": {},
   "outputs": [],
   "source": [
    "import pandas as pd\n",
    "import json\n",
    "import ast\n",
    "import warnings\n",
    "warnings.filterwarnings(\"ignore\")"
   ]
  },
  {
   "cell_type": "code",
   "execution_count": 2,
   "id": "c75629d2",
   "metadata": {},
   "outputs": [],
   "source": [
    "data_path = \"../../URLs_Data_Filteration/Reddit/\""
   ]
  },
  {
   "cell_type": "code",
   "execution_count": 3,
   "id": "b17dd2c3",
   "metadata": {},
   "outputs": [
    {
     "name": "stdout",
     "output_type": "stream",
     "text": [
      " Volume in drive D has no label.\n",
      " Volume Serial Number is 4623-EF98\n",
      "\n",
      " Directory of D:\\test\\mapbox-android-sample-master\\src\\New folder\\URLs_Data_Filteration\\Reddit\n",
      "\n",
      "01/31/2022  04:25 PM    <DIR>          .\n",
      "01/31/2022  04:25 PM    <DIR>          ..\n",
      "01/20/2022  09:02 AM           686,888 df_reddits_4_months_urls.csv\n",
      "01/20/2022  09:02 AM            19,515 df_reddits_4_months_urls_1_link.csv\n",
      "01/20/2022  09:02 AM            29,381 df_reddits_4_months_urls_more.csv\n",
      "01/20/2022  09:02 AM           438,149 df_reddits_dec_urls.csv\n",
      "01/20/2022  09:02 AM            12,706 df_reddits_dec_urls_1_link.csv\n",
      "01/20/2022  09:02 AM            23,795 df_reddits_dec_urls_more.csv\n",
      "               6 File(s)      1,210,434 bytes\n",
      "               2 Dir(s)  42,454,306,816 bytes free\n"
     ]
    }
   ],
   "source": [
    "ls \"../../URLs_Data_Filteration/Reddit\""
   ]
  },
  {
   "cell_type": "code",
   "execution_count": 4,
   "id": "41d96975",
   "metadata": {},
   "outputs": [],
   "source": [
    "def save(set_, filepath):\n",
    "    with open(filepath, 'w') as f:\n",
    "        f.write(json.dumps(set_))\n",
    "\n",
    "def read(filepath):\n",
    "    with open(filepath, 'r') as f:\n",
    "        return json.loads(f.read())"
   ]
  },
  {
   "cell_type": "markdown",
   "id": "37cfa0cb",
   "metadata": {},
   "source": [
    "# Reddits"
   ]
  },
  {
   "cell_type": "markdown",
   "id": "ac8bf7d7",
   "metadata": {},
   "source": [
    "## 4 Months"
   ]
  },
  {
   "cell_type": "code",
   "execution_count": 6,
   "id": "3f7ac1db",
   "metadata": {},
   "outputs": [],
   "source": [
    "df_comments_4_months_urls = pd.read_csv(data_path + \"df_reddits_4_months_urls.csv\")"
   ]
  },
  {
   "cell_type": "code",
   "execution_count": 7,
   "id": "16db0dc7",
   "metadata": {},
   "outputs": [
    {
     "data": {
      "text/html": [
       "<div>\n",
       "<style scoped>\n",
       "    .dataframe tbody tr th:only-of-type {\n",
       "        vertical-align: middle;\n",
       "    }\n",
       "\n",
       "    .dataframe tbody tr th {\n",
       "        vertical-align: top;\n",
       "    }\n",
       "\n",
       "    .dataframe thead th {\n",
       "        text-align: right;\n",
       "    }\n",
       "</style>\n",
       "<table border=\"1\" class=\"dataframe\">\n",
       "  <thead>\n",
       "    <tr style=\"text-align: right;\">\n",
       "      <th></th>\n",
       "      <th>_index</th>\n",
       "      <th>_type</th>\n",
       "      <th>_id</th>\n",
       "      <th>_score</th>\n",
       "      <th>id</th>\n",
       "      <th>name</th>\n",
       "      <th>permalink</th>\n",
       "      <th>text</th>\n",
       "      <th>parent_id</th>\n",
       "      <th>subreddit</th>\n",
       "      <th>author</th>\n",
       "      <th>created_at</th>\n",
       "      <th>entities.urls</th>\n",
       "      <th>sentiment_blob</th>\n",
       "      <th>sentiment_nltk</th>\n",
       "      <th>urls</th>\n",
       "      <th>n_urls</th>\n",
       "    </tr>\n",
       "  </thead>\n",
       "  <tbody>\n",
       "    <tr>\n",
       "      <th>0</th>\n",
       "      <td>reddit</td>\n",
       "      <td>_doc</td>\n",
       "      <td>Yla2ZnoBZsCJ_ScUHdvG</td>\n",
       "      <td>1.0</td>\n",
       "      <td>glh36zw</td>\n",
       "      <td>t1_glh36zw</td>\n",
       "      <td>/r/TIHI/comments/l9bdw3/thanks_i_hate_johnny_d...</td>\n",
       "      <td>**OP needs help. Also, they hate it because......</td>\n",
       "      <td>t3_l9bdw3</td>\n",
       "      <td>r/TIHI</td>\n",
       "      <td>ThanksIHateClippy</td>\n",
       "      <td>2021-01-31 12:29:47+00:00</td>\n",
       "      <td>[{'display_url': 'https://github.com'}]</td>\n",
       "      <td>Negative</td>\n",
       "      <td>Neutral</td>\n",
       "      <td>['https://github.com/Artraxon/tihibot']</td>\n",
       "      <td>1</td>\n",
       "    </tr>\n",
       "  </tbody>\n",
       "</table>\n",
       "</div>"
      ],
      "text/plain": [
       "   _index _type                   _id  _score       id        name  \\\n",
       "0  reddit  _doc  Yla2ZnoBZsCJ_ScUHdvG     1.0  glh36zw  t1_glh36zw   \n",
       "\n",
       "                                           permalink  \\\n",
       "0  /r/TIHI/comments/l9bdw3/thanks_i_hate_johnny_d...   \n",
       "\n",
       "                                                text  parent_id subreddit  \\\n",
       "0  **OP needs help. Also, they hate it because......  t3_l9bdw3    r/TIHI   \n",
       "\n",
       "              author                 created_at  \\\n",
       "0  ThanksIHateClippy  2021-01-31 12:29:47+00:00   \n",
       "\n",
       "                             entities.urls sentiment_blob sentiment_nltk  \\\n",
       "0  [{'display_url': 'https://github.com'}]       Negative        Neutral   \n",
       "\n",
       "                                      urls  n_urls  \n",
       "0  ['https://github.com/Artraxon/tihibot']       1  "
      ]
     },
     "execution_count": 7,
     "metadata": {},
     "output_type": "execute_result"
    }
   ],
   "source": [
    "df_comments_4_months_urls.head(1)"
   ]
  },
  {
   "cell_type": "code",
   "execution_count": 8,
   "id": "2a4377ad",
   "metadata": {},
   "outputs": [
    {
     "data": {
      "text/plain": [
       "Index(['_index', '_type', '_id', '_score', 'id', 'name', 'permalink', 'text',\n",
       "       'parent_id', 'subreddit', 'author', 'created_at', 'entities.urls',\n",
       "       'sentiment_blob', 'sentiment_nltk', 'urls', 'n_urls'],\n",
       "      dtype='object')"
      ]
     },
     "execution_count": 8,
     "metadata": {},
     "output_type": "execute_result"
    }
   ],
   "source": [
    "df_comments_4_months_urls.columns"
   ]
  },
  {
   "cell_type": "code",
   "execution_count": 10,
   "id": "753b2d0b",
   "metadata": {},
   "outputs": [],
   "source": [
    "df_comments_4_months_urls.rename(\n",
    "    columns={\n",
    "        \"snippet.topLevelComment.snippet.likeCount\": \"n_likes\",\n",
    "        \"snippet.totalReplyCount\": \"n_replies\",\n",
    "    },\n",
    "    inplace=True,\n",
    ")"
   ]
  },
  {
   "cell_type": "markdown",
   "id": "34c2a9c4",
   "metadata": {},
   "source": [
    "### score"
   ]
  },
  {
   "cell_type": "code",
   "execution_count": 9,
   "id": "3cd29da0",
   "metadata": {},
   "outputs": [
    {
     "data": {
      "text/plain": [
       "count    657.0\n",
       "mean       1.0\n",
       "std        0.0\n",
       "min        1.0\n",
       "25%        1.0\n",
       "50%        1.0\n",
       "75%        1.0\n",
       "max        1.0\n",
       "Name: _score, dtype: float64"
      ]
     },
     "execution_count": 9,
     "metadata": {},
     "output_type": "execute_result"
    }
   ],
   "source": [
    "df_comments_4_months_urls._score.describe()"
   ]
  },
  {
   "cell_type": "code",
   "execution_count": 10,
   "id": "9a35045e",
   "metadata": {},
   "outputs": [
    {
     "data": {
      "text/plain": [
       "1.0"
      ]
     },
     "execution_count": 10,
     "metadata": {},
     "output_type": "execute_result"
    }
   ],
   "source": [
    "df_comments_4_months_urls._score.mean()"
   ]
  },
  {
   "cell_type": "markdown",
   "id": "cc53a064",
   "metadata": {},
   "source": [
    "#### ALL SCORES ARE ONES"
   ]
  },
  {
   "cell_type": "code",
   "execution_count": 13,
   "id": "d3d9143d",
   "metadata": {},
   "outputs": [
    {
     "data": {
      "text/plain": [
       "<AxesSubplot:>"
      ]
     },
     "execution_count": 13,
     "metadata": {},
     "output_type": "execute_result"
    },
    {
     "data": {
      "image/png": "[encoded data removed]",
      "text/plain": [
       "<Figure size 432x288 with 1 Axes>"
      ]
     },
     "metadata": {
      "needs_background": "light"
     },
     "output_type": "display_data"
    }
   ],
   "source": [
    "df_comments_4_months_urls._score.plot()"
   ]
  },
  {
   "cell_type": "markdown",
   "id": "16f1d16b",
   "metadata": {},
   "source": [
    "##  dec"
   ]
  },
  {
   "cell_type": "code",
   "execution_count": 14,
   "id": "0b015ceb",
   "metadata": {},
   "outputs": [],
   "source": [
    "df_comments_dec_urls = pd.read_csv(data_path + \"df_reddits_dec_urls.csv\")"
   ]
  },
  {
   "cell_type": "code",
   "execution_count": 15,
   "id": "16d9feb1",
   "metadata": {},
   "outputs": [
    {
     "data": {
      "text/html": [
       "<div>\n",
       "<style scoped>\n",
       "    .dataframe tbody tr th:only-of-type {\n",
       "        vertical-align: middle;\n",
       "    }\n",
       "\n",
       "    .dataframe tbody tr th {\n",
       "        vertical-align: top;\n",
       "    }\n",
       "\n",
       "    .dataframe thead th {\n",
       "        text-align: right;\n",
       "    }\n",
       "</style>\n",
       "<table border=\"1\" class=\"dataframe\">\n",
       "  <thead>\n",
       "    <tr style=\"text-align: right;\">\n",
       "      <th></th>\n",
       "      <th>_index</th>\n",
       "      <th>_type</th>\n",
       "      <th>_id</th>\n",
       "      <th>_score</th>\n",
       "      <th>id</th>\n",
       "      <th>name</th>\n",
       "      <th>permalink</th>\n",
       "      <th>text</th>\n",
       "      <th>parent_id</th>\n",
       "      <th>subreddit</th>\n",
       "      <th>author</th>\n",
       "      <th>created_at</th>\n",
       "      <th>entities.urls</th>\n",
       "      <th>sentiment_blob</th>\n",
       "      <th>sentiment_nltk</th>\n",
       "      <th>urls</th>\n",
       "      <th>n_urls</th>\n",
       "    </tr>\n",
       "  </thead>\n",
       "  <tbody>\n",
       "    <tr>\n",
       "      <th>0</th>\n",
       "      <td>reddit</td>\n",
       "      <td>_doc</td>\n",
       "      <td>KlbLZnoBZsCJ_ScUdu6b</td>\n",
       "      <td>1.0</td>\n",
       "      <td>ghmy7as</td>\n",
       "      <td>t1_ghmy7as</td>\n",
       "      <td>/r/AskReddit/comments/knx3g5/people_who_were_v...</td>\n",
       "      <td>**Attention! [Serious] Tag Notice**\\n\\n* Jokes...</td>\n",
       "      <td>t3_knx3g5</td>\n",
       "      <td>r/AskReddit</td>\n",
       "      <td>AutoModerator</td>\n",
       "      <td>2020-12-31 20:09:48+00:00</td>\n",
       "      <td>[{'display_url': 'https://www.rainn.org'}, {'d...</td>\n",
       "      <td>Positive</td>\n",
       "      <td>Neutral</td>\n",
       "      <td>['https://www.rainn.org/about-national-sexual-...</td>\n",
       "      <td>6</td>\n",
       "    </tr>\n",
       "  </tbody>\n",
       "</table>\n",
       "</div>"
      ],
      "text/plain": [
       "   _index _type                   _id  _score       id        name  \\\n",
       "0  reddit  _doc  KlbLZnoBZsCJ_ScUdu6b     1.0  ghmy7as  t1_ghmy7as   \n",
       "\n",
       "                                           permalink  \\\n",
       "0  /r/AskReddit/comments/knx3g5/people_who_were_v...   \n",
       "\n",
       "                                                text  parent_id    subreddit  \\\n",
       "0  **Attention! [Serious] Tag Notice**\\n\\n* Jokes...  t3_knx3g5  r/AskReddit   \n",
       "\n",
       "          author                 created_at  \\\n",
       "0  AutoModerator  2020-12-31 20:09:48+00:00   \n",
       "\n",
       "                                       entities.urls sentiment_blob  \\\n",
       "0  [{'display_url': 'https://www.rainn.org'}, {'d...       Positive   \n",
       "\n",
       "  sentiment_nltk                                               urls  n_urls  \n",
       "0        Neutral  ['https://www.rainn.org/about-national-sexual-...       6  "
      ]
     },
     "execution_count": 15,
     "metadata": {},
     "output_type": "execute_result"
    }
   ],
   "source": [
    "df_comments_dec_urls.head(1)"
   ]
  },
  {
   "cell_type": "markdown",
   "id": "9dad8b54",
   "metadata": {},
   "source": [
    "### Likes"
   ]
  },
  {
   "cell_type": "code",
   "execution_count": 16,
   "id": "bb529318",
   "metadata": {},
   "outputs": [
    {
     "data": {
      "text/plain": [
       "count    412.0\n",
       "mean       1.0\n",
       "std        0.0\n",
       "min        1.0\n",
       "25%        1.0\n",
       "50%        1.0\n",
       "75%        1.0\n",
       "max        1.0\n",
       "Name: _score, dtype: float64"
      ]
     },
     "execution_count": 16,
     "metadata": {},
     "output_type": "execute_result"
    }
   ],
   "source": [
    "df_comments_dec_urls._score.describe()"
   ]
  }
 ],
 "metadata": {
  "kernelspec": {
   "display_name": "Python 3",
   "language": "python",
   "name": "python3"
  },
  "language_info": {
   "codemirror_mode": {
    "name": "ipython",
    "version": 3
   },
   "file_extension": ".py",
   "mimetype": "text/x-python",
   "name": "python",
   "nbconvert_exporter": "python",
   "pygments_lexer": "ipython3",
   "version": "3.8.8"
  }
 },
 "nbformat": 4,
 "nbformat_minor": 5
}
