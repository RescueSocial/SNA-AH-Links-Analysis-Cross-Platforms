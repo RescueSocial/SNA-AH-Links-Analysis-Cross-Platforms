{
 "cells": [
  {
   "cell_type": "code",
   "execution_count": 5,
   "id": "01069275",
   "metadata": {},
   "outputs": [],
   "source": [
    "import pandas as pd\n",
    "import json\n",
    "import ast\n",
    "import warnings\n",
    "from ast import literal_eval as le\n",
    "\n",
    "warnings.filterwarnings(\"ignore\")\n",
    "import requests\n",
    "import pandas as pd\n",
    "import urlexpander\n",
    "\n",
    "\n",
    "def unshorten(url):\n",
    "    if \"http\" not in url:\n",
    "        url = \"http://\" + url\n",
    "\n",
    "    try:\n",
    "        short = urlexpander.expand(url)\n",
    "    except:\n",
    "        short = url\n",
    "\n",
    "    if \"_ERROR__\" in short:\n",
    "        return url\n",
    "    else:\n",
    "        return short\n",
    "\n",
    "\n",
    "def one_url_df(df, column=\"n_urls\", urls=\"urls\"):\n",
    "    df = df[df[column] == 1]\n",
    "    df[urls] = df[urls].apply(lambda x: x[0])\n",
    "    return df\n",
    "\n",
    "\n",
    "def more_url_df(df, interaction, n=\"n_urls\", urls=\"urls\"):\n",
    "    df = df[df[n] > 1]\n",
    "    temp = []\n",
    "    for i in df.iterrows():\n",
    "\n",
    "        row = i[1].to_dict()\n",
    "        for url in row[urls]:\n",
    "            temp.append((url, row[interaction], row[n]))\n",
    "    return (\n",
    "        pd.DataFrame(temp)\n",
    "        .drop_duplicates()\n",
    "        .rename(columns={0: urls, 1: interaction, 2: n})\n",
    "    )"
   ]
  },
  {
   "cell_type": "code",
   "execution_count": 6,
   "id": "c75629d2",
   "metadata": {},
   "outputs": [],
   "source": [
    "data_path = \"../../URLs_Data_Filteration/Youtube/\""
   ]
  },
  {
   "cell_type": "code",
   "execution_count": 7,
   "id": "b17dd2c3",
   "metadata": {},
   "outputs": [
    {
     "name": "stdout",
     "output_type": "stream",
     "text": [
      " Volume in drive G is Essentials\n",
      " Volume Serial Number is 7063-374D\n",
      "\n",
      " Directory of G:\\Freelance\\Christina\\URLs_Data_Filteration\\Youtube\n",
      "\n",
      "01/30/2022  01:42 PM    <DIR>          .\n",
      "01/30/2022  01:42 PM    <DIR>          ..\n",
      "01/19/2022  10:58 AM         2,735,132 df_comments_4_months_urls.csv\n",
      "01/19/2022  10:58 AM            34,044 df_comments_4_months_urls_1_link.csv\n",
      "01/19/2022  10:58 AM             6,974 df_comments_4_months_urls_more.csv\n",
      "01/19/2022  10:58 AM           780,678 df_comments_dec_urls.csv\n",
      "01/19/2022  10:58 AM            22,802 df_comments_dec_urls_1_link.csv\n",
      "01/19/2022  10:58 AM             6,732 df_comments_dec_urls_more.csv\n",
      "01/19/2022  09:54 AM         2,635,949 df_videos_4_months_urls.csv\n",
      "01/19/2022  10:58 AM             2,798 df_videos_4_months_urls_1_link.csv\n",
      "01/19/2022  10:58 AM            72,940 df_videos_4_months_urls_more.csv\n",
      "01/19/2022  10:58 AM         2,136,554 df_videos_dec_urls.csv\n",
      "01/19/2022  10:58 AM             2,408 df_videos_dec_urls_1_link.csv\n",
      "01/19/2022  10:58 AM            98,756 df_videos_dec_urls_more.csv\n",
      "01/19/2022  10:58 AM         2,635,949 df_videos_urls_4_months.csv\n",
      "01/26/2022  01:20 PM         3,457,019 YouTube Videos Created Data_Dec20ToApr21.csv\n",
      "              14 File(s)     14,628,735 bytes\n",
      "               2 Dir(s)  136,072,003,584 bytes free\n"
     ]
    }
   ],
   "source": [
    "ls \"../../URLs_Data_Filteration/Youtube\""
   ]
  },
  {
   "cell_type": "markdown",
   "id": "37cfa0cb",
   "metadata": {},
   "source": [
    "# Comments"
   ]
  },
  {
   "cell_type": "markdown",
   "id": "ac8bf7d7",
   "metadata": {},
   "source": [
    "## 4 Months"
   ]
  },
  {
   "cell_type": "code",
   "execution_count": 4,
   "id": "3f7ac1db",
   "metadata": {},
   "outputs": [],
   "source": [
    "df_comments_4_months_urls = pd.read_csv(data_path + \"df_comments_4_months_urls.csv\")"
   ]
  },
  {
   "cell_type": "code",
   "execution_count": 5,
   "id": "16db0dc7",
   "metadata": {},
   "outputs": [
    {
     "data": {
      "text/html": [
       "<div>\n",
       "<style scoped>\n",
       "    .dataframe tbody tr th:only-of-type {\n",
       "        vertical-align: middle;\n",
       "    }\n",
       "\n",
       "    .dataframe tbody tr th {\n",
       "        vertical-align: top;\n",
       "    }\n",
       "\n",
       "    .dataframe thead th {\n",
       "        text-align: right;\n",
       "    }\n",
       "</style>\n",
       "<table border=\"1\" class=\"dataframe\">\n",
       "  <thead>\n",
       "    <tr style=\"text-align: right;\">\n",
       "      <th></th>\n",
       "      <th>Unnamed: 0</th>\n",
       "      <th>kind</th>\n",
       "      <th>etag</th>\n",
       "      <th>id</th>\n",
       "      <th>snippet.videoId</th>\n",
       "      <th>snippet.topLevelComment.kind</th>\n",
       "      <th>snippet.topLevelComment.etag</th>\n",
       "      <th>snippet.topLevelComment.id</th>\n",
       "      <th>snippet.topLevelComment.snippet.videoId</th>\n",
       "      <th>snippet.topLevelComment.snippet.textDisplay</th>\n",
       "      <th>...</th>\n",
       "      <th>snippet.topLevelComment.snippet.likeCount</th>\n",
       "      <th>snippet.topLevelComment.snippet.publishedAt</th>\n",
       "      <th>snippet.topLevelComment.snippet.updatedAt</th>\n",
       "      <th>snippet.canReply</th>\n",
       "      <th>snippet.totalReplyCount</th>\n",
       "      <th>snippet.isPublic</th>\n",
       "      <th>replies.comments</th>\n",
       "      <th>snippet.topLevelComment.snippet.moderationStatus</th>\n",
       "      <th>urls</th>\n",
       "      <th>n_urls</th>\n",
       "    </tr>\n",
       "  </thead>\n",
       "  <tbody>\n",
       "    <tr>\n",
       "      <th>0</th>\n",
       "      <td>246.0</td>\n",
       "      <td>youtube#commentThread</td>\n",
       "      <td>qdoqrw3cE0__VDupjhlNX__WB70</td>\n",
       "      <td>UgzMkTI7AmxUZWcWj5B4AaABAg</td>\n",
       "      <td>QBCEXSVjBrM</td>\n",
       "      <td>youtube#comment</td>\n",
       "      <td>A_cfWgYhmBQ9QUCuztUvQz2_KWg</td>\n",
       "      <td>UgzMkTI7AmxUZWcWj5B4AaABAg</td>\n",
       "      <td>QBCEXSVjBrM</td>\n",
       "      <td>&lt;a href=\"https://youtu.be/mw3IiyXZJds\"&gt;https:/...</td>\n",
       "      <td>...</td>\n",
       "      <td>0.0</td>\n",
       "      <td>2021-02-03 16:34:18+00:00</td>\n",
       "      <td>2021-02-03T16:34:18Z</td>\n",
       "      <td>True</td>\n",
       "      <td>0.0</td>\n",
       "      <td>True</td>\n",
       "      <td>NaN</td>\n",
       "      <td>NaN</td>\n",
       "      <td>['https://youtu.be/mw3IiyXZJds']</td>\n",
       "      <td>1</td>\n",
       "    </tr>\n",
       "  </tbody>\n",
       "</table>\n",
       "<p>1 rows × 27 columns</p>\n",
       "</div>"
      ],
      "text/plain": [
       "   Unnamed: 0                   kind                         etag  \\\n",
       "0       246.0  youtube#commentThread  qdoqrw3cE0__VDupjhlNX__WB70   \n",
       "\n",
       "                           id snippet.videoId snippet.topLevelComment.kind  \\\n",
       "0  UgzMkTI7AmxUZWcWj5B4AaABAg     QBCEXSVjBrM              youtube#comment   \n",
       "\n",
       "  snippet.topLevelComment.etag  snippet.topLevelComment.id  \\\n",
       "0  A_cfWgYhmBQ9QUCuztUvQz2_KWg  UgzMkTI7AmxUZWcWj5B4AaABAg   \n",
       "\n",
       "  snippet.topLevelComment.snippet.videoId  \\\n",
       "0                             QBCEXSVjBrM   \n",
       "\n",
       "         snippet.topLevelComment.snippet.textDisplay  ...  \\\n",
       "0  <a href=\"https://youtu.be/mw3IiyXZJds\">https:/...  ...   \n",
       "\n",
       "  snippet.topLevelComment.snippet.likeCount  \\\n",
       "0                                       0.0   \n",
       "\n",
       "  snippet.topLevelComment.snippet.publishedAt  \\\n",
       "0                   2021-02-03 16:34:18+00:00   \n",
       "\n",
       "  snippet.topLevelComment.snippet.updatedAt snippet.canReply  \\\n",
       "0                      2021-02-03T16:34:18Z             True   \n",
       "\n",
       "  snippet.totalReplyCount  snippet.isPublic replies.comments  \\\n",
       "0                     0.0              True              NaN   \n",
       "\n",
       "   snippet.topLevelComment.snippet.moderationStatus  \\\n",
       "0                                               NaN   \n",
       "\n",
       "                               urls n_urls  \n",
       "0  ['https://youtu.be/mw3IiyXZJds']      1  \n",
       "\n",
       "[1 rows x 27 columns]"
      ]
     },
     "execution_count": 5,
     "metadata": {},
     "output_type": "execute_result"
    }
   ],
   "source": [
    "df_comments_4_months_urls.head(1)"
   ]
  },
  {
   "cell_type": "code",
   "execution_count": 6,
   "id": "2a4377ad",
   "metadata": {},
   "outputs": [
    {
     "data": {
      "text/plain": [
       "Index(['Unnamed: 0', 'kind', 'etag', 'id', 'snippet.videoId',\n",
       "       'snippet.topLevelComment.kind', 'snippet.topLevelComment.etag',\n",
       "       'snippet.topLevelComment.id', 'snippet.topLevelComment.snippet.videoId',\n",
       "       'snippet.topLevelComment.snippet.textDisplay',\n",
       "       'snippet.topLevelComment.snippet.textOriginal',\n",
       "       'snippet.topLevelComment.snippet.authorDisplayName',\n",
       "       'snippet.topLevelComment.snippet.authorProfileImageUrl',\n",
       "       'snippet.topLevelComment.snippet.authorChannelUrl',\n",
       "       'snippet.topLevelComment.snippet.authorChannelId.value',\n",
       "       'snippet.topLevelComment.snippet.canRate',\n",
       "       'snippet.topLevelComment.snippet.viewerRating',\n",
       "       'snippet.topLevelComment.snippet.likeCount',\n",
       "       'snippet.topLevelComment.snippet.publishedAt',\n",
       "       'snippet.topLevelComment.snippet.updatedAt', 'snippet.canReply',\n",
       "       'snippet.totalReplyCount', 'snippet.isPublic', 'replies.comments',\n",
       "       'snippet.topLevelComment.snippet.moderationStatus', 'urls', 'n_urls'],\n",
       "      dtype='object')"
      ]
     },
     "execution_count": 6,
     "metadata": {},
     "output_type": "execute_result"
    }
   ],
   "source": [
    "df_comments_4_months_urls.columns"
   ]
  },
  {
   "cell_type": "code",
   "execution_count": 7,
   "id": "753b2d0b",
   "metadata": {},
   "outputs": [],
   "source": [
    "df_comments_4_months_urls.rename(\n",
    "    columns={\n",
    "        \"snippet.topLevelComment.snippet.likeCount\": \"n_likes\",\n",
    "        \"snippet.totalReplyCount\": \"n_replies\",\n",
    "    },\n",
    "    inplace=True,\n",
    ")"
   ]
  },
  {
   "cell_type": "markdown",
   "id": "34c2a9c4",
   "metadata": {},
   "source": [
    "### Likes"
   ]
  },
  {
   "cell_type": "code",
   "execution_count": 8,
   "id": "3cd29da0",
   "metadata": {},
   "outputs": [
    {
     "data": {
      "text/plain": [
       "count    1065.000000\n",
       "mean        8.918310\n",
       "std        76.149486\n",
       "min         0.000000\n",
       "25%         0.000000\n",
       "50%         0.000000\n",
       "75%         2.000000\n",
       "max      2174.000000\n",
       "Name: n_likes, dtype: float64"
      ]
     },
     "execution_count": 8,
     "metadata": {},
     "output_type": "execute_result"
    }
   ],
   "source": [
    "df_comments_4_months_urls.n_likes.describe()"
   ]
  },
  {
   "cell_type": "code",
   "execution_count": 9,
   "id": "9a35045e",
   "metadata": {},
   "outputs": [
    {
     "data": {
      "text/plain": [
       "8.91830985915493"
      ]
     },
     "execution_count": 9,
     "metadata": {},
     "output_type": "execute_result"
    }
   ],
   "source": [
    "df_comments_4_months_urls.n_likes.mean()"
   ]
  },
  {
   "cell_type": "code",
   "execution_count": 10,
   "id": "659a4b20",
   "metadata": {},
   "outputs": [
    {
     "data": {
      "image/png": "[encoded data removed]",
      "text/plain": [
       "<Figure size 432x288 with 1 Axes>"
      ]
     },
     "metadata": {
      "needs_background": "light"
     },
     "output_type": "display_data"
    }
   ],
   "source": [
    "df_comments_4_months_urls.n_likes.plot();"
   ]
  },
  {
   "cell_type": "code",
   "execution_count": 11,
   "id": "87581a79",
   "metadata": {},
   "outputs": [
    {
     "data": {
      "text/plain": [
       "1065"
      ]
     },
     "execution_count": 11,
     "metadata": {},
     "output_type": "execute_result"
    }
   ],
   "source": [
    "df_comments_4_months_urls.shape[0]"
   ]
  },
  {
   "cell_type": "code",
   "execution_count": 12,
   "id": "2bcccba7",
   "metadata": {},
   "outputs": [],
   "source": [
    "df_comments_4_months_urls_top_likes = df_comments_4_months_urls[df_comments_4_months_urls.n_likes > 0]"
   ]
  },
  {
   "cell_type": "code",
   "execution_count": 13,
   "id": "8fe12ce5",
   "metadata": {},
   "outputs": [],
   "source": [
    "df_comments_4_months_urls_top_likes.sort_values(\"n_likes\", ascending=False, inplace=True)"
   ]
  },
  {
   "cell_type": "code",
   "execution_count": 14,
   "id": "a3a7aab4",
   "metadata": {},
   "outputs": [
    {
     "data": {
      "text/html": [
       "<div>\n",
       "<style scoped>\n",
       "    .dataframe tbody tr th:only-of-type {\n",
       "        vertical-align: middle;\n",
       "    }\n",
       "\n",
       "    .dataframe tbody tr th {\n",
       "        vertical-align: top;\n",
       "    }\n",
       "\n",
       "    .dataframe thead th {\n",
       "        text-align: right;\n",
       "    }\n",
       "</style>\n",
       "<table border=\"1\" class=\"dataframe\">\n",
       "  <thead>\n",
       "    <tr style=\"text-align: right;\">\n",
       "      <th></th>\n",
       "      <th>urls</th>\n",
       "      <th>n_likes</th>\n",
       "    </tr>\n",
       "  </thead>\n",
       "  <tbody>\n",
       "    <tr>\n",
       "      <th>25</th>\n",
       "      <td>['https://youtu.be/Axcjv9YqYns']</td>\n",
       "      <td>2174.0</td>\n",
       "    </tr>\n",
       "    <tr>\n",
       "      <th>200</th>\n",
       "      <td>['https://youtu.be/dJe8bl_BLDE']</td>\n",
       "      <td>644.0</td>\n",
       "    </tr>\n",
       "    <tr>\n",
       "      <th>199</th>\n",
       "      <td>['https://ko-fi.com/irisbabilonia']</td>\n",
       "      <td>509.0</td>\n",
       "    </tr>\n",
       "    <tr>\n",
       "      <th>24</th>\n",
       "      <td>['https://www.change.org/p/dc-entertainment-re...</td>\n",
       "      <td>409.0</td>\n",
       "    </tr>\n",
       "    <tr>\n",
       "      <th>392</th>\n",
       "      <td>['https://www.youtube.com/watch?v=xCe6qh5kZ8Q']</td>\n",
       "      <td>408.0</td>\n",
       "    </tr>\n",
       "    <tr>\n",
       "      <th>...</th>\n",
       "      <td>...</td>\n",
       "      <td>...</td>\n",
       "    </tr>\n",
       "    <tr>\n",
       "      <th>448</th>\n",
       "      <td>['https://youtu.be/bZB7ThLyqUI']</td>\n",
       "      <td>1.0</td>\n",
       "    </tr>\n",
       "    <tr>\n",
       "      <th>485</th>\n",
       "      <td>['https://youtu.be/4I89OaDq5Zg']</td>\n",
       "      <td>1.0</td>\n",
       "    </tr>\n",
       "    <tr>\n",
       "      <th>477</th>\n",
       "      <td>['https://youtu.be/_IHmrsTqmmo']</td>\n",
       "      <td>1.0</td>\n",
       "    </tr>\n",
       "    <tr>\n",
       "      <th>453</th>\n",
       "      <td>['https://youtube.com/channel/UCRcoEhdSF5Lrf6R...</td>\n",
       "      <td>1.0</td>\n",
       "    </tr>\n",
       "    <tr>\n",
       "      <th>1063</th>\n",
       "      <td>['https://youtube.com/playlist?list=PL0zUoY_CX...</td>\n",
       "      <td>1.0</td>\n",
       "    </tr>\n",
       "  </tbody>\n",
       "</table>\n",
       "<p>388 rows × 2 columns</p>\n",
       "</div>"
      ],
      "text/plain": [
       "                                                   urls  n_likes\n",
       "25                     ['https://youtu.be/Axcjv9YqYns']   2174.0\n",
       "200                    ['https://youtu.be/dJe8bl_BLDE']    644.0\n",
       "199                 ['https://ko-fi.com/irisbabilonia']    509.0\n",
       "24    ['https://www.change.org/p/dc-entertainment-re...    409.0\n",
       "392     ['https://www.youtube.com/watch?v=xCe6qh5kZ8Q']    408.0\n",
       "...                                                 ...      ...\n",
       "448                    ['https://youtu.be/bZB7ThLyqUI']      1.0\n",
       "485                    ['https://youtu.be/4I89OaDq5Zg']      1.0\n",
       "477                    ['https://youtu.be/_IHmrsTqmmo']      1.0\n",
       "453   ['https://youtube.com/channel/UCRcoEhdSF5Lrf6R...      1.0\n",
       "1063  ['https://youtube.com/playlist?list=PL0zUoY_CX...      1.0\n",
       "\n",
       "[388 rows x 2 columns]"
      ]
     },
     "execution_count": 14,
     "metadata": {},
     "output_type": "execute_result"
    }
   ],
   "source": [
    "df_comments_4_months_urls_top_likes[[\"urls\", \"n_likes\"]][~df_comments_4_months_urls_top_likes[[\"urls\", \"n_likes\"]].duplicated()]"
   ]
  },
  {
   "cell_type": "code",
   "execution_count": 15,
   "id": "fa60361d",
   "metadata": {},
   "outputs": [],
   "source": [
    "df_comments_4_months_urls_top_likes = df_comments_4_months_urls_top_likes[\n",
    "    [\"urls\", \"n_likes\"]\n",
    "][~df_comments_4_months_urls_top_likes[[\"urls\", \"n_likes\"]].duplicated()]"
   ]
  },
  {
   "cell_type": "code",
   "execution_count": 16,
   "id": "100b72f1",
   "metadata": {},
   "outputs": [],
   "source": [
    "df_comments_4_months_urls_top_likes[\"n_urls\"] = df_comments_4_months_urls_top_likes.urls.apply(lambda x: len(le(x)))\n",
    "df_comments_4_months_urls_top_likes[\"urls\"] = df_comments_4_months_urls_top_likes.urls.apply(lambda x: le(x))"
   ]
  },
  {
   "cell_type": "code",
   "execution_count": 17,
   "id": "3ae15576",
   "metadata": {},
   "outputs": [
    {
     "data": {
      "text/html": [
       "<div>\n",
       "<style scoped>\n",
       "    .dataframe tbody tr th:only-of-type {\n",
       "        vertical-align: middle;\n",
       "    }\n",
       "\n",
       "    .dataframe tbody tr th {\n",
       "        vertical-align: top;\n",
       "    }\n",
       "\n",
       "    .dataframe thead th {\n",
       "        text-align: right;\n",
       "    }\n",
       "</style>\n",
       "<table border=\"1\" class=\"dataframe\">\n",
       "  <thead>\n",
       "    <tr style=\"text-align: right;\">\n",
       "      <th></th>\n",
       "      <th>urls</th>\n",
       "      <th>n_likes</th>\n",
       "      <th>n_urls</th>\n",
       "    </tr>\n",
       "  </thead>\n",
       "  <tbody>\n",
       "    <tr>\n",
       "      <th>25</th>\n",
       "      <td>[https://youtu.be/Axcjv9YqYns]</td>\n",
       "      <td>2174.0</td>\n",
       "      <td>1</td>\n",
       "    </tr>\n",
       "    <tr>\n",
       "      <th>200</th>\n",
       "      <td>[https://youtu.be/dJe8bl_BLDE]</td>\n",
       "      <td>644.0</td>\n",
       "      <td>1</td>\n",
       "    </tr>\n",
       "  </tbody>\n",
       "</table>\n",
       "</div>"
      ],
      "text/plain": [
       "                               urls  n_likes  n_urls\n",
       "25   [https://youtu.be/Axcjv9YqYns]   2174.0       1\n",
       "200  [https://youtu.be/dJe8bl_BLDE]    644.0       1"
      ]
     },
     "execution_count": 17,
     "metadata": {},
     "output_type": "execute_result"
    }
   ],
   "source": [
    "df_comments_4_months_urls_top_likes.head(2)"
   ]
  },
  {
   "cell_type": "code",
   "execution_count": 18,
   "id": "e5f28409",
   "metadata": {},
   "outputs": [],
   "source": [
    "df_comments_4_months_urls_top_likes_one = df_comments_4_months_urls_top_likes[df_comments_4_months_urls_top_likes.n_urls == 1]"
   ]
  },
  {
   "cell_type": "code",
   "execution_count": 19,
   "id": "85f8b486",
   "metadata": {},
   "outputs": [],
   "source": [
    "df_comments_4_months_urls_top_likes_one[\"urls\"] = df_comments_4_months_urls_top_likes_one[\"urls\"].apply(lambda x: x[0])"
   ]
  },
  {
   "cell_type": "code",
   "execution_count": 21,
   "id": "7f070951",
   "metadata": {},
   "outputs": [
    {
     "data": {
      "text/html": [
       "<div>\n",
       "<style scoped>\n",
       "    .dataframe tbody tr th:only-of-type {\n",
       "        vertical-align: middle;\n",
       "    }\n",
       "\n",
       "    .dataframe tbody tr th {\n",
       "        vertical-align: top;\n",
       "    }\n",
       "\n",
       "    .dataframe thead th {\n",
       "        text-align: right;\n",
       "    }\n",
       "</style>\n",
       "<table border=\"1\" class=\"dataframe\">\n",
       "  <thead>\n",
       "    <tr style=\"text-align: right;\">\n",
       "      <th></th>\n",
       "      <th>urls</th>\n",
       "      <th>n_likes</th>\n",
       "      <th>n_urls</th>\n",
       "    </tr>\n",
       "  </thead>\n",
       "  <tbody>\n",
       "    <tr>\n",
       "      <th>25</th>\n",
       "      <td>https://youtu.be/Axcjv9YqYns</td>\n",
       "      <td>2174.0</td>\n",
       "      <td>1</td>\n",
       "    </tr>\n",
       "    <tr>\n",
       "      <th>200</th>\n",
       "      <td>https://youtu.be/dJe8bl_BLDE</td>\n",
       "      <td>644.0</td>\n",
       "      <td>1</td>\n",
       "    </tr>\n",
       "  </tbody>\n",
       "</table>\n",
       "</div>"
      ],
      "text/plain": [
       "                             urls  n_likes  n_urls\n",
       "25   https://youtu.be/Axcjv9YqYns   2174.0       1\n",
       "200  https://youtu.be/dJe8bl_BLDE    644.0       1"
      ]
     },
     "execution_count": 21,
     "metadata": {},
     "output_type": "execute_result"
    }
   ],
   "source": [
    "df_comments_4_months_urls_top_likes_one.head(2)"
   ]
  },
  {
   "cell_type": "code",
   "execution_count": 22,
   "id": "ed4be247",
   "metadata": {},
   "outputs": [],
   "source": [
    "df_comments_4_months_urls_top_likes_more = df_comments_4_months_urls_top_likes[df_comments_4_months_urls_top_likes.n_urls > 1]"
   ]
  },
  {
   "cell_type": "code",
   "execution_count": 23,
   "id": "470c8f38",
   "metadata": {},
   "outputs": [],
   "source": [
    "list_comments_4_months_urls_top_likes_more = []\n",
    "for i in df_comments_4_months_urls_top_likes_more.iterrows():\n",
    "    row = i[1].to_dict()\n",
    "    for url in row[\"urls\"]:\n",
    "        list_comments_4_months_urls_top_likes_more.append(\n",
    "            (url, row[\"n_likes\"], row[\"n_urls\"])\n",
    "        )"
   ]
  },
  {
   "cell_type": "code",
   "execution_count": 24,
   "id": "d0a14e6b",
   "metadata": {},
   "outputs": [
    {
     "data": {
      "text/plain": [
       "[('https://www.bit.ly/valenentropia', 210.0, 2),\n",
       " ('https://www.bit.ly/valenentropia', 210.0, 2),\n",
       " ('https://t.co/yWkf2d2APp?amp=1', 111.0, 7),\n",
       " ('https://referral.rumble.com/dszVtP5hNXYLXqL89', 111.0, 7),\n",
       " ('https://www.youtube.com/channel/UCt4dtZ67qO3xWQSImQjRnJA', 111.0, 7),\n",
       " ('https://www.bitchute.com/channel/a3WbPaAzRKWN/', 111.0, 7),\n",
       " ('https://www.youtube.com/channel/UC8AGq7bm-x4teGcvQonvnPw/join', 111.0, 7),\n",
       " ('https://www.patreon.com/user?u=21542407', 111.0, 7),\n",
       " ('https://www.subscribestar.com/nerdettesnewsstand', 111.0, 7),\n",
       " ('https://lbry.tv/@NerdettesNewsStand:7', 66.0, 7),\n",
       " ('https://referral.rumble.com/dszVtP5hNXYLXqL89', 66.0, 7),\n",
       " ('https://www.youtube.com/channel/UCt4dtZ67qO3xWQSImQjRnJA', 66.0, 7),\n",
       " ('https://www.bitchute.com/channel/a3WbPaAzRKWN/', 66.0, 7),\n",
       " ('https://www.youtube.com/channel/UC8AGq7bm-x4teGcvQonvnPw/join', 66.0, 7),\n",
       " ('https://www.patreon.com/user?u=21542407', 66.0, 7),\n",
       " ('https://www.subscribestar.com/nerdettesnewsstand', 66.0, 7),\n",
       " ('https://lbry.tv/@NerdettesNewsStand:7', 62.0, 7),\n",
       " ('https://referral.rumble.com/dszVtP5hNXYLXqL89', 62.0, 7),\n",
       " ('https://www.youtube.com/channel/UCt4dtZ67qO3xWQSImQjRnJA', 62.0, 7),\n",
       " ('https://www.bitchute.com/channel/a3WbPaAzRKWN/', 62.0, 7),\n",
       " ('https://www.youtube.com/channel/UC8AGq7bm-x4teGcvQonvnPw/join', 62.0, 7),\n",
       " ('https://www.patreon.com/user?u=21542407', 62.0, 7),\n",
       " ('https://www.subscribestar.com/nerdettesnewsstand', 62.0, 7),\n",
       " ('https://bit.ly/3txAgy1', 51.0, 2),\n",
       " ('https://youtu.be/lRgawOgSsbw', 51.0, 2),\n",
       " ('https://t.co/yWkf2d2APp?amp=1', 38.0, 7),\n",
       " ('https://referral.rumble.com/dszVtP5hNXYLXqL89', 38.0, 7),\n",
       " ('https://www.youtube.com/channel/UCt4dtZ67qO3xWQSImQjRnJA', 38.0, 7),\n",
       " ('https://www.bitchute.com/channel/a3WbPaAzRKWN/', 38.0, 7),\n",
       " ('https://www.youtube.com/channel/UC8AGq7bm-x4teGcvQonvnPw/join', 38.0, 7),\n",
       " ('https://www.patreon.com/user?u=21542407', 38.0, 7),\n",
       " ('https://www.subscribestar.com/nerdettesnewsstand', 38.0, 7),\n",
       " ('https://lbry.tv/@NerdettesNewsStand:7', 34.0, 7),\n",
       " ('https://referral.rumble.com/dszVtP5hNXYLXqL89', 34.0, 7),\n",
       " ('https://www.youtube.com/channel/UCt4dtZ67qO3xWQSImQjRnJA', 34.0, 7),\n",
       " ('https://www.bitchute.com/channel/a3WbPaAzRKWN/', 34.0, 7),\n",
       " ('https://www.youtube.com/channel/UC8AGq7bm-x4teGcvQonvnPw/join', 34.0, 7),\n",
       " ('https://www.patreon.com/user?u=21542407', 34.0, 7),\n",
       " ('https://www.subscribestar.com/nerdettesnewsstand', 34.0, 7),\n",
       " ('https://t.co/yWkf2d2APp?amp=1', 33.0, 7),\n",
       " ('https://referral.rumble.com/dszVtP5hNXYLXqL89', 33.0, 7),\n",
       " ('https://www.youtube.com/channel/UCt4dtZ67qO3xWQSImQjRnJA', 33.0, 7),\n",
       " ('https://www.bitchute.com/channel/a3WbPaAzRKWN/', 33.0, 7),\n",
       " ('https://www.youtube.com/channel/UC8AGq7bm-x4teGcvQonvnPw/join', 33.0, 7),\n",
       " ('https://www.patreon.com/user?u=21542407', 33.0, 7),\n",
       " ('https://www.subscribestar.com/nerdettesnewsstand', 33.0, 7),\n",
       " ('https://t.co/yWkf2d2APp?amp=1', 30.0, 7),\n",
       " ('https://referral.rumble.com/dszVtP5hNXYLXqL89', 30.0, 7),\n",
       " ('https://www.youtube.com/channel/UCt4dtZ67qO3xWQSImQjRnJA', 30.0, 7),\n",
       " ('https://www.bitchute.com/channel/a3WbPaAzRKWN/', 30.0, 7),\n",
       " ('https://www.youtube.com/channel/UC8AGq7bm-x4teGcvQonvnPw/join', 30.0, 7),\n",
       " ('https://www.patreon.com/user?u=21542407', 30.0, 7),\n",
       " ('https://www.subscribestar.com/nerdettesnewsstand', 30.0, 7),\n",
       " ('https://t.co/yWkf2d2APp?amp=1', 29.0, 7),\n",
       " ('https://referral.rumble.com/dszVtP5hNXYLXqL89', 29.0, 7),\n",
       " ('https://www.youtube.com/channel/UCt4dtZ67qO3xWQSImQjRnJA', 29.0, 7),\n",
       " ('https://www.bitchute.com/channel/a3WbPaAzRKWN/', 29.0, 7),\n",
       " ('https://www.youtube.com/channel/UC8AGq7bm-x4teGcvQonvnPw/join', 29.0, 7),\n",
       " ('https://www.patreon.com/user?u=21542407', 29.0, 7),\n",
       " ('https://www.subscribestar.com/nerdettesnewsstand', 29.0, 7),\n",
       " ('https://youtu.be/jWqHBv9IXI4', 28.0, 8),\n",
       " ('https://youtu.be/lJSb_VH-P_c', 28.0, 8),\n",
       " ('https://t.co/yWkf2d2APp?amp=1', 28.0, 8),\n",
       " ('https://www.youtube.com/channel/UCt4dtZ67qO3xWQSImQjRnJA', 28.0, 8),\n",
       " ('https://www.bitchute.com/channel/a3WbPaAzRKWN/', 28.0, 8),\n",
       " ('https://www.youtube.com/channel/UC8AGq7bm-x4teGcvQonvnPw/join', 28.0, 8),\n",
       " ('https://www.patreon.com/user?u=21542407', 28.0, 8),\n",
       " ('https://www.subscribestar.com/nerdettesnewsstand', 28.0, 8),\n",
       " ('https://lbry.tv/@NerdettesNewsStand:7', 26.0, 7),\n",
       " ('https://referral.rumble.com/dszVtP5hNXYLXqL89', 26.0, 7),\n",
       " ('https://www.youtube.com/channel/UCt4dtZ67qO3xWQSImQjRnJA', 26.0, 7),\n",
       " ('https://www.bitchute.com/channel/a3WbPaAzRKWN/', 26.0, 7),\n",
       " ('https://www.youtube.com/channel/UC8AGq7bm-x4teGcvQonvnPw/join', 26.0, 7),\n",
       " ('https://www.patreon.com/user?u=21542407', 26.0, 7),\n",
       " ('https://www.subscribestar.com/nerdettesnewsstand', 26.0, 7),\n",
       " ('https://t.co/yWkf2d2APp?amp=1', 25.0, 7),\n",
       " ('https://referral.rumble.com/dszVtP5hNXYLXqL89', 25.0, 7),\n",
       " ('https://www.youtube.com/channel/UCt4dtZ67qO3xWQSImQjRnJA', 25.0, 7),\n",
       " ('https://www.bitchute.com/channel/a3WbPaAzRKWN/', 25.0, 7),\n",
       " ('https://www.youtube.com/channel/UC8AGq7bm-x4teGcvQonvnPw/join', 25.0, 7),\n",
       " ('https://www.patreon.com/user?u=21542407', 25.0, 7),\n",
       " ('https://www.subscribestar.com/nerdettesnewsstand', 25.0, 7),\n",
       " ('https://lbry.tv/@NerdettesNewsStand:7', 25.0, 7),\n",
       " ('https://referral.rumble.com/dszVtP5hNXYLXqL89', 25.0, 7),\n",
       " ('https://www.youtube.com/channel/UCt4dtZ67qO3xWQSImQjRnJA', 25.0, 7),\n",
       " ('https://www.bitchute.com/channel/a3WbPaAzRKWN/', 25.0, 7),\n",
       " ('https://www.youtube.com/channel/UC8AGq7bm-x4teGcvQonvnPw/join', 25.0, 7),\n",
       " ('https://www.patreon.com/user?u=21542407', 25.0, 7),\n",
       " ('https://www.subscribestar.com/nerdettesnewsstand', 25.0, 7),\n",
       " ('https://t.co/yWkf2d2APp?amp=1', 24.0, 7),\n",
       " ('https://referral.rumble.com/dszVtP5hNXYLXqL89', 24.0, 7),\n",
       " ('https://www.youtube.com/channel/UCt4dtZ67qO3xWQSImQjRnJA', 24.0, 7),\n",
       " ('https://www.bitchute.com/channel/a3WbPaAzRKWN/', 24.0, 7),\n",
       " ('https://www.youtube.com/channel/UC8AGq7bm-x4teGcvQonvnPw/join', 24.0, 7),\n",
       " ('https://www.patreon.com/user?u=21542407', 24.0, 7),\n",
       " ('https://www.subscribestar.com/nerdettesnewsstand', 24.0, 7),\n",
       " ('https://t.co/yWkf2d2APp?amp=1', 24.0, 6),\n",
       " ('https://www.youtube.com/channel/UCt4dtZ67qO3xWQSImQjRnJA', 24.0, 6),\n",
       " ('https://www.bitchute.com/channel/a3WbPaAzRKWN/', 24.0, 6),\n",
       " ('https://www.youtube.com/channel/UC8AGq7bm-x4teGcvQonvnPw/join', 24.0, 6),\n",
       " ('https://www.patreon.com/user?u=21542407', 24.0, 6),\n",
       " ('https://www.subscribestar.com/nerdettesnewsstand', 24.0, 6),\n",
       " ('https://youtu.be/lbz-aaNo56U', 23.0, 8),\n",
       " ('https://t.co/yWkf2d2APp?amp=1', 23.0, 8),\n",
       " ('https://referral.rumble.com/dszVtP5hNXYLXqL89', 23.0, 8),\n",
       " ('https://www.youtube.com/channel/UCt4dtZ67qO3xWQSImQjRnJA', 23.0, 8),\n",
       " ('https://www.bitchute.com/channel/a3WbPaAzRKWN/', 23.0, 8),\n",
       " ('https://www.youtube.com/channel/UC8AGq7bm-x4teGcvQonvnPw/join', 23.0, 8),\n",
       " ('https://www.patreon.com/user?u=21542407', 23.0, 8),\n",
       " ('https://www.subscribestar.com/nerdettesnewsstand', 23.0, 8),\n",
       " ('https://t.co/yWkf2d2APp?amp=1', 22.0, 7),\n",
       " ('https://referral.rumble.com/dszVtP5hNXYLXqL89', 22.0, 7),\n",
       " ('https://www.youtube.com/channel/UCt4dtZ67qO3xWQSImQjRnJA', 22.0, 7),\n",
       " ('https://www.bitchute.com/channel/a3WbPaAzRKWN/', 22.0, 7),\n",
       " ('https://www.youtube.com/channel/UC8AGq7bm-x4teGcvQonvnPw/join', 22.0, 7),\n",
       " ('https://www.patreon.com/user?u=21542407', 22.0, 7),\n",
       " ('https://www.subscribestar.com/nerdettesnewsstand', 22.0, 7),\n",
       " ('https://t.co/yWkf2d2APp?amp=1', 21.0, 7),\n",
       " ('https://referral.rumble.com/dszVtP5hNXYLXqL89', 21.0, 7),\n",
       " ('https://www.youtube.com/channel/UCt4dtZ67qO3xWQSImQjRnJA', 21.0, 7),\n",
       " ('https://www.bitchute.com/channel/a3WbPaAzRKWN/', 21.0, 7),\n",
       " ('https://www.youtube.com/channel/UC8AGq7bm-x4teGcvQonvnPw/join', 21.0, 7),\n",
       " ('https://www.patreon.com/user?u=21542407', 21.0, 7),\n",
       " ('https://www.subscribestar.com/nerdettesnewsstand', 21.0, 7),\n",
       " ('https://www.youtube.com/watch?v=ryMNW3rnQhA&t', 19.0, 3),\n",
       " ('https://www.paypal.com/donate?hosted_button_id=Z65D3ULL278SW', 19.0, 3),\n",
       " ('https://www.patreon.com/colonelkurtz?fan_landing=true', 19.0, 3),\n",
       " ('https://t.co/yWkf2d2APp?amp=1', 18.0, 7),\n",
       " ('https://referral.rumble.com/dszVtP5hNXYLXqL89', 18.0, 7),\n",
       " ('https://www.youtube.com/channel/UCt4dtZ67qO3xWQSImQjRnJA', 18.0, 7),\n",
       " ('https://www.bitchute.com/channel/a3WbPaAzRKWN/', 18.0, 7),\n",
       " ('https://www.youtube.com/channel/UC8AGq7bm-x4teGcvQonvnPw/join', 18.0, 7),\n",
       " ('https://www.patreon.com/user?u=21542407', 18.0, 7),\n",
       " ('https://www.subscribestar.com/nerdettesnewsstand', 18.0, 7),\n",
       " ('https://t.co/yWkf2d2APp?amp=1', 17.0, 7),\n",
       " ('https://referral.rumble.com/dszVtP5hNXYLXqL89', 17.0, 7),\n",
       " ('https://www.youtube.com/channel/UCt4dtZ67qO3xWQSImQjRnJA', 17.0, 7),\n",
       " ('https://www.bitchute.com/channel/a3WbPaAzRKWN/', 17.0, 7),\n",
       " ('https://www.youtube.com/channel/UC8AGq7bm-x4teGcvQonvnPw/join', 17.0, 7),\n",
       " ('https://www.patreon.com/user?u=21542407', 17.0, 7),\n",
       " ('https://www.subscribestar.com/nerdettesnewsstand', 17.0, 7),\n",
       " ('https://bit.ly/3txAgy1', 9.0, 2),\n",
       " ('https://youtu.be/YVPyBraRags', 9.0, 2),\n",
       " ('https://ieeexplore.ieee.org/abstract/document/9385071', 8.0, 3),\n",
       " ('https://www.youtube.com/channel/UCjKNc-woAlnxt0H-yJ8RXJgâ€‹', 8.0, 3),\n",
       " ('https://www.scribd.com/document/499721424/Amber-Heard-vs-Johnny-Depp-Bots-Case-21st-Century-Story',\n",
       "  8.0,\n",
       "  3),\n",
       " ('https://www.youtube.com/channel/UCjKNc-woAlnxt0H-yJ8RXJg', 5.0, 5),\n",
       " ('https://www.truehollywoodtalk.com/amber-heards-story-cyberabuse-inspires-change-public-safety-save-lives',\n",
       "  5.0,\n",
       "  5),\n",
       " ('https://www.thegeekbuzz.com/the-basement/cyrillic-russian-spiders-from-mars',\n",
       "  5.0,\n",
       "  5),\n",
       " ('https://www.thegeekbuzz.com/the-basement/dceu-actors-under-gag-order-regarding-amber-heard-and-johnny-depp-ordeal',\n",
       "  5.0,\n",
       "  5),\n",
       " ('https://www.ft.com/content/16b8cfb2-4934-4e88-9686-ff09172e8258', 5.0, 5),\n",
       " ('https://www.dailymail.co.uk/news/article-9474979/amp/Johnny-Depp-says-police-bodycam-footage-PROVES-Amber-Heard-lying.html',\n",
       "  5.0,\n",
       "  8),\n",
       " ('https://t.co/yWkf2d2APp?amp=1', 5.0, 8),\n",
       " ('https://referral.rumble.com/dszVtP5hNXYLXqL89', 5.0, 8),\n",
       " ('https://www.youtube.com/channel/UCt4dtZ67qO3xWQSImQjRnJA', 5.0, 8),\n",
       " ('https://www.bitchute.com/channel/a3WbPaAzRKWN/', 5.0, 8),\n",
       " ('https://www.youtube.com/channel/UC8AGq7bm-x4teGcvQonvnPw/join', 5.0, 8),\n",
       " ('https://www.patreon.com/user?u=21542407', 5.0, 8),\n",
       " ('https://www.subscribestar.com/nerdettesnewsstand', 5.0, 8),\n",
       " ('https://youtu.be/h3-0DWgEIU0', 3.0, 10),\n",
       " ('https://youtu.be/h3-0DWgEIU0', 3.0, 10),\n",
       " ('https://youtu.be/h3-0DWgEIU0', 3.0, 10),\n",
       " ('https://youtu.be/h3-0DWgEIU0', 3.0, 10),\n",
       " ('https://youtu.be/h3-0DWgEIU0', 3.0, 10),\n",
       " ('https://youtu.be/h3-0DWgEIU0', 3.0, 10),\n",
       " ('https://youtu.be/h3-0DWgEIU0', 3.0, 10),\n",
       " ('https://youtu.be/h3-0DWgEIU0', 3.0, 10),\n",
       " ('https://youtu.be/h3-0DWgEIU0', 3.0, 10),\n",
       " ('https://youtu.be/h3-0DWgEIU0', 3.0, 10),\n",
       " ('https://www.paypal.com/donate?hosted_button_id=Z65D3ULL278SW', 2.0, 2),\n",
       " ('https://www.patreon.com/colonelkurtz?fan_landing=true', 2.0, 2),\n",
       " ('https://ieeexplore.ieee.org/abstract/document/9385071', 2.0, 3),\n",
       " ('https://www.youtube.com/channel/UCjKNc-woAlnxt0H-yJ8RXJgâ€‹', 2.0, 3),\n",
       " ('https://www.scribd.com/document/499721424/Amber-Heard-vs-Johnny-Depp-Bots-Case-21st-Century-Story',\n",
       "  2.0,\n",
       "  3),\n",
       " ('https://www.youtube.com/watch?v=0A4YnsMjdRY', 2.0, 2),\n",
       " ('https://www.scribd.com/document/499721424/Amber-Heard-vs-Johnny-Depp-Bots-Case-21st-Century-Story',\n",
       "  2.0,\n",
       "  2),\n",
       " ('https://youtu.be/VHhPISPT7C0', 1.0, 2),\n",
       " ('https://youtu.be/wYYHIQulxIg', 1.0, 2),\n",
       " ('https://youtu.be/J-pNBZPc_nM', 1.0, 3),\n",
       " ('https://youtu.be/J-pNBZPc_nM', 1.0, 3),\n",
       " ('https://youtu.be/J-pNBZPc_nM', 1.0, 3),\n",
       " ('https://youtu.be/iG4aMhVIP1k', 1.0, 2),\n",
       " ('https://zigue.com.br/go/Manual-PC', 1.0, 2),\n",
       " ('http://bit.ly/3aEM0WF', 1.0, 5),\n",
       " ('https://bit.ly/3ihauc4', 1.0, 5),\n",
       " ('https://bit.ly/3peEDvI', 1.0, 5),\n",
       " ('https://bit.ly/35SZNH0', 1.0, 5),\n",
       " ('https://bit.ly/3jQ8tml', 1.0, 5),\n",
       " ('www.nickwallis.com/courtofappeal', 1.0, 2),\n",
       " ('https://www.nickwallis.com/courtofappeal', 1.0, 2),\n",
       " ('https://bit.ly/3txAgy1', 1.0, 2),\n",
       " ('https://youtu.be/lRgawOgSsbw', 1.0, 2),\n",
       " ('https://www.ncbi.nlm.nih.gov/pmc/articles/PMC4062022/', 1.0, 5),\n",
       " ('https://www.google.com/amp/s/digest.bps.org.uk/2017/07/11/sexual-offending-by-women-is-surprisingly-common-claims-us-study/amp/',\n",
       "  1.0,\n",
       "  5),\n",
       " ('https://amp.theatlantic.com/amp/article/503492/', 1.0, 5),\n",
       " ('https://www.scientificamerican.com/article/sexual-victimization-by-women-is-more-common-than-previously-known/',\n",
       "  1.0,\n",
       "  5),\n",
       " ('https://www.ncbi.nlm.nih.gov/pmc/articles/PMC4062022/', 1.0, 5),\n",
       " ('https://www.youtube.com/watch?v=NYjNLktP3lI', 1.0, 5),\n",
       " ('https://www.youtube.com/watch?v=Cg9SvQSMnoE', 1.0, 5),\n",
       " ('https://www.youtube.com/watch?v=Cg9SvQSMnoE', 1.0, 5),\n",
       " ('https://www.youtube.com/watch?v=HwKB80xZdus', 1.0, 5),\n",
       " ('https://www.youtube.com/watch?v=V7lg69VFSY8', 1.0, 5),\n",
       " ('https://www.standard.co.uk/news/uk/johnny-depp-loses-appeal-amber-heard-high-court-b926189.html',\n",
       "  1.0,\n",
       "  2),\n",
       " ('https://www.youtube.com/watch?v=LjokWuzO7Go', 1.0, 2)]"
      ]
     },
     "execution_count": 24,
     "metadata": {},
     "output_type": "execute_result"
    }
   ],
   "source": [
    "list_comments_4_months_urls_top_likes_more"
   ]
  },
  {
   "cell_type": "code",
   "execution_count": 25,
   "id": "41dae971",
   "metadata": {},
   "outputs": [],
   "source": [
    "df_comments_4_months_urls_top_likes_more = (\n",
    "    pd.DataFrame(list_comments_4_months_urls_top_likes_more)\n",
    "    .drop_duplicates()\n",
    "    .rename(columns={0: \"url\", 1: \"n_likes\", 2: \"n_urls\"})\n",
    ")"
   ]
  },
  {
   "cell_type": "code",
   "execution_count": 26,
   "id": "57bea47a",
   "metadata": {},
   "outputs": [
    {
     "data": {
      "text/html": [
       "<div>\n",
       "<style scoped>\n",
       "    .dataframe tbody tr th:only-of-type {\n",
       "        vertical-align: middle;\n",
       "    }\n",
       "\n",
       "    .dataframe tbody tr th {\n",
       "        vertical-align: top;\n",
       "    }\n",
       "\n",
       "    .dataframe thead th {\n",
       "        text-align: right;\n",
       "    }\n",
       "</style>\n",
       "<table border=\"1\" class=\"dataframe\">\n",
       "  <thead>\n",
       "    <tr style=\"text-align: right;\">\n",
       "      <th></th>\n",
       "      <th>url</th>\n",
       "      <th>n_likes</th>\n",
       "      <th>n_urls</th>\n",
       "    </tr>\n",
       "  </thead>\n",
       "  <tbody>\n",
       "    <tr>\n",
       "      <th>0</th>\n",
       "      <td>https://www.bit.ly/valenentropia</td>\n",
       "      <td>210.0</td>\n",
       "      <td>2</td>\n",
       "    </tr>\n",
       "    <tr>\n",
       "      <th>2</th>\n",
       "      <td>https://t.co/yWkf2d2APp?amp=1</td>\n",
       "      <td>111.0</td>\n",
       "      <td>7</td>\n",
       "    </tr>\n",
       "    <tr>\n",
       "      <th>3</th>\n",
       "      <td>https://referral.rumble.com/dszVtP5hNXYLXqL89</td>\n",
       "      <td>111.0</td>\n",
       "      <td>7</td>\n",
       "    </tr>\n",
       "    <tr>\n",
       "      <th>4</th>\n",
       "      <td>https://www.youtube.com/channel/UCt4dtZ67qO3xW...</td>\n",
       "      <td>111.0</td>\n",
       "      <td>7</td>\n",
       "    </tr>\n",
       "    <tr>\n",
       "      <th>5</th>\n",
       "      <td>https://www.bitchute.com/channel/a3WbPaAzRKWN/</td>\n",
       "      <td>111.0</td>\n",
       "      <td>7</td>\n",
       "    </tr>\n",
       "    <tr>\n",
       "      <th>...</th>\n",
       "      <td>...</td>\n",
       "      <td>...</td>\n",
       "      <td>...</td>\n",
       "    </tr>\n",
       "    <tr>\n",
       "      <th>198</th>\n",
       "      <td>https://www.youtube.com/watch?v=Cg9SvQSMnoE</td>\n",
       "      <td>1.0</td>\n",
       "      <td>5</td>\n",
       "    </tr>\n",
       "    <tr>\n",
       "      <th>200</th>\n",
       "      <td>https://www.youtube.com/watch?v=HwKB80xZdus</td>\n",
       "      <td>1.0</td>\n",
       "      <td>5</td>\n",
       "    </tr>\n",
       "    <tr>\n",
       "      <th>201</th>\n",
       "      <td>https://www.youtube.com/watch?v=V7lg69VFSY8</td>\n",
       "      <td>1.0</td>\n",
       "      <td>5</td>\n",
       "    </tr>\n",
       "    <tr>\n",
       "      <th>202</th>\n",
       "      <td>https://www.standard.co.uk/news/uk/johnny-depp...</td>\n",
       "      <td>1.0</td>\n",
       "      <td>2</td>\n",
       "    </tr>\n",
       "    <tr>\n",
       "      <th>203</th>\n",
       "      <td>https://www.youtube.com/watch?v=LjokWuzO7Go</td>\n",
       "      <td>1.0</td>\n",
       "      <td>2</td>\n",
       "    </tr>\n",
       "  </tbody>\n",
       "</table>\n",
       "<p>184 rows × 3 columns</p>\n",
       "</div>"
      ],
      "text/plain": [
       "                                                   url  n_likes  n_urls\n",
       "0                     https://www.bit.ly/valenentropia    210.0       2\n",
       "2                        https://t.co/yWkf2d2APp?amp=1    111.0       7\n",
       "3        https://referral.rumble.com/dszVtP5hNXYLXqL89    111.0       7\n",
       "4    https://www.youtube.com/channel/UCt4dtZ67qO3xW...    111.0       7\n",
       "5       https://www.bitchute.com/channel/a3WbPaAzRKWN/    111.0       7\n",
       "..                                                 ...      ...     ...\n",
       "198        https://www.youtube.com/watch?v=Cg9SvQSMnoE      1.0       5\n",
       "200        https://www.youtube.com/watch?v=HwKB80xZdus      1.0       5\n",
       "201        https://www.youtube.com/watch?v=V7lg69VFSY8      1.0       5\n",
       "202  https://www.standard.co.uk/news/uk/johnny-depp...      1.0       2\n",
       "203        https://www.youtube.com/watch?v=LjokWuzO7Go      1.0       2\n",
       "\n",
       "[184 rows x 3 columns]"
      ]
     },
     "execution_count": 26,
     "metadata": {},
     "output_type": "execute_result"
    }
   ],
   "source": [
    "df_comments_4_months_urls_top_likes_more"
   ]
  },
  {
   "cell_type": "code",
   "execution_count": 28,
   "id": "08fb1357",
   "metadata": {},
   "outputs": [],
   "source": [
    "df_comments_4_months_urls_top_likes_one[\n",
    "    \"original_url\"\n",
    "] = df_comments_4_months_urls_top_likes_one.urls.apply(lambda x: unshorten(x))"
   ]
  },
  {
   "cell_type": "code",
   "execution_count": 29,
   "id": "6e0daf94",
   "metadata": {},
   "outputs": [],
   "source": [
    "df_comments_4_months_urls_top_likes_one = df_comments_4_months_urls_top_likes_one.drop(\n",
    "    columns=\"urls\"\n",
    ").rename(columns={\"original_url\": \"url\"})[[\"url\", \"n_likes\", \"n_urls\"]]"
   ]
  },
  {
   "cell_type": "code",
   "execution_count": 30,
   "id": "06649765",
   "metadata": {},
   "outputs": [],
   "source": [
    "df_comments_4_months_urls_top_likes_one = df_comments_4_months_urls_top_likes_one.reset_index(drop=True)"
   ]
  },
  {
   "cell_type": "code",
   "execution_count": 27,
   "id": "b2ce9deb",
   "metadata": {},
   "outputs": [],
   "source": [
    "yt_path = \"../../Top Interacted/Youtube/\""
   ]
  },
  {
   "cell_type": "code",
   "execution_count": 32,
   "id": "1036e378",
   "metadata": {},
   "outputs": [
    {
     "data": {
      "text/html": [
       "<div>\n",
       "<style scoped>\n",
       "    .dataframe tbody tr th:only-of-type {\n",
       "        vertical-align: middle;\n",
       "    }\n",
       "\n",
       "    .dataframe tbody tr th {\n",
       "        vertical-align: top;\n",
       "    }\n",
       "\n",
       "    .dataframe thead th {\n",
       "        text-align: right;\n",
       "    }\n",
       "</style>\n",
       "<table border=\"1\" class=\"dataframe\">\n",
       "  <thead>\n",
       "    <tr style=\"text-align: right;\">\n",
       "      <th></th>\n",
       "      <th>url</th>\n",
       "      <th>n_likes</th>\n",
       "      <th>n_urls</th>\n",
       "    </tr>\n",
       "  </thead>\n",
       "  <tbody>\n",
       "    <tr>\n",
       "      <th>0</th>\n",
       "      <td>https://www.youtube.com/watch?v=Axcjv9YqYns&amp;fe...</td>\n",
       "      <td>2174.0</td>\n",
       "      <td>1</td>\n",
       "    </tr>\n",
       "    <tr>\n",
       "      <th>1</th>\n",
       "      <td>https://www.youtube.com/watch?v=dJe8bl_BLDE&amp;fe...</td>\n",
       "      <td>644.0</td>\n",
       "      <td>1</td>\n",
       "    </tr>\n",
       "    <tr>\n",
       "      <th>2</th>\n",
       "      <td>https://ko-fi.com/irisbabilonia</td>\n",
       "      <td>509.0</td>\n",
       "      <td>1</td>\n",
       "    </tr>\n",
       "    <tr>\n",
       "      <th>3</th>\n",
       "      <td>https://www.change.org/p/dc-entertainment-remo...</td>\n",
       "      <td>409.0</td>\n",
       "      <td>1</td>\n",
       "    </tr>\n",
       "    <tr>\n",
       "      <th>4</th>\n",
       "      <td>https://www.youtube.com/watch?v=xCe6qh5kZ8Q</td>\n",
       "      <td>408.0</td>\n",
       "      <td>1</td>\n",
       "    </tr>\n",
       "    <tr>\n",
       "      <th>...</th>\n",
       "      <td>...</td>\n",
       "      <td>...</td>\n",
       "      <td>...</td>\n",
       "    </tr>\n",
       "    <tr>\n",
       "      <th>344</th>\n",
       "      <td>https://www.youtube.com/watch?v=bZB7ThLyqUI&amp;fe...</td>\n",
       "      <td>1.0</td>\n",
       "      <td>1</td>\n",
       "    </tr>\n",
       "    <tr>\n",
       "      <th>345</th>\n",
       "      <td>https://www.youtube.com/watch?v=4I89OaDq5Zg&amp;fe...</td>\n",
       "      <td>1.0</td>\n",
       "      <td>1</td>\n",
       "    </tr>\n",
       "    <tr>\n",
       "      <th>346</th>\n",
       "      <td>https://www.youtube.com/watch?v=_IHmrsTqmmo&amp;fe...</td>\n",
       "      <td>1.0</td>\n",
       "      <td>1</td>\n",
       "    </tr>\n",
       "    <tr>\n",
       "      <th>347</th>\n",
       "      <td>https://www.youtube.com/channel/UCRcoEhdSF5Lrf...</td>\n",
       "      <td>1.0</td>\n",
       "      <td>1</td>\n",
       "    </tr>\n",
       "    <tr>\n",
       "      <th>348</th>\n",
       "      <td>https://www.youtube.com/playlist?list=PL0zUoY_...</td>\n",
       "      <td>1.0</td>\n",
       "      <td>1</td>\n",
       "    </tr>\n",
       "  </tbody>\n",
       "</table>\n",
       "<p>349 rows × 3 columns</p>\n",
       "</div>"
      ],
      "text/plain": [
       "                                                   url  n_likes  n_urls\n",
       "0    https://www.youtube.com/watch?v=Axcjv9YqYns&fe...   2174.0       1\n",
       "1    https://www.youtube.com/watch?v=dJe8bl_BLDE&fe...    644.0       1\n",
       "2                      https://ko-fi.com/irisbabilonia    509.0       1\n",
       "3    https://www.change.org/p/dc-entertainment-remo...    409.0       1\n",
       "4          https://www.youtube.com/watch?v=xCe6qh5kZ8Q    408.0       1\n",
       "..                                                 ...      ...     ...\n",
       "344  https://www.youtube.com/watch?v=bZB7ThLyqUI&fe...      1.0       1\n",
       "345  https://www.youtube.com/watch?v=4I89OaDq5Zg&fe...      1.0       1\n",
       "346  https://www.youtube.com/watch?v=_IHmrsTqmmo&fe...      1.0       1\n",
       "347  https://www.youtube.com/channel/UCRcoEhdSF5Lrf...      1.0       1\n",
       "348  https://www.youtube.com/playlist?list=PL0zUoY_...      1.0       1\n",
       "\n",
       "[349 rows x 3 columns]"
      ]
     },
     "execution_count": 32,
     "metadata": {},
     "output_type": "execute_result"
    }
   ],
   "source": [
    "df_comments_4_months_urls_top_likes_one"
   ]
  },
  {
   "cell_type": "code",
   "execution_count": 33,
   "id": "4406c04d",
   "metadata": {},
   "outputs": [],
   "source": [
    "df_comments_4_months_urls_top_likes_one.to_csv(\n",
    "    yt_path + \"df_comments_4_months_urls_top_likes_one.csv\", index=False\n",
    ")"
   ]
  },
  {
   "cell_type": "code",
   "execution_count": 34,
   "id": "e2a14183",
   "metadata": {},
   "outputs": [],
   "source": [
    "df_comments_4_months_urls_top_likes_more[\n",
    "    \"url\"\n",
    "] = df_comments_4_months_urls_top_likes_more[\"url\"].apply(lambda x: unshorten(x))"
   ]
  },
  {
   "cell_type": "code",
   "execution_count": 35,
   "id": "fa84e6ff",
   "metadata": {},
   "outputs": [
    {
     "data": {
      "text/html": [
       "<div>\n",
       "<style scoped>\n",
       "    .dataframe tbody tr th:only-of-type {\n",
       "        vertical-align: middle;\n",
       "    }\n",
       "\n",
       "    .dataframe tbody tr th {\n",
       "        vertical-align: top;\n",
       "    }\n",
       "\n",
       "    .dataframe thead th {\n",
       "        text-align: right;\n",
       "    }\n",
       "</style>\n",
       "<table border=\"1\" class=\"dataframe\">\n",
       "  <thead>\n",
       "    <tr style=\"text-align: right;\">\n",
       "      <th></th>\n",
       "      <th>url</th>\n",
       "      <th>n_likes</th>\n",
       "      <th>n_urls</th>\n",
       "    </tr>\n",
       "  </thead>\n",
       "  <tbody>\n",
       "    <tr>\n",
       "      <th>0</th>\n",
       "      <td>https://brave.com/?ref=los517/</td>\n",
       "      <td>210.0</td>\n",
       "      <td>2</td>\n",
       "    </tr>\n",
       "    <tr>\n",
       "      <th>2</th>\n",
       "      <td>https://odysee.com/@Nerdettesnewsstand:4?r=EAd...</td>\n",
       "      <td>111.0</td>\n",
       "      <td>7</td>\n",
       "    </tr>\n",
       "    <tr>\n",
       "      <th>3</th>\n",
       "      <td>https://rumble.com/register/NerdettesNewsStand...</td>\n",
       "      <td>111.0</td>\n",
       "      <td>7</td>\n",
       "    </tr>\n",
       "    <tr>\n",
       "      <th>4</th>\n",
       "      <td>https://www.youtube.com/channel/UCt4dtZ67qO3xW...</td>\n",
       "      <td>111.0</td>\n",
       "      <td>7</td>\n",
       "    </tr>\n",
       "    <tr>\n",
       "      <th>5</th>\n",
       "      <td>https://www.bitchute.com/channel/a3WbPaAzRKWN/</td>\n",
       "      <td>111.0</td>\n",
       "      <td>7</td>\n",
       "    </tr>\n",
       "    <tr>\n",
       "      <th>...</th>\n",
       "      <td>...</td>\n",
       "      <td>...</td>\n",
       "      <td>...</td>\n",
       "    </tr>\n",
       "    <tr>\n",
       "      <th>198</th>\n",
       "      <td>https://www.youtube.com/watch?v=Cg9SvQSMnoE</td>\n",
       "      <td>1.0</td>\n",
       "      <td>5</td>\n",
       "    </tr>\n",
       "    <tr>\n",
       "      <th>200</th>\n",
       "      <td>https://www.youtube.com/watch?v=HwKB80xZdus</td>\n",
       "      <td>1.0</td>\n",
       "      <td>5</td>\n",
       "    </tr>\n",
       "    <tr>\n",
       "      <th>201</th>\n",
       "      <td>https://www.youtube.com/watch?v=V7lg69VFSY8</td>\n",
       "      <td>1.0</td>\n",
       "      <td>5</td>\n",
       "    </tr>\n",
       "    <tr>\n",
       "      <th>202</th>\n",
       "      <td>https://www.standard.co.uk/news/uk/johnny-depp...</td>\n",
       "      <td>1.0</td>\n",
       "      <td>2</td>\n",
       "    </tr>\n",
       "    <tr>\n",
       "      <th>203</th>\n",
       "      <td>https://www.youtube.com/watch?v=LjokWuzO7Go</td>\n",
       "      <td>1.0</td>\n",
       "      <td>2</td>\n",
       "    </tr>\n",
       "  </tbody>\n",
       "</table>\n",
       "<p>184 rows × 3 columns</p>\n",
       "</div>"
      ],
      "text/plain": [
       "                                                   url  n_likes  n_urls\n",
       "0                       https://brave.com/?ref=los517/    210.0       2\n",
       "2    https://odysee.com/@Nerdettesnewsstand:4?r=EAd...    111.0       7\n",
       "3    https://rumble.com/register/NerdettesNewsStand...    111.0       7\n",
       "4    https://www.youtube.com/channel/UCt4dtZ67qO3xW...    111.0       7\n",
       "5       https://www.bitchute.com/channel/a3WbPaAzRKWN/    111.0       7\n",
       "..                                                 ...      ...     ...\n",
       "198        https://www.youtube.com/watch?v=Cg9SvQSMnoE      1.0       5\n",
       "200        https://www.youtube.com/watch?v=HwKB80xZdus      1.0       5\n",
       "201        https://www.youtube.com/watch?v=V7lg69VFSY8      1.0       5\n",
       "202  https://www.standard.co.uk/news/uk/johnny-depp...      1.0       2\n",
       "203        https://www.youtube.com/watch?v=LjokWuzO7Go      1.0       2\n",
       "\n",
       "[184 rows x 3 columns]"
      ]
     },
     "execution_count": 35,
     "metadata": {},
     "output_type": "execute_result"
    }
   ],
   "source": [
    "df_comments_4_months_urls_top_likes_more"
   ]
  },
  {
   "cell_type": "code",
   "execution_count": 36,
   "id": "ef90e69b",
   "metadata": {},
   "outputs": [],
   "source": [
    "df_comments_4_months_urls_top_likes_more.to_csv(\n",
    "    yt_path + \"df_comments_4_months_urls_top_likes_more.csv\", index=False\n",
    ")"
   ]
  },
  {
   "cell_type": "code",
   "execution_count": 37,
   "id": "f39633cc",
   "metadata": {},
   "outputs": [],
   "source": [
    "df_comments_4_months_urls_top_likes = (\n",
    "    pd.concat(\n",
    "        [\n",
    "            df_comments_4_months_urls_top_likes_one,\n",
    "            df_comments_4_months_urls_top_likes_more,\n",
    "        ]\n",
    "    )\n",
    "    .reset_index(drop=True)\n",
    "    .sort_values(\"n_likes\", ascending=False)\n",
    ")"
   ]
  },
  {
   "cell_type": "code",
   "execution_count": 38,
   "id": "a14d5319",
   "metadata": {},
   "outputs": [],
   "source": [
    "df_comments_4_months_urls_top_likes.to_csv(\n",
    "    yt_path + \"df_comments_4_months_urls_top_likes.csv\", index=False\n",
    ")"
   ]
  },
  {
   "cell_type": "markdown",
   "id": "1949a0de",
   "metadata": {},
   "source": [
    "### replies"
   ]
  },
  {
   "cell_type": "code",
   "execution_count": 39,
   "id": "4ab02178",
   "metadata": {},
   "outputs": [
    {
     "data": {
      "text/plain": [
       "count    1065.000000\n",
       "mean        1.059155\n",
       "std         8.455616\n",
       "min         0.000000\n",
       "25%         0.000000\n",
       "50%         0.000000\n",
       "75%         0.000000\n",
       "max       175.000000\n",
       "Name: n_replies, dtype: float64"
      ]
     },
     "execution_count": 39,
     "metadata": {},
     "output_type": "execute_result"
    }
   ],
   "source": [
    "df_comments_4_months_urls.n_replies.describe()"
   ]
  },
  {
   "cell_type": "code",
   "execution_count": 40,
   "id": "446f18b0",
   "metadata": {},
   "outputs": [],
   "source": [
    "df_comments_4_months_urls_top_replies = df_comments_4_months_urls[df_comments_4_months_urls.n_replies > 0]"
   ]
  },
  {
   "cell_type": "code",
   "execution_count": 41,
   "id": "fbaba8df",
   "metadata": {},
   "outputs": [],
   "source": [
    "df_comments_4_months_urls_top_replies.sort_values(\"n_replies\", ascending=False, inplace=True)"
   ]
  },
  {
   "cell_type": "code",
   "execution_count": 42,
   "id": "079baa71",
   "metadata": {},
   "outputs": [
    {
     "data": {
      "text/html": [
       "<div>\n",
       "<style scoped>\n",
       "    .dataframe tbody tr th:only-of-type {\n",
       "        vertical-align: middle;\n",
       "    }\n",
       "\n",
       "    .dataframe tbody tr th {\n",
       "        vertical-align: top;\n",
       "    }\n",
       "\n",
       "    .dataframe thead th {\n",
       "        text-align: right;\n",
       "    }\n",
       "</style>\n",
       "<table border=\"1\" class=\"dataframe\">\n",
       "  <thead>\n",
       "    <tr style=\"text-align: right;\">\n",
       "      <th></th>\n",
       "      <th>urls</th>\n",
       "      <th>n_replies</th>\n",
       "    </tr>\n",
       "  </thead>\n",
       "  <tbody>\n",
       "    <tr>\n",
       "      <th>96</th>\n",
       "      <td>['https://t.co/yWkf2d2APp?amp=1', 'https://ref...</td>\n",
       "      <td>175.0</td>\n",
       "    </tr>\n",
       "    <tr>\n",
       "      <th>392</th>\n",
       "      <td>['https://www.youtube.com/watch?v=xCe6qh5kZ8Q']</td>\n",
       "      <td>159.0</td>\n",
       "    </tr>\n",
       "    <tr>\n",
       "      <th>25</th>\n",
       "      <td>['https://youtu.be/Axcjv9YqYns']</td>\n",
       "      <td>82.0</td>\n",
       "    </tr>\n",
       "    <tr>\n",
       "      <th>917</th>\n",
       "      <td>['https://lbry.tv/@NerdettesNewsStand:7', 'htt...</td>\n",
       "      <td>56.0</td>\n",
       "    </tr>\n",
       "    <tr>\n",
       "      <th>941</th>\n",
       "      <td>['https://thld.co/SHEATH_thequartering']</td>\n",
       "      <td>41.0</td>\n",
       "    </tr>\n",
       "    <tr>\n",
       "      <th>...</th>\n",
       "      <td>...</td>\n",
       "      <td>...</td>\n",
       "    </tr>\n",
       "    <tr>\n",
       "      <th>399</th>\n",
       "      <td>['https://youtu.be/ouyqNwV1OBA']</td>\n",
       "      <td>1.0</td>\n",
       "    </tr>\n",
       "    <tr>\n",
       "      <th>391</th>\n",
       "      <td>['https://www.rollingstone.com/tv/tv-features/...</td>\n",
       "      <td>1.0</td>\n",
       "    </tr>\n",
       "    <tr>\n",
       "      <th>362</th>\n",
       "      <td>['https://www.sausageroll.com.au/lifestyle/cel...</td>\n",
       "      <td>1.0</td>\n",
       "    </tr>\n",
       "    <tr>\n",
       "      <th>322</th>\n",
       "      <td>['https://g.co/kgs/ou1RKq']</td>\n",
       "      <td>1.0</td>\n",
       "    </tr>\n",
       "    <tr>\n",
       "      <th>562</th>\n",
       "      <td>['https://youtube.com/playlist?list=PL0zUoY_CX...</td>\n",
       "      <td>1.0</td>\n",
       "    </tr>\n",
       "  </tbody>\n",
       "</table>\n",
       "<p>115 rows × 2 columns</p>\n",
       "</div>"
      ],
      "text/plain": [
       "                                                  urls  n_replies\n",
       "96   ['https://t.co/yWkf2d2APp?amp=1', 'https://ref...      175.0\n",
       "392    ['https://www.youtube.com/watch?v=xCe6qh5kZ8Q']      159.0\n",
       "25                    ['https://youtu.be/Axcjv9YqYns']       82.0\n",
       "917  ['https://lbry.tv/@NerdettesNewsStand:7', 'htt...       56.0\n",
       "941           ['https://thld.co/SHEATH_thequartering']       41.0\n",
       "..                                                 ...        ...\n",
       "399                   ['https://youtu.be/ouyqNwV1OBA']        1.0\n",
       "391  ['https://www.rollingstone.com/tv/tv-features/...        1.0\n",
       "362  ['https://www.sausageroll.com.au/lifestyle/cel...        1.0\n",
       "322                        ['https://g.co/kgs/ou1RKq']        1.0\n",
       "562  ['https://youtube.com/playlist?list=PL0zUoY_CX...        1.0\n",
       "\n",
       "[115 rows x 2 columns]"
      ]
     },
     "execution_count": 42,
     "metadata": {},
     "output_type": "execute_result"
    }
   ],
   "source": [
    "df_comments_4_months_urls_top_replies[[\"urls\", \"n_replies\"]][~df_comments_4_months_urls_top_replies[[\"urls\", \"n_replies\"]].duplicated()]"
   ]
  },
  {
   "cell_type": "code",
   "execution_count": 43,
   "id": "59a115ee",
   "metadata": {},
   "outputs": [],
   "source": [
    "df_comments_4_months_urls_top_replies = df_comments_4_months_urls_top_replies[\n",
    "    [\"urls\", \"n_replies\"]\n",
    "][~df_comments_4_months_urls_top_replies[[\"urls\", \"n_replies\"]].duplicated()]"
   ]
  },
  {
   "cell_type": "code",
   "execution_count": 44,
   "id": "e10d4757",
   "metadata": {},
   "outputs": [],
   "source": [
    "df_comments_4_months_urls_top_replies[\"urls\"] = df_comments_4_months_urls_top_replies[\"urls\"].apply(lambda x: le(x))"
   ]
  },
  {
   "cell_type": "code",
   "execution_count": 45,
   "id": "41fadd63",
   "metadata": {},
   "outputs": [
    {
     "data": {
      "text/plain": [
       "['https://t.co/yWkf2d2APp?amp=1',\n",
       " 'https://referral.rumble.com/dszVtP5hNXYLXqL89',\n",
       " 'https://www.youtube.com/channel/UCt4dtZ67qO3xWQSImQjRnJA',\n",
       " 'https://www.bitchute.com/channel/a3WbPaAzRKWN/',\n",
       " 'https://www.youtube.com/channel/UC8AGq7bm-x4teGcvQonvnPw/join',\n",
       " 'https://www.patreon.com/user?u=21542407',\n",
       " 'https://www.subscribestar.com/nerdettesnewsstand']"
      ]
     },
     "execution_count": 45,
     "metadata": {},
     "output_type": "execute_result"
    }
   ],
   "source": [
    "df_comments_4_months_urls_top_replies[\"urls\"][96]"
   ]
  },
  {
   "cell_type": "code",
   "execution_count": 46,
   "id": "68ba3c0e",
   "metadata": {},
   "outputs": [],
   "source": [
    "df_comments_4_months_urls_top_replies[\"n_urls\"] = df_comments_4_months_urls_top_replies[\"urls\"].apply(lambda x: len(x))"
   ]
  },
  {
   "cell_type": "code",
   "execution_count": 47,
   "id": "815c2019",
   "metadata": {},
   "outputs": [],
   "source": [
    "df_comments_4_months_urls_top_replies_one = one_url_df(df_comments_4_months_urls_top_replies)"
   ]
  },
  {
   "cell_type": "code",
   "execution_count": 48,
   "id": "2b3408fe",
   "metadata": {
    "scrolled": true
   },
   "outputs": [
    {
     "data": {
      "text/html": [
       "<div>\n",
       "<style scoped>\n",
       "    .dataframe tbody tr th:only-of-type {\n",
       "        vertical-align: middle;\n",
       "    }\n",
       "\n",
       "    .dataframe tbody tr th {\n",
       "        vertical-align: top;\n",
       "    }\n",
       "\n",
       "    .dataframe thead th {\n",
       "        text-align: right;\n",
       "    }\n",
       "</style>\n",
       "<table border=\"1\" class=\"dataframe\">\n",
       "  <thead>\n",
       "    <tr style=\"text-align: right;\">\n",
       "      <th></th>\n",
       "      <th>urls</th>\n",
       "      <th>n_replies</th>\n",
       "      <th>n_urls</th>\n",
       "    </tr>\n",
       "  </thead>\n",
       "  <tbody>\n",
       "    <tr>\n",
       "      <th>392</th>\n",
       "      <td>https://www.youtube.com/watch?v=xCe6qh5kZ8Q</td>\n",
       "      <td>159.0</td>\n",
       "      <td>1</td>\n",
       "    </tr>\n",
       "    <tr>\n",
       "      <th>25</th>\n",
       "      <td>https://youtu.be/Axcjv9YqYns</td>\n",
       "      <td>82.0</td>\n",
       "      <td>1</td>\n",
       "    </tr>\n",
       "    <tr>\n",
       "      <th>941</th>\n",
       "      <td>https://thld.co/SHEATH_thequartering</td>\n",
       "      <td>41.0</td>\n",
       "      <td>1</td>\n",
       "    </tr>\n",
       "    <tr>\n",
       "      <th>975</th>\n",
       "      <td>https://www.youtube.com/watch?v=nwgqEdiiNKo</td>\n",
       "      <td>36.0</td>\n",
       "      <td>1</td>\n",
       "    </tr>\n",
       "    <tr>\n",
       "      <th>199</th>\n",
       "      <td>https://ko-fi.com/irisbabilonia</td>\n",
       "      <td>35.0</td>\n",
       "      <td>1</td>\n",
       "    </tr>\n",
       "    <tr>\n",
       "      <th>...</th>\n",
       "      <td>...</td>\n",
       "      <td>...</td>\n",
       "      <td>...</td>\n",
       "    </tr>\n",
       "    <tr>\n",
       "      <th>399</th>\n",
       "      <td>https://youtu.be/ouyqNwV1OBA</td>\n",
       "      <td>1.0</td>\n",
       "      <td>1</td>\n",
       "    </tr>\n",
       "    <tr>\n",
       "      <th>391</th>\n",
       "      <td>https://www.rollingstone.com/tv/tv-features/ev...</td>\n",
       "      <td>1.0</td>\n",
       "      <td>1</td>\n",
       "    </tr>\n",
       "    <tr>\n",
       "      <th>362</th>\n",
       "      <td>https://www.sausageroll.com.au/lifestyle/celeb...</td>\n",
       "      <td>1.0</td>\n",
       "      <td>1</td>\n",
       "    </tr>\n",
       "    <tr>\n",
       "      <th>322</th>\n",
       "      <td>https://g.co/kgs/ou1RKq</td>\n",
       "      <td>1.0</td>\n",
       "      <td>1</td>\n",
       "    </tr>\n",
       "    <tr>\n",
       "      <th>562</th>\n",
       "      <td>https://youtube.com/playlist?list=PL0zUoY_CXUl...</td>\n",
       "      <td>1.0</td>\n",
       "      <td>1</td>\n",
       "    </tr>\n",
       "  </tbody>\n",
       "</table>\n",
       "<p>83 rows × 3 columns</p>\n",
       "</div>"
      ],
      "text/plain": [
       "                                                  urls  n_replies  n_urls\n",
       "392        https://www.youtube.com/watch?v=xCe6qh5kZ8Q      159.0       1\n",
       "25                        https://youtu.be/Axcjv9YqYns       82.0       1\n",
       "941               https://thld.co/SHEATH_thequartering       41.0       1\n",
       "975        https://www.youtube.com/watch?v=nwgqEdiiNKo       36.0       1\n",
       "199                    https://ko-fi.com/irisbabilonia       35.0       1\n",
       "..                                                 ...        ...     ...\n",
       "399                       https://youtu.be/ouyqNwV1OBA        1.0       1\n",
       "391  https://www.rollingstone.com/tv/tv-features/ev...        1.0       1\n",
       "362  https://www.sausageroll.com.au/lifestyle/celeb...        1.0       1\n",
       "322                            https://g.co/kgs/ou1RKq        1.0       1\n",
       "562  https://youtube.com/playlist?list=PL0zUoY_CXUl...        1.0       1\n",
       "\n",
       "[83 rows x 3 columns]"
      ]
     },
     "execution_count": 48,
     "metadata": {},
     "output_type": "execute_result"
    }
   ],
   "source": [
    "df_comments_4_months_urls_top_replies_one"
   ]
  },
  {
   "cell_type": "code",
   "execution_count": 49,
   "id": "151efd03",
   "metadata": {},
   "outputs": [],
   "source": [
    "df_comments_4_months_urls_top_replies_one[\n",
    "    \"urls\"\n",
    "] = df_comments_4_months_urls_top_replies_one[\"urls\"].apply(lambda x: unshorten(x))"
   ]
  },
  {
   "cell_type": "code",
   "execution_count": 50,
   "id": "c5efab4f",
   "metadata": {
    "scrolled": false
   },
   "outputs": [
    {
     "data": {
      "text/html": [
       "<div>\n",
       "<style scoped>\n",
       "    .dataframe tbody tr th:only-of-type {\n",
       "        vertical-align: middle;\n",
       "    }\n",
       "\n",
       "    .dataframe tbody tr th {\n",
       "        vertical-align: top;\n",
       "    }\n",
       "\n",
       "    .dataframe thead th {\n",
       "        text-align: right;\n",
       "    }\n",
       "</style>\n",
       "<table border=\"1\" class=\"dataframe\">\n",
       "  <thead>\n",
       "    <tr style=\"text-align: right;\">\n",
       "      <th></th>\n",
       "      <th>urls</th>\n",
       "      <th>n_replies</th>\n",
       "      <th>n_urls</th>\n",
       "    </tr>\n",
       "  </thead>\n",
       "  <tbody>\n",
       "    <tr>\n",
       "      <th>392</th>\n",
       "      <td>https://www.youtube.com/watch?v=xCe6qh5kZ8Q</td>\n",
       "      <td>159.0</td>\n",
       "      <td>1</td>\n",
       "    </tr>\n",
       "    <tr>\n",
       "      <th>25</th>\n",
       "      <td>https://www.youtube.com/watch?v=Axcjv9YqYns&amp;fe...</td>\n",
       "      <td>82.0</td>\n",
       "      <td>1</td>\n",
       "    </tr>\n",
       "    <tr>\n",
       "      <th>941</th>\n",
       "      <td>https://thld.co/SHEATH_thequartering</td>\n",
       "      <td>41.0</td>\n",
       "      <td>1</td>\n",
       "    </tr>\n",
       "    <tr>\n",
       "      <th>975</th>\n",
       "      <td>https://www.youtube.com/watch?v=nwgqEdiiNKo</td>\n",
       "      <td>36.0</td>\n",
       "      <td>1</td>\n",
       "    </tr>\n",
       "    <tr>\n",
       "      <th>199</th>\n",
       "      <td>https://ko-fi.com/irisbabilonia</td>\n",
       "      <td>35.0</td>\n",
       "      <td>1</td>\n",
       "    </tr>\n",
       "    <tr>\n",
       "      <th>...</th>\n",
       "      <td>...</td>\n",
       "      <td>...</td>\n",
       "      <td>...</td>\n",
       "    </tr>\n",
       "    <tr>\n",
       "      <th>399</th>\n",
       "      <td>https://www.youtube.com/watch?v=ouyqNwV1OBA&amp;fe...</td>\n",
       "      <td>1.0</td>\n",
       "      <td>1</td>\n",
       "    </tr>\n",
       "    <tr>\n",
       "      <th>391</th>\n",
       "      <td>https://www.rollingstone.com/tv/tv-features/ev...</td>\n",
       "      <td>1.0</td>\n",
       "      <td>1</td>\n",
       "    </tr>\n",
       "    <tr>\n",
       "      <th>362</th>\n",
       "      <td>https://www.sausageroll.com.au/lifestyle/celeb...</td>\n",
       "      <td>1.0</td>\n",
       "      <td>1</td>\n",
       "    </tr>\n",
       "    <tr>\n",
       "      <th>322</th>\n",
       "      <td>https://www.google.com/search?kgmid=/m/01ydpv&amp;...</td>\n",
       "      <td>1.0</td>\n",
       "      <td>1</td>\n",
       "    </tr>\n",
       "    <tr>\n",
       "      <th>562</th>\n",
       "      <td>https://www.youtube.com/playlist?list=PL0zUoY_...</td>\n",
       "      <td>1.0</td>\n",
       "      <td>1</td>\n",
       "    </tr>\n",
       "  </tbody>\n",
       "</table>\n",
       "<p>83 rows × 3 columns</p>\n",
       "</div>"
      ],
      "text/plain": [
       "                                                  urls  n_replies  n_urls\n",
       "392        https://www.youtube.com/watch?v=xCe6qh5kZ8Q      159.0       1\n",
       "25   https://www.youtube.com/watch?v=Axcjv9YqYns&fe...       82.0       1\n",
       "941               https://thld.co/SHEATH_thequartering       41.0       1\n",
       "975        https://www.youtube.com/watch?v=nwgqEdiiNKo       36.0       1\n",
       "199                    https://ko-fi.com/irisbabilonia       35.0       1\n",
       "..                                                 ...        ...     ...\n",
       "399  https://www.youtube.com/watch?v=ouyqNwV1OBA&fe...        1.0       1\n",
       "391  https://www.rollingstone.com/tv/tv-features/ev...        1.0       1\n",
       "362  https://www.sausageroll.com.au/lifestyle/celeb...        1.0       1\n",
       "322  https://www.google.com/search?kgmid=/m/01ydpv&...        1.0       1\n",
       "562  https://www.youtube.com/playlist?list=PL0zUoY_...        1.0       1\n",
       "\n",
       "[83 rows x 3 columns]"
      ]
     },
     "execution_count": 50,
     "metadata": {},
     "output_type": "execute_result"
    }
   ],
   "source": [
    "df_comments_4_months_urls_top_replies_one"
   ]
  },
  {
   "cell_type": "code",
   "execution_count": 51,
   "id": "045e64a4",
   "metadata": {},
   "outputs": [],
   "source": [
    "df_comments_4_months_urls_top_replies_one.to_csv(\n",
    "    yt_path + \"df_comments_4_months_urls_top_replies_one.csv\", index=False\n",
    ")"
   ]
  },
  {
   "cell_type": "code",
   "execution_count": 53,
   "id": "40f784d4",
   "metadata": {},
   "outputs": [],
   "source": [
    "df_comments_4_months_urls_top_replies_more = more_url_df(df_comments_4_months_urls_top_replies, \"n_replies\")"
   ]
  },
  {
   "cell_type": "code",
   "execution_count": 54,
   "id": "66229090",
   "metadata": {},
   "outputs": [
    {
     "data": {
      "text/html": [
       "<div>\n",
       "<style scoped>\n",
       "    .dataframe tbody tr th:only-of-type {\n",
       "        vertical-align: middle;\n",
       "    }\n",
       "\n",
       "    .dataframe tbody tr th {\n",
       "        vertical-align: top;\n",
       "    }\n",
       "\n",
       "    .dataframe thead th {\n",
       "        text-align: right;\n",
       "    }\n",
       "</style>\n",
       "<table border=\"1\" class=\"dataframe\">\n",
       "  <thead>\n",
       "    <tr style=\"text-align: right;\">\n",
       "      <th></th>\n",
       "      <th>urls</th>\n",
       "      <th>n_replies</th>\n",
       "      <th>n_urls</th>\n",
       "    </tr>\n",
       "  </thead>\n",
       "  <tbody>\n",
       "    <tr>\n",
       "      <th>0</th>\n",
       "      <td>https://t.co/yWkf2d2APp?amp=1</td>\n",
       "      <td>175.0</td>\n",
       "      <td>7</td>\n",
       "    </tr>\n",
       "    <tr>\n",
       "      <th>1</th>\n",
       "      <td>https://referral.rumble.com/dszVtP5hNXYLXqL89</td>\n",
       "      <td>175.0</td>\n",
       "      <td>7</td>\n",
       "    </tr>\n",
       "    <tr>\n",
       "      <th>2</th>\n",
       "      <td>https://www.youtube.com/channel/UCt4dtZ67qO3xW...</td>\n",
       "      <td>175.0</td>\n",
       "      <td>7</td>\n",
       "    </tr>\n",
       "    <tr>\n",
       "      <th>3</th>\n",
       "      <td>https://www.bitchute.com/channel/a3WbPaAzRKWN/</td>\n",
       "      <td>175.0</td>\n",
       "      <td>7</td>\n",
       "    </tr>\n",
       "    <tr>\n",
       "      <th>4</th>\n",
       "      <td>https://www.youtube.com/channel/UC8AGq7bm-x4te...</td>\n",
       "      <td>175.0</td>\n",
       "      <td>7</td>\n",
       "    </tr>\n",
       "    <tr>\n",
       "      <th>...</th>\n",
       "      <td>...</td>\n",
       "      <td>...</td>\n",
       "      <td>...</td>\n",
       "    </tr>\n",
       "    <tr>\n",
       "      <th>171</th>\n",
       "      <td>https://www.thegeekbuzz.com/the-basement/cyril...</td>\n",
       "      <td>1.0</td>\n",
       "      <td>5</td>\n",
       "    </tr>\n",
       "    <tr>\n",
       "      <th>172</th>\n",
       "      <td>https://www.thegeekbuzz.com/the-basement/dceu-...</td>\n",
       "      <td>1.0</td>\n",
       "      <td>5</td>\n",
       "    </tr>\n",
       "    <tr>\n",
       "      <th>173</th>\n",
       "      <td>https://www.ft.com/content/16b8cfb2-4934-4e88-...</td>\n",
       "      <td>1.0</td>\n",
       "      <td>5</td>\n",
       "    </tr>\n",
       "    <tr>\n",
       "      <th>174</th>\n",
       "      <td>https://www.youtube.com/watch?v=k9pbrBmHI58&amp;t=...</td>\n",
       "      <td>1.0</td>\n",
       "      <td>2</td>\n",
       "    </tr>\n",
       "    <tr>\n",
       "      <th>175</th>\n",
       "      <td>https://www.youtube.com/watch?v=lslHx-nHjzc</td>\n",
       "      <td>1.0</td>\n",
       "      <td>2</td>\n",
       "    </tr>\n",
       "  </tbody>\n",
       "</table>\n",
       "<p>161 rows × 3 columns</p>\n",
       "</div>"
      ],
      "text/plain": [
       "                                                  urls  n_replies  n_urls\n",
       "0                        https://t.co/yWkf2d2APp?amp=1      175.0       7\n",
       "1        https://referral.rumble.com/dszVtP5hNXYLXqL89      175.0       7\n",
       "2    https://www.youtube.com/channel/UCt4dtZ67qO3xW...      175.0       7\n",
       "3       https://www.bitchute.com/channel/a3WbPaAzRKWN/      175.0       7\n",
       "4    https://www.youtube.com/channel/UC8AGq7bm-x4te...      175.0       7\n",
       "..                                                 ...        ...     ...\n",
       "171  https://www.thegeekbuzz.com/the-basement/cyril...        1.0       5\n",
       "172  https://www.thegeekbuzz.com/the-basement/dceu-...        1.0       5\n",
       "173  https://www.ft.com/content/16b8cfb2-4934-4e88-...        1.0       5\n",
       "174  https://www.youtube.com/watch?v=k9pbrBmHI58&t=...        1.0       2\n",
       "175        https://www.youtube.com/watch?v=lslHx-nHjzc        1.0       2\n",
       "\n",
       "[161 rows x 3 columns]"
      ]
     },
     "execution_count": 54,
     "metadata": {},
     "output_type": "execute_result"
    }
   ],
   "source": [
    "df_comments_4_months_urls_top_replies_more"
   ]
  },
  {
   "cell_type": "code",
   "execution_count": 55,
   "id": "13592430",
   "metadata": {},
   "outputs": [],
   "source": [
    "df_comments_4_months_urls_top_replies_more[\n",
    "    \"urls\"\n",
    "] = df_comments_4_months_urls_top_replies_more[\"urls\"].apply(lambda x: unshorten(x))"
   ]
  },
  {
   "cell_type": "code",
   "execution_count": 56,
   "id": "37545c70",
   "metadata": {},
   "outputs": [],
   "source": [
    "df_comments_4_months_urls_top_replies_more.to_csv(\n",
    "    yt_path + \"df_comments_4_months_urls_top_replies_more.csv\", index=False\n",
    ")"
   ]
  },
  {
   "cell_type": "code",
   "execution_count": 57,
   "id": "0e9e737b",
   "metadata": {},
   "outputs": [],
   "source": [
    "df_comments_4_months_urls_top_replies = pd.concat(\n",
    "    [\n",
    "        df_comments_4_months_urls_top_replies_one,\n",
    "        df_comments_4_months_urls_top_replies_more,\n",
    "    ]\n",
    ")"
   ]
  },
  {
   "cell_type": "code",
   "execution_count": 58,
   "id": "d73d8de3",
   "metadata": {},
   "outputs": [
    {
     "data": {
      "text/html": [
       "<div>\n",
       "<style scoped>\n",
       "    .dataframe tbody tr th:only-of-type {\n",
       "        vertical-align: middle;\n",
       "    }\n",
       "\n",
       "    .dataframe tbody tr th {\n",
       "        vertical-align: top;\n",
       "    }\n",
       "\n",
       "    .dataframe thead th {\n",
       "        text-align: right;\n",
       "    }\n",
       "</style>\n",
       "<table border=\"1\" class=\"dataframe\">\n",
       "  <thead>\n",
       "    <tr style=\"text-align: right;\">\n",
       "      <th></th>\n",
       "      <th>urls</th>\n",
       "      <th>n_replies</th>\n",
       "      <th>n_urls</th>\n",
       "    </tr>\n",
       "  </thead>\n",
       "  <tbody>\n",
       "    <tr>\n",
       "      <th>392</th>\n",
       "      <td>https://www.youtube.com/watch?v=xCe6qh5kZ8Q</td>\n",
       "      <td>159.0</td>\n",
       "      <td>1</td>\n",
       "    </tr>\n",
       "    <tr>\n",
       "      <th>25</th>\n",
       "      <td>https://www.youtube.com/watch?v=Axcjv9YqYns&amp;fe...</td>\n",
       "      <td>82.0</td>\n",
       "      <td>1</td>\n",
       "    </tr>\n",
       "    <tr>\n",
       "      <th>941</th>\n",
       "      <td>https://thld.co/SHEATH_thequartering</td>\n",
       "      <td>41.0</td>\n",
       "      <td>1</td>\n",
       "    </tr>\n",
       "    <tr>\n",
       "      <th>975</th>\n",
       "      <td>https://www.youtube.com/watch?v=nwgqEdiiNKo</td>\n",
       "      <td>36.0</td>\n",
       "      <td>1</td>\n",
       "    </tr>\n",
       "    <tr>\n",
       "      <th>199</th>\n",
       "      <td>https://ko-fi.com/irisbabilonia</td>\n",
       "      <td>35.0</td>\n",
       "      <td>1</td>\n",
       "    </tr>\n",
       "    <tr>\n",
       "      <th>...</th>\n",
       "      <td>...</td>\n",
       "      <td>...</td>\n",
       "      <td>...</td>\n",
       "    </tr>\n",
       "    <tr>\n",
       "      <th>171</th>\n",
       "      <td>https://thegeekbuzz.com/the-basement/cyrillic-...</td>\n",
       "      <td>1.0</td>\n",
       "      <td>5</td>\n",
       "    </tr>\n",
       "    <tr>\n",
       "      <th>172</th>\n",
       "      <td>https://thegeekbuzz.com/the-basement/dceu-acto...</td>\n",
       "      <td>1.0</td>\n",
       "      <td>5</td>\n",
       "    </tr>\n",
       "    <tr>\n",
       "      <th>173</th>\n",
       "      <td>https://www.ft.com/content/16b8cfb2-4934-4e88-...</td>\n",
       "      <td>1.0</td>\n",
       "      <td>5</td>\n",
       "    </tr>\n",
       "    <tr>\n",
       "      <th>174</th>\n",
       "      <td>https://www.youtube.com/watch?v=k9pbrBmHI58&amp;t=...</td>\n",
       "      <td>1.0</td>\n",
       "      <td>2</td>\n",
       "    </tr>\n",
       "    <tr>\n",
       "      <th>175</th>\n",
       "      <td>https://www.youtube.com/watch?v=lslHx-nHjzc</td>\n",
       "      <td>1.0</td>\n",
       "      <td>2</td>\n",
       "    </tr>\n",
       "  </tbody>\n",
       "</table>\n",
       "<p>244 rows × 3 columns</p>\n",
       "</div>"
      ],
      "text/plain": [
       "                                                  urls  n_replies  n_urls\n",
       "392        https://www.youtube.com/watch?v=xCe6qh5kZ8Q      159.0       1\n",
       "25   https://www.youtube.com/watch?v=Axcjv9YqYns&fe...       82.0       1\n",
       "941               https://thld.co/SHEATH_thequartering       41.0       1\n",
       "975        https://www.youtube.com/watch?v=nwgqEdiiNKo       36.0       1\n",
       "199                    https://ko-fi.com/irisbabilonia       35.0       1\n",
       "..                                                 ...        ...     ...\n",
       "171  https://thegeekbuzz.com/the-basement/cyrillic-...        1.0       5\n",
       "172  https://thegeekbuzz.com/the-basement/dceu-acto...        1.0       5\n",
       "173  https://www.ft.com/content/16b8cfb2-4934-4e88-...        1.0       5\n",
       "174  https://www.youtube.com/watch?v=k9pbrBmHI58&t=...        1.0       2\n",
       "175        https://www.youtube.com/watch?v=lslHx-nHjzc        1.0       2\n",
       "\n",
       "[244 rows x 3 columns]"
      ]
     },
     "execution_count": 58,
     "metadata": {},
     "output_type": "execute_result"
    }
   ],
   "source": [
    "df_comments_4_months_urls_top_replies"
   ]
  },
  {
   "cell_type": "code",
   "execution_count": 59,
   "id": "d7ed8749",
   "metadata": {},
   "outputs": [],
   "source": [
    "df_comments_4_months_urls_top_replies.drop_duplicates(inplace=True)"
   ]
  },
  {
   "cell_type": "code",
   "execution_count": 60,
   "id": "d3e4d314",
   "metadata": {},
   "outputs": [],
   "source": [
    "df_comments_4_months_urls_top_replies.to_csv(\n",
    "    yt_path + \"df_comments_4_months_urls_top_replies.csv\", index=False\n",
    ")"
   ]
  },
  {
   "cell_type": "code",
   "execution_count": 61,
   "id": "2057a9b3",
   "metadata": {},
   "outputs": [
    {
     "data": {
      "text/html": [
       "<div>\n",
       "<style scoped>\n",
       "    .dataframe tbody tr th:only-of-type {\n",
       "        vertical-align: middle;\n",
       "    }\n",
       "\n",
       "    .dataframe tbody tr th {\n",
       "        vertical-align: top;\n",
       "    }\n",
       "\n",
       "    .dataframe thead th {\n",
       "        text-align: right;\n",
       "    }\n",
       "</style>\n",
       "<table border=\"1\" class=\"dataframe\">\n",
       "  <thead>\n",
       "    <tr style=\"text-align: right;\">\n",
       "      <th></th>\n",
       "      <th>urls</th>\n",
       "      <th>n_replies</th>\n",
       "      <th>n_urls</th>\n",
       "    </tr>\n",
       "  </thead>\n",
       "  <tbody>\n",
       "    <tr>\n",
       "      <th>392</th>\n",
       "      <td>https://www.youtube.com/watch?v=xCe6qh5kZ8Q</td>\n",
       "      <td>159.0</td>\n",
       "      <td>1</td>\n",
       "    </tr>\n",
       "    <tr>\n",
       "      <th>25</th>\n",
       "      <td>https://www.youtube.com/watch?v=Axcjv9YqYns&amp;fe...</td>\n",
       "      <td>82.0</td>\n",
       "      <td>1</td>\n",
       "    </tr>\n",
       "    <tr>\n",
       "      <th>941</th>\n",
       "      <td>https://thld.co/SHEATH_thequartering</td>\n",
       "      <td>41.0</td>\n",
       "      <td>1</td>\n",
       "    </tr>\n",
       "    <tr>\n",
       "      <th>975</th>\n",
       "      <td>https://www.youtube.com/watch?v=nwgqEdiiNKo</td>\n",
       "      <td>36.0</td>\n",
       "      <td>1</td>\n",
       "    </tr>\n",
       "    <tr>\n",
       "      <th>199</th>\n",
       "      <td>https://ko-fi.com/irisbabilonia</td>\n",
       "      <td>35.0</td>\n",
       "      <td>1</td>\n",
       "    </tr>\n",
       "    <tr>\n",
       "      <th>...</th>\n",
       "      <td>...</td>\n",
       "      <td>...</td>\n",
       "      <td>...</td>\n",
       "    </tr>\n",
       "    <tr>\n",
       "      <th>171</th>\n",
       "      <td>https://thegeekbuzz.com/the-basement/cyrillic-...</td>\n",
       "      <td>1.0</td>\n",
       "      <td>5</td>\n",
       "    </tr>\n",
       "    <tr>\n",
       "      <th>172</th>\n",
       "      <td>https://thegeekbuzz.com/the-basement/dceu-acto...</td>\n",
       "      <td>1.0</td>\n",
       "      <td>5</td>\n",
       "    </tr>\n",
       "    <tr>\n",
       "      <th>173</th>\n",
       "      <td>https://www.ft.com/content/16b8cfb2-4934-4e88-...</td>\n",
       "      <td>1.0</td>\n",
       "      <td>5</td>\n",
       "    </tr>\n",
       "    <tr>\n",
       "      <th>174</th>\n",
       "      <td>https://www.youtube.com/watch?v=k9pbrBmHI58&amp;t=...</td>\n",
       "      <td>1.0</td>\n",
       "      <td>2</td>\n",
       "    </tr>\n",
       "    <tr>\n",
       "      <th>175</th>\n",
       "      <td>https://www.youtube.com/watch?v=lslHx-nHjzc</td>\n",
       "      <td>1.0</td>\n",
       "      <td>2</td>\n",
       "    </tr>\n",
       "  </tbody>\n",
       "</table>\n",
       "<p>243 rows × 3 columns</p>\n",
       "</div>"
      ],
      "text/plain": [
       "                                                  urls  n_replies  n_urls\n",
       "392        https://www.youtube.com/watch?v=xCe6qh5kZ8Q      159.0       1\n",
       "25   https://www.youtube.com/watch?v=Axcjv9YqYns&fe...       82.0       1\n",
       "941               https://thld.co/SHEATH_thequartering       41.0       1\n",
       "975        https://www.youtube.com/watch?v=nwgqEdiiNKo       36.0       1\n",
       "199                    https://ko-fi.com/irisbabilonia       35.0       1\n",
       "..                                                 ...        ...     ...\n",
       "171  https://thegeekbuzz.com/the-basement/cyrillic-...        1.0       5\n",
       "172  https://thegeekbuzz.com/the-basement/dceu-acto...        1.0       5\n",
       "173  https://www.ft.com/content/16b8cfb2-4934-4e88-...        1.0       5\n",
       "174  https://www.youtube.com/watch?v=k9pbrBmHI58&t=...        1.0       2\n",
       "175        https://www.youtube.com/watch?v=lslHx-nHjzc        1.0       2\n",
       "\n",
       "[243 rows x 3 columns]"
      ]
     },
     "execution_count": 61,
     "metadata": {},
     "output_type": "execute_result"
    }
   ],
   "source": [
    "df_comments_4_months_urls_top_replies"
   ]
  },
  {
   "cell_type": "markdown",
   "id": "16f1d16b",
   "metadata": {},
   "source": [
    "##  dec"
   ]
  },
  {
   "cell_type": "code",
   "execution_count": 62,
   "id": "0b015ceb",
   "metadata": {},
   "outputs": [],
   "source": [
    "df_comments_dec_urls = pd.read_csv(data_path + \"df_comments_dec_urls.csv\")"
   ]
  },
  {
   "cell_type": "code",
   "execution_count": 63,
   "id": "16d9feb1",
   "metadata": {},
   "outputs": [
    {
     "data": {
      "text/html": [
       "<div>\n",
       "<style scoped>\n",
       "    .dataframe tbody tr th:only-of-type {\n",
       "        vertical-align: middle;\n",
       "    }\n",
       "\n",
       "    .dataframe tbody tr th {\n",
       "        vertical-align: top;\n",
       "    }\n",
       "\n",
       "    .dataframe thead th {\n",
       "        text-align: right;\n",
       "    }\n",
       "</style>\n",
       "<table border=\"1\" class=\"dataframe\">\n",
       "  <thead>\n",
       "    <tr style=\"text-align: right;\">\n",
       "      <th></th>\n",
       "      <th>Unnamed: 0</th>\n",
       "      <th>kind</th>\n",
       "      <th>etag</th>\n",
       "      <th>id</th>\n",
       "      <th>snippet.videoId</th>\n",
       "      <th>snippet.topLevelComment.kind</th>\n",
       "      <th>snippet.topLevelComment.etag</th>\n",
       "      <th>snippet.topLevelComment.id</th>\n",
       "      <th>snippet.topLevelComment.snippet.videoId</th>\n",
       "      <th>snippet.topLevelComment.snippet.textDisplay</th>\n",
       "      <th>...</th>\n",
       "      <th>snippet.topLevelComment.snippet.likeCount</th>\n",
       "      <th>snippet.topLevelComment.snippet.publishedAt</th>\n",
       "      <th>snippet.topLevelComment.snippet.updatedAt</th>\n",
       "      <th>snippet.canReply</th>\n",
       "      <th>snippet.totalReplyCount</th>\n",
       "      <th>snippet.isPublic</th>\n",
       "      <th>replies.comments</th>\n",
       "      <th>snippet.topLevelComment.snippet.moderationStatus</th>\n",
       "      <th>urls</th>\n",
       "      <th>n_urls</th>\n",
       "    </tr>\n",
       "  </thead>\n",
       "  <tbody>\n",
       "    <tr>\n",
       "      <th>0</th>\n",
       "      <td>45.0</td>\n",
       "      <td>youtube#commentThread</td>\n",
       "      <td>vrjHSvKbOnocmVhHX6Fcia0NPZU</td>\n",
       "      <td>Ugxe640u7xqHIhsJMal4AaABAg</td>\n",
       "      <td>8oNYOv4o8zM</td>\n",
       "      <td>youtube#comment</td>\n",
       "      <td>-Dlurk_GGOv0PcxR_VTAV_q2Dv4</td>\n",
       "      <td>Ugxe640u7xqHIhsJMal4AaABAg</td>\n",
       "      <td>8oNYOv4o8zM</td>\n",
       "      <td>Sign this petition to rid Amber Heard off AQUA...</td>\n",
       "      <td>...</td>\n",
       "      <td>0.0</td>\n",
       "      <td>2020-12-16 14:07:13+00:00</td>\n",
       "      <td>2020-12-16T14:07:13Z</td>\n",
       "      <td>True</td>\n",
       "      <td>0.0</td>\n",
       "      <td>True</td>\n",
       "      <td>NaN</td>\n",
       "      <td>NaN</td>\n",
       "      <td>['http://chng.it/JDQLmRqM', 'http://chng.it/kD...</td>\n",
       "      <td>2</td>\n",
       "    </tr>\n",
       "  </tbody>\n",
       "</table>\n",
       "<p>1 rows × 27 columns</p>\n",
       "</div>"
      ],
      "text/plain": [
       "   Unnamed: 0                   kind                         etag  \\\n",
       "0        45.0  youtube#commentThread  vrjHSvKbOnocmVhHX6Fcia0NPZU   \n",
       "\n",
       "                           id snippet.videoId snippet.topLevelComment.kind  \\\n",
       "0  Ugxe640u7xqHIhsJMal4AaABAg     8oNYOv4o8zM              youtube#comment   \n",
       "\n",
       "  snippet.topLevelComment.etag  snippet.topLevelComment.id  \\\n",
       "0  -Dlurk_GGOv0PcxR_VTAV_q2Dv4  Ugxe640u7xqHIhsJMal4AaABAg   \n",
       "\n",
       "  snippet.topLevelComment.snippet.videoId  \\\n",
       "0                             8oNYOv4o8zM   \n",
       "\n",
       "         snippet.topLevelComment.snippet.textDisplay  ...  \\\n",
       "0  Sign this petition to rid Amber Heard off AQUA...  ...   \n",
       "\n",
       "  snippet.topLevelComment.snippet.likeCount  \\\n",
       "0                                       0.0   \n",
       "\n",
       "  snippet.topLevelComment.snippet.publishedAt  \\\n",
       "0                   2020-12-16 14:07:13+00:00   \n",
       "\n",
       "  snippet.topLevelComment.snippet.updatedAt snippet.canReply  \\\n",
       "0                      2020-12-16T14:07:13Z             True   \n",
       "\n",
       "  snippet.totalReplyCount  snippet.isPublic replies.comments  \\\n",
       "0                     0.0              True              NaN   \n",
       "\n",
       "   snippet.topLevelComment.snippet.moderationStatus  \\\n",
       "0                                               NaN   \n",
       "\n",
       "                                                urls n_urls  \n",
       "0  ['http://chng.it/JDQLmRqM', 'http://chng.it/kD...      2  \n",
       "\n",
       "[1 rows x 27 columns]"
      ]
     },
     "execution_count": 63,
     "metadata": {},
     "output_type": "execute_result"
    }
   ],
   "source": [
    "df_comments_dec_urls.head(1)"
   ]
  },
  {
   "cell_type": "code",
   "execution_count": 64,
   "id": "b8141bb6",
   "metadata": {},
   "outputs": [],
   "source": [
    "df_comments_dec_urls.rename(\n",
    "    columns={\n",
    "        \"snippet.topLevelComment.snippet.likeCount\": \"n_likes\",\n",
    "        \"snippet.totalReplyCount\": \"n_replies\",\n",
    "    },\n",
    "    inplace=True,\n",
    ")"
   ]
  },
  {
   "cell_type": "markdown",
   "id": "9dad8b54",
   "metadata": {},
   "source": [
    "### Likes"
   ]
  },
  {
   "cell_type": "code",
   "execution_count": 65,
   "id": "bb529318",
   "metadata": {},
   "outputs": [
    {
     "data": {
      "text/plain": [
       "count    619.000000\n",
       "mean       2.329564\n",
       "std       22.083058\n",
       "min        0.000000\n",
       "25%        0.000000\n",
       "50%        0.000000\n",
       "75%        1.000000\n",
       "max      441.000000\n",
       "Name: n_likes, dtype: float64"
      ]
     },
     "execution_count": 65,
     "metadata": {},
     "output_type": "execute_result"
    }
   ],
   "source": [
    "df_comments_dec_urls.n_likes.describe()"
   ]
  },
  {
   "cell_type": "code",
   "execution_count": 66,
   "id": "b5eb6452",
   "metadata": {},
   "outputs": [
    {
     "data": {
      "image/png": "[encoded data removed]",
      "text/plain": [
       "<Figure size 432x288 with 1 Axes>"
      ]
     },
     "metadata": {
      "needs_background": "light"
     },
     "output_type": "display_data"
    }
   ],
   "source": [
    "df_comments_dec_urls.n_likes.plot();"
   ]
  },
  {
   "cell_type": "code",
   "execution_count": 67,
   "id": "be2c425c",
   "metadata": {},
   "outputs": [],
   "source": [
    "df_comments_dec_urls_top_likes = df_comments_dec_urls[df_comments_dec_urls.n_likes > 1]"
   ]
  },
  {
   "cell_type": "code",
   "execution_count": 68,
   "id": "519a61dc",
   "metadata": {},
   "outputs": [],
   "source": [
    "df_comments_dec_urls_top_likes.sort_values(\"n_likes\", ascending=False, inplace=True)"
   ]
  },
  {
   "cell_type": "code",
   "execution_count": 69,
   "id": "e902b63e",
   "metadata": {},
   "outputs": [],
   "source": [
    "df_comments_dec_urls_top_likes = df_comments_dec_urls_top_likes[[\"urls\", \"n_likes\"]][\n",
    "    ~df_comments_dec_urls_top_likes[[\"urls\", \"n_likes\"]].duplicated()\n",
    "]"
   ]
  },
  {
   "cell_type": "code",
   "execution_count": 70,
   "id": "45de6307",
   "metadata": {},
   "outputs": [],
   "source": [
    "df_comments_dec_urls_top_likes['urls'] = df_comments_dec_urls_top_likes['urls'].apply(lambda x: le(x))"
   ]
  },
  {
   "cell_type": "code",
   "execution_count": 71,
   "id": "2f3145ac",
   "metadata": {},
   "outputs": [],
   "source": [
    "df_comments_dec_urls_top_likes['n_urls'] = df_comments_dec_urls_top_likes['urls'].apply(lambda x: len(x))"
   ]
  },
  {
   "cell_type": "code",
   "execution_count": 72,
   "id": "fc6ea862",
   "metadata": {},
   "outputs": [
    {
     "data": {
      "text/html": [
       "<div>\n",
       "<style scoped>\n",
       "    .dataframe tbody tr th:only-of-type {\n",
       "        vertical-align: middle;\n",
       "    }\n",
       "\n",
       "    .dataframe tbody tr th {\n",
       "        vertical-align: top;\n",
       "    }\n",
       "\n",
       "    .dataframe thead th {\n",
       "        text-align: right;\n",
       "    }\n",
       "</style>\n",
       "<table border=\"1\" class=\"dataframe\">\n",
       "  <thead>\n",
       "    <tr style=\"text-align: right;\">\n",
       "      <th></th>\n",
       "      <th>urls</th>\n",
       "      <th>n_likes</th>\n",
       "      <th>n_urls</th>\n",
       "    </tr>\n",
       "  </thead>\n",
       "  <tbody>\n",
       "    <tr>\n",
       "      <th>149</th>\n",
       "      <td>[https://www.change.org/p/dc-entertainment-rem...</td>\n",
       "      <td>441.0</td>\n",
       "      <td>1</td>\n",
       "    </tr>\n",
       "    <tr>\n",
       "      <th>126</th>\n",
       "      <td>[https://privateinternetaccess.com/TheQuarteri...</td>\n",
       "      <td>282.0</td>\n",
       "      <td>1</td>\n",
       "    </tr>\n",
       "    <tr>\n",
       "      <th>62</th>\n",
       "      <td>[https://displate.com/thequartering?art=5e0b6f...</td>\n",
       "      <td>125.0</td>\n",
       "      <td>1</td>\n",
       "    </tr>\n",
       "    <tr>\n",
       "      <th>605</th>\n",
       "      <td>[n.pr/support-the-tiny-desk]</td>\n",
       "      <td>92.0</td>\n",
       "      <td>1</td>\n",
       "    </tr>\n",
       "    <tr>\n",
       "      <th>582</th>\n",
       "      <td>[https://lbry.tv/@NerdettesNewsStand:7, https:...</td>\n",
       "      <td>50.0</td>\n",
       "      <td>7</td>\n",
       "    </tr>\n",
       "    <tr>\n",
       "      <th>...</th>\n",
       "      <td>...</td>\n",
       "      <td>...</td>\n",
       "      <td>...</td>\n",
       "    </tr>\n",
       "    <tr>\n",
       "      <th>319</th>\n",
       "      <td>[https://youtu.be/xFOFlPAaxOc]</td>\n",
       "      <td>2.0</td>\n",
       "      <td>1</td>\n",
       "    </tr>\n",
       "    <tr>\n",
       "      <th>325</th>\n",
       "      <td>[https://youtu.be/LKMTHdQ4iQs]</td>\n",
       "      <td>2.0</td>\n",
       "      <td>1</td>\n",
       "    </tr>\n",
       "    <tr>\n",
       "      <th>327</th>\n",
       "      <td>[https://youtu.be/AsHKe7fE3bY]</td>\n",
       "      <td>2.0</td>\n",
       "      <td>1</td>\n",
       "    </tr>\n",
       "    <tr>\n",
       "      <th>387</th>\n",
       "      <td>[http://miniurl.es/quickdates7hotladyy/]</td>\n",
       "      <td>2.0</td>\n",
       "      <td>1</td>\n",
       "    </tr>\n",
       "    <tr>\n",
       "      <th>397</th>\n",
       "      <td>[miniurl.es/quickdates7hotladyy/]</td>\n",
       "      <td>2.0</td>\n",
       "      <td>1</td>\n",
       "    </tr>\n",
       "  </tbody>\n",
       "</table>\n",
       "<p>67 rows × 3 columns</p>\n",
       "</div>"
      ],
      "text/plain": [
       "                                                  urls  n_likes  n_urls\n",
       "149  [https://www.change.org/p/dc-entertainment-rem...    441.0       1\n",
       "126  [https://privateinternetaccess.com/TheQuarteri...    282.0       1\n",
       "62   [https://displate.com/thequartering?art=5e0b6f...    125.0       1\n",
       "605                       [n.pr/support-the-tiny-desk]     92.0       1\n",
       "582  [https://lbry.tv/@NerdettesNewsStand:7, https:...     50.0       7\n",
       "..                                                 ...      ...     ...\n",
       "319                     [https://youtu.be/xFOFlPAaxOc]      2.0       1\n",
       "325                     [https://youtu.be/LKMTHdQ4iQs]      2.0       1\n",
       "327                     [https://youtu.be/AsHKe7fE3bY]      2.0       1\n",
       "387           [http://miniurl.es/quickdates7hotladyy/]      2.0       1\n",
       "397                  [miniurl.es/quickdates7hotladyy/]      2.0       1\n",
       "\n",
       "[67 rows x 3 columns]"
      ]
     },
     "execution_count": 72,
     "metadata": {},
     "output_type": "execute_result"
    }
   ],
   "source": [
    "df_comments_dec_urls_top_likes"
   ]
  },
  {
   "cell_type": "code",
   "execution_count": 73,
   "id": "038ff556",
   "metadata": {},
   "outputs": [],
   "source": [
    "df_comments_dec_urls_top_likes_one = one_url_df(df_comments_dec_urls_top_likes)"
   ]
  },
  {
   "cell_type": "code",
   "execution_count": 74,
   "id": "ef9951c4",
   "metadata": {},
   "outputs": [],
   "source": [
    "df_comments_dec_urls_top_likes_one[\"urls\"] = df_comments_dec_urls_top_likes_one[\"urls\"].apply(lambda x: unshorten(x))"
   ]
  },
  {
   "cell_type": "code",
   "execution_count": 75,
   "id": "ef6741ef",
   "metadata": {},
   "outputs": [],
   "source": [
    "df_comments_dec_urls_top_likes_one.drop_duplicates(inplace=True)"
   ]
  },
  {
   "cell_type": "code",
   "execution_count": 76,
   "id": "c2e5abd9",
   "metadata": {},
   "outputs": [],
   "source": [
    "df_comments_dec_urls_top_likes_one.to_csv(\n",
    "    yt_path + \"df_comments_dec_urls_top_likes_one.csv\", index=False\n",
    ")"
   ]
  },
  {
   "cell_type": "code",
   "execution_count": 77,
   "id": "260347b8",
   "metadata": {},
   "outputs": [],
   "source": [
    "df_comments_dec_urls_top_likes_one_more = more_url_df(\n",
    "    df_comments_dec_urls_top_likes, \"n_likes\"\n",
    ")"
   ]
  },
  {
   "cell_type": "code",
   "execution_count": 78,
   "id": "776ca355",
   "metadata": {},
   "outputs": [],
   "source": [
    "df_comments_dec_urls_top_likes_one_more[\"urls\"] = df_comments_dec_urls_top_likes_one_more[\"urls\"].apply(lambda x: unshorten(x))"
   ]
  },
  {
   "cell_type": "code",
   "execution_count": 79,
   "id": "a8a989ba",
   "metadata": {},
   "outputs": [],
   "source": [
    "df_comments_dec_urls_top_likes_one_more.drop_duplicates(inplace=True)"
   ]
  },
  {
   "cell_type": "code",
   "execution_count": 80,
   "id": "14a4baed",
   "metadata": {},
   "outputs": [],
   "source": [
    "df_comments_dec_urls_top_likes_one_more.to_csv(\n",
    "    yt_path + \"df_comments_dec_urls_top_likes_more.csv\", index=False\n",
    ")"
   ]
  },
  {
   "cell_type": "code",
   "execution_count": 81,
   "id": "9a03a291",
   "metadata": {},
   "outputs": [],
   "source": [
    "pd.concat(\n",
    "    [df_comments_dec_urls_top_likes_one, df_comments_dec_urls_top_likes_one_more]\n",
    ").to_csv(yt_path + \"df_comments_dec_urls_top_likes.csv\", index=False)"
   ]
  },
  {
   "cell_type": "markdown",
   "id": "893e6f8c",
   "metadata": {},
   "source": [
    "### replies"
   ]
  },
  {
   "cell_type": "code",
   "execution_count": 82,
   "id": "7d6d4c64",
   "metadata": {},
   "outputs": [
    {
     "data": {
      "text/plain": [
       "count    619.000000\n",
       "mean       0.245557\n",
       "std        2.057693\n",
       "min        0.000000\n",
       "25%        0.000000\n",
       "50%        0.000000\n",
       "75%        0.000000\n",
       "max       40.000000\n",
       "Name: n_replies, dtype: float64"
      ]
     },
     "execution_count": 82,
     "metadata": {},
     "output_type": "execute_result"
    }
   ],
   "source": [
    "df_comments_dec_urls.n_replies.describe()"
   ]
  },
  {
   "cell_type": "code",
   "execution_count": 83,
   "id": "0b648c93",
   "metadata": {},
   "outputs": [
    {
     "data": {
      "text/plain": [
       "<AxesSubplot:>"
      ]
     },
     "execution_count": 83,
     "metadata": {},
     "output_type": "execute_result"
    },
    {
     "data": {
      "image/png": "[encoded data removed]",
      "text/plain": [
       "<Figure size 432x288 with 1 Axes>"
      ]
     },
     "metadata": {
      "needs_background": "light"
     },
     "output_type": "display_data"
    }
   ],
   "source": [
    "df_comments_dec_urls.n_replies.plot()"
   ]
  },
  {
   "cell_type": "code",
   "execution_count": 84,
   "id": "df291a4d",
   "metadata": {},
   "outputs": [],
   "source": [
    "df_comments_dec_urls_top_replies = df_comments_dec_urls[df_comments_dec_urls.n_replies > 0]"
   ]
  },
  {
   "cell_type": "code",
   "execution_count": 85,
   "id": "4a7f7eb0",
   "metadata": {},
   "outputs": [],
   "source": [
    "df_comments_dec_urls_top_replies.sort_values(\"n_replies\", ascending=False, inplace=True)"
   ]
  },
  {
   "cell_type": "code",
   "execution_count": 86,
   "id": "ba47dfb0",
   "metadata": {},
   "outputs": [
    {
     "data": {
      "text/html": [
       "<div>\n",
       "<style scoped>\n",
       "    .dataframe tbody tr th:only-of-type {\n",
       "        vertical-align: middle;\n",
       "    }\n",
       "\n",
       "    .dataframe tbody tr th {\n",
       "        vertical-align: top;\n",
       "    }\n",
       "\n",
       "    .dataframe thead th {\n",
       "        text-align: right;\n",
       "    }\n",
       "</style>\n",
       "<table border=\"1\" class=\"dataframe\">\n",
       "  <thead>\n",
       "    <tr style=\"text-align: right;\">\n",
       "      <th></th>\n",
       "      <th>urls</th>\n",
       "      <th>n_replies</th>\n",
       "    </tr>\n",
       "  </thead>\n",
       "  <tbody>\n",
       "    <tr>\n",
       "      <th>126</th>\n",
       "      <td>['https://privateinternetaccess.com/TheQuarter...</td>\n",
       "      <td>40.0</td>\n",
       "    </tr>\n",
       "    <tr>\n",
       "      <th>149</th>\n",
       "      <td>['https://www.change.org/p/dc-entertainment-re...</td>\n",
       "      <td>20.0</td>\n",
       "    </tr>\n",
       "    <tr>\n",
       "      <th>62</th>\n",
       "      <td>['https://displate.com/thequartering?art=5e0b6...</td>\n",
       "      <td>14.0</td>\n",
       "    </tr>\n",
       "    <tr>\n",
       "      <th>45</th>\n",
       "      <td>['https://lbry.tv/@NerdettesNewsStand:7', 'htt...</td>\n",
       "      <td>10.0</td>\n",
       "    </tr>\n",
       "    <tr>\n",
       "      <th>374</th>\n",
       "      <td>['https://mobile.twitter.com/LauraBockov?s=20'...</td>\n",
       "      <td>10.0</td>\n",
       "    </tr>\n",
       "    <tr>\n",
       "      <th>582</th>\n",
       "      <td>['https://lbry.tv/@NerdettesNewsStand:7', 'htt...</td>\n",
       "      <td>9.0</td>\n",
       "    </tr>\n",
       "    <tr>\n",
       "      <th>605</th>\n",
       "      <td>['n.pr/support-the-tiny-desk']</td>\n",
       "      <td>8.0</td>\n",
       "    </tr>\n",
       "    <tr>\n",
       "      <th>499</th>\n",
       "      <td>['https://lbry.tv/@NerdettesNewsStand:7', 'htt...</td>\n",
       "      <td>7.0</td>\n",
       "    </tr>\n",
       "    <tr>\n",
       "      <th>166</th>\n",
       "      <td>['https://www.google.com/url?sa=t&amp;source=web&amp;r...</td>\n",
       "      <td>4.0</td>\n",
       "    </tr>\n",
       "    <tr>\n",
       "      <th>346</th>\n",
       "      <td>['https://youtu.be/qIXxO7Of_Ow']</td>\n",
       "      <td>4.0</td>\n",
       "    </tr>\n",
       "    <tr>\n",
       "      <th>585</th>\n",
       "      <td>['https://referral.rumble.com/9TRu', 'https://...</td>\n",
       "      <td>2.0</td>\n",
       "    </tr>\n",
       "    <tr>\n",
       "      <th>319</th>\n",
       "      <td>['https://youtu.be/xFOFlPAaxOc']</td>\n",
       "      <td>2.0</td>\n",
       "    </tr>\n",
       "    <tr>\n",
       "      <th>557</th>\n",
       "      <td>['https://www.youtube.com/watch?v=GXMAQ59a-ss&amp;...</td>\n",
       "      <td>2.0</td>\n",
       "    </tr>\n",
       "    <tr>\n",
       "      <th>490</th>\n",
       "      <td>['https://twitter.com/CelticWarriorNY/status/1...</td>\n",
       "      <td>1.0</td>\n",
       "    </tr>\n",
       "    <tr>\n",
       "      <th>595</th>\n",
       "      <td>['https://youtu.be/QQUgzIh9vsw']</td>\n",
       "      <td>1.0</td>\n",
       "    </tr>\n",
       "    <tr>\n",
       "      <th>589</th>\n",
       "      <td>['https://youtu.be/a_DQ_4i-iAs']</td>\n",
       "      <td>1.0</td>\n",
       "    </tr>\n",
       "    <tr>\n",
       "      <th>571</th>\n",
       "      <td>['https://m.facebook.com/story.php?story_fbid=...</td>\n",
       "      <td>1.0</td>\n",
       "    </tr>\n",
       "    <tr>\n",
       "      <th>523</th>\n",
       "      <td>['https://law.yale.edu/sites/default/files/are...</td>\n",
       "      <td>1.0</td>\n",
       "    </tr>\n",
       "    <tr>\n",
       "      <th>522</th>\n",
       "      <td>['https://jambernews.wordpress.com/2016/06/24/...</td>\n",
       "      <td>1.0</td>\n",
       "    </tr>\n",
       "    <tr>\n",
       "      <th>503</th>\n",
       "      <td>['https://www.change.org/p/ministry-of-justice...</td>\n",
       "      <td>1.0</td>\n",
       "    </tr>\n",
       "    <tr>\n",
       "      <th>79</th>\n",
       "      <td>['https://www.change.org/p/dc-entertainment-re...</td>\n",
       "      <td>1.0</td>\n",
       "    </tr>\n",
       "    <tr>\n",
       "      <th>474</th>\n",
       "      <td>['http://chng.it/NgCC6bLnR7']</td>\n",
       "      <td>1.0</td>\n",
       "    </tr>\n",
       "    <tr>\n",
       "      <th>76</th>\n",
       "      <td>['https://youtube.com/playlist?list=PLC18C501E...</td>\n",
       "      <td>1.0</td>\n",
       "    </tr>\n",
       "    <tr>\n",
       "      <th>385</th>\n",
       "      <td>['tinyurl.com/Snapgrls9PANGsex']</td>\n",
       "      <td>1.0</td>\n",
       "    </tr>\n",
       "    <tr>\n",
       "      <th>378</th>\n",
       "      <td>['https://www.youtube.com/channel/UC7kP', 'htt...</td>\n",
       "      <td>1.0</td>\n",
       "    </tr>\n",
       "    <tr>\n",
       "      <th>60</th>\n",
       "      <td>['https://www.change.org/p/l-or%C3%A9al-remove...</td>\n",
       "      <td>1.0</td>\n",
       "    </tr>\n",
       "    <tr>\n",
       "      <th>351</th>\n",
       "      <td>['https://youtu.be/LDCmaO-hiGw']</td>\n",
       "      <td>1.0</td>\n",
       "    </tr>\n",
       "    <tr>\n",
       "      <th>290</th>\n",
       "      <td>['https://youtu.be/S1dwtwmcUTg']</td>\n",
       "      <td>1.0</td>\n",
       "    </tr>\n",
       "    <tr>\n",
       "      <th>279</th>\n",
       "      <td>['https://youtu.be/bqyLJ-fWbSI']</td>\n",
       "      <td>1.0</td>\n",
       "    </tr>\n",
       "    <tr>\n",
       "      <th>181</th>\n",
       "      <td>['https://youtu.be/OLpeX4RRo28']</td>\n",
       "      <td>1.0</td>\n",
       "    </tr>\n",
       "    <tr>\n",
       "      <th>165</th>\n",
       "      <td>['https://variety.com/2018/biz/news/johnny-dep...</td>\n",
       "      <td>1.0</td>\n",
       "    </tr>\n",
       "    <tr>\n",
       "      <th>75</th>\n",
       "      <td>['https://youtu.be/Yxzd4MlhdsM']</td>\n",
       "      <td>1.0</td>\n",
       "    </tr>\n",
       "    <tr>\n",
       "      <th>435</th>\n",
       "      <td>['https://youtu.be/4aBBYzgTdnU']</td>\n",
       "      <td>1.0</td>\n",
       "    </tr>\n",
       "  </tbody>\n",
       "</table>\n",
       "</div>"
      ],
      "text/plain": [
       "                                                  urls  n_replies\n",
       "126  ['https://privateinternetaccess.com/TheQuarter...       40.0\n",
       "149  ['https://www.change.org/p/dc-entertainment-re...       20.0\n",
       "62   ['https://displate.com/thequartering?art=5e0b6...       14.0\n",
       "45   ['https://lbry.tv/@NerdettesNewsStand:7', 'htt...       10.0\n",
       "374  ['https://mobile.twitter.com/LauraBockov?s=20'...       10.0\n",
       "582  ['https://lbry.tv/@NerdettesNewsStand:7', 'htt...        9.0\n",
       "605                     ['n.pr/support-the-tiny-desk']        8.0\n",
       "499  ['https://lbry.tv/@NerdettesNewsStand:7', 'htt...        7.0\n",
       "166  ['https://www.google.com/url?sa=t&source=web&r...        4.0\n",
       "346                   ['https://youtu.be/qIXxO7Of_Ow']        4.0\n",
       "585  ['https://referral.rumble.com/9TRu', 'https://...        2.0\n",
       "319                   ['https://youtu.be/xFOFlPAaxOc']        2.0\n",
       "557  ['https://www.youtube.com/watch?v=GXMAQ59a-ss&...        2.0\n",
       "490  ['https://twitter.com/CelticWarriorNY/status/1...        1.0\n",
       "595                   ['https://youtu.be/QQUgzIh9vsw']        1.0\n",
       "589                   ['https://youtu.be/a_DQ_4i-iAs']        1.0\n",
       "571  ['https://m.facebook.com/story.php?story_fbid=...        1.0\n",
       "523  ['https://law.yale.edu/sites/default/files/are...        1.0\n",
       "522  ['https://jambernews.wordpress.com/2016/06/24/...        1.0\n",
       "503  ['https://www.change.org/p/ministry-of-justice...        1.0\n",
       "79   ['https://www.change.org/p/dc-entertainment-re...        1.0\n",
       "474                      ['http://chng.it/NgCC6bLnR7']        1.0\n",
       "76   ['https://youtube.com/playlist?list=PLC18C501E...        1.0\n",
       "385                   ['tinyurl.com/Snapgrls9PANGsex']        1.0\n",
       "378  ['https://www.youtube.com/channel/UC7kP', 'htt...        1.0\n",
       "60   ['https://www.change.org/p/l-or%C3%A9al-remove...        1.0\n",
       "351                   ['https://youtu.be/LDCmaO-hiGw']        1.0\n",
       "290                   ['https://youtu.be/S1dwtwmcUTg']        1.0\n",
       "279                   ['https://youtu.be/bqyLJ-fWbSI']        1.0\n",
       "181                   ['https://youtu.be/OLpeX4RRo28']        1.0\n",
       "165  ['https://variety.com/2018/biz/news/johnny-dep...        1.0\n",
       "75                    ['https://youtu.be/Yxzd4MlhdsM']        1.0\n",
       "435                   ['https://youtu.be/4aBBYzgTdnU']        1.0"
      ]
     },
     "execution_count": 86,
     "metadata": {},
     "output_type": "execute_result"
    }
   ],
   "source": [
    "df_comments_dec_urls_top_replies[[\"urls\", \"n_replies\"]][~df_comments_dec_urls_top_replies[[\"urls\", \"n_replies\"]].duplicated()]"
   ]
  },
  {
   "cell_type": "code",
   "execution_count": 87,
   "id": "f595672d",
   "metadata": {},
   "outputs": [],
   "source": [
    "df_comments_dec_urls_top_replies = df_comments_dec_urls_top_replies[\n",
    "    [\"urls\", \"n_replies\"]\n",
    "][~df_comments_dec_urls_top_replies[[\"urls\", \"n_replies\"]].duplicated()]"
   ]
  },
  {
   "cell_type": "code",
   "execution_count": 88,
   "id": "31e2c5f5",
   "metadata": {},
   "outputs": [],
   "source": [
    "df_comments_dec_urls_top_replies[\"urls\"] = df_comments_dec_urls_top_replies[\"urls\"].apply(lambda x: le(x))\n",
    "df_comments_dec_urls_top_replies[\"n_urls\"] = df_comments_dec_urls_top_replies[\"urls\"].apply(lambda x: len(x))"
   ]
  },
  {
   "cell_type": "code",
   "execution_count": 89,
   "id": "00483c4f",
   "metadata": {},
   "outputs": [],
   "source": [
    "df_comments_dec_urls_top_replies_one = one_url_df(df_comments_dec_urls_top_replies)\n",
    "df_comments_dec_urls_top_replies_more = more_url_df(df_comments_dec_urls_top_replies, \"n_replies\")"
   ]
  },
  {
   "cell_type": "code",
   "execution_count": 90,
   "id": "b24f6e5d",
   "metadata": {},
   "outputs": [],
   "source": [
    "df_comments_dec_urls_top_replies_one[\"urls\"] = df_comments_dec_urls_top_replies_one[\n",
    "    \"urls\"\n",
    "].apply(lambda x: unshorten(x))\n",
    "\n",
    "df_comments_dec_urls_top_replies_more[\"urls\"] = df_comments_dec_urls_top_replies_more[\n",
    "    \"urls\"\n",
    "].apply(lambda x: unshorten(x))"
   ]
  },
  {
   "cell_type": "code",
   "execution_count": 91,
   "id": "e93e3452",
   "metadata": {},
   "outputs": [],
   "source": [
    "df_comments_dec_urls_top_replies_one.drop_duplicates(inplace=True)\n",
    "df_comments_dec_urls_top_replies_more.drop_duplicates(inplace=True)"
   ]
  },
  {
   "cell_type": "code",
   "execution_count": 92,
   "id": "97cc3296",
   "metadata": {},
   "outputs": [],
   "source": [
    "df_comments_dec_urls_top_replies_one.to_csv(\n",
    "    yt_path + \"df_comments_dec_urls_top_replies_one.csv\", index=False\n",
    ")"
   ]
  },
  {
   "cell_type": "code",
   "execution_count": 93,
   "id": "dcaf538d",
   "metadata": {},
   "outputs": [],
   "source": [
    "pd.concat(\n",
    "    [df_comments_dec_urls_top_replies_one, df_comments_dec_urls_top_replies_more]\n",
    ").to_csv(yt_path + \"df_comments_dec_urls_top_replies.csv\", index=False)"
   ]
  },
  {
   "cell_type": "code",
   "execution_count": 94,
   "id": "45f42ab7",
   "metadata": {},
   "outputs": [
    {
     "data": {
      "text/html": [
       "<div>\n",
       "<style scoped>\n",
       "    .dataframe tbody tr th:only-of-type {\n",
       "        vertical-align: middle;\n",
       "    }\n",
       "\n",
       "    .dataframe tbody tr th {\n",
       "        vertical-align: top;\n",
       "    }\n",
       "\n",
       "    .dataframe thead th {\n",
       "        text-align: right;\n",
       "    }\n",
       "</style>\n",
       "<table border=\"1\" class=\"dataframe\">\n",
       "  <thead>\n",
       "    <tr style=\"text-align: right;\">\n",
       "      <th></th>\n",
       "      <th>urls</th>\n",
       "      <th>n_replies</th>\n",
       "      <th>n_urls</th>\n",
       "    </tr>\n",
       "  </thead>\n",
       "  <tbody>\n",
       "    <tr>\n",
       "      <th>126</th>\n",
       "      <td>https://privateinternetaccess.com/TheQuarteringBF</td>\n",
       "      <td>40.0</td>\n",
       "      <td>1</td>\n",
       "    </tr>\n",
       "    <tr>\n",
       "      <th>149</th>\n",
       "      <td>https://www.change.org/p/dc-entertainment-remo...</td>\n",
       "      <td>20.0</td>\n",
       "      <td>1</td>\n",
       "    </tr>\n",
       "    <tr>\n",
       "      <th>62</th>\n",
       "      <td>https://displate.com/thequartering?art=5e0b6fe...</td>\n",
       "      <td>14.0</td>\n",
       "      <td>1</td>\n",
       "    </tr>\n",
       "    <tr>\n",
       "      <th>605</th>\n",
       "      <td>https://www.npr.org/donations/510306?utm_campa...</td>\n",
       "      <td>8.0</td>\n",
       "      <td>1</td>\n",
       "    </tr>\n",
       "    <tr>\n",
       "      <th>166</th>\n",
       "      <td>https://www.google.com/url?sa=t&amp;source=web&amp;rct...</td>\n",
       "      <td>4.0</td>\n",
       "      <td>1</td>\n",
       "    </tr>\n",
       "    <tr>\n",
       "      <th>346</th>\n",
       "      <td>https://www.youtube.com/watch?v=qIXxO7Of_Ow&amp;fe...</td>\n",
       "      <td>4.0</td>\n",
       "      <td>1</td>\n",
       "    </tr>\n",
       "    <tr>\n",
       "      <th>319</th>\n",
       "      <td>https://www.youtube.com/watch?v=xFOFlPAaxOc&amp;fe...</td>\n",
       "      <td>2.0</td>\n",
       "      <td>1</td>\n",
       "    </tr>\n",
       "    <tr>\n",
       "      <th>557</th>\n",
       "      <td>https://www.youtube.com/watch?v=GXMAQ59a-ss&amp;t=6s</td>\n",
       "      <td>2.0</td>\n",
       "      <td>1</td>\n",
       "    </tr>\n",
       "    <tr>\n",
       "      <th>595</th>\n",
       "      <td>https://www.youtube.com/watch?v=QQUgzIh9vsw&amp;fe...</td>\n",
       "      <td>1.0</td>\n",
       "      <td>1</td>\n",
       "    </tr>\n",
       "    <tr>\n",
       "      <th>589</th>\n",
       "      <td>https://www.youtube.com/watch?v=a_DQ_4i-iAs&amp;fe...</td>\n",
       "      <td>1.0</td>\n",
       "      <td>1</td>\n",
       "    </tr>\n",
       "    <tr>\n",
       "      <th>571</th>\n",
       "      <td>https://m.facebook.com/story.php?story_fbid=10...</td>\n",
       "      <td>1.0</td>\n",
       "      <td>1</td>\n",
       "    </tr>\n",
       "    <tr>\n",
       "      <th>523</th>\n",
       "      <td>https://law.yale.edu/sites/default/files/area/...</td>\n",
       "      <td>1.0</td>\n",
       "      <td>1</td>\n",
       "    </tr>\n",
       "    <tr>\n",
       "      <th>522</th>\n",
       "      <td>https://jambernews.wordpress.com/2016/06/24/am...</td>\n",
       "      <td>1.0</td>\n",
       "      <td>1</td>\n",
       "    </tr>\n",
       "    <tr>\n",
       "      <th>503</th>\n",
       "      <td>https://www.change.org/p/ministry-of-justice-g...</td>\n",
       "      <td>1.0</td>\n",
       "      <td>1</td>\n",
       "    </tr>\n",
       "    <tr>\n",
       "      <th>79</th>\n",
       "      <td>https://www.change.org/p/dc-entertainment-remo...</td>\n",
       "      <td>1.0</td>\n",
       "      <td>1</td>\n",
       "    </tr>\n",
       "    <tr>\n",
       "      <th>474</th>\n",
       "      <td>https://www.change.org/p/dc-entertainment-remo...</td>\n",
       "      <td>1.0</td>\n",
       "      <td>1</td>\n",
       "    </tr>\n",
       "    <tr>\n",
       "      <th>385</th>\n",
       "      <td>https://tinyurl.com/app/nospam/tinyurl.com/Sna...</td>\n",
       "      <td>1.0</td>\n",
       "      <td>1</td>\n",
       "    </tr>\n",
       "    <tr>\n",
       "      <th>60</th>\n",
       "      <td>https://www.change.org/p/l-or%C3%A9al-remove-a...</td>\n",
       "      <td>1.0</td>\n",
       "      <td>1</td>\n",
       "    </tr>\n",
       "    <tr>\n",
       "      <th>351</th>\n",
       "      <td>https://www.youtube.com/watch?v=LDCmaO-hiGw&amp;fe...</td>\n",
       "      <td>1.0</td>\n",
       "      <td>1</td>\n",
       "    </tr>\n",
       "    <tr>\n",
       "      <th>290</th>\n",
       "      <td>https://www.youtube.com/watch?v=S1dwtwmcUTg&amp;fe...</td>\n",
       "      <td>1.0</td>\n",
       "      <td>1</td>\n",
       "    </tr>\n",
       "    <tr>\n",
       "      <th>279</th>\n",
       "      <td>https://www.youtube.com/watch?v=bqyLJ-fWbSI&amp;fe...</td>\n",
       "      <td>1.0</td>\n",
       "      <td>1</td>\n",
       "    </tr>\n",
       "    <tr>\n",
       "      <th>181</th>\n",
       "      <td>https://www.youtube.com/watch?v=OLpeX4RRo28&amp;fe...</td>\n",
       "      <td>1.0</td>\n",
       "      <td>1</td>\n",
       "    </tr>\n",
       "    <tr>\n",
       "      <th>75</th>\n",
       "      <td>https://www.youtube.com/watch?v=Yxzd4MlhdsM&amp;fe...</td>\n",
       "      <td>1.0</td>\n",
       "      <td>1</td>\n",
       "    </tr>\n",
       "    <tr>\n",
       "      <th>435</th>\n",
       "      <td>https://www.youtube.com/watch?v=4aBBYzgTdnU&amp;fe...</td>\n",
       "      <td>1.0</td>\n",
       "      <td>1</td>\n",
       "    </tr>\n",
       "  </tbody>\n",
       "</table>\n",
       "</div>"
      ],
      "text/plain": [
       "                                                  urls  n_replies  n_urls\n",
       "126  https://privateinternetaccess.com/TheQuarteringBF       40.0       1\n",
       "149  https://www.change.org/p/dc-entertainment-remo...       20.0       1\n",
       "62   https://displate.com/thequartering?art=5e0b6fe...       14.0       1\n",
       "605  https://www.npr.org/donations/510306?utm_campa...        8.0       1\n",
       "166  https://www.google.com/url?sa=t&source=web&rct...        4.0       1\n",
       "346  https://www.youtube.com/watch?v=qIXxO7Of_Ow&fe...        4.0       1\n",
       "319  https://www.youtube.com/watch?v=xFOFlPAaxOc&fe...        2.0       1\n",
       "557   https://www.youtube.com/watch?v=GXMAQ59a-ss&t=6s        2.0       1\n",
       "595  https://www.youtube.com/watch?v=QQUgzIh9vsw&fe...        1.0       1\n",
       "589  https://www.youtube.com/watch?v=a_DQ_4i-iAs&fe...        1.0       1\n",
       "571  https://m.facebook.com/story.php?story_fbid=10...        1.0       1\n",
       "523  https://law.yale.edu/sites/default/files/area/...        1.0       1\n",
       "522  https://jambernews.wordpress.com/2016/06/24/am...        1.0       1\n",
       "503  https://www.change.org/p/ministry-of-justice-g...        1.0       1\n",
       "79   https://www.change.org/p/dc-entertainment-remo...        1.0       1\n",
       "474  https://www.change.org/p/dc-entertainment-remo...        1.0       1\n",
       "385  https://tinyurl.com/app/nospam/tinyurl.com/Sna...        1.0       1\n",
       "60   https://www.change.org/p/l-or%C3%A9al-remove-a...        1.0       1\n",
       "351  https://www.youtube.com/watch?v=LDCmaO-hiGw&fe...        1.0       1\n",
       "290  https://www.youtube.com/watch?v=S1dwtwmcUTg&fe...        1.0       1\n",
       "279  https://www.youtube.com/watch?v=bqyLJ-fWbSI&fe...        1.0       1\n",
       "181  https://www.youtube.com/watch?v=OLpeX4RRo28&fe...        1.0       1\n",
       "75   https://www.youtube.com/watch?v=Yxzd4MlhdsM&fe...        1.0       1\n",
       "435  https://www.youtube.com/watch?v=4aBBYzgTdnU&fe...        1.0       1"
      ]
     },
     "execution_count": 94,
     "metadata": {},
     "output_type": "execute_result"
    }
   ],
   "source": [
    "df_comments_dec_urls_top_replies_one"
   ]
  },
  {
   "cell_type": "code",
   "execution_count": 95,
   "id": "4d2288db",
   "metadata": {},
   "outputs": [
    {
     "data": {
      "text/html": [
       "<div>\n",
       "<style scoped>\n",
       "    .dataframe tbody tr th:only-of-type {\n",
       "        vertical-align: middle;\n",
       "    }\n",
       "\n",
       "    .dataframe tbody tr th {\n",
       "        vertical-align: top;\n",
       "    }\n",
       "\n",
       "    .dataframe thead th {\n",
       "        text-align: right;\n",
       "    }\n",
       "</style>\n",
       "<table border=\"1\" class=\"dataframe\">\n",
       "  <thead>\n",
       "    <tr style=\"text-align: right;\">\n",
       "      <th></th>\n",
       "      <th>urls</th>\n",
       "      <th>n_replies</th>\n",
       "      <th>n_urls</th>\n",
       "    </tr>\n",
       "  </thead>\n",
       "  <tbody>\n",
       "    <tr>\n",
       "      <th>0</th>\n",
       "      <td>https://odysee.com/@NerdettesNewsStand:7?&amp;suns...</td>\n",
       "      <td>10.0</td>\n",
       "      <td>7</td>\n",
       "    </tr>\n",
       "    <tr>\n",
       "      <th>1</th>\n",
       "      <td>https://rumble.com/register/NerdettesNewsStand...</td>\n",
       "      <td>10.0</td>\n",
       "      <td>7</td>\n",
       "    </tr>\n",
       "    <tr>\n",
       "      <th>2</th>\n",
       "      <td>https://www.youtube.com/channel/UCt4dtZ67qO3xW...</td>\n",
       "      <td>10.0</td>\n",
       "      <td>7</td>\n",
       "    </tr>\n",
       "    <tr>\n",
       "      <th>3</th>\n",
       "      <td>https://www.bitchute.com/channel/a3WbPaAzRKWN/</td>\n",
       "      <td>10.0</td>\n",
       "      <td>7</td>\n",
       "    </tr>\n",
       "    <tr>\n",
       "      <th>4</th>\n",
       "      <td>https://www.youtube.com/channel/UC8AGq7bm-x4te...</td>\n",
       "      <td>10.0</td>\n",
       "      <td>7</td>\n",
       "    </tr>\n",
       "    <tr>\n",
       "      <th>...</th>\n",
       "      <td>...</td>\n",
       "      <td>...</td>\n",
       "      <td>...</td>\n",
       "    </tr>\n",
       "    <tr>\n",
       "      <th>72</th>\n",
       "      <td>https://twitter.com/PodcastNow15</td>\n",
       "      <td>1.0</td>\n",
       "      <td>6</td>\n",
       "    </tr>\n",
       "    <tr>\n",
       "      <th>73</th>\n",
       "      <td>https://variety.com/2018/biz/news/johnny-depp-...</td>\n",
       "      <td>1.0</td>\n",
       "      <td>4</td>\n",
       "    </tr>\n",
       "    <tr>\n",
       "      <th>74</th>\n",
       "      <td>https://www.dnaindia.com/hollywood/report-neve...</td>\n",
       "      <td>1.0</td>\n",
       "      <td>4</td>\n",
       "    </tr>\n",
       "    <tr>\n",
       "      <th>75</th>\n",
       "      <td>https://www.upi.com/Archives/1989/03/10/DEPP-S...</td>\n",
       "      <td>1.0</td>\n",
       "      <td>4</td>\n",
       "    </tr>\n",
       "    <tr>\n",
       "      <th>76</th>\n",
       "      <td>http://news.bbc.co.uk/2/hi/uk_news/269156.stm</td>\n",
       "      <td>1.0</td>\n",
       "      <td>4</td>\n",
       "    </tr>\n",
       "  </tbody>\n",
       "</table>\n",
       "<p>77 rows × 3 columns</p>\n",
       "</div>"
      ],
      "text/plain": [
       "                                                 urls  n_replies  n_urls\n",
       "0   https://odysee.com/@NerdettesNewsStand:7?&suns...       10.0       7\n",
       "1   https://rumble.com/register/NerdettesNewsStand...       10.0       7\n",
       "2   https://www.youtube.com/channel/UCt4dtZ67qO3xW...       10.0       7\n",
       "3      https://www.bitchute.com/channel/a3WbPaAzRKWN/       10.0       7\n",
       "4   https://www.youtube.com/channel/UC8AGq7bm-x4te...       10.0       7\n",
       "..                                                ...        ...     ...\n",
       "72                   https://twitter.com/PodcastNow15        1.0       6\n",
       "73  https://variety.com/2018/biz/news/johnny-depp-...        1.0       4\n",
       "74  https://www.dnaindia.com/hollywood/report-neve...        1.0       4\n",
       "75  https://www.upi.com/Archives/1989/03/10/DEPP-S...        1.0       4\n",
       "76      http://news.bbc.co.uk/2/hi/uk_news/269156.stm        1.0       4\n",
       "\n",
       "[77 rows x 3 columns]"
      ]
     },
     "execution_count": 95,
     "metadata": {},
     "output_type": "execute_result"
    }
   ],
   "source": [
    "df_comments_dec_urls_top_replies_more"
   ]
  },
  {
   "cell_type": "code",
   "execution_count": 96,
   "id": "e209219d",
   "metadata": {},
   "outputs": [
    {
     "data": {
      "text/html": [
       "<div>\n",
       "<style scoped>\n",
       "    .dataframe tbody tr th:only-of-type {\n",
       "        vertical-align: middle;\n",
       "    }\n",
       "\n",
       "    .dataframe tbody tr th {\n",
       "        vertical-align: top;\n",
       "    }\n",
       "\n",
       "    .dataframe thead th {\n",
       "        text-align: right;\n",
       "    }\n",
       "</style>\n",
       "<table border=\"1\" class=\"dataframe\">\n",
       "  <thead>\n",
       "    <tr style=\"text-align: right;\">\n",
       "      <th></th>\n",
       "      <th>urls</th>\n",
       "      <th>n_replies</th>\n",
       "      <th>n_urls</th>\n",
       "    </tr>\n",
       "  </thead>\n",
       "  <tbody>\n",
       "    <tr>\n",
       "      <th>126</th>\n",
       "      <td>https://privateinternetaccess.com/TheQuarteringBF</td>\n",
       "      <td>40.0</td>\n",
       "      <td>1</td>\n",
       "    </tr>\n",
       "    <tr>\n",
       "      <th>149</th>\n",
       "      <td>https://www.change.org/p/dc-entertainment-remo...</td>\n",
       "      <td>20.0</td>\n",
       "      <td>1</td>\n",
       "    </tr>\n",
       "    <tr>\n",
       "      <th>62</th>\n",
       "      <td>https://displate.com/thequartering?art=5e0b6fe...</td>\n",
       "      <td>14.0</td>\n",
       "      <td>1</td>\n",
       "    </tr>\n",
       "    <tr>\n",
       "      <th>605</th>\n",
       "      <td>https://www.npr.org/donations/510306?utm_campa...</td>\n",
       "      <td>8.0</td>\n",
       "      <td>1</td>\n",
       "    </tr>\n",
       "    <tr>\n",
       "      <th>166</th>\n",
       "      <td>https://www.google.com/url?sa=t&amp;source=web&amp;rct...</td>\n",
       "      <td>4.0</td>\n",
       "      <td>1</td>\n",
       "    </tr>\n",
       "    <tr>\n",
       "      <th>...</th>\n",
       "      <td>...</td>\n",
       "      <td>...</td>\n",
       "      <td>...</td>\n",
       "    </tr>\n",
       "    <tr>\n",
       "      <th>72</th>\n",
       "      <td>https://twitter.com/PodcastNow15</td>\n",
       "      <td>1.0</td>\n",
       "      <td>6</td>\n",
       "    </tr>\n",
       "    <tr>\n",
       "      <th>73</th>\n",
       "      <td>https://variety.com/2018/biz/news/johnny-depp-...</td>\n",
       "      <td>1.0</td>\n",
       "      <td>4</td>\n",
       "    </tr>\n",
       "    <tr>\n",
       "      <th>74</th>\n",
       "      <td>https://www.dnaindia.com/hollywood/report-neve...</td>\n",
       "      <td>1.0</td>\n",
       "      <td>4</td>\n",
       "    </tr>\n",
       "    <tr>\n",
       "      <th>75</th>\n",
       "      <td>https://www.upi.com/Archives/1989/03/10/DEPP-S...</td>\n",
       "      <td>1.0</td>\n",
       "      <td>4</td>\n",
       "    </tr>\n",
       "    <tr>\n",
       "      <th>76</th>\n",
       "      <td>http://news.bbc.co.uk/2/hi/uk_news/269156.stm</td>\n",
       "      <td>1.0</td>\n",
       "      <td>4</td>\n",
       "    </tr>\n",
       "  </tbody>\n",
       "</table>\n",
       "<p>101 rows × 3 columns</p>\n",
       "</div>"
      ],
      "text/plain": [
       "                                                  urls  n_replies  n_urls\n",
       "126  https://privateinternetaccess.com/TheQuarteringBF       40.0       1\n",
       "149  https://www.change.org/p/dc-entertainment-remo...       20.0       1\n",
       "62   https://displate.com/thequartering?art=5e0b6fe...       14.0       1\n",
       "605  https://www.npr.org/donations/510306?utm_campa...        8.0       1\n",
       "166  https://www.google.com/url?sa=t&source=web&rct...        4.0       1\n",
       "..                                                 ...        ...     ...\n",
       "72                    https://twitter.com/PodcastNow15        1.0       6\n",
       "73   https://variety.com/2018/biz/news/johnny-depp-...        1.0       4\n",
       "74   https://www.dnaindia.com/hollywood/report-neve...        1.0       4\n",
       "75   https://www.upi.com/Archives/1989/03/10/DEPP-S...        1.0       4\n",
       "76       http://news.bbc.co.uk/2/hi/uk_news/269156.stm        1.0       4\n",
       "\n",
       "[101 rows x 3 columns]"
      ]
     },
     "execution_count": 96,
     "metadata": {},
     "output_type": "execute_result"
    }
   ],
   "source": [
    "pd.concat([df_comments_dec_urls_top_replies_one, df_comments_dec_urls_top_replies_more])"
   ]
  },
  {
   "cell_type": "markdown",
   "id": "c9746281",
   "metadata": {},
   "source": [
    "# Videos"
   ]
  },
  {
   "cell_type": "markdown",
   "id": "83902011",
   "metadata": {},
   "source": [
    "## 4 Months"
   ]
  },
  {
   "cell_type": "code",
   "execution_count": 8,
   "id": "93d88102",
   "metadata": {},
   "outputs": [],
   "source": [
    "df_videos_4_months_urls = pd.read_csv(data_path + \"df_videos_4_months_urls.csv\")"
   ]
  },
  {
   "cell_type": "code",
   "execution_count": 9,
   "id": "a943a1b4",
   "metadata": {},
   "outputs": [
    {
     "data": {
      "text/html": [
       "<div>\n",
       "<style scoped>\n",
       "    .dataframe tbody tr th:only-of-type {\n",
       "        vertical-align: middle;\n",
       "    }\n",
       "\n",
       "    .dataframe tbody tr th {\n",
       "        vertical-align: top;\n",
       "    }\n",
       "\n",
       "    .dataframe thead th {\n",
       "        text-align: right;\n",
       "    }\n",
       "</style>\n",
       "<table border=\"1\" class=\"dataframe\">\n",
       "  <thead>\n",
       "    <tr style=\"text-align: right;\">\n",
       "      <th></th>\n",
       "      <th>id</th>\n",
       "      <th>Unnamed: 0</th>\n",
       "      <th>Unnamed: 0.1</th>\n",
       "      <th>kind</th>\n",
       "      <th>etag</th>\n",
       "      <th>snippet.publishedAt</th>\n",
       "      <th>snippet.channelId</th>\n",
       "      <th>snippet.title</th>\n",
       "      <th>snippet.description</th>\n",
       "      <th>snippet.thumbnails.default.url</th>\n",
       "      <th>...</th>\n",
       "      <th>statistics.dislikeCount</th>\n",
       "      <th>statistics.favoriteCount</th>\n",
       "      <th>statistics.commentCount</th>\n",
       "      <th>snippet.defaultLanguage</th>\n",
       "      <th>contentDetails.contentRating.ytRating</th>\n",
       "      <th>contentDetails.regionRestriction.blocked</th>\n",
       "      <th>contentDetails.regionRestriction.allowed</th>\n",
       "      <th>year</th>\n",
       "      <th>urls</th>\n",
       "      <th>n_urls</th>\n",
       "    </tr>\n",
       "  </thead>\n",
       "  <tbody>\n",
       "    <tr>\n",
       "      <th>0</th>\n",
       "      <td>14SUI93R_k8</td>\n",
       "      <td>0</td>\n",
       "      <td>0.0</td>\n",
       "      <td>youtube#video</td>\n",
       "      <td>zUX2H4amXbJxvecYfsO-9mMha7c</td>\n",
       "      <td>2021-03-19 17:00:30+00:00</td>\n",
       "      <td>UC-NINtNMPM75eaqh07RCy_Q</td>\n",
       "      <td>jason momoa defends amber heard after aquaman ...</td>\n",
       "      <td>jason momoa defends amber heard after aquaman ...</td>\n",
       "      <td>https://i.ytimg.com/vi/14SUI93R_k8/default.jpg</td>\n",
       "      <td>...</td>\n",
       "      <td>71.0</td>\n",
       "      <td>0</td>\n",
       "      <td>942.0</td>\n",
       "      <td>NaN</td>\n",
       "      <td>NaN</td>\n",
       "      <td>NaN</td>\n",
       "      <td>NaN</td>\n",
       "      <td>2021</td>\n",
       "      <td>['http://bit.ly/2xB5CqA', 'https://bit.ly/3qF3...</td>\n",
       "      <td>9</td>\n",
       "    </tr>\n",
       "  </tbody>\n",
       "</table>\n",
       "<p>1 rows × 55 columns</p>\n",
       "</div>"
      ],
      "text/plain": [
       "            id  Unnamed: 0  Unnamed: 0.1           kind  \\\n",
       "0  14SUI93R_k8           0           0.0  youtube#video   \n",
       "\n",
       "                          etag        snippet.publishedAt  \\\n",
       "0  zUX2H4amXbJxvecYfsO-9mMha7c  2021-03-19 17:00:30+00:00   \n",
       "\n",
       "          snippet.channelId  \\\n",
       "0  UC-NINtNMPM75eaqh07RCy_Q   \n",
       "\n",
       "                                       snippet.title  \\\n",
       "0  jason momoa defends amber heard after aquaman ...   \n",
       "\n",
       "                                 snippet.description  \\\n",
       "0  jason momoa defends amber heard after aquaman ...   \n",
       "\n",
       "                   snippet.thumbnails.default.url  ...  \\\n",
       "0  https://i.ytimg.com/vi/14SUI93R_k8/default.jpg  ...   \n",
       "\n",
       "   statistics.dislikeCount  statistics.favoriteCount statistics.commentCount  \\\n",
       "0                     71.0                         0                   942.0   \n",
       "\n",
       "   snippet.defaultLanguage  contentDetails.contentRating.ytRating  \\\n",
       "0                      NaN                                    NaN   \n",
       "\n",
       "  contentDetails.regionRestriction.blocked  \\\n",
       "0                                      NaN   \n",
       "\n",
       "   contentDetails.regionRestriction.allowed  year  \\\n",
       "0                                       NaN  2021   \n",
       "\n",
       "                                                urls  n_urls  \n",
       "0  ['http://bit.ly/2xB5CqA', 'https://bit.ly/3qF3...       9  \n",
       "\n",
       "[1 rows x 55 columns]"
      ]
     },
     "execution_count": 9,
     "metadata": {},
     "output_type": "execute_result"
    }
   ],
   "source": [
    "df_videos_4_months_urls.head(1)"
   ]
  },
  {
   "cell_type": "code",
   "execution_count": 10,
   "id": "d54bd658",
   "metadata": {},
   "outputs": [],
   "source": [
    "df_videos_4_months_urls = df_videos_4_months_urls[df_videos_4_months_urls.n_urls > 0 ]"
   ]
  },
  {
   "cell_type": "code",
   "execution_count": 11,
   "id": "9a5e102d",
   "metadata": {},
   "outputs": [
    {
     "data": {
      "text/plain": [
       "Index(['id', 'Unnamed: 0', 'Unnamed: 0.1', 'kind', 'etag',\n",
       "       'snippet.publishedAt', 'snippet.channelId', 'snippet.title',\n",
       "       'snippet.description', 'snippet.thumbnails.default.url',\n",
       "       'snippet.thumbnails.default.width', 'snippet.thumbnails.default.height',\n",
       "       'snippet.thumbnails.medium.url', 'snippet.thumbnails.medium.width',\n",
       "       'snippet.thumbnails.medium.height', 'snippet.thumbnails.high.url',\n",
       "       'snippet.thumbnails.high.width', 'snippet.thumbnails.high.height',\n",
       "       'snippet.thumbnails.standard.url', 'snippet.thumbnails.standard.width',\n",
       "       'snippet.thumbnails.standard.height', 'snippet.thumbnails.maxres.url',\n",
       "       'snippet.thumbnails.maxres.width', 'snippet.thumbnails.maxres.height',\n",
       "       'snippet.channelTitle', 'snippet.tags', 'snippet.categoryId',\n",
       "       'snippet.liveBroadcastContent', 'snippet.localized.title',\n",
       "       'snippet.localized.description', 'snippet.defaultAudioLanguage',\n",
       "       'contentDetails.duration', 'contentDetails.dimension',\n",
       "       'contentDetails.definition', 'contentDetails.caption',\n",
       "       'contentDetails.licensedContent', 'contentDetails.projection',\n",
       "       'status.uploadStatus', 'status.privacyStatus', 'status.license',\n",
       "       'status.embeddable', 'status.publicStatsViewable', 'status.madeForKids',\n",
       "       'statistics.viewCount', 'statistics.likeCount',\n",
       "       'statistics.dislikeCount', 'statistics.favoriteCount',\n",
       "       'statistics.commentCount', 'snippet.defaultLanguage',\n",
       "       'contentDetails.contentRating.ytRating',\n",
       "       'contentDetails.regionRestriction.blocked',\n",
       "       'contentDetails.regionRestriction.allowed', 'year', 'urls', 'n_urls'],\n",
       "      dtype='object')"
      ]
     },
     "execution_count": 11,
     "metadata": {},
     "output_type": "execute_result"
    }
   ],
   "source": [
    "df_videos_4_months_urls.columns"
   ]
  },
  {
   "cell_type": "code",
   "execution_count": 12,
   "id": "a2e4c82c",
   "metadata": {},
   "outputs": [],
   "source": [
    "df_videos_4_months_urls.rename(\n",
    "    columns={\n",
    "        \"statistics.viewCount\": \"n_views\",\n",
    "        \"statistics.likeCount\": \"n_likes\",\n",
    "        \"statistics.dislikeCount\": \"n_dislikes\",\n",
    "        \"statistics.favoriteCount\": \"n_favorites\",\n",
    "        \"statistics.commentCount\": \"n_comments\",\n",
    "    },\n",
    "    inplace=True,\n",
    ")"
   ]
  },
  {
   "cell_type": "markdown",
   "id": "cc006e68",
   "metadata": {},
   "source": [
    "### Views"
   ]
  },
  {
   "cell_type": "code",
   "execution_count": 13,
   "id": "034645b0",
   "metadata": {},
   "outputs": [
    {
     "data": {
      "text/plain": [
       "count    5.810000e+02\n",
       "mean     9.374224e+04\n",
       "std      4.265484e+05\n",
       "min      4.000000e+00\n",
       "25%      1.581000e+03\n",
       "50%      7.825000e+03\n",
       "75%      5.748600e+04\n",
       "max      7.271086e+06\n",
       "Name: n_views, dtype: float64"
      ]
     },
     "execution_count": 13,
     "metadata": {},
     "output_type": "execute_result"
    }
   ],
   "source": [
    "df_videos_4_months_urls.n_views.describe()"
   ]
  },
  {
   "cell_type": "code",
   "execution_count": 14,
   "id": "e12dd108",
   "metadata": {},
   "outputs": [
    {
     "data": {
      "text/plain": [
       "7271086"
      ]
     },
     "execution_count": 14,
     "metadata": {},
     "output_type": "execute_result"
    }
   ],
   "source": [
    "df_videos_4_months_urls.n_views.max()"
   ]
  },
  {
   "cell_type": "code",
   "execution_count": 32,
   "id": "72469e39",
   "metadata": {},
   "outputs": [
    {
     "data": {
      "application/vnd.plotly.v1+json": {
       "config": {
        "plotlyServerURL": "https://plot.ly"
       },
       "data": [
        {
         "alignmentgroup": "True",
         "bingroup": "x",
         "hovertemplate": "n_views=%{x}<br>count=%{y}<extra></extra>",
         "legendgroup": "",
         "marker": {
          "color": "#636efa",
          "pattern": {
           "shape": ""
          }
         },
         "name": "",
         "offsetgroup": "",
         "orientation": "v",
         "showlegend": false,
         "type": "histogram",
         "x": [
          32001,
          7081,
          7638,
          36739,
          120719,
          230761,
          49041,
          9603,
          910,
          268941,
          10006,
          20283,
          643030,
          233319,
          545,
          433088,
          227008,
          1056676,
          963776,
          97379,
          7633,
          13841,
          94452,
          20996,
          28,
          36668,
          545376,
          12864,
          8167,
          16858,
          572,
          1151,
          3560,
          1722,
          11208,
          574,
          2927,
          191489,
          154540,
          827,
          1333325,
          18637,
          137189,
          142273,
          106,
          1329,
          75088,
          3869,
          291853,
          4903,
          72277,
          161,
          28,
          84579,
          1566,
          1426,
          3367,
          414537,
          828056,
          169815,
          38550,
          85,
          17163,
          33169,
          1701,
          309397,
          66348,
          82281,
          192102,
          21262,
          20219,
          2372,
          219704,
          102433,
          40953,
          260,
          97615,
          143,
          6951,
          7972,
          490,
          969,
          434,
          357,
          7386,
          75319,
          2139,
          19425,
          5630,
          263441,
          9032,
          125813,
          337272,
          75032,
          101342,
          1234085,
          50,
          42617,
          65542,
          97,
          33220,
          264,
          19047,
          45431,
          101347,
          23648,
          180789,
          157629,
          2081,
          51931,
          77464,
          72314,
          45129,
          12929,
          58531,
          95055,
          11248,
          36485,
          7892,
          1686,
          5921,
          26,
          123081,
          143679,
          146,
          265,
          205414,
          374403,
          35523,
          72269,
          70921,
          82,
          1173,
          997674,
          30668,
          3074,
          23836,
          72441,
          112,
          128437,
          17239,
          18768,
          88742,
          83808,
          1724,
          1057,
          3722,
          42709,
          7430,
          41871,
          31908,
          59,
          79094,
          320088,
          52086,
          2982,
          570570,
          866811,
          35193,
          101453,
          149,
          4880,
          15069,
          103252,
          88466,
          81642,
          73884,
          177318,
          3937,
          294824,
          43243,
          999,
          11,
          9968,
          2411,
          83262,
          2328,
          7131,
          1328,
          3099,
          12,
          23179,
          694,
          35625,
          3890345,
          132642,
          17259,
          82476,
          35455,
          321607,
          184,
          116848,
          173,
          8166,
          426303,
          249161,
          5801,
          15,
          38121,
          2109,
          886,
          48362,
          11216,
          18305,
          192,
          96510,
          5078,
          55460,
          10966,
          72999,
          70884,
          89186,
          790,
          25868,
          159996,
          908240,
          92982,
          40884,
          33218,
          82,
          7981,
          57486,
          31397,
          129657,
          6139,
          3355,
          6285,
          87226,
          396094,
          60182,
          325676,
          2415,
          28,
          93311,
          21544,
          254918,
          116,
          3373,
          65657,
          4871,
          91347,
          46862,
          56799,
          1120,
          39806,
          543,
          74334,
          26776,
          7967,
          32542,
          173347,
          51458,
          763,
          56936,
          77,
          771,
          116,
          168286,
          1997,
          41484,
          1524,
          25502,
          1221,
          536,
          1492,
          2328,
          1349,
          4860,
          107955,
          15461,
          996,
          792306,
          144529,
          12397,
          7271086,
          69351,
          26752,
          4656,
          2195,
          3615,
          2329,
          2837,
          25656,
          90749,
          131,
          326,
          3564,
          6384,
          164957,
          91,
          5153,
          4282,
          2358,
          32062,
          150320,
          82079,
          2080,
          22863,
          1665,
          161,
          912,
          1802,
          10299,
          2138,
          355,
          7283,
          39364,
          8485,
          4437,
          8310,
          20440,
          1950,
          3388,
          72772,
          121334,
          467,
          1775,
          1486,
          8732,
          7875,
          44045,
          1256929,
          2481,
          26505,
          24071,
          146498,
          764,
          2578,
          35714,
          562,
          109160,
          3827,
          1681,
          815,
          2351,
          115780,
          13781,
          4,
          10147,
          20091,
          5036,
          1785,
          465,
          14878,
          3328,
          2161,
          2209,
          13816,
          1355,
          766,
          84276,
          739991,
          15463,
          1318,
          364,
          10048,
          60634,
          169,
          297752,
          169394,
          30,
          3709,
          722,
          2043,
          11024,
          175262,
          2563,
          7720,
          27354,
          5986,
          931,
          55711,
          4932,
          1736,
          5129,
          4528,
          12059,
          99,
          9276,
          5634,
          6534,
          967,
          2017,
          239,
          4235,
          495,
          27878,
          643835,
          4316,
          116246,
          67608,
          3279,
          40753,
          1735,
          30081,
          4851,
          120261,
          2123,
          727,
          9005,
          36705,
          15587,
          5420,
          13602,
          671,
          6968,
          4378,
          22811,
          1346,
          47,
          6905,
          1264,
          106706,
          98155,
          6570,
          1171,
          238,
          5063,
          72740,
          94336,
          557973,
          434468,
          80,
          14574,
          5042,
          3449,
          430,
          4935,
          7017,
          51385,
          125943,
          201526,
          30,
          5757,
          2226,
          4924,
          92390,
          1512,
          7369,
          91259,
          57456,
          4703,
          84150,
          35,
          82,
          11999,
          225641,
          98,
          218,
          29332,
          18728,
          188,
          648,
          3283,
          41083,
          5373,
          5217,
          12856,
          4290,
          3376,
          7825,
          7328,
          632,
          30085,
          1723,
          58,
          138508,
          32200,
          36677,
          33244,
          3585,
          4338,
          49556,
          3967,
          604,
          987,
          71287,
          84531,
          9891,
          1306224,
          580,
          3019,
          7501,
          12884,
          1925,
          3835,
          53102,
          543,
          40255,
          1581,
          383338,
          329,
          23127,
          651,
          2945,
          31442,
          21478,
          235,
          73124,
          189,
          383,
          269,
          7589,
          1770,
          233,
          64835,
          3504,
          409,
          183,
          4869259,
          222,
          13752,
          57486,
          54151,
          382,
          4383,
          20519,
          7678,
          463,
          1407,
          290,
          10712,
          1120,
          6010,
          5328,
          570,
          35,
          2702,
          467,
          598,
          95,
          15727,
          1641,
          52,
          1262,
          4001,
          7612,
          5223,
          36,
          2886,
          6653,
          1091,
          129,
          649,
          1617,
          94,
          174881,
          2247,
          30178,
          1234,
          42053,
          151085,
          15895,
          59694,
          1935,
          180,
          1078,
          425967,
          242,
          2852,
          236,
          6835,
          163,
          12195,
          1429,
          3799,
          7372,
          38620,
          76,
          2393,
          3617,
          359,
          8767,
          101,
          2179,
          1537,
          14580,
          1850,
          518,
          39976,
          2558
         ],
         "xaxis": "x",
         "yaxis": "y"
        }
       ],
       "layout": {
        "barmode": "relative",
        "legend": {
         "tracegroupgap": 0
        },
        "margin": {
         "t": 60
        },
        "template": {
         "data": {
          "bar": [
           {
            "error_x": {
             "color": "#2a3f5f"
            },
            "error_y": {
             "color": "#2a3f5f"
            },
            "marker": {
             "line": {
              "color": "#E5ECF6",
              "width": 0.5
             },
             "pattern": {
              "fillmode": "overlay",
              "size": 10,
              "solidity": 0.2
             }
            },
            "type": "bar"
           }
          ],
          "barpolar": [
           {
            "marker": {
             "line": {
              "color": "#E5ECF6",
              "width": 0.5
             },
             "pattern": {
              "fillmode": "overlay",
              "size": 10,
              "solidity": 0.2
             }
            },
            "type": "barpolar"
           }
          ],
          "carpet": [
           {
            "aaxis": {
             "endlinecolor": "#2a3f5f",
             "gridcolor": "white",
             "linecolor": "white",
             "minorgridcolor": "white",
             "startlinecolor": "#2a3f5f"
            },
            "baxis": {
             "endlinecolor": "#2a3f5f",
             "gridcolor": "white",
             "linecolor": "white",
             "minorgridcolor": "white",
             "startlinecolor": "#2a3f5f"
            },
            "type": "carpet"
           }
          ],
          "choropleth": [
           {
            "colorbar": {
             "outlinewidth": 0,
             "ticks": ""
            },
            "type": "choropleth"
           }
          ],
          "contour": [
           {
            "colorbar": {
             "outlinewidth": 0,
             "ticks": ""
            },
            "colorscale": [
             [
              0,
              "#0d0887"
             ],
             [
              0.1111111111111111,
              "#46039f"
             ],
             [
              0.2222222222222222,
              "#7201a8"
             ],
             [
              0.3333333333333333,
              "#9c179e"
             ],
             [
              0.4444444444444444,
              "#bd3786"
             ],
             [
              0.5555555555555556,
              "#d8576b"
             ],
             [
              0.6666666666666666,
              "#ed7953"
             ],
             [
              0.7777777777777778,
              "#fb9f3a"
             ],
             [
              0.8888888888888888,
              "#fdca26"
             ],
             [
              1,
              "#f0f921"
             ]
            ],
            "type": "contour"
           }
          ],
          "contourcarpet": [
           {
            "colorbar": {
             "outlinewidth": 0,
             "ticks": ""
            },
            "type": "contourcarpet"
           }
          ],
          "heatmap": [
           {
            "colorbar": {
             "outlinewidth": 0,
             "ticks": ""
            },
            "colorscale": [
             [
              0,
              "#0d0887"
             ],
             [
              0.1111111111111111,
              "#46039f"
             ],
             [
              0.2222222222222222,
              "#7201a8"
             ],
             [
              0.3333333333333333,
              "#9c179e"
             ],
             [
              0.4444444444444444,
              "#bd3786"
             ],
             [
              0.5555555555555556,
              "#d8576b"
             ],
             [
              0.6666666666666666,
              "#ed7953"
             ],
             [
              0.7777777777777778,
              "#fb9f3a"
             ],
             [
              0.8888888888888888,
              "#fdca26"
             ],
             [
              1,
              "#f0f921"
             ]
            ],
            "type": "heatmap"
           }
          ],
          "heatmapgl": [
           {
            "colorbar": {
             "outlinewidth": 0,
             "ticks": ""
            },
            "colorscale": [
             [
              0,
              "#0d0887"
             ],
             [
              0.1111111111111111,
              "#46039f"
             ],
             [
              0.2222222222222222,
              "#7201a8"
             ],
             [
              0.3333333333333333,
              "#9c179e"
             ],
             [
              0.4444444444444444,
              "#bd3786"
             ],
             [
              0.5555555555555556,
              "#d8576b"
             ],
             [
              0.6666666666666666,
              "#ed7953"
             ],
             [
              0.7777777777777778,
              "#fb9f3a"
             ],
             [
              0.8888888888888888,
              "#fdca26"
             ],
             [
              1,
              "#f0f921"
             ]
            ],
            "type": "heatmapgl"
           }
          ],
          "histogram": [
           {
            "marker": {
             "pattern": {
              "fillmode": "overlay",
              "size": 10,
              "solidity": 0.2
             }
            },
            "type": "histogram"
           }
          ],
          "histogram2d": [
           {
            "colorbar": {
             "outlinewidth": 0,
             "ticks": ""
            },
            "colorscale": [
             [
              0,
              "#0d0887"
             ],
             [
              0.1111111111111111,
              "#46039f"
             ],
             [
              0.2222222222222222,
              "#7201a8"
             ],
             [
              0.3333333333333333,
              "#9c179e"
             ],
             [
              0.4444444444444444,
              "#bd3786"
             ],
             [
              0.5555555555555556,
              "#d8576b"
             ],
             [
              0.6666666666666666,
              "#ed7953"
             ],
             [
              0.7777777777777778,
              "#fb9f3a"
             ],
             [
              0.8888888888888888,
              "#fdca26"
             ],
             [
              1,
              "#f0f921"
             ]
            ],
            "type": "histogram2d"
           }
          ],
          "histogram2dcontour": [
           {
            "colorbar": {
             "outlinewidth": 0,
             "ticks": ""
            },
            "colorscale": [
             [
              0,
              "#0d0887"
             ],
             [
              0.1111111111111111,
              "#46039f"
             ],
             [
              0.2222222222222222,
              "#7201a8"
             ],
             [
              0.3333333333333333,
              "#9c179e"
             ],
             [
              0.4444444444444444,
              "#bd3786"
             ],
             [
              0.5555555555555556,
              "#d8576b"
             ],
             [
              0.6666666666666666,
              "#ed7953"
             ],
             [
              0.7777777777777778,
              "#fb9f3a"
             ],
             [
              0.8888888888888888,
              "#fdca26"
             ],
             [
              1,
              "#f0f921"
             ]
            ],
            "type": "histogram2dcontour"
           }
          ],
          "mesh3d": [
           {
            "colorbar": {
             "outlinewidth": 0,
             "ticks": ""
            },
            "type": "mesh3d"
           }
          ],
          "parcoords": [
           {
            "line": {
             "colorbar": {
              "outlinewidth": 0,
              "ticks": ""
             }
            },
            "type": "parcoords"
           }
          ],
          "pie": [
           {
            "automargin": true,
            "type": "pie"
           }
          ],
          "scatter": [
           {
            "marker": {
             "colorbar": {
              "outlinewidth": 0,
              "ticks": ""
             }
            },
            "type": "scatter"
           }
          ],
          "scatter3d": [
           {
            "line": {
             "colorbar": {
              "outlinewidth": 0,
              "ticks": ""
             }
            },
            "marker": {
             "colorbar": {
              "outlinewidth": 0,
              "ticks": ""
             }
            },
            "type": "scatter3d"
           }
          ],
          "scattercarpet": [
           {
            "marker": {
             "colorbar": {
              "outlinewidth": 0,
              "ticks": ""
             }
            },
            "type": "scattercarpet"
           }
          ],
          "scattergeo": [
           {
            "marker": {
             "colorbar": {
              "outlinewidth": 0,
              "ticks": ""
             }
            },
            "type": "scattergeo"
           }
          ],
          "scattergl": [
           {
            "marker": {
             "colorbar": {
              "outlinewidth": 0,
              "ticks": ""
             }
            },
            "type": "scattergl"
           }
          ],
          "scattermapbox": [
           {
            "marker": {
             "colorbar": {
              "outlinewidth": 0,
              "ticks": ""
             }
            },
            "type": "scattermapbox"
           }
          ],
          "scatterpolar": [
           {
            "marker": {
             "colorbar": {
              "outlinewidth": 0,
              "ticks": ""
             }
            },
            "type": "scatterpolar"
           }
          ],
          "scatterpolargl": [
           {
            "marker": {
             "colorbar": {
              "outlinewidth": 0,
              "ticks": ""
             }
            },
            "type": "scatterpolargl"
           }
          ],
          "scatterternary": [
           {
            "marker": {
             "colorbar": {
              "outlinewidth": 0,
              "ticks": ""
             }
            },
            "type": "scatterternary"
           }
          ],
          "surface": [
           {
            "colorbar": {
             "outlinewidth": 0,
             "ticks": ""
            },
            "colorscale": [
             [
              0,
              "#0d0887"
             ],
             [
              0.1111111111111111,
              "#46039f"
             ],
             [
              0.2222222222222222,
              "#7201a8"
             ],
             [
              0.3333333333333333,
              "#9c179e"
             ],
             [
              0.4444444444444444,
              "#bd3786"
             ],
             [
              0.5555555555555556,
              "#d8576b"
             ],
             [
              0.6666666666666666,
              "#ed7953"
             ],
             [
              0.7777777777777778,
              "#fb9f3a"
             ],
             [
              0.8888888888888888,
              "#fdca26"
             ],
             [
              1,
              "#f0f921"
             ]
            ],
            "type": "surface"
           }
          ],
          "table": [
           {
            "cells": {
             "fill": {
              "color": "#EBF0F8"
             },
             "line": {
              "color": "white"
             }
            },
            "header": {
             "fill": {
              "color": "#C8D4E3"
             },
             "line": {
              "color": "white"
             }
            },
            "type": "table"
           }
          ]
         },
         "layout": {
          "annotationdefaults": {
           "arrowcolor": "#2a3f5f",
           "arrowhead": 0,
           "arrowwidth": 1
          },
          "autotypenumbers": "strict",
          "coloraxis": {
           "colorbar": {
            "outlinewidth": 0,
            "ticks": ""
           }
          },
          "colorscale": {
           "diverging": [
            [
             0,
             "#8e0152"
            ],
            [
             0.1,
             "#c51b7d"
            ],
            [
             0.2,
             "#de77ae"
            ],
            [
             0.3,
             "#f1b6da"
            ],
            [
             0.4,
             "#fde0ef"
            ],
            [
             0.5,
             "#f7f7f7"
            ],
            [
             0.6,
             "#e6f5d0"
            ],
            [
             0.7,
             "#b8e186"
            ],
            [
             0.8,
             "#7fbc41"
            ],
            [
             0.9,
             "#4d9221"
            ],
            [
             1,
             "#276419"
            ]
           ],
           "sequential": [
            [
             0,
             "#0d0887"
            ],
            [
             0.1111111111111111,
             "#46039f"
            ],
            [
             0.2222222222222222,
             "#7201a8"
            ],
            [
             0.3333333333333333,
             "#9c179e"
            ],
            [
             0.4444444444444444,
             "#bd3786"
            ],
            [
             0.5555555555555556,
             "#d8576b"
            ],
            [
             0.6666666666666666,
             "#ed7953"
            ],
            [
             0.7777777777777778,
             "#fb9f3a"
            ],
            [
             0.8888888888888888,
             "#fdca26"
            ],
            [
             1,
             "#f0f921"
            ]
           ],
           "sequentialminus": [
            [
             0,
             "#0d0887"
            ],
            [
             0.1111111111111111,
             "#46039f"
            ],
            [
             0.2222222222222222,
             "#7201a8"
            ],
            [
             0.3333333333333333,
             "#9c179e"
            ],
            [
             0.4444444444444444,
             "#bd3786"
            ],
            [
             0.5555555555555556,
             "#d8576b"
            ],
            [
             0.6666666666666666,
             "#ed7953"
            ],
            [
             0.7777777777777778,
             "#fb9f3a"
            ],
            [
             0.8888888888888888,
             "#fdca26"
            ],
            [
             1,
             "#f0f921"
            ]
           ]
          },
          "colorway": [
           "#636efa",
           "#EF553B",
           "#00cc96",
           "#ab63fa",
           "#FFA15A",
           "#19d3f3",
           "#FF6692",
           "#B6E880",
           "#FF97FF",
           "#FECB52"
          ],
          "font": {
           "color": "#2a3f5f"
          },
          "geo": {
           "bgcolor": "white",
           "lakecolor": "white",
           "landcolor": "#E5ECF6",
           "showlakes": true,
           "showland": true,
           "subunitcolor": "white"
          },
          "hoverlabel": {
           "align": "left"
          },
          "hovermode": "closest",
          "mapbox": {
           "style": "light"
          },
          "paper_bgcolor": "white",
          "plot_bgcolor": "#E5ECF6",
          "polar": {
           "angularaxis": {
            "gridcolor": "white",
            "linecolor": "white",
            "ticks": ""
           },
           "bgcolor": "#E5ECF6",
           "radialaxis": {
            "gridcolor": "white",
            "linecolor": "white",
            "ticks": ""
           }
          },
          "scene": {
           "xaxis": {
            "backgroundcolor": "#E5ECF6",
            "gridcolor": "white",
            "gridwidth": 2,
            "linecolor": "white",
            "showbackground": true,
            "ticks": "",
            "zerolinecolor": "white"
           },
           "yaxis": {
            "backgroundcolor": "#E5ECF6",
            "gridcolor": "white",
            "gridwidth": 2,
            "linecolor": "white",
            "showbackground": true,
            "ticks": "",
            "zerolinecolor": "white"
           },
           "zaxis": {
            "backgroundcolor": "#E5ECF6",
            "gridcolor": "white",
            "gridwidth": 2,
            "linecolor": "white",
            "showbackground": true,
            "ticks": "",
            "zerolinecolor": "white"
           }
          },
          "shapedefaults": {
           "line": {
            "color": "#2a3f5f"
           }
          },
          "ternary": {
           "aaxis": {
            "gridcolor": "white",
            "linecolor": "white",
            "ticks": ""
           },
           "baxis": {
            "gridcolor": "white",
            "linecolor": "white",
            "ticks": ""
           },
           "bgcolor": "#E5ECF6",
           "caxis": {
            "gridcolor": "white",
            "linecolor": "white",
            "ticks": ""
           }
          },
          "title": {
           "x": 0.05
          },
          "xaxis": {
           "automargin": true,
           "gridcolor": "white",
           "linecolor": "white",
           "ticks": "",
           "title": {
            "standoff": 15
           },
           "zerolinecolor": "white",
           "zerolinewidth": 2
          },
          "yaxis": {
           "automargin": true,
           "gridcolor": "white",
           "linecolor": "white",
           "ticks": "",
           "title": {
            "standoff": 15
           },
           "zerolinecolor": "white",
           "zerolinewidth": 2
          }
         }
        },
        "xaxis": {
         "anchor": "y",
         "domain": [
          0,
          1
         ],
         "title": {
          "text": "n_views"
         }
        },
        "yaxis": {
         "anchor": "x",
         "domain": [
          0,
          1
         ],
         "title": {
          "text": "count"
         }
        }
       }
      },
      "text/html": [
       "<div>                            <div id=\"fe86cf78-c25e-439d-81b8-5583d12dc10f\" class=\"plotly-graph-div\" style=\"height:525px; width:100%;\"></div>            <script type=\"text/javascript\">                require([\"plotly\"], function(Plotly) {                    window.PLOTLYENV=window.PLOTLYENV || {};                                    if (document.getElementById(\"fe86cf78-c25e-439d-81b8-5583d12dc10f\")) {                    Plotly.newPlot(                        \"fe86cf78-c25e-439d-81b8-5583d12dc10f\",                        [{\"alignmentgroup\":\"True\",\"bingroup\":\"x\",\"hovertemplate\":\"n_views=%{x}<br>count=%{y}<extra></extra>\",\"legendgroup\":\"\",\"marker\":{\"color\":\"#636efa\",\"pattern\":{\"shape\":\"\"}},\"name\":\"\",\"offsetgroup\":\"\",\"orientation\":\"v\",\"showlegend\":false,\"type\":\"histogram\",\"x\":[32001,7081,7638,36739,120719,230761,49041,9603,910,268941,10006,20283,643030,233319,545,433088,227008,1056676,963776,97379,7633,13841,94452,20996,28,36668,545376,12864,8167,16858,572,1151,3560,1722,11208,574,2927,191489,154540,827,1333325,18637,137189,142273,106,1329,75088,3869,291853,4903,72277,161,28,84579,1566,1426,3367,414537,828056,169815,38550,85,17163,33169,1701,309397,66348,82281,192102,21262,20219,2372,219704,102433,40953,260,97615,143,6951,7972,490,969,434,357,7386,75319,2139,19425,5630,263441,9032,125813,337272,75032,101342,1234085,50,42617,65542,97,33220,264,19047,45431,101347,23648,180789,157629,2081,51931,77464,72314,45129,12929,58531,95055,11248,36485,7892,1686,5921,26,123081,143679,146,265,205414,374403,35523,72269,70921,82,1173,997674,30668,3074,23836,72441,112,128437,17239,18768,88742,83808,1724,1057,3722,42709,7430,41871,31908,59,79094,320088,52086,2982,570570,866811,35193,101453,149,4880,15069,103252,88466,81642,73884,177318,3937,294824,43243,999,11,9968,2411,83262,2328,7131,1328,3099,12,23179,694,35625,3890345,132642,17259,82476,35455,321607,184,116848,173,8166,426303,249161,5801,15,38121,2109,886,48362,11216,18305,192,96510,5078,55460,10966,72999,70884,89186,790,25868,159996,908240,92982,40884,33218,82,7981,57486,31397,129657,6139,3355,6285,87226,396094,60182,325676,2415,28,93311,21544,254918,116,3373,65657,4871,91347,46862,56799,1120,39806,543,74334,26776,7967,32542,173347,51458,763,56936,77,771,116,168286,1997,41484,1524,25502,1221,536,1492,2328,1349,4860,107955,15461,996,792306,144529,12397,7271086,69351,26752,4656,2195,3615,2329,2837,25656,90749,131,326,3564,6384,164957,91,5153,4282,2358,32062,150320,82079,2080,22863,1665,161,912,1802,10299,2138,355,7283,39364,8485,4437,8310,20440,1950,3388,72772,121334,467,1775,1486,8732,7875,44045,1256929,2481,26505,24071,146498,764,2578,35714,562,109160,3827,1681,815,2351,115780,13781,4,10147,20091,5036,1785,465,14878,3328,2161,2209,13816,1355,766,84276,739991,15463,1318,364,10048,60634,169,297752,169394,30,3709,722,2043,11024,175262,2563,7720,27354,5986,931,55711,4932,1736,5129,4528,12059,99,9276,5634,6534,967,2017,239,4235,495,27878,643835,4316,116246,67608,3279,40753,1735,30081,4851,120261,2123,727,9005,36705,15587,5420,13602,671,6968,4378,22811,1346,47,6905,1264,106706,98155,6570,1171,238,5063,72740,94336,557973,434468,80,14574,5042,3449,430,4935,7017,51385,125943,201526,30,5757,2226,4924,92390,1512,7369,91259,57456,4703,84150,35,82,11999,225641,98,218,29332,18728,188,648,3283,41083,5373,5217,12856,4290,3376,7825,7328,632,30085,1723,58,138508,32200,36677,33244,3585,4338,49556,3967,604,987,71287,84531,9891,1306224,580,3019,7501,12884,1925,3835,53102,543,40255,1581,383338,329,23127,651,2945,31442,21478,235,73124,189,383,269,7589,1770,233,64835,3504,409,183,4869259,222,13752,57486,54151,382,4383,20519,7678,463,1407,290,10712,1120,6010,5328,570,35,2702,467,598,95,15727,1641,52,1262,4001,7612,5223,36,2886,6653,1091,129,649,1617,94,174881,2247,30178,1234,42053,151085,15895,59694,1935,180,1078,425967,242,2852,236,6835,163,12195,1429,3799,7372,38620,76,2393,3617,359,8767,101,2179,1537,14580,1850,518,39976,2558],\"xaxis\":\"x\",\"yaxis\":\"y\"}],                        {\"barmode\":\"relative\",\"legend\":{\"tracegroupgap\":0},\"margin\":{\"t\":60},\"template\":{\"data\":{\"bar\":[{\"error_x\":{\"color\":\"#2a3f5f\"},\"error_y\":{\"color\":\"#2a3f5f\"},\"marker\":{\"line\":{\"color\":\"#E5ECF6\",\"width\":0.5},\"pattern\":{\"fillmode\":\"overlay\",\"size\":10,\"solidity\":0.2}},\"type\":\"bar\"}],\"barpolar\":[{\"marker\":{\"line\":{\"color\":\"#E5ECF6\",\"width\":0.5},\"pattern\":{\"fillmode\":\"overlay\",\"size\":10,\"solidity\":0.2}},\"type\":\"barpolar\"}],\"carpet\":[{\"aaxis\":{\"endlinecolor\":\"#2a3f5f\",\"gridcolor\":\"white\",\"linecolor\":\"white\",\"minorgridcolor\":\"white\",\"startlinecolor\":\"#2a3f5f\"},\"baxis\":{\"endlinecolor\":\"#2a3f5f\",\"gridcolor\":\"white\",\"linecolor\":\"white\",\"minorgridcolor\":\"white\",\"startlinecolor\":\"#2a3f5f\"},\"type\":\"carpet\"}],\"choropleth\":[{\"colorbar\":{\"outlinewidth\":0,\"ticks\":\"\"},\"type\":\"choropleth\"}],\"contour\":[{\"colorbar\":{\"outlinewidth\":0,\"ticks\":\"\"},\"colorscale\":[[0.0,\"#0d0887\"],[0.1111111111111111,\"#46039f\"],[0.2222222222222222,\"#7201a8\"],[0.3333333333333333,\"#9c179e\"],[0.4444444444444444,\"#bd3786\"],[0.5555555555555556,\"#d8576b\"],[0.6666666666666666,\"#ed7953\"],[0.7777777777777778,\"#fb9f3a\"],[0.8888888888888888,\"#fdca26\"],[1.0,\"#f0f921\"]],\"type\":\"contour\"}],\"contourcarpet\":[{\"colorbar\":{\"outlinewidth\":0,\"ticks\":\"\"},\"type\":\"contourcarpet\"}],\"heatmap\":[{\"colorbar\":{\"outlinewidth\":0,\"ticks\":\"\"},\"colorscale\":[[0.0,\"#0d0887\"],[0.1111111111111111,\"#46039f\"],[0.2222222222222222,\"#7201a8\"],[0.3333333333333333,\"#9c179e\"],[0.4444444444444444,\"#bd3786\"],[0.5555555555555556,\"#d8576b\"],[0.6666666666666666,\"#ed7953\"],[0.7777777777777778,\"#fb9f3a\"],[0.8888888888888888,\"#fdca26\"],[1.0,\"#f0f921\"]],\"type\":\"heatmap\"}],\"heatmapgl\":[{\"colorbar\":{\"outlinewidth\":0,\"ticks\":\"\"},\"colorscale\":[[0.0,\"#0d0887\"],[0.1111111111111111,\"#46039f\"],[0.2222222222222222,\"#7201a8\"],[0.3333333333333333,\"#9c179e\"],[0.4444444444444444,\"#bd3786\"],[0.5555555555555556,\"#d8576b\"],[0.6666666666666666,\"#ed7953\"],[0.7777777777777778,\"#fb9f3a\"],[0.8888888888888888,\"#fdca26\"],[1.0,\"#f0f921\"]],\"type\":\"heatmapgl\"}],\"histogram\":[{\"marker\":{\"pattern\":{\"fillmode\":\"overlay\",\"size\":10,\"solidity\":0.2}},\"type\":\"histogram\"}],\"histogram2d\":[{\"colorbar\":{\"outlinewidth\":0,\"ticks\":\"\"},\"colorscale\":[[0.0,\"#0d0887\"],[0.1111111111111111,\"#46039f\"],[0.2222222222222222,\"#7201a8\"],[0.3333333333333333,\"#9c179e\"],[0.4444444444444444,\"#bd3786\"],[0.5555555555555556,\"#d8576b\"],[0.6666666666666666,\"#ed7953\"],[0.7777777777777778,\"#fb9f3a\"],[0.8888888888888888,\"#fdca26\"],[1.0,\"#f0f921\"]],\"type\":\"histogram2d\"}],\"histogram2dcontour\":[{\"colorbar\":{\"outlinewidth\":0,\"ticks\":\"\"},\"colorscale\":[[0.0,\"#0d0887\"],[0.1111111111111111,\"#46039f\"],[0.2222222222222222,\"#7201a8\"],[0.3333333333333333,\"#9c179e\"],[0.4444444444444444,\"#bd3786\"],[0.5555555555555556,\"#d8576b\"],[0.6666666666666666,\"#ed7953\"],[0.7777777777777778,\"#fb9f3a\"],[0.8888888888888888,\"#fdca26\"],[1.0,\"#f0f921\"]],\"type\":\"histogram2dcontour\"}],\"mesh3d\":[{\"colorbar\":{\"outlinewidth\":0,\"ticks\":\"\"},\"type\":\"mesh3d\"}],\"parcoords\":[{\"line\":{\"colorbar\":{\"outlinewidth\":0,\"ticks\":\"\"}},\"type\":\"parcoords\"}],\"pie\":[{\"automargin\":true,\"type\":\"pie\"}],\"scatter\":[{\"marker\":{\"colorbar\":{\"outlinewidth\":0,\"ticks\":\"\"}},\"type\":\"scatter\"}],\"scatter3d\":[{\"line\":{\"colorbar\":{\"outlinewidth\":0,\"ticks\":\"\"}},\"marker\":{\"colorbar\":{\"outlinewidth\":0,\"ticks\":\"\"}},\"type\":\"scatter3d\"}],\"scattercarpet\":[{\"marker\":{\"colorbar\":{\"outlinewidth\":0,\"ticks\":\"\"}},\"type\":\"scattercarpet\"}],\"scattergeo\":[{\"marker\":{\"colorbar\":{\"outlinewidth\":0,\"ticks\":\"\"}},\"type\":\"scattergeo\"}],\"scattergl\":[{\"marker\":{\"colorbar\":{\"outlinewidth\":0,\"ticks\":\"\"}},\"type\":\"scattergl\"}],\"scattermapbox\":[{\"marker\":{\"colorbar\":{\"outlinewidth\":0,\"ticks\":\"\"}},\"type\":\"scattermapbox\"}],\"scatterpolar\":[{\"marker\":{\"colorbar\":{\"outlinewidth\":0,\"ticks\":\"\"}},\"type\":\"scatterpolar\"}],\"scatterpolargl\":[{\"marker\":{\"colorbar\":{\"outlinewidth\":0,\"ticks\":\"\"}},\"type\":\"scatterpolargl\"}],\"scatterternary\":[{\"marker\":{\"colorbar\":{\"outlinewidth\":0,\"ticks\":\"\"}},\"type\":\"scatterternary\"}],\"surface\":[{\"colorbar\":{\"outlinewidth\":0,\"ticks\":\"\"},\"colorscale\":[[0.0,\"#0d0887\"],[0.1111111111111111,\"#46039f\"],[0.2222222222222222,\"#7201a8\"],[0.3333333333333333,\"#9c179e\"],[0.4444444444444444,\"#bd3786\"],[0.5555555555555556,\"#d8576b\"],[0.6666666666666666,\"#ed7953\"],[0.7777777777777778,\"#fb9f3a\"],[0.8888888888888888,\"#fdca26\"],[1.0,\"#f0f921\"]],\"type\":\"surface\"}],\"table\":[{\"cells\":{\"fill\":{\"color\":\"#EBF0F8\"},\"line\":{\"color\":\"white\"}},\"header\":{\"fill\":{\"color\":\"#C8D4E3\"},\"line\":{\"color\":\"white\"}},\"type\":\"table\"}]},\"layout\":{\"annotationdefaults\":{\"arrowcolor\":\"#2a3f5f\",\"arrowhead\":0,\"arrowwidth\":1},\"autotypenumbers\":\"strict\",\"coloraxis\":{\"colorbar\":{\"outlinewidth\":0,\"ticks\":\"\"}},\"colorscale\":{\"diverging\":[[0,\"#8e0152\"],[0.1,\"#c51b7d\"],[0.2,\"#de77ae\"],[0.3,\"#f1b6da\"],[0.4,\"#fde0ef\"],[0.5,\"#f7f7f7\"],[0.6,\"#e6f5d0\"],[0.7,\"#b8e186\"],[0.8,\"#7fbc41\"],[0.9,\"#4d9221\"],[1,\"#276419\"]],\"sequential\":[[0.0,\"#0d0887\"],[0.1111111111111111,\"#46039f\"],[0.2222222222222222,\"#7201a8\"],[0.3333333333333333,\"#9c179e\"],[0.4444444444444444,\"#bd3786\"],[0.5555555555555556,\"#d8576b\"],[0.6666666666666666,\"#ed7953\"],[0.7777777777777778,\"#fb9f3a\"],[0.8888888888888888,\"#fdca26\"],[1.0,\"#f0f921\"]],\"sequentialminus\":[[0.0,\"#0d0887\"],[0.1111111111111111,\"#46039f\"],[0.2222222222222222,\"#7201a8\"],[0.3333333333333333,\"#9c179e\"],[0.4444444444444444,\"#bd3786\"],[0.5555555555555556,\"#d8576b\"],[0.6666666666666666,\"#ed7953\"],[0.7777777777777778,\"#fb9f3a\"],[0.8888888888888888,\"#fdca26\"],[1.0,\"#f0f921\"]]},\"colorway\":[\"#636efa\",\"#EF553B\",\"#00cc96\",\"#ab63fa\",\"#FFA15A\",\"#19d3f3\",\"#FF6692\",\"#B6E880\",\"#FF97FF\",\"#FECB52\"],\"font\":{\"color\":\"#2a3f5f\"},\"geo\":{\"bgcolor\":\"white\",\"lakecolor\":\"white\",\"landcolor\":\"#E5ECF6\",\"showlakes\":true,\"showland\":true,\"subunitcolor\":\"white\"},\"hoverlabel\":{\"align\":\"left\"},\"hovermode\":\"closest\",\"mapbox\":{\"style\":\"light\"},\"paper_bgcolor\":\"white\",\"plot_bgcolor\":\"#E5ECF6\",\"polar\":{\"angularaxis\":{\"gridcolor\":\"white\",\"linecolor\":\"white\",\"ticks\":\"\"},\"bgcolor\":\"#E5ECF6\",\"radialaxis\":{\"gridcolor\":\"white\",\"linecolor\":\"white\",\"ticks\":\"\"}},\"scene\":{\"xaxis\":{\"backgroundcolor\":\"#E5ECF6\",\"gridcolor\":\"white\",\"gridwidth\":2,\"linecolor\":\"white\",\"showbackground\":true,\"ticks\":\"\",\"zerolinecolor\":\"white\"},\"yaxis\":{\"backgroundcolor\":\"#E5ECF6\",\"gridcolor\":\"white\",\"gridwidth\":2,\"linecolor\":\"white\",\"showbackground\":true,\"ticks\":\"\",\"zerolinecolor\":\"white\"},\"zaxis\":{\"backgroundcolor\":\"#E5ECF6\",\"gridcolor\":\"white\",\"gridwidth\":2,\"linecolor\":\"white\",\"showbackground\":true,\"ticks\":\"\",\"zerolinecolor\":\"white\"}},\"shapedefaults\":{\"line\":{\"color\":\"#2a3f5f\"}},\"ternary\":{\"aaxis\":{\"gridcolor\":\"white\",\"linecolor\":\"white\",\"ticks\":\"\"},\"baxis\":{\"gridcolor\":\"white\",\"linecolor\":\"white\",\"ticks\":\"\"},\"bgcolor\":\"#E5ECF6\",\"caxis\":{\"gridcolor\":\"white\",\"linecolor\":\"white\",\"ticks\":\"\"}},\"title\":{\"x\":0.05},\"xaxis\":{\"automargin\":true,\"gridcolor\":\"white\",\"linecolor\":\"white\",\"ticks\":\"\",\"title\":{\"standoff\":15},\"zerolinecolor\":\"white\",\"zerolinewidth\":2},\"yaxis\":{\"automargin\":true,\"gridcolor\":\"white\",\"linecolor\":\"white\",\"ticks\":\"\",\"title\":{\"standoff\":15},\"zerolinecolor\":\"white\",\"zerolinewidth\":2}}},\"xaxis\":{\"anchor\":\"y\",\"domain\":[0.0,1.0],\"title\":{\"text\":\"n_views\"}},\"yaxis\":{\"anchor\":\"x\",\"domain\":[0.0,1.0],\"title\":{\"text\":\"count\"}}},                        {\"responsive\": true}                    ).then(function(){\n",
       "                            \n",
       "var gd = document.getElementById('fe86cf78-c25e-439d-81b8-5583d12dc10f');\n",
       "var x = new MutationObserver(function (mutations, observer) {{\n",
       "        var display = window.getComputedStyle(gd).display;\n",
       "        if (!display || display === 'none') {{\n",
       "            console.log([gd, 'removed!']);\n",
       "            Plotly.purge(gd);\n",
       "            observer.disconnect();\n",
       "        }}\n",
       "}});\n",
       "\n",
       "// Listen for the removal of the full notebook cells\n",
       "var notebookContainer = gd.closest('#notebook-container');\n",
       "if (notebookContainer) {{\n",
       "    x.observe(notebookContainer, {childList: true});\n",
       "}}\n",
       "\n",
       "// Listen for the clearing of the current output cell\n",
       "var outputEl = gd.closest('.output');\n",
       "if (outputEl) {{\n",
       "    x.observe(outputEl, {childList: true});\n",
       "}}\n",
       "\n",
       "                        })                };                });            </script>        </div>"
      ]
     },
     "metadata": {},
     "output_type": "display_data"
    }
   ],
   "source": [
    "import plotly.express as px\n",
    "fig = px.histogram(df_videos_4_months_urls, x=\"n_views\")\n",
    "fig.show()"
   ]
  },
  {
   "cell_type": "code",
   "execution_count": 106,
   "id": "d725bafe",
   "metadata": {},
   "outputs": [
    {
     "data": {
      "text/plain": [
       "581"
      ]
     },
     "execution_count": 106,
     "metadata": {},
     "output_type": "execute_result"
    }
   ],
   "source": [
    "df_videos_4_months_urls.shape[0]"
   ]
  },
  {
   "cell_type": "code",
   "execution_count": 57,
   "id": "aae5cd9c",
   "metadata": {},
   "outputs": [],
   "source": [
    "df_videos_4_months_urls_top_views = df_videos_4_months_urls[df_videos_4_months_urls.n_views > 100000]"
   ]
  },
  {
   "cell_type": "code",
   "execution_count": 58,
   "id": "79893b79",
   "metadata": {},
   "outputs": [],
   "source": [
    "df_videos_4_months_urls_top_views.sort_values(\"n_views\", ascending=False, inplace=True)"
   ]
  },
  {
   "cell_type": "code",
   "execution_count": 59,
   "id": "5e65d16f",
   "metadata": {},
   "outputs": [
    {
     "data": {
      "text/html": [
       "<div>\n",
       "<style scoped>\n",
       "    .dataframe tbody tr th:only-of-type {\n",
       "        vertical-align: middle;\n",
       "    }\n",
       "\n",
       "    .dataframe tbody tr th {\n",
       "        vertical-align: top;\n",
       "    }\n",
       "\n",
       "    .dataframe thead th {\n",
       "        text-align: right;\n",
       "    }\n",
       "</style>\n",
       "<table border=\"1\" class=\"dataframe\">\n",
       "  <thead>\n",
       "    <tr style=\"text-align: right;\">\n",
       "      <th></th>\n",
       "      <th>urls</th>\n",
       "      <th>n_views</th>\n",
       "    </tr>\n",
       "  </thead>\n",
       "  <tbody>\n",
       "    <tr>\n",
       "      <th>328</th>\n",
       "      <td>['https://twitter.com/AmberryYt', 'https://www...</td>\n",
       "      <td>7271086</td>\n",
       "    </tr>\n",
       "    <tr>\n",
       "      <th>645</th>\n",
       "      <td>['http://wwe.yt/wwenetwork', 'http://wwe.yt/',...</td>\n",
       "      <td>4869259</td>\n",
       "    </tr>\n",
       "    <tr>\n",
       "      <th>222</th>\n",
       "      <td>['https://www.youtube.com/channel/UCbiT0LUIbQj...</td>\n",
       "      <td>3890345</td>\n",
       "    </tr>\n",
       "    <tr>\n",
       "      <th>53</th>\n",
       "      <td>['http://tiny.cc/bingewatch', 'https://youtu.b...</td>\n",
       "      <td>1333325</td>\n",
       "    </tr>\n",
       "    <tr>\n",
       "      <th>602</th>\n",
       "      <td>['https://instagram.com/thebodylanguageguy', '...</td>\n",
       "      <td>1306224</td>\n",
       "    </tr>\n",
       "    <tr>\n",
       "      <th>...</th>\n",
       "      <td>...</td>\n",
       "      <td>...</td>\n",
       "    </tr>\n",
       "    <tr>\n",
       "      <th>198</th>\n",
       "      <td>['http://bit.ly/2xB5CqA', 'https://bit.ly/3qF3...</td>\n",
       "      <td>103252</td>\n",
       "    </tr>\n",
       "    <tr>\n",
       "      <th>93</th>\n",
       "      <td>['https://www.youtube.com/channel/UCbiT0LUIbQj...</td>\n",
       "      <td>102433</td>\n",
       "    </tr>\n",
       "    <tr>\n",
       "      <th>191</th>\n",
       "      <td>['http://tiny.cc/bingewatch', 'https://youtu.b...</td>\n",
       "      <td>101453</td>\n",
       "    </tr>\n",
       "    <tr>\n",
       "      <th>128</th>\n",
       "      <td>['https://www.youtube.com/channel/UCbiT0LUIbQj...</td>\n",
       "      <td>101347</td>\n",
       "    </tr>\n",
       "    <tr>\n",
       "      <th>117</th>\n",
       "      <td>['https://teespring.com/stores/yellowflash-mer...</td>\n",
       "      <td>101342</td>\n",
       "    </tr>\n",
       "  </tbody>\n",
       "</table>\n",
       "<p>89 rows × 2 columns</p>\n",
       "</div>"
      ],
      "text/plain": [
       "                                                  urls  n_views\n",
       "328  ['https://twitter.com/AmberryYt', 'https://www...  7271086\n",
       "645  ['http://wwe.yt/wwenetwork', 'http://wwe.yt/',...  4869259\n",
       "222  ['https://www.youtube.com/channel/UCbiT0LUIbQj...  3890345\n",
       "53   ['http://tiny.cc/bingewatch', 'https://youtu.b...  1333325\n",
       "602  ['https://instagram.com/thebodylanguageguy', '...  1306224\n",
       "..                                                 ...      ...\n",
       "198  ['http://bit.ly/2xB5CqA', 'https://bit.ly/3qF3...   103252\n",
       "93   ['https://www.youtube.com/channel/UCbiT0LUIbQj...   102433\n",
       "191  ['http://tiny.cc/bingewatch', 'https://youtu.b...   101453\n",
       "128  ['https://www.youtube.com/channel/UCbiT0LUIbQj...   101347\n",
       "117  ['https://teespring.com/stores/yellowflash-mer...   101342\n",
       "\n",
       "[89 rows x 2 columns]"
      ]
     },
     "execution_count": 59,
     "metadata": {},
     "output_type": "execute_result"
    }
   ],
   "source": [
    "df_videos_4_months_urls_top_views[[\"urls\", \"n_views\"]][~df_videos_4_months_urls_top_views[[\"urls\", \"n_views\"]].duplicated()]"
   ]
  },
  {
   "cell_type": "code",
   "execution_count": 60,
   "id": "27815571",
   "metadata": {},
   "outputs": [],
   "source": [
    "df_videos_4_months_urls_top_views = df_videos_4_months_urls_top_views[\n",
    "    [\"urls\", \"n_views\"]\n",
    "][~df_videos_4_months_urls_top_views[[\"urls\", \"n_views\"]].duplicated()]"
   ]
  },
  {
   "cell_type": "code",
   "execution_count": 61,
   "id": "5cb06ac6",
   "metadata": {},
   "outputs": [],
   "source": [
    "df_videos_4_months_urls_top_views[\"urls\"] = df_videos_4_months_urls_top_views[\"urls\"].apply(lambda x: le(x))\n",
    "df_videos_4_months_urls_top_views[\"n_urls\"] = df_videos_4_months_urls_top_views[\"urls\"].apply(lambda x: len(x))"
   ]
  },
  {
   "cell_type": "code",
   "execution_count": 62,
   "id": "11e49790",
   "metadata": {},
   "outputs": [],
   "source": [
    "df_videos_4_months_urls_top_views_one = one_url_df(df_videos_4_months_urls_top_views)"
   ]
  },
  {
   "cell_type": "code",
   "execution_count": 63,
   "id": "2bcaf914",
   "metadata": {},
   "outputs": [],
   "source": [
    "df_videos_4_months_urls_top_views_one[\"urls\"] = df_videos_4_months_urls_top_views_one[\n",
    "    \"urls\"\n",
    "].apply(lambda x: unshorten(x))"
   ]
  },
  {
   "cell_type": "code",
   "execution_count": 64,
   "id": "ac4f0a34",
   "metadata": {},
   "outputs": [],
   "source": [
    "df_videos_4_months_urls_top_views_one.drop_duplicates(inplace=True)"
   ]
  },
  {
   "cell_type": "code",
   "execution_count": 65,
   "id": "ca6a193b",
   "metadata": {},
   "outputs": [
    {
     "data": {
      "text/html": [
       "<div>\n",
       "<style scoped>\n",
       "    .dataframe tbody tr th:only-of-type {\n",
       "        vertical-align: middle;\n",
       "    }\n",
       "\n",
       "    .dataframe tbody tr th {\n",
       "        vertical-align: top;\n",
       "    }\n",
       "\n",
       "    .dataframe thead th {\n",
       "        text-align: right;\n",
       "    }\n",
       "</style>\n",
       "<table border=\"1\" class=\"dataframe\">\n",
       "  <thead>\n",
       "    <tr style=\"text-align: right;\">\n",
       "      <th></th>\n",
       "      <th>urls</th>\n",
       "      <th>n_views</th>\n",
       "      <th>n_urls</th>\n",
       "    </tr>\n",
       "  </thead>\n",
       "  <tbody>\n",
       "    <tr>\n",
       "      <th>64</th>\n",
       "      <td>https://www.youtube.com/channel/UCylyoo597NuFF...</td>\n",
       "      <td>291853</td>\n",
       "      <td>1</td>\n",
       "    </tr>\n",
       "    <tr>\n",
       "      <th>235</th>\n",
       "      <td>https://www.youtube.com/channel/UCylyoo597NuFF...</td>\n",
       "      <td>249161</td>\n",
       "      <td>1</td>\n",
       "    </tr>\n",
       "  </tbody>\n",
       "</table>\n",
       "</div>"
      ],
      "text/plain": [
       "                                                  urls  n_views  n_urls\n",
       "64   https://www.youtube.com/channel/UCylyoo597NuFF...   291853       1\n",
       "235  https://www.youtube.com/channel/UCylyoo597NuFF...   249161       1"
      ]
     },
     "execution_count": 65,
     "metadata": {},
     "output_type": "execute_result"
    }
   ],
   "source": [
    "df_videos_4_months_urls_top_views_one"
   ]
  },
  {
   "cell_type": "code",
   "execution_count": 66,
   "id": "4f3d5069",
   "metadata": {},
   "outputs": [],
   "source": [
    "df_videos_4_months_urls_top_views_one.to_csv(\n",
    "    yt_path + \"df_videos_4_months_urls_top_views_one.csv\", index=False\n",
    ")"
   ]
  },
  {
   "cell_type": "code",
   "execution_count": 67,
   "id": "53f9caa1",
   "metadata": {},
   "outputs": [],
   "source": [
    "df_videos_4_months_urls_top_views_more = more_url_df(df_videos_4_months_urls_top_views, \"n_views\")"
   ]
  },
  {
   "cell_type": "code",
   "execution_count": 68,
   "id": "a3a291e7",
   "metadata": {},
   "outputs": [
    {
     "data": {
      "text/html": [
       "<div>\n",
       "<style scoped>\n",
       "    .dataframe tbody tr th:only-of-type {\n",
       "        vertical-align: middle;\n",
       "    }\n",
       "\n",
       "    .dataframe tbody tr th {\n",
       "        vertical-align: top;\n",
       "    }\n",
       "\n",
       "    .dataframe thead th {\n",
       "        text-align: right;\n",
       "    }\n",
       "</style>\n",
       "<table border=\"1\" class=\"dataframe\">\n",
       "  <thead>\n",
       "    <tr style=\"text-align: right;\">\n",
       "      <th></th>\n",
       "      <th>urls</th>\n",
       "      <th>n_views</th>\n",
       "      <th>n_urls</th>\n",
       "    </tr>\n",
       "  </thead>\n",
       "  <tbody>\n",
       "    <tr>\n",
       "      <th>0</th>\n",
       "      <td>https://twitter.com/AmberryYt</td>\n",
       "      <td>7271086</td>\n",
       "      <td>7</td>\n",
       "    </tr>\n",
       "    <tr>\n",
       "      <th>1</th>\n",
       "      <td>https://www.instagram.com/amberryphoeberry</td>\n",
       "      <td>7271086</td>\n",
       "      <td>7</td>\n",
       "    </tr>\n",
       "    <tr>\n",
       "      <th>2</th>\n",
       "      <td>https://www.roblox.com/users/275424983/profile</td>\n",
       "      <td>7271086</td>\n",
       "      <td>7</td>\n",
       "    </tr>\n",
       "    <tr>\n",
       "      <th>3</th>\n",
       "      <td>https://www.roblox.com/groups/3857126/Amberry-...</td>\n",
       "      <td>7271086</td>\n",
       "      <td>7</td>\n",
       "    </tr>\n",
       "    <tr>\n",
       "      <th>4</th>\n",
       "      <td>https://www.youtube.com/watch?v=4ZLluUVOnHo&amp;li...</td>\n",
       "      <td>7271086</td>\n",
       "      <td>7</td>\n",
       "    </tr>\n",
       "    <tr>\n",
       "      <th>...</th>\n",
       "      <td>...</td>\n",
       "      <td>...</td>\n",
       "      <td>...</td>\n",
       "    </tr>\n",
       "    <tr>\n",
       "      <th>487</th>\n",
       "      <td>https://www.twitch.tv/yellowflashtwo</td>\n",
       "      <td>101342</td>\n",
       "      <td>7</td>\n",
       "    </tr>\n",
       "    <tr>\n",
       "      <th>488</th>\n",
       "      <td>https://www.minds.com/yellowflash/</td>\n",
       "      <td>101342</td>\n",
       "      <td>7</td>\n",
       "    </tr>\n",
       "    <tr>\n",
       "      <th>489</th>\n",
       "      <td>https://odysee.com/@YellowFlash:8?r=EBXc2Ze5Cb...</td>\n",
       "      <td>101342</td>\n",
       "      <td>7</td>\n",
       "    </tr>\n",
       "    <tr>\n",
       "      <th>490</th>\n",
       "      <td>https://www.bitchute.com/channel/bWECeGsvy8ab/</td>\n",
       "      <td>101342</td>\n",
       "      <td>7</td>\n",
       "    </tr>\n",
       "    <tr>\n",
       "      <th>491</th>\n",
       "      <td>https://parler.com/profile/YellowFlash</td>\n",
       "      <td>101342</td>\n",
       "      <td>7</td>\n",
       "    </tr>\n",
       "  </tbody>\n",
       "</table>\n",
       "<p>484 rows × 3 columns</p>\n",
       "</div>"
      ],
      "text/plain": [
       "                                                  urls  n_views  n_urls\n",
       "0                        https://twitter.com/AmberryYt  7271086       7\n",
       "1           https://www.instagram.com/amberryphoeberry  7271086       7\n",
       "2       https://www.roblox.com/users/275424983/profile  7271086       7\n",
       "3    https://www.roblox.com/groups/3857126/Amberry-...  7271086       7\n",
       "4    https://www.youtube.com/watch?v=4ZLluUVOnHo&li...  7271086       7\n",
       "..                                                 ...      ...     ...\n",
       "487               https://www.twitch.tv/yellowflashtwo   101342       7\n",
       "488                 https://www.minds.com/yellowflash/   101342       7\n",
       "489  https://odysee.com/@YellowFlash:8?r=EBXc2Ze5Cb...   101342       7\n",
       "490     https://www.bitchute.com/channel/bWECeGsvy8ab/   101342       7\n",
       "491             https://parler.com/profile/YellowFlash   101342       7\n",
       "\n",
       "[484 rows x 3 columns]"
      ]
     },
     "execution_count": 68,
     "metadata": {},
     "output_type": "execute_result"
    }
   ],
   "source": [
    "df_videos_4_months_urls_top_views_more"
   ]
  },
  {
   "cell_type": "code",
   "execution_count": 69,
   "id": "4c30cb42",
   "metadata": {},
   "outputs": [],
   "source": [
    "df_videos_4_months_urls_top_views_more[\"urls\"] = df_videos_4_months_urls_top_views_more[\n",
    "    \"urls\"\n",
    "].apply(lambda x: unshorten(x))"
   ]
  },
  {
   "cell_type": "code",
   "execution_count": 70,
   "id": "48f87ee1",
   "metadata": {},
   "outputs": [],
   "source": [
    "df_videos_4_months_urls_top_views_more.drop_duplicates(inplace=True)"
   ]
  },
  {
   "cell_type": "code",
   "execution_count": 71,
   "id": "cd32d90d",
   "metadata": {},
   "outputs": [
    {
     "data": {
      "text/html": [
       "<div>\n",
       "<style scoped>\n",
       "    .dataframe tbody tr th:only-of-type {\n",
       "        vertical-align: middle;\n",
       "    }\n",
       "\n",
       "    .dataframe tbody tr th {\n",
       "        vertical-align: top;\n",
       "    }\n",
       "\n",
       "    .dataframe thead th {\n",
       "        text-align: right;\n",
       "    }\n",
       "</style>\n",
       "<table border=\"1\" class=\"dataframe\">\n",
       "  <thead>\n",
       "    <tr style=\"text-align: right;\">\n",
       "      <th></th>\n",
       "      <th>urls</th>\n",
       "      <th>n_views</th>\n",
       "      <th>n_urls</th>\n",
       "    </tr>\n",
       "  </thead>\n",
       "  <tbody>\n",
       "    <tr>\n",
       "      <th>0</th>\n",
       "      <td>https://twitter.com/AmberryYt</td>\n",
       "      <td>7271086</td>\n",
       "      <td>7</td>\n",
       "    </tr>\n",
       "    <tr>\n",
       "      <th>1</th>\n",
       "      <td>https://www.instagram.com/amberryphoeberry</td>\n",
       "      <td>7271086</td>\n",
       "      <td>7</td>\n",
       "    </tr>\n",
       "    <tr>\n",
       "      <th>2</th>\n",
       "      <td>https://www.roblox.com/users/275424983/profile</td>\n",
       "      <td>7271086</td>\n",
       "      <td>7</td>\n",
       "    </tr>\n",
       "    <tr>\n",
       "      <th>3</th>\n",
       "      <td>https://www.roblox.com/groups/3857126/Amberry-...</td>\n",
       "      <td>7271086</td>\n",
       "      <td>7</td>\n",
       "    </tr>\n",
       "    <tr>\n",
       "      <th>4</th>\n",
       "      <td>https://www.youtube.com/watch?v=4ZLluUVOnHo&amp;li...</td>\n",
       "      <td>7271086</td>\n",
       "      <td>7</td>\n",
       "    </tr>\n",
       "    <tr>\n",
       "      <th>...</th>\n",
       "      <td>...</td>\n",
       "      <td>...</td>\n",
       "      <td>...</td>\n",
       "    </tr>\n",
       "    <tr>\n",
       "      <th>487</th>\n",
       "      <td>https://www.twitch.tv/yellowflashtwo</td>\n",
       "      <td>101342</td>\n",
       "      <td>7</td>\n",
       "    </tr>\n",
       "    <tr>\n",
       "      <th>488</th>\n",
       "      <td>https://www.minds.com/yellowflash/</td>\n",
       "      <td>101342</td>\n",
       "      <td>7</td>\n",
       "    </tr>\n",
       "    <tr>\n",
       "      <th>489</th>\n",
       "      <td>https://odysee.com/@YellowFlash:8?r=EBXc2Ze5Cb...</td>\n",
       "      <td>101342</td>\n",
       "      <td>7</td>\n",
       "    </tr>\n",
       "    <tr>\n",
       "      <th>490</th>\n",
       "      <td>https://www.bitchute.com/channel/bWECeGsvy8ab/</td>\n",
       "      <td>101342</td>\n",
       "      <td>7</td>\n",
       "    </tr>\n",
       "    <tr>\n",
       "      <th>491</th>\n",
       "      <td>https://parler.com/profile/YellowFlash</td>\n",
       "      <td>101342</td>\n",
       "      <td>7</td>\n",
       "    </tr>\n",
       "  </tbody>\n",
       "</table>\n",
       "<p>484 rows × 3 columns</p>\n",
       "</div>"
      ],
      "text/plain": [
       "                                                  urls  n_views  n_urls\n",
       "0                        https://twitter.com/AmberryYt  7271086       7\n",
       "1           https://www.instagram.com/amberryphoeberry  7271086       7\n",
       "2       https://www.roblox.com/users/275424983/profile  7271086       7\n",
       "3    https://www.roblox.com/groups/3857126/Amberry-...  7271086       7\n",
       "4    https://www.youtube.com/watch?v=4ZLluUVOnHo&li...  7271086       7\n",
       "..                                                 ...      ...     ...\n",
       "487               https://www.twitch.tv/yellowflashtwo   101342       7\n",
       "488                 https://www.minds.com/yellowflash/   101342       7\n",
       "489  https://odysee.com/@YellowFlash:8?r=EBXc2Ze5Cb...   101342       7\n",
       "490     https://www.bitchute.com/channel/bWECeGsvy8ab/   101342       7\n",
       "491             https://parler.com/profile/YellowFlash   101342       7\n",
       "\n",
       "[484 rows x 3 columns]"
      ]
     },
     "execution_count": 71,
     "metadata": {},
     "output_type": "execute_result"
    }
   ],
   "source": [
    "df_videos_4_months_urls_top_views_more"
   ]
  },
  {
   "cell_type": "code",
   "execution_count": 72,
   "id": "319799d9",
   "metadata": {},
   "outputs": [],
   "source": [
    "df_videos_4_months_urls_top_views_more.to_csv(\n",
    "    yt_path + \"df_videos_4_months_urls_top_views_more.csv\", index=False\n",
    ")"
   ]
  },
  {
   "cell_type": "code",
   "execution_count": 73,
   "id": "a5a972f6",
   "metadata": {},
   "outputs": [],
   "source": [
    "pd.concat([df_videos_4_months_urls_top_views_one, df_videos_4_months_urls_top_views_more]).to_csv(\n",
    "yt_path + \"df_videos_4_months_urls_top_views.csv\", index=False)"
   ]
  },
  {
   "cell_type": "code",
   "execution_count": 74,
   "id": "581a7eb4",
   "metadata": {},
   "outputs": [
    {
     "data": {
      "text/html": [
       "<div>\n",
       "<style scoped>\n",
       "    .dataframe tbody tr th:only-of-type {\n",
       "        vertical-align: middle;\n",
       "    }\n",
       "\n",
       "    .dataframe tbody tr th {\n",
       "        vertical-align: top;\n",
       "    }\n",
       "\n",
       "    .dataframe thead th {\n",
       "        text-align: right;\n",
       "    }\n",
       "</style>\n",
       "<table border=\"1\" class=\"dataframe\">\n",
       "  <thead>\n",
       "    <tr style=\"text-align: right;\">\n",
       "      <th></th>\n",
       "      <th>urls</th>\n",
       "      <th>n_views</th>\n",
       "      <th>n_urls</th>\n",
       "    </tr>\n",
       "  </thead>\n",
       "  <tbody>\n",
       "    <tr>\n",
       "      <th>64</th>\n",
       "      <td>https://www.youtube.com/channel/UCylyoo597NuFF...</td>\n",
       "      <td>291853</td>\n",
       "      <td>1</td>\n",
       "    </tr>\n",
       "    <tr>\n",
       "      <th>235</th>\n",
       "      <td>https://www.youtube.com/channel/UCylyoo597NuFF...</td>\n",
       "      <td>249161</td>\n",
       "      <td>1</td>\n",
       "    </tr>\n",
       "    <tr>\n",
       "      <th>0</th>\n",
       "      <td>https://twitter.com/AmberryYt</td>\n",
       "      <td>7271086</td>\n",
       "      <td>7</td>\n",
       "    </tr>\n",
       "    <tr>\n",
       "      <th>1</th>\n",
       "      <td>https://www.instagram.com/amberryphoeberry</td>\n",
       "      <td>7271086</td>\n",
       "      <td>7</td>\n",
       "    </tr>\n",
       "    <tr>\n",
       "      <th>2</th>\n",
       "      <td>https://www.roblox.com/users/275424983/profile</td>\n",
       "      <td>7271086</td>\n",
       "      <td>7</td>\n",
       "    </tr>\n",
       "    <tr>\n",
       "      <th>...</th>\n",
       "      <td>...</td>\n",
       "      <td>...</td>\n",
       "      <td>...</td>\n",
       "    </tr>\n",
       "    <tr>\n",
       "      <th>487</th>\n",
       "      <td>https://www.twitch.tv/yellowflashtwo</td>\n",
       "      <td>101342</td>\n",
       "      <td>7</td>\n",
       "    </tr>\n",
       "    <tr>\n",
       "      <th>488</th>\n",
       "      <td>https://www.minds.com/yellowflash/</td>\n",
       "      <td>101342</td>\n",
       "      <td>7</td>\n",
       "    </tr>\n",
       "    <tr>\n",
       "      <th>489</th>\n",
       "      <td>https://odysee.com/@YellowFlash:8?r=EBXc2Ze5Cb...</td>\n",
       "      <td>101342</td>\n",
       "      <td>7</td>\n",
       "    </tr>\n",
       "    <tr>\n",
       "      <th>490</th>\n",
       "      <td>https://www.bitchute.com/channel/bWECeGsvy8ab/</td>\n",
       "      <td>101342</td>\n",
       "      <td>7</td>\n",
       "    </tr>\n",
       "    <tr>\n",
       "      <th>491</th>\n",
       "      <td>https://parler.com/profile/YellowFlash</td>\n",
       "      <td>101342</td>\n",
       "      <td>7</td>\n",
       "    </tr>\n",
       "  </tbody>\n",
       "</table>\n",
       "<p>486 rows × 3 columns</p>\n",
       "</div>"
      ],
      "text/plain": [
       "                                                  urls  n_views  n_urls\n",
       "64   https://www.youtube.com/channel/UCylyoo597NuFF...   291853       1\n",
       "235  https://www.youtube.com/channel/UCylyoo597NuFF...   249161       1\n",
       "0                        https://twitter.com/AmberryYt  7271086       7\n",
       "1           https://www.instagram.com/amberryphoeberry  7271086       7\n",
       "2       https://www.roblox.com/users/275424983/profile  7271086       7\n",
       "..                                                 ...      ...     ...\n",
       "487               https://www.twitch.tv/yellowflashtwo   101342       7\n",
       "488                 https://www.minds.com/yellowflash/   101342       7\n",
       "489  https://odysee.com/@YellowFlash:8?r=EBXc2Ze5Cb...   101342       7\n",
       "490     https://www.bitchute.com/channel/bWECeGsvy8ab/   101342       7\n",
       "491             https://parler.com/profile/YellowFlash   101342       7\n",
       "\n",
       "[486 rows x 3 columns]"
      ]
     },
     "execution_count": 74,
     "metadata": {},
     "output_type": "execute_result"
    }
   ],
   "source": [
    "pd.concat([df_videos_4_months_urls_top_views_one, df_videos_4_months_urls_top_views_more])"
   ]
  },
  {
   "cell_type": "markdown",
   "id": "3ce5238b",
   "metadata": {},
   "source": [
    "### n_dislikes"
   ]
  },
  {
   "cell_type": "code",
   "execution_count": 75,
   "id": "21aa700b",
   "metadata": {},
   "outputs": [
    {
     "data": {
      "text/plain": [
       "count     575.000000\n",
       "mean      142.977391\n",
       "std       497.341999\n",
       "min         0.000000\n",
       "25%         3.000000\n",
       "50%        13.000000\n",
       "75%        66.500000\n",
       "max      5401.000000\n",
       "Name: n_dislikes, dtype: float64"
      ]
     },
     "execution_count": 75,
     "metadata": {},
     "output_type": "execute_result"
    }
   ],
   "source": [
    "df_videos_4_months_urls.n_dislikes.describe()"
   ]
  },
  {
   "cell_type": "code",
   "execution_count": 76,
   "id": "2964e6b7",
   "metadata": {},
   "outputs": [
    {
     "data": {
      "text/plain": [
       "5401.0"
      ]
     },
     "execution_count": 76,
     "metadata": {},
     "output_type": "execute_result"
    }
   ],
   "source": [
    "df_videos_4_months_urls.n_dislikes.max()"
   ]
  },
  {
   "cell_type": "code",
   "execution_count": 77,
   "id": "3b7c7dbd",
   "metadata": {},
   "outputs": [
    {
     "data": {
      "application/vnd.plotly.v1+json": {
       "config": {
        "plotlyServerURL": "https://plot.ly"
       },
       "data": [
        {
         "alignmentgroup": "True",
         "bingroup": "x",
         "hovertemplate": "n_dislikes=%{x}<br>count=%{y}<extra></extra>",
         "legendgroup": "",
         "marker": {
          "color": "#636efa",
          "pattern": {
           "shape": ""
          }
         },
         "name": "",
         "offsetgroup": "",
         "orientation": "v",
         "showlegend": false,
         "type": "histogram",
         "x": [
          71,
          7,
          23,
          22,
          969,
          430,
          54,
          19,
          44,
          175,
          89,
          23,
          582,
          1470,
          2,
          884,
          153,
          979,
          957,
          57,
          6,
          5,
          78,
          22,
          0,
          32,
          2871,
          298,
          20,
          15,
          1,
          4,
          12,
          10,
          25,
          1,
          18,
          160,
          273,
          9,
          1124,
          23,
          271,
          150,
          1,
          2,
          62,
          5,
          128,
          2,
          66,
          2,
          1,
          118,
          2,
          13,
          3,
          5401,
          469,
          718,
          24,
          2,
          29,
          60,
          5,
          241,
          94,
          822,
          295,
          92,
          21,
          7,
          568,
          72,
          20,
          0,
          183,
          0,
          8,
          20,
          1,
          0,
          1,
          2,
          22,
          89,
          3,
          10,
          4,
          1014,
          41,
          61,
          1795,
          132,
          57,
          2810,
          1,
          65,
          67,
          null,
          196,
          0,
          38,
          37,
          53,
          13,
          173,
          66,
          0,
          33,
          510,
          56,
          56,
          15,
          38,
          206,
          52,
          99,
          161,
          7,
          46,
          0,
          492,
          179,
          0,
          1,
          183,
          2295,
          110,
          216,
          29,
          0,
          3,
          464,
          22,
          8,
          42,
          59,
          0,
          249,
          14,
          18,
          108,
          40,
          0,
          0,
          2,
          103,
          6,
          74,
          71,
          1,
          25,
          220,
          61,
          10,
          323,
          636,
          437,
          233,
          0,
          6,
          135,
          24,
          33,
          107,
          77,
          334,
          14,
          681,
          76,
          1,
          0,
          9,
          0,
          190,
          13,
          45,
          1,
          1,
          0,
          28,
          1,
          63,
          2904,
          625,
          34,
          239,
          15,
          3906,
          7,
          89,
          2,
          150,
          819,
          101,
          15,
          0,
          33,
          8,
          1,
          17,
          38,
          32,
          3,
          208,
          12,
          71,
          6,
          123,
          507,
          96,
          2,
          13,
          115,
          3130,
          96,
          35,
          19,
          0,
          16,
          34,
          61,
          204,
          6,
          13,
          4,
          47,
          384,
          38,
          115,
          16,
          0,
          221,
          26,
          1194,
          0,
          2,
          42,
          4,
          128,
          188,
          20,
          6,
          16,
          10,
          397,
          37,
          29,
          42,
          117,
          71,
          19,
          25,
          0,
          4,
          0,
          120,
          3,
          27,
          2,
          27,
          3,
          2,
          14,
          3,
          23,
          6,
          184,
          199,
          16,
          1069,
          54,
          17,
          4605,
          29,
          15,
          12,
          0,
          10,
          4,
          6,
          11,
          120,
          4,
          10,
          7,
          9,
          161,
          0,
          10,
          7,
          3,
          16,
          94,
          151,
          3,
          32,
          2,
          1,
          0,
          9,
          4,
          0,
          7,
          21,
          25,
          7,
          11,
          8,
          73,
          3,
          6,
          124,
          1457,
          1,
          3,
          33,
          6,
          10,
          37,
          3255,
          4,
          53,
          11,
          83,
          0,
          4,
          18,
          0,
          768,
          7,
          3,
          2,
          2,
          149,
          7,
          0,
          7,
          6,
          3,
          2,
          3,
          7,
          4,
          12,
          0,
          15,
          4,
          0,
          44,
          295,
          20,
          12,
          null,
          18,
          42,
          2,
          76,
          86,
          3,
          12,
          0,
          7,
          12,
          78,
          0,
          10,
          8,
          6,
          3,
          23,
          5,
          2,
          7,
          10,
          6,
          0,
          19,
          5,
          5,
          0,
          2,
          2,
          2,
          0,
          10,
          485,
          2,
          68,
          39,
          2,
          26,
          2,
          13,
          1,
          178,
          0,
          3,
          9,
          40,
          4,
          5,
          1,
          2,
          10,
          0,
          10,
          3,
          2,
          1,
          3,
          89,
          199,
          8,
          1,
          0,
          0,
          85,
          68,
          371,
          307,
          0,
          572,
          10,
          3,
          null,
          36,
          3,
          29,
          87,
          92,
          2,
          24,
          2,
          28,
          160,
          2,
          7,
          298,
          21,
          2,
          19,
          0,
          0,
          34,
          1075,
          5,
          46,
          23,
          12,
          2,
          9,
          5,
          25,
          16,
          16,
          31,
          2,
          9,
          23,
          8,
          13,
          67,
          4,
          0,
          54,
          10,
          16,
          14,
          5,
          5,
          338,
          7,
          1,
          0,
          24,
          67,
          8,
          1807,
          1,
          1,
          16,
          42,
          1,
          21,
          352,
          123,
          164,
          1,
          221,
          1,
          14,
          4,
          5,
          70,
          51,
          1,
          37,
          5,
          0,
          1,
          30,
          0,
          0,
          92,
          1,
          2,
          1,
          2738,
          2,
          10,
          74,
          58,
          0,
          6,
          23,
          4,
          null,
          0,
          3,
          6,
          4,
          7,
          2,
          2,
          1,
          1,
          0,
          null,
          3,
          19,
          1,
          0,
          57,
          4,
          6,
          3,
          0,
          3,
          6,
          0,
          3,
          1,
          3,
          1,
          131,
          5,
          32,
          1,
          21,
          93,
          16,
          28,
          1,
          1,
          1,
          306,
          6,
          2,
          7,
          21,
          0,
          8,
          8,
          16,
          2,
          42,
          4,
          7,
          9,
          null,
          48,
          1,
          1,
          0,
          26,
          2,
          0,
          39,
          2
         ],
         "xaxis": "x",
         "yaxis": "y"
        }
       ],
       "layout": {
        "barmode": "relative",
        "legend": {
         "tracegroupgap": 0
        },
        "margin": {
         "t": 60
        },
        "template": {
         "data": {
          "bar": [
           {
            "error_x": {
             "color": "#2a3f5f"
            },
            "error_y": {
             "color": "#2a3f5f"
            },
            "marker": {
             "line": {
              "color": "#E5ECF6",
              "width": 0.5
             },
             "pattern": {
              "fillmode": "overlay",
              "size": 10,
              "solidity": 0.2
             }
            },
            "type": "bar"
           }
          ],
          "barpolar": [
           {
            "marker": {
             "line": {
              "color": "#E5ECF6",
              "width": 0.5
             },
             "pattern": {
              "fillmode": "overlay",
              "size": 10,
              "solidity": 0.2
             }
            },
            "type": "barpolar"
           }
          ],
          "carpet": [
           {
            "aaxis": {
             "endlinecolor": "#2a3f5f",
             "gridcolor": "white",
             "linecolor": "white",
             "minorgridcolor": "white",
             "startlinecolor": "#2a3f5f"
            },
            "baxis": {
             "endlinecolor": "#2a3f5f",
             "gridcolor": "white",
             "linecolor": "white",
             "minorgridcolor": "white",
             "startlinecolor": "#2a3f5f"
            },
            "type": "carpet"
           }
          ],
          "choropleth": [
           {
            "colorbar": {
             "outlinewidth": 0,
             "ticks": ""
            },
            "type": "choropleth"
           }
          ],
          "contour": [
           {
            "colorbar": {
             "outlinewidth": 0,
             "ticks": ""
            },
            "colorscale": [
             [
              0,
              "#0d0887"
             ],
             [
              0.1111111111111111,
              "#46039f"
             ],
             [
              0.2222222222222222,
              "#7201a8"
             ],
             [
              0.3333333333333333,
              "#9c179e"
             ],
             [
              0.4444444444444444,
              "#bd3786"
             ],
             [
              0.5555555555555556,
              "#d8576b"
             ],
             [
              0.6666666666666666,
              "#ed7953"
             ],
             [
              0.7777777777777778,
              "#fb9f3a"
             ],
             [
              0.8888888888888888,
              "#fdca26"
             ],
             [
              1,
              "#f0f921"
             ]
            ],
            "type": "contour"
           }
          ],
          "contourcarpet": [
           {
            "colorbar": {
             "outlinewidth": 0,
             "ticks": ""
            },
            "type": "contourcarpet"
           }
          ],
          "heatmap": [
           {
            "colorbar": {
             "outlinewidth": 0,
             "ticks": ""
            },
            "colorscale": [
             [
              0,
              "#0d0887"
             ],
             [
              0.1111111111111111,
              "#46039f"
             ],
             [
              0.2222222222222222,
              "#7201a8"
             ],
             [
              0.3333333333333333,
              "#9c179e"
             ],
             [
              0.4444444444444444,
              "#bd3786"
             ],
             [
              0.5555555555555556,
              "#d8576b"
             ],
             [
              0.6666666666666666,
              "#ed7953"
             ],
             [
              0.7777777777777778,
              "#fb9f3a"
             ],
             [
              0.8888888888888888,
              "#fdca26"
             ],
             [
              1,
              "#f0f921"
             ]
            ],
            "type": "heatmap"
           }
          ],
          "heatmapgl": [
           {
            "colorbar": {
             "outlinewidth": 0,
             "ticks": ""
            },
            "colorscale": [
             [
              0,
              "#0d0887"
             ],
             [
              0.1111111111111111,
              "#46039f"
             ],
             [
              0.2222222222222222,
              "#7201a8"
             ],
             [
              0.3333333333333333,
              "#9c179e"
             ],
             [
              0.4444444444444444,
              "#bd3786"
             ],
             [
              0.5555555555555556,
              "#d8576b"
             ],
             [
              0.6666666666666666,
              "#ed7953"
             ],
             [
              0.7777777777777778,
              "#fb9f3a"
             ],
             [
              0.8888888888888888,
              "#fdca26"
             ],
             [
              1,
              "#f0f921"
             ]
            ],
            "type": "heatmapgl"
           }
          ],
          "histogram": [
           {
            "marker": {
             "pattern": {
              "fillmode": "overlay",
              "size": 10,
              "solidity": 0.2
             }
            },
            "type": "histogram"
           }
          ],
          "histogram2d": [
           {
            "colorbar": {
             "outlinewidth": 0,
             "ticks": ""
            },
            "colorscale": [
             [
              0,
              "#0d0887"
             ],
             [
              0.1111111111111111,
              "#46039f"
             ],
             [
              0.2222222222222222,
              "#7201a8"
             ],
             [
              0.3333333333333333,
              "#9c179e"
             ],
             [
              0.4444444444444444,
              "#bd3786"
             ],
             [
              0.5555555555555556,
              "#d8576b"
             ],
             [
              0.6666666666666666,
              "#ed7953"
             ],
             [
              0.7777777777777778,
              "#fb9f3a"
             ],
             [
              0.8888888888888888,
              "#fdca26"
             ],
             [
              1,
              "#f0f921"
             ]
            ],
            "type": "histogram2d"
           }
          ],
          "histogram2dcontour": [
           {
            "colorbar": {
             "outlinewidth": 0,
             "ticks": ""
            },
            "colorscale": [
             [
              0,
              "#0d0887"
             ],
             [
              0.1111111111111111,
              "#46039f"
             ],
             [
              0.2222222222222222,
              "#7201a8"
             ],
             [
              0.3333333333333333,
              "#9c179e"
             ],
             [
              0.4444444444444444,
              "#bd3786"
             ],
             [
              0.5555555555555556,
              "#d8576b"
             ],
             [
              0.6666666666666666,
              "#ed7953"
             ],
             [
              0.7777777777777778,
              "#fb9f3a"
             ],
             [
              0.8888888888888888,
              "#fdca26"
             ],
             [
              1,
              "#f0f921"
             ]
            ],
            "type": "histogram2dcontour"
           }
          ],
          "mesh3d": [
           {
            "colorbar": {
             "outlinewidth": 0,
             "ticks": ""
            },
            "type": "mesh3d"
           }
          ],
          "parcoords": [
           {
            "line": {
             "colorbar": {
              "outlinewidth": 0,
              "ticks": ""
             }
            },
            "type": "parcoords"
           }
          ],
          "pie": [
           {
            "automargin": true,
            "type": "pie"
           }
          ],
          "scatter": [
           {
            "marker": {
             "colorbar": {
              "outlinewidth": 0,
              "ticks": ""
             }
            },
            "type": "scatter"
           }
          ],
          "scatter3d": [
           {
            "line": {
             "colorbar": {
              "outlinewidth": 0,
              "ticks": ""
             }
            },
            "marker": {
             "colorbar": {
              "outlinewidth": 0,
              "ticks": ""
             }
            },
            "type": "scatter3d"
           }
          ],
          "scattercarpet": [
           {
            "marker": {
             "colorbar": {
              "outlinewidth": 0,
              "ticks": ""
             }
            },
            "type": "scattercarpet"
           }
          ],
          "scattergeo": [
           {
            "marker": {
             "colorbar": {
              "outlinewidth": 0,
              "ticks": ""
             }
            },
            "type": "scattergeo"
           }
          ],
          "scattergl": [
           {
            "marker": {
             "colorbar": {
              "outlinewidth": 0,
              "ticks": ""
             }
            },
            "type": "scattergl"
           }
          ],
          "scattermapbox": [
           {
            "marker": {
             "colorbar": {
              "outlinewidth": 0,
              "ticks": ""
             }
            },
            "type": "scattermapbox"
           }
          ],
          "scatterpolar": [
           {
            "marker": {
             "colorbar": {
              "outlinewidth": 0,
              "ticks": ""
             }
            },
            "type": "scatterpolar"
           }
          ],
          "scatterpolargl": [
           {
            "marker": {
             "colorbar": {
              "outlinewidth": 0,
              "ticks": ""
             }
            },
            "type": "scatterpolargl"
           }
          ],
          "scatterternary": [
           {
            "marker": {
             "colorbar": {
              "outlinewidth": 0,
              "ticks": ""
             }
            },
            "type": "scatterternary"
           }
          ],
          "surface": [
           {
            "colorbar": {
             "outlinewidth": 0,
             "ticks": ""
            },
            "colorscale": [
             [
              0,
              "#0d0887"
             ],
             [
              0.1111111111111111,
              "#46039f"
             ],
             [
              0.2222222222222222,
              "#7201a8"
             ],
             [
              0.3333333333333333,
              "#9c179e"
             ],
             [
              0.4444444444444444,
              "#bd3786"
             ],
             [
              0.5555555555555556,
              "#d8576b"
             ],
             [
              0.6666666666666666,
              "#ed7953"
             ],
             [
              0.7777777777777778,
              "#fb9f3a"
             ],
             [
              0.8888888888888888,
              "#fdca26"
             ],
             [
              1,
              "#f0f921"
             ]
            ],
            "type": "surface"
           }
          ],
          "table": [
           {
            "cells": {
             "fill": {
              "color": "#EBF0F8"
             },
             "line": {
              "color": "white"
             }
            },
            "header": {
             "fill": {
              "color": "#C8D4E3"
             },
             "line": {
              "color": "white"
             }
            },
            "type": "table"
           }
          ]
         },
         "layout": {
          "annotationdefaults": {
           "arrowcolor": "#2a3f5f",
           "arrowhead": 0,
           "arrowwidth": 1
          },
          "autotypenumbers": "strict",
          "coloraxis": {
           "colorbar": {
            "outlinewidth": 0,
            "ticks": ""
           }
          },
          "colorscale": {
           "diverging": [
            [
             0,
             "#8e0152"
            ],
            [
             0.1,
             "#c51b7d"
            ],
            [
             0.2,
             "#de77ae"
            ],
            [
             0.3,
             "#f1b6da"
            ],
            [
             0.4,
             "#fde0ef"
            ],
            [
             0.5,
             "#f7f7f7"
            ],
            [
             0.6,
             "#e6f5d0"
            ],
            [
             0.7,
             "#b8e186"
            ],
            [
             0.8,
             "#7fbc41"
            ],
            [
             0.9,
             "#4d9221"
            ],
            [
             1,
             "#276419"
            ]
           ],
           "sequential": [
            [
             0,
             "#0d0887"
            ],
            [
             0.1111111111111111,
             "#46039f"
            ],
            [
             0.2222222222222222,
             "#7201a8"
            ],
            [
             0.3333333333333333,
             "#9c179e"
            ],
            [
             0.4444444444444444,
             "#bd3786"
            ],
            [
             0.5555555555555556,
             "#d8576b"
            ],
            [
             0.6666666666666666,
             "#ed7953"
            ],
            [
             0.7777777777777778,
             "#fb9f3a"
            ],
            [
             0.8888888888888888,
             "#fdca26"
            ],
            [
             1,
             "#f0f921"
            ]
           ],
           "sequentialminus": [
            [
             0,
             "#0d0887"
            ],
            [
             0.1111111111111111,
             "#46039f"
            ],
            [
             0.2222222222222222,
             "#7201a8"
            ],
            [
             0.3333333333333333,
             "#9c179e"
            ],
            [
             0.4444444444444444,
             "#bd3786"
            ],
            [
             0.5555555555555556,
             "#d8576b"
            ],
            [
             0.6666666666666666,
             "#ed7953"
            ],
            [
             0.7777777777777778,
             "#fb9f3a"
            ],
            [
             0.8888888888888888,
             "#fdca26"
            ],
            [
             1,
             "#f0f921"
            ]
           ]
          },
          "colorway": [
           "#636efa",
           "#EF553B",
           "#00cc96",
           "#ab63fa",
           "#FFA15A",
           "#19d3f3",
           "#FF6692",
           "#B6E880",
           "#FF97FF",
           "#FECB52"
          ],
          "font": {
           "color": "#2a3f5f"
          },
          "geo": {
           "bgcolor": "white",
           "lakecolor": "white",
           "landcolor": "#E5ECF6",
           "showlakes": true,
           "showland": true,
           "subunitcolor": "white"
          },
          "hoverlabel": {
           "align": "left"
          },
          "hovermode": "closest",
          "mapbox": {
           "style": "light"
          },
          "paper_bgcolor": "white",
          "plot_bgcolor": "#E5ECF6",
          "polar": {
           "angularaxis": {
            "gridcolor": "white",
            "linecolor": "white",
            "ticks": ""
           },
           "bgcolor": "#E5ECF6",
           "radialaxis": {
            "gridcolor": "white",
            "linecolor": "white",
            "ticks": ""
           }
          },
          "scene": {
           "xaxis": {
            "backgroundcolor": "#E5ECF6",
            "gridcolor": "white",
            "gridwidth": 2,
            "linecolor": "white",
            "showbackground": true,
            "ticks": "",
            "zerolinecolor": "white"
           },
           "yaxis": {
            "backgroundcolor": "#E5ECF6",
            "gridcolor": "white",
            "gridwidth": 2,
            "linecolor": "white",
            "showbackground": true,
            "ticks": "",
            "zerolinecolor": "white"
           },
           "zaxis": {
            "backgroundcolor": "#E5ECF6",
            "gridcolor": "white",
            "gridwidth": 2,
            "linecolor": "white",
            "showbackground": true,
            "ticks": "",
            "zerolinecolor": "white"
           }
          },
          "shapedefaults": {
           "line": {
            "color": "#2a3f5f"
           }
          },
          "ternary": {
           "aaxis": {
            "gridcolor": "white",
            "linecolor": "white",
            "ticks": ""
           },
           "baxis": {
            "gridcolor": "white",
            "linecolor": "white",
            "ticks": ""
           },
           "bgcolor": "#E5ECF6",
           "caxis": {
            "gridcolor": "white",
            "linecolor": "white",
            "ticks": ""
           }
          },
          "title": {
           "x": 0.05
          },
          "xaxis": {
           "automargin": true,
           "gridcolor": "white",
           "linecolor": "white",
           "ticks": "",
           "title": {
            "standoff": 15
           },
           "zerolinecolor": "white",
           "zerolinewidth": 2
          },
          "yaxis": {
           "automargin": true,
           "gridcolor": "white",
           "linecolor": "white",
           "ticks": "",
           "title": {
            "standoff": 15
           },
           "zerolinecolor": "white",
           "zerolinewidth": 2
          }
         }
        },
        "xaxis": {
         "anchor": "y",
         "domain": [
          0,
          1
         ],
         "title": {
          "text": "n_dislikes"
         }
        },
        "yaxis": {
         "anchor": "x",
         "domain": [
          0,
          1
         ],
         "title": {
          "text": "count"
         }
        }
       }
      },
      "text/html": [
       "<div>                            <div id=\"5f6411ac-e65f-4a4a-bc0e-b3ea09e1c715\" class=\"plotly-graph-div\" style=\"height:525px; width:100%;\"></div>            <script type=\"text/javascript\">                require([\"plotly\"], function(Plotly) {                    window.PLOTLYENV=window.PLOTLYENV || {};                                    if (document.getElementById(\"5f6411ac-e65f-4a4a-bc0e-b3ea09e1c715\")) {                    Plotly.newPlot(                        \"5f6411ac-e65f-4a4a-bc0e-b3ea09e1c715\",                        [{\"alignmentgroup\":\"True\",\"bingroup\":\"x\",\"hovertemplate\":\"n_dislikes=%{x}<br>count=%{y}<extra></extra>\",\"legendgroup\":\"\",\"marker\":{\"color\":\"#636efa\",\"pattern\":{\"shape\":\"\"}},\"name\":\"\",\"offsetgroup\":\"\",\"orientation\":\"v\",\"showlegend\":false,\"type\":\"histogram\",\"x\":[71.0,7.0,23.0,22.0,969.0,430.0,54.0,19.0,44.0,175.0,89.0,23.0,582.0,1470.0,2.0,884.0,153.0,979.0,957.0,57.0,6.0,5.0,78.0,22.0,0.0,32.0,2871.0,298.0,20.0,15.0,1.0,4.0,12.0,10.0,25.0,1.0,18.0,160.0,273.0,9.0,1124.0,23.0,271.0,150.0,1.0,2.0,62.0,5.0,128.0,2.0,66.0,2.0,1.0,118.0,2.0,13.0,3.0,5401.0,469.0,718.0,24.0,2.0,29.0,60.0,5.0,241.0,94.0,822.0,295.0,92.0,21.0,7.0,568.0,72.0,20.0,0.0,183.0,0.0,8.0,20.0,1.0,0.0,1.0,2.0,22.0,89.0,3.0,10.0,4.0,1014.0,41.0,61.0,1795.0,132.0,57.0,2810.0,1.0,65.0,67.0,null,196.0,0.0,38.0,37.0,53.0,13.0,173.0,66.0,0.0,33.0,510.0,56.0,56.0,15.0,38.0,206.0,52.0,99.0,161.0,7.0,46.0,0.0,492.0,179.0,0.0,1.0,183.0,2295.0,110.0,216.0,29.0,0.0,3.0,464.0,22.0,8.0,42.0,59.0,0.0,249.0,14.0,18.0,108.0,40.0,0.0,0.0,2.0,103.0,6.0,74.0,71.0,1.0,25.0,220.0,61.0,10.0,323.0,636.0,437.0,233.0,0.0,6.0,135.0,24.0,33.0,107.0,77.0,334.0,14.0,681.0,76.0,1.0,0.0,9.0,0.0,190.0,13.0,45.0,1.0,1.0,0.0,28.0,1.0,63.0,2904.0,625.0,34.0,239.0,15.0,3906.0,7.0,89.0,2.0,150.0,819.0,101.0,15.0,0.0,33.0,8.0,1.0,17.0,38.0,32.0,3.0,208.0,12.0,71.0,6.0,123.0,507.0,96.0,2.0,13.0,115.0,3130.0,96.0,35.0,19.0,0.0,16.0,34.0,61.0,204.0,6.0,13.0,4.0,47.0,384.0,38.0,115.0,16.0,0.0,221.0,26.0,1194.0,0.0,2.0,42.0,4.0,128.0,188.0,20.0,6.0,16.0,10.0,397.0,37.0,29.0,42.0,117.0,71.0,19.0,25.0,0.0,4.0,0.0,120.0,3.0,27.0,2.0,27.0,3.0,2.0,14.0,3.0,23.0,6.0,184.0,199.0,16.0,1069.0,54.0,17.0,4605.0,29.0,15.0,12.0,0.0,10.0,4.0,6.0,11.0,120.0,4.0,10.0,7.0,9.0,161.0,0.0,10.0,7.0,3.0,16.0,94.0,151.0,3.0,32.0,2.0,1.0,0.0,9.0,4.0,0.0,7.0,21.0,25.0,7.0,11.0,8.0,73.0,3.0,6.0,124.0,1457.0,1.0,3.0,33.0,6.0,10.0,37.0,3255.0,4.0,53.0,11.0,83.0,0.0,4.0,18.0,0.0,768.0,7.0,3.0,2.0,2.0,149.0,7.0,0.0,7.0,6.0,3.0,2.0,3.0,7.0,4.0,12.0,0.0,15.0,4.0,0.0,44.0,295.0,20.0,12.0,null,18.0,42.0,2.0,76.0,86.0,3.0,12.0,0.0,7.0,12.0,78.0,0.0,10.0,8.0,6.0,3.0,23.0,5.0,2.0,7.0,10.0,6.0,0.0,19.0,5.0,5.0,0.0,2.0,2.0,2.0,0.0,10.0,485.0,2.0,68.0,39.0,2.0,26.0,2.0,13.0,1.0,178.0,0.0,3.0,9.0,40.0,4.0,5.0,1.0,2.0,10.0,0.0,10.0,3.0,2.0,1.0,3.0,89.0,199.0,8.0,1.0,0.0,0.0,85.0,68.0,371.0,307.0,0.0,572.0,10.0,3.0,null,36.0,3.0,29.0,87.0,92.0,2.0,24.0,2.0,28.0,160.0,2.0,7.0,298.0,21.0,2.0,19.0,0.0,0.0,34.0,1075.0,5.0,46.0,23.0,12.0,2.0,9.0,5.0,25.0,16.0,16.0,31.0,2.0,9.0,23.0,8.0,13.0,67.0,4.0,0.0,54.0,10.0,16.0,14.0,5.0,5.0,338.0,7.0,1.0,0.0,24.0,67.0,8.0,1807.0,1.0,1.0,16.0,42.0,1.0,21.0,352.0,123.0,164.0,1.0,221.0,1.0,14.0,4.0,5.0,70.0,51.0,1.0,37.0,5.0,0.0,1.0,30.0,0.0,0.0,92.0,1.0,2.0,1.0,2738.0,2.0,10.0,74.0,58.0,0.0,6.0,23.0,4.0,null,0.0,3.0,6.0,4.0,7.0,2.0,2.0,1.0,1.0,0.0,null,3.0,19.0,1.0,0.0,57.0,4.0,6.0,3.0,0.0,3.0,6.0,0.0,3.0,1.0,3.0,1.0,131.0,5.0,32.0,1.0,21.0,93.0,16.0,28.0,1.0,1.0,1.0,306.0,6.0,2.0,7.0,21.0,0.0,8.0,8.0,16.0,2.0,42.0,4.0,7.0,9.0,null,48.0,1.0,1.0,0.0,26.0,2.0,0.0,39.0,2.0],\"xaxis\":\"x\",\"yaxis\":\"y\"}],                        {\"barmode\":\"relative\",\"legend\":{\"tracegroupgap\":0},\"margin\":{\"t\":60},\"template\":{\"data\":{\"bar\":[{\"error_x\":{\"color\":\"#2a3f5f\"},\"error_y\":{\"color\":\"#2a3f5f\"},\"marker\":{\"line\":{\"color\":\"#E5ECF6\",\"width\":0.5},\"pattern\":{\"fillmode\":\"overlay\",\"size\":10,\"solidity\":0.2}},\"type\":\"bar\"}],\"barpolar\":[{\"marker\":{\"line\":{\"color\":\"#E5ECF6\",\"width\":0.5},\"pattern\":{\"fillmode\":\"overlay\",\"size\":10,\"solidity\":0.2}},\"type\":\"barpolar\"}],\"carpet\":[{\"aaxis\":{\"endlinecolor\":\"#2a3f5f\",\"gridcolor\":\"white\",\"linecolor\":\"white\",\"minorgridcolor\":\"white\",\"startlinecolor\":\"#2a3f5f\"},\"baxis\":{\"endlinecolor\":\"#2a3f5f\",\"gridcolor\":\"white\",\"linecolor\":\"white\",\"minorgridcolor\":\"white\",\"startlinecolor\":\"#2a3f5f\"},\"type\":\"carpet\"}],\"choropleth\":[{\"colorbar\":{\"outlinewidth\":0,\"ticks\":\"\"},\"type\":\"choropleth\"}],\"contour\":[{\"colorbar\":{\"outlinewidth\":0,\"ticks\":\"\"},\"colorscale\":[[0.0,\"#0d0887\"],[0.1111111111111111,\"#46039f\"],[0.2222222222222222,\"#7201a8\"],[0.3333333333333333,\"#9c179e\"],[0.4444444444444444,\"#bd3786\"],[0.5555555555555556,\"#d8576b\"],[0.6666666666666666,\"#ed7953\"],[0.7777777777777778,\"#fb9f3a\"],[0.8888888888888888,\"#fdca26\"],[1.0,\"#f0f921\"]],\"type\":\"contour\"}],\"contourcarpet\":[{\"colorbar\":{\"outlinewidth\":0,\"ticks\":\"\"},\"type\":\"contourcarpet\"}],\"heatmap\":[{\"colorbar\":{\"outlinewidth\":0,\"ticks\":\"\"},\"colorscale\":[[0.0,\"#0d0887\"],[0.1111111111111111,\"#46039f\"],[0.2222222222222222,\"#7201a8\"],[0.3333333333333333,\"#9c179e\"],[0.4444444444444444,\"#bd3786\"],[0.5555555555555556,\"#d8576b\"],[0.6666666666666666,\"#ed7953\"],[0.7777777777777778,\"#fb9f3a\"],[0.8888888888888888,\"#fdca26\"],[1.0,\"#f0f921\"]],\"type\":\"heatmap\"}],\"heatmapgl\":[{\"colorbar\":{\"outlinewidth\":0,\"ticks\":\"\"},\"colorscale\":[[0.0,\"#0d0887\"],[0.1111111111111111,\"#46039f\"],[0.2222222222222222,\"#7201a8\"],[0.3333333333333333,\"#9c179e\"],[0.4444444444444444,\"#bd3786\"],[0.5555555555555556,\"#d8576b\"],[0.6666666666666666,\"#ed7953\"],[0.7777777777777778,\"#fb9f3a\"],[0.8888888888888888,\"#fdca26\"],[1.0,\"#f0f921\"]],\"type\":\"heatmapgl\"}],\"histogram\":[{\"marker\":{\"pattern\":{\"fillmode\":\"overlay\",\"size\":10,\"solidity\":0.2}},\"type\":\"histogram\"}],\"histogram2d\":[{\"colorbar\":{\"outlinewidth\":0,\"ticks\":\"\"},\"colorscale\":[[0.0,\"#0d0887\"],[0.1111111111111111,\"#46039f\"],[0.2222222222222222,\"#7201a8\"],[0.3333333333333333,\"#9c179e\"],[0.4444444444444444,\"#bd3786\"],[0.5555555555555556,\"#d8576b\"],[0.6666666666666666,\"#ed7953\"],[0.7777777777777778,\"#fb9f3a\"],[0.8888888888888888,\"#fdca26\"],[1.0,\"#f0f921\"]],\"type\":\"histogram2d\"}],\"histogram2dcontour\":[{\"colorbar\":{\"outlinewidth\":0,\"ticks\":\"\"},\"colorscale\":[[0.0,\"#0d0887\"],[0.1111111111111111,\"#46039f\"],[0.2222222222222222,\"#7201a8\"],[0.3333333333333333,\"#9c179e\"],[0.4444444444444444,\"#bd3786\"],[0.5555555555555556,\"#d8576b\"],[0.6666666666666666,\"#ed7953\"],[0.7777777777777778,\"#fb9f3a\"],[0.8888888888888888,\"#fdca26\"],[1.0,\"#f0f921\"]],\"type\":\"histogram2dcontour\"}],\"mesh3d\":[{\"colorbar\":{\"outlinewidth\":0,\"ticks\":\"\"},\"type\":\"mesh3d\"}],\"parcoords\":[{\"line\":{\"colorbar\":{\"outlinewidth\":0,\"ticks\":\"\"}},\"type\":\"parcoords\"}],\"pie\":[{\"automargin\":true,\"type\":\"pie\"}],\"scatter\":[{\"marker\":{\"colorbar\":{\"outlinewidth\":0,\"ticks\":\"\"}},\"type\":\"scatter\"}],\"scatter3d\":[{\"line\":{\"colorbar\":{\"outlinewidth\":0,\"ticks\":\"\"}},\"marker\":{\"colorbar\":{\"outlinewidth\":0,\"ticks\":\"\"}},\"type\":\"scatter3d\"}],\"scattercarpet\":[{\"marker\":{\"colorbar\":{\"outlinewidth\":0,\"ticks\":\"\"}},\"type\":\"scattercarpet\"}],\"scattergeo\":[{\"marker\":{\"colorbar\":{\"outlinewidth\":0,\"ticks\":\"\"}},\"type\":\"scattergeo\"}],\"scattergl\":[{\"marker\":{\"colorbar\":{\"outlinewidth\":0,\"ticks\":\"\"}},\"type\":\"scattergl\"}],\"scattermapbox\":[{\"marker\":{\"colorbar\":{\"outlinewidth\":0,\"ticks\":\"\"}},\"type\":\"scattermapbox\"}],\"scatterpolar\":[{\"marker\":{\"colorbar\":{\"outlinewidth\":0,\"ticks\":\"\"}},\"type\":\"scatterpolar\"}],\"scatterpolargl\":[{\"marker\":{\"colorbar\":{\"outlinewidth\":0,\"ticks\":\"\"}},\"type\":\"scatterpolargl\"}],\"scatterternary\":[{\"marker\":{\"colorbar\":{\"outlinewidth\":0,\"ticks\":\"\"}},\"type\":\"scatterternary\"}],\"surface\":[{\"colorbar\":{\"outlinewidth\":0,\"ticks\":\"\"},\"colorscale\":[[0.0,\"#0d0887\"],[0.1111111111111111,\"#46039f\"],[0.2222222222222222,\"#7201a8\"],[0.3333333333333333,\"#9c179e\"],[0.4444444444444444,\"#bd3786\"],[0.5555555555555556,\"#d8576b\"],[0.6666666666666666,\"#ed7953\"],[0.7777777777777778,\"#fb9f3a\"],[0.8888888888888888,\"#fdca26\"],[1.0,\"#f0f921\"]],\"type\":\"surface\"}],\"table\":[{\"cells\":{\"fill\":{\"color\":\"#EBF0F8\"},\"line\":{\"color\":\"white\"}},\"header\":{\"fill\":{\"color\":\"#C8D4E3\"},\"line\":{\"color\":\"white\"}},\"type\":\"table\"}]},\"layout\":{\"annotationdefaults\":{\"arrowcolor\":\"#2a3f5f\",\"arrowhead\":0,\"arrowwidth\":1},\"autotypenumbers\":\"strict\",\"coloraxis\":{\"colorbar\":{\"outlinewidth\":0,\"ticks\":\"\"}},\"colorscale\":{\"diverging\":[[0,\"#8e0152\"],[0.1,\"#c51b7d\"],[0.2,\"#de77ae\"],[0.3,\"#f1b6da\"],[0.4,\"#fde0ef\"],[0.5,\"#f7f7f7\"],[0.6,\"#e6f5d0\"],[0.7,\"#b8e186\"],[0.8,\"#7fbc41\"],[0.9,\"#4d9221\"],[1,\"#276419\"]],\"sequential\":[[0.0,\"#0d0887\"],[0.1111111111111111,\"#46039f\"],[0.2222222222222222,\"#7201a8\"],[0.3333333333333333,\"#9c179e\"],[0.4444444444444444,\"#bd3786\"],[0.5555555555555556,\"#d8576b\"],[0.6666666666666666,\"#ed7953\"],[0.7777777777777778,\"#fb9f3a\"],[0.8888888888888888,\"#fdca26\"],[1.0,\"#f0f921\"]],\"sequentialminus\":[[0.0,\"#0d0887\"],[0.1111111111111111,\"#46039f\"],[0.2222222222222222,\"#7201a8\"],[0.3333333333333333,\"#9c179e\"],[0.4444444444444444,\"#bd3786\"],[0.5555555555555556,\"#d8576b\"],[0.6666666666666666,\"#ed7953\"],[0.7777777777777778,\"#fb9f3a\"],[0.8888888888888888,\"#fdca26\"],[1.0,\"#f0f921\"]]},\"colorway\":[\"#636efa\",\"#EF553B\",\"#00cc96\",\"#ab63fa\",\"#FFA15A\",\"#19d3f3\",\"#FF6692\",\"#B6E880\",\"#FF97FF\",\"#FECB52\"],\"font\":{\"color\":\"#2a3f5f\"},\"geo\":{\"bgcolor\":\"white\",\"lakecolor\":\"white\",\"landcolor\":\"#E5ECF6\",\"showlakes\":true,\"showland\":true,\"subunitcolor\":\"white\"},\"hoverlabel\":{\"align\":\"left\"},\"hovermode\":\"closest\",\"mapbox\":{\"style\":\"light\"},\"paper_bgcolor\":\"white\",\"plot_bgcolor\":\"#E5ECF6\",\"polar\":{\"angularaxis\":{\"gridcolor\":\"white\",\"linecolor\":\"white\",\"ticks\":\"\"},\"bgcolor\":\"#E5ECF6\",\"radialaxis\":{\"gridcolor\":\"white\",\"linecolor\":\"white\",\"ticks\":\"\"}},\"scene\":{\"xaxis\":{\"backgroundcolor\":\"#E5ECF6\",\"gridcolor\":\"white\",\"gridwidth\":2,\"linecolor\":\"white\",\"showbackground\":true,\"ticks\":\"\",\"zerolinecolor\":\"white\"},\"yaxis\":{\"backgroundcolor\":\"#E5ECF6\",\"gridcolor\":\"white\",\"gridwidth\":2,\"linecolor\":\"white\",\"showbackground\":true,\"ticks\":\"\",\"zerolinecolor\":\"white\"},\"zaxis\":{\"backgroundcolor\":\"#E5ECF6\",\"gridcolor\":\"white\",\"gridwidth\":2,\"linecolor\":\"white\",\"showbackground\":true,\"ticks\":\"\",\"zerolinecolor\":\"white\"}},\"shapedefaults\":{\"line\":{\"color\":\"#2a3f5f\"}},\"ternary\":{\"aaxis\":{\"gridcolor\":\"white\",\"linecolor\":\"white\",\"ticks\":\"\"},\"baxis\":{\"gridcolor\":\"white\",\"linecolor\":\"white\",\"ticks\":\"\"},\"bgcolor\":\"#E5ECF6\",\"caxis\":{\"gridcolor\":\"white\",\"linecolor\":\"white\",\"ticks\":\"\"}},\"title\":{\"x\":0.05},\"xaxis\":{\"automargin\":true,\"gridcolor\":\"white\",\"linecolor\":\"white\",\"ticks\":\"\",\"title\":{\"standoff\":15},\"zerolinecolor\":\"white\",\"zerolinewidth\":2},\"yaxis\":{\"automargin\":true,\"gridcolor\":\"white\",\"linecolor\":\"white\",\"ticks\":\"\",\"title\":{\"standoff\":15},\"zerolinecolor\":\"white\",\"zerolinewidth\":2}}},\"xaxis\":{\"anchor\":\"y\",\"domain\":[0.0,1.0],\"title\":{\"text\":\"n_dislikes\"}},\"yaxis\":{\"anchor\":\"x\",\"domain\":[0.0,1.0],\"title\":{\"text\":\"count\"}}},                        {\"responsive\": true}                    ).then(function(){\n",
       "                            \n",
       "var gd = document.getElementById('5f6411ac-e65f-4a4a-bc0e-b3ea09e1c715');\n",
       "var x = new MutationObserver(function (mutations, observer) {{\n",
       "        var display = window.getComputedStyle(gd).display;\n",
       "        if (!display || display === 'none') {{\n",
       "            console.log([gd, 'removed!']);\n",
       "            Plotly.purge(gd);\n",
       "            observer.disconnect();\n",
       "        }}\n",
       "}});\n",
       "\n",
       "// Listen for the removal of the full notebook cells\n",
       "var notebookContainer = gd.closest('#notebook-container');\n",
       "if (notebookContainer) {{\n",
       "    x.observe(notebookContainer, {childList: true});\n",
       "}}\n",
       "\n",
       "// Listen for the clearing of the current output cell\n",
       "var outputEl = gd.closest('.output');\n",
       "if (outputEl) {{\n",
       "    x.observe(outputEl, {childList: true});\n",
       "}}\n",
       "\n",
       "                        })                };                });            </script>        </div>"
      ]
     },
     "metadata": {},
     "output_type": "display_data"
    }
   ],
   "source": [
    "fig = px.histogram(df_videos_4_months_urls, x=\"n_dislikes\")\n",
    "fig.show()"
   ]
  },
  {
   "cell_type": "code",
   "execution_count": 104,
   "id": "60875fd8",
   "metadata": {},
   "outputs": [],
   "source": [
    "def plot(df, x):\n",
    "    fig = px.histogram(df, x)\n",
    "    fig.show();"
   ]
  },
  {
   "cell_type": "code",
   "execution_count": 78,
   "id": "d088efa1",
   "metadata": {},
   "outputs": [],
   "source": [
    "df_videos_4_months_urls_top_dislikes = df_videos_4_months_urls[df_videos_4_months_urls.n_dislikes > 100]"
   ]
  },
  {
   "cell_type": "code",
   "execution_count": 79,
   "id": "5058442f",
   "metadata": {},
   "outputs": [],
   "source": [
    "df_videos_4_months_urls_top_dislikes.sort_values(\"n_dislikes\", ascending=False, inplace=True)"
   ]
  },
  {
   "cell_type": "code",
   "execution_count": 80,
   "id": "50a7d233",
   "metadata": {},
   "outputs": [
    {
     "data": {
      "text/html": [
       "<div>\n",
       "<style scoped>\n",
       "    .dataframe tbody tr th:only-of-type {\n",
       "        vertical-align: middle;\n",
       "    }\n",
       "\n",
       "    .dataframe tbody tr th {\n",
       "        vertical-align: top;\n",
       "    }\n",
       "\n",
       "    .dataframe thead th {\n",
       "        text-align: right;\n",
       "    }\n",
       "</style>\n",
       "<table border=\"1\" class=\"dataframe\">\n",
       "  <thead>\n",
       "    <tr style=\"text-align: right;\">\n",
       "      <th></th>\n",
       "      <th>urls</th>\n",
       "      <th>n_dislikes</th>\n",
       "    </tr>\n",
       "  </thead>\n",
       "  <tbody>\n",
       "    <tr>\n",
       "      <th>74</th>\n",
       "      <td>['https://www.youtube.com/channel/UCbiT0LUIbQj...</td>\n",
       "      <td>5401.0</td>\n",
       "    </tr>\n",
       "    <tr>\n",
       "      <th>328</th>\n",
       "      <td>['https://twitter.com/AmberryYt', 'https://www...</td>\n",
       "      <td>4605.0</td>\n",
       "    </tr>\n",
       "    <tr>\n",
       "      <th>227</th>\n",
       "      <td>['https://www.youtube.com/watch?v=utozMdfngVk'...</td>\n",
       "      <td>3906.0</td>\n",
       "    </tr>\n",
       "    <tr>\n",
       "      <th>390</th>\n",
       "      <td>['http://youtube.com/watch?v=LrVcWYNXZLY&amp;list=...</td>\n",
       "      <td>3255.0</td>\n",
       "    </tr>\n",
       "    <tr>\n",
       "      <th>260</th>\n",
       "      <td>['https://www.youtube.com/crazedculture?sub_co...</td>\n",
       "      <td>3130.0</td>\n",
       "    </tr>\n",
       "    <tr>\n",
       "      <th>...</th>\n",
       "      <td>...</td>\n",
       "      <td>...</td>\n",
       "    </tr>\n",
       "    <tr>\n",
       "      <th>157</th>\n",
       "      <td>['https://bit.ly/3txAgy1', 'https://www.youtub...</td>\n",
       "      <td>110.0</td>\n",
       "    </tr>\n",
       "    <tr>\n",
       "      <th>174</th>\n",
       "      <td>['https://www.youtube.com/channel/UCMRH', 'htt...</td>\n",
       "      <td>108.0</td>\n",
       "    </tr>\n",
       "    <tr>\n",
       "      <th>200</th>\n",
       "      <td>['https://www.youtube.com/channel/UCbiT0LUIbQj...</td>\n",
       "      <td>107.0</td>\n",
       "    </tr>\n",
       "    <tr>\n",
       "      <th>179</th>\n",
       "      <td>['https://www.youtube.com/crazedculture?sub_co...</td>\n",
       "      <td>103.0</td>\n",
       "    </tr>\n",
       "    <tr>\n",
       "      <th>235</th>\n",
       "      <td>['http://youtube.com/channel/UCylyoo597NuFFyJS...</td>\n",
       "      <td>101.0</td>\n",
       "    </tr>\n",
       "  </tbody>\n",
       "</table>\n",
       "<p>108 rows × 2 columns</p>\n",
       "</div>"
      ],
      "text/plain": [
       "                                                  urls  n_dislikes\n",
       "74   ['https://www.youtube.com/channel/UCbiT0LUIbQj...      5401.0\n",
       "328  ['https://twitter.com/AmberryYt', 'https://www...      4605.0\n",
       "227  ['https://www.youtube.com/watch?v=utozMdfngVk'...      3906.0\n",
       "390  ['http://youtube.com/watch?v=LrVcWYNXZLY&list=...      3255.0\n",
       "260  ['https://www.youtube.com/crazedculture?sub_co...      3130.0\n",
       "..                                                 ...         ...\n",
       "157  ['https://bit.ly/3txAgy1', 'https://www.youtub...       110.0\n",
       "174  ['https://www.youtube.com/channel/UCMRH', 'htt...       108.0\n",
       "200  ['https://www.youtube.com/channel/UCbiT0LUIbQj...       107.0\n",
       "179  ['https://www.youtube.com/crazedculture?sub_co...       103.0\n",
       "235  ['http://youtube.com/channel/UCylyoo597NuFFyJS...       101.0\n",
       "\n",
       "[108 rows x 2 columns]"
      ]
     },
     "execution_count": 80,
     "metadata": {},
     "output_type": "execute_result"
    }
   ],
   "source": [
    "df_videos_4_months_urls_top_dislikes[[\"urls\", \"n_dislikes\"]][~df_videos_4_months_urls_top_dislikes[[\"urls\", \"n_dislikes\"]].duplicated()]"
   ]
  },
  {
   "cell_type": "code",
   "execution_count": 81,
   "id": "3da96e5f",
   "metadata": {},
   "outputs": [],
   "source": [
    "df_videos_4_months_urls_top_dislikes = df_videos_4_months_urls_top_dislikes[\n",
    "    [\"urls\", \"n_dislikes\"]\n",
    "][~df_videos_4_months_urls_top_dislikes[[\"urls\", \"n_dislikes\"]].duplicated()]"
   ]
  },
  {
   "cell_type": "code",
   "execution_count": 83,
   "id": "daec8966",
   "metadata": {},
   "outputs": [],
   "source": [
    "def fix(df):\n",
    "    df[\"urls\"] = df[\"urls\"].apply(lambda x: le(x))\n",
    "    df[\"n_urls\"] = df[\"urls\"].apply(lambda x: len(x))"
   ]
  },
  {
   "cell_type": "code",
   "execution_count": 84,
   "id": "e98fa1e4",
   "metadata": {},
   "outputs": [],
   "source": [
    "fix(df_videos_4_months_urls_top_dislikes)"
   ]
  },
  {
   "cell_type": "code",
   "execution_count": 85,
   "id": "47b26540",
   "metadata": {},
   "outputs": [
    {
     "data": {
      "text/html": [
       "<div>\n",
       "<style scoped>\n",
       "    .dataframe tbody tr th:only-of-type {\n",
       "        vertical-align: middle;\n",
       "    }\n",
       "\n",
       "    .dataframe tbody tr th {\n",
       "        vertical-align: top;\n",
       "    }\n",
       "\n",
       "    .dataframe thead th {\n",
       "        text-align: right;\n",
       "    }\n",
       "</style>\n",
       "<table border=\"1\" class=\"dataframe\">\n",
       "  <thead>\n",
       "    <tr style=\"text-align: right;\">\n",
       "      <th></th>\n",
       "      <th>urls</th>\n",
       "      <th>n_dislikes</th>\n",
       "      <th>n_urls</th>\n",
       "    </tr>\n",
       "  </thead>\n",
       "  <tbody>\n",
       "    <tr>\n",
       "      <th>74</th>\n",
       "      <td>[https://www.youtube.com/channel/UCbiT0LUIbQj6...</td>\n",
       "      <td>5401.0</td>\n",
       "      <td>2</td>\n",
       "    </tr>\n",
       "    <tr>\n",
       "      <th>328</th>\n",
       "      <td>[https://twitter.com/AmberryYt, https://www.in...</td>\n",
       "      <td>4605.0</td>\n",
       "      <td>7</td>\n",
       "    </tr>\n",
       "    <tr>\n",
       "      <th>227</th>\n",
       "      <td>[https://www.youtube.com/watch?v=utozMdfngVk, ...</td>\n",
       "      <td>3906.0</td>\n",
       "      <td>2</td>\n",
       "    </tr>\n",
       "    <tr>\n",
       "      <th>390</th>\n",
       "      <td>[http://youtube.com/watch?v=LrVcWYNXZLY&amp;list=P...</td>\n",
       "      <td>3255.0</td>\n",
       "      <td>9</td>\n",
       "    </tr>\n",
       "    <tr>\n",
       "      <th>260</th>\n",
       "      <td>[https://www.youtube.com/crazedculture?sub_con...</td>\n",
       "      <td>3130.0</td>\n",
       "      <td>2</td>\n",
       "    </tr>\n",
       "    <tr>\n",
       "      <th>...</th>\n",
       "      <td>...</td>\n",
       "      <td>...</td>\n",
       "      <td>...</td>\n",
       "    </tr>\n",
       "    <tr>\n",
       "      <th>157</th>\n",
       "      <td>[https://bit.ly/3txAgy1, https://www.youtube.c...</td>\n",
       "      <td>110.0</td>\n",
       "      <td>7</td>\n",
       "    </tr>\n",
       "    <tr>\n",
       "      <th>174</th>\n",
       "      <td>[https://www.youtube.com/channel/UCMRH, https:...</td>\n",
       "      <td>108.0</td>\n",
       "      <td>3</td>\n",
       "    </tr>\n",
       "    <tr>\n",
       "      <th>200</th>\n",
       "      <td>[https://www.youtube.com/channel/UCbiT0LUIbQj6...</td>\n",
       "      <td>107.0</td>\n",
       "      <td>2</td>\n",
       "    </tr>\n",
       "    <tr>\n",
       "      <th>179</th>\n",
       "      <td>[https://www.youtube.com/crazedculture?sub_con...</td>\n",
       "      <td>103.0</td>\n",
       "      <td>2</td>\n",
       "    </tr>\n",
       "    <tr>\n",
       "      <th>235</th>\n",
       "      <td>[http://youtube.com/channel/UCylyoo597NuFFyJS_...</td>\n",
       "      <td>101.0</td>\n",
       "      <td>1</td>\n",
       "    </tr>\n",
       "  </tbody>\n",
       "</table>\n",
       "<p>108 rows × 3 columns</p>\n",
       "</div>"
      ],
      "text/plain": [
       "                                                  urls  n_dislikes  n_urls\n",
       "74   [https://www.youtube.com/channel/UCbiT0LUIbQj6...      5401.0       2\n",
       "328  [https://twitter.com/AmberryYt, https://www.in...      4605.0       7\n",
       "227  [https://www.youtube.com/watch?v=utozMdfngVk, ...      3906.0       2\n",
       "390  [http://youtube.com/watch?v=LrVcWYNXZLY&list=P...      3255.0       9\n",
       "260  [https://www.youtube.com/crazedculture?sub_con...      3130.0       2\n",
       "..                                                 ...         ...     ...\n",
       "157  [https://bit.ly/3txAgy1, https://www.youtube.c...       110.0       7\n",
       "174  [https://www.youtube.com/channel/UCMRH, https:...       108.0       3\n",
       "200  [https://www.youtube.com/channel/UCbiT0LUIbQj6...       107.0       2\n",
       "179  [https://www.youtube.com/crazedculture?sub_con...       103.0       2\n",
       "235  [http://youtube.com/channel/UCylyoo597NuFFyJS_...       101.0       1\n",
       "\n",
       "[108 rows x 3 columns]"
      ]
     },
     "execution_count": 85,
     "metadata": {},
     "output_type": "execute_result"
    }
   ],
   "source": [
    "df_videos_4_months_urls_top_dislikes"
   ]
  },
  {
   "cell_type": "code",
   "execution_count": 86,
   "id": "8cf4dbf2",
   "metadata": {},
   "outputs": [],
   "source": [
    "df_videos_4_months_urls_top_dislikes_one = one_url_df(df_videos_4_months_urls_top_dislikes)\n",
    "df_videos_4_months_urls_top_dislikes_more = more_url_df(df_videos_4_months_urls_top_dislikes, \"n_dislikes\")"
   ]
  },
  {
   "cell_type": "code",
   "execution_count": 87,
   "id": "11e8616c",
   "metadata": {},
   "outputs": [
    {
     "data": {
      "text/html": [
       "<div>\n",
       "<style scoped>\n",
       "    .dataframe tbody tr th:only-of-type {\n",
       "        vertical-align: middle;\n",
       "    }\n",
       "\n",
       "    .dataframe tbody tr th {\n",
       "        vertical-align: top;\n",
       "    }\n",
       "\n",
       "    .dataframe thead th {\n",
       "        text-align: right;\n",
       "    }\n",
       "</style>\n",
       "<table border=\"1\" class=\"dataframe\">\n",
       "  <thead>\n",
       "    <tr style=\"text-align: right;\">\n",
       "      <th></th>\n",
       "      <th>urls</th>\n",
       "      <th>n_dislikes</th>\n",
       "      <th>n_urls</th>\n",
       "    </tr>\n",
       "  </thead>\n",
       "  <tbody>\n",
       "    <tr>\n",
       "      <th>532</th>\n",
       "      <td>https://www.nickiswift.com/214843/celebs-who-c...</td>\n",
       "      <td>572.0</td>\n",
       "      <td>1</td>\n",
       "    </tr>\n",
       "    <tr>\n",
       "      <th>190</th>\n",
       "      <td>https://tinyurl.com/y5pshr2t</td>\n",
       "      <td>437.0</td>\n",
       "      <td>1</td>\n",
       "    </tr>\n",
       "    <tr>\n",
       "      <th>592</th>\n",
       "      <td>https://www.looper.com/372354/why-meras-costum...</td>\n",
       "      <td>338.0</td>\n",
       "      <td>1</td>\n",
       "    </tr>\n",
       "    <tr>\n",
       "      <th>36</th>\n",
       "      <td>https://bit.ly/3kzplQd</td>\n",
       "      <td>298.0</td>\n",
       "      <td>1</td>\n",
       "    </tr>\n",
       "    <tr>\n",
       "      <th>116</th>\n",
       "      <td>https://www.instagram.com/8pm.tube/</td>\n",
       "      <td>132.0</td>\n",
       "      <td>1</td>\n",
       "    </tr>\n",
       "    <tr>\n",
       "      <th>64</th>\n",
       "      <td>http://youtube.com/channel/UCylyoo597NuFFyJS_H...</td>\n",
       "      <td>128.0</td>\n",
       "      <td>1</td>\n",
       "    </tr>\n",
       "    <tr>\n",
       "      <th>235</th>\n",
       "      <td>http://youtube.com/channel/UCylyoo597NuFFyJS_H...</td>\n",
       "      <td>101.0</td>\n",
       "      <td>1</td>\n",
       "    </tr>\n",
       "  </tbody>\n",
       "</table>\n",
       "</div>"
      ],
      "text/plain": [
       "                                                  urls  n_dislikes  n_urls\n",
       "532  https://www.nickiswift.com/214843/celebs-who-c...       572.0       1\n",
       "190                       https://tinyurl.com/y5pshr2t       437.0       1\n",
       "592  https://www.looper.com/372354/why-meras-costum...       338.0       1\n",
       "36                              https://bit.ly/3kzplQd       298.0       1\n",
       "116                https://www.instagram.com/8pm.tube/       132.0       1\n",
       "64   http://youtube.com/channel/UCylyoo597NuFFyJS_H...       128.0       1\n",
       "235  http://youtube.com/channel/UCylyoo597NuFFyJS_H...       101.0       1"
      ]
     },
     "execution_count": 87,
     "metadata": {},
     "output_type": "execute_result"
    }
   ],
   "source": [
    "df_videos_4_months_urls_top_dislikes_one"
   ]
  },
  {
   "cell_type": "code",
   "execution_count": 89,
   "id": "0506c6e2",
   "metadata": {},
   "outputs": [],
   "source": [
    "df_videos_4_months_urls_top_dislikes_one[\n",
    "    \"urls\"\n",
    "] = df_videos_4_months_urls_top_dislikes_one[\"urls\"].apply(lambda x: unshorten(x))"
   ]
  },
  {
   "cell_type": "code",
   "execution_count": 88,
   "id": "a510ed60",
   "metadata": {},
   "outputs": [
    {
     "data": {
      "text/html": [
       "<div>\n",
       "<style scoped>\n",
       "    .dataframe tbody tr th:only-of-type {\n",
       "        vertical-align: middle;\n",
       "    }\n",
       "\n",
       "    .dataframe tbody tr th {\n",
       "        vertical-align: top;\n",
       "    }\n",
       "\n",
       "    .dataframe thead th {\n",
       "        text-align: right;\n",
       "    }\n",
       "</style>\n",
       "<table border=\"1\" class=\"dataframe\">\n",
       "  <thead>\n",
       "    <tr style=\"text-align: right;\">\n",
       "      <th></th>\n",
       "      <th>urls</th>\n",
       "      <th>n_dislikes</th>\n",
       "      <th>n_urls</th>\n",
       "    </tr>\n",
       "  </thead>\n",
       "  <tbody>\n",
       "    <tr>\n",
       "      <th>0</th>\n",
       "      <td>https://www.youtube.com/channel/UCbiT0LUIbQj6C...</td>\n",
       "      <td>5401.0</td>\n",
       "      <td>2</td>\n",
       "    </tr>\n",
       "    <tr>\n",
       "      <th>1</th>\n",
       "      <td>https://support.google.com/youtube/answer/1620...</td>\n",
       "      <td>5401.0</td>\n",
       "      <td>2</td>\n",
       "    </tr>\n",
       "    <tr>\n",
       "      <th>2</th>\n",
       "      <td>https://twitter.com/AmberryYt</td>\n",
       "      <td>4605.0</td>\n",
       "      <td>7</td>\n",
       "    </tr>\n",
       "    <tr>\n",
       "      <th>3</th>\n",
       "      <td>https://www.instagram.com/amberryphoeberry</td>\n",
       "      <td>4605.0</td>\n",
       "      <td>7</td>\n",
       "    </tr>\n",
       "    <tr>\n",
       "      <th>4</th>\n",
       "      <td>https://www.roblox.com/users/275424983/profile</td>\n",
       "      <td>4605.0</td>\n",
       "      <td>7</td>\n",
       "    </tr>\n",
       "    <tr>\n",
       "      <th>...</th>\n",
       "      <td>...</td>\n",
       "      <td>...</td>\n",
       "      <td>...</td>\n",
       "    </tr>\n",
       "    <tr>\n",
       "      <th>532</th>\n",
       "      <td>https://www.instagram.com/tuberadio/</td>\n",
       "      <td>108.0</td>\n",
       "      <td>3</td>\n",
       "    </tr>\n",
       "    <tr>\n",
       "      <th>533</th>\n",
       "      <td>https://www.youtube.com/channel/UCbiT0LUIbQj6C...</td>\n",
       "      <td>107.0</td>\n",
       "      <td>2</td>\n",
       "    </tr>\n",
       "    <tr>\n",
       "      <th>534</th>\n",
       "      <td>https://support.google.com/youtube/answer/1620...</td>\n",
       "      <td>107.0</td>\n",
       "      <td>2</td>\n",
       "    </tr>\n",
       "    <tr>\n",
       "      <th>535</th>\n",
       "      <td>https://www.youtube.com/crazedculture?sub_conf...</td>\n",
       "      <td>103.0</td>\n",
       "      <td>2</td>\n",
       "    </tr>\n",
       "    <tr>\n",
       "      <th>536</th>\n",
       "      <td>https://support.google.com/youtube/answer/1620...</td>\n",
       "      <td>103.0</td>\n",
       "      <td>2</td>\n",
       "    </tr>\n",
       "  </tbody>\n",
       "</table>\n",
       "<p>530 rows × 3 columns</p>\n",
       "</div>"
      ],
      "text/plain": [
       "                                                  urls  n_dislikes  n_urls\n",
       "0    https://www.youtube.com/channel/UCbiT0LUIbQj6C...      5401.0       2\n",
       "1    https://support.google.com/youtube/answer/1620...      5401.0       2\n",
       "2                        https://twitter.com/AmberryYt      4605.0       7\n",
       "3           https://www.instagram.com/amberryphoeberry      4605.0       7\n",
       "4       https://www.roblox.com/users/275424983/profile      4605.0       7\n",
       "..                                                 ...         ...     ...\n",
       "532               https://www.instagram.com/tuberadio/       108.0       3\n",
       "533  https://www.youtube.com/channel/UCbiT0LUIbQj6C...       107.0       2\n",
       "534  https://support.google.com/youtube/answer/1620...       107.0       2\n",
       "535  https://www.youtube.com/crazedculture?sub_conf...       103.0       2\n",
       "536  https://support.google.com/youtube/answer/1620...       103.0       2\n",
       "\n",
       "[530 rows x 3 columns]"
      ]
     },
     "execution_count": 88,
     "metadata": {},
     "output_type": "execute_result"
    }
   ],
   "source": [
    "df_videos_4_months_urls_top_dislikes_more"
   ]
  },
  {
   "cell_type": "code",
   "execution_count": 90,
   "id": "69b448a6",
   "metadata": {},
   "outputs": [],
   "source": [
    "df_videos_4_months_urls_top_dislikes_more[\n",
    "    \"urls\"\n",
    "] = df_videos_4_months_urls_top_dislikes_more[\"urls\"].apply(lambda x: unshorten(x))"
   ]
  },
  {
   "cell_type": "code",
   "execution_count": 101,
   "id": "88b2c7ad",
   "metadata": {},
   "outputs": [],
   "source": [
    "df_videos_4_months_urls_top_dislikes_one.to_csv(\n",
    "yt_path + 'df_videos_4_months_urls_top_dislikes_one.csv', index=False)"
   ]
  },
  {
   "cell_type": "code",
   "execution_count": 100,
   "id": "dae4729a",
   "metadata": {},
   "outputs": [],
   "source": [
    "df_videos_4_months_urls_top_dislikes_more.to_csv(\n",
    "yt_path + 'df_videos_4_months_urls_top_dislikes_more.csv', index=False)"
   ]
  },
  {
   "cell_type": "code",
   "execution_count": 99,
   "id": "5e0e115a",
   "metadata": {},
   "outputs": [],
   "source": [
    "pd.concat(\n",
    "    [\n",
    "        df_videos_4_months_urls_top_dislikes_more,\n",
    "        df_videos_4_months_urls_top_dislikes_one,\n",
    "    ]\n",
    ").sort_values(\"n_dislikes\", ascending=False).to_csv(\n",
    "    yt_path + \"df_videos_4_months_urls_top_dislikes.csv\", index=False\n",
    ")"
   ]
  },
  {
   "cell_type": "code",
   "execution_count": 98,
   "id": "5ffcd670",
   "metadata": {},
   "outputs": [
    {
     "data": {
      "text/html": [
       "<div>\n",
       "<style scoped>\n",
       "    .dataframe tbody tr th:only-of-type {\n",
       "        vertical-align: middle;\n",
       "    }\n",
       "\n",
       "    .dataframe tbody tr th {\n",
       "        vertical-align: top;\n",
       "    }\n",
       "\n",
       "    .dataframe thead th {\n",
       "        text-align: right;\n",
       "    }\n",
       "</style>\n",
       "<table border=\"1\" class=\"dataframe\">\n",
       "  <thead>\n",
       "    <tr style=\"text-align: right;\">\n",
       "      <th></th>\n",
       "      <th>urls</th>\n",
       "      <th>n_dislikes</th>\n",
       "      <th>n_urls</th>\n",
       "    </tr>\n",
       "  </thead>\n",
       "  <tbody>\n",
       "    <tr>\n",
       "      <th>0</th>\n",
       "      <td>https://www.youtube.com/channel/UCbiT0LUIbQj6C...</td>\n",
       "      <td>5401.0</td>\n",
       "      <td>2</td>\n",
       "    </tr>\n",
       "    <tr>\n",
       "      <th>1</th>\n",
       "      <td>https://support.google.com/youtube/answer/1620...</td>\n",
       "      <td>5401.0</td>\n",
       "      <td>2</td>\n",
       "    </tr>\n",
       "    <tr>\n",
       "      <th>2</th>\n",
       "      <td>https://twitter.com/AmberryYt</td>\n",
       "      <td>4605.0</td>\n",
       "      <td>7</td>\n",
       "    </tr>\n",
       "    <tr>\n",
       "      <th>3</th>\n",
       "      <td>https://www.instagram.com/amberryphoeberry</td>\n",
       "      <td>4605.0</td>\n",
       "      <td>7</td>\n",
       "    </tr>\n",
       "    <tr>\n",
       "      <th>4</th>\n",
       "      <td>https://www.roblox.com/users/275424983/profile</td>\n",
       "      <td>4605.0</td>\n",
       "      <td>7</td>\n",
       "    </tr>\n",
       "    <tr>\n",
       "      <th>...</th>\n",
       "      <td>...</td>\n",
       "      <td>...</td>\n",
       "      <td>...</td>\n",
       "    </tr>\n",
       "    <tr>\n",
       "      <th>534</th>\n",
       "      <td>https://support.google.com/youtube/answer/1620...</td>\n",
       "      <td>107.0</td>\n",
       "      <td>2</td>\n",
       "    </tr>\n",
       "    <tr>\n",
       "      <th>533</th>\n",
       "      <td>https://www.youtube.com/channel/UCbiT0LUIbQj6C...</td>\n",
       "      <td>107.0</td>\n",
       "      <td>2</td>\n",
       "    </tr>\n",
       "    <tr>\n",
       "      <th>536</th>\n",
       "      <td>https://support.google.com/youtube/answer/1620...</td>\n",
       "      <td>103.0</td>\n",
       "      <td>2</td>\n",
       "    </tr>\n",
       "    <tr>\n",
       "      <th>535</th>\n",
       "      <td>https://www.youtube.com/crazedculture?sub_conf...</td>\n",
       "      <td>103.0</td>\n",
       "      <td>2</td>\n",
       "    </tr>\n",
       "    <tr>\n",
       "      <th>235</th>\n",
       "      <td>https://www.youtube.com/channel/UCylyoo597NuFF...</td>\n",
       "      <td>101.0</td>\n",
       "      <td>1</td>\n",
       "    </tr>\n",
       "  </tbody>\n",
       "</table>\n",
       "<p>537 rows × 3 columns</p>\n",
       "</div>"
      ],
      "text/plain": [
       "                                                  urls  n_dislikes  n_urls\n",
       "0    https://www.youtube.com/channel/UCbiT0LUIbQj6C...      5401.0       2\n",
       "1    https://support.google.com/youtube/answer/1620...      5401.0       2\n",
       "2                        https://twitter.com/AmberryYt      4605.0       7\n",
       "3           https://www.instagram.com/amberryphoeberry      4605.0       7\n",
       "4       https://www.roblox.com/users/275424983/profile      4605.0       7\n",
       "..                                                 ...         ...     ...\n",
       "534  https://support.google.com/youtube/answer/1620...       107.0       2\n",
       "533  https://www.youtube.com/channel/UCbiT0LUIbQj6C...       107.0       2\n",
       "536  https://support.google.com/youtube/answer/1620...       103.0       2\n",
       "535  https://www.youtube.com/crazedculture?sub_conf...       103.0       2\n",
       "235  https://www.youtube.com/channel/UCylyoo597NuFF...       101.0       1\n",
       "\n",
       "[537 rows x 3 columns]"
      ]
     },
     "execution_count": 98,
     "metadata": {},
     "output_type": "execute_result"
    }
   ],
   "source": [
    "pd.concat(\n",
    "    [\n",
    "        df_videos_4_months_urls_top_dislikes_more,\n",
    "        df_videos_4_months_urls_top_dislikes_one,\n",
    "    ]\n",
    ").sort_values(\"n_dislikes\", ascending=False)"
   ]
  },
  {
   "cell_type": "markdown",
   "id": "6a8724c5",
   "metadata": {},
   "source": [
    "### likes"
   ]
  },
  {
   "cell_type": "code",
   "execution_count": 102,
   "id": "3222337d",
   "metadata": {},
   "outputs": [
    {
     "data": {
      "text/plain": [
       "count       575.000000\n",
       "mean       3550.253913\n",
       "std       12721.652185\n",
       "min           0.000000\n",
       "25%          94.500000\n",
       "50%         562.000000\n",
       "75%        2718.500000\n",
       "max      191932.000000\n",
       "Name: n_likes, dtype: float64"
      ]
     },
     "execution_count": 102,
     "metadata": {},
     "output_type": "execute_result"
    }
   ],
   "source": [
    "df_videos_4_months_urls.n_likes.describe()"
   ]
  },
  {
   "cell_type": "code",
   "execution_count": 103,
   "id": "de1b0c90",
   "metadata": {},
   "outputs": [
    {
     "data": {
      "text/plain": [
       "191932.0"
      ]
     },
     "execution_count": 103,
     "metadata": {},
     "output_type": "execute_result"
    }
   ],
   "source": [
    "df_videos_4_months_urls.n_likes.max()"
   ]
  },
  {
   "cell_type": "code",
   "execution_count": 106,
   "id": "ad2f8080",
   "metadata": {},
   "outputs": [
    {
     "data": {
      "application/vnd.plotly.v1+json": {
       "config": {
        "plotlyServerURL": "https://plot.ly"
       },
       "data": [
        {
         "alignmentgroup": "True",
         "bingroup": "x",
         "hovertemplate": "n_likes=%{x}<br>count=%{y}<extra></extra>",
         "legendgroup": "",
         "marker": {
          "color": "#636efa",
          "pattern": {
           "shape": ""
          }
         },
         "name": "",
         "offsetgroup": "",
         "orientation": "v",
         "showlegend": false,
         "type": "histogram",
         "x": [
          1394,
          248,
          225,
          2907,
          4895,
          13682,
          1135,
          516,
          24,
          10178,
          186,
          562,
          24383,
          3935,
          47,
          11235,
          9826,
          41871,
          24544,
          5612,
          638,
          111,
          5594,
          861,
          1,
          1267,
          5743,
          148,
          691,
          1090,
          51,
          47,
          149,
          63,
          1237,
          23,
          50,
          11484,
          11198,
          25,
          28801,
          622,
          11081,
          12169,
          2,
          38,
          1834,
          383,
          6180,
          580,
          2018,
          6,
          2,
          6581,
          185,
          82,
          163,
          6010,
          26005,
          6651,
          3018,
          15,
          491,
          1310,
          261,
          18245,
          1590,
          624,
          6910,
          1362,
          539,
          51,
          16759,
          3129,
          3550,
          67,
          3352,
          9,
          576,
          646,
          15,
          14,
          112,
          21,
          353,
          4733,
          59,
          1216,
          420,
          2459,
          128,
          3357,
          7098,
          4028,
          3607,
          25809,
          10,
          2159,
          3708,
          null,
          1595,
          12,
          1123,
          772,
          2391,
          715,
          11878,
          13551,
          278,
          3857,
          1926,
          946,
          971,
          815,
          4125,
          7187,
          75,
          1315,
          107,
          63,
          288,
          5,
          4510,
          6236,
          7,
          12,
          13924,
          10020,
          1092,
          2849,
          4543,
          1,
          188,
          23389,
          2592,
          62,
          311,
          4492,
          4,
          3902,
          2013,
          762,
          4815,
          4311,
          332,
          20,
          391,
          933,
          516,
          1557,
          549,
          6,
          5000,
          12099,
          1452,
          139,
          31911,
          34942,
          1201,
          1923,
          15,
          864,
          13,
          5028,
          4883,
          2484,
          4163,
          19617,
          150,
          18847,
          1330,
          75,
          2,
          199,
          92,
          2080,
          46,
          300,
          144,
          353,
          2,
          580,
          27,
          1383,
          191932,
          4663,
          498,
          3061,
          2801,
          2385,
          8,
          4571,
          5,
          129,
          21401,
          5464,
          376,
          4,
          2617,
          142,
          33,
          5063,
          171,
          1464,
          6,
          4858,
          350,
          1613,
          356,
          2222,
          871,
          2943,
          111,
          2560,
          7803,
          11313,
          4997,
          2114,
          902,
          3,
          390,
          3943,
          1419,
          8139,
          367,
          118,
          196,
          4473,
          11142,
          4345,
          21915,
          26,
          4,
          2264,
          1285,
          9930,
          4,
          468,
          4137,
          460,
          5280,
          4772,
          3676,
          59,
          1815,
          20,
          1523,
          1176,
          152,
          2084,
          6903,
          4185,
          50,
          4030,
          9,
          13,
          4,
          8326,
          96,
          2907,
          52,
          1777,
          139,
          22,
          53,
          320,
          35,
          312,
          7430,
          626,
          62,
          33541,
          1426,
          665,
          154907,
          3077,
          409,
          304,
          242,
          400,
          295,
          327,
          2078,
          7554,
          0,
          6,
          134,
          438,
          19111,
          0,
          539,
          576,
          325,
          1034,
          10260,
          6947,
          102,
          917,
          44,
          8,
          221,
          52,
          887,
          35,
          3,
          573,
          3254,
          153,
          483,
          813,
          1222,
          236,
          269,
          2600,
          158,
          37,
          96,
          410,
          433,
          628,
          2062,
          118811,
          458,
          2174,
          1449,
          6384,
          74,
          281,
          3485,
          60,
          1040,
          79,
          284,
          82,
          110,
          3650,
          1260,
          0,
          764,
          232,
          490,
          391,
          29,
          1802,
          349,
          91,
          191,
          838,
          42,
          27,
          5088,
          6197,
          1301,
          23,
          null,
          827,
          1412,
          8,
          2533,
          3332,
          2,
          154,
          26,
          61,
          1049,
          5777,
          347,
          591,
          2404,
          686,
          79,
          3787,
          455,
          288,
          509,
          639,
          882,
          26,
          840,
          790,
          750,
          193,
          452,
          62,
          188,
          18,
          2582,
          22517,
          538,
          5132,
          5302,
          780,
          1233,
          249,
          1913,
          621,
          11302,
          12,
          42,
          798,
          1548,
          1273,
          555,
          1385,
          61,
          218,
          501,
          694,
          28,
          1,
          597,
          93,
          5497,
          11925,
          368,
          67,
          15,
          571,
          4919,
          3152,
          26256,
          23089,
          4,
          278,
          645,
          367,
          null,
          159,
          849,
          3908,
          6461,
          9980,
          4,
          199,
          245,
          453,
          4175,
          211,
          703,
          5385,
          4182,
          591,
          5096,
          1,
          3,
          660,
          16709,
          7,
          2,
          1567,
          484,
          7,
          72,
          287,
          3140,
          469,
          545,
          707,
          450,
          501,
          292,
          634,
          30,
          1015,
          375,
          4,
          6249,
          3225,
          3036,
          2139,
          352,
          414,
          1235,
          373,
          71,
          152,
          4439,
          7966,
          802,
          50706,
          47,
          365,
          864,
          174,
          244,
          64,
          2323,
          4,
          3045,
          190,
          3002,
          24,
          771,
          59,
          504,
          1280,
          882,
          42,
          4566,
          6,
          20,
          3,
          728,
          153,
          8,
          7187,
          11,
          17,
          11,
          56688,
          4,
          2029,
          2156,
          7171,
          19,
          281,
          1102,
          708,
          null,
          141,
          27,
          549,
          62,
          717,
          446,
          21,
          3,
          274,
          107,
          null,
          1,
          842,
          108,
          2,
          21,
          438,
          35,
          611,
          1,
          320,
          317,
          241,
          4,
          25,
          263,
          3,
          7881,
          74,
          1517,
          188,
          2342,
          7461,
          1029,
          4638,
          484,
          3,
          57,
          15679,
          10,
          118,
          30,
          950,
          32,
          805,
          210,
          364,
          672,
          2636,
          2,
          265,
          196,
          null,
          183,
          19,
          108,
          292,
          1455,
          315,
          47,
          1362,
          298
         ],
         "xaxis": "x",
         "yaxis": "y"
        }
       ],
       "layout": {
        "barmode": "relative",
        "legend": {
         "tracegroupgap": 0
        },
        "margin": {
         "t": 60
        },
        "template": {
         "data": {
          "bar": [
           {
            "error_x": {
             "color": "#2a3f5f"
            },
            "error_y": {
             "color": "#2a3f5f"
            },
            "marker": {
             "line": {
              "color": "#E5ECF6",
              "width": 0.5
             },
             "pattern": {
              "fillmode": "overlay",
              "size": 10,
              "solidity": 0.2
             }
            },
            "type": "bar"
           }
          ],
          "barpolar": [
           {
            "marker": {
             "line": {
              "color": "#E5ECF6",
              "width": 0.5
             },
             "pattern": {
              "fillmode": "overlay",
              "size": 10,
              "solidity": 0.2
             }
            },
            "type": "barpolar"
           }
          ],
          "carpet": [
           {
            "aaxis": {
             "endlinecolor": "#2a3f5f",
             "gridcolor": "white",
             "linecolor": "white",
             "minorgridcolor": "white",
             "startlinecolor": "#2a3f5f"
            },
            "baxis": {
             "endlinecolor": "#2a3f5f",
             "gridcolor": "white",
             "linecolor": "white",
             "minorgridcolor": "white",
             "startlinecolor": "#2a3f5f"
            },
            "type": "carpet"
           }
          ],
          "choropleth": [
           {
            "colorbar": {
             "outlinewidth": 0,
             "ticks": ""
            },
            "type": "choropleth"
           }
          ],
          "contour": [
           {
            "colorbar": {
             "outlinewidth": 0,
             "ticks": ""
            },
            "colorscale": [
             [
              0,
              "#0d0887"
             ],
             [
              0.1111111111111111,
              "#46039f"
             ],
             [
              0.2222222222222222,
              "#7201a8"
             ],
             [
              0.3333333333333333,
              "#9c179e"
             ],
             [
              0.4444444444444444,
              "#bd3786"
             ],
             [
              0.5555555555555556,
              "#d8576b"
             ],
             [
              0.6666666666666666,
              "#ed7953"
             ],
             [
              0.7777777777777778,
              "#fb9f3a"
             ],
             [
              0.8888888888888888,
              "#fdca26"
             ],
             [
              1,
              "#f0f921"
             ]
            ],
            "type": "contour"
           }
          ],
          "contourcarpet": [
           {
            "colorbar": {
             "outlinewidth": 0,
             "ticks": ""
            },
            "type": "contourcarpet"
           }
          ],
          "heatmap": [
           {
            "colorbar": {
             "outlinewidth": 0,
             "ticks": ""
            },
            "colorscale": [
             [
              0,
              "#0d0887"
             ],
             [
              0.1111111111111111,
              "#46039f"
             ],
             [
              0.2222222222222222,
              "#7201a8"
             ],
             [
              0.3333333333333333,
              "#9c179e"
             ],
             [
              0.4444444444444444,
              "#bd3786"
             ],
             [
              0.5555555555555556,
              "#d8576b"
             ],
             [
              0.6666666666666666,
              "#ed7953"
             ],
             [
              0.7777777777777778,
              "#fb9f3a"
             ],
             [
              0.8888888888888888,
              "#fdca26"
             ],
             [
              1,
              "#f0f921"
             ]
            ],
            "type": "heatmap"
           }
          ],
          "heatmapgl": [
           {
            "colorbar": {
             "outlinewidth": 0,
             "ticks": ""
            },
            "colorscale": [
             [
              0,
              "#0d0887"
             ],
             [
              0.1111111111111111,
              "#46039f"
             ],
             [
              0.2222222222222222,
              "#7201a8"
             ],
             [
              0.3333333333333333,
              "#9c179e"
             ],
             [
              0.4444444444444444,
              "#bd3786"
             ],
             [
              0.5555555555555556,
              "#d8576b"
             ],
             [
              0.6666666666666666,
              "#ed7953"
             ],
             [
              0.7777777777777778,
              "#fb9f3a"
             ],
             [
              0.8888888888888888,
              "#fdca26"
             ],
             [
              1,
              "#f0f921"
             ]
            ],
            "type": "heatmapgl"
           }
          ],
          "histogram": [
           {
            "marker": {
             "pattern": {
              "fillmode": "overlay",
              "size": 10,
              "solidity": 0.2
             }
            },
            "type": "histogram"
           }
          ],
          "histogram2d": [
           {
            "colorbar": {
             "outlinewidth": 0,
             "ticks": ""
            },
            "colorscale": [
             [
              0,
              "#0d0887"
             ],
             [
              0.1111111111111111,
              "#46039f"
             ],
             [
              0.2222222222222222,
              "#7201a8"
             ],
             [
              0.3333333333333333,
              "#9c179e"
             ],
             [
              0.4444444444444444,
              "#bd3786"
             ],
             [
              0.5555555555555556,
              "#d8576b"
             ],
             [
              0.6666666666666666,
              "#ed7953"
             ],
             [
              0.7777777777777778,
              "#fb9f3a"
             ],
             [
              0.8888888888888888,
              "#fdca26"
             ],
             [
              1,
              "#f0f921"
             ]
            ],
            "type": "histogram2d"
           }
          ],
          "histogram2dcontour": [
           {
            "colorbar": {
             "outlinewidth": 0,
             "ticks": ""
            },
            "colorscale": [
             [
              0,
              "#0d0887"
             ],
             [
              0.1111111111111111,
              "#46039f"
             ],
             [
              0.2222222222222222,
              "#7201a8"
             ],
             [
              0.3333333333333333,
              "#9c179e"
             ],
             [
              0.4444444444444444,
              "#bd3786"
             ],
             [
              0.5555555555555556,
              "#d8576b"
             ],
             [
              0.6666666666666666,
              "#ed7953"
             ],
             [
              0.7777777777777778,
              "#fb9f3a"
             ],
             [
              0.8888888888888888,
              "#fdca26"
             ],
             [
              1,
              "#f0f921"
             ]
            ],
            "type": "histogram2dcontour"
           }
          ],
          "mesh3d": [
           {
            "colorbar": {
             "outlinewidth": 0,
             "ticks": ""
            },
            "type": "mesh3d"
           }
          ],
          "parcoords": [
           {
            "line": {
             "colorbar": {
              "outlinewidth": 0,
              "ticks": ""
             }
            },
            "type": "parcoords"
           }
          ],
          "pie": [
           {
            "automargin": true,
            "type": "pie"
           }
          ],
          "scatter": [
           {
            "marker": {
             "colorbar": {
              "outlinewidth": 0,
              "ticks": ""
             }
            },
            "type": "scatter"
           }
          ],
          "scatter3d": [
           {
            "line": {
             "colorbar": {
              "outlinewidth": 0,
              "ticks": ""
             }
            },
            "marker": {
             "colorbar": {
              "outlinewidth": 0,
              "ticks": ""
             }
            },
            "type": "scatter3d"
           }
          ],
          "scattercarpet": [
           {
            "marker": {
             "colorbar": {
              "outlinewidth": 0,
              "ticks": ""
             }
            },
            "type": "scattercarpet"
           }
          ],
          "scattergeo": [
           {
            "marker": {
             "colorbar": {
              "outlinewidth": 0,
              "ticks": ""
             }
            },
            "type": "scattergeo"
           }
          ],
          "scattergl": [
           {
            "marker": {
             "colorbar": {
              "outlinewidth": 0,
              "ticks": ""
             }
            },
            "type": "scattergl"
           }
          ],
          "scattermapbox": [
           {
            "marker": {
             "colorbar": {
              "outlinewidth": 0,
              "ticks": ""
             }
            },
            "type": "scattermapbox"
           }
          ],
          "scatterpolar": [
           {
            "marker": {
             "colorbar": {
              "outlinewidth": 0,
              "ticks": ""
             }
            },
            "type": "scatterpolar"
           }
          ],
          "scatterpolargl": [
           {
            "marker": {
             "colorbar": {
              "outlinewidth": 0,
              "ticks": ""
             }
            },
            "type": "scatterpolargl"
           }
          ],
          "scatterternary": [
           {
            "marker": {
             "colorbar": {
              "outlinewidth": 0,
              "ticks": ""
             }
            },
            "type": "scatterternary"
           }
          ],
          "surface": [
           {
            "colorbar": {
             "outlinewidth": 0,
             "ticks": ""
            },
            "colorscale": [
             [
              0,
              "#0d0887"
             ],
             [
              0.1111111111111111,
              "#46039f"
             ],
             [
              0.2222222222222222,
              "#7201a8"
             ],
             [
              0.3333333333333333,
              "#9c179e"
             ],
             [
              0.4444444444444444,
              "#bd3786"
             ],
             [
              0.5555555555555556,
              "#d8576b"
             ],
             [
              0.6666666666666666,
              "#ed7953"
             ],
             [
              0.7777777777777778,
              "#fb9f3a"
             ],
             [
              0.8888888888888888,
              "#fdca26"
             ],
             [
              1,
              "#f0f921"
             ]
            ],
            "type": "surface"
           }
          ],
          "table": [
           {
            "cells": {
             "fill": {
              "color": "#EBF0F8"
             },
             "line": {
              "color": "white"
             }
            },
            "header": {
             "fill": {
              "color": "#C8D4E3"
             },
             "line": {
              "color": "white"
             }
            },
            "type": "table"
           }
          ]
         },
         "layout": {
          "annotationdefaults": {
           "arrowcolor": "#2a3f5f",
           "arrowhead": 0,
           "arrowwidth": 1
          },
          "autotypenumbers": "strict",
          "coloraxis": {
           "colorbar": {
            "outlinewidth": 0,
            "ticks": ""
           }
          },
          "colorscale": {
           "diverging": [
            [
             0,
             "#8e0152"
            ],
            [
             0.1,
             "#c51b7d"
            ],
            [
             0.2,
             "#de77ae"
            ],
            [
             0.3,
             "#f1b6da"
            ],
            [
             0.4,
             "#fde0ef"
            ],
            [
             0.5,
             "#f7f7f7"
            ],
            [
             0.6,
             "#e6f5d0"
            ],
            [
             0.7,
             "#b8e186"
            ],
            [
             0.8,
             "#7fbc41"
            ],
            [
             0.9,
             "#4d9221"
            ],
            [
             1,
             "#276419"
            ]
           ],
           "sequential": [
            [
             0,
             "#0d0887"
            ],
            [
             0.1111111111111111,
             "#46039f"
            ],
            [
             0.2222222222222222,
             "#7201a8"
            ],
            [
             0.3333333333333333,
             "#9c179e"
            ],
            [
             0.4444444444444444,
             "#bd3786"
            ],
            [
             0.5555555555555556,
             "#d8576b"
            ],
            [
             0.6666666666666666,
             "#ed7953"
            ],
            [
             0.7777777777777778,
             "#fb9f3a"
            ],
            [
             0.8888888888888888,
             "#fdca26"
            ],
            [
             1,
             "#f0f921"
            ]
           ],
           "sequentialminus": [
            [
             0,
             "#0d0887"
            ],
            [
             0.1111111111111111,
             "#46039f"
            ],
            [
             0.2222222222222222,
             "#7201a8"
            ],
            [
             0.3333333333333333,
             "#9c179e"
            ],
            [
             0.4444444444444444,
             "#bd3786"
            ],
            [
             0.5555555555555556,
             "#d8576b"
            ],
            [
             0.6666666666666666,
             "#ed7953"
            ],
            [
             0.7777777777777778,
             "#fb9f3a"
            ],
            [
             0.8888888888888888,
             "#fdca26"
            ],
            [
             1,
             "#f0f921"
            ]
           ]
          },
          "colorway": [
           "#636efa",
           "#EF553B",
           "#00cc96",
           "#ab63fa",
           "#FFA15A",
           "#19d3f3",
           "#FF6692",
           "#B6E880",
           "#FF97FF",
           "#FECB52"
          ],
          "font": {
           "color": "#2a3f5f"
          },
          "geo": {
           "bgcolor": "white",
           "lakecolor": "white",
           "landcolor": "#E5ECF6",
           "showlakes": true,
           "showland": true,
           "subunitcolor": "white"
          },
          "hoverlabel": {
           "align": "left"
          },
          "hovermode": "closest",
          "mapbox": {
           "style": "light"
          },
          "paper_bgcolor": "white",
          "plot_bgcolor": "#E5ECF6",
          "polar": {
           "angularaxis": {
            "gridcolor": "white",
            "linecolor": "white",
            "ticks": ""
           },
           "bgcolor": "#E5ECF6",
           "radialaxis": {
            "gridcolor": "white",
            "linecolor": "white",
            "ticks": ""
           }
          },
          "scene": {
           "xaxis": {
            "backgroundcolor": "#E5ECF6",
            "gridcolor": "white",
            "gridwidth": 2,
            "linecolor": "white",
            "showbackground": true,
            "ticks": "",
            "zerolinecolor": "white"
           },
           "yaxis": {
            "backgroundcolor": "#E5ECF6",
            "gridcolor": "white",
            "gridwidth": 2,
            "linecolor": "white",
            "showbackground": true,
            "ticks": "",
            "zerolinecolor": "white"
           },
           "zaxis": {
            "backgroundcolor": "#E5ECF6",
            "gridcolor": "white",
            "gridwidth": 2,
            "linecolor": "white",
            "showbackground": true,
            "ticks": "",
            "zerolinecolor": "white"
           }
          },
          "shapedefaults": {
           "line": {
            "color": "#2a3f5f"
           }
          },
          "ternary": {
           "aaxis": {
            "gridcolor": "white",
            "linecolor": "white",
            "ticks": ""
           },
           "baxis": {
            "gridcolor": "white",
            "linecolor": "white",
            "ticks": ""
           },
           "bgcolor": "#E5ECF6",
           "caxis": {
            "gridcolor": "white",
            "linecolor": "white",
            "ticks": ""
           }
          },
          "title": {
           "x": 0.05
          },
          "xaxis": {
           "automargin": true,
           "gridcolor": "white",
           "linecolor": "white",
           "ticks": "",
           "title": {
            "standoff": 15
           },
           "zerolinecolor": "white",
           "zerolinewidth": 2
          },
          "yaxis": {
           "automargin": true,
           "gridcolor": "white",
           "linecolor": "white",
           "ticks": "",
           "title": {
            "standoff": 15
           },
           "zerolinecolor": "white",
           "zerolinewidth": 2
          }
         }
        },
        "xaxis": {
         "anchor": "y",
         "domain": [
          0,
          1
         ],
         "title": {
          "text": "n_likes"
         }
        },
        "yaxis": {
         "anchor": "x",
         "domain": [
          0,
          1
         ],
         "title": {
          "text": "count"
         }
        }
       }
      },
      "text/html": [
       "<div>                            <div id=\"272f4bea-d460-4681-b897-063ddcfa8ab8\" class=\"plotly-graph-div\" style=\"height:525px; width:100%;\"></div>            <script type=\"text/javascript\">                require([\"plotly\"], function(Plotly) {                    window.PLOTLYENV=window.PLOTLYENV || {};                                    if (document.getElementById(\"272f4bea-d460-4681-b897-063ddcfa8ab8\")) {                    Plotly.newPlot(                        \"272f4bea-d460-4681-b897-063ddcfa8ab8\",                        [{\"alignmentgroup\":\"True\",\"bingroup\":\"x\",\"hovertemplate\":\"n_likes=%{x}<br>count=%{y}<extra></extra>\",\"legendgroup\":\"\",\"marker\":{\"color\":\"#636efa\",\"pattern\":{\"shape\":\"\"}},\"name\":\"\",\"offsetgroup\":\"\",\"orientation\":\"v\",\"showlegend\":false,\"type\":\"histogram\",\"x\":[1394.0,248.0,225.0,2907.0,4895.0,13682.0,1135.0,516.0,24.0,10178.0,186.0,562.0,24383.0,3935.0,47.0,11235.0,9826.0,41871.0,24544.0,5612.0,638.0,111.0,5594.0,861.0,1.0,1267.0,5743.0,148.0,691.0,1090.0,51.0,47.0,149.0,63.0,1237.0,23.0,50.0,11484.0,11198.0,25.0,28801.0,622.0,11081.0,12169.0,2.0,38.0,1834.0,383.0,6180.0,580.0,2018.0,6.0,2.0,6581.0,185.0,82.0,163.0,6010.0,26005.0,6651.0,3018.0,15.0,491.0,1310.0,261.0,18245.0,1590.0,624.0,6910.0,1362.0,539.0,51.0,16759.0,3129.0,3550.0,67.0,3352.0,9.0,576.0,646.0,15.0,14.0,112.0,21.0,353.0,4733.0,59.0,1216.0,420.0,2459.0,128.0,3357.0,7098.0,4028.0,3607.0,25809.0,10.0,2159.0,3708.0,null,1595.0,12.0,1123.0,772.0,2391.0,715.0,11878.0,13551.0,278.0,3857.0,1926.0,946.0,971.0,815.0,4125.0,7187.0,75.0,1315.0,107.0,63.0,288.0,5.0,4510.0,6236.0,7.0,12.0,13924.0,10020.0,1092.0,2849.0,4543.0,1.0,188.0,23389.0,2592.0,62.0,311.0,4492.0,4.0,3902.0,2013.0,762.0,4815.0,4311.0,332.0,20.0,391.0,933.0,516.0,1557.0,549.0,6.0,5000.0,12099.0,1452.0,139.0,31911.0,34942.0,1201.0,1923.0,15.0,864.0,13.0,5028.0,4883.0,2484.0,4163.0,19617.0,150.0,18847.0,1330.0,75.0,2.0,199.0,92.0,2080.0,46.0,300.0,144.0,353.0,2.0,580.0,27.0,1383.0,191932.0,4663.0,498.0,3061.0,2801.0,2385.0,8.0,4571.0,5.0,129.0,21401.0,5464.0,376.0,4.0,2617.0,142.0,33.0,5063.0,171.0,1464.0,6.0,4858.0,350.0,1613.0,356.0,2222.0,871.0,2943.0,111.0,2560.0,7803.0,11313.0,4997.0,2114.0,902.0,3.0,390.0,3943.0,1419.0,8139.0,367.0,118.0,196.0,4473.0,11142.0,4345.0,21915.0,26.0,4.0,2264.0,1285.0,9930.0,4.0,468.0,4137.0,460.0,5280.0,4772.0,3676.0,59.0,1815.0,20.0,1523.0,1176.0,152.0,2084.0,6903.0,4185.0,50.0,4030.0,9.0,13.0,4.0,8326.0,96.0,2907.0,52.0,1777.0,139.0,22.0,53.0,320.0,35.0,312.0,7430.0,626.0,62.0,33541.0,1426.0,665.0,154907.0,3077.0,409.0,304.0,242.0,400.0,295.0,327.0,2078.0,7554.0,0.0,6.0,134.0,438.0,19111.0,0.0,539.0,576.0,325.0,1034.0,10260.0,6947.0,102.0,917.0,44.0,8.0,221.0,52.0,887.0,35.0,3.0,573.0,3254.0,153.0,483.0,813.0,1222.0,236.0,269.0,2600.0,158.0,37.0,96.0,410.0,433.0,628.0,2062.0,118811.0,458.0,2174.0,1449.0,6384.0,74.0,281.0,3485.0,60.0,1040.0,79.0,284.0,82.0,110.0,3650.0,1260.0,0.0,764.0,232.0,490.0,391.0,29.0,1802.0,349.0,91.0,191.0,838.0,42.0,27.0,5088.0,6197.0,1301.0,23.0,null,827.0,1412.0,8.0,2533.0,3332.0,2.0,154.0,26.0,61.0,1049.0,5777.0,347.0,591.0,2404.0,686.0,79.0,3787.0,455.0,288.0,509.0,639.0,882.0,26.0,840.0,790.0,750.0,193.0,452.0,62.0,188.0,18.0,2582.0,22517.0,538.0,5132.0,5302.0,780.0,1233.0,249.0,1913.0,621.0,11302.0,12.0,42.0,798.0,1548.0,1273.0,555.0,1385.0,61.0,218.0,501.0,694.0,28.0,1.0,597.0,93.0,5497.0,11925.0,368.0,67.0,15.0,571.0,4919.0,3152.0,26256.0,23089.0,4.0,278.0,645.0,367.0,null,159.0,849.0,3908.0,6461.0,9980.0,4.0,199.0,245.0,453.0,4175.0,211.0,703.0,5385.0,4182.0,591.0,5096.0,1.0,3.0,660.0,16709.0,7.0,2.0,1567.0,484.0,7.0,72.0,287.0,3140.0,469.0,545.0,707.0,450.0,501.0,292.0,634.0,30.0,1015.0,375.0,4.0,6249.0,3225.0,3036.0,2139.0,352.0,414.0,1235.0,373.0,71.0,152.0,4439.0,7966.0,802.0,50706.0,47.0,365.0,864.0,174.0,244.0,64.0,2323.0,4.0,3045.0,190.0,3002.0,24.0,771.0,59.0,504.0,1280.0,882.0,42.0,4566.0,6.0,20.0,3.0,728.0,153.0,8.0,7187.0,11.0,17.0,11.0,56688.0,4.0,2029.0,2156.0,7171.0,19.0,281.0,1102.0,708.0,null,141.0,27.0,549.0,62.0,717.0,446.0,21.0,3.0,274.0,107.0,null,1.0,842.0,108.0,2.0,21.0,438.0,35.0,611.0,1.0,320.0,317.0,241.0,4.0,25.0,263.0,3.0,7881.0,74.0,1517.0,188.0,2342.0,7461.0,1029.0,4638.0,484.0,3.0,57.0,15679.0,10.0,118.0,30.0,950.0,32.0,805.0,210.0,364.0,672.0,2636.0,2.0,265.0,196.0,null,183.0,19.0,108.0,292.0,1455.0,315.0,47.0,1362.0,298.0],\"xaxis\":\"x\",\"yaxis\":\"y\"}],                        {\"barmode\":\"relative\",\"legend\":{\"tracegroupgap\":0},\"margin\":{\"t\":60},\"template\":{\"data\":{\"bar\":[{\"error_x\":{\"color\":\"#2a3f5f\"},\"error_y\":{\"color\":\"#2a3f5f\"},\"marker\":{\"line\":{\"color\":\"#E5ECF6\",\"width\":0.5},\"pattern\":{\"fillmode\":\"overlay\",\"size\":10,\"solidity\":0.2}},\"type\":\"bar\"}],\"barpolar\":[{\"marker\":{\"line\":{\"color\":\"#E5ECF6\",\"width\":0.5},\"pattern\":{\"fillmode\":\"overlay\",\"size\":10,\"solidity\":0.2}},\"type\":\"barpolar\"}],\"carpet\":[{\"aaxis\":{\"endlinecolor\":\"#2a3f5f\",\"gridcolor\":\"white\",\"linecolor\":\"white\",\"minorgridcolor\":\"white\",\"startlinecolor\":\"#2a3f5f\"},\"baxis\":{\"endlinecolor\":\"#2a3f5f\",\"gridcolor\":\"white\",\"linecolor\":\"white\",\"minorgridcolor\":\"white\",\"startlinecolor\":\"#2a3f5f\"},\"type\":\"carpet\"}],\"choropleth\":[{\"colorbar\":{\"outlinewidth\":0,\"ticks\":\"\"},\"type\":\"choropleth\"}],\"contour\":[{\"colorbar\":{\"outlinewidth\":0,\"ticks\":\"\"},\"colorscale\":[[0.0,\"#0d0887\"],[0.1111111111111111,\"#46039f\"],[0.2222222222222222,\"#7201a8\"],[0.3333333333333333,\"#9c179e\"],[0.4444444444444444,\"#bd3786\"],[0.5555555555555556,\"#d8576b\"],[0.6666666666666666,\"#ed7953\"],[0.7777777777777778,\"#fb9f3a\"],[0.8888888888888888,\"#fdca26\"],[1.0,\"#f0f921\"]],\"type\":\"contour\"}],\"contourcarpet\":[{\"colorbar\":{\"outlinewidth\":0,\"ticks\":\"\"},\"type\":\"contourcarpet\"}],\"heatmap\":[{\"colorbar\":{\"outlinewidth\":0,\"ticks\":\"\"},\"colorscale\":[[0.0,\"#0d0887\"],[0.1111111111111111,\"#46039f\"],[0.2222222222222222,\"#7201a8\"],[0.3333333333333333,\"#9c179e\"],[0.4444444444444444,\"#bd3786\"],[0.5555555555555556,\"#d8576b\"],[0.6666666666666666,\"#ed7953\"],[0.7777777777777778,\"#fb9f3a\"],[0.8888888888888888,\"#fdca26\"],[1.0,\"#f0f921\"]],\"type\":\"heatmap\"}],\"heatmapgl\":[{\"colorbar\":{\"outlinewidth\":0,\"ticks\":\"\"},\"colorscale\":[[0.0,\"#0d0887\"],[0.1111111111111111,\"#46039f\"],[0.2222222222222222,\"#7201a8\"],[0.3333333333333333,\"#9c179e\"],[0.4444444444444444,\"#bd3786\"],[0.5555555555555556,\"#d8576b\"],[0.6666666666666666,\"#ed7953\"],[0.7777777777777778,\"#fb9f3a\"],[0.8888888888888888,\"#fdca26\"],[1.0,\"#f0f921\"]],\"type\":\"heatmapgl\"}],\"histogram\":[{\"marker\":{\"pattern\":{\"fillmode\":\"overlay\",\"size\":10,\"solidity\":0.2}},\"type\":\"histogram\"}],\"histogram2d\":[{\"colorbar\":{\"outlinewidth\":0,\"ticks\":\"\"},\"colorscale\":[[0.0,\"#0d0887\"],[0.1111111111111111,\"#46039f\"],[0.2222222222222222,\"#7201a8\"],[0.3333333333333333,\"#9c179e\"],[0.4444444444444444,\"#bd3786\"],[0.5555555555555556,\"#d8576b\"],[0.6666666666666666,\"#ed7953\"],[0.7777777777777778,\"#fb9f3a\"],[0.8888888888888888,\"#fdca26\"],[1.0,\"#f0f921\"]],\"type\":\"histogram2d\"}],\"histogram2dcontour\":[{\"colorbar\":{\"outlinewidth\":0,\"ticks\":\"\"},\"colorscale\":[[0.0,\"#0d0887\"],[0.1111111111111111,\"#46039f\"],[0.2222222222222222,\"#7201a8\"],[0.3333333333333333,\"#9c179e\"],[0.4444444444444444,\"#bd3786\"],[0.5555555555555556,\"#d8576b\"],[0.6666666666666666,\"#ed7953\"],[0.7777777777777778,\"#fb9f3a\"],[0.8888888888888888,\"#fdca26\"],[1.0,\"#f0f921\"]],\"type\":\"histogram2dcontour\"}],\"mesh3d\":[{\"colorbar\":{\"outlinewidth\":0,\"ticks\":\"\"},\"type\":\"mesh3d\"}],\"parcoords\":[{\"line\":{\"colorbar\":{\"outlinewidth\":0,\"ticks\":\"\"}},\"type\":\"parcoords\"}],\"pie\":[{\"automargin\":true,\"type\":\"pie\"}],\"scatter\":[{\"marker\":{\"colorbar\":{\"outlinewidth\":0,\"ticks\":\"\"}},\"type\":\"scatter\"}],\"scatter3d\":[{\"line\":{\"colorbar\":{\"outlinewidth\":0,\"ticks\":\"\"}},\"marker\":{\"colorbar\":{\"outlinewidth\":0,\"ticks\":\"\"}},\"type\":\"scatter3d\"}],\"scattercarpet\":[{\"marker\":{\"colorbar\":{\"outlinewidth\":0,\"ticks\":\"\"}},\"type\":\"scattercarpet\"}],\"scattergeo\":[{\"marker\":{\"colorbar\":{\"outlinewidth\":0,\"ticks\":\"\"}},\"type\":\"scattergeo\"}],\"scattergl\":[{\"marker\":{\"colorbar\":{\"outlinewidth\":0,\"ticks\":\"\"}},\"type\":\"scattergl\"}],\"scattermapbox\":[{\"marker\":{\"colorbar\":{\"outlinewidth\":0,\"ticks\":\"\"}},\"type\":\"scattermapbox\"}],\"scatterpolar\":[{\"marker\":{\"colorbar\":{\"outlinewidth\":0,\"ticks\":\"\"}},\"type\":\"scatterpolar\"}],\"scatterpolargl\":[{\"marker\":{\"colorbar\":{\"outlinewidth\":0,\"ticks\":\"\"}},\"type\":\"scatterpolargl\"}],\"scatterternary\":[{\"marker\":{\"colorbar\":{\"outlinewidth\":0,\"ticks\":\"\"}},\"type\":\"scatterternary\"}],\"surface\":[{\"colorbar\":{\"outlinewidth\":0,\"ticks\":\"\"},\"colorscale\":[[0.0,\"#0d0887\"],[0.1111111111111111,\"#46039f\"],[0.2222222222222222,\"#7201a8\"],[0.3333333333333333,\"#9c179e\"],[0.4444444444444444,\"#bd3786\"],[0.5555555555555556,\"#d8576b\"],[0.6666666666666666,\"#ed7953\"],[0.7777777777777778,\"#fb9f3a\"],[0.8888888888888888,\"#fdca26\"],[1.0,\"#f0f921\"]],\"type\":\"surface\"}],\"table\":[{\"cells\":{\"fill\":{\"color\":\"#EBF0F8\"},\"line\":{\"color\":\"white\"}},\"header\":{\"fill\":{\"color\":\"#C8D4E3\"},\"line\":{\"color\":\"white\"}},\"type\":\"table\"}]},\"layout\":{\"annotationdefaults\":{\"arrowcolor\":\"#2a3f5f\",\"arrowhead\":0,\"arrowwidth\":1},\"autotypenumbers\":\"strict\",\"coloraxis\":{\"colorbar\":{\"outlinewidth\":0,\"ticks\":\"\"}},\"colorscale\":{\"diverging\":[[0,\"#8e0152\"],[0.1,\"#c51b7d\"],[0.2,\"#de77ae\"],[0.3,\"#f1b6da\"],[0.4,\"#fde0ef\"],[0.5,\"#f7f7f7\"],[0.6,\"#e6f5d0\"],[0.7,\"#b8e186\"],[0.8,\"#7fbc41\"],[0.9,\"#4d9221\"],[1,\"#276419\"]],\"sequential\":[[0.0,\"#0d0887\"],[0.1111111111111111,\"#46039f\"],[0.2222222222222222,\"#7201a8\"],[0.3333333333333333,\"#9c179e\"],[0.4444444444444444,\"#bd3786\"],[0.5555555555555556,\"#d8576b\"],[0.6666666666666666,\"#ed7953\"],[0.7777777777777778,\"#fb9f3a\"],[0.8888888888888888,\"#fdca26\"],[1.0,\"#f0f921\"]],\"sequentialminus\":[[0.0,\"#0d0887\"],[0.1111111111111111,\"#46039f\"],[0.2222222222222222,\"#7201a8\"],[0.3333333333333333,\"#9c179e\"],[0.4444444444444444,\"#bd3786\"],[0.5555555555555556,\"#d8576b\"],[0.6666666666666666,\"#ed7953\"],[0.7777777777777778,\"#fb9f3a\"],[0.8888888888888888,\"#fdca26\"],[1.0,\"#f0f921\"]]},\"colorway\":[\"#636efa\",\"#EF553B\",\"#00cc96\",\"#ab63fa\",\"#FFA15A\",\"#19d3f3\",\"#FF6692\",\"#B6E880\",\"#FF97FF\",\"#FECB52\"],\"font\":{\"color\":\"#2a3f5f\"},\"geo\":{\"bgcolor\":\"white\",\"lakecolor\":\"white\",\"landcolor\":\"#E5ECF6\",\"showlakes\":true,\"showland\":true,\"subunitcolor\":\"white\"},\"hoverlabel\":{\"align\":\"left\"},\"hovermode\":\"closest\",\"mapbox\":{\"style\":\"light\"},\"paper_bgcolor\":\"white\",\"plot_bgcolor\":\"#E5ECF6\",\"polar\":{\"angularaxis\":{\"gridcolor\":\"white\",\"linecolor\":\"white\",\"ticks\":\"\"},\"bgcolor\":\"#E5ECF6\",\"radialaxis\":{\"gridcolor\":\"white\",\"linecolor\":\"white\",\"ticks\":\"\"}},\"scene\":{\"xaxis\":{\"backgroundcolor\":\"#E5ECF6\",\"gridcolor\":\"white\",\"gridwidth\":2,\"linecolor\":\"white\",\"showbackground\":true,\"ticks\":\"\",\"zerolinecolor\":\"white\"},\"yaxis\":{\"backgroundcolor\":\"#E5ECF6\",\"gridcolor\":\"white\",\"gridwidth\":2,\"linecolor\":\"white\",\"showbackground\":true,\"ticks\":\"\",\"zerolinecolor\":\"white\"},\"zaxis\":{\"backgroundcolor\":\"#E5ECF6\",\"gridcolor\":\"white\",\"gridwidth\":2,\"linecolor\":\"white\",\"showbackground\":true,\"ticks\":\"\",\"zerolinecolor\":\"white\"}},\"shapedefaults\":{\"line\":{\"color\":\"#2a3f5f\"}},\"ternary\":{\"aaxis\":{\"gridcolor\":\"white\",\"linecolor\":\"white\",\"ticks\":\"\"},\"baxis\":{\"gridcolor\":\"white\",\"linecolor\":\"white\",\"ticks\":\"\"},\"bgcolor\":\"#E5ECF6\",\"caxis\":{\"gridcolor\":\"white\",\"linecolor\":\"white\",\"ticks\":\"\"}},\"title\":{\"x\":0.05},\"xaxis\":{\"automargin\":true,\"gridcolor\":\"white\",\"linecolor\":\"white\",\"ticks\":\"\",\"title\":{\"standoff\":15},\"zerolinecolor\":\"white\",\"zerolinewidth\":2},\"yaxis\":{\"automargin\":true,\"gridcolor\":\"white\",\"linecolor\":\"white\",\"ticks\":\"\",\"title\":{\"standoff\":15},\"zerolinecolor\":\"white\",\"zerolinewidth\":2}}},\"xaxis\":{\"anchor\":\"y\",\"domain\":[0.0,1.0],\"title\":{\"text\":\"n_likes\"}},\"yaxis\":{\"anchor\":\"x\",\"domain\":[0.0,1.0],\"title\":{\"text\":\"count\"}}},                        {\"responsive\": true}                    ).then(function(){\n",
       "                            \n",
       "var gd = document.getElementById('272f4bea-d460-4681-b897-063ddcfa8ab8');\n",
       "var x = new MutationObserver(function (mutations, observer) {{\n",
       "        var display = window.getComputedStyle(gd).display;\n",
       "        if (!display || display === 'none') {{\n",
       "            console.log([gd, 'removed!']);\n",
       "            Plotly.purge(gd);\n",
       "            observer.disconnect();\n",
       "        }}\n",
       "}});\n",
       "\n",
       "// Listen for the removal of the full notebook cells\n",
       "var notebookContainer = gd.closest('#notebook-container');\n",
       "if (notebookContainer) {{\n",
       "    x.observe(notebookContainer, {childList: true});\n",
       "}}\n",
       "\n",
       "// Listen for the clearing of the current output cell\n",
       "var outputEl = gd.closest('.output');\n",
       "if (outputEl) {{\n",
       "    x.observe(outputEl, {childList: true});\n",
       "}}\n",
       "\n",
       "                        })                };                });            </script>        </div>"
      ]
     },
     "metadata": {},
     "output_type": "display_data"
    }
   ],
   "source": [
    "plot(df_videos_4_months_urls, \"n_likes\")"
   ]
  },
  {
   "cell_type": "code",
   "execution_count": 107,
   "id": "85aa26bb",
   "metadata": {},
   "outputs": [],
   "source": [
    "df_videos_4_months_urls_top_likes = df_videos_4_months_urls[df_videos_4_months_urls.n_likes > 4000]"
   ]
  },
  {
   "cell_type": "code",
   "execution_count": 108,
   "id": "fba395fa",
   "metadata": {},
   "outputs": [],
   "source": [
    "df_videos_4_months_urls_top_likes.sort_values(\"n_likes\", ascending=False, inplace=True)"
   ]
  },
  {
   "cell_type": "code",
   "execution_count": 109,
   "id": "1f9ece12",
   "metadata": {},
   "outputs": [
    {
     "data": {
      "text/html": [
       "<div>\n",
       "<style scoped>\n",
       "    .dataframe tbody tr th:only-of-type {\n",
       "        vertical-align: middle;\n",
       "    }\n",
       "\n",
       "    .dataframe tbody tr th {\n",
       "        vertical-align: top;\n",
       "    }\n",
       "\n",
       "    .dataframe thead th {\n",
       "        text-align: right;\n",
       "    }\n",
       "</style>\n",
       "<table border=\"1\" class=\"dataframe\">\n",
       "  <thead>\n",
       "    <tr style=\"text-align: right;\">\n",
       "      <th></th>\n",
       "      <th>urls</th>\n",
       "      <th>n_likes</th>\n",
       "    </tr>\n",
       "  </thead>\n",
       "  <tbody>\n",
       "    <tr>\n",
       "      <th>222</th>\n",
       "      <td>['https://www.youtube.com/channel/UCbiT0LUIbQj...</td>\n",
       "      <td>191932.0</td>\n",
       "    </tr>\n",
       "    <tr>\n",
       "      <th>328</th>\n",
       "      <td>['https://twitter.com/AmberryYt', 'https://www...</td>\n",
       "      <td>154907.0</td>\n",
       "    </tr>\n",
       "    <tr>\n",
       "      <th>390</th>\n",
       "      <td>['http://youtube.com/watch?v=LrVcWYNXZLY&amp;list=...</td>\n",
       "      <td>118811.0</td>\n",
       "    </tr>\n",
       "    <tr>\n",
       "      <th>645</th>\n",
       "      <td>['http://wwe.yt/wwenetwork', 'http://wwe.yt/',...</td>\n",
       "      <td>56688.0</td>\n",
       "    </tr>\n",
       "    <tr>\n",
       "      <th>602</th>\n",
       "      <td>['https://instagram.com/thebodylanguageguy', '...</td>\n",
       "      <td>50706.0</td>\n",
       "    </tr>\n",
       "    <tr>\n",
       "      <th>...</th>\n",
       "      <td>...</td>\n",
       "      <td>...</td>\n",
       "    </tr>\n",
       "    <tr>\n",
       "      <th>201</th>\n",
       "      <td>['https://variety.com/2016/biz/news/johnny-dep...</td>\n",
       "      <td>4163.0</td>\n",
       "    </tr>\n",
       "    <tr>\n",
       "      <th>288</th>\n",
       "      <td>['https://teespring.com/stores/yellowflash-mer...</td>\n",
       "      <td>4137.0</td>\n",
       "    </tr>\n",
       "    <tr>\n",
       "      <th>141</th>\n",
       "      <td>['https://teespring.com/stores/yellowflash-mer...</td>\n",
       "      <td>4125.0</td>\n",
       "    </tr>\n",
       "    <tr>\n",
       "      <th>304</th>\n",
       "      <td>['https://www.paypal.com/cgi-bin/webscr?cmd=_s...</td>\n",
       "      <td>4030.0</td>\n",
       "    </tr>\n",
       "    <tr>\n",
       "      <th>116</th>\n",
       "      <td>['https://www.instagram.com/8pm.tube/']</td>\n",
       "      <td>4028.0</td>\n",
       "    </tr>\n",
       "  </tbody>\n",
       "</table>\n",
       "<p>113 rows × 2 columns</p>\n",
       "</div>"
      ],
      "text/plain": [
       "                                                  urls   n_likes\n",
       "222  ['https://www.youtube.com/channel/UCbiT0LUIbQj...  191932.0\n",
       "328  ['https://twitter.com/AmberryYt', 'https://www...  154907.0\n",
       "390  ['http://youtube.com/watch?v=LrVcWYNXZLY&list=...  118811.0\n",
       "645  ['http://wwe.yt/wwenetwork', 'http://wwe.yt/',...   56688.0\n",
       "602  ['https://instagram.com/thebodylanguageguy', '...   50706.0\n",
       "..                                                 ...       ...\n",
       "201  ['https://variety.com/2016/biz/news/johnny-dep...    4163.0\n",
       "288  ['https://teespring.com/stores/yellowflash-mer...    4137.0\n",
       "141  ['https://teespring.com/stores/yellowflash-mer...    4125.0\n",
       "304  ['https://www.paypal.com/cgi-bin/webscr?cmd=_s...    4030.0\n",
       "116            ['https://www.instagram.com/8pm.tube/']    4028.0\n",
       "\n",
       "[113 rows x 2 columns]"
      ]
     },
     "execution_count": 109,
     "metadata": {},
     "output_type": "execute_result"
    }
   ],
   "source": [
    "df_videos_4_months_urls_top_likes[[\"urls\", \"n_likes\"]][~df_videos_4_months_urls_top_likes[[\"urls\", \"n_likes\"]].duplicated()]"
   ]
  },
  {
   "cell_type": "code",
   "execution_count": 110,
   "id": "b402fee7",
   "metadata": {},
   "outputs": [],
   "source": [
    "df_videos_4_months_urls_top_likes = df_videos_4_months_urls_top_likes[\n",
    "    [\"urls\", \"n_likes\"]\n",
    "][~df_videos_4_months_urls_top_likes[[\"urls\", \"n_likes\"]].duplicated()]"
   ]
  },
  {
   "cell_type": "code",
   "execution_count": 111,
   "id": "e945b1eb",
   "metadata": {},
   "outputs": [],
   "source": [
    "fix(df_videos_4_months_urls_top_likes)"
   ]
  },
  {
   "cell_type": "code",
   "execution_count": 112,
   "id": "fb1c21d0",
   "metadata": {},
   "outputs": [],
   "source": [
    "df_videos_4_months_urls_top_likes_one = one_url_df(df_videos_4_months_urls_top_likes)\n",
    "df_videos_4_months_urls_top_likes_more = more_url_df(df_videos_4_months_urls_top_likes, \"n_likes\")"
   ]
  },
  {
   "cell_type": "code",
   "execution_count": 113,
   "id": "8aef64b1",
   "metadata": {},
   "outputs": [
    {
     "data": {
      "text/html": [
       "<div>\n",
       "<style scoped>\n",
       "    .dataframe tbody tr th:only-of-type {\n",
       "        vertical-align: middle;\n",
       "    }\n",
       "\n",
       "    .dataframe tbody tr th {\n",
       "        vertical-align: top;\n",
       "    }\n",
       "\n",
       "    .dataframe thead th {\n",
       "        text-align: right;\n",
       "    }\n",
       "</style>\n",
       "<table border=\"1\" class=\"dataframe\">\n",
       "  <thead>\n",
       "    <tr style=\"text-align: right;\">\n",
       "      <th></th>\n",
       "      <th>urls</th>\n",
       "      <th>n_likes</th>\n",
       "      <th>n_urls</th>\n",
       "    </tr>\n",
       "  </thead>\n",
       "  <tbody>\n",
       "    <tr>\n",
       "      <th>64</th>\n",
       "      <td>http://youtube.com/channel/UCylyoo597NuFFyJS_H...</td>\n",
       "      <td>6180.0</td>\n",
       "      <td>1</td>\n",
       "    </tr>\n",
       "    <tr>\n",
       "      <th>235</th>\n",
       "      <td>http://youtube.com/channel/UCylyoo597NuFFyJS_H...</td>\n",
       "      <td>5464.0</td>\n",
       "      <td>1</td>\n",
       "    </tr>\n",
       "    <tr>\n",
       "      <th>116</th>\n",
       "      <td>https://www.instagram.com/8pm.tube/</td>\n",
       "      <td>4028.0</td>\n",
       "      <td>1</td>\n",
       "    </tr>\n",
       "  </tbody>\n",
       "</table>\n",
       "</div>"
      ],
      "text/plain": [
       "                                                  urls  n_likes  n_urls\n",
       "64   http://youtube.com/channel/UCylyoo597NuFFyJS_H...   6180.0       1\n",
       "235  http://youtube.com/channel/UCylyoo597NuFFyJS_H...   5464.0       1\n",
       "116                https://www.instagram.com/8pm.tube/   4028.0       1"
      ]
     },
     "execution_count": 113,
     "metadata": {},
     "output_type": "execute_result"
    }
   ],
   "source": [
    "df_videos_4_months_urls_top_likes_one"
   ]
  },
  {
   "cell_type": "code",
   "execution_count": 115,
   "id": "fc31a2dd",
   "metadata": {},
   "outputs": [],
   "source": [
    "df_videos_4_months_urls_top_likes_one[\"urls\"] = df_videos_4_months_urls_top_likes_one[\n",
    "    \"urls\"\n",
    "].apply(lambda x: unshorten(x))"
   ]
  },
  {
   "cell_type": "code",
   "execution_count": 114,
   "id": "36c39e15",
   "metadata": {},
   "outputs": [
    {
     "data": {
      "text/html": [
       "<div>\n",
       "<style scoped>\n",
       "    .dataframe tbody tr th:only-of-type {\n",
       "        vertical-align: middle;\n",
       "    }\n",
       "\n",
       "    .dataframe tbody tr th {\n",
       "        vertical-align: top;\n",
       "    }\n",
       "\n",
       "    .dataframe thead th {\n",
       "        text-align: right;\n",
       "    }\n",
       "</style>\n",
       "<table border=\"1\" class=\"dataframe\">\n",
       "  <thead>\n",
       "    <tr style=\"text-align: right;\">\n",
       "      <th></th>\n",
       "      <th>urls</th>\n",
       "      <th>n_likes</th>\n",
       "      <th>n_urls</th>\n",
       "    </tr>\n",
       "  </thead>\n",
       "  <tbody>\n",
       "    <tr>\n",
       "      <th>0</th>\n",
       "      <td>https://www.youtube.com/channel/UCbiT0LUIbQj6C...</td>\n",
       "      <td>191932.0</td>\n",
       "      <td>2</td>\n",
       "    </tr>\n",
       "    <tr>\n",
       "      <th>1</th>\n",
       "      <td>https://support.google.com/youtube/answer/1620...</td>\n",
       "      <td>191932.0</td>\n",
       "      <td>2</td>\n",
       "    </tr>\n",
       "    <tr>\n",
       "      <th>2</th>\n",
       "      <td>https://twitter.com/AmberryYt</td>\n",
       "      <td>154907.0</td>\n",
       "      <td>7</td>\n",
       "    </tr>\n",
       "    <tr>\n",
       "      <th>3</th>\n",
       "      <td>https://www.instagram.com/amberryphoeberry</td>\n",
       "      <td>154907.0</td>\n",
       "      <td>7</td>\n",
       "    </tr>\n",
       "    <tr>\n",
       "      <th>4</th>\n",
       "      <td>https://www.roblox.com/users/275424983/profile</td>\n",
       "      <td>154907.0</td>\n",
       "      <td>7</td>\n",
       "    </tr>\n",
       "    <tr>\n",
       "      <th>...</th>\n",
       "      <td>...</td>\n",
       "      <td>...</td>\n",
       "      <td>...</td>\n",
       "    </tr>\n",
       "    <tr>\n",
       "      <th>680</th>\n",
       "      <td>https://odysee.com/@YellowFlash:8?r=EBXc2Ze5Cb...</td>\n",
       "      <td>4125.0</td>\n",
       "      <td>7</td>\n",
       "    </tr>\n",
       "    <tr>\n",
       "      <th>681</th>\n",
       "      <td>https://www.bitchute.com/channel/bWECeGsvy8ab/</td>\n",
       "      <td>4125.0</td>\n",
       "      <td>7</td>\n",
       "    </tr>\n",
       "    <tr>\n",
       "      <th>682</th>\n",
       "      <td>https://parler.com/profile/YellowFlash</td>\n",
       "      <td>4125.0</td>\n",
       "      <td>7</td>\n",
       "    </tr>\n",
       "    <tr>\n",
       "      <th>683</th>\n",
       "      <td>https://www.paypal.com/cgi-bin/webscr?cmd=_s-x...</td>\n",
       "      <td>4030.0</td>\n",
       "      <td>2</td>\n",
       "    </tr>\n",
       "    <tr>\n",
       "      <th>684</th>\n",
       "      <td>https://www.patreon.com/thatumbrellaguy</td>\n",
       "      <td>4030.0</td>\n",
       "      <td>2</td>\n",
       "    </tr>\n",
       "  </tbody>\n",
       "</table>\n",
       "<p>674 rows × 3 columns</p>\n",
       "</div>"
      ],
      "text/plain": [
       "                                                  urls   n_likes  n_urls\n",
       "0    https://www.youtube.com/channel/UCbiT0LUIbQj6C...  191932.0       2\n",
       "1    https://support.google.com/youtube/answer/1620...  191932.0       2\n",
       "2                        https://twitter.com/AmberryYt  154907.0       7\n",
       "3           https://www.instagram.com/amberryphoeberry  154907.0       7\n",
       "4       https://www.roblox.com/users/275424983/profile  154907.0       7\n",
       "..                                                 ...       ...     ...\n",
       "680  https://odysee.com/@YellowFlash:8?r=EBXc2Ze5Cb...    4125.0       7\n",
       "681     https://www.bitchute.com/channel/bWECeGsvy8ab/    4125.0       7\n",
       "682             https://parler.com/profile/YellowFlash    4125.0       7\n",
       "683  https://www.paypal.com/cgi-bin/webscr?cmd=_s-x...    4030.0       2\n",
       "684            https://www.patreon.com/thatumbrellaguy    4030.0       2\n",
       "\n",
       "[674 rows x 3 columns]"
      ]
     },
     "execution_count": 114,
     "metadata": {},
     "output_type": "execute_result"
    }
   ],
   "source": [
    "df_videos_4_months_urls_top_likes_more"
   ]
  },
  {
   "cell_type": "code",
   "execution_count": 116,
   "id": "3c02e058",
   "metadata": {},
   "outputs": [],
   "source": [
    "df_videos_4_months_urls_top_likes_more[\"urls\"] = df_videos_4_months_urls_top_likes_more[\n",
    "    \"urls\"\n",
    "].apply(lambda x: unshorten(x))"
   ]
  },
  {
   "cell_type": "code",
   "execution_count": 117,
   "id": "1eba1ce1",
   "metadata": {},
   "outputs": [],
   "source": [
    "df_videos_4_months_urls_top_likes_more.to_csv(\n",
    "yt_path + 'df_videos_4_months_urls_top_likes_more.csv', index=False)\n",
    "\n",
    "df_videos_4_months_urls_top_likes_one.to_csv(\n",
    "yt_path + 'df_videos_4_months_urls_top_likes_one.csv', index=False)"
   ]
  },
  {
   "cell_type": "code",
   "execution_count": 118,
   "id": "acebfdbb",
   "metadata": {},
   "outputs": [
    {
     "data": {
      "text/html": [
       "<div>\n",
       "<style scoped>\n",
       "    .dataframe tbody tr th:only-of-type {\n",
       "        vertical-align: middle;\n",
       "    }\n",
       "\n",
       "    .dataframe tbody tr th {\n",
       "        vertical-align: top;\n",
       "    }\n",
       "\n",
       "    .dataframe thead th {\n",
       "        text-align: right;\n",
       "    }\n",
       "</style>\n",
       "<table border=\"1\" class=\"dataframe\">\n",
       "  <thead>\n",
       "    <tr style=\"text-align: right;\">\n",
       "      <th></th>\n",
       "      <th>urls</th>\n",
       "      <th>n_likes</th>\n",
       "      <th>n_urls</th>\n",
       "    </tr>\n",
       "  </thead>\n",
       "  <tbody>\n",
       "    <tr>\n",
       "      <th>0</th>\n",
       "      <td>https://www.youtube.com/channel/UCbiT0LUIbQj6C...</td>\n",
       "      <td>191932.0</td>\n",
       "      <td>2</td>\n",
       "    </tr>\n",
       "    <tr>\n",
       "      <th>1</th>\n",
       "      <td>https://support.google.com/youtube/answer/1620...</td>\n",
       "      <td>191932.0</td>\n",
       "      <td>2</td>\n",
       "    </tr>\n",
       "    <tr>\n",
       "      <th>7</th>\n",
       "      <td>https://www.youtube.com/watch?v=-AP5Y791RN4&amp;li...</td>\n",
       "      <td>154907.0</td>\n",
       "      <td>7</td>\n",
       "    </tr>\n",
       "    <tr>\n",
       "      <th>2</th>\n",
       "      <td>https://twitter.com/AmberryYt</td>\n",
       "      <td>154907.0</td>\n",
       "      <td>7</td>\n",
       "    </tr>\n",
       "    <tr>\n",
       "      <th>3</th>\n",
       "      <td>https://www.instagram.com/amberryphoeberry</td>\n",
       "      <td>154907.0</td>\n",
       "      <td>7</td>\n",
       "    </tr>\n",
       "    <tr>\n",
       "      <th>...</th>\n",
       "      <td>...</td>\n",
       "      <td>...</td>\n",
       "      <td>...</td>\n",
       "    </tr>\n",
       "    <tr>\n",
       "      <th>681</th>\n",
       "      <td>https://www.bitchute.com/channel/bWECeGsvy8ab/</td>\n",
       "      <td>4125.0</td>\n",
       "      <td>7</td>\n",
       "    </tr>\n",
       "    <tr>\n",
       "      <th>682</th>\n",
       "      <td>https://parler.com/profile/YellowFlash</td>\n",
       "      <td>4125.0</td>\n",
       "      <td>7</td>\n",
       "    </tr>\n",
       "    <tr>\n",
       "      <th>683</th>\n",
       "      <td>https://www.paypal.com/cgi-bin/webscr?cmd=_s-x...</td>\n",
       "      <td>4030.0</td>\n",
       "      <td>2</td>\n",
       "    </tr>\n",
       "    <tr>\n",
       "      <th>684</th>\n",
       "      <td>https://www.patreon.com/thatumbrellaguy</td>\n",
       "      <td>4030.0</td>\n",
       "      <td>2</td>\n",
       "    </tr>\n",
       "    <tr>\n",
       "      <th>116</th>\n",
       "      <td>https://www.instagram.com/8pm.tube/</td>\n",
       "      <td>4028.0</td>\n",
       "      <td>1</td>\n",
       "    </tr>\n",
       "  </tbody>\n",
       "</table>\n",
       "<p>677 rows × 3 columns</p>\n",
       "</div>"
      ],
      "text/plain": [
       "                                                  urls   n_likes  n_urls\n",
       "0    https://www.youtube.com/channel/UCbiT0LUIbQj6C...  191932.0       2\n",
       "1    https://support.google.com/youtube/answer/1620...  191932.0       2\n",
       "7    https://www.youtube.com/watch?v=-AP5Y791RN4&li...  154907.0       7\n",
       "2                        https://twitter.com/AmberryYt  154907.0       7\n",
       "3           https://www.instagram.com/amberryphoeberry  154907.0       7\n",
       "..                                                 ...       ...     ...\n",
       "681     https://www.bitchute.com/channel/bWECeGsvy8ab/    4125.0       7\n",
       "682             https://parler.com/profile/YellowFlash    4125.0       7\n",
       "683  https://www.paypal.com/cgi-bin/webscr?cmd=_s-x...    4030.0       2\n",
       "684            https://www.patreon.com/thatumbrellaguy    4030.0       2\n",
       "116                https://www.instagram.com/8pm.tube/    4028.0       1\n",
       "\n",
       "[677 rows x 3 columns]"
      ]
     },
     "execution_count": 118,
     "metadata": {},
     "output_type": "execute_result"
    }
   ],
   "source": [
    "pd.concat([df_videos_4_months_urls_top_likes_one, df_videos_4_months_urls_top_likes_more]).sort_values(\"n_likes\", ascending=False)"
   ]
  },
  {
   "cell_type": "code",
   "execution_count": 121,
   "id": "2ed1ac37",
   "metadata": {},
   "outputs": [],
   "source": [
    "pd.concat(\n",
    "    [df_videos_4_months_urls_top_likes_one, df_videos_4_months_urls_top_likes_more]\n",
    ").sort_values(\"n_likes\", ascending=False).to_csv(\n",
    "yt_path + 'df_videos_4_months_urls_top_likes.csv', index=False)"
   ]
  },
  {
   "cell_type": "markdown",
   "id": "5c23ee48",
   "metadata": {},
   "source": [
    "### comments"
   ]
  },
  {
   "cell_type": "code",
   "execution_count": 122,
   "id": "3cd31249",
   "metadata": {},
   "outputs": [
    {
     "data": {
      "text/plain": [
       "count      581.000000\n",
       "mean       499.943201\n",
       "std       1283.597322\n",
       "min          1.000000\n",
       "25%         28.000000\n",
       "50%        163.000000\n",
       "75%        515.000000\n",
       "max      18268.000000\n",
       "Name: n_comments, dtype: float64"
      ]
     },
     "execution_count": 122,
     "metadata": {},
     "output_type": "execute_result"
    }
   ],
   "source": [
    "df_videos_4_months_urls.n_comments.describe()"
   ]
  },
  {
   "cell_type": "code",
   "execution_count": 123,
   "id": "daa93ea8",
   "metadata": {},
   "outputs": [
    {
     "data": {
      "text/plain": [
       "18268.0"
      ]
     },
     "execution_count": 123,
     "metadata": {},
     "output_type": "execute_result"
    }
   ],
   "source": [
    "df_videos_4_months_urls.n_comments.max()"
   ]
  },
  {
   "cell_type": "code",
   "execution_count": 124,
   "id": "94b7a27f",
   "metadata": {},
   "outputs": [
    {
     "data": {
      "application/vnd.plotly.v1+json": {
       "config": {
        "plotlyServerURL": "https://plot.ly"
       },
       "data": [
        {
         "alignmentgroup": "True",
         "bingroup": "x",
         "hovertemplate": "n_comments=%{x}<br>count=%{y}<extra></extra>",
         "legendgroup": "",
         "marker": {
          "color": "#636efa",
          "pattern": {
           "shape": ""
          }
         },
         "name": "",
         "offsetgroup": "",
         "orientation": "v",
         "showlegend": false,
         "type": "histogram",
         "x": [
          942,
          92,
          80,
          402,
          1157,
          701,
          624,
          148,
          35,
          1332,
          152,
          127,
          4046,
          1064,
          13,
          1888,
          1656,
          3072,
          3865,
          827,
          156,
          33,
          604,
          256,
          1,
          291,
          1881,
          64,
          142,
          346,
          9,
          19,
          39,
          43,
          427,
          6,
          22,
          1612,
          1039,
          11,
          4570,
          225,
          790,
          1062,
          2,
          2,
          624,
          196,
          1861,
          373,
          332,
          5,
          2,
          647,
          99,
          58,
          11,
          2576,
          1804,
          1362,
          372,
          2,
          164,
          378,
          127,
          1364,
          342,
          1012,
          2230,
          486,
          200,
          12,
          1951,
          962,
          535,
          13,
          823,
          5,
          315,
          277,
          20,
          5,
          34,
          9,
          80,
          374,
          18,
          408,
          102,
          820,
          19,
          375,
          973,
          1278,
          538,
          2298,
          7,
          351,
          956,
          1,
          360,
          5,
          271,
          163,
          670,
          162,
          1433,
          1905,
          68,
          706,
          404,
          143,
          251,
          47,
          831,
          1157,
          15,
          96,
          160,
          28,
          42,
          4,
          896,
          1481,
          12,
          6,
          1043,
          1942,
          194,
          805,
          816,
          9,
          153,
          3910,
          283,
          17,
          109,
          1378,
          2,
          921,
          282,
          127,
          325,
          707,
          89,
          19,
          177,
          284,
          138,
          670,
          285,
          2,
          582,
          973,
          758,
          25,
          1660,
          4801,
          318,
          380,
          6,
          240,
          62,
          515,
          490,
          920,
          491,
          2048,
          63,
          1467,
          298,
          20,
          1,
          75,
          16,
          460,
          23,
          83,
          36,
          149,
          1,
          103,
          3,
          326,
          18268,
          2651,
          196,
          852,
          551,
          479,
          6,
          712,
          5,
          63,
          2748,
          1018,
          109,
          2,
          605,
          51,
          6,
          683,
          39,
          314,
          3,
          1357,
          197,
          530,
          102,
          1444,
          714,
          987,
          52,
          327,
          1097,
          2662,
          705,
          501,
          203,
          5,
          113,
          540,
          535,
          1029,
          125,
          53,
          62,
          804,
          2660,
          428,
          1497,
          7,
          5,
          430,
          310,
          1469,
          9,
          159,
          531,
          90,
          455,
          555,
          301,
          5,
          530,
          17,
          497,
          218,
          59,
          482,
          1232,
          852,
          7,
          590,
          2,
          29,
          1,
          1322,
          31,
          644,
          18,
          309,
          15,
          5,
          64,
          117,
          19,
          126,
          409,
          354,
          12,
          5551,
          274,
          234,
          12352,
          516,
          62,
          107,
          79,
          259,
          49,
          117,
          266,
          1766,
          1,
          11,
          25,
          186,
          1443,
          3,
          222,
          338,
          71,
          296,
          959,
          1036,
          14,
          288,
          2,
          7,
          109,
          18,
          74,
          9,
          4,
          276,
          334,
          32,
          173,
          191,
          224,
          41,
          167,
          849,
          489,
          2,
          39,
          18,
          38,
          366,
          289,
          14613,
          223,
          286,
          182,
          746,
          16,
          138,
          548,
          30,
          1241,
          57,
          9,
          25,
          38,
          592,
          212,
          1,
          212,
          162,
          109,
          102,
          17,
          242,
          97,
          38,
          39,
          370,
          22,
          13,
          908,
          2510,
          380,
          9,
          34,
          382,
          340,
          5,
          47,
          1397,
          4,
          116,
          9,
          41,
          250,
          715,
          68,
          295,
          361,
          223,
          33,
          748,
          83,
          87,
          284,
          236,
          229,
          5,
          380,
          162,
          328,
          77,
          128,
          5,
          29,
          9,
          303,
          1560,
          86,
          1021,
          230,
          201,
          187,
          122,
          234,
          223,
          1089,
          1,
          15,
          276,
          627,
          254,
          137,
          257,
          15,
          114,
          53,
          53,
          22,
          4,
          183,
          107,
          822,
          1240,
          203,
          11,
          9,
          94,
          692,
          608,
          2945,
          3527,
          4,
          231,
          163,
          63,
          2,
          165,
          191,
          470,
          369,
          1354,
          2,
          59,
          64,
          140,
          884,
          145,
          247,
          799,
          482,
          121,
          801,
          1,
          1,
          96,
          1287,
          6,
          12,
          302,
          247,
          4,
          39,
          56,
          460,
          191,
          293,
          115,
          86,
          171,
          108,
          244,
          12,
          272,
          143,
          3,
          1363,
          382,
          334,
          523,
          47,
          177,
          236,
          209,
          13,
          76,
          507,
          578,
          173,
          6033,
          14,
          43,
          147,
          98,
          24,
          13,
          617,
          77,
          1168,
          146,
          866,
          20,
          101,
          3,
          145,
          262,
          150,
          11,
          616,
          14,
          6,
          2,
          152,
          29,
          3,
          949,
          3,
          13,
          3,
          2190,
          2,
          270,
          630,
          676,
          7,
          160,
          279,
          362,
          7,
          48,
          67,
          124,
          11,
          203,
          52,
          5,
          2,
          76,
          23,
          5,
          4,
          128,
          27,
          1,
          29,
          124,
          14,
          220,
          1,
          33,
          100,
          68,
          2,
          5,
          138,
          5,
          1042,
          12,
          177,
          102,
          420,
          876,
          277,
          555,
          138,
          1,
          26,
          833,
          20,
          15,
          28,
          457,
          3,
          323,
          154,
          93,
          218,
          697,
          6,
          159,
          100,
          12,
          127,
          4,
          22,
          167,
          374,
          150,
          19,
          373,
          206
         ],
         "xaxis": "x",
         "yaxis": "y"
        }
       ],
       "layout": {
        "barmode": "relative",
        "legend": {
         "tracegroupgap": 0
        },
        "margin": {
         "t": 60
        },
        "template": {
         "data": {
          "bar": [
           {
            "error_x": {
             "color": "#2a3f5f"
            },
            "error_y": {
             "color": "#2a3f5f"
            },
            "marker": {
             "line": {
              "color": "#E5ECF6",
              "width": 0.5
             },
             "pattern": {
              "fillmode": "overlay",
              "size": 10,
              "solidity": 0.2
             }
            },
            "type": "bar"
           }
          ],
          "barpolar": [
           {
            "marker": {
             "line": {
              "color": "#E5ECF6",
              "width": 0.5
             },
             "pattern": {
              "fillmode": "overlay",
              "size": 10,
              "solidity": 0.2
             }
            },
            "type": "barpolar"
           }
          ],
          "carpet": [
           {
            "aaxis": {
             "endlinecolor": "#2a3f5f",
             "gridcolor": "white",
             "linecolor": "white",
             "minorgridcolor": "white",
             "startlinecolor": "#2a3f5f"
            },
            "baxis": {
             "endlinecolor": "#2a3f5f",
             "gridcolor": "white",
             "linecolor": "white",
             "minorgridcolor": "white",
             "startlinecolor": "#2a3f5f"
            },
            "type": "carpet"
           }
          ],
          "choropleth": [
           {
            "colorbar": {
             "outlinewidth": 0,
             "ticks": ""
            },
            "type": "choropleth"
           }
          ],
          "contour": [
           {
            "colorbar": {
             "outlinewidth": 0,
             "ticks": ""
            },
            "colorscale": [
             [
              0,
              "#0d0887"
             ],
             [
              0.1111111111111111,
              "#46039f"
             ],
             [
              0.2222222222222222,
              "#7201a8"
             ],
             [
              0.3333333333333333,
              "#9c179e"
             ],
             [
              0.4444444444444444,
              "#bd3786"
             ],
             [
              0.5555555555555556,
              "#d8576b"
             ],
             [
              0.6666666666666666,
              "#ed7953"
             ],
             [
              0.7777777777777778,
              "#fb9f3a"
             ],
             [
              0.8888888888888888,
              "#fdca26"
             ],
             [
              1,
              "#f0f921"
             ]
            ],
            "type": "contour"
           }
          ],
          "contourcarpet": [
           {
            "colorbar": {
             "outlinewidth": 0,
             "ticks": ""
            },
            "type": "contourcarpet"
           }
          ],
          "heatmap": [
           {
            "colorbar": {
             "outlinewidth": 0,
             "ticks": ""
            },
            "colorscale": [
             [
              0,
              "#0d0887"
             ],
             [
              0.1111111111111111,
              "#46039f"
             ],
             [
              0.2222222222222222,
              "#7201a8"
             ],
             [
              0.3333333333333333,
              "#9c179e"
             ],
             [
              0.4444444444444444,
              "#bd3786"
             ],
             [
              0.5555555555555556,
              "#d8576b"
             ],
             [
              0.6666666666666666,
              "#ed7953"
             ],
             [
              0.7777777777777778,
              "#fb9f3a"
             ],
             [
              0.8888888888888888,
              "#fdca26"
             ],
             [
              1,
              "#f0f921"
             ]
            ],
            "type": "heatmap"
           }
          ],
          "heatmapgl": [
           {
            "colorbar": {
             "outlinewidth": 0,
             "ticks": ""
            },
            "colorscale": [
             [
              0,
              "#0d0887"
             ],
             [
              0.1111111111111111,
              "#46039f"
             ],
             [
              0.2222222222222222,
              "#7201a8"
             ],
             [
              0.3333333333333333,
              "#9c179e"
             ],
             [
              0.4444444444444444,
              "#bd3786"
             ],
             [
              0.5555555555555556,
              "#d8576b"
             ],
             [
              0.6666666666666666,
              "#ed7953"
             ],
             [
              0.7777777777777778,
              "#fb9f3a"
             ],
             [
              0.8888888888888888,
              "#fdca26"
             ],
             [
              1,
              "#f0f921"
             ]
            ],
            "type": "heatmapgl"
           }
          ],
          "histogram": [
           {
            "marker": {
             "pattern": {
              "fillmode": "overlay",
              "size": 10,
              "solidity": 0.2
             }
            },
            "type": "histogram"
           }
          ],
          "histogram2d": [
           {
            "colorbar": {
             "outlinewidth": 0,
             "ticks": ""
            },
            "colorscale": [
             [
              0,
              "#0d0887"
             ],
             [
              0.1111111111111111,
              "#46039f"
             ],
             [
              0.2222222222222222,
              "#7201a8"
             ],
             [
              0.3333333333333333,
              "#9c179e"
             ],
             [
              0.4444444444444444,
              "#bd3786"
             ],
             [
              0.5555555555555556,
              "#d8576b"
             ],
             [
              0.6666666666666666,
              "#ed7953"
             ],
             [
              0.7777777777777778,
              "#fb9f3a"
             ],
             [
              0.8888888888888888,
              "#fdca26"
             ],
             [
              1,
              "#f0f921"
             ]
            ],
            "type": "histogram2d"
           }
          ],
          "histogram2dcontour": [
           {
            "colorbar": {
             "outlinewidth": 0,
             "ticks": ""
            },
            "colorscale": [
             [
              0,
              "#0d0887"
             ],
             [
              0.1111111111111111,
              "#46039f"
             ],
             [
              0.2222222222222222,
              "#7201a8"
             ],
             [
              0.3333333333333333,
              "#9c179e"
             ],
             [
              0.4444444444444444,
              "#bd3786"
             ],
             [
              0.5555555555555556,
              "#d8576b"
             ],
             [
              0.6666666666666666,
              "#ed7953"
             ],
             [
              0.7777777777777778,
              "#fb9f3a"
             ],
             [
              0.8888888888888888,
              "#fdca26"
             ],
             [
              1,
              "#f0f921"
             ]
            ],
            "type": "histogram2dcontour"
           }
          ],
          "mesh3d": [
           {
            "colorbar": {
             "outlinewidth": 0,
             "ticks": ""
            },
            "type": "mesh3d"
           }
          ],
          "parcoords": [
           {
            "line": {
             "colorbar": {
              "outlinewidth": 0,
              "ticks": ""
             }
            },
            "type": "parcoords"
           }
          ],
          "pie": [
           {
            "automargin": true,
            "type": "pie"
           }
          ],
          "scatter": [
           {
            "marker": {
             "colorbar": {
              "outlinewidth": 0,
              "ticks": ""
             }
            },
            "type": "scatter"
           }
          ],
          "scatter3d": [
           {
            "line": {
             "colorbar": {
              "outlinewidth": 0,
              "ticks": ""
             }
            },
            "marker": {
             "colorbar": {
              "outlinewidth": 0,
              "ticks": ""
             }
            },
            "type": "scatter3d"
           }
          ],
          "scattercarpet": [
           {
            "marker": {
             "colorbar": {
              "outlinewidth": 0,
              "ticks": ""
             }
            },
            "type": "scattercarpet"
           }
          ],
          "scattergeo": [
           {
            "marker": {
             "colorbar": {
              "outlinewidth": 0,
              "ticks": ""
             }
            },
            "type": "scattergeo"
           }
          ],
          "scattergl": [
           {
            "marker": {
             "colorbar": {
              "outlinewidth": 0,
              "ticks": ""
             }
            },
            "type": "scattergl"
           }
          ],
          "scattermapbox": [
           {
            "marker": {
             "colorbar": {
              "outlinewidth": 0,
              "ticks": ""
             }
            },
            "type": "scattermapbox"
           }
          ],
          "scatterpolar": [
           {
            "marker": {
             "colorbar": {
              "outlinewidth": 0,
              "ticks": ""
             }
            },
            "type": "scatterpolar"
           }
          ],
          "scatterpolargl": [
           {
            "marker": {
             "colorbar": {
              "outlinewidth": 0,
              "ticks": ""
             }
            },
            "type": "scatterpolargl"
           }
          ],
          "scatterternary": [
           {
            "marker": {
             "colorbar": {
              "outlinewidth": 0,
              "ticks": ""
             }
            },
            "type": "scatterternary"
           }
          ],
          "surface": [
           {
            "colorbar": {
             "outlinewidth": 0,
             "ticks": ""
            },
            "colorscale": [
             [
              0,
              "#0d0887"
             ],
             [
              0.1111111111111111,
              "#46039f"
             ],
             [
              0.2222222222222222,
              "#7201a8"
             ],
             [
              0.3333333333333333,
              "#9c179e"
             ],
             [
              0.4444444444444444,
              "#bd3786"
             ],
             [
              0.5555555555555556,
              "#d8576b"
             ],
             [
              0.6666666666666666,
              "#ed7953"
             ],
             [
              0.7777777777777778,
              "#fb9f3a"
             ],
             [
              0.8888888888888888,
              "#fdca26"
             ],
             [
              1,
              "#f0f921"
             ]
            ],
            "type": "surface"
           }
          ],
          "table": [
           {
            "cells": {
             "fill": {
              "color": "#EBF0F8"
             },
             "line": {
              "color": "white"
             }
            },
            "header": {
             "fill": {
              "color": "#C8D4E3"
             },
             "line": {
              "color": "white"
             }
            },
            "type": "table"
           }
          ]
         },
         "layout": {
          "annotationdefaults": {
           "arrowcolor": "#2a3f5f",
           "arrowhead": 0,
           "arrowwidth": 1
          },
          "autotypenumbers": "strict",
          "coloraxis": {
           "colorbar": {
            "outlinewidth": 0,
            "ticks": ""
           }
          },
          "colorscale": {
           "diverging": [
            [
             0,
             "#8e0152"
            ],
            [
             0.1,
             "#c51b7d"
            ],
            [
             0.2,
             "#de77ae"
            ],
            [
             0.3,
             "#f1b6da"
            ],
            [
             0.4,
             "#fde0ef"
            ],
            [
             0.5,
             "#f7f7f7"
            ],
            [
             0.6,
             "#e6f5d0"
            ],
            [
             0.7,
             "#b8e186"
            ],
            [
             0.8,
             "#7fbc41"
            ],
            [
             0.9,
             "#4d9221"
            ],
            [
             1,
             "#276419"
            ]
           ],
           "sequential": [
            [
             0,
             "#0d0887"
            ],
            [
             0.1111111111111111,
             "#46039f"
            ],
            [
             0.2222222222222222,
             "#7201a8"
            ],
            [
             0.3333333333333333,
             "#9c179e"
            ],
            [
             0.4444444444444444,
             "#bd3786"
            ],
            [
             0.5555555555555556,
             "#d8576b"
            ],
            [
             0.6666666666666666,
             "#ed7953"
            ],
            [
             0.7777777777777778,
             "#fb9f3a"
            ],
            [
             0.8888888888888888,
             "#fdca26"
            ],
            [
             1,
             "#f0f921"
            ]
           ],
           "sequentialminus": [
            [
             0,
             "#0d0887"
            ],
            [
             0.1111111111111111,
             "#46039f"
            ],
            [
             0.2222222222222222,
             "#7201a8"
            ],
            [
             0.3333333333333333,
             "#9c179e"
            ],
            [
             0.4444444444444444,
             "#bd3786"
            ],
            [
             0.5555555555555556,
             "#d8576b"
            ],
            [
             0.6666666666666666,
             "#ed7953"
            ],
            [
             0.7777777777777778,
             "#fb9f3a"
            ],
            [
             0.8888888888888888,
             "#fdca26"
            ],
            [
             1,
             "#f0f921"
            ]
           ]
          },
          "colorway": [
           "#636efa",
           "#EF553B",
           "#00cc96",
           "#ab63fa",
           "#FFA15A",
           "#19d3f3",
           "#FF6692",
           "#B6E880",
           "#FF97FF",
           "#FECB52"
          ],
          "font": {
           "color": "#2a3f5f"
          },
          "geo": {
           "bgcolor": "white",
           "lakecolor": "white",
           "landcolor": "#E5ECF6",
           "showlakes": true,
           "showland": true,
           "subunitcolor": "white"
          },
          "hoverlabel": {
           "align": "left"
          },
          "hovermode": "closest",
          "mapbox": {
           "style": "light"
          },
          "paper_bgcolor": "white",
          "plot_bgcolor": "#E5ECF6",
          "polar": {
           "angularaxis": {
            "gridcolor": "white",
            "linecolor": "white",
            "ticks": ""
           },
           "bgcolor": "#E5ECF6",
           "radialaxis": {
            "gridcolor": "white",
            "linecolor": "white",
            "ticks": ""
           }
          },
          "scene": {
           "xaxis": {
            "backgroundcolor": "#E5ECF6",
            "gridcolor": "white",
            "gridwidth": 2,
            "linecolor": "white",
            "showbackground": true,
            "ticks": "",
            "zerolinecolor": "white"
           },
           "yaxis": {
            "backgroundcolor": "#E5ECF6",
            "gridcolor": "white",
            "gridwidth": 2,
            "linecolor": "white",
            "showbackground": true,
            "ticks": "",
            "zerolinecolor": "white"
           },
           "zaxis": {
            "backgroundcolor": "#E5ECF6",
            "gridcolor": "white",
            "gridwidth": 2,
            "linecolor": "white",
            "showbackground": true,
            "ticks": "",
            "zerolinecolor": "white"
           }
          },
          "shapedefaults": {
           "line": {
            "color": "#2a3f5f"
           }
          },
          "ternary": {
           "aaxis": {
            "gridcolor": "white",
            "linecolor": "white",
            "ticks": ""
           },
           "baxis": {
            "gridcolor": "white",
            "linecolor": "white",
            "ticks": ""
           },
           "bgcolor": "#E5ECF6",
           "caxis": {
            "gridcolor": "white",
            "linecolor": "white",
            "ticks": ""
           }
          },
          "title": {
           "x": 0.05
          },
          "xaxis": {
           "automargin": true,
           "gridcolor": "white",
           "linecolor": "white",
           "ticks": "",
           "title": {
            "standoff": 15
           },
           "zerolinecolor": "white",
           "zerolinewidth": 2
          },
          "yaxis": {
           "automargin": true,
           "gridcolor": "white",
           "linecolor": "white",
           "ticks": "",
           "title": {
            "standoff": 15
           },
           "zerolinecolor": "white",
           "zerolinewidth": 2
          }
         }
        },
        "xaxis": {
         "anchor": "y",
         "domain": [
          0,
          1
         ],
         "title": {
          "text": "n_comments"
         }
        },
        "yaxis": {
         "anchor": "x",
         "domain": [
          0,
          1
         ],
         "title": {
          "text": "count"
         }
        }
       }
      },
      "text/html": [
       "<div>                            <div id=\"2625b5f0-a34b-4818-8b31-7959662a6626\" class=\"plotly-graph-div\" style=\"height:525px; width:100%;\"></div>            <script type=\"text/javascript\">                require([\"plotly\"], function(Plotly) {                    window.PLOTLYENV=window.PLOTLYENV || {};                                    if (document.getElementById(\"2625b5f0-a34b-4818-8b31-7959662a6626\")) {                    Plotly.newPlot(                        \"2625b5f0-a34b-4818-8b31-7959662a6626\",                        [{\"alignmentgroup\":\"True\",\"bingroup\":\"x\",\"hovertemplate\":\"n_comments=%{x}<br>count=%{y}<extra></extra>\",\"legendgroup\":\"\",\"marker\":{\"color\":\"#636efa\",\"pattern\":{\"shape\":\"\"}},\"name\":\"\",\"offsetgroup\":\"\",\"orientation\":\"v\",\"showlegend\":false,\"type\":\"histogram\",\"x\":[942.0,92.0,80.0,402.0,1157.0,701.0,624.0,148.0,35.0,1332.0,152.0,127.0,4046.0,1064.0,13.0,1888.0,1656.0,3072.0,3865.0,827.0,156.0,33.0,604.0,256.0,1.0,291.0,1881.0,64.0,142.0,346.0,9.0,19.0,39.0,43.0,427.0,6.0,22.0,1612.0,1039.0,11.0,4570.0,225.0,790.0,1062.0,2.0,2.0,624.0,196.0,1861.0,373.0,332.0,5.0,2.0,647.0,99.0,58.0,11.0,2576.0,1804.0,1362.0,372.0,2.0,164.0,378.0,127.0,1364.0,342.0,1012.0,2230.0,486.0,200.0,12.0,1951.0,962.0,535.0,13.0,823.0,5.0,315.0,277.0,20.0,5.0,34.0,9.0,80.0,374.0,18.0,408.0,102.0,820.0,19.0,375.0,973.0,1278.0,538.0,2298.0,7.0,351.0,956.0,1.0,360.0,5.0,271.0,163.0,670.0,162.0,1433.0,1905.0,68.0,706.0,404.0,143.0,251.0,47.0,831.0,1157.0,15.0,96.0,160.0,28.0,42.0,4.0,896.0,1481.0,12.0,6.0,1043.0,1942.0,194.0,805.0,816.0,9.0,153.0,3910.0,283.0,17.0,109.0,1378.0,2.0,921.0,282.0,127.0,325.0,707.0,89.0,19.0,177.0,284.0,138.0,670.0,285.0,2.0,582.0,973.0,758.0,25.0,1660.0,4801.0,318.0,380.0,6.0,240.0,62.0,515.0,490.0,920.0,491.0,2048.0,63.0,1467.0,298.0,20.0,1.0,75.0,16.0,460.0,23.0,83.0,36.0,149.0,1.0,103.0,3.0,326.0,18268.0,2651.0,196.0,852.0,551.0,479.0,6.0,712.0,5.0,63.0,2748.0,1018.0,109.0,2.0,605.0,51.0,6.0,683.0,39.0,314.0,3.0,1357.0,197.0,530.0,102.0,1444.0,714.0,987.0,52.0,327.0,1097.0,2662.0,705.0,501.0,203.0,5.0,113.0,540.0,535.0,1029.0,125.0,53.0,62.0,804.0,2660.0,428.0,1497.0,7.0,5.0,430.0,310.0,1469.0,9.0,159.0,531.0,90.0,455.0,555.0,301.0,5.0,530.0,17.0,497.0,218.0,59.0,482.0,1232.0,852.0,7.0,590.0,2.0,29.0,1.0,1322.0,31.0,644.0,18.0,309.0,15.0,5.0,64.0,117.0,19.0,126.0,409.0,354.0,12.0,5551.0,274.0,234.0,12352.0,516.0,62.0,107.0,79.0,259.0,49.0,117.0,266.0,1766.0,1.0,11.0,25.0,186.0,1443.0,3.0,222.0,338.0,71.0,296.0,959.0,1036.0,14.0,288.0,2.0,7.0,109.0,18.0,74.0,9.0,4.0,276.0,334.0,32.0,173.0,191.0,224.0,41.0,167.0,849.0,489.0,2.0,39.0,18.0,38.0,366.0,289.0,14613.0,223.0,286.0,182.0,746.0,16.0,138.0,548.0,30.0,1241.0,57.0,9.0,25.0,38.0,592.0,212.0,1.0,212.0,162.0,109.0,102.0,17.0,242.0,97.0,38.0,39.0,370.0,22.0,13.0,908.0,2510.0,380.0,9.0,34.0,382.0,340.0,5.0,47.0,1397.0,4.0,116.0,9.0,41.0,250.0,715.0,68.0,295.0,361.0,223.0,33.0,748.0,83.0,87.0,284.0,236.0,229.0,5.0,380.0,162.0,328.0,77.0,128.0,5.0,29.0,9.0,303.0,1560.0,86.0,1021.0,230.0,201.0,187.0,122.0,234.0,223.0,1089.0,1.0,15.0,276.0,627.0,254.0,137.0,257.0,15.0,114.0,53.0,53.0,22.0,4.0,183.0,107.0,822.0,1240.0,203.0,11.0,9.0,94.0,692.0,608.0,2945.0,3527.0,4.0,231.0,163.0,63.0,2.0,165.0,191.0,470.0,369.0,1354.0,2.0,59.0,64.0,140.0,884.0,145.0,247.0,799.0,482.0,121.0,801.0,1.0,1.0,96.0,1287.0,6.0,12.0,302.0,247.0,4.0,39.0,56.0,460.0,191.0,293.0,115.0,86.0,171.0,108.0,244.0,12.0,272.0,143.0,3.0,1363.0,382.0,334.0,523.0,47.0,177.0,236.0,209.0,13.0,76.0,507.0,578.0,173.0,6033.0,14.0,43.0,147.0,98.0,24.0,13.0,617.0,77.0,1168.0,146.0,866.0,20.0,101.0,3.0,145.0,262.0,150.0,11.0,616.0,14.0,6.0,2.0,152.0,29.0,3.0,949.0,3.0,13.0,3.0,2190.0,2.0,270.0,630.0,676.0,7.0,160.0,279.0,362.0,7.0,48.0,67.0,124.0,11.0,203.0,52.0,5.0,2.0,76.0,23.0,5.0,4.0,128.0,27.0,1.0,29.0,124.0,14.0,220.0,1.0,33.0,100.0,68.0,2.0,5.0,138.0,5.0,1042.0,12.0,177.0,102.0,420.0,876.0,277.0,555.0,138.0,1.0,26.0,833.0,20.0,15.0,28.0,457.0,3.0,323.0,154.0,93.0,218.0,697.0,6.0,159.0,100.0,12.0,127.0,4.0,22.0,167.0,374.0,150.0,19.0,373.0,206.0],\"xaxis\":\"x\",\"yaxis\":\"y\"}],                        {\"barmode\":\"relative\",\"legend\":{\"tracegroupgap\":0},\"margin\":{\"t\":60},\"template\":{\"data\":{\"bar\":[{\"error_x\":{\"color\":\"#2a3f5f\"},\"error_y\":{\"color\":\"#2a3f5f\"},\"marker\":{\"line\":{\"color\":\"#E5ECF6\",\"width\":0.5},\"pattern\":{\"fillmode\":\"overlay\",\"size\":10,\"solidity\":0.2}},\"type\":\"bar\"}],\"barpolar\":[{\"marker\":{\"line\":{\"color\":\"#E5ECF6\",\"width\":0.5},\"pattern\":{\"fillmode\":\"overlay\",\"size\":10,\"solidity\":0.2}},\"type\":\"barpolar\"}],\"carpet\":[{\"aaxis\":{\"endlinecolor\":\"#2a3f5f\",\"gridcolor\":\"white\",\"linecolor\":\"white\",\"minorgridcolor\":\"white\",\"startlinecolor\":\"#2a3f5f\"},\"baxis\":{\"endlinecolor\":\"#2a3f5f\",\"gridcolor\":\"white\",\"linecolor\":\"white\",\"minorgridcolor\":\"white\",\"startlinecolor\":\"#2a3f5f\"},\"type\":\"carpet\"}],\"choropleth\":[{\"colorbar\":{\"outlinewidth\":0,\"ticks\":\"\"},\"type\":\"choropleth\"}],\"contour\":[{\"colorbar\":{\"outlinewidth\":0,\"ticks\":\"\"},\"colorscale\":[[0.0,\"#0d0887\"],[0.1111111111111111,\"#46039f\"],[0.2222222222222222,\"#7201a8\"],[0.3333333333333333,\"#9c179e\"],[0.4444444444444444,\"#bd3786\"],[0.5555555555555556,\"#d8576b\"],[0.6666666666666666,\"#ed7953\"],[0.7777777777777778,\"#fb9f3a\"],[0.8888888888888888,\"#fdca26\"],[1.0,\"#f0f921\"]],\"type\":\"contour\"}],\"contourcarpet\":[{\"colorbar\":{\"outlinewidth\":0,\"ticks\":\"\"},\"type\":\"contourcarpet\"}],\"heatmap\":[{\"colorbar\":{\"outlinewidth\":0,\"ticks\":\"\"},\"colorscale\":[[0.0,\"#0d0887\"],[0.1111111111111111,\"#46039f\"],[0.2222222222222222,\"#7201a8\"],[0.3333333333333333,\"#9c179e\"],[0.4444444444444444,\"#bd3786\"],[0.5555555555555556,\"#d8576b\"],[0.6666666666666666,\"#ed7953\"],[0.7777777777777778,\"#fb9f3a\"],[0.8888888888888888,\"#fdca26\"],[1.0,\"#f0f921\"]],\"type\":\"heatmap\"}],\"heatmapgl\":[{\"colorbar\":{\"outlinewidth\":0,\"ticks\":\"\"},\"colorscale\":[[0.0,\"#0d0887\"],[0.1111111111111111,\"#46039f\"],[0.2222222222222222,\"#7201a8\"],[0.3333333333333333,\"#9c179e\"],[0.4444444444444444,\"#bd3786\"],[0.5555555555555556,\"#d8576b\"],[0.6666666666666666,\"#ed7953\"],[0.7777777777777778,\"#fb9f3a\"],[0.8888888888888888,\"#fdca26\"],[1.0,\"#f0f921\"]],\"type\":\"heatmapgl\"}],\"histogram\":[{\"marker\":{\"pattern\":{\"fillmode\":\"overlay\",\"size\":10,\"solidity\":0.2}},\"type\":\"histogram\"}],\"histogram2d\":[{\"colorbar\":{\"outlinewidth\":0,\"ticks\":\"\"},\"colorscale\":[[0.0,\"#0d0887\"],[0.1111111111111111,\"#46039f\"],[0.2222222222222222,\"#7201a8\"],[0.3333333333333333,\"#9c179e\"],[0.4444444444444444,\"#bd3786\"],[0.5555555555555556,\"#d8576b\"],[0.6666666666666666,\"#ed7953\"],[0.7777777777777778,\"#fb9f3a\"],[0.8888888888888888,\"#fdca26\"],[1.0,\"#f0f921\"]],\"type\":\"histogram2d\"}],\"histogram2dcontour\":[{\"colorbar\":{\"outlinewidth\":0,\"ticks\":\"\"},\"colorscale\":[[0.0,\"#0d0887\"],[0.1111111111111111,\"#46039f\"],[0.2222222222222222,\"#7201a8\"],[0.3333333333333333,\"#9c179e\"],[0.4444444444444444,\"#bd3786\"],[0.5555555555555556,\"#d8576b\"],[0.6666666666666666,\"#ed7953\"],[0.7777777777777778,\"#fb9f3a\"],[0.8888888888888888,\"#fdca26\"],[1.0,\"#f0f921\"]],\"type\":\"histogram2dcontour\"}],\"mesh3d\":[{\"colorbar\":{\"outlinewidth\":0,\"ticks\":\"\"},\"type\":\"mesh3d\"}],\"parcoords\":[{\"line\":{\"colorbar\":{\"outlinewidth\":0,\"ticks\":\"\"}},\"type\":\"parcoords\"}],\"pie\":[{\"automargin\":true,\"type\":\"pie\"}],\"scatter\":[{\"marker\":{\"colorbar\":{\"outlinewidth\":0,\"ticks\":\"\"}},\"type\":\"scatter\"}],\"scatter3d\":[{\"line\":{\"colorbar\":{\"outlinewidth\":0,\"ticks\":\"\"}},\"marker\":{\"colorbar\":{\"outlinewidth\":0,\"ticks\":\"\"}},\"type\":\"scatter3d\"}],\"scattercarpet\":[{\"marker\":{\"colorbar\":{\"outlinewidth\":0,\"ticks\":\"\"}},\"type\":\"scattercarpet\"}],\"scattergeo\":[{\"marker\":{\"colorbar\":{\"outlinewidth\":0,\"ticks\":\"\"}},\"type\":\"scattergeo\"}],\"scattergl\":[{\"marker\":{\"colorbar\":{\"outlinewidth\":0,\"ticks\":\"\"}},\"type\":\"scattergl\"}],\"scattermapbox\":[{\"marker\":{\"colorbar\":{\"outlinewidth\":0,\"ticks\":\"\"}},\"type\":\"scattermapbox\"}],\"scatterpolar\":[{\"marker\":{\"colorbar\":{\"outlinewidth\":0,\"ticks\":\"\"}},\"type\":\"scatterpolar\"}],\"scatterpolargl\":[{\"marker\":{\"colorbar\":{\"outlinewidth\":0,\"ticks\":\"\"}},\"type\":\"scatterpolargl\"}],\"scatterternary\":[{\"marker\":{\"colorbar\":{\"outlinewidth\":0,\"ticks\":\"\"}},\"type\":\"scatterternary\"}],\"surface\":[{\"colorbar\":{\"outlinewidth\":0,\"ticks\":\"\"},\"colorscale\":[[0.0,\"#0d0887\"],[0.1111111111111111,\"#46039f\"],[0.2222222222222222,\"#7201a8\"],[0.3333333333333333,\"#9c179e\"],[0.4444444444444444,\"#bd3786\"],[0.5555555555555556,\"#d8576b\"],[0.6666666666666666,\"#ed7953\"],[0.7777777777777778,\"#fb9f3a\"],[0.8888888888888888,\"#fdca26\"],[1.0,\"#f0f921\"]],\"type\":\"surface\"}],\"table\":[{\"cells\":{\"fill\":{\"color\":\"#EBF0F8\"},\"line\":{\"color\":\"white\"}},\"header\":{\"fill\":{\"color\":\"#C8D4E3\"},\"line\":{\"color\":\"white\"}},\"type\":\"table\"}]},\"layout\":{\"annotationdefaults\":{\"arrowcolor\":\"#2a3f5f\",\"arrowhead\":0,\"arrowwidth\":1},\"autotypenumbers\":\"strict\",\"coloraxis\":{\"colorbar\":{\"outlinewidth\":0,\"ticks\":\"\"}},\"colorscale\":{\"diverging\":[[0,\"#8e0152\"],[0.1,\"#c51b7d\"],[0.2,\"#de77ae\"],[0.3,\"#f1b6da\"],[0.4,\"#fde0ef\"],[0.5,\"#f7f7f7\"],[0.6,\"#e6f5d0\"],[0.7,\"#b8e186\"],[0.8,\"#7fbc41\"],[0.9,\"#4d9221\"],[1,\"#276419\"]],\"sequential\":[[0.0,\"#0d0887\"],[0.1111111111111111,\"#46039f\"],[0.2222222222222222,\"#7201a8\"],[0.3333333333333333,\"#9c179e\"],[0.4444444444444444,\"#bd3786\"],[0.5555555555555556,\"#d8576b\"],[0.6666666666666666,\"#ed7953\"],[0.7777777777777778,\"#fb9f3a\"],[0.8888888888888888,\"#fdca26\"],[1.0,\"#f0f921\"]],\"sequentialminus\":[[0.0,\"#0d0887\"],[0.1111111111111111,\"#46039f\"],[0.2222222222222222,\"#7201a8\"],[0.3333333333333333,\"#9c179e\"],[0.4444444444444444,\"#bd3786\"],[0.5555555555555556,\"#d8576b\"],[0.6666666666666666,\"#ed7953\"],[0.7777777777777778,\"#fb9f3a\"],[0.8888888888888888,\"#fdca26\"],[1.0,\"#f0f921\"]]},\"colorway\":[\"#636efa\",\"#EF553B\",\"#00cc96\",\"#ab63fa\",\"#FFA15A\",\"#19d3f3\",\"#FF6692\",\"#B6E880\",\"#FF97FF\",\"#FECB52\"],\"font\":{\"color\":\"#2a3f5f\"},\"geo\":{\"bgcolor\":\"white\",\"lakecolor\":\"white\",\"landcolor\":\"#E5ECF6\",\"showlakes\":true,\"showland\":true,\"subunitcolor\":\"white\"},\"hoverlabel\":{\"align\":\"left\"},\"hovermode\":\"closest\",\"mapbox\":{\"style\":\"light\"},\"paper_bgcolor\":\"white\",\"plot_bgcolor\":\"#E5ECF6\",\"polar\":{\"angularaxis\":{\"gridcolor\":\"white\",\"linecolor\":\"white\",\"ticks\":\"\"},\"bgcolor\":\"#E5ECF6\",\"radialaxis\":{\"gridcolor\":\"white\",\"linecolor\":\"white\",\"ticks\":\"\"}},\"scene\":{\"xaxis\":{\"backgroundcolor\":\"#E5ECF6\",\"gridcolor\":\"white\",\"gridwidth\":2,\"linecolor\":\"white\",\"showbackground\":true,\"ticks\":\"\",\"zerolinecolor\":\"white\"},\"yaxis\":{\"backgroundcolor\":\"#E5ECF6\",\"gridcolor\":\"white\",\"gridwidth\":2,\"linecolor\":\"white\",\"showbackground\":true,\"ticks\":\"\",\"zerolinecolor\":\"white\"},\"zaxis\":{\"backgroundcolor\":\"#E5ECF6\",\"gridcolor\":\"white\",\"gridwidth\":2,\"linecolor\":\"white\",\"showbackground\":true,\"ticks\":\"\",\"zerolinecolor\":\"white\"}},\"shapedefaults\":{\"line\":{\"color\":\"#2a3f5f\"}},\"ternary\":{\"aaxis\":{\"gridcolor\":\"white\",\"linecolor\":\"white\",\"ticks\":\"\"},\"baxis\":{\"gridcolor\":\"white\",\"linecolor\":\"white\",\"ticks\":\"\"},\"bgcolor\":\"#E5ECF6\",\"caxis\":{\"gridcolor\":\"white\",\"linecolor\":\"white\",\"ticks\":\"\"}},\"title\":{\"x\":0.05},\"xaxis\":{\"automargin\":true,\"gridcolor\":\"white\",\"linecolor\":\"white\",\"ticks\":\"\",\"title\":{\"standoff\":15},\"zerolinecolor\":\"white\",\"zerolinewidth\":2},\"yaxis\":{\"automargin\":true,\"gridcolor\":\"white\",\"linecolor\":\"white\",\"ticks\":\"\",\"title\":{\"standoff\":15},\"zerolinecolor\":\"white\",\"zerolinewidth\":2}}},\"xaxis\":{\"anchor\":\"y\",\"domain\":[0.0,1.0],\"title\":{\"text\":\"n_comments\"}},\"yaxis\":{\"anchor\":\"x\",\"domain\":[0.0,1.0],\"title\":{\"text\":\"count\"}}},                        {\"responsive\": true}                    ).then(function(){\n",
       "                            \n",
       "var gd = document.getElementById('2625b5f0-a34b-4818-8b31-7959662a6626');\n",
       "var x = new MutationObserver(function (mutations, observer) {{\n",
       "        var display = window.getComputedStyle(gd).display;\n",
       "        if (!display || display === 'none') {{\n",
       "            console.log([gd, 'removed!']);\n",
       "            Plotly.purge(gd);\n",
       "            observer.disconnect();\n",
       "        }}\n",
       "}});\n",
       "\n",
       "// Listen for the removal of the full notebook cells\n",
       "var notebookContainer = gd.closest('#notebook-container');\n",
       "if (notebookContainer) {{\n",
       "    x.observe(notebookContainer, {childList: true});\n",
       "}}\n",
       "\n",
       "// Listen for the clearing of the current output cell\n",
       "var outputEl = gd.closest('.output');\n",
       "if (outputEl) {{\n",
       "    x.observe(outputEl, {childList: true});\n",
       "}}\n",
       "\n",
       "                        })                };                });            </script>        </div>"
      ]
     },
     "metadata": {},
     "output_type": "display_data"
    }
   ],
   "source": [
    "plot(df_videos_4_months_urls, \"n_comments\")"
   ]
  },
  {
   "cell_type": "code",
   "execution_count": 134,
   "id": "fb561e0f",
   "metadata": {},
   "outputs": [],
   "source": [
    "df_videos_4_months_urls_top_comments = df_videos_4_months_urls[df_videos_4_months_urls.n_comments > 1000]"
   ]
  },
  {
   "cell_type": "code",
   "execution_count": 135,
   "id": "f020708d",
   "metadata": {},
   "outputs": [],
   "source": [
    "df_videos_4_months_urls_top_comments.sort_values(\"n_comments\", ascending=False, inplace=True)"
   ]
  },
  {
   "cell_type": "code",
   "execution_count": 136,
   "id": "d7729501",
   "metadata": {},
   "outputs": [
    {
     "data": {
      "text/html": [
       "<div>\n",
       "<style scoped>\n",
       "    .dataframe tbody tr th:only-of-type {\n",
       "        vertical-align: middle;\n",
       "    }\n",
       "\n",
       "    .dataframe tbody tr th {\n",
       "        vertical-align: top;\n",
       "    }\n",
       "\n",
       "    .dataframe thead th {\n",
       "        text-align: right;\n",
       "    }\n",
       "</style>\n",
       "<table border=\"1\" class=\"dataframe\">\n",
       "  <thead>\n",
       "    <tr style=\"text-align: right;\">\n",
       "      <th></th>\n",
       "      <th>urls</th>\n",
       "      <th>n_comments</th>\n",
       "    </tr>\n",
       "  </thead>\n",
       "  <tbody>\n",
       "    <tr>\n",
       "      <th>222</th>\n",
       "      <td>['https://www.youtube.com/channel/UCbiT0LUIbQj...</td>\n",
       "      <td>18268.0</td>\n",
       "    </tr>\n",
       "    <tr>\n",
       "      <th>390</th>\n",
       "      <td>['http://youtube.com/watch?v=LrVcWYNXZLY&amp;list=...</td>\n",
       "      <td>14613.0</td>\n",
       "    </tr>\n",
       "    <tr>\n",
       "      <th>328</th>\n",
       "      <td>['https://twitter.com/AmberryYt', 'https://www...</td>\n",
       "      <td>12352.0</td>\n",
       "    </tr>\n",
       "    <tr>\n",
       "      <th>602</th>\n",
       "      <td>['https://instagram.com/thebodylanguageguy', '...</td>\n",
       "      <td>6033.0</td>\n",
       "    </tr>\n",
       "    <tr>\n",
       "      <th>325</th>\n",
       "      <td>['https://www.youtube.com/channel/UCbiT0LUIbQj...</td>\n",
       "      <td>5551.0</td>\n",
       "    </tr>\n",
       "    <tr>\n",
       "      <th>...</th>\n",
       "      <td>...</td>\n",
       "      <td>...</td>\n",
       "    </tr>\n",
       "    <tr>\n",
       "      <th>358</th>\n",
       "      <td>['https://tus10seg.com/1026978', 'https://tus1...</td>\n",
       "      <td>1036.0</td>\n",
       "    </tr>\n",
       "    <tr>\n",
       "      <th>269</th>\n",
       "      <td>['https://tus10seg.com/1024893', 'https://tus1...</td>\n",
       "      <td>1029.0</td>\n",
       "    </tr>\n",
       "    <tr>\n",
       "      <th>488</th>\n",
       "      <td>['https://www.patreon.com/roadguyrob', 'https:...</td>\n",
       "      <td>1021.0</td>\n",
       "    </tr>\n",
       "    <tr>\n",
       "      <th>235</th>\n",
       "      <td>['http://youtube.com/channel/UCylyoo597NuFFyJS...</td>\n",
       "      <td>1018.0</td>\n",
       "    </tr>\n",
       "    <tr>\n",
       "      <th>87</th>\n",
       "      <td>['https://www.youtube.com/user/ETCanadaOfficia...</td>\n",
       "      <td>1012.0</td>\n",
       "    </tr>\n",
       "  </tbody>\n",
       "</table>\n",
       "<p>71 rows × 2 columns</p>\n",
       "</div>"
      ],
      "text/plain": [
       "                                                  urls  n_comments\n",
       "222  ['https://www.youtube.com/channel/UCbiT0LUIbQj...     18268.0\n",
       "390  ['http://youtube.com/watch?v=LrVcWYNXZLY&list=...     14613.0\n",
       "328  ['https://twitter.com/AmberryYt', 'https://www...     12352.0\n",
       "602  ['https://instagram.com/thebodylanguageguy', '...      6033.0\n",
       "325  ['https://www.youtube.com/channel/UCbiT0LUIbQj...      5551.0\n",
       "..                                                 ...         ...\n",
       "358  ['https://tus10seg.com/1026978', 'https://tus1...      1036.0\n",
       "269  ['https://tus10seg.com/1024893', 'https://tus1...      1029.0\n",
       "488  ['https://www.patreon.com/roadguyrob', 'https:...      1021.0\n",
       "235  ['http://youtube.com/channel/UCylyoo597NuFFyJS...      1018.0\n",
       "87   ['https://www.youtube.com/user/ETCanadaOfficia...      1012.0\n",
       "\n",
       "[71 rows x 2 columns]"
      ]
     },
     "execution_count": 136,
     "metadata": {},
     "output_type": "execute_result"
    }
   ],
   "source": [
    "df_videos_4_months_urls_top_comments[[\"urls\", \"n_comments\"]][~df_videos_4_months_urls_top_comments[[\"urls\", \"n_comments\"]].duplicated()]"
   ]
  },
  {
   "cell_type": "code",
   "execution_count": 137,
   "id": "ed2ff88c",
   "metadata": {},
   "outputs": [],
   "source": [
    "df_videos_4_months_urls_top_comments = df_videos_4_months_urls_top_comments[\n",
    "    [\"urls\", \"n_comments\"]\n",
    "][~df_videos_4_months_urls_top_comments[[\"urls\", \"n_comments\"]].duplicated()]"
   ]
  },
  {
   "cell_type": "code",
   "execution_count": 138,
   "id": "f58a1b58",
   "metadata": {},
   "outputs": [],
   "source": [
    "fix(df_videos_4_months_urls_top_comments)"
   ]
  },
  {
   "cell_type": "code",
   "execution_count": 141,
   "id": "014d9008",
   "metadata": {},
   "outputs": [],
   "source": [
    "df_videos_4_months_urls_top_comments_one = one_url_df(df_videos_4_months_urls_top_comments)"
   ]
  },
  {
   "cell_type": "code",
   "execution_count": 142,
   "id": "823342a1",
   "metadata": {},
   "outputs": [],
   "source": [
    "df_videos_4_months_urls_top_comments_more = more_url_df(df_videos_4_months_urls_top_comments, \"n_comments\")"
   ]
  },
  {
   "cell_type": "code",
   "execution_count": 143,
   "id": "d713ef4b",
   "metadata": {},
   "outputs": [],
   "source": [
    "def un(df):\n",
    "    df[\"urls\"] = df[\"urls\"].apply(lambda x: unshorten(x))"
   ]
  },
  {
   "cell_type": "code",
   "execution_count": 144,
   "id": "b3e5f5d9",
   "metadata": {},
   "outputs": [],
   "source": [
    "un(df_videos_4_months_urls_top_comments_one)"
   ]
  },
  {
   "cell_type": "code",
   "execution_count": 145,
   "id": "5b0b0f7d",
   "metadata": {},
   "outputs": [
    {
     "data": {
      "text/html": [
       "<div>\n",
       "<style scoped>\n",
       "    .dataframe tbody tr th:only-of-type {\n",
       "        vertical-align: middle;\n",
       "    }\n",
       "\n",
       "    .dataframe tbody tr th {\n",
       "        vertical-align: top;\n",
       "    }\n",
       "\n",
       "    .dataframe thead th {\n",
       "        text-align: right;\n",
       "    }\n",
       "</style>\n",
       "<table border=\"1\" class=\"dataframe\">\n",
       "  <thead>\n",
       "    <tr style=\"text-align: right;\">\n",
       "      <th></th>\n",
       "      <th>urls</th>\n",
       "      <th>n_comments</th>\n",
       "      <th>n_urls</th>\n",
       "    </tr>\n",
       "  </thead>\n",
       "  <tbody>\n",
       "    <tr>\n",
       "      <th>64</th>\n",
       "      <td>https://www.youtube.com/channel/UCylyoo597NuFF...</td>\n",
       "      <td>1861.0</td>\n",
       "      <td>1</td>\n",
       "    </tr>\n",
       "    <tr>\n",
       "      <th>116</th>\n",
       "      <td>https://www.instagram.com/8pm.tube/</td>\n",
       "      <td>1278.0</td>\n",
       "      <td>1</td>\n",
       "    </tr>\n",
       "    <tr>\n",
       "      <th>235</th>\n",
       "      <td>https://www.youtube.com/channel/UCylyoo597NuFF...</td>\n",
       "      <td>1018.0</td>\n",
       "      <td>1</td>\n",
       "    </tr>\n",
       "  </tbody>\n",
       "</table>\n",
       "</div>"
      ],
      "text/plain": [
       "                                                  urls  n_comments  n_urls\n",
       "64   https://www.youtube.com/channel/UCylyoo597NuFF...      1861.0       1\n",
       "116                https://www.instagram.com/8pm.tube/      1278.0       1\n",
       "235  https://www.youtube.com/channel/UCylyoo597NuFF...      1018.0       1"
      ]
     },
     "execution_count": 145,
     "metadata": {},
     "output_type": "execute_result"
    }
   ],
   "source": [
    "df_videos_4_months_urls_top_comments_one"
   ]
  },
  {
   "cell_type": "code",
   "execution_count": 146,
   "id": "16be70ff",
   "metadata": {},
   "outputs": [],
   "source": [
    "un(df_videos_4_months_urls_top_comments_more)"
   ]
  },
  {
   "cell_type": "code",
   "execution_count": 147,
   "id": "a5cdb3b9",
   "metadata": {},
   "outputs": [
    {
     "data": {
      "text/html": [
       "<div>\n",
       "<style scoped>\n",
       "    .dataframe tbody tr th:only-of-type {\n",
       "        vertical-align: middle;\n",
       "    }\n",
       "\n",
       "    .dataframe tbody tr th {\n",
       "        vertical-align: top;\n",
       "    }\n",
       "\n",
       "    .dataframe thead th {\n",
       "        text-align: right;\n",
       "    }\n",
       "</style>\n",
       "<table border=\"1\" class=\"dataframe\">\n",
       "  <thead>\n",
       "    <tr style=\"text-align: right;\">\n",
       "      <th></th>\n",
       "      <th>urls</th>\n",
       "      <th>n_comments</th>\n",
       "      <th>n_urls</th>\n",
       "    </tr>\n",
       "  </thead>\n",
       "  <tbody>\n",
       "    <tr>\n",
       "      <th>0</th>\n",
       "      <td>https://www.youtube.com/channel/UCbiT0LUIbQj6C...</td>\n",
       "      <td>18268.0</td>\n",
       "      <td>2</td>\n",
       "    </tr>\n",
       "    <tr>\n",
       "      <th>1</th>\n",
       "      <td>https://support.google.com/youtube/answer/1620...</td>\n",
       "      <td>18268.0</td>\n",
       "      <td>2</td>\n",
       "    </tr>\n",
       "    <tr>\n",
       "      <th>2</th>\n",
       "      <td>https://www.youtube.com/watch?v=LrVcWYNXZLY&amp;li...</td>\n",
       "      <td>14613.0</td>\n",
       "      <td>9</td>\n",
       "    </tr>\n",
       "    <tr>\n",
       "      <th>3</th>\n",
       "      <td>http://patreon.com/whatever</td>\n",
       "      <td>14613.0</td>\n",
       "      <td>9</td>\n",
       "    </tr>\n",
       "    <tr>\n",
       "      <th>5</th>\n",
       "      <td>http://paypal.me/pools/c/8rsO7FMRoL</td>\n",
       "      <td>14613.0</td>\n",
       "      <td>9</td>\n",
       "    </tr>\n",
       "    <tr>\n",
       "      <th>...</th>\n",
       "      <td>...</td>\n",
       "      <td>...</td>\n",
       "      <td>...</td>\n",
       "    </tr>\n",
       "    <tr>\n",
       "      <th>390</th>\n",
       "      <td>https://www.youtube.com/user/ETCanadaOfficial</td>\n",
       "      <td>1012.0</td>\n",
       "      <td>5</td>\n",
       "    </tr>\n",
       "    <tr>\n",
       "      <th>391</th>\n",
       "      <td>https://etcanada.com/</td>\n",
       "      <td>1012.0</td>\n",
       "      <td>5</td>\n",
       "    </tr>\n",
       "    <tr>\n",
       "      <th>392</th>\n",
       "      <td>https://www.facebook.com/ETCanada/</td>\n",
       "      <td>1012.0</td>\n",
       "      <td>5</td>\n",
       "    </tr>\n",
       "    <tr>\n",
       "      <th>393</th>\n",
       "      <td>https://twitter.com/etcanada</td>\n",
       "      <td>1012.0</td>\n",
       "      <td>5</td>\n",
       "    </tr>\n",
       "    <tr>\n",
       "      <th>394</th>\n",
       "      <td>http://www.instagram.com/etcanada</td>\n",
       "      <td>1012.0</td>\n",
       "      <td>5</td>\n",
       "    </tr>\n",
       "  </tbody>\n",
       "</table>\n",
       "<p>390 rows × 3 columns</p>\n",
       "</div>"
      ],
      "text/plain": [
       "                                                  urls  n_comments  n_urls\n",
       "0    https://www.youtube.com/channel/UCbiT0LUIbQj6C...     18268.0       2\n",
       "1    https://support.google.com/youtube/answer/1620...     18268.0       2\n",
       "2    https://www.youtube.com/watch?v=LrVcWYNXZLY&li...     14613.0       9\n",
       "3                          http://patreon.com/whatever     14613.0       9\n",
       "5                  http://paypal.me/pools/c/8rsO7FMRoL     14613.0       9\n",
       "..                                                 ...         ...     ...\n",
       "390      https://www.youtube.com/user/ETCanadaOfficial      1012.0       5\n",
       "391                              https://etcanada.com/      1012.0       5\n",
       "392                 https://www.facebook.com/ETCanada/      1012.0       5\n",
       "393                       https://twitter.com/etcanada      1012.0       5\n",
       "394                  http://www.instagram.com/etcanada      1012.0       5\n",
       "\n",
       "[390 rows x 3 columns]"
      ]
     },
     "execution_count": 147,
     "metadata": {},
     "output_type": "execute_result"
    }
   ],
   "source": [
    "df_videos_4_months_urls_top_comments_more"
   ]
  },
  {
   "cell_type": "code",
   "execution_count": 148,
   "id": "0bd3a0f9",
   "metadata": {},
   "outputs": [
    {
     "data": {
      "text/html": [
       "<div>\n",
       "<style scoped>\n",
       "    .dataframe tbody tr th:only-of-type {\n",
       "        vertical-align: middle;\n",
       "    }\n",
       "\n",
       "    .dataframe tbody tr th {\n",
       "        vertical-align: top;\n",
       "    }\n",
       "\n",
       "    .dataframe thead th {\n",
       "        text-align: right;\n",
       "    }\n",
       "</style>\n",
       "<table border=\"1\" class=\"dataframe\">\n",
       "  <thead>\n",
       "    <tr style=\"text-align: right;\">\n",
       "      <th></th>\n",
       "      <th>urls</th>\n",
       "      <th>n_comments</th>\n",
       "      <th>n_urls</th>\n",
       "    </tr>\n",
       "  </thead>\n",
       "  <tbody>\n",
       "    <tr>\n",
       "      <th>0</th>\n",
       "      <td>https://www.youtube.com/channel/UCbiT0LUIbQj6C...</td>\n",
       "      <td>18268.0</td>\n",
       "      <td>2</td>\n",
       "    </tr>\n",
       "    <tr>\n",
       "      <th>1</th>\n",
       "      <td>https://support.google.com/youtube/answer/1620...</td>\n",
       "      <td>18268.0</td>\n",
       "      <td>2</td>\n",
       "    </tr>\n",
       "    <tr>\n",
       "      <th>2</th>\n",
       "      <td>https://www.youtube.com/watch?v=LrVcWYNXZLY&amp;li...</td>\n",
       "      <td>14613.0</td>\n",
       "      <td>9</td>\n",
       "    </tr>\n",
       "    <tr>\n",
       "      <th>3</th>\n",
       "      <td>http://patreon.com/whatever</td>\n",
       "      <td>14613.0</td>\n",
       "      <td>9</td>\n",
       "    </tr>\n",
       "    <tr>\n",
       "      <th>5</th>\n",
       "      <td>http://paypal.me/pools/c/8rsO7FMRoL</td>\n",
       "      <td>14613.0</td>\n",
       "      <td>9</td>\n",
       "    </tr>\n",
       "    <tr>\n",
       "      <th>...</th>\n",
       "      <td>...</td>\n",
       "      <td>...</td>\n",
       "      <td>...</td>\n",
       "    </tr>\n",
       "    <tr>\n",
       "      <th>390</th>\n",
       "      <td>https://www.youtube.com/user/ETCanadaOfficial</td>\n",
       "      <td>1012.0</td>\n",
       "      <td>5</td>\n",
       "    </tr>\n",
       "    <tr>\n",
       "      <th>391</th>\n",
       "      <td>https://etcanada.com/</td>\n",
       "      <td>1012.0</td>\n",
       "      <td>5</td>\n",
       "    </tr>\n",
       "    <tr>\n",
       "      <th>392</th>\n",
       "      <td>https://www.facebook.com/ETCanada/</td>\n",
       "      <td>1012.0</td>\n",
       "      <td>5</td>\n",
       "    </tr>\n",
       "    <tr>\n",
       "      <th>393</th>\n",
       "      <td>https://twitter.com/etcanada</td>\n",
       "      <td>1012.0</td>\n",
       "      <td>5</td>\n",
       "    </tr>\n",
       "    <tr>\n",
       "      <th>394</th>\n",
       "      <td>http://www.instagram.com/etcanada</td>\n",
       "      <td>1012.0</td>\n",
       "      <td>5</td>\n",
       "    </tr>\n",
       "  </tbody>\n",
       "</table>\n",
       "<p>390 rows × 3 columns</p>\n",
       "</div>"
      ],
      "text/plain": [
       "                                                  urls  n_comments  n_urls\n",
       "0    https://www.youtube.com/channel/UCbiT0LUIbQj6C...     18268.0       2\n",
       "1    https://support.google.com/youtube/answer/1620...     18268.0       2\n",
       "2    https://www.youtube.com/watch?v=LrVcWYNXZLY&li...     14613.0       9\n",
       "3                          http://patreon.com/whatever     14613.0       9\n",
       "5                  http://paypal.me/pools/c/8rsO7FMRoL     14613.0       9\n",
       "..                                                 ...         ...     ...\n",
       "390      https://www.youtube.com/user/ETCanadaOfficial      1012.0       5\n",
       "391                              https://etcanada.com/      1012.0       5\n",
       "392                 https://www.facebook.com/ETCanada/      1012.0       5\n",
       "393                       https://twitter.com/etcanada      1012.0       5\n",
       "394                  http://www.instagram.com/etcanada      1012.0       5\n",
       "\n",
       "[390 rows x 3 columns]"
      ]
     },
     "execution_count": 148,
     "metadata": {},
     "output_type": "execute_result"
    }
   ],
   "source": [
    "df_videos_4_months_urls_top_comments_more.drop_duplicates()"
   ]
  },
  {
   "cell_type": "code",
   "execution_count": 151,
   "id": "1809ba7e",
   "metadata": {},
   "outputs": [],
   "source": [
    "df_videos_4_months_urls_top_comments_one.to_csv(\n",
    "    yt_path + \"df_videos_4_months_urls_top_comments_one.csv\", index=False\n",
    ")\n",
    "\n",
    "df_videos_4_months_urls_top_comments_more.to_csv(\n",
    "    yt_path + \"df_videos_4_months_urls_top_comments_more.csv\", index=False\n",
    ")"
   ]
  },
  {
   "cell_type": "code",
   "execution_count": 156,
   "id": "bdfe9a34",
   "metadata": {},
   "outputs": [],
   "source": [
    "pd.concat(\n",
    "    [\n",
    "        df_videos_4_months_urls_top_comments_one,\n",
    "        df_videos_4_months_urls_top_comments_more,\n",
    "    ]\n",
    ").sort_values(\"n_comments\", ascending=False).to_csv(\n",
    "    yt_path + \"df_videos_4_months_urls_top_comments.csv\", index=False\n",
    ")"
   ]
  },
  {
   "cell_type": "markdown",
   "id": "58d03d9d",
   "metadata": {},
   "source": [
    "### favorites"
   ]
  },
  {
   "cell_type": "code",
   "execution_count": 157,
   "id": "d6e8b794",
   "metadata": {},
   "outputs": [
    {
     "data": {
      "text/plain": [
       "count    581.0\n",
       "mean       0.0\n",
       "std        0.0\n",
       "min        0.0\n",
       "25%        0.0\n",
       "50%        0.0\n",
       "75%        0.0\n",
       "max        0.0\n",
       "Name: n_favorites, dtype: float64"
      ]
     },
     "execution_count": 157,
     "metadata": {},
     "output_type": "execute_result"
    }
   ],
   "source": [
    "df_videos_4_months_urls.n_favorites.describe()"
   ]
  },
  {
   "cell_type": "code",
   "execution_count": 158,
   "id": "16e211f5",
   "metadata": {},
   "outputs": [
    {
     "data": {
      "text/plain": [
       "0"
      ]
     },
     "execution_count": 158,
     "metadata": {},
     "output_type": "execute_result"
    }
   ],
   "source": [
    "df_videos_4_months_urls.n_favorites.max()"
   ]
  },
  {
   "cell_type": "markdown",
   "id": "bfc94808",
   "metadata": {},
   "source": [
    "## dec"
   ]
  },
  {
   "cell_type": "code",
   "execution_count": 159,
   "id": "2ff3b3bd",
   "metadata": {},
   "outputs": [],
   "source": [
    "df_videos_dec_urls = pd.read_csv(data_path + \"df_videos_dec_urls.csv\")"
   ]
  },
  {
   "cell_type": "code",
   "execution_count": 160,
   "id": "721f0cea",
   "metadata": {},
   "outputs": [
    {
     "data": {
      "text/html": [
       "<div>\n",
       "<style scoped>\n",
       "    .dataframe tbody tr th:only-of-type {\n",
       "        vertical-align: middle;\n",
       "    }\n",
       "\n",
       "    .dataframe tbody tr th {\n",
       "        vertical-align: top;\n",
       "    }\n",
       "\n",
       "    .dataframe thead th {\n",
       "        text-align: right;\n",
       "    }\n",
       "</style>\n",
       "<table border=\"1\" class=\"dataframe\">\n",
       "  <thead>\n",
       "    <tr style=\"text-align: right;\">\n",
       "      <th></th>\n",
       "      <th>id</th>\n",
       "      <th>Unnamed: 0</th>\n",
       "      <th>Unnamed: 0.1</th>\n",
       "      <th>kind</th>\n",
       "      <th>etag</th>\n",
       "      <th>snippet.publishedAt</th>\n",
       "      <th>snippet.channelId</th>\n",
       "      <th>snippet.title</th>\n",
       "      <th>snippet.description</th>\n",
       "      <th>snippet.thumbnails.default.url</th>\n",
       "      <th>...</th>\n",
       "      <th>statistics.dislikeCount</th>\n",
       "      <th>statistics.favoriteCount</th>\n",
       "      <th>statistics.commentCount</th>\n",
       "      <th>snippet.defaultLanguage</th>\n",
       "      <th>contentDetails.contentRating.ytRating</th>\n",
       "      <th>contentDetails.regionRestriction.blocked</th>\n",
       "      <th>contentDetails.regionRestriction.allowed</th>\n",
       "      <th>year</th>\n",
       "      <th>urls</th>\n",
       "      <th>n_urls</th>\n",
       "    </tr>\n",
       "  </thead>\n",
       "  <tbody>\n",
       "    <tr>\n",
       "      <th>0</th>\n",
       "      <td>ht92feHGR9M</td>\n",
       "      <td>69</td>\n",
       "      <td>0.0</td>\n",
       "      <td>youtube#video</td>\n",
       "      <td>zNkBfCV1TBeKMnDzDWZlqnoNpVM</td>\n",
       "      <td>2020-09-08 20:15:10+00:00</td>\n",
       "      <td>UCO6cSNvOaDs-kjALLQLNhQw</td>\n",
       "      <td>remove amber heard from aquaman 2 petition cou...</td>\n",
       "      <td>remove amber heard from aquaman 2 petition cou...</td>\n",
       "      <td>https://i.ytimg.com/vi/ht92feHGR9M/default.jpg</td>\n",
       "      <td>...</td>\n",
       "      <td>6.0</td>\n",
       "      <td>0</td>\n",
       "      <td>119.0</td>\n",
       "      <td>NaN</td>\n",
       "      <td>NaN</td>\n",
       "      <td>NaN</td>\n",
       "      <td>NaN</td>\n",
       "      <td>2020</td>\n",
       "      <td>['http://bit.ly/32rc7vi', 'https://youtu.be/jn...</td>\n",
       "      <td>2</td>\n",
       "    </tr>\n",
       "  </tbody>\n",
       "</table>\n",
       "<p>1 rows × 55 columns</p>\n",
       "</div>"
      ],
      "text/plain": [
       "            id  Unnamed: 0  Unnamed: 0.1           kind  \\\n",
       "0  ht92feHGR9M          69           0.0  youtube#video   \n",
       "\n",
       "                          etag        snippet.publishedAt  \\\n",
       "0  zNkBfCV1TBeKMnDzDWZlqnoNpVM  2020-09-08 20:15:10+00:00   \n",
       "\n",
       "          snippet.channelId  \\\n",
       "0  UCO6cSNvOaDs-kjALLQLNhQw   \n",
       "\n",
       "                                       snippet.title  \\\n",
       "0  remove amber heard from aquaman 2 petition cou...   \n",
       "\n",
       "                                 snippet.description  \\\n",
       "0  remove amber heard from aquaman 2 petition cou...   \n",
       "\n",
       "                   snippet.thumbnails.default.url  ...  \\\n",
       "0  https://i.ytimg.com/vi/ht92feHGR9M/default.jpg  ...   \n",
       "\n",
       "   statistics.dislikeCount  statistics.favoriteCount statistics.commentCount  \\\n",
       "0                      6.0                         0                   119.0   \n",
       "\n",
       "   snippet.defaultLanguage  contentDetails.contentRating.ytRating  \\\n",
       "0                      NaN                                    NaN   \n",
       "\n",
       "  contentDetails.regionRestriction.blocked  \\\n",
       "0                                      NaN   \n",
       "\n",
       "   contentDetails.regionRestriction.allowed  year  \\\n",
       "0                                       NaN  2020   \n",
       "\n",
       "                                                urls  n_urls  \n",
       "0  ['http://bit.ly/32rc7vi', 'https://youtu.be/jn...       2  \n",
       "\n",
       "[1 rows x 55 columns]"
      ]
     },
     "execution_count": 160,
     "metadata": {},
     "output_type": "execute_result"
    }
   ],
   "source": [
    "df_videos_dec_urls.head(1)"
   ]
  },
  {
   "cell_type": "code",
   "execution_count": 161,
   "id": "3e19a84f",
   "metadata": {},
   "outputs": [],
   "source": [
    "df_videos_dec_urls = df_videos_dec_urls[df_videos_dec_urls.n_urls > 0 ]"
   ]
  },
  {
   "cell_type": "code",
   "execution_count": 162,
   "id": "0b6690c8",
   "metadata": {},
   "outputs": [],
   "source": [
    "df_videos_dec_urls.rename(\n",
    "    columns={\n",
    "        \"statistics.viewCount\": \"n_views\",\n",
    "        \"statistics.likeCount\": \"n_likes\",\n",
    "        \"statistics.dislikeCount\": \"n_dislikes\",\n",
    "        \"statistics.favoriteCount\": \"n_favorites\",\n",
    "        \"statistics.commentCount\": \"n_comments\",\n",
    "    },\n",
    "    inplace=True,\n",
    ")"
   ]
  },
  {
   "cell_type": "markdown",
   "id": "148825a6",
   "metadata": {},
   "source": [
    "### Views"
   ]
  },
  {
   "cell_type": "code",
   "execution_count": 163,
   "id": "740b3a82",
   "metadata": {},
   "outputs": [
    {
     "data": {
      "text/plain": [
       "count    5.960000e+02\n",
       "mean     4.807721e+05\n",
       "std      4.245695e+06\n",
       "min      1.400000e+01\n",
       "25%      9.815250e+03\n",
       "50%      4.219000e+04\n",
       "75%      1.598870e+05\n",
       "max      9.011098e+07\n",
       "Name: n_views, dtype: float64"
      ]
     },
     "execution_count": 163,
     "metadata": {},
     "output_type": "execute_result"
    }
   ],
   "source": [
    "df_videos_dec_urls.n_views.describe()"
   ]
  },
  {
   "cell_type": "code",
   "execution_count": 164,
   "id": "2166c54a",
   "metadata": {},
   "outputs": [
    {
     "data": {
      "text/plain": [
       "90110984"
      ]
     },
     "execution_count": 164,
     "metadata": {},
     "output_type": "execute_result"
    }
   ],
   "source": [
    "df_videos_dec_urls.n_views.max()"
   ]
  },
  {
   "cell_type": "code",
   "execution_count": 165,
   "id": "8f271bba",
   "metadata": {},
   "outputs": [
    {
     "data": {
      "application/vnd.plotly.v1+json": {
       "config": {
        "plotlyServerURL": "https://plot.ly"
       },
       "data": [
        {
         "alignmentgroup": "True",
         "bingroup": "x",
         "hovertemplate": "n_views=%{x}<br>count=%{y}<extra></extra>",
         "legendgroup": "",
         "marker": {
          "color": "#636efa",
          "pattern": {
           "shape": ""
          }
         },
         "name": "",
         "offsetgroup": "",
         "orientation": "v",
         "showlegend": false,
         "type": "histogram",
         "x": [
          5896,
          42160,
          14004,
          407453,
          92476,
          468241,
          6778,
          1380055,
          87339,
          265217,
          15919,
          423171,
          90949,
          11365,
          5698,
          18532,
          22741,
          35146,
          37441,
          39579,
          704756,
          4462,
          2676915,
          4358,
          97790,
          5094,
          610530,
          80688,
          3164893,
          51613,
          1017877,
          189481,
          7820,
          38530,
          15374,
          12000,
          25595,
          74282,
          401701,
          123162,
          684765,
          25922,
          12626,
          33859,
          1431956,
          974945,
          5015,
          184154,
          284516,
          132222,
          39841,
          35135,
          244650,
          3712,
          105346,
          315020,
          171854,
          120138,
          199034,
          176638,
          41076,
          1481619,
          1451680,
          32467,
          218481,
          32245,
          15462,
          206667,
          8089,
          97581,
          200347,
          70683,
          2762734,
          105829,
          189637,
          1057,
          67878,
          42777,
          4052,
          211190,
          15112,
          124752,
          8004,
          1366220,
          652016,
          40791,
          17069,
          160379,
          686559,
          724924,
          7002,
          211727,
          30755,
          25941,
          1006768,
          31027,
          138257,
          304430,
          201812,
          215683,
          21403,
          23066,
          3666,
          318,
          166790,
          154738,
          7680,
          680142,
          10842,
          664373,
          167,
          19752,
          52019,
          173608,
          179689,
          73767,
          34704,
          88384,
          116392,
          192428,
          1287083,
          1378923,
          173950,
          5548,
          49389,
          531366,
          14353,
          732577,
          1008070,
          262875,
          366690,
          47521,
          11059,
          54809,
          73520,
          102819,
          65271,
          95526,
          235869,
          69156,
          53630,
          204884,
          161922,
          65486,
          1612,
          9062,
          1742052,
          67268,
          965421,
          69122,
          2457,
          6906,
          410612,
          89665,
          103285,
          4851,
          43727,
          10650,
          73115,
          6439,
          487636,
          704847,
          17989,
          33250,
          246069,
          69089,
          68380,
          41191,
          27161,
          52380,
          37435,
          130180,
          180535,
          144383,
          50625,
          69982,
          138465,
          57359,
          139718,
          15829,
          1934,
          215013,
          11493,
          1576174,
          8403,
          36672,
          367541,
          331002,
          118669,
          164621,
          77689,
          42230,
          41765,
          9402370,
          3077,
          328780,
          306650,
          148199,
          554541,
          69384,
          1645,
          246473,
          531099,
          212260,
          31979,
          281596,
          96928,
          141344,
          315667,
          293590,
          27722,
          200238,
          546922,
          314644,
          120980,
          54468,
          112628,
          49400,
          184897,
          949099,
          331746,
          163396,
          159723,
          529669,
          153320,
          2426,
          233523,
          140184,
          249545,
          49711,
          20810,
          191767,
          1326751,
          65195,
          2451003,
          48056,
          799887,
          129167,
          8379,
          666789,
          37588,
          27562,
          73583,
          336,
          67854,
          9750,
          6626,
          120,
          31497,
          213,
          123345,
          413634,
          16629,
          1211,
          4612,
          3612,
          636,
          88742,
          138268,
          90079,
          117514,
          65344,
          32784,
          14000,
          22049,
          73110,
          8743,
          7203,
          180395,
          907847,
          1545,
          233,
          1258,
          20794,
          255,
          23206,
          18175,
          31423,
          214558,
          1890,
          87734,
          56691,
          119356,
          82762,
          291,
          18879,
          38230,
          452957,
          79482,
          25773,
          12457,
          6563,
          124,
          37490,
          69175,
          234517,
          826,
          77409,
          190764,
          6778,
          2231423,
          116415,
          27611,
          3385,
          942,
          7831,
          325736,
          25650,
          214118,
          28698,
          2284944,
          92315,
          1009,
          45973,
          764662,
          1684,
          17906,
          20126,
          76343,
          29829,
          118277,
          1560,
          2165,
          24001,
          10267,
          7043,
          45128,
          3573,
          26788,
          92566,
          6221,
          48835,
          153631,
          80668,
          28365,
          17244,
          8540,
          21687,
          31494,
          24724,
          77744,
          122851,
          119,
          59917,
          202347,
          103458,
          30301,
          1636,
          10973,
          3082,
          4485,
          6136,
          36575,
          3744,
          10654,
          66511,
          4767,
          225,
          97696,
          301945,
          22031,
          42220,
          166407,
          1738,
          15333,
          78315,
          190762,
          6155,
          55858,
          19149,
          553450,
          31195,
          26450,
          138525,
          370650,
          23123,
          4942871,
          293499,
          44124,
          35686,
          12137,
          92548,
          11595,
          4286,
          129362,
          86694,
          433050,
          257260,
          2434,
          17429,
          90110984,
          80060,
          1747,
          14,
          102543,
          48679,
          9817,
          266754,
          342,
          50199,
          160664,
          23374,
          91279,
          18312,
          15932,
          25622,
          14153,
          92396,
          24447,
          73810,
          35315,
          591880,
          2529,
          1314,
          401482,
          3972,
          17269,
          4665,
          26148,
          9800,
          2292,
          17073,
          110195,
          572,
          7039,
          227816,
          1955,
          76,
          508,
          67244,
          14545,
          6177,
          371872,
          125753,
          10057,
          1243,
          6946,
          9446,
          776879,
          133646,
          176899,
          4936,
          93911,
          21173,
          5972,
          19639,
          724,
          195349,
          28269,
          24951,
          494168,
          42522,
          20612790,
          892,
          72,
          22432,
          161633,
          527665,
          119215,
          2430,
          880,
          55649,
          204807,
          224018,
          292697,
          5864,
          30975,
          415915,
          14043,
          12402,
          1015,
          65768,
          9431,
          9357,
          54975,
          470592,
          49326,
          2628,
          21225,
          10503,
          276,
          42540987,
          1700671,
          18537,
          59852,
          1343,
          117808,
          88771,
          136988,
          4012,
          104576,
          373730,
          3758,
          5736,
          4145,
          3991,
          16031,
          9324,
          12368,
          4736,
          6581,
          2293539,
          70732,
          170664,
          33212,
          7368,
          345740,
          113834,
          18818,
          24222,
          5271,
          5112,
          127223,
          19578,
          38803,
          1418,
          18819,
          2868,
          3599,
          130670,
          59221,
          1625,
          60768,
          17097269,
          11672,
          134,
          938,
          13248,
          9810,
          3415,
          146241,
          6714,
          30665,
          29162,
          10216,
          3211,
          1718,
          1170512,
          2446862,
          23912,
          20639,
          18590,
          343167,
          4546,
          45475,
          131442,
          12366,
          1147,
          20795,
          7161,
          10170,
          19835,
          5434,
          837331,
          32926,
          744915,
          14974,
          243816,
          1049,
          283,
          121099,
          47601,
          3532,
          8195,
          110438,
          4714,
          825,
          15938,
          59062,
          23,
          28316,
          8685,
          4767,
          9741,
          65822,
          72952,
          159047,
          69816,
          6124,
          20138,
          2942,
          24626,
          43633,
          8263,
          22782,
          50383,
          4326,
          8868,
          23099,
          9598,
          27973,
          17857,
          13396,
          167833,
          36776,
          26955
         ],
         "xaxis": "x",
         "yaxis": "y"
        }
       ],
       "layout": {
        "barmode": "relative",
        "legend": {
         "tracegroupgap": 0
        },
        "margin": {
         "t": 60
        },
        "template": {
         "data": {
          "bar": [
           {
            "error_x": {
             "color": "#2a3f5f"
            },
            "error_y": {
             "color": "#2a3f5f"
            },
            "marker": {
             "line": {
              "color": "#E5ECF6",
              "width": 0.5
             },
             "pattern": {
              "fillmode": "overlay",
              "size": 10,
              "solidity": 0.2
             }
            },
            "type": "bar"
           }
          ],
          "barpolar": [
           {
            "marker": {
             "line": {
              "color": "#E5ECF6",
              "width": 0.5
             },
             "pattern": {
              "fillmode": "overlay",
              "size": 10,
              "solidity": 0.2
             }
            },
            "type": "barpolar"
           }
          ],
          "carpet": [
           {
            "aaxis": {
             "endlinecolor": "#2a3f5f",
             "gridcolor": "white",
             "linecolor": "white",
             "minorgridcolor": "white",
             "startlinecolor": "#2a3f5f"
            },
            "baxis": {
             "endlinecolor": "#2a3f5f",
             "gridcolor": "white",
             "linecolor": "white",
             "minorgridcolor": "white",
             "startlinecolor": "#2a3f5f"
            },
            "type": "carpet"
           }
          ],
          "choropleth": [
           {
            "colorbar": {
             "outlinewidth": 0,
             "ticks": ""
            },
            "type": "choropleth"
           }
          ],
          "contour": [
           {
            "colorbar": {
             "outlinewidth": 0,
             "ticks": ""
            },
            "colorscale": [
             [
              0,
              "#0d0887"
             ],
             [
              0.1111111111111111,
              "#46039f"
             ],
             [
              0.2222222222222222,
              "#7201a8"
             ],
             [
              0.3333333333333333,
              "#9c179e"
             ],
             [
              0.4444444444444444,
              "#bd3786"
             ],
             [
              0.5555555555555556,
              "#d8576b"
             ],
             [
              0.6666666666666666,
              "#ed7953"
             ],
             [
              0.7777777777777778,
              "#fb9f3a"
             ],
             [
              0.8888888888888888,
              "#fdca26"
             ],
             [
              1,
              "#f0f921"
             ]
            ],
            "type": "contour"
           }
          ],
          "contourcarpet": [
           {
            "colorbar": {
             "outlinewidth": 0,
             "ticks": ""
            },
            "type": "contourcarpet"
           }
          ],
          "heatmap": [
           {
            "colorbar": {
             "outlinewidth": 0,
             "ticks": ""
            },
            "colorscale": [
             [
              0,
              "#0d0887"
             ],
             [
              0.1111111111111111,
              "#46039f"
             ],
             [
              0.2222222222222222,
              "#7201a8"
             ],
             [
              0.3333333333333333,
              "#9c179e"
             ],
             [
              0.4444444444444444,
              "#bd3786"
             ],
             [
              0.5555555555555556,
              "#d8576b"
             ],
             [
              0.6666666666666666,
              "#ed7953"
             ],
             [
              0.7777777777777778,
              "#fb9f3a"
             ],
             [
              0.8888888888888888,
              "#fdca26"
             ],
             [
              1,
              "#f0f921"
             ]
            ],
            "type": "heatmap"
           }
          ],
          "heatmapgl": [
           {
            "colorbar": {
             "outlinewidth": 0,
             "ticks": ""
            },
            "colorscale": [
             [
              0,
              "#0d0887"
             ],
             [
              0.1111111111111111,
              "#46039f"
             ],
             [
              0.2222222222222222,
              "#7201a8"
             ],
             [
              0.3333333333333333,
              "#9c179e"
             ],
             [
              0.4444444444444444,
              "#bd3786"
             ],
             [
              0.5555555555555556,
              "#d8576b"
             ],
             [
              0.6666666666666666,
              "#ed7953"
             ],
             [
              0.7777777777777778,
              "#fb9f3a"
             ],
             [
              0.8888888888888888,
              "#fdca26"
             ],
             [
              1,
              "#f0f921"
             ]
            ],
            "type": "heatmapgl"
           }
          ],
          "histogram": [
           {
            "marker": {
             "pattern": {
              "fillmode": "overlay",
              "size": 10,
              "solidity": 0.2
             }
            },
            "type": "histogram"
           }
          ],
          "histogram2d": [
           {
            "colorbar": {
             "outlinewidth": 0,
             "ticks": ""
            },
            "colorscale": [
             [
              0,
              "#0d0887"
             ],
             [
              0.1111111111111111,
              "#46039f"
             ],
             [
              0.2222222222222222,
              "#7201a8"
             ],
             [
              0.3333333333333333,
              "#9c179e"
             ],
             [
              0.4444444444444444,
              "#bd3786"
             ],
             [
              0.5555555555555556,
              "#d8576b"
             ],
             [
              0.6666666666666666,
              "#ed7953"
             ],
             [
              0.7777777777777778,
              "#fb9f3a"
             ],
             [
              0.8888888888888888,
              "#fdca26"
             ],
             [
              1,
              "#f0f921"
             ]
            ],
            "type": "histogram2d"
           }
          ],
          "histogram2dcontour": [
           {
            "colorbar": {
             "outlinewidth": 0,
             "ticks": ""
            },
            "colorscale": [
             [
              0,
              "#0d0887"
             ],
             [
              0.1111111111111111,
              "#46039f"
             ],
             [
              0.2222222222222222,
              "#7201a8"
             ],
             [
              0.3333333333333333,
              "#9c179e"
             ],
             [
              0.4444444444444444,
              "#bd3786"
             ],
             [
              0.5555555555555556,
              "#d8576b"
             ],
             [
              0.6666666666666666,
              "#ed7953"
             ],
             [
              0.7777777777777778,
              "#fb9f3a"
             ],
             [
              0.8888888888888888,
              "#fdca26"
             ],
             [
              1,
              "#f0f921"
             ]
            ],
            "type": "histogram2dcontour"
           }
          ],
          "mesh3d": [
           {
            "colorbar": {
             "outlinewidth": 0,
             "ticks": ""
            },
            "type": "mesh3d"
           }
          ],
          "parcoords": [
           {
            "line": {
             "colorbar": {
              "outlinewidth": 0,
              "ticks": ""
             }
            },
            "type": "parcoords"
           }
          ],
          "pie": [
           {
            "automargin": true,
            "type": "pie"
           }
          ],
          "scatter": [
           {
            "marker": {
             "colorbar": {
              "outlinewidth": 0,
              "ticks": ""
             }
            },
            "type": "scatter"
           }
          ],
          "scatter3d": [
           {
            "line": {
             "colorbar": {
              "outlinewidth": 0,
              "ticks": ""
             }
            },
            "marker": {
             "colorbar": {
              "outlinewidth": 0,
              "ticks": ""
             }
            },
            "type": "scatter3d"
           }
          ],
          "scattercarpet": [
           {
            "marker": {
             "colorbar": {
              "outlinewidth": 0,
              "ticks": ""
             }
            },
            "type": "scattercarpet"
           }
          ],
          "scattergeo": [
           {
            "marker": {
             "colorbar": {
              "outlinewidth": 0,
              "ticks": ""
             }
            },
            "type": "scattergeo"
           }
          ],
          "scattergl": [
           {
            "marker": {
             "colorbar": {
              "outlinewidth": 0,
              "ticks": ""
             }
            },
            "type": "scattergl"
           }
          ],
          "scattermapbox": [
           {
            "marker": {
             "colorbar": {
              "outlinewidth": 0,
              "ticks": ""
             }
            },
            "type": "scattermapbox"
           }
          ],
          "scatterpolar": [
           {
            "marker": {
             "colorbar": {
              "outlinewidth": 0,
              "ticks": ""
             }
            },
            "type": "scatterpolar"
           }
          ],
          "scatterpolargl": [
           {
            "marker": {
             "colorbar": {
              "outlinewidth": 0,
              "ticks": ""
             }
            },
            "type": "scatterpolargl"
           }
          ],
          "scatterternary": [
           {
            "marker": {
             "colorbar": {
              "outlinewidth": 0,
              "ticks": ""
             }
            },
            "type": "scatterternary"
           }
          ],
          "surface": [
           {
            "colorbar": {
             "outlinewidth": 0,
             "ticks": ""
            },
            "colorscale": [
             [
              0,
              "#0d0887"
             ],
             [
              0.1111111111111111,
              "#46039f"
             ],
             [
              0.2222222222222222,
              "#7201a8"
             ],
             [
              0.3333333333333333,
              "#9c179e"
             ],
             [
              0.4444444444444444,
              "#bd3786"
             ],
             [
              0.5555555555555556,
              "#d8576b"
             ],
             [
              0.6666666666666666,
              "#ed7953"
             ],
             [
              0.7777777777777778,
              "#fb9f3a"
             ],
             [
              0.8888888888888888,
              "#fdca26"
             ],
             [
              1,
              "#f0f921"
             ]
            ],
            "type": "surface"
           }
          ],
          "table": [
           {
            "cells": {
             "fill": {
              "color": "#EBF0F8"
             },
             "line": {
              "color": "white"
             }
            },
            "header": {
             "fill": {
              "color": "#C8D4E3"
             },
             "line": {
              "color": "white"
             }
            },
            "type": "table"
           }
          ]
         },
         "layout": {
          "annotationdefaults": {
           "arrowcolor": "#2a3f5f",
           "arrowhead": 0,
           "arrowwidth": 1
          },
          "autotypenumbers": "strict",
          "coloraxis": {
           "colorbar": {
            "outlinewidth": 0,
            "ticks": ""
           }
          },
          "colorscale": {
           "diverging": [
            [
             0,
             "#8e0152"
            ],
            [
             0.1,
             "#c51b7d"
            ],
            [
             0.2,
             "#de77ae"
            ],
            [
             0.3,
             "#f1b6da"
            ],
            [
             0.4,
             "#fde0ef"
            ],
            [
             0.5,
             "#f7f7f7"
            ],
            [
             0.6,
             "#e6f5d0"
            ],
            [
             0.7,
             "#b8e186"
            ],
            [
             0.8,
             "#7fbc41"
            ],
            [
             0.9,
             "#4d9221"
            ],
            [
             1,
             "#276419"
            ]
           ],
           "sequential": [
            [
             0,
             "#0d0887"
            ],
            [
             0.1111111111111111,
             "#46039f"
            ],
            [
             0.2222222222222222,
             "#7201a8"
            ],
            [
             0.3333333333333333,
             "#9c179e"
            ],
            [
             0.4444444444444444,
             "#bd3786"
            ],
            [
             0.5555555555555556,
             "#d8576b"
            ],
            [
             0.6666666666666666,
             "#ed7953"
            ],
            [
             0.7777777777777778,
             "#fb9f3a"
            ],
            [
             0.8888888888888888,
             "#fdca26"
            ],
            [
             1,
             "#f0f921"
            ]
           ],
           "sequentialminus": [
            [
             0,
             "#0d0887"
            ],
            [
             0.1111111111111111,
             "#46039f"
            ],
            [
             0.2222222222222222,
             "#7201a8"
            ],
            [
             0.3333333333333333,
             "#9c179e"
            ],
            [
             0.4444444444444444,
             "#bd3786"
            ],
            [
             0.5555555555555556,
             "#d8576b"
            ],
            [
             0.6666666666666666,
             "#ed7953"
            ],
            [
             0.7777777777777778,
             "#fb9f3a"
            ],
            [
             0.8888888888888888,
             "#fdca26"
            ],
            [
             1,
             "#f0f921"
            ]
           ]
          },
          "colorway": [
           "#636efa",
           "#EF553B",
           "#00cc96",
           "#ab63fa",
           "#FFA15A",
           "#19d3f3",
           "#FF6692",
           "#B6E880",
           "#FF97FF",
           "#FECB52"
          ],
          "font": {
           "color": "#2a3f5f"
          },
          "geo": {
           "bgcolor": "white",
           "lakecolor": "white",
           "landcolor": "#E5ECF6",
           "showlakes": true,
           "showland": true,
           "subunitcolor": "white"
          },
          "hoverlabel": {
           "align": "left"
          },
          "hovermode": "closest",
          "mapbox": {
           "style": "light"
          },
          "paper_bgcolor": "white",
          "plot_bgcolor": "#E5ECF6",
          "polar": {
           "angularaxis": {
            "gridcolor": "white",
            "linecolor": "white",
            "ticks": ""
           },
           "bgcolor": "#E5ECF6",
           "radialaxis": {
            "gridcolor": "white",
            "linecolor": "white",
            "ticks": ""
           }
          },
          "scene": {
           "xaxis": {
            "backgroundcolor": "#E5ECF6",
            "gridcolor": "white",
            "gridwidth": 2,
            "linecolor": "white",
            "showbackground": true,
            "ticks": "",
            "zerolinecolor": "white"
           },
           "yaxis": {
            "backgroundcolor": "#E5ECF6",
            "gridcolor": "white",
            "gridwidth": 2,
            "linecolor": "white",
            "showbackground": true,
            "ticks": "",
            "zerolinecolor": "white"
           },
           "zaxis": {
            "backgroundcolor": "#E5ECF6",
            "gridcolor": "white",
            "gridwidth": 2,
            "linecolor": "white",
            "showbackground": true,
            "ticks": "",
            "zerolinecolor": "white"
           }
          },
          "shapedefaults": {
           "line": {
            "color": "#2a3f5f"
           }
          },
          "ternary": {
           "aaxis": {
            "gridcolor": "white",
            "linecolor": "white",
            "ticks": ""
           },
           "baxis": {
            "gridcolor": "white",
            "linecolor": "white",
            "ticks": ""
           },
           "bgcolor": "#E5ECF6",
           "caxis": {
            "gridcolor": "white",
            "linecolor": "white",
            "ticks": ""
           }
          },
          "title": {
           "x": 0.05
          },
          "xaxis": {
           "automargin": true,
           "gridcolor": "white",
           "linecolor": "white",
           "ticks": "",
           "title": {
            "standoff": 15
           },
           "zerolinecolor": "white",
           "zerolinewidth": 2
          },
          "yaxis": {
           "automargin": true,
           "gridcolor": "white",
           "linecolor": "white",
           "ticks": "",
           "title": {
            "standoff": 15
           },
           "zerolinecolor": "white",
           "zerolinewidth": 2
          }
         }
        },
        "xaxis": {
         "anchor": "y",
         "domain": [
          0,
          1
         ],
         "title": {
          "text": "n_views"
         }
        },
        "yaxis": {
         "anchor": "x",
         "domain": [
          0,
          1
         ],
         "title": {
          "text": "count"
         }
        }
       }
      },
      "text/html": [
       "<div>                            <div id=\"0a43b752-6727-4dbc-a46a-d10681a4a563\" class=\"plotly-graph-div\" style=\"height:525px; width:100%;\"></div>            <script type=\"text/javascript\">                require([\"plotly\"], function(Plotly) {                    window.PLOTLYENV=window.PLOTLYENV || {};                                    if (document.getElementById(\"0a43b752-6727-4dbc-a46a-d10681a4a563\")) {                    Plotly.newPlot(                        \"0a43b752-6727-4dbc-a46a-d10681a4a563\",                        [{\"alignmentgroup\":\"True\",\"bingroup\":\"x\",\"hovertemplate\":\"n_views=%{x}<br>count=%{y}<extra></extra>\",\"legendgroup\":\"\",\"marker\":{\"color\":\"#636efa\",\"pattern\":{\"shape\":\"\"}},\"name\":\"\",\"offsetgroup\":\"\",\"orientation\":\"v\",\"showlegend\":false,\"type\":\"histogram\",\"x\":[5896,42160,14004,407453,92476,468241,6778,1380055,87339,265217,15919,423171,90949,11365,5698,18532,22741,35146,37441,39579,704756,4462,2676915,4358,97790,5094,610530,80688,3164893,51613,1017877,189481,7820,38530,15374,12000,25595,74282,401701,123162,684765,25922,12626,33859,1431956,974945,5015,184154,284516,132222,39841,35135,244650,3712,105346,315020,171854,120138,199034,176638,41076,1481619,1451680,32467,218481,32245,15462,206667,8089,97581,200347,70683,2762734,105829,189637,1057,67878,42777,4052,211190,15112,124752,8004,1366220,652016,40791,17069,160379,686559,724924,7002,211727,30755,25941,1006768,31027,138257,304430,201812,215683,21403,23066,3666,318,166790,154738,7680,680142,10842,664373,167,19752,52019,173608,179689,73767,34704,88384,116392,192428,1287083,1378923,173950,5548,49389,531366,14353,732577,1008070,262875,366690,47521,11059,54809,73520,102819,65271,95526,235869,69156,53630,204884,161922,65486,1612,9062,1742052,67268,965421,69122,2457,6906,410612,89665,103285,4851,43727,10650,73115,6439,487636,704847,17989,33250,246069,69089,68380,41191,27161,52380,37435,130180,180535,144383,50625,69982,138465,57359,139718,15829,1934,215013,11493,1576174,8403,36672,367541,331002,118669,164621,77689,42230,41765,9402370,3077,328780,306650,148199,554541,69384,1645,246473,531099,212260,31979,281596,96928,141344,315667,293590,27722,200238,546922,314644,120980,54468,112628,49400,184897,949099,331746,163396,159723,529669,153320,2426,233523,140184,249545,49711,20810,191767,1326751,65195,2451003,48056,799887,129167,8379,666789,37588,27562,73583,336,67854,9750,6626,120,31497,213,123345,413634,16629,1211,4612,3612,636,88742,138268,90079,117514,65344,32784,14000,22049,73110,8743,7203,180395,907847,1545,233,1258,20794,255,23206,18175,31423,214558,1890,87734,56691,119356,82762,291,18879,38230,452957,79482,25773,12457,6563,124,37490,69175,234517,826,77409,190764,6778,2231423,116415,27611,3385,942,7831,325736,25650,214118,28698,2284944,92315,1009,45973,764662,1684,17906,20126,76343,29829,118277,1560,2165,24001,10267,7043,45128,3573,26788,92566,6221,48835,153631,80668,28365,17244,8540,21687,31494,24724,77744,122851,119,59917,202347,103458,30301,1636,10973,3082,4485,6136,36575,3744,10654,66511,4767,225,97696,301945,22031,42220,166407,1738,15333,78315,190762,6155,55858,19149,553450,31195,26450,138525,370650,23123,4942871,293499,44124,35686,12137,92548,11595,4286,129362,86694,433050,257260,2434,17429,90110984,80060,1747,14,102543,48679,9817,266754,342,50199,160664,23374,91279,18312,15932,25622,14153,92396,24447,73810,35315,591880,2529,1314,401482,3972,17269,4665,26148,9800,2292,17073,110195,572,7039,227816,1955,76,508,67244,14545,6177,371872,125753,10057,1243,6946,9446,776879,133646,176899,4936,93911,21173,5972,19639,724,195349,28269,24951,494168,42522,20612790,892,72,22432,161633,527665,119215,2430,880,55649,204807,224018,292697,5864,30975,415915,14043,12402,1015,65768,9431,9357,54975,470592,49326,2628,21225,10503,276,42540987,1700671,18537,59852,1343,117808,88771,136988,4012,104576,373730,3758,5736,4145,3991,16031,9324,12368,4736,6581,2293539,70732,170664,33212,7368,345740,113834,18818,24222,5271,5112,127223,19578,38803,1418,18819,2868,3599,130670,59221,1625,60768,17097269,11672,134,938,13248,9810,3415,146241,6714,30665,29162,10216,3211,1718,1170512,2446862,23912,20639,18590,343167,4546,45475,131442,12366,1147,20795,7161,10170,19835,5434,837331,32926,744915,14974,243816,1049,283,121099,47601,3532,8195,110438,4714,825,15938,59062,23,28316,8685,4767,9741,65822,72952,159047,69816,6124,20138,2942,24626,43633,8263,22782,50383,4326,8868,23099,9598,27973,17857,13396,167833,36776,26955],\"xaxis\":\"x\",\"yaxis\":\"y\"}],                        {\"barmode\":\"relative\",\"legend\":{\"tracegroupgap\":0},\"margin\":{\"t\":60},\"template\":{\"data\":{\"bar\":[{\"error_x\":{\"color\":\"#2a3f5f\"},\"error_y\":{\"color\":\"#2a3f5f\"},\"marker\":{\"line\":{\"color\":\"#E5ECF6\",\"width\":0.5},\"pattern\":{\"fillmode\":\"overlay\",\"size\":10,\"solidity\":0.2}},\"type\":\"bar\"}],\"barpolar\":[{\"marker\":{\"line\":{\"color\":\"#E5ECF6\",\"width\":0.5},\"pattern\":{\"fillmode\":\"overlay\",\"size\":10,\"solidity\":0.2}},\"type\":\"barpolar\"}],\"carpet\":[{\"aaxis\":{\"endlinecolor\":\"#2a3f5f\",\"gridcolor\":\"white\",\"linecolor\":\"white\",\"minorgridcolor\":\"white\",\"startlinecolor\":\"#2a3f5f\"},\"baxis\":{\"endlinecolor\":\"#2a3f5f\",\"gridcolor\":\"white\",\"linecolor\":\"white\",\"minorgridcolor\":\"white\",\"startlinecolor\":\"#2a3f5f\"},\"type\":\"carpet\"}],\"choropleth\":[{\"colorbar\":{\"outlinewidth\":0,\"ticks\":\"\"},\"type\":\"choropleth\"}],\"contour\":[{\"colorbar\":{\"outlinewidth\":0,\"ticks\":\"\"},\"colorscale\":[[0.0,\"#0d0887\"],[0.1111111111111111,\"#46039f\"],[0.2222222222222222,\"#7201a8\"],[0.3333333333333333,\"#9c179e\"],[0.4444444444444444,\"#bd3786\"],[0.5555555555555556,\"#d8576b\"],[0.6666666666666666,\"#ed7953\"],[0.7777777777777778,\"#fb9f3a\"],[0.8888888888888888,\"#fdca26\"],[1.0,\"#f0f921\"]],\"type\":\"contour\"}],\"contourcarpet\":[{\"colorbar\":{\"outlinewidth\":0,\"ticks\":\"\"},\"type\":\"contourcarpet\"}],\"heatmap\":[{\"colorbar\":{\"outlinewidth\":0,\"ticks\":\"\"},\"colorscale\":[[0.0,\"#0d0887\"],[0.1111111111111111,\"#46039f\"],[0.2222222222222222,\"#7201a8\"],[0.3333333333333333,\"#9c179e\"],[0.4444444444444444,\"#bd3786\"],[0.5555555555555556,\"#d8576b\"],[0.6666666666666666,\"#ed7953\"],[0.7777777777777778,\"#fb9f3a\"],[0.8888888888888888,\"#fdca26\"],[1.0,\"#f0f921\"]],\"type\":\"heatmap\"}],\"heatmapgl\":[{\"colorbar\":{\"outlinewidth\":0,\"ticks\":\"\"},\"colorscale\":[[0.0,\"#0d0887\"],[0.1111111111111111,\"#46039f\"],[0.2222222222222222,\"#7201a8\"],[0.3333333333333333,\"#9c179e\"],[0.4444444444444444,\"#bd3786\"],[0.5555555555555556,\"#d8576b\"],[0.6666666666666666,\"#ed7953\"],[0.7777777777777778,\"#fb9f3a\"],[0.8888888888888888,\"#fdca26\"],[1.0,\"#f0f921\"]],\"type\":\"heatmapgl\"}],\"histogram\":[{\"marker\":{\"pattern\":{\"fillmode\":\"overlay\",\"size\":10,\"solidity\":0.2}},\"type\":\"histogram\"}],\"histogram2d\":[{\"colorbar\":{\"outlinewidth\":0,\"ticks\":\"\"},\"colorscale\":[[0.0,\"#0d0887\"],[0.1111111111111111,\"#46039f\"],[0.2222222222222222,\"#7201a8\"],[0.3333333333333333,\"#9c179e\"],[0.4444444444444444,\"#bd3786\"],[0.5555555555555556,\"#d8576b\"],[0.6666666666666666,\"#ed7953\"],[0.7777777777777778,\"#fb9f3a\"],[0.8888888888888888,\"#fdca26\"],[1.0,\"#f0f921\"]],\"type\":\"histogram2d\"}],\"histogram2dcontour\":[{\"colorbar\":{\"outlinewidth\":0,\"ticks\":\"\"},\"colorscale\":[[0.0,\"#0d0887\"],[0.1111111111111111,\"#46039f\"],[0.2222222222222222,\"#7201a8\"],[0.3333333333333333,\"#9c179e\"],[0.4444444444444444,\"#bd3786\"],[0.5555555555555556,\"#d8576b\"],[0.6666666666666666,\"#ed7953\"],[0.7777777777777778,\"#fb9f3a\"],[0.8888888888888888,\"#fdca26\"],[1.0,\"#f0f921\"]],\"type\":\"histogram2dcontour\"}],\"mesh3d\":[{\"colorbar\":{\"outlinewidth\":0,\"ticks\":\"\"},\"type\":\"mesh3d\"}],\"parcoords\":[{\"line\":{\"colorbar\":{\"outlinewidth\":0,\"ticks\":\"\"}},\"type\":\"parcoords\"}],\"pie\":[{\"automargin\":true,\"type\":\"pie\"}],\"scatter\":[{\"marker\":{\"colorbar\":{\"outlinewidth\":0,\"ticks\":\"\"}},\"type\":\"scatter\"}],\"scatter3d\":[{\"line\":{\"colorbar\":{\"outlinewidth\":0,\"ticks\":\"\"}},\"marker\":{\"colorbar\":{\"outlinewidth\":0,\"ticks\":\"\"}},\"type\":\"scatter3d\"}],\"scattercarpet\":[{\"marker\":{\"colorbar\":{\"outlinewidth\":0,\"ticks\":\"\"}},\"type\":\"scattercarpet\"}],\"scattergeo\":[{\"marker\":{\"colorbar\":{\"outlinewidth\":0,\"ticks\":\"\"}},\"type\":\"scattergeo\"}],\"scattergl\":[{\"marker\":{\"colorbar\":{\"outlinewidth\":0,\"ticks\":\"\"}},\"type\":\"scattergl\"}],\"scattermapbox\":[{\"marker\":{\"colorbar\":{\"outlinewidth\":0,\"ticks\":\"\"}},\"type\":\"scattermapbox\"}],\"scatterpolar\":[{\"marker\":{\"colorbar\":{\"outlinewidth\":0,\"ticks\":\"\"}},\"type\":\"scatterpolar\"}],\"scatterpolargl\":[{\"marker\":{\"colorbar\":{\"outlinewidth\":0,\"ticks\":\"\"}},\"type\":\"scatterpolargl\"}],\"scatterternary\":[{\"marker\":{\"colorbar\":{\"outlinewidth\":0,\"ticks\":\"\"}},\"type\":\"scatterternary\"}],\"surface\":[{\"colorbar\":{\"outlinewidth\":0,\"ticks\":\"\"},\"colorscale\":[[0.0,\"#0d0887\"],[0.1111111111111111,\"#46039f\"],[0.2222222222222222,\"#7201a8\"],[0.3333333333333333,\"#9c179e\"],[0.4444444444444444,\"#bd3786\"],[0.5555555555555556,\"#d8576b\"],[0.6666666666666666,\"#ed7953\"],[0.7777777777777778,\"#fb9f3a\"],[0.8888888888888888,\"#fdca26\"],[1.0,\"#f0f921\"]],\"type\":\"surface\"}],\"table\":[{\"cells\":{\"fill\":{\"color\":\"#EBF0F8\"},\"line\":{\"color\":\"white\"}},\"header\":{\"fill\":{\"color\":\"#C8D4E3\"},\"line\":{\"color\":\"white\"}},\"type\":\"table\"}]},\"layout\":{\"annotationdefaults\":{\"arrowcolor\":\"#2a3f5f\",\"arrowhead\":0,\"arrowwidth\":1},\"autotypenumbers\":\"strict\",\"coloraxis\":{\"colorbar\":{\"outlinewidth\":0,\"ticks\":\"\"}},\"colorscale\":{\"diverging\":[[0,\"#8e0152\"],[0.1,\"#c51b7d\"],[0.2,\"#de77ae\"],[0.3,\"#f1b6da\"],[0.4,\"#fde0ef\"],[0.5,\"#f7f7f7\"],[0.6,\"#e6f5d0\"],[0.7,\"#b8e186\"],[0.8,\"#7fbc41\"],[0.9,\"#4d9221\"],[1,\"#276419\"]],\"sequential\":[[0.0,\"#0d0887\"],[0.1111111111111111,\"#46039f\"],[0.2222222222222222,\"#7201a8\"],[0.3333333333333333,\"#9c179e\"],[0.4444444444444444,\"#bd3786\"],[0.5555555555555556,\"#d8576b\"],[0.6666666666666666,\"#ed7953\"],[0.7777777777777778,\"#fb9f3a\"],[0.8888888888888888,\"#fdca26\"],[1.0,\"#f0f921\"]],\"sequentialminus\":[[0.0,\"#0d0887\"],[0.1111111111111111,\"#46039f\"],[0.2222222222222222,\"#7201a8\"],[0.3333333333333333,\"#9c179e\"],[0.4444444444444444,\"#bd3786\"],[0.5555555555555556,\"#d8576b\"],[0.6666666666666666,\"#ed7953\"],[0.7777777777777778,\"#fb9f3a\"],[0.8888888888888888,\"#fdca26\"],[1.0,\"#f0f921\"]]},\"colorway\":[\"#636efa\",\"#EF553B\",\"#00cc96\",\"#ab63fa\",\"#FFA15A\",\"#19d3f3\",\"#FF6692\",\"#B6E880\",\"#FF97FF\",\"#FECB52\"],\"font\":{\"color\":\"#2a3f5f\"},\"geo\":{\"bgcolor\":\"white\",\"lakecolor\":\"white\",\"landcolor\":\"#E5ECF6\",\"showlakes\":true,\"showland\":true,\"subunitcolor\":\"white\"},\"hoverlabel\":{\"align\":\"left\"},\"hovermode\":\"closest\",\"mapbox\":{\"style\":\"light\"},\"paper_bgcolor\":\"white\",\"plot_bgcolor\":\"#E5ECF6\",\"polar\":{\"angularaxis\":{\"gridcolor\":\"white\",\"linecolor\":\"white\",\"ticks\":\"\"},\"bgcolor\":\"#E5ECF6\",\"radialaxis\":{\"gridcolor\":\"white\",\"linecolor\":\"white\",\"ticks\":\"\"}},\"scene\":{\"xaxis\":{\"backgroundcolor\":\"#E5ECF6\",\"gridcolor\":\"white\",\"gridwidth\":2,\"linecolor\":\"white\",\"showbackground\":true,\"ticks\":\"\",\"zerolinecolor\":\"white\"},\"yaxis\":{\"backgroundcolor\":\"#E5ECF6\",\"gridcolor\":\"white\",\"gridwidth\":2,\"linecolor\":\"white\",\"showbackground\":true,\"ticks\":\"\",\"zerolinecolor\":\"white\"},\"zaxis\":{\"backgroundcolor\":\"#E5ECF6\",\"gridcolor\":\"white\",\"gridwidth\":2,\"linecolor\":\"white\",\"showbackground\":true,\"ticks\":\"\",\"zerolinecolor\":\"white\"}},\"shapedefaults\":{\"line\":{\"color\":\"#2a3f5f\"}},\"ternary\":{\"aaxis\":{\"gridcolor\":\"white\",\"linecolor\":\"white\",\"ticks\":\"\"},\"baxis\":{\"gridcolor\":\"white\",\"linecolor\":\"white\",\"ticks\":\"\"},\"bgcolor\":\"#E5ECF6\",\"caxis\":{\"gridcolor\":\"white\",\"linecolor\":\"white\",\"ticks\":\"\"}},\"title\":{\"x\":0.05},\"xaxis\":{\"automargin\":true,\"gridcolor\":\"white\",\"linecolor\":\"white\",\"ticks\":\"\",\"title\":{\"standoff\":15},\"zerolinecolor\":\"white\",\"zerolinewidth\":2},\"yaxis\":{\"automargin\":true,\"gridcolor\":\"white\",\"linecolor\":\"white\",\"ticks\":\"\",\"title\":{\"standoff\":15},\"zerolinecolor\":\"white\",\"zerolinewidth\":2}}},\"xaxis\":{\"anchor\":\"y\",\"domain\":[0.0,1.0],\"title\":{\"text\":\"n_views\"}},\"yaxis\":{\"anchor\":\"x\",\"domain\":[0.0,1.0],\"title\":{\"text\":\"count\"}}},                        {\"responsive\": true}                    ).then(function(){\n",
       "                            \n",
       "var gd = document.getElementById('0a43b752-6727-4dbc-a46a-d10681a4a563');\n",
       "var x = new MutationObserver(function (mutations, observer) {{\n",
       "        var display = window.getComputedStyle(gd).display;\n",
       "        if (!display || display === 'none') {{\n",
       "            console.log([gd, 'removed!']);\n",
       "            Plotly.purge(gd);\n",
       "            observer.disconnect();\n",
       "        }}\n",
       "}});\n",
       "\n",
       "// Listen for the removal of the full notebook cells\n",
       "var notebookContainer = gd.closest('#notebook-container');\n",
       "if (notebookContainer) {{\n",
       "    x.observe(notebookContainer, {childList: true});\n",
       "}}\n",
       "\n",
       "// Listen for the clearing of the current output cell\n",
       "var outputEl = gd.closest('.output');\n",
       "if (outputEl) {{\n",
       "    x.observe(outputEl, {childList: true});\n",
       "}}\n",
       "\n",
       "                        })                };                });            </script>        </div>"
      ]
     },
     "metadata": {},
     "output_type": "display_data"
    }
   ],
   "source": [
    "plot(df_videos_dec_urls, \"n_views\")"
   ]
  },
  {
   "cell_type": "code",
   "execution_count": 166,
   "id": "eaaf0fbc",
   "metadata": {},
   "outputs": [
    {
     "data": {
      "text/plain": [
       "596"
      ]
     },
     "execution_count": 166,
     "metadata": {},
     "output_type": "execute_result"
    }
   ],
   "source": [
    "df_videos_dec_urls.shape[0]"
   ]
  },
  {
   "cell_type": "code",
   "execution_count": 182,
   "id": "45ef86ad",
   "metadata": {},
   "outputs": [],
   "source": [
    "df_videos_dec_urls_top_views = df_videos_dec_urls[df_videos_dec_urls.n_views > 100000]"
   ]
  },
  {
   "cell_type": "code",
   "execution_count": 183,
   "id": "092790af",
   "metadata": {},
   "outputs": [],
   "source": [
    "df_videos_dec_urls_top_views.sort_values(\"n_views\", ascending=False, inplace=True)"
   ]
  },
  {
   "cell_type": "code",
   "execution_count": 184,
   "id": "2091ddef",
   "metadata": {},
   "outputs": [],
   "source": [
    "df_videos_dec_urls_top_views = df_videos_dec_urls_top_views[[\"urls\", \"n_views\"]][\n",
    "    ~df_videos_dec_urls_top_views[[\"urls\", \"n_views\"]].duplicated()\n",
    "]"
   ]
  },
  {
   "cell_type": "code",
   "execution_count": 185,
   "id": "008bfcec",
   "metadata": {},
   "outputs": [],
   "source": [
    "fix(df_videos_dec_urls_top_views)"
   ]
  },
  {
   "cell_type": "code",
   "execution_count": 186,
   "id": "cbbba603",
   "metadata": {},
   "outputs": [
    {
     "data": {
      "text/html": [
       "<div>\n",
       "<style scoped>\n",
       "    .dataframe tbody tr th:only-of-type {\n",
       "        vertical-align: middle;\n",
       "    }\n",
       "\n",
       "    .dataframe tbody tr th {\n",
       "        vertical-align: top;\n",
       "    }\n",
       "\n",
       "    .dataframe thead th {\n",
       "        text-align: right;\n",
       "    }\n",
       "</style>\n",
       "<table border=\"1\" class=\"dataframe\">\n",
       "  <thead>\n",
       "    <tr style=\"text-align: right;\">\n",
       "      <th></th>\n",
       "      <th>urls</th>\n",
       "      <th>n_views</th>\n",
       "      <th>n_urls</th>\n",
       "    </tr>\n",
       "  </thead>\n",
       "  <tbody>\n",
       "    <tr>\n",
       "      <th>390</th>\n",
       "      <td>[http://wwe.yt/wwenetwork, http://wwe.yt/, htt...</td>\n",
       "      <td>90110984</td>\n",
       "      <td>16</td>\n",
       "    </tr>\n",
       "    <tr>\n",
       "      <th>481</th>\n",
       "      <td>[https://madisonbeer.lnk.to/selfish, https://w...</td>\n",
       "      <td>42540987</td>\n",
       "      <td>4</td>\n",
       "    </tr>\n",
       "    <tr>\n",
       "      <th>452</th>\n",
       "      <td>[https://www.youtube.com/watch?v=-t_pzplyvag]</td>\n",
       "      <td>20612790</td>\n",
       "      <td>1</td>\n",
       "    </tr>\n",
       "    <tr>\n",
       "      <th>523</th>\n",
       "      <td>[https://supr.cl/playbrawl, https://supr.cl/su...</td>\n",
       "      <td>17097269</td>\n",
       "      <td>7</td>\n",
       "    </tr>\n",
       "    <tr>\n",
       "      <th>193</th>\n",
       "      <td>[https://youtu.be/hwkb80xzdus]</td>\n",
       "      <td>9402370</td>\n",
       "      <td>1</td>\n",
       "    </tr>\n",
       "    <tr>\n",
       "      <th>...</th>\n",
       "      <td>...</td>\n",
       "      <td>...</td>\n",
       "      <td>...</td>\n",
       "    </tr>\n",
       "    <tr>\n",
       "      <th>490</th>\n",
       "      <td>[https://www.ridgewallet.com/?utm_source=refer...</td>\n",
       "      <td>104576</td>\n",
       "      <td>4</td>\n",
       "    </tr>\n",
       "    <tr>\n",
       "      <th>345</th>\n",
       "      <td>[https://www.indiegogo.com/projects/another-ca...</td>\n",
       "      <td>103458</td>\n",
       "      <td>3</td>\n",
       "    </tr>\n",
       "    <tr>\n",
       "      <th>154</th>\n",
       "      <td>[https://bit.ly/2txttsd, https://bit.ly/2svhcu...</td>\n",
       "      <td>103285</td>\n",
       "      <td>5</td>\n",
       "    </tr>\n",
       "    <tr>\n",
       "      <th>135</th>\n",
       "      <td>[http://bit.ly/2xb5cqa, https://www.youtube.co...</td>\n",
       "      <td>102819</td>\n",
       "      <td>7</td>\n",
       "    </tr>\n",
       "    <tr>\n",
       "      <th>394</th>\n",
       "      <td>[https://www.youtube.com/channel/ucfwe_odi1ytb...</td>\n",
       "      <td>102543</td>\n",
       "      <td>1</td>\n",
       "    </tr>\n",
       "  </tbody>\n",
       "</table>\n",
       "<p>200 rows × 3 columns</p>\n",
       "</div>"
      ],
      "text/plain": [
       "                                                  urls   n_views  n_urls\n",
       "390  [http://wwe.yt/wwenetwork, http://wwe.yt/, htt...  90110984      16\n",
       "481  [https://madisonbeer.lnk.to/selfish, https://w...  42540987       4\n",
       "452      [https://www.youtube.com/watch?v=-t_pzplyvag]  20612790       1\n",
       "523  [https://supr.cl/playbrawl, https://supr.cl/su...  17097269       7\n",
       "193                     [https://youtu.be/hwkb80xzdus]   9402370       1\n",
       "..                                                 ...       ...     ...\n",
       "490  [https://www.ridgewallet.com/?utm_source=refer...    104576       4\n",
       "345  [https://www.indiegogo.com/projects/another-ca...    103458       3\n",
       "154  [https://bit.ly/2txttsd, https://bit.ly/2svhcu...    103285       5\n",
       "135  [http://bit.ly/2xb5cqa, https://www.youtube.co...    102819       7\n",
       "394  [https://www.youtube.com/channel/ucfwe_odi1ytb...    102543       1\n",
       "\n",
       "[200 rows x 3 columns]"
      ]
     },
     "execution_count": 186,
     "metadata": {},
     "output_type": "execute_result"
    }
   ],
   "source": [
    "df_videos_dec_urls_top_views"
   ]
  },
  {
   "cell_type": "code",
   "execution_count": 187,
   "id": "510351cc",
   "metadata": {},
   "outputs": [],
   "source": [
    "df_videos_dec_urls_top_views_one = one_url_df(df_videos_dec_urls_top_views)\n",
    "df_videos_dec_urls_top_views_more = more_url_df(df_videos_dec_urls_top_views, \"n_views\")"
   ]
  },
  {
   "cell_type": "code",
   "execution_count": 189,
   "id": "4211ca8c",
   "metadata": {},
   "outputs": [],
   "source": [
    "un(df_videos_dec_urls_top_views_one)"
   ]
  },
  {
   "cell_type": "code",
   "execution_count": 190,
   "id": "ff2bbe9e",
   "metadata": {},
   "outputs": [
    {
     "data": {
      "text/html": [
       "<div>\n",
       "<style scoped>\n",
       "    .dataframe tbody tr th:only-of-type {\n",
       "        vertical-align: middle;\n",
       "    }\n",
       "\n",
       "    .dataframe tbody tr th {\n",
       "        vertical-align: top;\n",
       "    }\n",
       "\n",
       "    .dataframe thead th {\n",
       "        text-align: right;\n",
       "    }\n",
       "</style>\n",
       "<table border=\"1\" class=\"dataframe\">\n",
       "  <thead>\n",
       "    <tr style=\"text-align: right;\">\n",
       "      <th></th>\n",
       "      <th>urls</th>\n",
       "      <th>n_views</th>\n",
       "      <th>n_urls</th>\n",
       "    </tr>\n",
       "  </thead>\n",
       "  <tbody>\n",
       "    <tr>\n",
       "      <th>0</th>\n",
       "      <td>http://wwe.yt/wwenetwork</td>\n",
       "      <td>90110984</td>\n",
       "      <td>16</td>\n",
       "    </tr>\n",
       "    <tr>\n",
       "      <th>1</th>\n",
       "      <td>http://wwe.yt/</td>\n",
       "      <td>90110984</td>\n",
       "      <td>16</td>\n",
       "    </tr>\n",
       "    <tr>\n",
       "      <th>2</th>\n",
       "      <td>http://goo.gl/akf0j4</td>\n",
       "      <td>90110984</td>\n",
       "      <td>16</td>\n",
       "    </tr>\n",
       "    <tr>\n",
       "      <th>3</th>\n",
       "      <td>http://www.wwe.com/sonysportsnetwork</td>\n",
       "      <td>90110984</td>\n",
       "      <td>16</td>\n",
       "    </tr>\n",
       "    <tr>\n",
       "      <th>4</th>\n",
       "      <td>http://shop.wwe.com</td>\n",
       "      <td>90110984</td>\n",
       "      <td>16</td>\n",
       "    </tr>\n",
       "    <tr>\n",
       "      <th>...</th>\n",
       "      <td>...</td>\n",
       "      <td>...</td>\n",
       "      <td>...</td>\n",
       "    </tr>\n",
       "    <tr>\n",
       "      <th>1208</th>\n",
       "      <td>https://bit.ly/3eprbkz</td>\n",
       "      <td>102819</td>\n",
       "      <td>7</td>\n",
       "    </tr>\n",
       "    <tr>\n",
       "      <th>1209</th>\n",
       "      <td>http://instagram.com/informoverload</td>\n",
       "      <td>102819</td>\n",
       "      <td>7</td>\n",
       "    </tr>\n",
       "    <tr>\n",
       "      <th>1210</th>\n",
       "      <td>https://twitter.com/informoverload</td>\n",
       "      <td>102819</td>\n",
       "      <td>7</td>\n",
       "    </tr>\n",
       "    <tr>\n",
       "      <th>1211</th>\n",
       "      <td>http://instagram.com/charlaychaplin</td>\n",
       "      <td>102819</td>\n",
       "      <td>7</td>\n",
       "    </tr>\n",
       "    <tr>\n",
       "      <th>1212</th>\n",
       "      <td>https://twitter.com/shippersguide</td>\n",
       "      <td>102819</td>\n",
       "      <td>7</td>\n",
       "    </tr>\n",
       "  </tbody>\n",
       "</table>\n",
       "<p>1203 rows × 3 columns</p>\n",
       "</div>"
      ],
      "text/plain": [
       "                                      urls   n_views  n_urls\n",
       "0                 http://wwe.yt/wwenetwork  90110984      16\n",
       "1                           http://wwe.yt/  90110984      16\n",
       "2                     http://goo.gl/akf0j4  90110984      16\n",
       "3     http://www.wwe.com/sonysportsnetwork  90110984      16\n",
       "4                      http://shop.wwe.com  90110984      16\n",
       "...                                    ...       ...     ...\n",
       "1208                https://bit.ly/3eprbkz    102819       7\n",
       "1209   http://instagram.com/informoverload    102819       7\n",
       "1210    https://twitter.com/informoverload    102819       7\n",
       "1211   http://instagram.com/charlaychaplin    102819       7\n",
       "1212     https://twitter.com/shippersguide    102819       7\n",
       "\n",
       "[1203 rows x 3 columns]"
      ]
     },
     "execution_count": 190,
     "metadata": {},
     "output_type": "execute_result"
    }
   ],
   "source": [
    "df_videos_dec_urls_top_views_more"
   ]
  },
  {
   "cell_type": "code",
   "execution_count": 191,
   "id": "dda4b943",
   "metadata": {},
   "outputs": [],
   "source": [
    "un(df_videos_dec_urls_top_views_more)"
   ]
  },
  {
   "cell_type": "code",
   "execution_count": 192,
   "id": "fb234cc0",
   "metadata": {},
   "outputs": [
    {
     "data": {
      "text/html": [
       "<div>\n",
       "<style scoped>\n",
       "    .dataframe tbody tr th:only-of-type {\n",
       "        vertical-align: middle;\n",
       "    }\n",
       "\n",
       "    .dataframe tbody tr th {\n",
       "        vertical-align: top;\n",
       "    }\n",
       "\n",
       "    .dataframe thead th {\n",
       "        text-align: right;\n",
       "    }\n",
       "</style>\n",
       "<table border=\"1\" class=\"dataframe\">\n",
       "  <thead>\n",
       "    <tr style=\"text-align: right;\">\n",
       "      <th></th>\n",
       "      <th>urls</th>\n",
       "      <th>n_views</th>\n",
       "      <th>n_urls</th>\n",
       "    </tr>\n",
       "  </thead>\n",
       "  <tbody>\n",
       "    <tr>\n",
       "      <th>0</th>\n",
       "      <td>http://wwe.yt/wwenetwork</td>\n",
       "      <td>90110984</td>\n",
       "      <td>16</td>\n",
       "    </tr>\n",
       "    <tr>\n",
       "      <th>1</th>\n",
       "      <td>http://wwe.yt/</td>\n",
       "      <td>90110984</td>\n",
       "      <td>16</td>\n",
       "    </tr>\n",
       "    <tr>\n",
       "      <th>2</th>\n",
       "      <td>http://goo.gl/akf0j4</td>\n",
       "      <td>90110984</td>\n",
       "      <td>16</td>\n",
       "    </tr>\n",
       "    <tr>\n",
       "      <th>3</th>\n",
       "      <td>https://www.sonypicturesnetworks.com/channels/...</td>\n",
       "      <td>90110984</td>\n",
       "      <td>16</td>\n",
       "    </tr>\n",
       "    <tr>\n",
       "      <th>4</th>\n",
       "      <td>https://shop.wwe.com/</td>\n",
       "      <td>90110984</td>\n",
       "      <td>16</td>\n",
       "    </tr>\n",
       "    <tr>\n",
       "      <th>...</th>\n",
       "      <td>...</td>\n",
       "      <td>...</td>\n",
       "      <td>...</td>\n",
       "    </tr>\n",
       "    <tr>\n",
       "      <th>1208</th>\n",
       "      <td>https://bit.ly/3eprbkz</td>\n",
       "      <td>102819</td>\n",
       "      <td>7</td>\n",
       "    </tr>\n",
       "    <tr>\n",
       "      <th>1209</th>\n",
       "      <td>http://instagram.com/informoverload</td>\n",
       "      <td>102819</td>\n",
       "      <td>7</td>\n",
       "    </tr>\n",
       "    <tr>\n",
       "      <th>1210</th>\n",
       "      <td>https://twitter.com/informoverload</td>\n",
       "      <td>102819</td>\n",
       "      <td>7</td>\n",
       "    </tr>\n",
       "    <tr>\n",
       "      <th>1211</th>\n",
       "      <td>http://instagram.com/charlaychaplin</td>\n",
       "      <td>102819</td>\n",
       "      <td>7</td>\n",
       "    </tr>\n",
       "    <tr>\n",
       "      <th>1212</th>\n",
       "      <td>https://twitter.com/shippersguide</td>\n",
       "      <td>102819</td>\n",
       "      <td>7</td>\n",
       "    </tr>\n",
       "  </tbody>\n",
       "</table>\n",
       "<p>1203 rows × 3 columns</p>\n",
       "</div>"
      ],
      "text/plain": [
       "                                                   urls   n_views  n_urls\n",
       "0                              http://wwe.yt/wwenetwork  90110984      16\n",
       "1                                        http://wwe.yt/  90110984      16\n",
       "2                                  http://goo.gl/akf0j4  90110984      16\n",
       "3     https://www.sonypicturesnetworks.com/channels/...  90110984      16\n",
       "4                                 https://shop.wwe.com/  90110984      16\n",
       "...                                                 ...       ...     ...\n",
       "1208                             https://bit.ly/3eprbkz    102819       7\n",
       "1209                http://instagram.com/informoverload    102819       7\n",
       "1210                 https://twitter.com/informoverload    102819       7\n",
       "1211                http://instagram.com/charlaychaplin    102819       7\n",
       "1212                  https://twitter.com/shippersguide    102819       7\n",
       "\n",
       "[1203 rows x 3 columns]"
      ]
     },
     "execution_count": 192,
     "metadata": {},
     "output_type": "execute_result"
    }
   ],
   "source": [
    "df_videos_dec_urls_top_views_more"
   ]
  },
  {
   "cell_type": "code",
   "execution_count": 193,
   "id": "81ec4f54",
   "metadata": {},
   "outputs": [],
   "source": [
    "df_videos_dec_urls_top_views_one.to_csv(\n",
    "yt_path + \"df_videos_dec_urls_top_views_one.csv\", index=False)\n",
    "\n",
    "df_videos_dec_urls_top_views_more.to_csv(\n",
    "yt_path + \"df_videos_dec_urls_top_views_more.csv\", index=False)"
   ]
  },
  {
   "cell_type": "code",
   "execution_count": 199,
   "id": "9e476b8b",
   "metadata": {},
   "outputs": [],
   "source": [
    "pd.concat(\n",
    "    [df_videos_dec_urls_top_views_one, df_videos_dec_urls_top_views_more]\n",
    ").sort_values(\"n_views\", ascending=False).drop_duplicates().to_csv(\n",
    "    yt_path + \"df_videos_dec_urls_top_views.csv\", index=False\n",
    ")"
   ]
  },
  {
   "cell_type": "markdown",
   "id": "799029a3",
   "metadata": {},
   "source": [
    "### n_dislikes"
   ]
  },
  {
   "cell_type": "code",
   "execution_count": 200,
   "id": "59700923",
   "metadata": {},
   "outputs": [
    {
     "data": {
      "text/plain": [
       "count       589.000000\n",
       "mean       1425.390492\n",
       "std       20105.164836\n",
       "min           0.000000\n",
       "25%          15.000000\n",
       "50%          52.000000\n",
       "75%         190.000000\n",
       "max      479614.000000\n",
       "Name: n_dislikes, dtype: float64"
      ]
     },
     "execution_count": 200,
     "metadata": {},
     "output_type": "execute_result"
    }
   ],
   "source": [
    "df_videos_dec_urls.n_dislikes.describe()"
   ]
  },
  {
   "cell_type": "code",
   "execution_count": 201,
   "id": "3e693962",
   "metadata": {},
   "outputs": [
    {
     "data": {
      "text/plain": [
       "479614.0"
      ]
     },
     "execution_count": 201,
     "metadata": {},
     "output_type": "execute_result"
    }
   ],
   "source": [
    "df_videos_dec_urls.n_dislikes.max()"
   ]
  },
  {
   "cell_type": "code",
   "execution_count": 202,
   "id": "4159ee29",
   "metadata": {},
   "outputs": [
    {
     "data": {
      "application/vnd.plotly.v1+json": {
       "config": {
        "plotlyServerURL": "https://plot.ly"
       },
       "data": [
        {
         "alignmentgroup": "True",
         "bingroup": "x",
         "hovertemplate": "n_dislikes=%{x}<br>count=%{y}<extra></extra>",
         "legendgroup": "",
         "marker": {
          "color": "#636efa",
          "pattern": {
           "shape": ""
          }
         },
         "name": "",
         "offsetgroup": "",
         "orientation": "v",
         "showlegend": false,
         "type": "histogram",
         "x": [
          6,
          60,
          8,
          103,
          155,
          163,
          8,
          333,
          88,
          79,
          42,
          307,
          45,
          7,
          102,
          21,
          25,
          32,
          null,
          52,
          804,
          8,
          1548,
          15,
          883,
          23,
          17778,
          185,
          3543,
          2068,
          3058,
          1433,
          5,
          24,
          10,
          7,
          33,
          317,
          351,
          89,
          865,
          32,
          32,
          34,
          468,
          812,
          13,
          246,
          163,
          110,
          20,
          93,
          428,
          88,
          52,
          209,
          209,
          736,
          648,
          109,
          768,
          593,
          542,
          70,
          190,
          104,
          35,
          332,
          13,
          53,
          80,
          100,
          2611,
          30068,
          897,
          6,
          29,
          248,
          5,
          969,
          null,
          235,
          40,
          352,
          1143,
          187,
          3815,
          67,
          331,
          285,
          27,
          234,
          46,
          58,
          1662,
          106,
          227,
          133,
          137,
          125,
          54,
          19,
          null,
          1,
          60,
          194,
          152,
          709,
          644,
          705,
          1,
          4,
          88,
          175,
          122,
          81,
          13,
          209,
          77,
          104,
          28695,
          1681,
          485,
          10,
          87,
          381,
          318,
          177,
          2724,
          228,
          215,
          42,
          13,
          125,
          48,
          106,
          38,
          74,
          87,
          281,
          40,
          209,
          123,
          4570,
          138,
          20,
          903,
          46,
          332,
          67,
          6,
          195,
          218,
          118,
          103,
          7,
          893,
          9,
          1022,
          4,
          191,
          531,
          20,
          20,
          201,
          66,
          198,
          41,
          28,
          59,
          45,
          124,
          138,
          197,
          49,
          135,
          118,
          246,
          176,
          1488,
          3,
          207,
          20,
          1292,
          23,
          351,
          684,
          152,
          1765,
          475,
          1119,
          82,
          337,
          6188,
          5,
          915,
          563,
          103,
          408,
          39,
          28,
          175,
          195,
          85,
          33,
          191,
          123,
          136,
          244,
          682,
          85,
          86,
          399,
          53,
          494,
          47,
          57,
          105,
          120,
          538,
          215,
          253,
          75,
          455,
          114,
          null,
          111,
          95,
          270,
          null,
          30,
          194,
          1257,
          1555,
          479614,
          63,
          295,
          530,
          34,
          281,
          106,
          16,
          49,
          1,
          60,
          10,
          11,
          1,
          14,
          0,
          31,
          196,
          28,
          56,
          9,
          4,
          3,
          128,
          303,
          61,
          60,
          92,
          28,
          24,
          17,
          44,
          17,
          8,
          49,
          1277,
          null,
          1,
          1,
          19,
          0,
          39,
          9,
          26,
          129,
          1,
          57,
          142,
          260,
          135,
          3,
          62,
          35,
          210,
          79,
          4,
          29,
          7,
          3,
          21,
          33,
          228,
          20,
          176,
          165,
          17,
          15602,
          75,
          13,
          2,
          1,
          12,
          75,
          8,
          109,
          13,
          2862,
          43,
          11,
          22,
          337,
          6,
          74,
          12,
          32,
          18,
          122,
          4,
          1,
          37,
          24,
          10,
          13,
          3,
          9,
          55,
          6,
          17,
          58,
          226,
          17,
          23,
          13,
          31,
          2,
          34,
          61,
          131,
          1,
          33,
          166,
          66,
          12,
          3,
          44,
          22,
          3,
          10,
          61,
          4,
          20,
          50,
          7,
          2,
          2980,
          378,
          43,
          15,
          247,
          417,
          6,
          40,
          319,
          4,
          34,
          31,
          139,
          39,
          66,
          64,
          179,
          8,
          3088,
          138,
          18,
          26,
          24,
          45,
          14,
          11,
          75,
          87,
          284,
          173,
          12,
          40,
          70870,
          39,
          null,
          0,
          138,
          71,
          25,
          136,
          27,
          20,
          128,
          24,
          64,
          29,
          56,
          48,
          34,
          52,
          16,
          115,
          18,
          548,
          3,
          2,
          163,
          4,
          29,
          7,
          14,
          907,
          16,
          6,
          148,
          0,
          6,
          171,
          6,
          0,
          0,
          1779,
          6,
          10,
          219,
          161,
          28,
          2,
          7,
          9,
          366,
          194,
          81,
          62,
          115,
          109,
          13,
          25,
          8,
          354,
          19,
          29,
          193,
          38,
          24533,
          26,
          0,
          12,
          155,
          702,
          138,
          2,
          83,
          26,
          57,
          101,
          231,
          8,
          17,
          175,
          493,
          6,
          3,
          26,
          16,
          52,
          39,
          115,
          93,
          27,
          32,
          12,
          0,
          21590,
          2484,
          17,
          104,
          2,
          69,
          64,
          13596,
          2,
          47,
          161,
          2,
          2,
          7,
          15,
          11,
          26,
          165,
          11,
          8,
          818,
          32,
          136,
          17,
          13,
          508,
          594,
          18,
          17,
          6,
          10,
          170,
          14,
          62,
          0,
          20,
          5,
          3,
          177,
          42,
          3,
          22,
          8931,
          243,
          0,
          5,
          13,
          21,
          487,
          203,
          10,
          29,
          33,
          16,
          5,
          1,
          333,
          1301,
          217,
          9,
          30,
          107,
          18,
          788,
          160,
          24,
          1,
          14,
          266,
          46,
          30,
          8,
          1082,
          18,
          516,
          6,
          336,
          9,
          1,
          58,
          24,
          6,
          15,
          89,
          17,
          3,
          38,
          41,
          0,
          15,
          3,
          5,
          13,
          138,
          43,
          72,
          90,
          2,
          23,
          0,
          12,
          39,
          8,
          6,
          43,
          8,
          8,
          51,
          8,
          23,
          29,
          5,
          369,
          29,
          25
         ],
         "xaxis": "x",
         "yaxis": "y"
        }
       ],
       "layout": {
        "barmode": "relative",
        "legend": {
         "tracegroupgap": 0
        },
        "margin": {
         "t": 60
        },
        "template": {
         "data": {
          "bar": [
           {
            "error_x": {
             "color": "#2a3f5f"
            },
            "error_y": {
             "color": "#2a3f5f"
            },
            "marker": {
             "line": {
              "color": "#E5ECF6",
              "width": 0.5
             },
             "pattern": {
              "fillmode": "overlay",
              "size": 10,
              "solidity": 0.2
             }
            },
            "type": "bar"
           }
          ],
          "barpolar": [
           {
            "marker": {
             "line": {
              "color": "#E5ECF6",
              "width": 0.5
             },
             "pattern": {
              "fillmode": "overlay",
              "size": 10,
              "solidity": 0.2
             }
            },
            "type": "barpolar"
           }
          ],
          "carpet": [
           {
            "aaxis": {
             "endlinecolor": "#2a3f5f",
             "gridcolor": "white",
             "linecolor": "white",
             "minorgridcolor": "white",
             "startlinecolor": "#2a3f5f"
            },
            "baxis": {
             "endlinecolor": "#2a3f5f",
             "gridcolor": "white",
             "linecolor": "white",
             "minorgridcolor": "white",
             "startlinecolor": "#2a3f5f"
            },
            "type": "carpet"
           }
          ],
          "choropleth": [
           {
            "colorbar": {
             "outlinewidth": 0,
             "ticks": ""
            },
            "type": "choropleth"
           }
          ],
          "contour": [
           {
            "colorbar": {
             "outlinewidth": 0,
             "ticks": ""
            },
            "colorscale": [
             [
              0,
              "#0d0887"
             ],
             [
              0.1111111111111111,
              "#46039f"
             ],
             [
              0.2222222222222222,
              "#7201a8"
             ],
             [
              0.3333333333333333,
              "#9c179e"
             ],
             [
              0.4444444444444444,
              "#bd3786"
             ],
             [
              0.5555555555555556,
              "#d8576b"
             ],
             [
              0.6666666666666666,
              "#ed7953"
             ],
             [
              0.7777777777777778,
              "#fb9f3a"
             ],
             [
              0.8888888888888888,
              "#fdca26"
             ],
             [
              1,
              "#f0f921"
             ]
            ],
            "type": "contour"
           }
          ],
          "contourcarpet": [
           {
            "colorbar": {
             "outlinewidth": 0,
             "ticks": ""
            },
            "type": "contourcarpet"
           }
          ],
          "heatmap": [
           {
            "colorbar": {
             "outlinewidth": 0,
             "ticks": ""
            },
            "colorscale": [
             [
              0,
              "#0d0887"
             ],
             [
              0.1111111111111111,
              "#46039f"
             ],
             [
              0.2222222222222222,
              "#7201a8"
             ],
             [
              0.3333333333333333,
              "#9c179e"
             ],
             [
              0.4444444444444444,
              "#bd3786"
             ],
             [
              0.5555555555555556,
              "#d8576b"
             ],
             [
              0.6666666666666666,
              "#ed7953"
             ],
             [
              0.7777777777777778,
              "#fb9f3a"
             ],
             [
              0.8888888888888888,
              "#fdca26"
             ],
             [
              1,
              "#f0f921"
             ]
            ],
            "type": "heatmap"
           }
          ],
          "heatmapgl": [
           {
            "colorbar": {
             "outlinewidth": 0,
             "ticks": ""
            },
            "colorscale": [
             [
              0,
              "#0d0887"
             ],
             [
              0.1111111111111111,
              "#46039f"
             ],
             [
              0.2222222222222222,
              "#7201a8"
             ],
             [
              0.3333333333333333,
              "#9c179e"
             ],
             [
              0.4444444444444444,
              "#bd3786"
             ],
             [
              0.5555555555555556,
              "#d8576b"
             ],
             [
              0.6666666666666666,
              "#ed7953"
             ],
             [
              0.7777777777777778,
              "#fb9f3a"
             ],
             [
              0.8888888888888888,
              "#fdca26"
             ],
             [
              1,
              "#f0f921"
             ]
            ],
            "type": "heatmapgl"
           }
          ],
          "histogram": [
           {
            "marker": {
             "pattern": {
              "fillmode": "overlay",
              "size": 10,
              "solidity": 0.2
             }
            },
            "type": "histogram"
           }
          ],
          "histogram2d": [
           {
            "colorbar": {
             "outlinewidth": 0,
             "ticks": ""
            },
            "colorscale": [
             [
              0,
              "#0d0887"
             ],
             [
              0.1111111111111111,
              "#46039f"
             ],
             [
              0.2222222222222222,
              "#7201a8"
             ],
             [
              0.3333333333333333,
              "#9c179e"
             ],
             [
              0.4444444444444444,
              "#bd3786"
             ],
             [
              0.5555555555555556,
              "#d8576b"
             ],
             [
              0.6666666666666666,
              "#ed7953"
             ],
             [
              0.7777777777777778,
              "#fb9f3a"
             ],
             [
              0.8888888888888888,
              "#fdca26"
             ],
             [
              1,
              "#f0f921"
             ]
            ],
            "type": "histogram2d"
           }
          ],
          "histogram2dcontour": [
           {
            "colorbar": {
             "outlinewidth": 0,
             "ticks": ""
            },
            "colorscale": [
             [
              0,
              "#0d0887"
             ],
             [
              0.1111111111111111,
              "#46039f"
             ],
             [
              0.2222222222222222,
              "#7201a8"
             ],
             [
              0.3333333333333333,
              "#9c179e"
             ],
             [
              0.4444444444444444,
              "#bd3786"
             ],
             [
              0.5555555555555556,
              "#d8576b"
             ],
             [
              0.6666666666666666,
              "#ed7953"
             ],
             [
              0.7777777777777778,
              "#fb9f3a"
             ],
             [
              0.8888888888888888,
              "#fdca26"
             ],
             [
              1,
              "#f0f921"
             ]
            ],
            "type": "histogram2dcontour"
           }
          ],
          "mesh3d": [
           {
            "colorbar": {
             "outlinewidth": 0,
             "ticks": ""
            },
            "type": "mesh3d"
           }
          ],
          "parcoords": [
           {
            "line": {
             "colorbar": {
              "outlinewidth": 0,
              "ticks": ""
             }
            },
            "type": "parcoords"
           }
          ],
          "pie": [
           {
            "automargin": true,
            "type": "pie"
           }
          ],
          "scatter": [
           {
            "marker": {
             "colorbar": {
              "outlinewidth": 0,
              "ticks": ""
             }
            },
            "type": "scatter"
           }
          ],
          "scatter3d": [
           {
            "line": {
             "colorbar": {
              "outlinewidth": 0,
              "ticks": ""
             }
            },
            "marker": {
             "colorbar": {
              "outlinewidth": 0,
              "ticks": ""
             }
            },
            "type": "scatter3d"
           }
          ],
          "scattercarpet": [
           {
            "marker": {
             "colorbar": {
              "outlinewidth": 0,
              "ticks": ""
             }
            },
            "type": "scattercarpet"
           }
          ],
          "scattergeo": [
           {
            "marker": {
             "colorbar": {
              "outlinewidth": 0,
              "ticks": ""
             }
            },
            "type": "scattergeo"
           }
          ],
          "scattergl": [
           {
            "marker": {
             "colorbar": {
              "outlinewidth": 0,
              "ticks": ""
             }
            },
            "type": "scattergl"
           }
          ],
          "scattermapbox": [
           {
            "marker": {
             "colorbar": {
              "outlinewidth": 0,
              "ticks": ""
             }
            },
            "type": "scattermapbox"
           }
          ],
          "scatterpolar": [
           {
            "marker": {
             "colorbar": {
              "outlinewidth": 0,
              "ticks": ""
             }
            },
            "type": "scatterpolar"
           }
          ],
          "scatterpolargl": [
           {
            "marker": {
             "colorbar": {
              "outlinewidth": 0,
              "ticks": ""
             }
            },
            "type": "scatterpolargl"
           }
          ],
          "scatterternary": [
           {
            "marker": {
             "colorbar": {
              "outlinewidth": 0,
              "ticks": ""
             }
            },
            "type": "scatterternary"
           }
          ],
          "surface": [
           {
            "colorbar": {
             "outlinewidth": 0,
             "ticks": ""
            },
            "colorscale": [
             [
              0,
              "#0d0887"
             ],
             [
              0.1111111111111111,
              "#46039f"
             ],
             [
              0.2222222222222222,
              "#7201a8"
             ],
             [
              0.3333333333333333,
              "#9c179e"
             ],
             [
              0.4444444444444444,
              "#bd3786"
             ],
             [
              0.5555555555555556,
              "#d8576b"
             ],
             [
              0.6666666666666666,
              "#ed7953"
             ],
             [
              0.7777777777777778,
              "#fb9f3a"
             ],
             [
              0.8888888888888888,
              "#fdca26"
             ],
             [
              1,
              "#f0f921"
             ]
            ],
            "type": "surface"
           }
          ],
          "table": [
           {
            "cells": {
             "fill": {
              "color": "#EBF0F8"
             },
             "line": {
              "color": "white"
             }
            },
            "header": {
             "fill": {
              "color": "#C8D4E3"
             },
             "line": {
              "color": "white"
             }
            },
            "type": "table"
           }
          ]
         },
         "layout": {
          "annotationdefaults": {
           "arrowcolor": "#2a3f5f",
           "arrowhead": 0,
           "arrowwidth": 1
          },
          "autotypenumbers": "strict",
          "coloraxis": {
           "colorbar": {
            "outlinewidth": 0,
            "ticks": ""
           }
          },
          "colorscale": {
           "diverging": [
            [
             0,
             "#8e0152"
            ],
            [
             0.1,
             "#c51b7d"
            ],
            [
             0.2,
             "#de77ae"
            ],
            [
             0.3,
             "#f1b6da"
            ],
            [
             0.4,
             "#fde0ef"
            ],
            [
             0.5,
             "#f7f7f7"
            ],
            [
             0.6,
             "#e6f5d0"
            ],
            [
             0.7,
             "#b8e186"
            ],
            [
             0.8,
             "#7fbc41"
            ],
            [
             0.9,
             "#4d9221"
            ],
            [
             1,
             "#276419"
            ]
           ],
           "sequential": [
            [
             0,
             "#0d0887"
            ],
            [
             0.1111111111111111,
             "#46039f"
            ],
            [
             0.2222222222222222,
             "#7201a8"
            ],
            [
             0.3333333333333333,
             "#9c179e"
            ],
            [
             0.4444444444444444,
             "#bd3786"
            ],
            [
             0.5555555555555556,
             "#d8576b"
            ],
            [
             0.6666666666666666,
             "#ed7953"
            ],
            [
             0.7777777777777778,
             "#fb9f3a"
            ],
            [
             0.8888888888888888,
             "#fdca26"
            ],
            [
             1,
             "#f0f921"
            ]
           ],
           "sequentialminus": [
            [
             0,
             "#0d0887"
            ],
            [
             0.1111111111111111,
             "#46039f"
            ],
            [
             0.2222222222222222,
             "#7201a8"
            ],
            [
             0.3333333333333333,
             "#9c179e"
            ],
            [
             0.4444444444444444,
             "#bd3786"
            ],
            [
             0.5555555555555556,
             "#d8576b"
            ],
            [
             0.6666666666666666,
             "#ed7953"
            ],
            [
             0.7777777777777778,
             "#fb9f3a"
            ],
            [
             0.8888888888888888,
             "#fdca26"
            ],
            [
             1,
             "#f0f921"
            ]
           ]
          },
          "colorway": [
           "#636efa",
           "#EF553B",
           "#00cc96",
           "#ab63fa",
           "#FFA15A",
           "#19d3f3",
           "#FF6692",
           "#B6E880",
           "#FF97FF",
           "#FECB52"
          ],
          "font": {
           "color": "#2a3f5f"
          },
          "geo": {
           "bgcolor": "white",
           "lakecolor": "white",
           "landcolor": "#E5ECF6",
           "showlakes": true,
           "showland": true,
           "subunitcolor": "white"
          },
          "hoverlabel": {
           "align": "left"
          },
          "hovermode": "closest",
          "mapbox": {
           "style": "light"
          },
          "paper_bgcolor": "white",
          "plot_bgcolor": "#E5ECF6",
          "polar": {
           "angularaxis": {
            "gridcolor": "white",
            "linecolor": "white",
            "ticks": ""
           },
           "bgcolor": "#E5ECF6",
           "radialaxis": {
            "gridcolor": "white",
            "linecolor": "white",
            "ticks": ""
           }
          },
          "scene": {
           "xaxis": {
            "backgroundcolor": "#E5ECF6",
            "gridcolor": "white",
            "gridwidth": 2,
            "linecolor": "white",
            "showbackground": true,
            "ticks": "",
            "zerolinecolor": "white"
           },
           "yaxis": {
            "backgroundcolor": "#E5ECF6",
            "gridcolor": "white",
            "gridwidth": 2,
            "linecolor": "white",
            "showbackground": true,
            "ticks": "",
            "zerolinecolor": "white"
           },
           "zaxis": {
            "backgroundcolor": "#E5ECF6",
            "gridcolor": "white",
            "gridwidth": 2,
            "linecolor": "white",
            "showbackground": true,
            "ticks": "",
            "zerolinecolor": "white"
           }
          },
          "shapedefaults": {
           "line": {
            "color": "#2a3f5f"
           }
          },
          "ternary": {
           "aaxis": {
            "gridcolor": "white",
            "linecolor": "white",
            "ticks": ""
           },
           "baxis": {
            "gridcolor": "white",
            "linecolor": "white",
            "ticks": ""
           },
           "bgcolor": "#E5ECF6",
           "caxis": {
            "gridcolor": "white",
            "linecolor": "white",
            "ticks": ""
           }
          },
          "title": {
           "x": 0.05
          },
          "xaxis": {
           "automargin": true,
           "gridcolor": "white",
           "linecolor": "white",
           "ticks": "",
           "title": {
            "standoff": 15
           },
           "zerolinecolor": "white",
           "zerolinewidth": 2
          },
          "yaxis": {
           "automargin": true,
           "gridcolor": "white",
           "linecolor": "white",
           "ticks": "",
           "title": {
            "standoff": 15
           },
           "zerolinecolor": "white",
           "zerolinewidth": 2
          }
         }
        },
        "xaxis": {
         "anchor": "y",
         "domain": [
          0,
          1
         ],
         "title": {
          "text": "n_dislikes"
         }
        },
        "yaxis": {
         "anchor": "x",
         "domain": [
          0,
          1
         ],
         "title": {
          "text": "count"
         }
        }
       }
      },
      "text/html": [
       "<div>                            <div id=\"a5d22f11-d090-465e-9169-99dd02c52c9f\" class=\"plotly-graph-div\" style=\"height:525px; width:100%;\"></div>            <script type=\"text/javascript\">                require([\"plotly\"], function(Plotly) {                    window.PLOTLYENV=window.PLOTLYENV || {};                                    if (document.getElementById(\"a5d22f11-d090-465e-9169-99dd02c52c9f\")) {                    Plotly.newPlot(                        \"a5d22f11-d090-465e-9169-99dd02c52c9f\",                        [{\"alignmentgroup\":\"True\",\"bingroup\":\"x\",\"hovertemplate\":\"n_dislikes=%{x}<br>count=%{y}<extra></extra>\",\"legendgroup\":\"\",\"marker\":{\"color\":\"#636efa\",\"pattern\":{\"shape\":\"\"}},\"name\":\"\",\"offsetgroup\":\"\",\"orientation\":\"v\",\"showlegend\":false,\"type\":\"histogram\",\"x\":[6.0,60.0,8.0,103.0,155.0,163.0,8.0,333.0,88.0,79.0,42.0,307.0,45.0,7.0,102.0,21.0,25.0,32.0,null,52.0,804.0,8.0,1548.0,15.0,883.0,23.0,17778.0,185.0,3543.0,2068.0,3058.0,1433.0,5.0,24.0,10.0,7.0,33.0,317.0,351.0,89.0,865.0,32.0,32.0,34.0,468.0,812.0,13.0,246.0,163.0,110.0,20.0,93.0,428.0,88.0,52.0,209.0,209.0,736.0,648.0,109.0,768.0,593.0,542.0,70.0,190.0,104.0,35.0,332.0,13.0,53.0,80.0,100.0,2611.0,30068.0,897.0,6.0,29.0,248.0,5.0,969.0,null,235.0,40.0,352.0,1143.0,187.0,3815.0,67.0,331.0,285.0,27.0,234.0,46.0,58.0,1662.0,106.0,227.0,133.0,137.0,125.0,54.0,19.0,null,1.0,60.0,194.0,152.0,709.0,644.0,705.0,1.0,4.0,88.0,175.0,122.0,81.0,13.0,209.0,77.0,104.0,28695.0,1681.0,485.0,10.0,87.0,381.0,318.0,177.0,2724.0,228.0,215.0,42.0,13.0,125.0,48.0,106.0,38.0,74.0,87.0,281.0,40.0,209.0,123.0,4570.0,138.0,20.0,903.0,46.0,332.0,67.0,6.0,195.0,218.0,118.0,103.0,7.0,893.0,9.0,1022.0,4.0,191.0,531.0,20.0,20.0,201.0,66.0,198.0,41.0,28.0,59.0,45.0,124.0,138.0,197.0,49.0,135.0,118.0,246.0,176.0,1488.0,3.0,207.0,20.0,1292.0,23.0,351.0,684.0,152.0,1765.0,475.0,1119.0,82.0,337.0,6188.0,5.0,915.0,563.0,103.0,408.0,39.0,28.0,175.0,195.0,85.0,33.0,191.0,123.0,136.0,244.0,682.0,85.0,86.0,399.0,53.0,494.0,47.0,57.0,105.0,120.0,538.0,215.0,253.0,75.0,455.0,114.0,null,111.0,95.0,270.0,null,30.0,194.0,1257.0,1555.0,479614.0,63.0,295.0,530.0,34.0,281.0,106.0,16.0,49.0,1.0,60.0,10.0,11.0,1.0,14.0,0.0,31.0,196.0,28.0,56.0,9.0,4.0,3.0,128.0,303.0,61.0,60.0,92.0,28.0,24.0,17.0,44.0,17.0,8.0,49.0,1277.0,null,1.0,1.0,19.0,0.0,39.0,9.0,26.0,129.0,1.0,57.0,142.0,260.0,135.0,3.0,62.0,35.0,210.0,79.0,4.0,29.0,7.0,3.0,21.0,33.0,228.0,20.0,176.0,165.0,17.0,15602.0,75.0,13.0,2.0,1.0,12.0,75.0,8.0,109.0,13.0,2862.0,43.0,11.0,22.0,337.0,6.0,74.0,12.0,32.0,18.0,122.0,4.0,1.0,37.0,24.0,10.0,13.0,3.0,9.0,55.0,6.0,17.0,58.0,226.0,17.0,23.0,13.0,31.0,2.0,34.0,61.0,131.0,1.0,33.0,166.0,66.0,12.0,3.0,44.0,22.0,3.0,10.0,61.0,4.0,20.0,50.0,7.0,2.0,2980.0,378.0,43.0,15.0,247.0,417.0,6.0,40.0,319.0,4.0,34.0,31.0,139.0,39.0,66.0,64.0,179.0,8.0,3088.0,138.0,18.0,26.0,24.0,45.0,14.0,11.0,75.0,87.0,284.0,173.0,12.0,40.0,70870.0,39.0,null,0.0,138.0,71.0,25.0,136.0,27.0,20.0,128.0,24.0,64.0,29.0,56.0,48.0,34.0,52.0,16.0,115.0,18.0,548.0,3.0,2.0,163.0,4.0,29.0,7.0,14.0,907.0,16.0,6.0,148.0,0.0,6.0,171.0,6.0,0.0,0.0,1779.0,6.0,10.0,219.0,161.0,28.0,2.0,7.0,9.0,366.0,194.0,81.0,62.0,115.0,109.0,13.0,25.0,8.0,354.0,19.0,29.0,193.0,38.0,24533.0,26.0,0.0,12.0,155.0,702.0,138.0,2.0,83.0,26.0,57.0,101.0,231.0,8.0,17.0,175.0,493.0,6.0,3.0,26.0,16.0,52.0,39.0,115.0,93.0,27.0,32.0,12.0,0.0,21590.0,2484.0,17.0,104.0,2.0,69.0,64.0,13596.0,2.0,47.0,161.0,2.0,2.0,7.0,15.0,11.0,26.0,165.0,11.0,8.0,818.0,32.0,136.0,17.0,13.0,508.0,594.0,18.0,17.0,6.0,10.0,170.0,14.0,62.0,0.0,20.0,5.0,3.0,177.0,42.0,3.0,22.0,8931.0,243.0,0.0,5.0,13.0,21.0,487.0,203.0,10.0,29.0,33.0,16.0,5.0,1.0,333.0,1301.0,217.0,9.0,30.0,107.0,18.0,788.0,160.0,24.0,1.0,14.0,266.0,46.0,30.0,8.0,1082.0,18.0,516.0,6.0,336.0,9.0,1.0,58.0,24.0,6.0,15.0,89.0,17.0,3.0,38.0,41.0,0.0,15.0,3.0,5.0,13.0,138.0,43.0,72.0,90.0,2.0,23.0,0.0,12.0,39.0,8.0,6.0,43.0,8.0,8.0,51.0,8.0,23.0,29.0,5.0,369.0,29.0,25.0],\"xaxis\":\"x\",\"yaxis\":\"y\"}],                        {\"barmode\":\"relative\",\"legend\":{\"tracegroupgap\":0},\"margin\":{\"t\":60},\"template\":{\"data\":{\"bar\":[{\"error_x\":{\"color\":\"#2a3f5f\"},\"error_y\":{\"color\":\"#2a3f5f\"},\"marker\":{\"line\":{\"color\":\"#E5ECF6\",\"width\":0.5},\"pattern\":{\"fillmode\":\"overlay\",\"size\":10,\"solidity\":0.2}},\"type\":\"bar\"}],\"barpolar\":[{\"marker\":{\"line\":{\"color\":\"#E5ECF6\",\"width\":0.5},\"pattern\":{\"fillmode\":\"overlay\",\"size\":10,\"solidity\":0.2}},\"type\":\"barpolar\"}],\"carpet\":[{\"aaxis\":{\"endlinecolor\":\"#2a3f5f\",\"gridcolor\":\"white\",\"linecolor\":\"white\",\"minorgridcolor\":\"white\",\"startlinecolor\":\"#2a3f5f\"},\"baxis\":{\"endlinecolor\":\"#2a3f5f\",\"gridcolor\":\"white\",\"linecolor\":\"white\",\"minorgridcolor\":\"white\",\"startlinecolor\":\"#2a3f5f\"},\"type\":\"carpet\"}],\"choropleth\":[{\"colorbar\":{\"outlinewidth\":0,\"ticks\":\"\"},\"type\":\"choropleth\"}],\"contour\":[{\"colorbar\":{\"outlinewidth\":0,\"ticks\":\"\"},\"colorscale\":[[0.0,\"#0d0887\"],[0.1111111111111111,\"#46039f\"],[0.2222222222222222,\"#7201a8\"],[0.3333333333333333,\"#9c179e\"],[0.4444444444444444,\"#bd3786\"],[0.5555555555555556,\"#d8576b\"],[0.6666666666666666,\"#ed7953\"],[0.7777777777777778,\"#fb9f3a\"],[0.8888888888888888,\"#fdca26\"],[1.0,\"#f0f921\"]],\"type\":\"contour\"}],\"contourcarpet\":[{\"colorbar\":{\"outlinewidth\":0,\"ticks\":\"\"},\"type\":\"contourcarpet\"}],\"heatmap\":[{\"colorbar\":{\"outlinewidth\":0,\"ticks\":\"\"},\"colorscale\":[[0.0,\"#0d0887\"],[0.1111111111111111,\"#46039f\"],[0.2222222222222222,\"#7201a8\"],[0.3333333333333333,\"#9c179e\"],[0.4444444444444444,\"#bd3786\"],[0.5555555555555556,\"#d8576b\"],[0.6666666666666666,\"#ed7953\"],[0.7777777777777778,\"#fb9f3a\"],[0.8888888888888888,\"#fdca26\"],[1.0,\"#f0f921\"]],\"type\":\"heatmap\"}],\"heatmapgl\":[{\"colorbar\":{\"outlinewidth\":0,\"ticks\":\"\"},\"colorscale\":[[0.0,\"#0d0887\"],[0.1111111111111111,\"#46039f\"],[0.2222222222222222,\"#7201a8\"],[0.3333333333333333,\"#9c179e\"],[0.4444444444444444,\"#bd3786\"],[0.5555555555555556,\"#d8576b\"],[0.6666666666666666,\"#ed7953\"],[0.7777777777777778,\"#fb9f3a\"],[0.8888888888888888,\"#fdca26\"],[1.0,\"#f0f921\"]],\"type\":\"heatmapgl\"}],\"histogram\":[{\"marker\":{\"pattern\":{\"fillmode\":\"overlay\",\"size\":10,\"solidity\":0.2}},\"type\":\"histogram\"}],\"histogram2d\":[{\"colorbar\":{\"outlinewidth\":0,\"ticks\":\"\"},\"colorscale\":[[0.0,\"#0d0887\"],[0.1111111111111111,\"#46039f\"],[0.2222222222222222,\"#7201a8\"],[0.3333333333333333,\"#9c179e\"],[0.4444444444444444,\"#bd3786\"],[0.5555555555555556,\"#d8576b\"],[0.6666666666666666,\"#ed7953\"],[0.7777777777777778,\"#fb9f3a\"],[0.8888888888888888,\"#fdca26\"],[1.0,\"#f0f921\"]],\"type\":\"histogram2d\"}],\"histogram2dcontour\":[{\"colorbar\":{\"outlinewidth\":0,\"ticks\":\"\"},\"colorscale\":[[0.0,\"#0d0887\"],[0.1111111111111111,\"#46039f\"],[0.2222222222222222,\"#7201a8\"],[0.3333333333333333,\"#9c179e\"],[0.4444444444444444,\"#bd3786\"],[0.5555555555555556,\"#d8576b\"],[0.6666666666666666,\"#ed7953\"],[0.7777777777777778,\"#fb9f3a\"],[0.8888888888888888,\"#fdca26\"],[1.0,\"#f0f921\"]],\"type\":\"histogram2dcontour\"}],\"mesh3d\":[{\"colorbar\":{\"outlinewidth\":0,\"ticks\":\"\"},\"type\":\"mesh3d\"}],\"parcoords\":[{\"line\":{\"colorbar\":{\"outlinewidth\":0,\"ticks\":\"\"}},\"type\":\"parcoords\"}],\"pie\":[{\"automargin\":true,\"type\":\"pie\"}],\"scatter\":[{\"marker\":{\"colorbar\":{\"outlinewidth\":0,\"ticks\":\"\"}},\"type\":\"scatter\"}],\"scatter3d\":[{\"line\":{\"colorbar\":{\"outlinewidth\":0,\"ticks\":\"\"}},\"marker\":{\"colorbar\":{\"outlinewidth\":0,\"ticks\":\"\"}},\"type\":\"scatter3d\"}],\"scattercarpet\":[{\"marker\":{\"colorbar\":{\"outlinewidth\":0,\"ticks\":\"\"}},\"type\":\"scattercarpet\"}],\"scattergeo\":[{\"marker\":{\"colorbar\":{\"outlinewidth\":0,\"ticks\":\"\"}},\"type\":\"scattergeo\"}],\"scattergl\":[{\"marker\":{\"colorbar\":{\"outlinewidth\":0,\"ticks\":\"\"}},\"type\":\"scattergl\"}],\"scattermapbox\":[{\"marker\":{\"colorbar\":{\"outlinewidth\":0,\"ticks\":\"\"}},\"type\":\"scattermapbox\"}],\"scatterpolar\":[{\"marker\":{\"colorbar\":{\"outlinewidth\":0,\"ticks\":\"\"}},\"type\":\"scatterpolar\"}],\"scatterpolargl\":[{\"marker\":{\"colorbar\":{\"outlinewidth\":0,\"ticks\":\"\"}},\"type\":\"scatterpolargl\"}],\"scatterternary\":[{\"marker\":{\"colorbar\":{\"outlinewidth\":0,\"ticks\":\"\"}},\"type\":\"scatterternary\"}],\"surface\":[{\"colorbar\":{\"outlinewidth\":0,\"ticks\":\"\"},\"colorscale\":[[0.0,\"#0d0887\"],[0.1111111111111111,\"#46039f\"],[0.2222222222222222,\"#7201a8\"],[0.3333333333333333,\"#9c179e\"],[0.4444444444444444,\"#bd3786\"],[0.5555555555555556,\"#d8576b\"],[0.6666666666666666,\"#ed7953\"],[0.7777777777777778,\"#fb9f3a\"],[0.8888888888888888,\"#fdca26\"],[1.0,\"#f0f921\"]],\"type\":\"surface\"}],\"table\":[{\"cells\":{\"fill\":{\"color\":\"#EBF0F8\"},\"line\":{\"color\":\"white\"}},\"header\":{\"fill\":{\"color\":\"#C8D4E3\"},\"line\":{\"color\":\"white\"}},\"type\":\"table\"}]},\"layout\":{\"annotationdefaults\":{\"arrowcolor\":\"#2a3f5f\",\"arrowhead\":0,\"arrowwidth\":1},\"autotypenumbers\":\"strict\",\"coloraxis\":{\"colorbar\":{\"outlinewidth\":0,\"ticks\":\"\"}},\"colorscale\":{\"diverging\":[[0,\"#8e0152\"],[0.1,\"#c51b7d\"],[0.2,\"#de77ae\"],[0.3,\"#f1b6da\"],[0.4,\"#fde0ef\"],[0.5,\"#f7f7f7\"],[0.6,\"#e6f5d0\"],[0.7,\"#b8e186\"],[0.8,\"#7fbc41\"],[0.9,\"#4d9221\"],[1,\"#276419\"]],\"sequential\":[[0.0,\"#0d0887\"],[0.1111111111111111,\"#46039f\"],[0.2222222222222222,\"#7201a8\"],[0.3333333333333333,\"#9c179e\"],[0.4444444444444444,\"#bd3786\"],[0.5555555555555556,\"#d8576b\"],[0.6666666666666666,\"#ed7953\"],[0.7777777777777778,\"#fb9f3a\"],[0.8888888888888888,\"#fdca26\"],[1.0,\"#f0f921\"]],\"sequentialminus\":[[0.0,\"#0d0887\"],[0.1111111111111111,\"#46039f\"],[0.2222222222222222,\"#7201a8\"],[0.3333333333333333,\"#9c179e\"],[0.4444444444444444,\"#bd3786\"],[0.5555555555555556,\"#d8576b\"],[0.6666666666666666,\"#ed7953\"],[0.7777777777777778,\"#fb9f3a\"],[0.8888888888888888,\"#fdca26\"],[1.0,\"#f0f921\"]]},\"colorway\":[\"#636efa\",\"#EF553B\",\"#00cc96\",\"#ab63fa\",\"#FFA15A\",\"#19d3f3\",\"#FF6692\",\"#B6E880\",\"#FF97FF\",\"#FECB52\"],\"font\":{\"color\":\"#2a3f5f\"},\"geo\":{\"bgcolor\":\"white\",\"lakecolor\":\"white\",\"landcolor\":\"#E5ECF6\",\"showlakes\":true,\"showland\":true,\"subunitcolor\":\"white\"},\"hoverlabel\":{\"align\":\"left\"},\"hovermode\":\"closest\",\"mapbox\":{\"style\":\"light\"},\"paper_bgcolor\":\"white\",\"plot_bgcolor\":\"#E5ECF6\",\"polar\":{\"angularaxis\":{\"gridcolor\":\"white\",\"linecolor\":\"white\",\"ticks\":\"\"},\"bgcolor\":\"#E5ECF6\",\"radialaxis\":{\"gridcolor\":\"white\",\"linecolor\":\"white\",\"ticks\":\"\"}},\"scene\":{\"xaxis\":{\"backgroundcolor\":\"#E5ECF6\",\"gridcolor\":\"white\",\"gridwidth\":2,\"linecolor\":\"white\",\"showbackground\":true,\"ticks\":\"\",\"zerolinecolor\":\"white\"},\"yaxis\":{\"backgroundcolor\":\"#E5ECF6\",\"gridcolor\":\"white\",\"gridwidth\":2,\"linecolor\":\"white\",\"showbackground\":true,\"ticks\":\"\",\"zerolinecolor\":\"white\"},\"zaxis\":{\"backgroundcolor\":\"#E5ECF6\",\"gridcolor\":\"white\",\"gridwidth\":2,\"linecolor\":\"white\",\"showbackground\":true,\"ticks\":\"\",\"zerolinecolor\":\"white\"}},\"shapedefaults\":{\"line\":{\"color\":\"#2a3f5f\"}},\"ternary\":{\"aaxis\":{\"gridcolor\":\"white\",\"linecolor\":\"white\",\"ticks\":\"\"},\"baxis\":{\"gridcolor\":\"white\",\"linecolor\":\"white\",\"ticks\":\"\"},\"bgcolor\":\"#E5ECF6\",\"caxis\":{\"gridcolor\":\"white\",\"linecolor\":\"white\",\"ticks\":\"\"}},\"title\":{\"x\":0.05},\"xaxis\":{\"automargin\":true,\"gridcolor\":\"white\",\"linecolor\":\"white\",\"ticks\":\"\",\"title\":{\"standoff\":15},\"zerolinecolor\":\"white\",\"zerolinewidth\":2},\"yaxis\":{\"automargin\":true,\"gridcolor\":\"white\",\"linecolor\":\"white\",\"ticks\":\"\",\"title\":{\"standoff\":15},\"zerolinecolor\":\"white\",\"zerolinewidth\":2}}},\"xaxis\":{\"anchor\":\"y\",\"domain\":[0.0,1.0],\"title\":{\"text\":\"n_dislikes\"}},\"yaxis\":{\"anchor\":\"x\",\"domain\":[0.0,1.0],\"title\":{\"text\":\"count\"}}},                        {\"responsive\": true}                    ).then(function(){\n",
       "                            \n",
       "var gd = document.getElementById('a5d22f11-d090-465e-9169-99dd02c52c9f');\n",
       "var x = new MutationObserver(function (mutations, observer) {{\n",
       "        var display = window.getComputedStyle(gd).display;\n",
       "        if (!display || display === 'none') {{\n",
       "            console.log([gd, 'removed!']);\n",
       "            Plotly.purge(gd);\n",
       "            observer.disconnect();\n",
       "        }}\n",
       "}});\n",
       "\n",
       "// Listen for the removal of the full notebook cells\n",
       "var notebookContainer = gd.closest('#notebook-container');\n",
       "if (notebookContainer) {{\n",
       "    x.observe(notebookContainer, {childList: true});\n",
       "}}\n",
       "\n",
       "// Listen for the clearing of the current output cell\n",
       "var outputEl = gd.closest('.output');\n",
       "if (outputEl) {{\n",
       "    x.observe(outputEl, {childList: true});\n",
       "}}\n",
       "\n",
       "                        })                };                });            </script>        </div>"
      ]
     },
     "metadata": {},
     "output_type": "display_data"
    }
   ],
   "source": [
    "plot(df_videos_dec_urls, \"n_dislikes\")"
   ]
  },
  {
   "cell_type": "code",
   "execution_count": 213,
   "id": "c35c55ac",
   "metadata": {},
   "outputs": [],
   "source": [
    "df_videos_dec_urls_top_dislikes = df_videos_dec_urls[df_videos_dec_urls.n_dislikes > 500]"
   ]
  },
  {
   "cell_type": "code",
   "execution_count": 214,
   "id": "a8f5a4ed",
   "metadata": {},
   "outputs": [],
   "source": [
    "df_videos_dec_urls_top_dislikes.sort_values(\"n_dislikes\", ascending=False, inplace=True)"
   ]
  },
  {
   "cell_type": "code",
   "execution_count": 215,
   "id": "eaa64e62",
   "metadata": {},
   "outputs": [],
   "source": [
    "df_videos_dec_urls_top_dislikes = df_videos_dec_urls_top_dislikes[[\"urls\", \"n_dislikes\"]][~df_videos_dec_urls_top_dislikes[[\"urls\", \"n_dislikes\"]].duplicated()]"
   ]
  },
  {
   "cell_type": "code",
   "execution_count": 216,
   "id": "039b1996",
   "metadata": {},
   "outputs": [],
   "source": [
    "fix(df_videos_dec_urls_top_dislikes)"
   ]
  },
  {
   "cell_type": "code",
   "execution_count": 217,
   "id": "5c731fbf",
   "metadata": {},
   "outputs": [
    {
     "data": {
      "text/html": [
       "<div>\n",
       "<style scoped>\n",
       "    .dataframe tbody tr th:only-of-type {\n",
       "        vertical-align: middle;\n",
       "    }\n",
       "\n",
       "    .dataframe tbody tr th {\n",
       "        vertical-align: top;\n",
       "    }\n",
       "\n",
       "    .dataframe thead th {\n",
       "        text-align: right;\n",
       "    }\n",
       "</style>\n",
       "<table border=\"1\" class=\"dataframe\">\n",
       "  <thead>\n",
       "    <tr style=\"text-align: right;\">\n",
       "      <th></th>\n",
       "      <th>urls</th>\n",
       "      <th>n_dislikes</th>\n",
       "      <th>n_urls</th>\n",
       "    </tr>\n",
       "  </thead>\n",
       "  <tbody>\n",
       "    <tr>\n",
       "      <th>234</th>\n",
       "      <td>[http://bit.ly/ahsub, http://www.accessonline....</td>\n",
       "      <td>479614.0</td>\n",
       "      <td>6</td>\n",
       "    </tr>\n",
       "    <tr>\n",
       "      <th>390</th>\n",
       "      <td>[http://wwe.yt/wwenetwork, http://wwe.yt/, htt...</td>\n",
       "      <td>70870.0</td>\n",
       "      <td>16</td>\n",
       "    </tr>\n",
       "    <tr>\n",
       "      <th>73</th>\n",
       "      <td>[https://news.sky.com/story/amber-heard-nothin...</td>\n",
       "      <td>30068.0</td>\n",
       "      <td>10</td>\n",
       "    </tr>\n",
       "    <tr>\n",
       "      <th>120</th>\n",
       "      <td>[https://court.tv/live, https://www.courttv.co...</td>\n",
       "      <td>28695.0</td>\n",
       "      <td>4</td>\n",
       "    </tr>\n",
       "    <tr>\n",
       "      <th>452</th>\n",
       "      <td>[https://www.youtube.com/watch?v=-t_pzplyvag]</td>\n",
       "      <td>24533.0</td>\n",
       "      <td>1</td>\n",
       "    </tr>\n",
       "    <tr>\n",
       "      <th>...</th>\n",
       "      <td>...</td>\n",
       "      <td>...</td>\n",
       "      <td>...</td>\n",
       "    </tr>\n",
       "    <tr>\n",
       "      <th>219</th>\n",
       "      <td>[https://www.youtube.com/channel/ucfwe_odi1ytb...</td>\n",
       "      <td>538.0</td>\n",
       "      <td>1</td>\n",
       "    </tr>\n",
       "    <tr>\n",
       "      <th>161</th>\n",
       "      <td>[https://www.youtube.com/watch?v=zrmw-m2jiys, ...</td>\n",
       "      <td>531.0</td>\n",
       "      <td>5</td>\n",
       "    </tr>\n",
       "    <tr>\n",
       "      <th>237</th>\n",
       "      <td>[https://www.dailymail.co.uk/news/article-7966...</td>\n",
       "      <td>530.0</td>\n",
       "      <td>2</td>\n",
       "    </tr>\n",
       "    <tr>\n",
       "      <th>555</th>\n",
       "      <td>[https://www.nickwallis.com/depp-trial]</td>\n",
       "      <td>516.0</td>\n",
       "      <td>1</td>\n",
       "    </tr>\n",
       "    <tr>\n",
       "      <th>506</th>\n",
       "      <td>[https://www.paypal.me/theamazinglucas, https:...</td>\n",
       "      <td>508.0</td>\n",
       "      <td>8</td>\n",
       "    </tr>\n",
       "  </tbody>\n",
       "</table>\n",
       "<p>69 rows × 3 columns</p>\n",
       "</div>"
      ],
      "text/plain": [
       "                                                  urls  n_dislikes  n_urls\n",
       "234  [http://bit.ly/ahsub, http://www.accessonline....    479614.0       6\n",
       "390  [http://wwe.yt/wwenetwork, http://wwe.yt/, htt...     70870.0      16\n",
       "73   [https://news.sky.com/story/amber-heard-nothin...     30068.0      10\n",
       "120  [https://court.tv/live, https://www.courttv.co...     28695.0       4\n",
       "452      [https://www.youtube.com/watch?v=-t_pzplyvag]     24533.0       1\n",
       "..                                                 ...         ...     ...\n",
       "219  [https://www.youtube.com/channel/ucfwe_odi1ytb...       538.0       1\n",
       "161  [https://www.youtube.com/watch?v=zrmw-m2jiys, ...       531.0       5\n",
       "237  [https://www.dailymail.co.uk/news/article-7966...       530.0       2\n",
       "555            [https://www.nickwallis.com/depp-trial]       516.0       1\n",
       "506  [https://www.paypal.me/theamazinglucas, https:...       508.0       8\n",
       "\n",
       "[69 rows x 3 columns]"
      ]
     },
     "execution_count": 217,
     "metadata": {},
     "output_type": "execute_result"
    }
   ],
   "source": [
    "df_videos_dec_urls_top_dislikes"
   ]
  },
  {
   "cell_type": "code",
   "execution_count": 219,
   "id": "c4dedc59",
   "metadata": {},
   "outputs": [],
   "source": [
    "df_videos_dec_urls_top_dislikes_one = one_url_df( df_videos_dec_urls_top_dislikes)\n",
    "df_videos_dec_urls_top_dislikes_more = more_url_df( df_videos_dec_urls_top_dislikes, \"n_dislikes\")"
   ]
  },
  {
   "cell_type": "code",
   "execution_count": 220,
   "id": "7f9c9b32",
   "metadata": {},
   "outputs": [],
   "source": [
    "un(df_videos_dec_urls_top_dislikes_one)"
   ]
  },
  {
   "cell_type": "code",
   "execution_count": 222,
   "id": "f011ffc6",
   "metadata": {},
   "outputs": [
    {
     "data": {
      "text/html": [
       "<div>\n",
       "<style scoped>\n",
       "    .dataframe tbody tr th:only-of-type {\n",
       "        vertical-align: middle;\n",
       "    }\n",
       "\n",
       "    .dataframe tbody tr th {\n",
       "        vertical-align: top;\n",
       "    }\n",
       "\n",
       "    .dataframe thead th {\n",
       "        text-align: right;\n",
       "    }\n",
       "</style>\n",
       "<table border=\"1\" class=\"dataframe\">\n",
       "  <thead>\n",
       "    <tr style=\"text-align: right;\">\n",
       "      <th></th>\n",
       "      <th>urls</th>\n",
       "      <th>n_dislikes</th>\n",
       "      <th>n_urls</th>\n",
       "    </tr>\n",
       "  </thead>\n",
       "  <tbody>\n",
       "    <tr>\n",
       "      <th>452</th>\n",
       "      <td>https://www.youtube.com/watch?v=-t_pzplyvag</td>\n",
       "      <td>24533.0</td>\n",
       "      <td>1</td>\n",
       "    </tr>\n",
       "    <tr>\n",
       "      <th>193</th>\n",
       "      <td>https://www.youtube.com/watch?v=hwkb80xzdus&amp;fe...</td>\n",
       "      <td>6188.0</td>\n",
       "      <td>1</td>\n",
       "    </tr>\n",
       "    <tr>\n",
       "      <th>128</th>\n",
       "      <td>https://www.youtube.com/watch?v=nqzs5izsa68</td>\n",
       "      <td>2724.0</td>\n",
       "      <td>1</td>\n",
       "    </tr>\n",
       "    <tr>\n",
       "      <th>29</th>\n",
       "      <td>https://www.youtube.com/c/tucosmopolis</td>\n",
       "      <td>2068.0</td>\n",
       "      <td>1</td>\n",
       "    </tr>\n",
       "    <tr>\n",
       "      <th>84</th>\n",
       "      <td>http://www.patreon.com/dalasreview</td>\n",
       "      <td>1143.0</td>\n",
       "      <td>1</td>\n",
       "    </tr>\n",
       "    <tr>\n",
       "      <th>419</th>\n",
       "      <td>http://bit.ly/networthnow</td>\n",
       "      <td>907.0</td>\n",
       "      <td>1</td>\n",
       "    </tr>\n",
       "    <tr>\n",
       "      <th>40</th>\n",
       "      <td>https://www.looper.com/276240/what-j-k-rowling...</td>\n",
       "      <td>865.0</td>\n",
       "      <td>1</td>\n",
       "    </tr>\n",
       "    <tr>\n",
       "      <th>411</th>\n",
       "      <td>https://www.nickiswift.com/15613/double-life-a...</td>\n",
       "      <td>548.0</td>\n",
       "      <td>1</td>\n",
       "    </tr>\n",
       "    <tr>\n",
       "      <th>219</th>\n",
       "      <td>https://www.youtube.com/channel/ucfwe_odi1ytbd...</td>\n",
       "      <td>538.0</td>\n",
       "      <td>1</td>\n",
       "    </tr>\n",
       "    <tr>\n",
       "      <th>555</th>\n",
       "      <td>https://www.nickwallis.com/depp-trial</td>\n",
       "      <td>516.0</td>\n",
       "      <td>1</td>\n",
       "    </tr>\n",
       "  </tbody>\n",
       "</table>\n",
       "</div>"
      ],
      "text/plain": [
       "                                                  urls  n_dislikes  n_urls\n",
       "452        https://www.youtube.com/watch?v=-t_pzplyvag     24533.0       1\n",
       "193  https://www.youtube.com/watch?v=hwkb80xzdus&fe...      6188.0       1\n",
       "128        https://www.youtube.com/watch?v=nqzs5izsa68      2724.0       1\n",
       "29              https://www.youtube.com/c/tucosmopolis      2068.0       1\n",
       "84                  http://www.patreon.com/dalasreview      1143.0       1\n",
       "419                          http://bit.ly/networthnow       907.0       1\n",
       "40   https://www.looper.com/276240/what-j-k-rowling...       865.0       1\n",
       "411  https://www.nickiswift.com/15613/double-life-a...       548.0       1\n",
       "219  https://www.youtube.com/channel/ucfwe_odi1ytbd...       538.0       1\n",
       "555              https://www.nickwallis.com/depp-trial       516.0       1"
      ]
     },
     "execution_count": 222,
     "metadata": {},
     "output_type": "execute_result"
    }
   ],
   "source": [
    "df_videos_dec_urls_top_dislikes_one"
   ]
  },
  {
   "cell_type": "code",
   "execution_count": 221,
   "id": "400aa78d",
   "metadata": {},
   "outputs": [],
   "source": [
    "un(df_videos_dec_urls_top_dislikes_more)"
   ]
  },
  {
   "cell_type": "code",
   "execution_count": 223,
   "id": "5d1f9c84",
   "metadata": {},
   "outputs": [
    {
     "data": {
      "text/html": [
       "<div>\n",
       "<style scoped>\n",
       "    .dataframe tbody tr th:only-of-type {\n",
       "        vertical-align: middle;\n",
       "    }\n",
       "\n",
       "    .dataframe tbody tr th {\n",
       "        vertical-align: top;\n",
       "    }\n",
       "\n",
       "    .dataframe thead th {\n",
       "        text-align: right;\n",
       "    }\n",
       "</style>\n",
       "<table border=\"1\" class=\"dataframe\">\n",
       "  <thead>\n",
       "    <tr style=\"text-align: right;\">\n",
       "      <th></th>\n",
       "      <th>urls</th>\n",
       "      <th>n_dislikes</th>\n",
       "      <th>n_urls</th>\n",
       "    </tr>\n",
       "  </thead>\n",
       "  <tbody>\n",
       "    <tr>\n",
       "      <th>0</th>\n",
       "      <td>https://www.youtube.com/aaryannhanda?sub_confi...</td>\n",
       "      <td>479614.0</td>\n",
       "      <td>6</td>\n",
       "    </tr>\n",
       "    <tr>\n",
       "      <th>1</th>\n",
       "      <td>https://www.accessonline.com/</td>\n",
       "      <td>479614.0</td>\n",
       "      <td>6</td>\n",
       "    </tr>\n",
       "    <tr>\n",
       "      <th>2</th>\n",
       "      <td>https://www.facebook.com/accessonline</td>\n",
       "      <td>479614.0</td>\n",
       "      <td>6</td>\n",
       "    </tr>\n",
       "    <tr>\n",
       "      <th>3</th>\n",
       "      <td>https://twitter.com/accessonline</td>\n",
       "      <td>479614.0</td>\n",
       "      <td>6</td>\n",
       "    </tr>\n",
       "    <tr>\n",
       "      <th>4</th>\n",
       "      <td>http://instagram.com/accessonline</td>\n",
       "      <td>479614.0</td>\n",
       "      <td>6</td>\n",
       "    </tr>\n",
       "    <tr>\n",
       "      <th>...</th>\n",
       "      <td>...</td>\n",
       "      <td>...</td>\n",
       "      <td>...</td>\n",
       "    </tr>\n",
       "    <tr>\n",
       "      <th>390</th>\n",
       "      <td>https://www.youtube.com/theamazinglucas</td>\n",
       "      <td>508.0</td>\n",
       "      <td>8</td>\n",
       "    </tr>\n",
       "    <tr>\n",
       "      <th>391</th>\n",
       "      <td>https://www.amazinglucas.com/books</td>\n",
       "      <td>508.0</td>\n",
       "      <td>8</td>\n",
       "    </tr>\n",
       "    <tr>\n",
       "      <th>392</th>\n",
       "      <td>http://instagram.com/theamazinglucas</td>\n",
       "      <td>508.0</td>\n",
       "      <td>8</td>\n",
       "    </tr>\n",
       "    <tr>\n",
       "      <th>393</th>\n",
       "      <td>https://www.youtube.com/theamazinglucas</td>\n",
       "      <td>508.0</td>\n",
       "      <td>8</td>\n",
       "    </tr>\n",
       "    <tr>\n",
       "      <th>394</th>\n",
       "      <td>https://twitter.com/iamamazinglucas</td>\n",
       "      <td>508.0</td>\n",
       "      <td>8</td>\n",
       "    </tr>\n",
       "  </tbody>\n",
       "</table>\n",
       "<p>391 rows × 3 columns</p>\n",
       "</div>"
      ],
      "text/plain": [
       "                                                  urls  n_dislikes  n_urls\n",
       "0    https://www.youtube.com/aaryannhanda?sub_confi...    479614.0       6\n",
       "1                        https://www.accessonline.com/    479614.0       6\n",
       "2                https://www.facebook.com/accessonline    479614.0       6\n",
       "3                     https://twitter.com/accessonline    479614.0       6\n",
       "4                    http://instagram.com/accessonline    479614.0       6\n",
       "..                                                 ...         ...     ...\n",
       "390            https://www.youtube.com/theamazinglucas       508.0       8\n",
       "391                 https://www.amazinglucas.com/books       508.0       8\n",
       "392               http://instagram.com/theamazinglucas       508.0       8\n",
       "393            https://www.youtube.com/theamazinglucas       508.0       8\n",
       "394                https://twitter.com/iamamazinglucas       508.0       8\n",
       "\n",
       "[391 rows x 3 columns]"
      ]
     },
     "execution_count": 223,
     "metadata": {},
     "output_type": "execute_result"
    }
   ],
   "source": [
    "df_videos_dec_urls_top_dislikes_more"
   ]
  },
  {
   "cell_type": "code",
   "execution_count": 224,
   "id": "06474070",
   "metadata": {},
   "outputs": [],
   "source": [
    "df_videos_dec_urls_top_dislikes_one.to_csv(\n",
    "    yt_path + \"df_videos_dec_urls_top_dislikes_one.csv\", index=False\n",
    ")\n",
    "\n",
    "df_videos_dec_urls_top_dislikes_more.to_csv(\n",
    "    yt_path + \"df_videos_dec_urls_top_dislikes_more.csv\", index=False\n",
    ")"
   ]
  },
  {
   "cell_type": "code",
   "execution_count": 227,
   "id": "5385a6df",
   "metadata": {},
   "outputs": [],
   "source": [
    "pd.concat(\n",
    "    [df_videos_dec_urls_top_dislikes_one, df_videos_dec_urls_top_dislikes_more]\n",
    ").sort_values(\"n_dislikes\", ascending=False).drop_duplicates().to_csv(\n",
    "    yt_path + \"df_videos_dec_urls_top_dislikes.csv\", index=False\n",
    ")"
   ]
  },
  {
   "cell_type": "markdown",
   "id": "bdabc966",
   "metadata": {},
   "source": [
    "### likes"
   ]
  },
  {
   "cell_type": "code",
   "execution_count": 228,
   "id": "05e19fb7",
   "metadata": {},
   "outputs": [
    {
     "data": {
      "text/plain": [
       "count    5.890000e+02\n",
       "mean     1.152947e+04\n",
       "std      7.509683e+04\n",
       "min      2.000000e+00\n",
       "25%      4.770000e+02\n",
       "50%      1.537000e+03\n",
       "75%      5.240000e+03\n",
       "max      1.227003e+06\n",
       "Name: n_likes, dtype: float64"
      ]
     },
     "execution_count": 228,
     "metadata": {},
     "output_type": "execute_result"
    }
   ],
   "source": [
    "df_videos_dec_urls.n_likes.describe()"
   ]
  },
  {
   "cell_type": "code",
   "execution_count": 229,
   "id": "d1caf271",
   "metadata": {},
   "outputs": [
    {
     "data": {
      "text/plain": [
       "1227003.0"
      ]
     },
     "execution_count": 229,
     "metadata": {},
     "output_type": "execute_result"
    }
   ],
   "source": [
    "df_videos_dec_urls.n_likes.max()"
   ]
  },
  {
   "cell_type": "code",
   "execution_count": 230,
   "id": "1c77771e",
   "metadata": {},
   "outputs": [
    {
     "data": {
      "application/vnd.plotly.v1+json": {
       "config": {
        "plotlyServerURL": "https://plot.ly"
       },
       "data": [
        {
         "alignmentgroup": "True",
         "bingroup": "x",
         "hovertemplate": "n_likes=%{x}<br>count=%{y}<extra></extra>",
         "legendgroup": "",
         "marker": {
          "color": "#636efa",
          "pattern": {
           "shape": ""
          }
         },
         "name": "",
         "offsetgroup": "",
         "orientation": "v",
         "showlegend": false,
         "type": "histogram",
         "x": [
          318,
          2439,
          207,
          11524,
          6821,
          2907,
          69,
          21366,
          2457,
          4734,
          757,
          36166,
          3276,
          537,
          293,
          712,
          983,
          1366,
          null,
          2335,
          25642,
          477,
          64420,
          119,
          3479,
          345,
          3278,
          4580,
          62610,
          1597,
          8579,
          1239,
          683,
          4411,
          1017,
          329,
          1101,
          1391,
          14892,
          5022,
          11451,
          1959,
          1217,
          1537,
          61128,
          54180,
          617,
          4253,
          12957,
          9602,
          1267,
          725,
          37575,
          60,
          2314,
          11656,
          14011,
          5078,
          7039,
          4355,
          83,
          27087,
          31977,
          3837,
          1215,
          577,
          726,
          17151,
          261,
          5016,
          6661,
          6616,
          131103,
          208,
          4659,
          88,
          1495,
          3517,
          291,
          1201,
          null,
          8333,
          884,
          23078,
          33304,
          835,
          76,
          4572,
          9233,
          20852,
          373,
          3642,
          1398,
          903,
          123795,
          1106,
          11243,
          12978,
          22418,
          5442,
          1876,
          973,
          null,
          11,
          4677,
          817,
          74,
          24141,
          50,
          10225,
          12,
          455,
          1889,
          13215,
          3325,
          4634,
          549,
          2755,
          1534,
          2646,
          9287,
          55862,
          5622,
          605,
          3045,
          12972,
          111,
          12158,
          15907,
          19244,
          9576,
          1522,
          129,
          2179,
          3152,
          4961,
          1635,
          1979,
          2332,
          1094,
          1374,
          3562,
          5688,
          232,
          15,
          800,
          27340,
          2392,
          13202,
          3017,
          48,
          204,
          9722,
          8366,
          2998,
          486,
          220,
          232,
          219,
          143,
          14351,
          16949,
          723,
          912,
          9735,
          879,
          2320,
          399,
          1193,
          3110,
          1440,
          3978,
          6506,
          5565,
          462,
          3745,
          9813,
          2767,
          5037,
          76,
          194,
          3491,
          589,
          53582,
          187,
          218,
          21093,
          8721,
          1188,
          15025,
          210,
          1601,
          72,
          98986,
          159,
          11441,
          17678,
          6692,
          21603,
          2382,
          111,
          11679,
          2609,
          5609,
          1538,
          7644,
          4221,
          3270,
          16072,
          6391,
          808,
          2828,
          24602,
          3542,
          7784,
          3279,
          2119,
          1488,
          8069,
          35395,
          3844,
          2021,
          4895,
          13276,
          6431,
          null,
          5356,
          2202,
          8638,
          null,
          945,
          11712,
          52751,
          786,
          3910,
          1267,
          10285,
          3920,
          315,
          18267,
          1016,
          934,
          2057,
          18,
          2974,
          706,
          440,
          4,
          1371,
          10,
          1586,
          17789,
          1369,
          46,
          339,
          139,
          78,
          3320,
          9421,
          2966,
          5413,
          5262,
          730,
          680,
          1093,
          4191,
          860,
          346,
          1082,
          23095,
          null,
          43,
          151,
          138,
          20,
          1364,
          877,
          2303,
          9029,
          223,
          4088,
          2759,
          6882,
          7630,
          44,
          1570,
          1366,
          12509,
          4480,
          1081,
          1256,
          824,
          9,
          1734,
          3968,
          8998,
          9,
          3263,
          2861,
          658,
          25898,
          5240,
          2135,
          340,
          85,
          567,
          3409,
          741,
          6973,
          1574,
          133422,
          6433,
          92,
          669,
          12397,
          233,
          949,
          853,
          4361,
          1685,
          5243,
          146,
          184,
          1537,
          565,
          386,
          1502,
          173,
          1520,
          1234,
          180,
          1415,
          1827,
          4592,
          2410,
          1258,
          395,
          1100,
          64,
          2776,
          5366,
          8939,
          27,
          2976,
          10233,
          5664,
          1730,
          71,
          561,
          179,
          456,
          597,
          1095,
          513,
          714,
          3471,
          592,
          24,
          1636,
          11552,
          1168,
          514,
          11048,
          14,
          798,
          4691,
          21715,
          546,
          1104,
          1321,
          8766,
          505,
          112,
          1827,
          10096,
          277,
          99028,
          9659,
          1989,
          2458,
          1031,
          3005,
          467,
          440,
          6810,
          11120,
          3715,
          5331,
          13,
          664,
          1100425,
          1753,
          null,
          2,
          7012,
          2240,
          541,
          7984,
          4,
          1996,
          2605,
          1222,
          3617,
          961,
          377,
          1598,
          149,
          4184,
          886,
          2237,
          498,
          7153,
          512,
          108,
          10588,
          523,
          1430,
          168,
          678,
          47,
          150,
          1125,
          10940,
          66,
          686,
          4989,
          221,
          9,
          50,
          474,
          129,
          296,
          34248,
          3582,
          521,
          18,
          858,
          864,
          40734,
          3609,
          8209,
          17,
          3762,
          1980,
          641,
          1215,
          24,
          6259,
          1933,
          745,
          7667,
          1785,
          560922,
          7,
          5,
          769,
          4606,
          16584,
          3521,
          431,
          13,
          2381,
          348,
          5194,
          12301,
          514,
          2568,
          9442,
          64,
          1315,
          27,
          2020,
          303,
          448,
          3321,
          4879,
          1089,
          270,
          645,
          1131,
          18,
          1227003,
          13419,
          888,
          2822,
          142,
          4126,
          3057,
          662,
          261,
          3923,
          11396,
          313,
          120,
          351,
          231,
          1568,
          269,
          361,
          505,
          422,
          31266,
          2030,
          8378,
          299,
          162,
          23646,
          4772,
          884,
          1167,
          1059,
          418,
          7974,
          790,
          619,
          70,
          1768,
          138,
          477,
          2407,
          1355,
          84,
          2269,
          479638,
          230,
          15,
          8,
          1350,
          306,
          35,
          5208,
          41,
          1003,
          1543,
          902,
          194,
          105,
          54200,
          68624,
          904,
          2222,
          807,
          7144,
          47,
          1777,
          9521,
          558,
          151,
          1587,
          34,
          740,
          266,
          244,
          24303,
          1647,
          11265,
          1225,
          15219,
          31,
          24,
          7251,
          2767,
          579,
          570,
          8937,
          698,
          138,
          606,
          2711,
          3,
          2057,
          693,
          238,
          1050,
          4561,
          1997,
          6443,
          6313,
          378,
          795,
          364,
          1237,
          2471,
          692,
          348,
          4179,
          628,
          886,
          499,
          867,
          837,
          680,
          410,
          11666,
          2230,
          1851
         ],
         "xaxis": "x",
         "yaxis": "y"
        }
       ],
       "layout": {
        "barmode": "relative",
        "legend": {
         "tracegroupgap": 0
        },
        "margin": {
         "t": 60
        },
        "template": {
         "data": {
          "bar": [
           {
            "error_x": {
             "color": "#2a3f5f"
            },
            "error_y": {
             "color": "#2a3f5f"
            },
            "marker": {
             "line": {
              "color": "#E5ECF6",
              "width": 0.5
             },
             "pattern": {
              "fillmode": "overlay",
              "size": 10,
              "solidity": 0.2
             }
            },
            "type": "bar"
           }
          ],
          "barpolar": [
           {
            "marker": {
             "line": {
              "color": "#E5ECF6",
              "width": 0.5
             },
             "pattern": {
              "fillmode": "overlay",
              "size": 10,
              "solidity": 0.2
             }
            },
            "type": "barpolar"
           }
          ],
          "carpet": [
           {
            "aaxis": {
             "endlinecolor": "#2a3f5f",
             "gridcolor": "white",
             "linecolor": "white",
             "minorgridcolor": "white",
             "startlinecolor": "#2a3f5f"
            },
            "baxis": {
             "endlinecolor": "#2a3f5f",
             "gridcolor": "white",
             "linecolor": "white",
             "minorgridcolor": "white",
             "startlinecolor": "#2a3f5f"
            },
            "type": "carpet"
           }
          ],
          "choropleth": [
           {
            "colorbar": {
             "outlinewidth": 0,
             "ticks": ""
            },
            "type": "choropleth"
           }
          ],
          "contour": [
           {
            "colorbar": {
             "outlinewidth": 0,
             "ticks": ""
            },
            "colorscale": [
             [
              0,
              "#0d0887"
             ],
             [
              0.1111111111111111,
              "#46039f"
             ],
             [
              0.2222222222222222,
              "#7201a8"
             ],
             [
              0.3333333333333333,
              "#9c179e"
             ],
             [
              0.4444444444444444,
              "#bd3786"
             ],
             [
              0.5555555555555556,
              "#d8576b"
             ],
             [
              0.6666666666666666,
              "#ed7953"
             ],
             [
              0.7777777777777778,
              "#fb9f3a"
             ],
             [
              0.8888888888888888,
              "#fdca26"
             ],
             [
              1,
              "#f0f921"
             ]
            ],
            "type": "contour"
           }
          ],
          "contourcarpet": [
           {
            "colorbar": {
             "outlinewidth": 0,
             "ticks": ""
            },
            "type": "contourcarpet"
           }
          ],
          "heatmap": [
           {
            "colorbar": {
             "outlinewidth": 0,
             "ticks": ""
            },
            "colorscale": [
             [
              0,
              "#0d0887"
             ],
             [
              0.1111111111111111,
              "#46039f"
             ],
             [
              0.2222222222222222,
              "#7201a8"
             ],
             [
              0.3333333333333333,
              "#9c179e"
             ],
             [
              0.4444444444444444,
              "#bd3786"
             ],
             [
              0.5555555555555556,
              "#d8576b"
             ],
             [
              0.6666666666666666,
              "#ed7953"
             ],
             [
              0.7777777777777778,
              "#fb9f3a"
             ],
             [
              0.8888888888888888,
              "#fdca26"
             ],
             [
              1,
              "#f0f921"
             ]
            ],
            "type": "heatmap"
           }
          ],
          "heatmapgl": [
           {
            "colorbar": {
             "outlinewidth": 0,
             "ticks": ""
            },
            "colorscale": [
             [
              0,
              "#0d0887"
             ],
             [
              0.1111111111111111,
              "#46039f"
             ],
             [
              0.2222222222222222,
              "#7201a8"
             ],
             [
              0.3333333333333333,
              "#9c179e"
             ],
             [
              0.4444444444444444,
              "#bd3786"
             ],
             [
              0.5555555555555556,
              "#d8576b"
             ],
             [
              0.6666666666666666,
              "#ed7953"
             ],
             [
              0.7777777777777778,
              "#fb9f3a"
             ],
             [
              0.8888888888888888,
              "#fdca26"
             ],
             [
              1,
              "#f0f921"
             ]
            ],
            "type": "heatmapgl"
           }
          ],
          "histogram": [
           {
            "marker": {
             "pattern": {
              "fillmode": "overlay",
              "size": 10,
              "solidity": 0.2
             }
            },
            "type": "histogram"
           }
          ],
          "histogram2d": [
           {
            "colorbar": {
             "outlinewidth": 0,
             "ticks": ""
            },
            "colorscale": [
             [
              0,
              "#0d0887"
             ],
             [
              0.1111111111111111,
              "#46039f"
             ],
             [
              0.2222222222222222,
              "#7201a8"
             ],
             [
              0.3333333333333333,
              "#9c179e"
             ],
             [
              0.4444444444444444,
              "#bd3786"
             ],
             [
              0.5555555555555556,
              "#d8576b"
             ],
             [
              0.6666666666666666,
              "#ed7953"
             ],
             [
              0.7777777777777778,
              "#fb9f3a"
             ],
             [
              0.8888888888888888,
              "#fdca26"
             ],
             [
              1,
              "#f0f921"
             ]
            ],
            "type": "histogram2d"
           }
          ],
          "histogram2dcontour": [
           {
            "colorbar": {
             "outlinewidth": 0,
             "ticks": ""
            },
            "colorscale": [
             [
              0,
              "#0d0887"
             ],
             [
              0.1111111111111111,
              "#46039f"
             ],
             [
              0.2222222222222222,
              "#7201a8"
             ],
             [
              0.3333333333333333,
              "#9c179e"
             ],
             [
              0.4444444444444444,
              "#bd3786"
             ],
             [
              0.5555555555555556,
              "#d8576b"
             ],
             [
              0.6666666666666666,
              "#ed7953"
             ],
             [
              0.7777777777777778,
              "#fb9f3a"
             ],
             [
              0.8888888888888888,
              "#fdca26"
             ],
             [
              1,
              "#f0f921"
             ]
            ],
            "type": "histogram2dcontour"
           }
          ],
          "mesh3d": [
           {
            "colorbar": {
             "outlinewidth": 0,
             "ticks": ""
            },
            "type": "mesh3d"
           }
          ],
          "parcoords": [
           {
            "line": {
             "colorbar": {
              "outlinewidth": 0,
              "ticks": ""
             }
            },
            "type": "parcoords"
           }
          ],
          "pie": [
           {
            "automargin": true,
            "type": "pie"
           }
          ],
          "scatter": [
           {
            "marker": {
             "colorbar": {
              "outlinewidth": 0,
              "ticks": ""
             }
            },
            "type": "scatter"
           }
          ],
          "scatter3d": [
           {
            "line": {
             "colorbar": {
              "outlinewidth": 0,
              "ticks": ""
             }
            },
            "marker": {
             "colorbar": {
              "outlinewidth": 0,
              "ticks": ""
             }
            },
            "type": "scatter3d"
           }
          ],
          "scattercarpet": [
           {
            "marker": {
             "colorbar": {
              "outlinewidth": 0,
              "ticks": ""
             }
            },
            "type": "scattercarpet"
           }
          ],
          "scattergeo": [
           {
            "marker": {
             "colorbar": {
              "outlinewidth": 0,
              "ticks": ""
             }
            },
            "type": "scattergeo"
           }
          ],
          "scattergl": [
           {
            "marker": {
             "colorbar": {
              "outlinewidth": 0,
              "ticks": ""
             }
            },
            "type": "scattergl"
           }
          ],
          "scattermapbox": [
           {
            "marker": {
             "colorbar": {
              "outlinewidth": 0,
              "ticks": ""
             }
            },
            "type": "scattermapbox"
           }
          ],
          "scatterpolar": [
           {
            "marker": {
             "colorbar": {
              "outlinewidth": 0,
              "ticks": ""
             }
            },
            "type": "scatterpolar"
           }
          ],
          "scatterpolargl": [
           {
            "marker": {
             "colorbar": {
              "outlinewidth": 0,
              "ticks": ""
             }
            },
            "type": "scatterpolargl"
           }
          ],
          "scatterternary": [
           {
            "marker": {
             "colorbar": {
              "outlinewidth": 0,
              "ticks": ""
             }
            },
            "type": "scatterternary"
           }
          ],
          "surface": [
           {
            "colorbar": {
             "outlinewidth": 0,
             "ticks": ""
            },
            "colorscale": [
             [
              0,
              "#0d0887"
             ],
             [
              0.1111111111111111,
              "#46039f"
             ],
             [
              0.2222222222222222,
              "#7201a8"
             ],
             [
              0.3333333333333333,
              "#9c179e"
             ],
             [
              0.4444444444444444,
              "#bd3786"
             ],
             [
              0.5555555555555556,
              "#d8576b"
             ],
             [
              0.6666666666666666,
              "#ed7953"
             ],
             [
              0.7777777777777778,
              "#fb9f3a"
             ],
             [
              0.8888888888888888,
              "#fdca26"
             ],
             [
              1,
              "#f0f921"
             ]
            ],
            "type": "surface"
           }
          ],
          "table": [
           {
            "cells": {
             "fill": {
              "color": "#EBF0F8"
             },
             "line": {
              "color": "white"
             }
            },
            "header": {
             "fill": {
              "color": "#C8D4E3"
             },
             "line": {
              "color": "white"
             }
            },
            "type": "table"
           }
          ]
         },
         "layout": {
          "annotationdefaults": {
           "arrowcolor": "#2a3f5f",
           "arrowhead": 0,
           "arrowwidth": 1
          },
          "autotypenumbers": "strict",
          "coloraxis": {
           "colorbar": {
            "outlinewidth": 0,
            "ticks": ""
           }
          },
          "colorscale": {
           "diverging": [
            [
             0,
             "#8e0152"
            ],
            [
             0.1,
             "#c51b7d"
            ],
            [
             0.2,
             "#de77ae"
            ],
            [
             0.3,
             "#f1b6da"
            ],
            [
             0.4,
             "#fde0ef"
            ],
            [
             0.5,
             "#f7f7f7"
            ],
            [
             0.6,
             "#e6f5d0"
            ],
            [
             0.7,
             "#b8e186"
            ],
            [
             0.8,
             "#7fbc41"
            ],
            [
             0.9,
             "#4d9221"
            ],
            [
             1,
             "#276419"
            ]
           ],
           "sequential": [
            [
             0,
             "#0d0887"
            ],
            [
             0.1111111111111111,
             "#46039f"
            ],
            [
             0.2222222222222222,
             "#7201a8"
            ],
            [
             0.3333333333333333,
             "#9c179e"
            ],
            [
             0.4444444444444444,
             "#bd3786"
            ],
            [
             0.5555555555555556,
             "#d8576b"
            ],
            [
             0.6666666666666666,
             "#ed7953"
            ],
            [
             0.7777777777777778,
             "#fb9f3a"
            ],
            [
             0.8888888888888888,
             "#fdca26"
            ],
            [
             1,
             "#f0f921"
            ]
           ],
           "sequentialminus": [
            [
             0,
             "#0d0887"
            ],
            [
             0.1111111111111111,
             "#46039f"
            ],
            [
             0.2222222222222222,
             "#7201a8"
            ],
            [
             0.3333333333333333,
             "#9c179e"
            ],
            [
             0.4444444444444444,
             "#bd3786"
            ],
            [
             0.5555555555555556,
             "#d8576b"
            ],
            [
             0.6666666666666666,
             "#ed7953"
            ],
            [
             0.7777777777777778,
             "#fb9f3a"
            ],
            [
             0.8888888888888888,
             "#fdca26"
            ],
            [
             1,
             "#f0f921"
            ]
           ]
          },
          "colorway": [
           "#636efa",
           "#EF553B",
           "#00cc96",
           "#ab63fa",
           "#FFA15A",
           "#19d3f3",
           "#FF6692",
           "#B6E880",
           "#FF97FF",
           "#FECB52"
          ],
          "font": {
           "color": "#2a3f5f"
          },
          "geo": {
           "bgcolor": "white",
           "lakecolor": "white",
           "landcolor": "#E5ECF6",
           "showlakes": true,
           "showland": true,
           "subunitcolor": "white"
          },
          "hoverlabel": {
           "align": "left"
          },
          "hovermode": "closest",
          "mapbox": {
           "style": "light"
          },
          "paper_bgcolor": "white",
          "plot_bgcolor": "#E5ECF6",
          "polar": {
           "angularaxis": {
            "gridcolor": "white",
            "linecolor": "white",
            "ticks": ""
           },
           "bgcolor": "#E5ECF6",
           "radialaxis": {
            "gridcolor": "white",
            "linecolor": "white",
            "ticks": ""
           }
          },
          "scene": {
           "xaxis": {
            "backgroundcolor": "#E5ECF6",
            "gridcolor": "white",
            "gridwidth": 2,
            "linecolor": "white",
            "showbackground": true,
            "ticks": "",
            "zerolinecolor": "white"
           },
           "yaxis": {
            "backgroundcolor": "#E5ECF6",
            "gridcolor": "white",
            "gridwidth": 2,
            "linecolor": "white",
            "showbackground": true,
            "ticks": "",
            "zerolinecolor": "white"
           },
           "zaxis": {
            "backgroundcolor": "#E5ECF6",
            "gridcolor": "white",
            "gridwidth": 2,
            "linecolor": "white",
            "showbackground": true,
            "ticks": "",
            "zerolinecolor": "white"
           }
          },
          "shapedefaults": {
           "line": {
            "color": "#2a3f5f"
           }
          },
          "ternary": {
           "aaxis": {
            "gridcolor": "white",
            "linecolor": "white",
            "ticks": ""
           },
           "baxis": {
            "gridcolor": "white",
            "linecolor": "white",
            "ticks": ""
           },
           "bgcolor": "#E5ECF6",
           "caxis": {
            "gridcolor": "white",
            "linecolor": "white",
            "ticks": ""
           }
          },
          "title": {
           "x": 0.05
          },
          "xaxis": {
           "automargin": true,
           "gridcolor": "white",
           "linecolor": "white",
           "ticks": "",
           "title": {
            "standoff": 15
           },
           "zerolinecolor": "white",
           "zerolinewidth": 2
          },
          "yaxis": {
           "automargin": true,
           "gridcolor": "white",
           "linecolor": "white",
           "ticks": "",
           "title": {
            "standoff": 15
           },
           "zerolinecolor": "white",
           "zerolinewidth": 2
          }
         }
        },
        "xaxis": {
         "anchor": "y",
         "domain": [
          0,
          1
         ],
         "title": {
          "text": "n_likes"
         }
        },
        "yaxis": {
         "anchor": "x",
         "domain": [
          0,
          1
         ],
         "title": {
          "text": "count"
         }
        }
       }
      },
      "text/html": [
       "<div>                            <div id=\"8e90d6e6-58a6-409e-a4f5-386c40422974\" class=\"plotly-graph-div\" style=\"height:525px; width:100%;\"></div>            <script type=\"text/javascript\">                require([\"plotly\"], function(Plotly) {                    window.PLOTLYENV=window.PLOTLYENV || {};                                    if (document.getElementById(\"8e90d6e6-58a6-409e-a4f5-386c40422974\")) {                    Plotly.newPlot(                        \"8e90d6e6-58a6-409e-a4f5-386c40422974\",                        [{\"alignmentgroup\":\"True\",\"bingroup\":\"x\",\"hovertemplate\":\"n_likes=%{x}<br>count=%{y}<extra></extra>\",\"legendgroup\":\"\",\"marker\":{\"color\":\"#636efa\",\"pattern\":{\"shape\":\"\"}},\"name\":\"\",\"offsetgroup\":\"\",\"orientation\":\"v\",\"showlegend\":false,\"type\":\"histogram\",\"x\":[318.0,2439.0,207.0,11524.0,6821.0,2907.0,69.0,21366.0,2457.0,4734.0,757.0,36166.0,3276.0,537.0,293.0,712.0,983.0,1366.0,null,2335.0,25642.0,477.0,64420.0,119.0,3479.0,345.0,3278.0,4580.0,62610.0,1597.0,8579.0,1239.0,683.0,4411.0,1017.0,329.0,1101.0,1391.0,14892.0,5022.0,11451.0,1959.0,1217.0,1537.0,61128.0,54180.0,617.0,4253.0,12957.0,9602.0,1267.0,725.0,37575.0,60.0,2314.0,11656.0,14011.0,5078.0,7039.0,4355.0,83.0,27087.0,31977.0,3837.0,1215.0,577.0,726.0,17151.0,261.0,5016.0,6661.0,6616.0,131103.0,208.0,4659.0,88.0,1495.0,3517.0,291.0,1201.0,null,8333.0,884.0,23078.0,33304.0,835.0,76.0,4572.0,9233.0,20852.0,373.0,3642.0,1398.0,903.0,123795.0,1106.0,11243.0,12978.0,22418.0,5442.0,1876.0,973.0,null,11.0,4677.0,817.0,74.0,24141.0,50.0,10225.0,12.0,455.0,1889.0,13215.0,3325.0,4634.0,549.0,2755.0,1534.0,2646.0,9287.0,55862.0,5622.0,605.0,3045.0,12972.0,111.0,12158.0,15907.0,19244.0,9576.0,1522.0,129.0,2179.0,3152.0,4961.0,1635.0,1979.0,2332.0,1094.0,1374.0,3562.0,5688.0,232.0,15.0,800.0,27340.0,2392.0,13202.0,3017.0,48.0,204.0,9722.0,8366.0,2998.0,486.0,220.0,232.0,219.0,143.0,14351.0,16949.0,723.0,912.0,9735.0,879.0,2320.0,399.0,1193.0,3110.0,1440.0,3978.0,6506.0,5565.0,462.0,3745.0,9813.0,2767.0,5037.0,76.0,194.0,3491.0,589.0,53582.0,187.0,218.0,21093.0,8721.0,1188.0,15025.0,210.0,1601.0,72.0,98986.0,159.0,11441.0,17678.0,6692.0,21603.0,2382.0,111.0,11679.0,2609.0,5609.0,1538.0,7644.0,4221.0,3270.0,16072.0,6391.0,808.0,2828.0,24602.0,3542.0,7784.0,3279.0,2119.0,1488.0,8069.0,35395.0,3844.0,2021.0,4895.0,13276.0,6431.0,null,5356.0,2202.0,8638.0,null,945.0,11712.0,52751.0,786.0,3910.0,1267.0,10285.0,3920.0,315.0,18267.0,1016.0,934.0,2057.0,18.0,2974.0,706.0,440.0,4.0,1371.0,10.0,1586.0,17789.0,1369.0,46.0,339.0,139.0,78.0,3320.0,9421.0,2966.0,5413.0,5262.0,730.0,680.0,1093.0,4191.0,860.0,346.0,1082.0,23095.0,null,43.0,151.0,138.0,20.0,1364.0,877.0,2303.0,9029.0,223.0,4088.0,2759.0,6882.0,7630.0,44.0,1570.0,1366.0,12509.0,4480.0,1081.0,1256.0,824.0,9.0,1734.0,3968.0,8998.0,9.0,3263.0,2861.0,658.0,25898.0,5240.0,2135.0,340.0,85.0,567.0,3409.0,741.0,6973.0,1574.0,133422.0,6433.0,92.0,669.0,12397.0,233.0,949.0,853.0,4361.0,1685.0,5243.0,146.0,184.0,1537.0,565.0,386.0,1502.0,173.0,1520.0,1234.0,180.0,1415.0,1827.0,4592.0,2410.0,1258.0,395.0,1100.0,64.0,2776.0,5366.0,8939.0,27.0,2976.0,10233.0,5664.0,1730.0,71.0,561.0,179.0,456.0,597.0,1095.0,513.0,714.0,3471.0,592.0,24.0,1636.0,11552.0,1168.0,514.0,11048.0,14.0,798.0,4691.0,21715.0,546.0,1104.0,1321.0,8766.0,505.0,112.0,1827.0,10096.0,277.0,99028.0,9659.0,1989.0,2458.0,1031.0,3005.0,467.0,440.0,6810.0,11120.0,3715.0,5331.0,13.0,664.0,1100425.0,1753.0,null,2.0,7012.0,2240.0,541.0,7984.0,4.0,1996.0,2605.0,1222.0,3617.0,961.0,377.0,1598.0,149.0,4184.0,886.0,2237.0,498.0,7153.0,512.0,108.0,10588.0,523.0,1430.0,168.0,678.0,47.0,150.0,1125.0,10940.0,66.0,686.0,4989.0,221.0,9.0,50.0,474.0,129.0,296.0,34248.0,3582.0,521.0,18.0,858.0,864.0,40734.0,3609.0,8209.0,17.0,3762.0,1980.0,641.0,1215.0,24.0,6259.0,1933.0,745.0,7667.0,1785.0,560922.0,7.0,5.0,769.0,4606.0,16584.0,3521.0,431.0,13.0,2381.0,348.0,5194.0,12301.0,514.0,2568.0,9442.0,64.0,1315.0,27.0,2020.0,303.0,448.0,3321.0,4879.0,1089.0,270.0,645.0,1131.0,18.0,1227003.0,13419.0,888.0,2822.0,142.0,4126.0,3057.0,662.0,261.0,3923.0,11396.0,313.0,120.0,351.0,231.0,1568.0,269.0,361.0,505.0,422.0,31266.0,2030.0,8378.0,299.0,162.0,23646.0,4772.0,884.0,1167.0,1059.0,418.0,7974.0,790.0,619.0,70.0,1768.0,138.0,477.0,2407.0,1355.0,84.0,2269.0,479638.0,230.0,15.0,8.0,1350.0,306.0,35.0,5208.0,41.0,1003.0,1543.0,902.0,194.0,105.0,54200.0,68624.0,904.0,2222.0,807.0,7144.0,47.0,1777.0,9521.0,558.0,151.0,1587.0,34.0,740.0,266.0,244.0,24303.0,1647.0,11265.0,1225.0,15219.0,31.0,24.0,7251.0,2767.0,579.0,570.0,8937.0,698.0,138.0,606.0,2711.0,3.0,2057.0,693.0,238.0,1050.0,4561.0,1997.0,6443.0,6313.0,378.0,795.0,364.0,1237.0,2471.0,692.0,348.0,4179.0,628.0,886.0,499.0,867.0,837.0,680.0,410.0,11666.0,2230.0,1851.0],\"xaxis\":\"x\",\"yaxis\":\"y\"}],                        {\"barmode\":\"relative\",\"legend\":{\"tracegroupgap\":0},\"margin\":{\"t\":60},\"template\":{\"data\":{\"bar\":[{\"error_x\":{\"color\":\"#2a3f5f\"},\"error_y\":{\"color\":\"#2a3f5f\"},\"marker\":{\"line\":{\"color\":\"#E5ECF6\",\"width\":0.5},\"pattern\":{\"fillmode\":\"overlay\",\"size\":10,\"solidity\":0.2}},\"type\":\"bar\"}],\"barpolar\":[{\"marker\":{\"line\":{\"color\":\"#E5ECF6\",\"width\":0.5},\"pattern\":{\"fillmode\":\"overlay\",\"size\":10,\"solidity\":0.2}},\"type\":\"barpolar\"}],\"carpet\":[{\"aaxis\":{\"endlinecolor\":\"#2a3f5f\",\"gridcolor\":\"white\",\"linecolor\":\"white\",\"minorgridcolor\":\"white\",\"startlinecolor\":\"#2a3f5f\"},\"baxis\":{\"endlinecolor\":\"#2a3f5f\",\"gridcolor\":\"white\",\"linecolor\":\"white\",\"minorgridcolor\":\"white\",\"startlinecolor\":\"#2a3f5f\"},\"type\":\"carpet\"}],\"choropleth\":[{\"colorbar\":{\"outlinewidth\":0,\"ticks\":\"\"},\"type\":\"choropleth\"}],\"contour\":[{\"colorbar\":{\"outlinewidth\":0,\"ticks\":\"\"},\"colorscale\":[[0.0,\"#0d0887\"],[0.1111111111111111,\"#46039f\"],[0.2222222222222222,\"#7201a8\"],[0.3333333333333333,\"#9c179e\"],[0.4444444444444444,\"#bd3786\"],[0.5555555555555556,\"#d8576b\"],[0.6666666666666666,\"#ed7953\"],[0.7777777777777778,\"#fb9f3a\"],[0.8888888888888888,\"#fdca26\"],[1.0,\"#f0f921\"]],\"type\":\"contour\"}],\"contourcarpet\":[{\"colorbar\":{\"outlinewidth\":0,\"ticks\":\"\"},\"type\":\"contourcarpet\"}],\"heatmap\":[{\"colorbar\":{\"outlinewidth\":0,\"ticks\":\"\"},\"colorscale\":[[0.0,\"#0d0887\"],[0.1111111111111111,\"#46039f\"],[0.2222222222222222,\"#7201a8\"],[0.3333333333333333,\"#9c179e\"],[0.4444444444444444,\"#bd3786\"],[0.5555555555555556,\"#d8576b\"],[0.6666666666666666,\"#ed7953\"],[0.7777777777777778,\"#fb9f3a\"],[0.8888888888888888,\"#fdca26\"],[1.0,\"#f0f921\"]],\"type\":\"heatmap\"}],\"heatmapgl\":[{\"colorbar\":{\"outlinewidth\":0,\"ticks\":\"\"},\"colorscale\":[[0.0,\"#0d0887\"],[0.1111111111111111,\"#46039f\"],[0.2222222222222222,\"#7201a8\"],[0.3333333333333333,\"#9c179e\"],[0.4444444444444444,\"#bd3786\"],[0.5555555555555556,\"#d8576b\"],[0.6666666666666666,\"#ed7953\"],[0.7777777777777778,\"#fb9f3a\"],[0.8888888888888888,\"#fdca26\"],[1.0,\"#f0f921\"]],\"type\":\"heatmapgl\"}],\"histogram\":[{\"marker\":{\"pattern\":{\"fillmode\":\"overlay\",\"size\":10,\"solidity\":0.2}},\"type\":\"histogram\"}],\"histogram2d\":[{\"colorbar\":{\"outlinewidth\":0,\"ticks\":\"\"},\"colorscale\":[[0.0,\"#0d0887\"],[0.1111111111111111,\"#46039f\"],[0.2222222222222222,\"#7201a8\"],[0.3333333333333333,\"#9c179e\"],[0.4444444444444444,\"#bd3786\"],[0.5555555555555556,\"#d8576b\"],[0.6666666666666666,\"#ed7953\"],[0.7777777777777778,\"#fb9f3a\"],[0.8888888888888888,\"#fdca26\"],[1.0,\"#f0f921\"]],\"type\":\"histogram2d\"}],\"histogram2dcontour\":[{\"colorbar\":{\"outlinewidth\":0,\"ticks\":\"\"},\"colorscale\":[[0.0,\"#0d0887\"],[0.1111111111111111,\"#46039f\"],[0.2222222222222222,\"#7201a8\"],[0.3333333333333333,\"#9c179e\"],[0.4444444444444444,\"#bd3786\"],[0.5555555555555556,\"#d8576b\"],[0.6666666666666666,\"#ed7953\"],[0.7777777777777778,\"#fb9f3a\"],[0.8888888888888888,\"#fdca26\"],[1.0,\"#f0f921\"]],\"type\":\"histogram2dcontour\"}],\"mesh3d\":[{\"colorbar\":{\"outlinewidth\":0,\"ticks\":\"\"},\"type\":\"mesh3d\"}],\"parcoords\":[{\"line\":{\"colorbar\":{\"outlinewidth\":0,\"ticks\":\"\"}},\"type\":\"parcoords\"}],\"pie\":[{\"automargin\":true,\"type\":\"pie\"}],\"scatter\":[{\"marker\":{\"colorbar\":{\"outlinewidth\":0,\"ticks\":\"\"}},\"type\":\"scatter\"}],\"scatter3d\":[{\"line\":{\"colorbar\":{\"outlinewidth\":0,\"ticks\":\"\"}},\"marker\":{\"colorbar\":{\"outlinewidth\":0,\"ticks\":\"\"}},\"type\":\"scatter3d\"}],\"scattercarpet\":[{\"marker\":{\"colorbar\":{\"outlinewidth\":0,\"ticks\":\"\"}},\"type\":\"scattercarpet\"}],\"scattergeo\":[{\"marker\":{\"colorbar\":{\"outlinewidth\":0,\"ticks\":\"\"}},\"type\":\"scattergeo\"}],\"scattergl\":[{\"marker\":{\"colorbar\":{\"outlinewidth\":0,\"ticks\":\"\"}},\"type\":\"scattergl\"}],\"scattermapbox\":[{\"marker\":{\"colorbar\":{\"outlinewidth\":0,\"ticks\":\"\"}},\"type\":\"scattermapbox\"}],\"scatterpolar\":[{\"marker\":{\"colorbar\":{\"outlinewidth\":0,\"ticks\":\"\"}},\"type\":\"scatterpolar\"}],\"scatterpolargl\":[{\"marker\":{\"colorbar\":{\"outlinewidth\":0,\"ticks\":\"\"}},\"type\":\"scatterpolargl\"}],\"scatterternary\":[{\"marker\":{\"colorbar\":{\"outlinewidth\":0,\"ticks\":\"\"}},\"type\":\"scatterternary\"}],\"surface\":[{\"colorbar\":{\"outlinewidth\":0,\"ticks\":\"\"},\"colorscale\":[[0.0,\"#0d0887\"],[0.1111111111111111,\"#46039f\"],[0.2222222222222222,\"#7201a8\"],[0.3333333333333333,\"#9c179e\"],[0.4444444444444444,\"#bd3786\"],[0.5555555555555556,\"#d8576b\"],[0.6666666666666666,\"#ed7953\"],[0.7777777777777778,\"#fb9f3a\"],[0.8888888888888888,\"#fdca26\"],[1.0,\"#f0f921\"]],\"type\":\"surface\"}],\"table\":[{\"cells\":{\"fill\":{\"color\":\"#EBF0F8\"},\"line\":{\"color\":\"white\"}},\"header\":{\"fill\":{\"color\":\"#C8D4E3\"},\"line\":{\"color\":\"white\"}},\"type\":\"table\"}]},\"layout\":{\"annotationdefaults\":{\"arrowcolor\":\"#2a3f5f\",\"arrowhead\":0,\"arrowwidth\":1},\"autotypenumbers\":\"strict\",\"coloraxis\":{\"colorbar\":{\"outlinewidth\":0,\"ticks\":\"\"}},\"colorscale\":{\"diverging\":[[0,\"#8e0152\"],[0.1,\"#c51b7d\"],[0.2,\"#de77ae\"],[0.3,\"#f1b6da\"],[0.4,\"#fde0ef\"],[0.5,\"#f7f7f7\"],[0.6,\"#e6f5d0\"],[0.7,\"#b8e186\"],[0.8,\"#7fbc41\"],[0.9,\"#4d9221\"],[1,\"#276419\"]],\"sequential\":[[0.0,\"#0d0887\"],[0.1111111111111111,\"#46039f\"],[0.2222222222222222,\"#7201a8\"],[0.3333333333333333,\"#9c179e\"],[0.4444444444444444,\"#bd3786\"],[0.5555555555555556,\"#d8576b\"],[0.6666666666666666,\"#ed7953\"],[0.7777777777777778,\"#fb9f3a\"],[0.8888888888888888,\"#fdca26\"],[1.0,\"#f0f921\"]],\"sequentialminus\":[[0.0,\"#0d0887\"],[0.1111111111111111,\"#46039f\"],[0.2222222222222222,\"#7201a8\"],[0.3333333333333333,\"#9c179e\"],[0.4444444444444444,\"#bd3786\"],[0.5555555555555556,\"#d8576b\"],[0.6666666666666666,\"#ed7953\"],[0.7777777777777778,\"#fb9f3a\"],[0.8888888888888888,\"#fdca26\"],[1.0,\"#f0f921\"]]},\"colorway\":[\"#636efa\",\"#EF553B\",\"#00cc96\",\"#ab63fa\",\"#FFA15A\",\"#19d3f3\",\"#FF6692\",\"#B6E880\",\"#FF97FF\",\"#FECB52\"],\"font\":{\"color\":\"#2a3f5f\"},\"geo\":{\"bgcolor\":\"white\",\"lakecolor\":\"white\",\"landcolor\":\"#E5ECF6\",\"showlakes\":true,\"showland\":true,\"subunitcolor\":\"white\"},\"hoverlabel\":{\"align\":\"left\"},\"hovermode\":\"closest\",\"mapbox\":{\"style\":\"light\"},\"paper_bgcolor\":\"white\",\"plot_bgcolor\":\"#E5ECF6\",\"polar\":{\"angularaxis\":{\"gridcolor\":\"white\",\"linecolor\":\"white\",\"ticks\":\"\"},\"bgcolor\":\"#E5ECF6\",\"radialaxis\":{\"gridcolor\":\"white\",\"linecolor\":\"white\",\"ticks\":\"\"}},\"scene\":{\"xaxis\":{\"backgroundcolor\":\"#E5ECF6\",\"gridcolor\":\"white\",\"gridwidth\":2,\"linecolor\":\"white\",\"showbackground\":true,\"ticks\":\"\",\"zerolinecolor\":\"white\"},\"yaxis\":{\"backgroundcolor\":\"#E5ECF6\",\"gridcolor\":\"white\",\"gridwidth\":2,\"linecolor\":\"white\",\"showbackground\":true,\"ticks\":\"\",\"zerolinecolor\":\"white\"},\"zaxis\":{\"backgroundcolor\":\"#E5ECF6\",\"gridcolor\":\"white\",\"gridwidth\":2,\"linecolor\":\"white\",\"showbackground\":true,\"ticks\":\"\",\"zerolinecolor\":\"white\"}},\"shapedefaults\":{\"line\":{\"color\":\"#2a3f5f\"}},\"ternary\":{\"aaxis\":{\"gridcolor\":\"white\",\"linecolor\":\"white\",\"ticks\":\"\"},\"baxis\":{\"gridcolor\":\"white\",\"linecolor\":\"white\",\"ticks\":\"\"},\"bgcolor\":\"#E5ECF6\",\"caxis\":{\"gridcolor\":\"white\",\"linecolor\":\"white\",\"ticks\":\"\"}},\"title\":{\"x\":0.05},\"xaxis\":{\"automargin\":true,\"gridcolor\":\"white\",\"linecolor\":\"white\",\"ticks\":\"\",\"title\":{\"standoff\":15},\"zerolinecolor\":\"white\",\"zerolinewidth\":2},\"yaxis\":{\"automargin\":true,\"gridcolor\":\"white\",\"linecolor\":\"white\",\"ticks\":\"\",\"title\":{\"standoff\":15},\"zerolinecolor\":\"white\",\"zerolinewidth\":2}}},\"xaxis\":{\"anchor\":\"y\",\"domain\":[0.0,1.0],\"title\":{\"text\":\"n_likes\"}},\"yaxis\":{\"anchor\":\"x\",\"domain\":[0.0,1.0],\"title\":{\"text\":\"count\"}}},                        {\"responsive\": true}                    ).then(function(){\n",
       "                            \n",
       "var gd = document.getElementById('8e90d6e6-58a6-409e-a4f5-386c40422974');\n",
       "var x = new MutationObserver(function (mutations, observer) {{\n",
       "        var display = window.getComputedStyle(gd).display;\n",
       "        if (!display || display === 'none') {{\n",
       "            console.log([gd, 'removed!']);\n",
       "            Plotly.purge(gd);\n",
       "            observer.disconnect();\n",
       "        }}\n",
       "}});\n",
       "\n",
       "// Listen for the removal of the full notebook cells\n",
       "var notebookContainer = gd.closest('#notebook-container');\n",
       "if (notebookContainer) {{\n",
       "    x.observe(notebookContainer, {childList: true});\n",
       "}}\n",
       "\n",
       "// Listen for the clearing of the current output cell\n",
       "var outputEl = gd.closest('.output');\n",
       "if (outputEl) {{\n",
       "    x.observe(outputEl, {childList: true});\n",
       "}}\n",
       "\n",
       "                        })                };                });            </script>        </div>"
      ]
     },
     "metadata": {},
     "output_type": "display_data"
    }
   ],
   "source": [
    "plot(df_videos_dec_urls, \"n_likes\")"
   ]
  },
  {
   "cell_type": "code",
   "execution_count": 234,
   "id": "443d9995",
   "metadata": {},
   "outputs": [],
   "source": [
    "df_videos_dec_urls_top_likes = df_videos_dec_urls[df_videos_dec_urls.n_likes > 10000]"
   ]
  },
  {
   "cell_type": "code",
   "execution_count": 235,
   "id": "3f45f77d",
   "metadata": {},
   "outputs": [],
   "source": [
    "df_videos_dec_urls_top_likes.sort_values(\"n_likes\", ascending=False, inplace=True)"
   ]
  },
  {
   "cell_type": "code",
   "execution_count": 236,
   "id": "df589351",
   "metadata": {},
   "outputs": [
    {
     "data": {
      "text/html": [
       "<div>\n",
       "<style scoped>\n",
       "    .dataframe tbody tr th:only-of-type {\n",
       "        vertical-align: middle;\n",
       "    }\n",
       "\n",
       "    .dataframe tbody tr th {\n",
       "        vertical-align: top;\n",
       "    }\n",
       "\n",
       "    .dataframe thead th {\n",
       "        text-align: right;\n",
       "    }\n",
       "</style>\n",
       "<table border=\"1\" class=\"dataframe\">\n",
       "  <thead>\n",
       "    <tr style=\"text-align: right;\">\n",
       "      <th></th>\n",
       "      <th>urls</th>\n",
       "      <th>n_likes</th>\n",
       "    </tr>\n",
       "  </thead>\n",
       "  <tbody>\n",
       "    <tr>\n",
       "      <th>481</th>\n",
       "      <td>['https://madisonbeer.lnk.to/selfish', 'https:...</td>\n",
       "      <td>1227003.0</td>\n",
       "    </tr>\n",
       "    <tr>\n",
       "      <th>390</th>\n",
       "      <td>['http://wwe.yt/wwenetwork', 'http://wwe.yt/',...</td>\n",
       "      <td>1100425.0</td>\n",
       "    </tr>\n",
       "    <tr>\n",
       "      <th>452</th>\n",
       "      <td>['https://www.youtube.com/watch?v=-t_pzplyvag']</td>\n",
       "      <td>560922.0</td>\n",
       "    </tr>\n",
       "    <tr>\n",
       "      <th>523</th>\n",
       "      <td>['https://supr.cl/playbrawl', 'https://supr.cl...</td>\n",
       "      <td>479638.0</td>\n",
       "    </tr>\n",
       "    <tr>\n",
       "      <th>310</th>\n",
       "      <td>['https://youtube.com/tomharlockvideos', 'http...</td>\n",
       "      <td>133422.0</td>\n",
       "    </tr>\n",
       "    <tr>\n",
       "      <th>...</th>\n",
       "      <td>...</td>\n",
       "      <td>...</td>\n",
       "    </tr>\n",
       "    <tr>\n",
       "      <th>414</th>\n",
       "      <td>['https://www.indiegogo.com/projects/another-c...</td>\n",
       "      <td>10588.0</td>\n",
       "    </tr>\n",
       "    <tr>\n",
       "      <th>236</th>\n",
       "      <td>['https://www.nickiswift.com/202178/the-real-r...</td>\n",
       "      <td>10285.0</td>\n",
       "    </tr>\n",
       "    <tr>\n",
       "      <th>344</th>\n",
       "      <td>['https://teespring.com/stores/yellowflash-mer...</td>\n",
       "      <td>10233.0</td>\n",
       "    </tr>\n",
       "    <tr>\n",
       "      <th>109</th>\n",
       "      <td>['http://bit.ly/2xb5cqa', 'https://www.youtube...</td>\n",
       "      <td>10225.0</td>\n",
       "    </tr>\n",
       "    <tr>\n",
       "      <th>374</th>\n",
       "      <td>['https://www.indiegogo.com/projects/another-c...</td>\n",
       "      <td>10096.0</td>\n",
       "    </tr>\n",
       "  </tbody>\n",
       "</table>\n",
       "<p>86 rows × 2 columns</p>\n",
       "</div>"
      ],
      "text/plain": [
       "                                                  urls    n_likes\n",
       "481  ['https://madisonbeer.lnk.to/selfish', 'https:...  1227003.0\n",
       "390  ['http://wwe.yt/wwenetwork', 'http://wwe.yt/',...  1100425.0\n",
       "452    ['https://www.youtube.com/watch?v=-t_pzplyvag']   560922.0\n",
       "523  ['https://supr.cl/playbrawl', 'https://supr.cl...   479638.0\n",
       "310  ['https://youtube.com/tomharlockvideos', 'http...   133422.0\n",
       "..                                                 ...        ...\n",
       "414  ['https://www.indiegogo.com/projects/another-c...    10588.0\n",
       "236  ['https://www.nickiswift.com/202178/the-real-r...    10285.0\n",
       "344  ['https://teespring.com/stores/yellowflash-mer...    10233.0\n",
       "109  ['http://bit.ly/2xb5cqa', 'https://www.youtube...    10225.0\n",
       "374  ['https://www.indiegogo.com/projects/another-c...    10096.0\n",
       "\n",
       "[86 rows x 2 columns]"
      ]
     },
     "execution_count": 236,
     "metadata": {},
     "output_type": "execute_result"
    }
   ],
   "source": [
    "df_videos_dec_urls_top_likes[[\"urls\", \"n_likes\"]][~df_videos_dec_urls_top_likes[[\"urls\", \"n_likes\"]].duplicated()]"
   ]
  },
  {
   "cell_type": "code",
   "execution_count": 237,
   "id": "80b8b6d2",
   "metadata": {},
   "outputs": [],
   "source": [
    "df_videos_dec_urls_top_likes = df_videos_dec_urls_top_likes[[\"urls\", \"n_likes\"]][\n",
    "    ~df_videos_dec_urls_top_likes[[\"urls\", \"n_likes\"]].duplicated()\n",
    "]"
   ]
  },
  {
   "cell_type": "code",
   "execution_count": 239,
   "id": "ef0d5009",
   "metadata": {},
   "outputs": [],
   "source": [
    "fix(df_videos_dec_urls_top_likes)"
   ]
  },
  {
   "cell_type": "code",
   "execution_count": 240,
   "id": "19c0127a",
   "metadata": {},
   "outputs": [
    {
     "data": {
      "text/html": [
       "<div>\n",
       "<style scoped>\n",
       "    .dataframe tbody tr th:only-of-type {\n",
       "        vertical-align: middle;\n",
       "    }\n",
       "\n",
       "    .dataframe tbody tr th {\n",
       "        vertical-align: top;\n",
       "    }\n",
       "\n",
       "    .dataframe thead th {\n",
       "        text-align: right;\n",
       "    }\n",
       "</style>\n",
       "<table border=\"1\" class=\"dataframe\">\n",
       "  <thead>\n",
       "    <tr style=\"text-align: right;\">\n",
       "      <th></th>\n",
       "      <th>urls</th>\n",
       "      <th>n_likes</th>\n",
       "      <th>n_urls</th>\n",
       "    </tr>\n",
       "  </thead>\n",
       "  <tbody>\n",
       "    <tr>\n",
       "      <th>481</th>\n",
       "      <td>[https://madisonbeer.lnk.to/selfish, https://w...</td>\n",
       "      <td>1227003.0</td>\n",
       "      <td>4</td>\n",
       "    </tr>\n",
       "    <tr>\n",
       "      <th>390</th>\n",
       "      <td>[http://wwe.yt/wwenetwork, http://wwe.yt/, htt...</td>\n",
       "      <td>1100425.0</td>\n",
       "      <td>16</td>\n",
       "    </tr>\n",
       "    <tr>\n",
       "      <th>452</th>\n",
       "      <td>[https://www.youtube.com/watch?v=-t_pzplyvag]</td>\n",
       "      <td>560922.0</td>\n",
       "      <td>1</td>\n",
       "    </tr>\n",
       "    <tr>\n",
       "      <th>523</th>\n",
       "      <td>[https://supr.cl/playbrawl, https://supr.cl/su...</td>\n",
       "      <td>479638.0</td>\n",
       "      <td>7</td>\n",
       "    </tr>\n",
       "    <tr>\n",
       "      <th>310</th>\n",
       "      <td>[https://youtube.com/tomharlockvideos, https:/...</td>\n",
       "      <td>133422.0</td>\n",
       "      <td>5</td>\n",
       "    </tr>\n",
       "    <tr>\n",
       "      <th>...</th>\n",
       "      <td>...</td>\n",
       "      <td>...</td>\n",
       "      <td>...</td>\n",
       "    </tr>\n",
       "    <tr>\n",
       "      <th>414</th>\n",
       "      <td>[https://www.indiegogo.com/projects/another-ca...</td>\n",
       "      <td>10588.0</td>\n",
       "      <td>3</td>\n",
       "    </tr>\n",
       "    <tr>\n",
       "      <th>236</th>\n",
       "      <td>[https://www.nickiswift.com/202178/the-real-re...</td>\n",
       "      <td>10285.0</td>\n",
       "      <td>1</td>\n",
       "    </tr>\n",
       "    <tr>\n",
       "      <th>344</th>\n",
       "      <td>[https://teespring.com/stores/yellowflash-merc...</td>\n",
       "      <td>10233.0</td>\n",
       "      <td>4</td>\n",
       "    </tr>\n",
       "    <tr>\n",
       "      <th>109</th>\n",
       "      <td>[http://bit.ly/2xb5cqa, https://www.youtube.co...</td>\n",
       "      <td>10225.0</td>\n",
       "      <td>7</td>\n",
       "    </tr>\n",
       "    <tr>\n",
       "      <th>374</th>\n",
       "      <td>[https://www.indiegogo.com/projects/another-ca...</td>\n",
       "      <td>10096.0</td>\n",
       "      <td>3</td>\n",
       "    </tr>\n",
       "  </tbody>\n",
       "</table>\n",
       "<p>86 rows × 3 columns</p>\n",
       "</div>"
      ],
      "text/plain": [
       "                                                  urls    n_likes  n_urls\n",
       "481  [https://madisonbeer.lnk.to/selfish, https://w...  1227003.0       4\n",
       "390  [http://wwe.yt/wwenetwork, http://wwe.yt/, htt...  1100425.0      16\n",
       "452      [https://www.youtube.com/watch?v=-t_pzplyvag]   560922.0       1\n",
       "523  [https://supr.cl/playbrawl, https://supr.cl/su...   479638.0       7\n",
       "310  [https://youtube.com/tomharlockvideos, https:/...   133422.0       5\n",
       "..                                                 ...        ...     ...\n",
       "414  [https://www.indiegogo.com/projects/another-ca...    10588.0       3\n",
       "236  [https://www.nickiswift.com/202178/the-real-re...    10285.0       1\n",
       "344  [https://teespring.com/stores/yellowflash-merc...    10233.0       4\n",
       "109  [http://bit.ly/2xb5cqa, https://www.youtube.co...    10225.0       7\n",
       "374  [https://www.indiegogo.com/projects/another-ca...    10096.0       3\n",
       "\n",
       "[86 rows x 3 columns]"
      ]
     },
     "execution_count": 240,
     "metadata": {},
     "output_type": "execute_result"
    }
   ],
   "source": [
    "df_videos_dec_urls_top_likes"
   ]
  },
  {
   "cell_type": "code",
   "execution_count": 241,
   "id": "7c053607",
   "metadata": {},
   "outputs": [],
   "source": [
    "df_videos_dec_urls_top_likes_one = one_url_df(df_videos_dec_urls_top_likes)"
   ]
  },
  {
   "cell_type": "code",
   "execution_count": 242,
   "id": "a01d3581",
   "metadata": {},
   "outputs": [],
   "source": [
    "df_videos_dec_urls_top_likes_more = more_url_df(df_videos_dec_urls_top_likes, \"n_likes\")"
   ]
  },
  {
   "cell_type": "code",
   "execution_count": 243,
   "id": "0cea02c3",
   "metadata": {},
   "outputs": [],
   "source": [
    "un(df_videos_dec_urls_top_likes_one)"
   ]
  },
  {
   "cell_type": "code",
   "execution_count": 244,
   "id": "93f90f0f",
   "metadata": {},
   "outputs": [
    {
     "data": {
      "text/html": [
       "<div>\n",
       "<style scoped>\n",
       "    .dataframe tbody tr th:only-of-type {\n",
       "        vertical-align: middle;\n",
       "    }\n",
       "\n",
       "    .dataframe tbody tr th {\n",
       "        vertical-align: top;\n",
       "    }\n",
       "\n",
       "    .dataframe thead th {\n",
       "        text-align: right;\n",
       "    }\n",
       "</style>\n",
       "<table border=\"1\" class=\"dataframe\">\n",
       "  <thead>\n",
       "    <tr style=\"text-align: right;\">\n",
       "      <th></th>\n",
       "      <th>urls</th>\n",
       "      <th>n_likes</th>\n",
       "      <th>n_urls</th>\n",
       "    </tr>\n",
       "  </thead>\n",
       "  <tbody>\n",
       "    <tr>\n",
       "      <th>452</th>\n",
       "      <td>https://www.youtube.com/watch?v=-t_pzplyvag</td>\n",
       "      <td>560922.0</td>\n",
       "      <td>1</td>\n",
       "    </tr>\n",
       "    <tr>\n",
       "      <th>193</th>\n",
       "      <td>https://www.youtube.com/watch?v=hwkb80xzdus&amp;fe...</td>\n",
       "      <td>98986.0</td>\n",
       "      <td>1</td>\n",
       "    </tr>\n",
       "    <tr>\n",
       "      <th>219</th>\n",
       "      <td>https://www.youtube.com/channel/ucfwe_odi1ytbd...</td>\n",
       "      <td>35395.0</td>\n",
       "      <td>1</td>\n",
       "    </tr>\n",
       "    <tr>\n",
       "      <th>84</th>\n",
       "      <td>http://www.patreon.com/dalasreview</td>\n",
       "      <td>33304.0</td>\n",
       "      <td>1</td>\n",
       "    </tr>\n",
       "    <tr>\n",
       "      <th>83</th>\n",
       "      <td>https://www.youtube.com/watch?v=o3dbfiow_mk&amp;t=29s</td>\n",
       "      <td>23078.0</td>\n",
       "      <td>1</td>\n",
       "    </tr>\n",
       "    <tr>\n",
       "      <th>128</th>\n",
       "      <td>https://www.youtube.com/watch?v=nqzs5izsa68</td>\n",
       "      <td>15907.0</td>\n",
       "      <td>1</td>\n",
       "    </tr>\n",
       "    <tr>\n",
       "      <th>38</th>\n",
       "      <td>https://instagram.com/iamnitinnk</td>\n",
       "      <td>14892.0</td>\n",
       "      <td>1</td>\n",
       "    </tr>\n",
       "    <tr>\n",
       "      <th>148</th>\n",
       "      <td>https://soydecine.com/johnny-depp-fue-maltrata...</td>\n",
       "      <td>13202.0</td>\n",
       "      <td>1</td>\n",
       "    </tr>\n",
       "    <tr>\n",
       "      <th>125</th>\n",
       "      <td>https://bit.ly/2ilps9j</td>\n",
       "      <td>12972.0</td>\n",
       "      <td>1</td>\n",
       "    </tr>\n",
       "    <tr>\n",
       "      <th>231</th>\n",
       "      <td>https://www.youtube.com/channel/ucfwe_odi1ytbd...</td>\n",
       "      <td>11712.0</td>\n",
       "      <td>1</td>\n",
       "    </tr>\n",
       "    <tr>\n",
       "      <th>40</th>\n",
       "      <td>https://www.looper.com/276240/what-j-k-rowling...</td>\n",
       "      <td>11451.0</td>\n",
       "      <td>1</td>\n",
       "    </tr>\n",
       "    <tr>\n",
       "      <th>555</th>\n",
       "      <td>https://www.nickwallis.com/depp-trial</td>\n",
       "      <td>11265.0</td>\n",
       "      <td>1</td>\n",
       "    </tr>\n",
       "    <tr>\n",
       "      <th>236</th>\n",
       "      <td>https://www.nickiswift.com/202178/the-real-rea...</td>\n",
       "      <td>10285.0</td>\n",
       "      <td>1</td>\n",
       "    </tr>\n",
       "  </tbody>\n",
       "</table>\n",
       "</div>"
      ],
      "text/plain": [
       "                                                  urls   n_likes  n_urls\n",
       "452        https://www.youtube.com/watch?v=-t_pzplyvag  560922.0       1\n",
       "193  https://www.youtube.com/watch?v=hwkb80xzdus&fe...   98986.0       1\n",
       "219  https://www.youtube.com/channel/ucfwe_odi1ytbd...   35395.0       1\n",
       "84                  http://www.patreon.com/dalasreview   33304.0       1\n",
       "83   https://www.youtube.com/watch?v=o3dbfiow_mk&t=29s   23078.0       1\n",
       "128        https://www.youtube.com/watch?v=nqzs5izsa68   15907.0       1\n",
       "38                    https://instagram.com/iamnitinnk   14892.0       1\n",
       "148  https://soydecine.com/johnny-depp-fue-maltrata...   13202.0       1\n",
       "125                             https://bit.ly/2ilps9j   12972.0       1\n",
       "231  https://www.youtube.com/channel/ucfwe_odi1ytbd...   11712.0       1\n",
       "40   https://www.looper.com/276240/what-j-k-rowling...   11451.0       1\n",
       "555              https://www.nickwallis.com/depp-trial   11265.0       1\n",
       "236  https://www.nickiswift.com/202178/the-real-rea...   10285.0       1"
      ]
     },
     "execution_count": 244,
     "metadata": {},
     "output_type": "execute_result"
    }
   ],
   "source": [
    "df_videos_dec_urls_top_likes_one"
   ]
  },
  {
   "cell_type": "code",
   "execution_count": 245,
   "id": "dc054af2",
   "metadata": {},
   "outputs": [],
   "source": [
    "un(df_videos_dec_urls_top_likes_more)"
   ]
  },
  {
   "cell_type": "code",
   "execution_count": 246,
   "id": "06810aa7",
   "metadata": {},
   "outputs": [],
   "source": [
    "df_videos_dec_urls_top_likes_one.to_csv(\n",
    "    yt_path + \"df_videos_dec_urls_top_likes_one.csv\", index=False\n",
    ")\n",
    "\n",
    "df_videos_dec_urls_top_likes_more.to_csv(\n",
    "    yt_path + \"df_videos_dec_urls_top_likes_more.csv\", index=False\n",
    ")"
   ]
  },
  {
   "cell_type": "code",
   "execution_count": 253,
   "id": "f50c0920",
   "metadata": {},
   "outputs": [
    {
     "data": {
      "text/html": [
       "<div>\n",
       "<style scoped>\n",
       "    .dataframe tbody tr th:only-of-type {\n",
       "        vertical-align: middle;\n",
       "    }\n",
       "\n",
       "    .dataframe tbody tr th {\n",
       "        vertical-align: top;\n",
       "    }\n",
       "\n",
       "    .dataframe thead th {\n",
       "        text-align: right;\n",
       "    }\n",
       "</style>\n",
       "<table border=\"1\" class=\"dataframe\">\n",
       "  <thead>\n",
       "    <tr style=\"text-align: right;\">\n",
       "      <th></th>\n",
       "      <th>urls</th>\n",
       "      <th>n_likes</th>\n",
       "      <th>n_urls</th>\n",
       "    </tr>\n",
       "  </thead>\n",
       "  <tbody>\n",
       "    <tr>\n",
       "      <th>452</th>\n",
       "      <td>https://www.youtube.com/watch?v=-t_pzplyvag</td>\n",
       "      <td>560922.0</td>\n",
       "      <td>1</td>\n",
       "    </tr>\n",
       "    <tr>\n",
       "      <th>193</th>\n",
       "      <td>https://www.youtube.com/watch?v=hwkb80xzdus&amp;fe...</td>\n",
       "      <td>98986.0</td>\n",
       "      <td>1</td>\n",
       "    </tr>\n",
       "    <tr>\n",
       "      <th>219</th>\n",
       "      <td>https://www.youtube.com/channel/ucfwe_odi1ytbd...</td>\n",
       "      <td>35395.0</td>\n",
       "      <td>1</td>\n",
       "    </tr>\n",
       "    <tr>\n",
       "      <th>84</th>\n",
       "      <td>http://www.patreon.com/dalasreview</td>\n",
       "      <td>33304.0</td>\n",
       "      <td>1</td>\n",
       "    </tr>\n",
       "    <tr>\n",
       "      <th>83</th>\n",
       "      <td>https://www.youtube.com/watch?v=o3dbfiow_mk&amp;t=29s</td>\n",
       "      <td>23078.0</td>\n",
       "      <td>1</td>\n",
       "    </tr>\n",
       "    <tr>\n",
       "      <th>128</th>\n",
       "      <td>https://www.youtube.com/watch?v=nqzs5izsa68</td>\n",
       "      <td>15907.0</td>\n",
       "      <td>1</td>\n",
       "    </tr>\n",
       "    <tr>\n",
       "      <th>38</th>\n",
       "      <td>https://instagram.com/iamnitinnk</td>\n",
       "      <td>14892.0</td>\n",
       "      <td>1</td>\n",
       "    </tr>\n",
       "    <tr>\n",
       "      <th>148</th>\n",
       "      <td>https://soydecine.com/johnny-depp-fue-maltrata...</td>\n",
       "      <td>13202.0</td>\n",
       "      <td>1</td>\n",
       "    </tr>\n",
       "    <tr>\n",
       "      <th>125</th>\n",
       "      <td>https://bit.ly/2ilps9j</td>\n",
       "      <td>12972.0</td>\n",
       "      <td>1</td>\n",
       "    </tr>\n",
       "    <tr>\n",
       "      <th>231</th>\n",
       "      <td>https://www.youtube.com/channel/ucfwe_odi1ytbd...</td>\n",
       "      <td>11712.0</td>\n",
       "      <td>1</td>\n",
       "    </tr>\n",
       "    <tr>\n",
       "      <th>40</th>\n",
       "      <td>https://www.looper.com/276240/what-j-k-rowling...</td>\n",
       "      <td>11451.0</td>\n",
       "      <td>1</td>\n",
       "    </tr>\n",
       "    <tr>\n",
       "      <th>555</th>\n",
       "      <td>https://www.nickwallis.com/depp-trial</td>\n",
       "      <td>11265.0</td>\n",
       "      <td>1</td>\n",
       "    </tr>\n",
       "    <tr>\n",
       "      <th>236</th>\n",
       "      <td>https://www.nickiswift.com/202178/the-real-rea...</td>\n",
       "      <td>10285.0</td>\n",
       "      <td>1</td>\n",
       "    </tr>\n",
       "  </tbody>\n",
       "</table>\n",
       "</div>"
      ],
      "text/plain": [
       "                                                  urls   n_likes  n_urls\n",
       "452        https://www.youtube.com/watch?v=-t_pzplyvag  560922.0       1\n",
       "193  https://www.youtube.com/watch?v=hwkb80xzdus&fe...   98986.0       1\n",
       "219  https://www.youtube.com/channel/ucfwe_odi1ytbd...   35395.0       1\n",
       "84                  http://www.patreon.com/dalasreview   33304.0       1\n",
       "83   https://www.youtube.com/watch?v=o3dbfiow_mk&t=29s   23078.0       1\n",
       "128        https://www.youtube.com/watch?v=nqzs5izsa68   15907.0       1\n",
       "38                    https://instagram.com/iamnitinnk   14892.0       1\n",
       "148  https://soydecine.com/johnny-depp-fue-maltrata...   13202.0       1\n",
       "125                             https://bit.ly/2ilps9j   12972.0       1\n",
       "231  https://www.youtube.com/channel/ucfwe_odi1ytbd...   11712.0       1\n",
       "40   https://www.looper.com/276240/what-j-k-rowling...   11451.0       1\n",
       "555              https://www.nickwallis.com/depp-trial   11265.0       1\n",
       "236  https://www.nickiswift.com/202178/the-real-rea...   10285.0       1"
      ]
     },
     "execution_count": 253,
     "metadata": {},
     "output_type": "execute_result"
    }
   ],
   "source": [
    "df_videos_dec_urls_top_likes_one"
   ]
  },
  {
   "cell_type": "code",
   "execution_count": 247,
   "id": "024be159",
   "metadata": {},
   "outputs": [],
   "source": [
    "pd.concat(\n",
    "    [df_videos_dec_urls_top_likes_one, df_videos_dec_urls_top_likes_more]\n",
    ").sort_values(\"n_likes\", ascending=False).drop_duplicates().to_csv(\n",
    "    yt_path + \"df_videos_dec_urls_top_likes.csv\", index=False\n",
    ")"
   ]
  },
  {
   "cell_type": "code",
   "execution_count": 248,
   "id": "e54373bf",
   "metadata": {},
   "outputs": [
    {
     "data": {
      "text/html": [
       "<div>\n",
       "<style scoped>\n",
       "    .dataframe tbody tr th:only-of-type {\n",
       "        vertical-align: middle;\n",
       "    }\n",
       "\n",
       "    .dataframe tbody tr th {\n",
       "        vertical-align: top;\n",
       "    }\n",
       "\n",
       "    .dataframe thead th {\n",
       "        text-align: right;\n",
       "    }\n",
       "</style>\n",
       "<table border=\"1\" class=\"dataframe\">\n",
       "  <thead>\n",
       "    <tr style=\"text-align: right;\">\n",
       "      <th></th>\n",
       "      <th>urls</th>\n",
       "      <th>n_likes</th>\n",
       "      <th>n_urls</th>\n",
       "    </tr>\n",
       "  </thead>\n",
       "  <tbody>\n",
       "    <tr>\n",
       "      <th>3</th>\n",
       "      <td>https://www.facebook.com/MadisonElleBeer/</td>\n",
       "      <td>1227003.0</td>\n",
       "      <td>4</td>\n",
       "    </tr>\n",
       "    <tr>\n",
       "      <th>2</th>\n",
       "      <td>https://twitter.com/madisonbeer</td>\n",
       "      <td>1227003.0</td>\n",
       "      <td>4</td>\n",
       "    </tr>\n",
       "    <tr>\n",
       "      <th>1</th>\n",
       "      <td>https://www.instagram.com/madisonbeer</td>\n",
       "      <td>1227003.0</td>\n",
       "      <td>4</td>\n",
       "    </tr>\n",
       "    <tr>\n",
       "      <th>0</th>\n",
       "      <td>https://madisonbeer.lnk.to/selfish</td>\n",
       "      <td>1227003.0</td>\n",
       "      <td>4</td>\n",
       "    </tr>\n",
       "    <tr>\n",
       "      <th>9</th>\n",
       "      <td>https://www.youtube.com/thebellatwins</td>\n",
       "      <td>1100425.0</td>\n",
       "      <td>16</td>\n",
       "    </tr>\n",
       "    <tr>\n",
       "      <th>...</th>\n",
       "      <td>...</td>\n",
       "      <td>...</td>\n",
       "      <td>...</td>\n",
       "    </tr>\n",
       "    <tr>\n",
       "      <th>483</th>\n",
       "      <td>http://instagram.com/charlaychaplin</td>\n",
       "      <td>10225.0</td>\n",
       "      <td>7</td>\n",
       "    </tr>\n",
       "    <tr>\n",
       "      <th>484</th>\n",
       "      <td>http://instagram.com/tessatv999</td>\n",
       "      <td>10225.0</td>\n",
       "      <td>7</td>\n",
       "    </tr>\n",
       "    <tr>\n",
       "      <th>485</th>\n",
       "      <td>https://www.indiegogo.com/projects/another-cas...</td>\n",
       "      <td>10096.0</td>\n",
       "      <td>3</td>\n",
       "    </tr>\n",
       "    <tr>\n",
       "      <th>486</th>\n",
       "      <td>https://www.paypal.com/cgi-bin/webscr?cmd=_s-x...</td>\n",
       "      <td>10096.0</td>\n",
       "      <td>3</td>\n",
       "    </tr>\n",
       "    <tr>\n",
       "      <th>487</th>\n",
       "      <td>https://www.patreon.com/thatumbrellaguy</td>\n",
       "      <td>10096.0</td>\n",
       "      <td>3</td>\n",
       "    </tr>\n",
       "  </tbody>\n",
       "</table>\n",
       "<p>497 rows × 3 columns</p>\n",
       "</div>"
      ],
      "text/plain": [
       "                                                  urls    n_likes  n_urls\n",
       "3            https://www.facebook.com/MadisonElleBeer/  1227003.0       4\n",
       "2                      https://twitter.com/madisonbeer  1227003.0       4\n",
       "1                https://www.instagram.com/madisonbeer  1227003.0       4\n",
       "0                   https://madisonbeer.lnk.to/selfish  1227003.0       4\n",
       "9                https://www.youtube.com/thebellatwins  1100425.0      16\n",
       "..                                                 ...        ...     ...\n",
       "483                http://instagram.com/charlaychaplin    10225.0       7\n",
       "484                    http://instagram.com/tessatv999    10225.0       7\n",
       "485  https://www.indiegogo.com/projects/another-cas...    10096.0       3\n",
       "486  https://www.paypal.com/cgi-bin/webscr?cmd=_s-x...    10096.0       3\n",
       "487            https://www.patreon.com/thatumbrellaguy    10096.0       3\n",
       "\n",
       "[497 rows x 3 columns]"
      ]
     },
     "execution_count": 248,
     "metadata": {},
     "output_type": "execute_result"
    }
   ],
   "source": [
    "pd.concat(\n",
    "    [df_videos_dec_urls_top_likes_one, df_videos_dec_urls_top_likes_more]\n",
    ").sort_values(\"n_likes\", ascending=False).drop_duplicates()"
   ]
  },
  {
   "cell_type": "markdown",
   "id": "dc0d5800",
   "metadata": {},
   "source": [
    "### comments"
   ]
  },
  {
   "cell_type": "code",
   "execution_count": 254,
   "id": "321513d9",
   "metadata": {},
   "outputs": [
    {
     "data": {
      "text/plain": [
       "count       596.000000\n",
       "mean       1484.771812\n",
       "std        6686.502712\n",
       "min           1.000000\n",
       "25%         162.000000\n",
       "50%         411.500000\n",
       "75%        1099.500000\n",
       "max      131021.000000\n",
       "Name: n_comments, dtype: float64"
      ]
     },
     "execution_count": 254,
     "metadata": {},
     "output_type": "execute_result"
    }
   ],
   "source": [
    "df_videos_dec_urls.n_comments.describe()"
   ]
  },
  {
   "cell_type": "code",
   "execution_count": 255,
   "id": "408ff7ac",
   "metadata": {},
   "outputs": [
    {
     "data": {
      "text/plain": [
       "131021.0"
      ]
     },
     "execution_count": 255,
     "metadata": {},
     "output_type": "execute_result"
    }
   ],
   "source": [
    "df_videos_dec_urls.n_comments.max()"
   ]
  },
  {
   "cell_type": "code",
   "execution_count": 251,
   "id": "01160cd6",
   "metadata": {},
   "outputs": [
    {
     "data": {
      "application/vnd.plotly.v1+json": {
       "config": {
        "plotlyServerURL": "https://plot.ly"
       },
       "data": [
        {
         "alignmentgroup": "True",
         "bingroup": "x",
         "hovertemplate": "n_comments=%{x}<br>count=%{y}<extra></extra>",
         "legendgroup": "",
         "marker": {
          "color": "#636efa",
          "pattern": {
           "shape": ""
          }
         },
         "name": "",
         "offsetgroup": "",
         "orientation": "v",
         "showlegend": false,
         "type": "histogram",
         "x": [
          119,
          1116,
          162,
          1443,
          411,
          565,
          21,
          3969,
          565,
          1317,
          215,
          4646,
          2499,
          49,
          111,
          209,
          423,
          187,
          194,
          425,
          2284,
          118,
          17314,
          53,
          837,
          134,
          3361,
          57,
          3235,
          751,
          215,
          432,
          203,
          720,
          364,
          155,
          464,
          1094,
          78,
          947,
          1788,
          349,
          293,
          477,
          8878,
          7630,
          195,
          898,
          2061,
          753,
          446,
          103,
          3670,
          15,
          292,
          3571,
          1686,
          1902,
          2155,
          1209,
          209,
          4584,
          6177,
          1221,
          416,
          290,
          395,
          3091,
          42,
          430,
          1541,
          868,
          17582,
          1933,
          381,
          36,
          329,
          461,
          162,
          1001,
          138,
          1066,
          381,
          2119,
          3426,
          553,
          640,
          625,
          10189,
          6498,
          105,
          1340,
          238,
          276,
          11306,
          437,
          791,
          2746,
          2554,
          1087,
          737,
          478,
          33,
          10,
          730,
          134,
          82,
          2915,
          284,
          1629,
          7,
          257,
          439,
          1804,
          462,
          1309,
          102,
          149,
          434,
          667,
          9326,
          7040,
          1431,
          194,
          895,
          1658,
          136,
          1733,
          4650,
          2175,
          1819,
          928,
          29,
          675,
          446,
          777,
          469,
          590,
          415,
          111,
          190,
          821,
          1758,
          1405,
          36,
          224,
          3258,
          365,
          3323,
          586,
          33,
          50,
          1593,
          837,
          440,
          228,
          439,
          108,
          513,
          44,
          3060,
          2324,
          387,
          165,
          1341,
          518,
          586,
          118,
          293,
          1201,
          328,
          2061,
          1258,
          1144,
          139,
          453,
          1409,
          923,
          1562,
          478,
          78,
          895,
          145,
          4261,
          12,
          277,
          1794,
          1223,
          979,
          1500,
          516,
          707,
          156,
          18215,
          41,
          1526,
          2441,
          1199,
          4363,
          1035,
          21,
          1919,
          707,
          1816,
          409,
          1671,
          1707,
          1629,
          1228,
          1895,
          68,
          1013,
          2014,
          715,
          860,
          599,
          510,
          152,
          635,
          4681,
          1227,
          701,
          1338,
          2248,
          1982,
          18,
          580,
          467,
          2209,
          342,
          568,
          1201,
          4278,
          217,
          131021,
          380,
          2676,
          1138,
          53,
          5204,
          277,
          170,
          248,
          11,
          809,
          259,
          195,
          2,
          298,
          4,
          256,
          1833,
          395,
          53,
          283,
          132,
          45,
          1280,
          1163,
          1264,
          1150,
          656,
          94,
          179,
          340,
          548,
          339,
          121,
          524,
          3775,
          8,
          7,
          42,
          90,
          10,
          321,
          248,
          310,
          1042,
          18,
          1832,
          751,
          2301,
          1749,
          45,
          304,
          330,
          1582,
          521,
          222,
          459,
          317,
          3,
          343,
          393,
          1157,
          24,
          622,
          1005,
          215,
          3840,
          990,
          355,
          129,
          29,
          217,
          1060,
          475,
          666,
          441,
          12665,
          696,
          18,
          450,
          2041,
          64,
          414,
          326,
          1015,
          294,
          1726,
          119,
          13,
          629,
          98,
          233,
          376,
          54,
          310,
          314,
          93,
          246,
          544,
          1071,
          486,
          318,
          231,
          173,
          9,
          546,
          931,
          1120,
          7,
          406,
          1719,
          1191,
          321,
          14,
          109,
          103,
          118,
          193,
          726,
          214,
          312,
          510,
          456,
          12,
          1140,
          1426,
          192,
          66,
          817,
          72,
          131,
          595,
          740,
          205,
          267,
          423,
          1122,
          148,
          30,
          666,
          1636,
          71,
          50772,
          1139,
          586,
          300,
          220,
          762,
          233,
          229,
          715,
          1053,
          50,
          1293,
          5,
          238,
          20724,
          386,
          32,
          1,
          769,
          280,
          217,
          1548,
          8,
          578,
          939,
          224,
          1328,
          191,
          138,
          479,
          39,
          886,
          620,
          455,
          284,
          2321,
          263,
          33,
          1628,
          259,
          608,
          30,
          219,
          108,
          42,
          184,
          263,
          43,
          256,
          689,
          125,
          3,
          33,
          651,
          12,
          97,
          4948,
          492,
          264,
          13,
          274,
          262,
          5870,
          564,
          1468,
          22,
          606,
          374,
          312,
          594,
          33,
          1592,
          400,
          191,
          899,
          128,
          56272,
          1,
          2,
          506,
          691,
          1711,
          1190,
          212,
          21,
          1120,
          187,
          1017,
          1943,
          333,
          748,
          1199,
          152,
          459,
          8,
          405,
          81,
          364,
          906,
          170,
          412,
          73,
          83,
          219,
          4,
          40690,
          1381,
          510,
          938,
          20,
          970,
          864,
          2158,
          23,
          845,
          1615,
          113,
          15,
          363,
          47,
          280,
          33,
          208,
          85,
          251,
          12543,
          487,
          770,
          29,
          43,
          3501,
          1532,
          321,
          376,
          330,
          277,
          913,
          430,
          174,
          12,
          279,
          46,
          257,
          415,
          211,
          36,
          624,
          16456,
          86,
          13,
          3,
          292,
          54,
          85,
          1287,
          3,
          303,
          192,
          208,
          138,
          14,
          3637,
          2308,
          232,
          298,
          402,
          103,
          47,
          1158,
          838,
          347,
          70,
          410,
          139,
          302,
          133,
          48,
          3268,
          328,
          3451,
          187,
          2366,
          43,
          7,
          773,
          421,
          406,
          286,
          1199,
          328,
          38,
          448,
          290,
          7,
          336,
          231,
          148,
          172,
          583,
          453,
          1172,
          1278,
          265,
          335,
          54,
          483,
          849,
          89,
          154,
          652,
          271,
          282,
          267,
          296,
          54,
          389,
          121,
          1189,
          380,
          499
         ],
         "xaxis": "x",
         "yaxis": "y"
        }
       ],
       "layout": {
        "barmode": "relative",
        "legend": {
         "tracegroupgap": 0
        },
        "margin": {
         "t": 60
        },
        "template": {
         "data": {
          "bar": [
           {
            "error_x": {
             "color": "#2a3f5f"
            },
            "error_y": {
             "color": "#2a3f5f"
            },
            "marker": {
             "line": {
              "color": "#E5ECF6",
              "width": 0.5
             },
             "pattern": {
              "fillmode": "overlay",
              "size": 10,
              "solidity": 0.2
             }
            },
            "type": "bar"
           }
          ],
          "barpolar": [
           {
            "marker": {
             "line": {
              "color": "#E5ECF6",
              "width": 0.5
             },
             "pattern": {
              "fillmode": "overlay",
              "size": 10,
              "solidity": 0.2
             }
            },
            "type": "barpolar"
           }
          ],
          "carpet": [
           {
            "aaxis": {
             "endlinecolor": "#2a3f5f",
             "gridcolor": "white",
             "linecolor": "white",
             "minorgridcolor": "white",
             "startlinecolor": "#2a3f5f"
            },
            "baxis": {
             "endlinecolor": "#2a3f5f",
             "gridcolor": "white",
             "linecolor": "white",
             "minorgridcolor": "white",
             "startlinecolor": "#2a3f5f"
            },
            "type": "carpet"
           }
          ],
          "choropleth": [
           {
            "colorbar": {
             "outlinewidth": 0,
             "ticks": ""
            },
            "type": "choropleth"
           }
          ],
          "contour": [
           {
            "colorbar": {
             "outlinewidth": 0,
             "ticks": ""
            },
            "colorscale": [
             [
              0,
              "#0d0887"
             ],
             [
              0.1111111111111111,
              "#46039f"
             ],
             [
              0.2222222222222222,
              "#7201a8"
             ],
             [
              0.3333333333333333,
              "#9c179e"
             ],
             [
              0.4444444444444444,
              "#bd3786"
             ],
             [
              0.5555555555555556,
              "#d8576b"
             ],
             [
              0.6666666666666666,
              "#ed7953"
             ],
             [
              0.7777777777777778,
              "#fb9f3a"
             ],
             [
              0.8888888888888888,
              "#fdca26"
             ],
             [
              1,
              "#f0f921"
             ]
            ],
            "type": "contour"
           }
          ],
          "contourcarpet": [
           {
            "colorbar": {
             "outlinewidth": 0,
             "ticks": ""
            },
            "type": "contourcarpet"
           }
          ],
          "heatmap": [
           {
            "colorbar": {
             "outlinewidth": 0,
             "ticks": ""
            },
            "colorscale": [
             [
              0,
              "#0d0887"
             ],
             [
              0.1111111111111111,
              "#46039f"
             ],
             [
              0.2222222222222222,
              "#7201a8"
             ],
             [
              0.3333333333333333,
              "#9c179e"
             ],
             [
              0.4444444444444444,
              "#bd3786"
             ],
             [
              0.5555555555555556,
              "#d8576b"
             ],
             [
              0.6666666666666666,
              "#ed7953"
             ],
             [
              0.7777777777777778,
              "#fb9f3a"
             ],
             [
              0.8888888888888888,
              "#fdca26"
             ],
             [
              1,
              "#f0f921"
             ]
            ],
            "type": "heatmap"
           }
          ],
          "heatmapgl": [
           {
            "colorbar": {
             "outlinewidth": 0,
             "ticks": ""
            },
            "colorscale": [
             [
              0,
              "#0d0887"
             ],
             [
              0.1111111111111111,
              "#46039f"
             ],
             [
              0.2222222222222222,
              "#7201a8"
             ],
             [
              0.3333333333333333,
              "#9c179e"
             ],
             [
              0.4444444444444444,
              "#bd3786"
             ],
             [
              0.5555555555555556,
              "#d8576b"
             ],
             [
              0.6666666666666666,
              "#ed7953"
             ],
             [
              0.7777777777777778,
              "#fb9f3a"
             ],
             [
              0.8888888888888888,
              "#fdca26"
             ],
             [
              1,
              "#f0f921"
             ]
            ],
            "type": "heatmapgl"
           }
          ],
          "histogram": [
           {
            "marker": {
             "pattern": {
              "fillmode": "overlay",
              "size": 10,
              "solidity": 0.2
             }
            },
            "type": "histogram"
           }
          ],
          "histogram2d": [
           {
            "colorbar": {
             "outlinewidth": 0,
             "ticks": ""
            },
            "colorscale": [
             [
              0,
              "#0d0887"
             ],
             [
              0.1111111111111111,
              "#46039f"
             ],
             [
              0.2222222222222222,
              "#7201a8"
             ],
             [
              0.3333333333333333,
              "#9c179e"
             ],
             [
              0.4444444444444444,
              "#bd3786"
             ],
             [
              0.5555555555555556,
              "#d8576b"
             ],
             [
              0.6666666666666666,
              "#ed7953"
             ],
             [
              0.7777777777777778,
              "#fb9f3a"
             ],
             [
              0.8888888888888888,
              "#fdca26"
             ],
             [
              1,
              "#f0f921"
             ]
            ],
            "type": "histogram2d"
           }
          ],
          "histogram2dcontour": [
           {
            "colorbar": {
             "outlinewidth": 0,
             "ticks": ""
            },
            "colorscale": [
             [
              0,
              "#0d0887"
             ],
             [
              0.1111111111111111,
              "#46039f"
             ],
             [
              0.2222222222222222,
              "#7201a8"
             ],
             [
              0.3333333333333333,
              "#9c179e"
             ],
             [
              0.4444444444444444,
              "#bd3786"
             ],
             [
              0.5555555555555556,
              "#d8576b"
             ],
             [
              0.6666666666666666,
              "#ed7953"
             ],
             [
              0.7777777777777778,
              "#fb9f3a"
             ],
             [
              0.8888888888888888,
              "#fdca26"
             ],
             [
              1,
              "#f0f921"
             ]
            ],
            "type": "histogram2dcontour"
           }
          ],
          "mesh3d": [
           {
            "colorbar": {
             "outlinewidth": 0,
             "ticks": ""
            },
            "type": "mesh3d"
           }
          ],
          "parcoords": [
           {
            "line": {
             "colorbar": {
              "outlinewidth": 0,
              "ticks": ""
             }
            },
            "type": "parcoords"
           }
          ],
          "pie": [
           {
            "automargin": true,
            "type": "pie"
           }
          ],
          "scatter": [
           {
            "marker": {
             "colorbar": {
              "outlinewidth": 0,
              "ticks": ""
             }
            },
            "type": "scatter"
           }
          ],
          "scatter3d": [
           {
            "line": {
             "colorbar": {
              "outlinewidth": 0,
              "ticks": ""
             }
            },
            "marker": {
             "colorbar": {
              "outlinewidth": 0,
              "ticks": ""
             }
            },
            "type": "scatter3d"
           }
          ],
          "scattercarpet": [
           {
            "marker": {
             "colorbar": {
              "outlinewidth": 0,
              "ticks": ""
             }
            },
            "type": "scattercarpet"
           }
          ],
          "scattergeo": [
           {
            "marker": {
             "colorbar": {
              "outlinewidth": 0,
              "ticks": ""
             }
            },
            "type": "scattergeo"
           }
          ],
          "scattergl": [
           {
            "marker": {
             "colorbar": {
              "outlinewidth": 0,
              "ticks": ""
             }
            },
            "type": "scattergl"
           }
          ],
          "scattermapbox": [
           {
            "marker": {
             "colorbar": {
              "outlinewidth": 0,
              "ticks": ""
             }
            },
            "type": "scattermapbox"
           }
          ],
          "scatterpolar": [
           {
            "marker": {
             "colorbar": {
              "outlinewidth": 0,
              "ticks": ""
             }
            },
            "type": "scatterpolar"
           }
          ],
          "scatterpolargl": [
           {
            "marker": {
             "colorbar": {
              "outlinewidth": 0,
              "ticks": ""
             }
            },
            "type": "scatterpolargl"
           }
          ],
          "scatterternary": [
           {
            "marker": {
             "colorbar": {
              "outlinewidth": 0,
              "ticks": ""
             }
            },
            "type": "scatterternary"
           }
          ],
          "surface": [
           {
            "colorbar": {
             "outlinewidth": 0,
             "ticks": ""
            },
            "colorscale": [
             [
              0,
              "#0d0887"
             ],
             [
              0.1111111111111111,
              "#46039f"
             ],
             [
              0.2222222222222222,
              "#7201a8"
             ],
             [
              0.3333333333333333,
              "#9c179e"
             ],
             [
              0.4444444444444444,
              "#bd3786"
             ],
             [
              0.5555555555555556,
              "#d8576b"
             ],
             [
              0.6666666666666666,
              "#ed7953"
             ],
             [
              0.7777777777777778,
              "#fb9f3a"
             ],
             [
              0.8888888888888888,
              "#fdca26"
             ],
             [
              1,
              "#f0f921"
             ]
            ],
            "type": "surface"
           }
          ],
          "table": [
           {
            "cells": {
             "fill": {
              "color": "#EBF0F8"
             },
             "line": {
              "color": "white"
             }
            },
            "header": {
             "fill": {
              "color": "#C8D4E3"
             },
             "line": {
              "color": "white"
             }
            },
            "type": "table"
           }
          ]
         },
         "layout": {
          "annotationdefaults": {
           "arrowcolor": "#2a3f5f",
           "arrowhead": 0,
           "arrowwidth": 1
          },
          "autotypenumbers": "strict",
          "coloraxis": {
           "colorbar": {
            "outlinewidth": 0,
            "ticks": ""
           }
          },
          "colorscale": {
           "diverging": [
            [
             0,
             "#8e0152"
            ],
            [
             0.1,
             "#c51b7d"
            ],
            [
             0.2,
             "#de77ae"
            ],
            [
             0.3,
             "#f1b6da"
            ],
            [
             0.4,
             "#fde0ef"
            ],
            [
             0.5,
             "#f7f7f7"
            ],
            [
             0.6,
             "#e6f5d0"
            ],
            [
             0.7,
             "#b8e186"
            ],
            [
             0.8,
             "#7fbc41"
            ],
            [
             0.9,
             "#4d9221"
            ],
            [
             1,
             "#276419"
            ]
           ],
           "sequential": [
            [
             0,
             "#0d0887"
            ],
            [
             0.1111111111111111,
             "#46039f"
            ],
            [
             0.2222222222222222,
             "#7201a8"
            ],
            [
             0.3333333333333333,
             "#9c179e"
            ],
            [
             0.4444444444444444,
             "#bd3786"
            ],
            [
             0.5555555555555556,
             "#d8576b"
            ],
            [
             0.6666666666666666,
             "#ed7953"
            ],
            [
             0.7777777777777778,
             "#fb9f3a"
            ],
            [
             0.8888888888888888,
             "#fdca26"
            ],
            [
             1,
             "#f0f921"
            ]
           ],
           "sequentialminus": [
            [
             0,
             "#0d0887"
            ],
            [
             0.1111111111111111,
             "#46039f"
            ],
            [
             0.2222222222222222,
             "#7201a8"
            ],
            [
             0.3333333333333333,
             "#9c179e"
            ],
            [
             0.4444444444444444,
             "#bd3786"
            ],
            [
             0.5555555555555556,
             "#d8576b"
            ],
            [
             0.6666666666666666,
             "#ed7953"
            ],
            [
             0.7777777777777778,
             "#fb9f3a"
            ],
            [
             0.8888888888888888,
             "#fdca26"
            ],
            [
             1,
             "#f0f921"
            ]
           ]
          },
          "colorway": [
           "#636efa",
           "#EF553B",
           "#00cc96",
           "#ab63fa",
           "#FFA15A",
           "#19d3f3",
           "#FF6692",
           "#B6E880",
           "#FF97FF",
           "#FECB52"
          ],
          "font": {
           "color": "#2a3f5f"
          },
          "geo": {
           "bgcolor": "white",
           "lakecolor": "white",
           "landcolor": "#E5ECF6",
           "showlakes": true,
           "showland": true,
           "subunitcolor": "white"
          },
          "hoverlabel": {
           "align": "left"
          },
          "hovermode": "closest",
          "mapbox": {
           "style": "light"
          },
          "paper_bgcolor": "white",
          "plot_bgcolor": "#E5ECF6",
          "polar": {
           "angularaxis": {
            "gridcolor": "white",
            "linecolor": "white",
            "ticks": ""
           },
           "bgcolor": "#E5ECF6",
           "radialaxis": {
            "gridcolor": "white",
            "linecolor": "white",
            "ticks": ""
           }
          },
          "scene": {
           "xaxis": {
            "backgroundcolor": "#E5ECF6",
            "gridcolor": "white",
            "gridwidth": 2,
            "linecolor": "white",
            "showbackground": true,
            "ticks": "",
            "zerolinecolor": "white"
           },
           "yaxis": {
            "backgroundcolor": "#E5ECF6",
            "gridcolor": "white",
            "gridwidth": 2,
            "linecolor": "white",
            "showbackground": true,
            "ticks": "",
            "zerolinecolor": "white"
           },
           "zaxis": {
            "backgroundcolor": "#E5ECF6",
            "gridcolor": "white",
            "gridwidth": 2,
            "linecolor": "white",
            "showbackground": true,
            "ticks": "",
            "zerolinecolor": "white"
           }
          },
          "shapedefaults": {
           "line": {
            "color": "#2a3f5f"
           }
          },
          "ternary": {
           "aaxis": {
            "gridcolor": "white",
            "linecolor": "white",
            "ticks": ""
           },
           "baxis": {
            "gridcolor": "white",
            "linecolor": "white",
            "ticks": ""
           },
           "bgcolor": "#E5ECF6",
           "caxis": {
            "gridcolor": "white",
            "linecolor": "white",
            "ticks": ""
           }
          },
          "title": {
           "x": 0.05
          },
          "xaxis": {
           "automargin": true,
           "gridcolor": "white",
           "linecolor": "white",
           "ticks": "",
           "title": {
            "standoff": 15
           },
           "zerolinecolor": "white",
           "zerolinewidth": 2
          },
          "yaxis": {
           "automargin": true,
           "gridcolor": "white",
           "linecolor": "white",
           "ticks": "",
           "title": {
            "standoff": 15
           },
           "zerolinecolor": "white",
           "zerolinewidth": 2
          }
         }
        },
        "xaxis": {
         "anchor": "y",
         "domain": [
          0,
          1
         ],
         "title": {
          "text": "n_comments"
         }
        },
        "yaxis": {
         "anchor": "x",
         "domain": [
          0,
          1
         ],
         "title": {
          "text": "count"
         }
        }
       }
      },
      "text/html": [
       "<div>                            <div id=\"4ef90249-3c65-4670-9d64-ba22bd010cd2\" class=\"plotly-graph-div\" style=\"height:525px; width:100%;\"></div>            <script type=\"text/javascript\">                require([\"plotly\"], function(Plotly) {                    window.PLOTLYENV=window.PLOTLYENV || {};                                    if (document.getElementById(\"4ef90249-3c65-4670-9d64-ba22bd010cd2\")) {                    Plotly.newPlot(                        \"4ef90249-3c65-4670-9d64-ba22bd010cd2\",                        [{\"alignmentgroup\":\"True\",\"bingroup\":\"x\",\"hovertemplate\":\"n_comments=%{x}<br>count=%{y}<extra></extra>\",\"legendgroup\":\"\",\"marker\":{\"color\":\"#636efa\",\"pattern\":{\"shape\":\"\"}},\"name\":\"\",\"offsetgroup\":\"\",\"orientation\":\"v\",\"showlegend\":false,\"type\":\"histogram\",\"x\":[119.0,1116.0,162.0,1443.0,411.0,565.0,21.0,3969.0,565.0,1317.0,215.0,4646.0,2499.0,49.0,111.0,209.0,423.0,187.0,194.0,425.0,2284.0,118.0,17314.0,53.0,837.0,134.0,3361.0,57.0,3235.0,751.0,215.0,432.0,203.0,720.0,364.0,155.0,464.0,1094.0,78.0,947.0,1788.0,349.0,293.0,477.0,8878.0,7630.0,195.0,898.0,2061.0,753.0,446.0,103.0,3670.0,15.0,292.0,3571.0,1686.0,1902.0,2155.0,1209.0,209.0,4584.0,6177.0,1221.0,416.0,290.0,395.0,3091.0,42.0,430.0,1541.0,868.0,17582.0,1933.0,381.0,36.0,329.0,461.0,162.0,1001.0,138.0,1066.0,381.0,2119.0,3426.0,553.0,640.0,625.0,10189.0,6498.0,105.0,1340.0,238.0,276.0,11306.0,437.0,791.0,2746.0,2554.0,1087.0,737.0,478.0,33.0,10.0,730.0,134.0,82.0,2915.0,284.0,1629.0,7.0,257.0,439.0,1804.0,462.0,1309.0,102.0,149.0,434.0,667.0,9326.0,7040.0,1431.0,194.0,895.0,1658.0,136.0,1733.0,4650.0,2175.0,1819.0,928.0,29.0,675.0,446.0,777.0,469.0,590.0,415.0,111.0,190.0,821.0,1758.0,1405.0,36.0,224.0,3258.0,365.0,3323.0,586.0,33.0,50.0,1593.0,837.0,440.0,228.0,439.0,108.0,513.0,44.0,3060.0,2324.0,387.0,165.0,1341.0,518.0,586.0,118.0,293.0,1201.0,328.0,2061.0,1258.0,1144.0,139.0,453.0,1409.0,923.0,1562.0,478.0,78.0,895.0,145.0,4261.0,12.0,277.0,1794.0,1223.0,979.0,1500.0,516.0,707.0,156.0,18215.0,41.0,1526.0,2441.0,1199.0,4363.0,1035.0,21.0,1919.0,707.0,1816.0,409.0,1671.0,1707.0,1629.0,1228.0,1895.0,68.0,1013.0,2014.0,715.0,860.0,599.0,510.0,152.0,635.0,4681.0,1227.0,701.0,1338.0,2248.0,1982.0,18.0,580.0,467.0,2209.0,342.0,568.0,1201.0,4278.0,217.0,131021.0,380.0,2676.0,1138.0,53.0,5204.0,277.0,170.0,248.0,11.0,809.0,259.0,195.0,2.0,298.0,4.0,256.0,1833.0,395.0,53.0,283.0,132.0,45.0,1280.0,1163.0,1264.0,1150.0,656.0,94.0,179.0,340.0,548.0,339.0,121.0,524.0,3775.0,8.0,7.0,42.0,90.0,10.0,321.0,248.0,310.0,1042.0,18.0,1832.0,751.0,2301.0,1749.0,45.0,304.0,330.0,1582.0,521.0,222.0,459.0,317.0,3.0,343.0,393.0,1157.0,24.0,622.0,1005.0,215.0,3840.0,990.0,355.0,129.0,29.0,217.0,1060.0,475.0,666.0,441.0,12665.0,696.0,18.0,450.0,2041.0,64.0,414.0,326.0,1015.0,294.0,1726.0,119.0,13.0,629.0,98.0,233.0,376.0,54.0,310.0,314.0,93.0,246.0,544.0,1071.0,486.0,318.0,231.0,173.0,9.0,546.0,931.0,1120.0,7.0,406.0,1719.0,1191.0,321.0,14.0,109.0,103.0,118.0,193.0,726.0,214.0,312.0,510.0,456.0,12.0,1140.0,1426.0,192.0,66.0,817.0,72.0,131.0,595.0,740.0,205.0,267.0,423.0,1122.0,148.0,30.0,666.0,1636.0,71.0,50772.0,1139.0,586.0,300.0,220.0,762.0,233.0,229.0,715.0,1053.0,50.0,1293.0,5.0,238.0,20724.0,386.0,32.0,1.0,769.0,280.0,217.0,1548.0,8.0,578.0,939.0,224.0,1328.0,191.0,138.0,479.0,39.0,886.0,620.0,455.0,284.0,2321.0,263.0,33.0,1628.0,259.0,608.0,30.0,219.0,108.0,42.0,184.0,263.0,43.0,256.0,689.0,125.0,3.0,33.0,651.0,12.0,97.0,4948.0,492.0,264.0,13.0,274.0,262.0,5870.0,564.0,1468.0,22.0,606.0,374.0,312.0,594.0,33.0,1592.0,400.0,191.0,899.0,128.0,56272.0,1.0,2.0,506.0,691.0,1711.0,1190.0,212.0,21.0,1120.0,187.0,1017.0,1943.0,333.0,748.0,1199.0,152.0,459.0,8.0,405.0,81.0,364.0,906.0,170.0,412.0,73.0,83.0,219.0,4.0,40690.0,1381.0,510.0,938.0,20.0,970.0,864.0,2158.0,23.0,845.0,1615.0,113.0,15.0,363.0,47.0,280.0,33.0,208.0,85.0,251.0,12543.0,487.0,770.0,29.0,43.0,3501.0,1532.0,321.0,376.0,330.0,277.0,913.0,430.0,174.0,12.0,279.0,46.0,257.0,415.0,211.0,36.0,624.0,16456.0,86.0,13.0,3.0,292.0,54.0,85.0,1287.0,3.0,303.0,192.0,208.0,138.0,14.0,3637.0,2308.0,232.0,298.0,402.0,103.0,47.0,1158.0,838.0,347.0,70.0,410.0,139.0,302.0,133.0,48.0,3268.0,328.0,3451.0,187.0,2366.0,43.0,7.0,773.0,421.0,406.0,286.0,1199.0,328.0,38.0,448.0,290.0,7.0,336.0,231.0,148.0,172.0,583.0,453.0,1172.0,1278.0,265.0,335.0,54.0,483.0,849.0,89.0,154.0,652.0,271.0,282.0,267.0,296.0,54.0,389.0,121.0,1189.0,380.0,499.0],\"xaxis\":\"x\",\"yaxis\":\"y\"}],                        {\"barmode\":\"relative\",\"legend\":{\"tracegroupgap\":0},\"margin\":{\"t\":60},\"template\":{\"data\":{\"bar\":[{\"error_x\":{\"color\":\"#2a3f5f\"},\"error_y\":{\"color\":\"#2a3f5f\"},\"marker\":{\"line\":{\"color\":\"#E5ECF6\",\"width\":0.5},\"pattern\":{\"fillmode\":\"overlay\",\"size\":10,\"solidity\":0.2}},\"type\":\"bar\"}],\"barpolar\":[{\"marker\":{\"line\":{\"color\":\"#E5ECF6\",\"width\":0.5},\"pattern\":{\"fillmode\":\"overlay\",\"size\":10,\"solidity\":0.2}},\"type\":\"barpolar\"}],\"carpet\":[{\"aaxis\":{\"endlinecolor\":\"#2a3f5f\",\"gridcolor\":\"white\",\"linecolor\":\"white\",\"minorgridcolor\":\"white\",\"startlinecolor\":\"#2a3f5f\"},\"baxis\":{\"endlinecolor\":\"#2a3f5f\",\"gridcolor\":\"white\",\"linecolor\":\"white\",\"minorgridcolor\":\"white\",\"startlinecolor\":\"#2a3f5f\"},\"type\":\"carpet\"}],\"choropleth\":[{\"colorbar\":{\"outlinewidth\":0,\"ticks\":\"\"},\"type\":\"choropleth\"}],\"contour\":[{\"colorbar\":{\"outlinewidth\":0,\"ticks\":\"\"},\"colorscale\":[[0.0,\"#0d0887\"],[0.1111111111111111,\"#46039f\"],[0.2222222222222222,\"#7201a8\"],[0.3333333333333333,\"#9c179e\"],[0.4444444444444444,\"#bd3786\"],[0.5555555555555556,\"#d8576b\"],[0.6666666666666666,\"#ed7953\"],[0.7777777777777778,\"#fb9f3a\"],[0.8888888888888888,\"#fdca26\"],[1.0,\"#f0f921\"]],\"type\":\"contour\"}],\"contourcarpet\":[{\"colorbar\":{\"outlinewidth\":0,\"ticks\":\"\"},\"type\":\"contourcarpet\"}],\"heatmap\":[{\"colorbar\":{\"outlinewidth\":0,\"ticks\":\"\"},\"colorscale\":[[0.0,\"#0d0887\"],[0.1111111111111111,\"#46039f\"],[0.2222222222222222,\"#7201a8\"],[0.3333333333333333,\"#9c179e\"],[0.4444444444444444,\"#bd3786\"],[0.5555555555555556,\"#d8576b\"],[0.6666666666666666,\"#ed7953\"],[0.7777777777777778,\"#fb9f3a\"],[0.8888888888888888,\"#fdca26\"],[1.0,\"#f0f921\"]],\"type\":\"heatmap\"}],\"heatmapgl\":[{\"colorbar\":{\"outlinewidth\":0,\"ticks\":\"\"},\"colorscale\":[[0.0,\"#0d0887\"],[0.1111111111111111,\"#46039f\"],[0.2222222222222222,\"#7201a8\"],[0.3333333333333333,\"#9c179e\"],[0.4444444444444444,\"#bd3786\"],[0.5555555555555556,\"#d8576b\"],[0.6666666666666666,\"#ed7953\"],[0.7777777777777778,\"#fb9f3a\"],[0.8888888888888888,\"#fdca26\"],[1.0,\"#f0f921\"]],\"type\":\"heatmapgl\"}],\"histogram\":[{\"marker\":{\"pattern\":{\"fillmode\":\"overlay\",\"size\":10,\"solidity\":0.2}},\"type\":\"histogram\"}],\"histogram2d\":[{\"colorbar\":{\"outlinewidth\":0,\"ticks\":\"\"},\"colorscale\":[[0.0,\"#0d0887\"],[0.1111111111111111,\"#46039f\"],[0.2222222222222222,\"#7201a8\"],[0.3333333333333333,\"#9c179e\"],[0.4444444444444444,\"#bd3786\"],[0.5555555555555556,\"#d8576b\"],[0.6666666666666666,\"#ed7953\"],[0.7777777777777778,\"#fb9f3a\"],[0.8888888888888888,\"#fdca26\"],[1.0,\"#f0f921\"]],\"type\":\"histogram2d\"}],\"histogram2dcontour\":[{\"colorbar\":{\"outlinewidth\":0,\"ticks\":\"\"},\"colorscale\":[[0.0,\"#0d0887\"],[0.1111111111111111,\"#46039f\"],[0.2222222222222222,\"#7201a8\"],[0.3333333333333333,\"#9c179e\"],[0.4444444444444444,\"#bd3786\"],[0.5555555555555556,\"#d8576b\"],[0.6666666666666666,\"#ed7953\"],[0.7777777777777778,\"#fb9f3a\"],[0.8888888888888888,\"#fdca26\"],[1.0,\"#f0f921\"]],\"type\":\"histogram2dcontour\"}],\"mesh3d\":[{\"colorbar\":{\"outlinewidth\":0,\"ticks\":\"\"},\"type\":\"mesh3d\"}],\"parcoords\":[{\"line\":{\"colorbar\":{\"outlinewidth\":0,\"ticks\":\"\"}},\"type\":\"parcoords\"}],\"pie\":[{\"automargin\":true,\"type\":\"pie\"}],\"scatter\":[{\"marker\":{\"colorbar\":{\"outlinewidth\":0,\"ticks\":\"\"}},\"type\":\"scatter\"}],\"scatter3d\":[{\"line\":{\"colorbar\":{\"outlinewidth\":0,\"ticks\":\"\"}},\"marker\":{\"colorbar\":{\"outlinewidth\":0,\"ticks\":\"\"}},\"type\":\"scatter3d\"}],\"scattercarpet\":[{\"marker\":{\"colorbar\":{\"outlinewidth\":0,\"ticks\":\"\"}},\"type\":\"scattercarpet\"}],\"scattergeo\":[{\"marker\":{\"colorbar\":{\"outlinewidth\":0,\"ticks\":\"\"}},\"type\":\"scattergeo\"}],\"scattergl\":[{\"marker\":{\"colorbar\":{\"outlinewidth\":0,\"ticks\":\"\"}},\"type\":\"scattergl\"}],\"scattermapbox\":[{\"marker\":{\"colorbar\":{\"outlinewidth\":0,\"ticks\":\"\"}},\"type\":\"scattermapbox\"}],\"scatterpolar\":[{\"marker\":{\"colorbar\":{\"outlinewidth\":0,\"ticks\":\"\"}},\"type\":\"scatterpolar\"}],\"scatterpolargl\":[{\"marker\":{\"colorbar\":{\"outlinewidth\":0,\"ticks\":\"\"}},\"type\":\"scatterpolargl\"}],\"scatterternary\":[{\"marker\":{\"colorbar\":{\"outlinewidth\":0,\"ticks\":\"\"}},\"type\":\"scatterternary\"}],\"surface\":[{\"colorbar\":{\"outlinewidth\":0,\"ticks\":\"\"},\"colorscale\":[[0.0,\"#0d0887\"],[0.1111111111111111,\"#46039f\"],[0.2222222222222222,\"#7201a8\"],[0.3333333333333333,\"#9c179e\"],[0.4444444444444444,\"#bd3786\"],[0.5555555555555556,\"#d8576b\"],[0.6666666666666666,\"#ed7953\"],[0.7777777777777778,\"#fb9f3a\"],[0.8888888888888888,\"#fdca26\"],[1.0,\"#f0f921\"]],\"type\":\"surface\"}],\"table\":[{\"cells\":{\"fill\":{\"color\":\"#EBF0F8\"},\"line\":{\"color\":\"white\"}},\"header\":{\"fill\":{\"color\":\"#C8D4E3\"},\"line\":{\"color\":\"white\"}},\"type\":\"table\"}]},\"layout\":{\"annotationdefaults\":{\"arrowcolor\":\"#2a3f5f\",\"arrowhead\":0,\"arrowwidth\":1},\"autotypenumbers\":\"strict\",\"coloraxis\":{\"colorbar\":{\"outlinewidth\":0,\"ticks\":\"\"}},\"colorscale\":{\"diverging\":[[0,\"#8e0152\"],[0.1,\"#c51b7d\"],[0.2,\"#de77ae\"],[0.3,\"#f1b6da\"],[0.4,\"#fde0ef\"],[0.5,\"#f7f7f7\"],[0.6,\"#e6f5d0\"],[0.7,\"#b8e186\"],[0.8,\"#7fbc41\"],[0.9,\"#4d9221\"],[1,\"#276419\"]],\"sequential\":[[0.0,\"#0d0887\"],[0.1111111111111111,\"#46039f\"],[0.2222222222222222,\"#7201a8\"],[0.3333333333333333,\"#9c179e\"],[0.4444444444444444,\"#bd3786\"],[0.5555555555555556,\"#d8576b\"],[0.6666666666666666,\"#ed7953\"],[0.7777777777777778,\"#fb9f3a\"],[0.8888888888888888,\"#fdca26\"],[1.0,\"#f0f921\"]],\"sequentialminus\":[[0.0,\"#0d0887\"],[0.1111111111111111,\"#46039f\"],[0.2222222222222222,\"#7201a8\"],[0.3333333333333333,\"#9c179e\"],[0.4444444444444444,\"#bd3786\"],[0.5555555555555556,\"#d8576b\"],[0.6666666666666666,\"#ed7953\"],[0.7777777777777778,\"#fb9f3a\"],[0.8888888888888888,\"#fdca26\"],[1.0,\"#f0f921\"]]},\"colorway\":[\"#636efa\",\"#EF553B\",\"#00cc96\",\"#ab63fa\",\"#FFA15A\",\"#19d3f3\",\"#FF6692\",\"#B6E880\",\"#FF97FF\",\"#FECB52\"],\"font\":{\"color\":\"#2a3f5f\"},\"geo\":{\"bgcolor\":\"white\",\"lakecolor\":\"white\",\"landcolor\":\"#E5ECF6\",\"showlakes\":true,\"showland\":true,\"subunitcolor\":\"white\"},\"hoverlabel\":{\"align\":\"left\"},\"hovermode\":\"closest\",\"mapbox\":{\"style\":\"light\"},\"paper_bgcolor\":\"white\",\"plot_bgcolor\":\"#E5ECF6\",\"polar\":{\"angularaxis\":{\"gridcolor\":\"white\",\"linecolor\":\"white\",\"ticks\":\"\"},\"bgcolor\":\"#E5ECF6\",\"radialaxis\":{\"gridcolor\":\"white\",\"linecolor\":\"white\",\"ticks\":\"\"}},\"scene\":{\"xaxis\":{\"backgroundcolor\":\"#E5ECF6\",\"gridcolor\":\"white\",\"gridwidth\":2,\"linecolor\":\"white\",\"showbackground\":true,\"ticks\":\"\",\"zerolinecolor\":\"white\"},\"yaxis\":{\"backgroundcolor\":\"#E5ECF6\",\"gridcolor\":\"white\",\"gridwidth\":2,\"linecolor\":\"white\",\"showbackground\":true,\"ticks\":\"\",\"zerolinecolor\":\"white\"},\"zaxis\":{\"backgroundcolor\":\"#E5ECF6\",\"gridcolor\":\"white\",\"gridwidth\":2,\"linecolor\":\"white\",\"showbackground\":true,\"ticks\":\"\",\"zerolinecolor\":\"white\"}},\"shapedefaults\":{\"line\":{\"color\":\"#2a3f5f\"}},\"ternary\":{\"aaxis\":{\"gridcolor\":\"white\",\"linecolor\":\"white\",\"ticks\":\"\"},\"baxis\":{\"gridcolor\":\"white\",\"linecolor\":\"white\",\"ticks\":\"\"},\"bgcolor\":\"#E5ECF6\",\"caxis\":{\"gridcolor\":\"white\",\"linecolor\":\"white\",\"ticks\":\"\"}},\"title\":{\"x\":0.05},\"xaxis\":{\"automargin\":true,\"gridcolor\":\"white\",\"linecolor\":\"white\",\"ticks\":\"\",\"title\":{\"standoff\":15},\"zerolinecolor\":\"white\",\"zerolinewidth\":2},\"yaxis\":{\"automargin\":true,\"gridcolor\":\"white\",\"linecolor\":\"white\",\"ticks\":\"\",\"title\":{\"standoff\":15},\"zerolinecolor\":\"white\",\"zerolinewidth\":2}}},\"xaxis\":{\"anchor\":\"y\",\"domain\":[0.0,1.0],\"title\":{\"text\":\"n_comments\"}},\"yaxis\":{\"anchor\":\"x\",\"domain\":[0.0,1.0],\"title\":{\"text\":\"count\"}}},                        {\"responsive\": true}                    ).then(function(){\n",
       "                            \n",
       "var gd = document.getElementById('4ef90249-3c65-4670-9d64-ba22bd010cd2');\n",
       "var x = new MutationObserver(function (mutations, observer) {{\n",
       "        var display = window.getComputedStyle(gd).display;\n",
       "        if (!display || display === 'none') {{\n",
       "            console.log([gd, 'removed!']);\n",
       "            Plotly.purge(gd);\n",
       "            observer.disconnect();\n",
       "        }}\n",
       "}});\n",
       "\n",
       "// Listen for the removal of the full notebook cells\n",
       "var notebookContainer = gd.closest('#notebook-container');\n",
       "if (notebookContainer) {{\n",
       "    x.observe(notebookContainer, {childList: true});\n",
       "}}\n",
       "\n",
       "// Listen for the clearing of the current output cell\n",
       "var outputEl = gd.closest('.output');\n",
       "if (outputEl) {{\n",
       "    x.observe(outputEl, {childList: true});\n",
       "}}\n",
       "\n",
       "                        })                };                });            </script>        </div>"
      ]
     },
     "metadata": {},
     "output_type": "display_data"
    }
   ],
   "source": [
    "plot(df_videos_dec_urls, \"n_comments\")"
   ]
  },
  {
   "cell_type": "code",
   "execution_count": 256,
   "id": "cccf594e",
   "metadata": {},
   "outputs": [],
   "source": [
    "df_videos_dec_urls_top_comments = df_videos_dec_urls[df_videos_dec_urls.n_comments > 2000]"
   ]
  },
  {
   "cell_type": "code",
   "execution_count": 257,
   "id": "fba9cfdf",
   "metadata": {},
   "outputs": [],
   "source": [
    "df_videos_dec_urls_top_comments.sort_values(\"n_comments\", ascending=False, inplace=True)"
   ]
  },
  {
   "cell_type": "code",
   "execution_count": 259,
   "id": "c916355b",
   "metadata": {},
   "outputs": [],
   "source": [
    "df_videos_dec_urls_top_comments = df_videos_dec_urls_top_comments[\n",
    "    [\"urls\", \"n_comments\"]\n",
    "][~df_videos_dec_urls_top_comments[[\"urls\", \"n_comments\"]].duplicated()]"
   ]
  },
  {
   "cell_type": "code",
   "execution_count": 262,
   "id": "17517048",
   "metadata": {},
   "outputs": [],
   "source": [
    "fix(df_videos_dec_urls_top_comments)"
   ]
  },
  {
   "cell_type": "code",
   "execution_count": 263,
   "id": "14558548",
   "metadata": {},
   "outputs": [
    {
     "data": {
      "text/html": [
       "<div>\n",
       "<style scoped>\n",
       "    .dataframe tbody tr th:only-of-type {\n",
       "        vertical-align: middle;\n",
       "    }\n",
       "\n",
       "    .dataframe tbody tr th {\n",
       "        vertical-align: top;\n",
       "    }\n",
       "\n",
       "    .dataframe thead th {\n",
       "        text-align: right;\n",
       "    }\n",
       "</style>\n",
       "<table border=\"1\" class=\"dataframe\">\n",
       "  <thead>\n",
       "    <tr style=\"text-align: right;\">\n",
       "      <th></th>\n",
       "      <th>urls</th>\n",
       "      <th>n_comments</th>\n",
       "      <th>n_urls</th>\n",
       "    </tr>\n",
       "  </thead>\n",
       "  <tbody>\n",
       "    <tr>\n",
       "      <th>234</th>\n",
       "      <td>[http://bit.ly/ahsub, http://www.accessonline....</td>\n",
       "      <td>131021.0</td>\n",
       "      <td>6</td>\n",
       "    </tr>\n",
       "    <tr>\n",
       "      <th>452</th>\n",
       "      <td>[https://www.youtube.com/watch?v=-t_pzplyvag]</td>\n",
       "      <td>56272.0</td>\n",
       "      <td>1</td>\n",
       "    </tr>\n",
       "    <tr>\n",
       "      <th>376</th>\n",
       "      <td>[https://youtu.be/pbxtr41zftq, https://youtu.b...</td>\n",
       "      <td>50772.0</td>\n",
       "      <td>2</td>\n",
       "    </tr>\n",
       "    <tr>\n",
       "      <th>481</th>\n",
       "      <td>[https://madisonbeer.lnk.to/selfish, https://w...</td>\n",
       "      <td>40690.0</td>\n",
       "      <td>4</td>\n",
       "    </tr>\n",
       "    <tr>\n",
       "      <th>390</th>\n",
       "      <td>[http://wwe.yt/wwenetwork, http://wwe.yt/, htt...</td>\n",
       "      <td>20724.0</td>\n",
       "      <td>16</td>\n",
       "    </tr>\n",
       "    <tr>\n",
       "      <th>...</th>\n",
       "      <td>...</td>\n",
       "      <td>...</td>\n",
       "      <td>...</td>\n",
       "    </tr>\n",
       "    <tr>\n",
       "      <th>83</th>\n",
       "      <td>[https://www.youtube.com/watch?v=o3dbfiow_mk&amp;t...</td>\n",
       "      <td>2119.0</td>\n",
       "      <td>1</td>\n",
       "    </tr>\n",
       "    <tr>\n",
       "      <th>48</th>\n",
       "      <td>[https://www.ridgewallet.com/?utm_source=refer...</td>\n",
       "      <td>2061.0</td>\n",
       "      <td>4</td>\n",
       "    </tr>\n",
       "    <tr>\n",
       "      <th>171</th>\n",
       "      <td>[https://www.liveabusefree.com]</td>\n",
       "      <td>2061.0</td>\n",
       "      <td>1</td>\n",
       "    </tr>\n",
       "    <tr>\n",
       "      <th>314</th>\n",
       "      <td>[https://www.patreon.com/user?u=11797644, http...</td>\n",
       "      <td>2041.0</td>\n",
       "      <td>7</td>\n",
       "    </tr>\n",
       "    <tr>\n",
       "      <th>212</th>\n",
       "      <td>[https://www.indiegogo.com/projects/another-ca...</td>\n",
       "      <td>2014.0</td>\n",
       "      <td>3</td>\n",
       "    </tr>\n",
       "  </tbody>\n",
       "</table>\n",
       "<p>67 rows × 3 columns</p>\n",
       "</div>"
      ],
      "text/plain": [
       "                                                  urls  n_comments  n_urls\n",
       "234  [http://bit.ly/ahsub, http://www.accessonline....    131021.0       6\n",
       "452      [https://www.youtube.com/watch?v=-t_pzplyvag]     56272.0       1\n",
       "376  [https://youtu.be/pbxtr41zftq, https://youtu.b...     50772.0       2\n",
       "481  [https://madisonbeer.lnk.to/selfish, https://w...     40690.0       4\n",
       "390  [http://wwe.yt/wwenetwork, http://wwe.yt/, htt...     20724.0      16\n",
       "..                                                 ...         ...     ...\n",
       "83   [https://www.youtube.com/watch?v=o3dbfiow_mk&t...      2119.0       1\n",
       "48   [https://www.ridgewallet.com/?utm_source=refer...      2061.0       4\n",
       "171                    [https://www.liveabusefree.com]      2061.0       1\n",
       "314  [https://www.patreon.com/user?u=11797644, http...      2041.0       7\n",
       "212  [https://www.indiegogo.com/projects/another-ca...      2014.0       3\n",
       "\n",
       "[67 rows x 3 columns]"
      ]
     },
     "execution_count": 263,
     "metadata": {},
     "output_type": "execute_result"
    }
   ],
   "source": [
    "df_videos_dec_urls_top_comments"
   ]
  },
  {
   "cell_type": "code",
   "execution_count": 264,
   "id": "e61207e6",
   "metadata": {},
   "outputs": [],
   "source": [
    "df_videos_dec_urls_top_comments_one = one_url_df(df_videos_dec_urls_top_comments)\n",
    "df_videos_dec_urls_top_comments_more = more_url_df(df_videos_dec_urls_top_comments, \"n_comments\")"
   ]
  },
  {
   "cell_type": "code",
   "execution_count": 265,
   "id": "52772781",
   "metadata": {},
   "outputs": [],
   "source": [
    "un(df_videos_dec_urls_top_comments_one)"
   ]
  },
  {
   "cell_type": "code",
   "execution_count": 266,
   "id": "dcd3f0bd",
   "metadata": {},
   "outputs": [
    {
     "data": {
      "text/html": [
       "<div>\n",
       "<style scoped>\n",
       "    .dataframe tbody tr th:only-of-type {\n",
       "        vertical-align: middle;\n",
       "    }\n",
       "\n",
       "    .dataframe tbody tr th {\n",
       "        vertical-align: top;\n",
       "    }\n",
       "\n",
       "    .dataframe thead th {\n",
       "        text-align: right;\n",
       "    }\n",
       "</style>\n",
       "<table border=\"1\" class=\"dataframe\">\n",
       "  <thead>\n",
       "    <tr style=\"text-align: right;\">\n",
       "      <th></th>\n",
       "      <th>urls</th>\n",
       "      <th>n_comments</th>\n",
       "      <th>n_urls</th>\n",
       "    </tr>\n",
       "  </thead>\n",
       "  <tbody>\n",
       "    <tr>\n",
       "      <th>452</th>\n",
       "      <td>https://www.youtube.com/watch?v=-t_pzplyvag</td>\n",
       "      <td>56272.0</td>\n",
       "      <td>1</td>\n",
       "    </tr>\n",
       "    <tr>\n",
       "      <th>193</th>\n",
       "      <td>https://www.youtube.com/watch?v=hwkb80xzdus&amp;fe...</td>\n",
       "      <td>18215.0</td>\n",
       "      <td>1</td>\n",
       "    </tr>\n",
       "    <tr>\n",
       "      <th>219</th>\n",
       "      <td>https://www.youtube.com/channel/ucfwe_odi1ytbd...</td>\n",
       "      <td>4681.0</td>\n",
       "      <td>1</td>\n",
       "    </tr>\n",
       "    <tr>\n",
       "      <th>128</th>\n",
       "      <td>https://www.youtube.com/watch?v=nqzs5izsa68</td>\n",
       "      <td>4650.0</td>\n",
       "      <td>1</td>\n",
       "    </tr>\n",
       "    <tr>\n",
       "      <th>555</th>\n",
       "      <td>https://www.nickwallis.com/depp-trial</td>\n",
       "      <td>3451.0</td>\n",
       "      <td>1</td>\n",
       "    </tr>\n",
       "    <tr>\n",
       "      <th>84</th>\n",
       "      <td>http://www.patreon.com/dalasreview</td>\n",
       "      <td>3426.0</td>\n",
       "      <td>1</td>\n",
       "    </tr>\n",
       "    <tr>\n",
       "      <th>148</th>\n",
       "      <td>https://soydecine.com/johnny-depp-fue-maltrata...</td>\n",
       "      <td>3323.0</td>\n",
       "      <td>1</td>\n",
       "    </tr>\n",
       "    <tr>\n",
       "      <th>236</th>\n",
       "      <td>https://www.nickiswift.com/202178/the-real-rea...</td>\n",
       "      <td>2676.0</td>\n",
       "      <td>1</td>\n",
       "    </tr>\n",
       "    <tr>\n",
       "      <th>411</th>\n",
       "      <td>https://www.nickiswift.com/15613/double-life-a...</td>\n",
       "      <td>2321.0</td>\n",
       "      <td>1</td>\n",
       "    </tr>\n",
       "    <tr>\n",
       "      <th>83</th>\n",
       "      <td>https://www.youtube.com/watch?v=o3dbfiow_mk&amp;t=29s</td>\n",
       "      <td>2119.0</td>\n",
       "      <td>1</td>\n",
       "    </tr>\n",
       "    <tr>\n",
       "      <th>171</th>\n",
       "      <td>https://www.liveabusefree.com/</td>\n",
       "      <td>2061.0</td>\n",
       "      <td>1</td>\n",
       "    </tr>\n",
       "  </tbody>\n",
       "</table>\n",
       "</div>"
      ],
      "text/plain": [
       "                                                  urls  n_comments  n_urls\n",
       "452        https://www.youtube.com/watch?v=-t_pzplyvag     56272.0       1\n",
       "193  https://www.youtube.com/watch?v=hwkb80xzdus&fe...     18215.0       1\n",
       "219  https://www.youtube.com/channel/ucfwe_odi1ytbd...      4681.0       1\n",
       "128        https://www.youtube.com/watch?v=nqzs5izsa68      4650.0       1\n",
       "555              https://www.nickwallis.com/depp-trial      3451.0       1\n",
       "84                  http://www.patreon.com/dalasreview      3426.0       1\n",
       "148  https://soydecine.com/johnny-depp-fue-maltrata...      3323.0       1\n",
       "236  https://www.nickiswift.com/202178/the-real-rea...      2676.0       1\n",
       "411  https://www.nickiswift.com/15613/double-life-a...      2321.0       1\n",
       "83   https://www.youtube.com/watch?v=o3dbfiow_mk&t=29s      2119.0       1\n",
       "171                     https://www.liveabusefree.com/      2061.0       1"
      ]
     },
     "execution_count": 266,
     "metadata": {},
     "output_type": "execute_result"
    }
   ],
   "source": [
    "df_videos_dec_urls_top_comments_one"
   ]
  },
  {
   "cell_type": "code",
   "execution_count": 267,
   "id": "dab5e39f",
   "metadata": {},
   "outputs": [],
   "source": [
    "un(df_videos_dec_urls_top_comments_more)"
   ]
  },
  {
   "cell_type": "code",
   "execution_count": 268,
   "id": "efa61417",
   "metadata": {},
   "outputs": [],
   "source": [
    "df_videos_dec_urls_top_comments_one.to_csv(\n",
    "    yt_path + \"df_videos_dec_urls_top_comments_one.csv\", index=False\n",
    ")\n",
    "\n",
    "df_videos_dec_urls_top_comments_more.to_csv(\n",
    "    yt_path + \"df_videos_dec_urls_top_comments_more.csv\", index=False\n",
    ")"
   ]
  },
  {
   "cell_type": "code",
   "execution_count": 270,
   "id": "87ba0e3f",
   "metadata": {},
   "outputs": [
    {
     "data": {
      "text/html": [
       "<div>\n",
       "<style scoped>\n",
       "    .dataframe tbody tr th:only-of-type {\n",
       "        vertical-align: middle;\n",
       "    }\n",
       "\n",
       "    .dataframe tbody tr th {\n",
       "        vertical-align: top;\n",
       "    }\n",
       "\n",
       "    .dataframe thead th {\n",
       "        text-align: right;\n",
       "    }\n",
       "</style>\n",
       "<table border=\"1\" class=\"dataframe\">\n",
       "  <thead>\n",
       "    <tr style=\"text-align: right;\">\n",
       "      <th></th>\n",
       "      <th>urls</th>\n",
       "      <th>n_comments</th>\n",
       "      <th>n_urls</th>\n",
       "    </tr>\n",
       "  </thead>\n",
       "  <tbody>\n",
       "    <tr>\n",
       "      <th>0</th>\n",
       "      <td>https://www.youtube.com/aaryannhanda?sub_confi...</td>\n",
       "      <td>131021.0</td>\n",
       "      <td>6</td>\n",
       "    </tr>\n",
       "    <tr>\n",
       "      <th>5</th>\n",
       "      <td>https://www.youtube.com/accessonline</td>\n",
       "      <td>131021.0</td>\n",
       "      <td>6</td>\n",
       "    </tr>\n",
       "    <tr>\n",
       "      <th>4</th>\n",
       "      <td>http://instagram.com/accessonline</td>\n",
       "      <td>131021.0</td>\n",
       "      <td>6</td>\n",
       "    </tr>\n",
       "    <tr>\n",
       "      <th>3</th>\n",
       "      <td>https://twitter.com/accessonline</td>\n",
       "      <td>131021.0</td>\n",
       "      <td>6</td>\n",
       "    </tr>\n",
       "    <tr>\n",
       "      <th>2</th>\n",
       "      <td>https://www.facebook.com/accessonline</td>\n",
       "      <td>131021.0</td>\n",
       "      <td>6</td>\n",
       "    </tr>\n",
       "    <tr>\n",
       "      <th>...</th>\n",
       "      <td>...</td>\n",
       "      <td>...</td>\n",
       "      <td>...</td>\n",
       "    </tr>\n",
       "    <tr>\n",
       "      <th>366</th>\n",
       "      <td>https://www.youtube.com/channel/ucotslvraws_pd...</td>\n",
       "      <td>2041.0</td>\n",
       "      <td>7</td>\n",
       "    </tr>\n",
       "    <tr>\n",
       "      <th>367</th>\n",
       "      <td>https://hacker-goods.creator-spring.com</td>\n",
       "      <td>2041.0</td>\n",
       "      <td>7</td>\n",
       "    </tr>\n",
       "    <tr>\n",
       "      <th>368</th>\n",
       "      <td>https://www.indiegogo.com/projects/another-cas...</td>\n",
       "      <td>2014.0</td>\n",
       "      <td>3</td>\n",
       "    </tr>\n",
       "    <tr>\n",
       "      <th>369</th>\n",
       "      <td>https://www.paypal.com/cgi-bin/webscr?cmd=_s-x...</td>\n",
       "      <td>2014.0</td>\n",
       "      <td>3</td>\n",
       "    </tr>\n",
       "    <tr>\n",
       "      <th>370</th>\n",
       "      <td>https://www.patreon.com/thatumbrellaguy</td>\n",
       "      <td>2014.0</td>\n",
       "      <td>3</td>\n",
       "    </tr>\n",
       "  </tbody>\n",
       "</table>\n",
       "<p>378 rows × 3 columns</p>\n",
       "</div>"
      ],
      "text/plain": [
       "                                                  urls  n_comments  n_urls\n",
       "0    https://www.youtube.com/aaryannhanda?sub_confi...    131021.0       6\n",
       "5                 https://www.youtube.com/accessonline    131021.0       6\n",
       "4                    http://instagram.com/accessonline    131021.0       6\n",
       "3                     https://twitter.com/accessonline    131021.0       6\n",
       "2                https://www.facebook.com/accessonline    131021.0       6\n",
       "..                                                 ...         ...     ...\n",
       "366  https://www.youtube.com/channel/ucotslvraws_pd...      2041.0       7\n",
       "367            https://hacker-goods.creator-spring.com      2041.0       7\n",
       "368  https://www.indiegogo.com/projects/another-cas...      2014.0       3\n",
       "369  https://www.paypal.com/cgi-bin/webscr?cmd=_s-x...      2014.0       3\n",
       "370            https://www.patreon.com/thatumbrellaguy      2014.0       3\n",
       "\n",
       "[378 rows x 3 columns]"
      ]
     },
     "execution_count": 270,
     "metadata": {},
     "output_type": "execute_result"
    }
   ],
   "source": [
    "pd.concat(\n",
    "    [df_videos_dec_urls_top_comments_one, df_videos_dec_urls_top_comments_more]\n",
    ").sort_values(\"n_comments\", ascending=False).drop_duplicates()"
   ]
  },
  {
   "cell_type": "code",
   "execution_count": 271,
   "id": "ca59a999",
   "metadata": {},
   "outputs": [],
   "source": [
    "pd.concat(\n",
    "    [df_videos_dec_urls_top_comments_one, df_videos_dec_urls_top_comments_more]\n",
    ").sort_values(\"n_comments\", ascending=False).drop_duplicates().to_csv(\n",
    "    yt_path + \"df_videos_dec_urls_top_comments.csv\", index=False\n",
    ")"
   ]
  },
  {
   "cell_type": "markdown",
   "id": "0d45b3e7",
   "metadata": {},
   "source": [
    "### favorites"
   ]
  },
  {
   "cell_type": "code",
   "execution_count": 260,
   "id": "9eeed9d3",
   "metadata": {},
   "outputs": [
    {
     "data": {
      "text/plain": [
       "count    596.0\n",
       "mean       0.0\n",
       "std        0.0\n",
       "min        0.0\n",
       "25%        0.0\n",
       "50%        0.0\n",
       "75%        0.0\n",
       "max        0.0\n",
       "Name: n_favorites, dtype: float64"
      ]
     },
     "execution_count": 260,
     "metadata": {},
     "output_type": "execute_result"
    }
   ],
   "source": [
    "df_videos_dec_urls.n_favorites.describe()"
   ]
  },
  {
   "cell_type": "code",
   "execution_count": 261,
   "id": "637d92d0",
   "metadata": {},
   "outputs": [
    {
     "data": {
      "text/plain": [
       "0"
      ]
     },
     "execution_count": 261,
     "metadata": {},
     "output_type": "execute_result"
    }
   ],
   "source": [
    "df_videos_dec_urls.n_favorites.max()"
   ]
  }
 ],
 "metadata": {
  "kernelspec": {
   "display_name": "Python 3",
   "language": "python",
   "name": "python3"
  },
  "language_info": {
   "codemirror_mode": {
    "name": "ipython",
    "version": 3
   },
   "file_extension": ".py",
   "mimetype": "text/x-python",
   "name": "python",
   "nbconvert_exporter": "python",
   "pygments_lexer": "ipython3",
   "version": "3.8.8"
  }
 },
 "nbformat": 4,
 "nbformat_minor": 5
}
