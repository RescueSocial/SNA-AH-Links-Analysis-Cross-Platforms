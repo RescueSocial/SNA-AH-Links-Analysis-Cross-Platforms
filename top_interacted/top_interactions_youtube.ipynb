{
 "cells": [
  {
   "cell_type": "code",
   "execution_count": 1,
   "id": "01069275",
   "metadata": {},
   "outputs": [],
   "source": [
    "import pandas as pd\n",
    "import json\n",
    "import ast\n",
    "import warnings\n",
    "warnings.filterwarnings(\"ignore\")"
   ]
  },
  {
   "cell_type": "code",
   "execution_count": 2,
   "id": "c75629d2",
   "metadata": {},
   "outputs": [],
   "source": [
    "data_path = \"../../URLs_Data_Filteration/Youtube/\""
   ]
  },
  {
   "cell_type": "code",
   "execution_count": 3,
   "id": "b17dd2c3",
   "metadata": {},
   "outputs": [
    {
     "name": "stdout",
     "output_type": "stream",
     "text": [
      " Volume in drive D has no label.\n",
      " Volume Serial Number is 4623-EF98\n",
      "\n",
      " Directory of D:\\test\\mapbox-android-sample-master\\src\\New folder\\URLs_Data_Filteration\\Youtube\n",
      "\n",
      "01/31/2022  04:25 PM    <DIR>          .\n",
      "01/31/2022  04:25 PM    <DIR>          ..\n",
      "01/19/2022  10:58 AM         2,735,132 df_comments_4_months_urls.csv\n",
      "01/19/2022  10:58 AM            34,044 df_comments_4_months_urls_1_link.csv\n",
      "01/19/2022  10:58 AM             6,974 df_comments_4_months_urls_more.csv\n",
      "01/19/2022  10:58 AM           780,678 df_comments_dec_urls.csv\n",
      "01/19/2022  10:58 AM            22,802 df_comments_dec_urls_1_link.csv\n",
      "01/19/2022  10:58 AM             6,732 df_comments_dec_urls_more.csv\n",
      "01/19/2022  09:54 AM         2,635,949 df_videos_4_months_urls.csv\n",
      "01/19/2022  10:58 AM             2,798 df_videos_4_months_urls_1_link.csv\n",
      "01/19/2022  10:58 AM            72,940 df_videos_4_months_urls_more.csv\n",
      "01/19/2022  10:58 AM         2,136,554 df_videos_dec_urls.csv\n",
      "01/19/2022  10:58 AM             2,408 df_videos_dec_urls_1_link.csv\n",
      "01/19/2022  10:58 AM            98,756 df_videos_dec_urls_more.csv\n",
      "01/19/2022  10:58 AM         2,635,949 df_videos_urls_4_months.csv\n",
      "01/26/2022  01:20 PM         3,457,019 YouTube Videos Created Data_Dec20ToApr21.csv\n",
      "              14 File(s)     14,628,735 bytes\n",
      "               2 Dir(s)  42,455,224,320 bytes free\n"
     ]
    }
   ],
   "source": [
    "ls \"../../URLs_Data_Filteration/Youtube\""
   ]
  },
  {
   "cell_type": "code",
   "execution_count": 4,
   "id": "41d96975",
   "metadata": {},
   "outputs": [],
   "source": [
    "def save(set_, filepath):\n",
    "    with open(filepath, 'w') as f:\n",
    "        f.write(json.dumps(set_))\n",
    "\n",
    "def read(filepath):\n",
    "    with open(filepath, 'r') as f:\n",
    "        return json.loads(f.read())"
   ]
  },
  {
   "cell_type": "markdown",
   "id": "37cfa0cb",
   "metadata": {},
   "source": [
    "# Comments"
   ]
  },
  {
   "cell_type": "markdown",
   "id": "ac8bf7d7",
   "metadata": {},
   "source": [
    "## 4 Months"
   ]
  },
  {
   "cell_type": "code",
   "execution_count": 5,
   "id": "3f7ac1db",
   "metadata": {},
   "outputs": [],
   "source": [
    "df_comments_4_months_urls = pd.read_csv(data_path + \"df_comments_4_months_urls.csv\")"
   ]
  },
  {
   "cell_type": "code",
   "execution_count": 6,
   "id": "16db0dc7",
   "metadata": {},
   "outputs": [
    {
     "data": {
      "text/html": [
       "<div>\n",
       "<style scoped>\n",
       "    .dataframe tbody tr th:only-of-type {\n",
       "        vertical-align: middle;\n",
       "    }\n",
       "\n",
       "    .dataframe tbody tr th {\n",
       "        vertical-align: top;\n",
       "    }\n",
       "\n",
       "    .dataframe thead th {\n",
       "        text-align: right;\n",
       "    }\n",
       "</style>\n",
       "<table border=\"1\" class=\"dataframe\">\n",
       "  <thead>\n",
       "    <tr style=\"text-align: right;\">\n",
       "      <th></th>\n",
       "      <th>Unnamed: 0</th>\n",
       "      <th>kind</th>\n",
       "      <th>etag</th>\n",
       "      <th>id</th>\n",
       "      <th>snippet.videoId</th>\n",
       "      <th>snippet.topLevelComment.kind</th>\n",
       "      <th>snippet.topLevelComment.etag</th>\n",
       "      <th>snippet.topLevelComment.id</th>\n",
       "      <th>snippet.topLevelComment.snippet.videoId</th>\n",
       "      <th>snippet.topLevelComment.snippet.textDisplay</th>\n",
       "      <th>...</th>\n",
       "      <th>snippet.topLevelComment.snippet.likeCount</th>\n",
       "      <th>snippet.topLevelComment.snippet.publishedAt</th>\n",
       "      <th>snippet.topLevelComment.snippet.updatedAt</th>\n",
       "      <th>snippet.canReply</th>\n",
       "      <th>snippet.totalReplyCount</th>\n",
       "      <th>snippet.isPublic</th>\n",
       "      <th>replies.comments</th>\n",
       "      <th>snippet.topLevelComment.snippet.moderationStatus</th>\n",
       "      <th>urls</th>\n",
       "      <th>n_urls</th>\n",
       "    </tr>\n",
       "  </thead>\n",
       "  <tbody>\n",
       "    <tr>\n",
       "      <th>0</th>\n",
       "      <td>246.0</td>\n",
       "      <td>youtube#commentThread</td>\n",
       "      <td>qdoqrw3cE0__VDupjhlNX__WB70</td>\n",
       "      <td>UgzMkTI7AmxUZWcWj5B4AaABAg</td>\n",
       "      <td>QBCEXSVjBrM</td>\n",
       "      <td>youtube#comment</td>\n",
       "      <td>A_cfWgYhmBQ9QUCuztUvQz2_KWg</td>\n",
       "      <td>UgzMkTI7AmxUZWcWj5B4AaABAg</td>\n",
       "      <td>QBCEXSVjBrM</td>\n",
       "      <td>&lt;a href=\"https://youtu.be/mw3IiyXZJds\"&gt;https:/...</td>\n",
       "      <td>...</td>\n",
       "      <td>0.0</td>\n",
       "      <td>2021-02-03 16:34:18+00:00</td>\n",
       "      <td>2021-02-03T16:34:18Z</td>\n",
       "      <td>True</td>\n",
       "      <td>0.0</td>\n",
       "      <td>True</td>\n",
       "      <td>NaN</td>\n",
       "      <td>NaN</td>\n",
       "      <td>['https://youtu.be/mw3IiyXZJds']</td>\n",
       "      <td>1</td>\n",
       "    </tr>\n",
       "  </tbody>\n",
       "</table>\n",
       "<p>1 rows × 27 columns</p>\n",
       "</div>"
      ],
      "text/plain": [
       "   Unnamed: 0                   kind                         etag  \\\n",
       "0       246.0  youtube#commentThread  qdoqrw3cE0__VDupjhlNX__WB70   \n",
       "\n",
       "                           id snippet.videoId snippet.topLevelComment.kind  \\\n",
       "0  UgzMkTI7AmxUZWcWj5B4AaABAg     QBCEXSVjBrM              youtube#comment   \n",
       "\n",
       "  snippet.topLevelComment.etag  snippet.topLevelComment.id  \\\n",
       "0  A_cfWgYhmBQ9QUCuztUvQz2_KWg  UgzMkTI7AmxUZWcWj5B4AaABAg   \n",
       "\n",
       "  snippet.topLevelComment.snippet.videoId  \\\n",
       "0                             QBCEXSVjBrM   \n",
       "\n",
       "         snippet.topLevelComment.snippet.textDisplay  ...  \\\n",
       "0  <a href=\"https://youtu.be/mw3IiyXZJds\">https:/...  ...   \n",
       "\n",
       "  snippet.topLevelComment.snippet.likeCount  \\\n",
       "0                                       0.0   \n",
       "\n",
       "  snippet.topLevelComment.snippet.publishedAt  \\\n",
       "0                   2021-02-03 16:34:18+00:00   \n",
       "\n",
       "  snippet.topLevelComment.snippet.updatedAt snippet.canReply  \\\n",
       "0                      2021-02-03T16:34:18Z             True   \n",
       "\n",
       "  snippet.totalReplyCount  snippet.isPublic replies.comments  \\\n",
       "0                     0.0              True              NaN   \n",
       "\n",
       "   snippet.topLevelComment.snippet.moderationStatus  \\\n",
       "0                                               NaN   \n",
       "\n",
       "                               urls n_urls  \n",
       "0  ['https://youtu.be/mw3IiyXZJds']      1  \n",
       "\n",
       "[1 rows x 27 columns]"
      ]
     },
     "execution_count": 6,
     "metadata": {},
     "output_type": "execute_result"
    }
   ],
   "source": [
    "df_comments_4_months_urls.head(1)"
   ]
  },
  {
   "cell_type": "code",
   "execution_count": 7,
   "id": "2a4377ad",
   "metadata": {},
   "outputs": [
    {
     "data": {
      "text/plain": [
       "Index(['Unnamed: 0', 'kind', 'etag', 'id', 'snippet.videoId',\n",
       "       'snippet.topLevelComment.kind', 'snippet.topLevelComment.etag',\n",
       "       'snippet.topLevelComment.id', 'snippet.topLevelComment.snippet.videoId',\n",
       "       'snippet.topLevelComment.snippet.textDisplay',\n",
       "       'snippet.topLevelComment.snippet.textOriginal',\n",
       "       'snippet.topLevelComment.snippet.authorDisplayName',\n",
       "       'snippet.topLevelComment.snippet.authorProfileImageUrl',\n",
       "       'snippet.topLevelComment.snippet.authorChannelUrl',\n",
       "       'snippet.topLevelComment.snippet.authorChannelId.value',\n",
       "       'snippet.topLevelComment.snippet.canRate',\n",
       "       'snippet.topLevelComment.snippet.viewerRating',\n",
       "       'snippet.topLevelComment.snippet.likeCount',\n",
       "       'snippet.topLevelComment.snippet.publishedAt',\n",
       "       'snippet.topLevelComment.snippet.updatedAt', 'snippet.canReply',\n",
       "       'snippet.totalReplyCount', 'snippet.isPublic', 'replies.comments',\n",
       "       'snippet.topLevelComment.snippet.moderationStatus', 'urls', 'n_urls'],\n",
       "      dtype='object')"
      ]
     },
     "execution_count": 7,
     "metadata": {},
     "output_type": "execute_result"
    }
   ],
   "source": [
    "df_comments_4_months_urls.columns"
   ]
  },
  {
   "cell_type": "code",
   "execution_count": 10,
   "id": "753b2d0b",
   "metadata": {},
   "outputs": [],
   "source": [
    "df_comments_4_months_urls.rename(\n",
    "    columns={\n",
    "        \"snippet.topLevelComment.snippet.likeCount\": \"n_likes\",\n",
    "        \"snippet.totalReplyCount\": \"n_replies\",\n",
    "    },\n",
    "    inplace=True,\n",
    ")"
   ]
  },
  {
   "cell_type": "markdown",
   "id": "34c2a9c4",
   "metadata": {},
   "source": [
    "### Likes"
   ]
  },
  {
   "cell_type": "code",
   "execution_count": 11,
   "id": "3cd29da0",
   "metadata": {},
   "outputs": [
    {
     "data": {
      "text/plain": [
       "count    1065.000000\n",
       "mean        8.918310\n",
       "std        76.149486\n",
       "min         0.000000\n",
       "25%         0.000000\n",
       "50%         0.000000\n",
       "75%         2.000000\n",
       "max      2174.000000\n",
       "Name: n_likes, dtype: float64"
      ]
     },
     "execution_count": 11,
     "metadata": {},
     "output_type": "execute_result"
    }
   ],
   "source": [
    "df_comments_4_months_urls.n_likes.describe()"
   ]
  },
  {
   "cell_type": "code",
   "execution_count": 12,
   "id": "9a35045e",
   "metadata": {},
   "outputs": [
    {
     "data": {
      "text/plain": [
       "8.91830985915493"
      ]
     },
     "execution_count": 12,
     "metadata": {},
     "output_type": "execute_result"
    }
   ],
   "source": [
    "df_comments_4_months_urls.n_likes.mean()"
   ]
  },
  {
   "cell_type": "code",
   "execution_count": 13,
   "id": "d85df0c9",
   "metadata": {},
   "outputs": [
    {
     "data": {
      "text/plain": [
       "0.0       558\n",
       "1.0       205\n",
       "2.0        86\n",
       "3.0        33\n",
       "4.0        18\n",
       "17.0       15\n",
       "9.0         9\n",
       "8.0         9\n",
       "5.0         8\n",
       "18.0        7\n",
       "15.0        7\n",
       "11.0        7\n",
       "6.0         7\n",
       "10.0        7\n",
       "7.0         6\n",
       "20.0        6\n",
       "16.0        5\n",
       "13.0        5\n",
       "25.0        5\n",
       "12.0        4\n",
       "24.0        4\n",
       "14.0        4\n",
       "19.0        3\n",
       "26.0        3\n",
       "29.0        3\n",
       "22.0        3\n",
       "38.0        2\n",
       "62.0        2\n",
       "30.0        2\n",
       "23.0        2\n",
       "21.0        2\n",
       "55.0        2\n",
       "509.0       1\n",
       "210.0       1\n",
       "34.0        1\n",
       "120.0       1\n",
       "408.0       1\n",
       "168.0       1\n",
       "39.0        1\n",
       "33.0        1\n",
       "66.0        1\n",
       "83.0        1\n",
       "64.0        1\n",
       "644.0       1\n",
       "409.0       1\n",
       "111.0       1\n",
       "287.0       1\n",
       "51.0        1\n",
       "185.0       1\n",
       "223.0       1\n",
       "129.0       1\n",
       "336.0       1\n",
       "47.0        1\n",
       "28.0        1\n",
       "195.0       1\n",
       "79.0        1\n",
       "2174.0      1\n",
       "72.0        1\n",
       "Name: n_likes, dtype: int64"
      ]
     },
     "execution_count": 13,
     "metadata": {},
     "output_type": "execute_result"
    }
   ],
   "source": [
    "df_comments_4_months_urls.n_likes.value_counts()"
   ]
  },
  {
   "cell_type": "code",
   "execution_count": 14,
   "id": "87581a79",
   "metadata": {},
   "outputs": [
    {
     "data": {
      "text/plain": [
       "1065"
      ]
     },
     "execution_count": 14,
     "metadata": {},
     "output_type": "execute_result"
    }
   ],
   "source": [
    "df_comments_4_months_urls.shape[0]"
   ]
  },
  {
   "cell_type": "code",
   "execution_count": 15,
   "id": "2bcccba7",
   "metadata": {},
   "outputs": [],
   "source": [
    "df_comments_4_months_urls_top_likes = df_comments_4_months_urls[df_comments_4_months_urls.n_likes > 0]"
   ]
  },
  {
   "cell_type": "code",
   "execution_count": 16,
   "id": "8fe12ce5",
   "metadata": {},
   "outputs": [],
   "source": [
    "df_comments_4_months_urls_top_likes.sort_values(\"n_likes\", ascending=False, inplace=True)"
   ]
  },
  {
   "cell_type": "code",
   "execution_count": 17,
   "id": "a3a7aab4",
   "metadata": {},
   "outputs": [
    {
     "data": {
      "text/html": [
       "<div>\n",
       "<style scoped>\n",
       "    .dataframe tbody tr th:only-of-type {\n",
       "        vertical-align: middle;\n",
       "    }\n",
       "\n",
       "    .dataframe tbody tr th {\n",
       "        vertical-align: top;\n",
       "    }\n",
       "\n",
       "    .dataframe thead th {\n",
       "        text-align: right;\n",
       "    }\n",
       "</style>\n",
       "<table border=\"1\" class=\"dataframe\">\n",
       "  <thead>\n",
       "    <tr style=\"text-align: right;\">\n",
       "      <th></th>\n",
       "      <th>urls</th>\n",
       "      <th>n_likes</th>\n",
       "    </tr>\n",
       "  </thead>\n",
       "  <tbody>\n",
       "    <tr>\n",
       "      <th>25</th>\n",
       "      <td>['https://youtu.be/Axcjv9YqYns']</td>\n",
       "      <td>2174.0</td>\n",
       "    </tr>\n",
       "    <tr>\n",
       "      <th>200</th>\n",
       "      <td>['https://youtu.be/dJe8bl_BLDE']</td>\n",
       "      <td>644.0</td>\n",
       "    </tr>\n",
       "    <tr>\n",
       "      <th>199</th>\n",
       "      <td>['https://ko-fi.com/irisbabilonia']</td>\n",
       "      <td>509.0</td>\n",
       "    </tr>\n",
       "    <tr>\n",
       "      <th>24</th>\n",
       "      <td>['https://www.change.org/p/dc-entertainment-re...</td>\n",
       "      <td>409.0</td>\n",
       "    </tr>\n",
       "    <tr>\n",
       "      <th>392</th>\n",
       "      <td>['https://www.youtube.com/watch?v=xCe6qh5kZ8Q']</td>\n",
       "      <td>408.0</td>\n",
       "    </tr>\n",
       "    <tr>\n",
       "      <th>...</th>\n",
       "      <td>...</td>\n",
       "      <td>...</td>\n",
       "    </tr>\n",
       "    <tr>\n",
       "      <th>448</th>\n",
       "      <td>['https://youtu.be/bZB7ThLyqUI']</td>\n",
       "      <td>1.0</td>\n",
       "    </tr>\n",
       "    <tr>\n",
       "      <th>485</th>\n",
       "      <td>['https://youtu.be/4I89OaDq5Zg']</td>\n",
       "      <td>1.0</td>\n",
       "    </tr>\n",
       "    <tr>\n",
       "      <th>477</th>\n",
       "      <td>['https://youtu.be/_IHmrsTqmmo']</td>\n",
       "      <td>1.0</td>\n",
       "    </tr>\n",
       "    <tr>\n",
       "      <th>453</th>\n",
       "      <td>['https://youtube.com/channel/UCRcoEhdSF5Lrf6R...</td>\n",
       "      <td>1.0</td>\n",
       "    </tr>\n",
       "    <tr>\n",
       "      <th>1063</th>\n",
       "      <td>['https://youtube.com/playlist?list=PL0zUoY_CX...</td>\n",
       "      <td>1.0</td>\n",
       "    </tr>\n",
       "  </tbody>\n",
       "</table>\n",
       "<p>388 rows × 2 columns</p>\n",
       "</div>"
      ],
      "text/plain": [
       "                                                   urls  n_likes\n",
       "25                     ['https://youtu.be/Axcjv9YqYns']   2174.0\n",
       "200                    ['https://youtu.be/dJe8bl_BLDE']    644.0\n",
       "199                 ['https://ko-fi.com/irisbabilonia']    509.0\n",
       "24    ['https://www.change.org/p/dc-entertainment-re...    409.0\n",
       "392     ['https://www.youtube.com/watch?v=xCe6qh5kZ8Q']    408.0\n",
       "...                                                 ...      ...\n",
       "448                    ['https://youtu.be/bZB7ThLyqUI']      1.0\n",
       "485                    ['https://youtu.be/4I89OaDq5Zg']      1.0\n",
       "477                    ['https://youtu.be/_IHmrsTqmmo']      1.0\n",
       "453   ['https://youtube.com/channel/UCRcoEhdSF5Lrf6R...      1.0\n",
       "1063  ['https://youtube.com/playlist?list=PL0zUoY_CX...      1.0\n",
       "\n",
       "[388 rows x 2 columns]"
      ]
     },
     "execution_count": 17,
     "metadata": {},
     "output_type": "execute_result"
    }
   ],
   "source": [
    "df_comments_4_months_urls_top_likes[[\"urls\", \"n_likes\"]][~df_comments_4_months_urls_top_likes[[\"urls\", \"n_likes\"]].duplicated()]"
   ]
  },
  {
   "cell_type": "markdown",
   "id": "1949a0de",
   "metadata": {},
   "source": [
    "### replies"
   ]
  },
  {
   "cell_type": "code",
   "execution_count": 18,
   "id": "4ab02178",
   "metadata": {},
   "outputs": [
    {
     "data": {
      "text/plain": [
       "count    1065.000000\n",
       "mean        1.059155\n",
       "std         8.455616\n",
       "min         0.000000\n",
       "25%         0.000000\n",
       "50%         0.000000\n",
       "75%         0.000000\n",
       "max       175.000000\n",
       "Name: n_replies, dtype: float64"
      ]
     },
     "execution_count": 18,
     "metadata": {},
     "output_type": "execute_result"
    }
   ],
   "source": [
    "df_comments_4_months_urls.n_replies.describe()"
   ]
  },
  {
   "cell_type": "code",
   "execution_count": 19,
   "id": "b042da3d",
   "metadata": {},
   "outputs": [
    {
     "data": {
      "text/plain": [
       "0.0      940\n",
       "1.0       55\n",
       "2.0       20\n",
       "3.0        7\n",
       "4.0        6\n",
       "9.0        4\n",
       "12.0       3\n",
       "14.0       2\n",
       "6.0        2\n",
       "10.0       2\n",
       "11.0       2\n",
       "8.0        2\n",
       "16.0       2\n",
       "5.0        2\n",
       "35.0       1\n",
       "27.0       1\n",
       "19.0       1\n",
       "36.0       1\n",
       "41.0       1\n",
       "34.0       1\n",
       "159.0      1\n",
       "13.0       1\n",
       "7.0        1\n",
       "17.0       1\n",
       "175.0      1\n",
       "24.0       1\n",
       "82.0       1\n",
       "22.0       1\n",
       "29.0       1\n",
       "56.0       1\n",
       "Name: n_replies, dtype: int64"
      ]
     },
     "execution_count": 19,
     "metadata": {},
     "output_type": "execute_result"
    }
   ],
   "source": [
    "df_comments_4_months_urls.n_replies.value_counts()"
   ]
  },
  {
   "cell_type": "code",
   "execution_count": 20,
   "id": "446f18b0",
   "metadata": {},
   "outputs": [],
   "source": [
    "df_comments_4_months_urls_top_replies = df_comments_4_months_urls[df_comments_4_months_urls.n_replies > 0]"
   ]
  },
  {
   "cell_type": "code",
   "execution_count": 21,
   "id": "fbaba8df",
   "metadata": {},
   "outputs": [],
   "source": [
    "df_comments_4_months_urls_top_replies.sort_values(\"n_replies\", ascending=False, inplace=True)"
   ]
  },
  {
   "cell_type": "code",
   "execution_count": 22,
   "id": "079baa71",
   "metadata": {},
   "outputs": [
    {
     "data": {
      "text/html": [
       "<div>\n",
       "<style scoped>\n",
       "    .dataframe tbody tr th:only-of-type {\n",
       "        vertical-align: middle;\n",
       "    }\n",
       "\n",
       "    .dataframe tbody tr th {\n",
       "        vertical-align: top;\n",
       "    }\n",
       "\n",
       "    .dataframe thead th {\n",
       "        text-align: right;\n",
       "    }\n",
       "</style>\n",
       "<table border=\"1\" class=\"dataframe\">\n",
       "  <thead>\n",
       "    <tr style=\"text-align: right;\">\n",
       "      <th></th>\n",
       "      <th>urls</th>\n",
       "      <th>n_replies</th>\n",
       "    </tr>\n",
       "  </thead>\n",
       "  <tbody>\n",
       "    <tr>\n",
       "      <th>96</th>\n",
       "      <td>['https://t.co/yWkf2d2APp?amp=1', 'https://ref...</td>\n",
       "      <td>175.0</td>\n",
       "    </tr>\n",
       "    <tr>\n",
       "      <th>392</th>\n",
       "      <td>['https://www.youtube.com/watch?v=xCe6qh5kZ8Q']</td>\n",
       "      <td>159.0</td>\n",
       "    </tr>\n",
       "    <tr>\n",
       "      <th>25</th>\n",
       "      <td>['https://youtu.be/Axcjv9YqYns']</td>\n",
       "      <td>82.0</td>\n",
       "    </tr>\n",
       "    <tr>\n",
       "      <th>917</th>\n",
       "      <td>['https://lbry.tv/@NerdettesNewsStand:7', 'htt...</td>\n",
       "      <td>56.0</td>\n",
       "    </tr>\n",
       "    <tr>\n",
       "      <th>941</th>\n",
       "      <td>['https://thld.co/SHEATH_thequartering']</td>\n",
       "      <td>41.0</td>\n",
       "    </tr>\n",
       "    <tr>\n",
       "      <th>...</th>\n",
       "      <td>...</td>\n",
       "      <td>...</td>\n",
       "    </tr>\n",
       "    <tr>\n",
       "      <th>399</th>\n",
       "      <td>['https://youtu.be/ouyqNwV1OBA']</td>\n",
       "      <td>1.0</td>\n",
       "    </tr>\n",
       "    <tr>\n",
       "      <th>391</th>\n",
       "      <td>['https://www.rollingstone.com/tv/tv-features/...</td>\n",
       "      <td>1.0</td>\n",
       "    </tr>\n",
       "    <tr>\n",
       "      <th>362</th>\n",
       "      <td>['https://www.sausageroll.com.au/lifestyle/cel...</td>\n",
       "      <td>1.0</td>\n",
       "    </tr>\n",
       "    <tr>\n",
       "      <th>322</th>\n",
       "      <td>['https://g.co/kgs/ou1RKq']</td>\n",
       "      <td>1.0</td>\n",
       "    </tr>\n",
       "    <tr>\n",
       "      <th>562</th>\n",
       "      <td>['https://youtube.com/playlist?list=PL0zUoY_CX...</td>\n",
       "      <td>1.0</td>\n",
       "    </tr>\n",
       "  </tbody>\n",
       "</table>\n",
       "<p>115 rows × 2 columns</p>\n",
       "</div>"
      ],
      "text/plain": [
       "                                                  urls  n_replies\n",
       "96   ['https://t.co/yWkf2d2APp?amp=1', 'https://ref...      175.0\n",
       "392    ['https://www.youtube.com/watch?v=xCe6qh5kZ8Q']      159.0\n",
       "25                    ['https://youtu.be/Axcjv9YqYns']       82.0\n",
       "917  ['https://lbry.tv/@NerdettesNewsStand:7', 'htt...       56.0\n",
       "941           ['https://thld.co/SHEATH_thequartering']       41.0\n",
       "..                                                 ...        ...\n",
       "399                   ['https://youtu.be/ouyqNwV1OBA']        1.0\n",
       "391  ['https://www.rollingstone.com/tv/tv-features/...        1.0\n",
       "362  ['https://www.sausageroll.com.au/lifestyle/cel...        1.0\n",
       "322                        ['https://g.co/kgs/ou1RKq']        1.0\n",
       "562  ['https://youtube.com/playlist?list=PL0zUoY_CX...        1.0\n",
       "\n",
       "[115 rows x 2 columns]"
      ]
     },
     "execution_count": 22,
     "metadata": {},
     "output_type": "execute_result"
    }
   ],
   "source": [
    "df_comments_4_months_urls_top_replies[[\"urls\", \"n_replies\"]][~df_comments_4_months_urls_top_replies[[\"urls\", \"n_replies\"]].duplicated()]"
   ]
  },
  {
   "cell_type": "markdown",
   "id": "16f1d16b",
   "metadata": {},
   "source": [
    "##  dec"
   ]
  },
  {
   "cell_type": "code",
   "execution_count": 23,
   "id": "0b015ceb",
   "metadata": {},
   "outputs": [],
   "source": [
    "df_comments_dec_urls = pd.read_csv(data_path + \"df_comments_dec_urls.csv\")"
   ]
  },
  {
   "cell_type": "code",
   "execution_count": 24,
   "id": "16d9feb1",
   "metadata": {},
   "outputs": [
    {
     "data": {
      "text/html": [
       "<div>\n",
       "<style scoped>\n",
       "    .dataframe tbody tr th:only-of-type {\n",
       "        vertical-align: middle;\n",
       "    }\n",
       "\n",
       "    .dataframe tbody tr th {\n",
       "        vertical-align: top;\n",
       "    }\n",
       "\n",
       "    .dataframe thead th {\n",
       "        text-align: right;\n",
       "    }\n",
       "</style>\n",
       "<table border=\"1\" class=\"dataframe\">\n",
       "  <thead>\n",
       "    <tr style=\"text-align: right;\">\n",
       "      <th></th>\n",
       "      <th>Unnamed: 0</th>\n",
       "      <th>kind</th>\n",
       "      <th>etag</th>\n",
       "      <th>id</th>\n",
       "      <th>snippet.videoId</th>\n",
       "      <th>snippet.topLevelComment.kind</th>\n",
       "      <th>snippet.topLevelComment.etag</th>\n",
       "      <th>snippet.topLevelComment.id</th>\n",
       "      <th>snippet.topLevelComment.snippet.videoId</th>\n",
       "      <th>snippet.topLevelComment.snippet.textDisplay</th>\n",
       "      <th>...</th>\n",
       "      <th>snippet.topLevelComment.snippet.likeCount</th>\n",
       "      <th>snippet.topLevelComment.snippet.publishedAt</th>\n",
       "      <th>snippet.topLevelComment.snippet.updatedAt</th>\n",
       "      <th>snippet.canReply</th>\n",
       "      <th>snippet.totalReplyCount</th>\n",
       "      <th>snippet.isPublic</th>\n",
       "      <th>replies.comments</th>\n",
       "      <th>snippet.topLevelComment.snippet.moderationStatus</th>\n",
       "      <th>urls</th>\n",
       "      <th>n_urls</th>\n",
       "    </tr>\n",
       "  </thead>\n",
       "  <tbody>\n",
       "    <tr>\n",
       "      <th>0</th>\n",
       "      <td>45.0</td>\n",
       "      <td>youtube#commentThread</td>\n",
       "      <td>vrjHSvKbOnocmVhHX6Fcia0NPZU</td>\n",
       "      <td>Ugxe640u7xqHIhsJMal4AaABAg</td>\n",
       "      <td>8oNYOv4o8zM</td>\n",
       "      <td>youtube#comment</td>\n",
       "      <td>-Dlurk_GGOv0PcxR_VTAV_q2Dv4</td>\n",
       "      <td>Ugxe640u7xqHIhsJMal4AaABAg</td>\n",
       "      <td>8oNYOv4o8zM</td>\n",
       "      <td>Sign this petition to rid Amber Heard off AQUA...</td>\n",
       "      <td>...</td>\n",
       "      <td>0.0</td>\n",
       "      <td>2020-12-16 14:07:13+00:00</td>\n",
       "      <td>2020-12-16T14:07:13Z</td>\n",
       "      <td>True</td>\n",
       "      <td>0.0</td>\n",
       "      <td>True</td>\n",
       "      <td>NaN</td>\n",
       "      <td>NaN</td>\n",
       "      <td>['http://chng.it/JDQLmRqM', 'http://chng.it/kD...</td>\n",
       "      <td>2</td>\n",
       "    </tr>\n",
       "  </tbody>\n",
       "</table>\n",
       "<p>1 rows × 27 columns</p>\n",
       "</div>"
      ],
      "text/plain": [
       "   Unnamed: 0                   kind                         etag  \\\n",
       "0        45.0  youtube#commentThread  vrjHSvKbOnocmVhHX6Fcia0NPZU   \n",
       "\n",
       "                           id snippet.videoId snippet.topLevelComment.kind  \\\n",
       "0  Ugxe640u7xqHIhsJMal4AaABAg     8oNYOv4o8zM              youtube#comment   \n",
       "\n",
       "  snippet.topLevelComment.etag  snippet.topLevelComment.id  \\\n",
       "0  -Dlurk_GGOv0PcxR_VTAV_q2Dv4  Ugxe640u7xqHIhsJMal4AaABAg   \n",
       "\n",
       "  snippet.topLevelComment.snippet.videoId  \\\n",
       "0                             8oNYOv4o8zM   \n",
       "\n",
       "         snippet.topLevelComment.snippet.textDisplay  ...  \\\n",
       "0  Sign this petition to rid Amber Heard off AQUA...  ...   \n",
       "\n",
       "  snippet.topLevelComment.snippet.likeCount  \\\n",
       "0                                       0.0   \n",
       "\n",
       "  snippet.topLevelComment.snippet.publishedAt  \\\n",
       "0                   2020-12-16 14:07:13+00:00   \n",
       "\n",
       "  snippet.topLevelComment.snippet.updatedAt snippet.canReply  \\\n",
       "0                      2020-12-16T14:07:13Z             True   \n",
       "\n",
       "  snippet.totalReplyCount  snippet.isPublic replies.comments  \\\n",
       "0                     0.0              True              NaN   \n",
       "\n",
       "   snippet.topLevelComment.snippet.moderationStatus  \\\n",
       "0                                               NaN   \n",
       "\n",
       "                                                urls n_urls  \n",
       "0  ['http://chng.it/JDQLmRqM', 'http://chng.it/kD...      2  \n",
       "\n",
       "[1 rows x 27 columns]"
      ]
     },
     "execution_count": 24,
     "metadata": {},
     "output_type": "execute_result"
    }
   ],
   "source": [
    "df_comments_dec_urls.head(1)"
   ]
  },
  {
   "cell_type": "code",
   "execution_count": 25,
   "id": "b8141bb6",
   "metadata": {},
   "outputs": [],
   "source": [
    "df_comments_dec_urls.rename(\n",
    "    columns={\n",
    "        \"snippet.topLevelComment.snippet.likeCount\": \"n_likes\",\n",
    "        \"snippet.totalReplyCount\": \"n_replies\",\n",
    "    },\n",
    "    inplace=True,\n",
    ")"
   ]
  },
  {
   "cell_type": "markdown",
   "id": "9dad8b54",
   "metadata": {},
   "source": [
    "### Likes"
   ]
  },
  {
   "cell_type": "code",
   "execution_count": 26,
   "id": "bb529318",
   "metadata": {},
   "outputs": [
    {
     "data": {
      "text/plain": [
       "count    619.000000\n",
       "mean       2.329564\n",
       "std       22.083058\n",
       "min        0.000000\n",
       "25%        0.000000\n",
       "50%        0.000000\n",
       "75%        1.000000\n",
       "max      441.000000\n",
       "Name: n_likes, dtype: float64"
      ]
     },
     "execution_count": 26,
     "metadata": {},
     "output_type": "execute_result"
    }
   ],
   "source": [
    "df_comments_dec_urls.n_likes.describe()"
   ]
  },
  {
   "cell_type": "code",
   "execution_count": 27,
   "id": "6f39f1b3",
   "metadata": {},
   "outputs": [
    {
     "data": {
      "text/plain": [
       "0.0      422\n",
       "1.0      129\n",
       "2.0       24\n",
       "3.0       13\n",
       "4.0        8\n",
       "5.0        4\n",
       "8.0        3\n",
       "11.0       2\n",
       "6.0        2\n",
       "50.0       1\n",
       "9.0        1\n",
       "23.0       1\n",
       "41.0       1\n",
       "7.0        1\n",
       "125.0      1\n",
       "18.0       1\n",
       "12.0       1\n",
       "16.0       1\n",
       "441.0      1\n",
       "282.0      1\n",
       "92.0       1\n",
       "Name: n_likes, dtype: int64"
      ]
     },
     "execution_count": 27,
     "metadata": {},
     "output_type": "execute_result"
    }
   ],
   "source": [
    "df_comments_dec_urls.n_likes.value_counts()"
   ]
  },
  {
   "cell_type": "code",
   "execution_count": 28,
   "id": "be2c425c",
   "metadata": {},
   "outputs": [],
   "source": [
    "df_comments_dec_urls_top_likes = df_comments_dec_urls[df_comments_dec_urls.n_likes > 0]"
   ]
  },
  {
   "cell_type": "code",
   "execution_count": 29,
   "id": "519a61dc",
   "metadata": {},
   "outputs": [],
   "source": [
    "df_comments_dec_urls_top_likes.sort_values(\"n_likes\", ascending=False, inplace=True)"
   ]
  },
  {
   "cell_type": "code",
   "execution_count": 30,
   "id": "e902b63e",
   "metadata": {},
   "outputs": [
    {
     "data": {
      "text/html": [
       "<div>\n",
       "<style scoped>\n",
       "    .dataframe tbody tr th:only-of-type {\n",
       "        vertical-align: middle;\n",
       "    }\n",
       "\n",
       "    .dataframe tbody tr th {\n",
       "        vertical-align: top;\n",
       "    }\n",
       "\n",
       "    .dataframe thead th {\n",
       "        text-align: right;\n",
       "    }\n",
       "</style>\n",
       "<table border=\"1\" class=\"dataframe\">\n",
       "  <thead>\n",
       "    <tr style=\"text-align: right;\">\n",
       "      <th></th>\n",
       "      <th>urls</th>\n",
       "      <th>n_likes</th>\n",
       "    </tr>\n",
       "  </thead>\n",
       "  <tbody>\n",
       "    <tr>\n",
       "      <th>149</th>\n",
       "      <td>['https://www.change.org/p/dc-entertainment-re...</td>\n",
       "      <td>441.0</td>\n",
       "    </tr>\n",
       "    <tr>\n",
       "      <th>126</th>\n",
       "      <td>['https://privateinternetaccess.com/TheQuarter...</td>\n",
       "      <td>282.0</td>\n",
       "    </tr>\n",
       "    <tr>\n",
       "      <th>62</th>\n",
       "      <td>['https://displate.com/thequartering?art=5e0b6...</td>\n",
       "      <td>125.0</td>\n",
       "    </tr>\n",
       "    <tr>\n",
       "      <th>605</th>\n",
       "      <td>['n.pr/support-the-tiny-desk']</td>\n",
       "      <td>92.0</td>\n",
       "    </tr>\n",
       "    <tr>\n",
       "      <th>582</th>\n",
       "      <td>['https://lbry.tv/@NerdettesNewsStand:7', 'htt...</td>\n",
       "      <td>50.0</td>\n",
       "    </tr>\n",
       "    <tr>\n",
       "      <th>...</th>\n",
       "      <td>...</td>\n",
       "      <td>...</td>\n",
       "    </tr>\n",
       "    <tr>\n",
       "      <th>228</th>\n",
       "      <td>['https://youtu.be/yvs15lnxqPk']</td>\n",
       "      <td>1.0</td>\n",
       "    </tr>\n",
       "    <tr>\n",
       "      <th>242</th>\n",
       "      <td>['https://youtu.be/FT8sVzWdZEE']</td>\n",
       "      <td>1.0</td>\n",
       "    </tr>\n",
       "    <tr>\n",
       "      <th>243</th>\n",
       "      <td>['https://youtu.be/5UV1e6D9Xe0']</td>\n",
       "      <td>1.0</td>\n",
       "    </tr>\n",
       "    <tr>\n",
       "      <th>279</th>\n",
       "      <td>['https://youtu.be/bqyLJ-fWbSI']</td>\n",
       "      <td>1.0</td>\n",
       "    </tr>\n",
       "    <tr>\n",
       "      <th>616</th>\n",
       "      <td>['https://www.youtube.com/watch?v=GXMAQ59a-ss']</td>\n",
       "      <td>1.0</td>\n",
       "    </tr>\n",
       "  </tbody>\n",
       "</table>\n",
       "<p>152 rows × 2 columns</p>\n",
       "</div>"
      ],
      "text/plain": [
       "                                                  urls  n_likes\n",
       "149  ['https://www.change.org/p/dc-entertainment-re...    441.0\n",
       "126  ['https://privateinternetaccess.com/TheQuarter...    282.0\n",
       "62   ['https://displate.com/thequartering?art=5e0b6...    125.0\n",
       "605                     ['n.pr/support-the-tiny-desk']     92.0\n",
       "582  ['https://lbry.tv/@NerdettesNewsStand:7', 'htt...     50.0\n",
       "..                                                 ...      ...\n",
       "228                   ['https://youtu.be/yvs15lnxqPk']      1.0\n",
       "242                   ['https://youtu.be/FT8sVzWdZEE']      1.0\n",
       "243                   ['https://youtu.be/5UV1e6D9Xe0']      1.0\n",
       "279                   ['https://youtu.be/bqyLJ-fWbSI']      1.0\n",
       "616    ['https://www.youtube.com/watch?v=GXMAQ59a-ss']      1.0\n",
       "\n",
       "[152 rows x 2 columns]"
      ]
     },
     "execution_count": 30,
     "metadata": {},
     "output_type": "execute_result"
    }
   ],
   "source": [
    "df_comments_dec_urls_top_likes[[\"urls\", \"n_likes\"]][~df_comments_dec_urls_top_likes[[\"urls\", \"n_likes\"]].duplicated()]"
   ]
  },
  {
   "cell_type": "markdown",
   "id": "893e6f8c",
   "metadata": {},
   "source": [
    "### replies"
   ]
  },
  {
   "cell_type": "code",
   "execution_count": 31,
   "id": "7d6d4c64",
   "metadata": {},
   "outputs": [
    {
     "data": {
      "text/plain": [
       "count    619.000000\n",
       "mean       0.245557\n",
       "std        2.057693\n",
       "min        0.000000\n",
       "25%        0.000000\n",
       "50%        0.000000\n",
       "75%        0.000000\n",
       "max       40.000000\n",
       "Name: n_replies, dtype: float64"
      ]
     },
     "execution_count": 31,
     "metadata": {},
     "output_type": "execute_result"
    }
   ],
   "source": [
    "df_comments_dec_urls.n_replies.describe()"
   ]
  },
  {
   "cell_type": "code",
   "execution_count": 32,
   "id": "0b648c93",
   "metadata": {},
   "outputs": [
    {
     "data": {
      "text/plain": [
       "0.0     586\n",
       "1.0      20\n",
       "2.0       3\n",
       "10.0      2\n",
       "4.0       2\n",
       "9.0       1\n",
       "20.0      1\n",
       "40.0      1\n",
       "8.0       1\n",
       "7.0       1\n",
       "14.0      1\n",
       "Name: n_replies, dtype: int64"
      ]
     },
     "execution_count": 32,
     "metadata": {},
     "output_type": "execute_result"
    }
   ],
   "source": [
    "df_comments_dec_urls.n_replies.value_counts()"
   ]
  },
  {
   "cell_type": "code",
   "execution_count": 33,
   "id": "df291a4d",
   "metadata": {},
   "outputs": [],
   "source": [
    "df_comments_dec_urls_top_replies = df_comments_dec_urls[df_comments_dec_urls.n_replies > 0]"
   ]
  },
  {
   "cell_type": "code",
   "execution_count": 34,
   "id": "4a7f7eb0",
   "metadata": {},
   "outputs": [],
   "source": [
    "df_comments_dec_urls_top_replies.sort_values(\"n_replies\", ascending=False, inplace=True)"
   ]
  },
  {
   "cell_type": "code",
   "execution_count": 35,
   "id": "ba47dfb0",
   "metadata": {},
   "outputs": [
    {
     "data": {
      "text/html": [
       "<div>\n",
       "<style scoped>\n",
       "    .dataframe tbody tr th:only-of-type {\n",
       "        vertical-align: middle;\n",
       "    }\n",
       "\n",
       "    .dataframe tbody tr th {\n",
       "        vertical-align: top;\n",
       "    }\n",
       "\n",
       "    .dataframe thead th {\n",
       "        text-align: right;\n",
       "    }\n",
       "</style>\n",
       "<table border=\"1\" class=\"dataframe\">\n",
       "  <thead>\n",
       "    <tr style=\"text-align: right;\">\n",
       "      <th></th>\n",
       "      <th>urls</th>\n",
       "      <th>n_replies</th>\n",
       "    </tr>\n",
       "  </thead>\n",
       "  <tbody>\n",
       "    <tr>\n",
       "      <th>126</th>\n",
       "      <td>['https://privateinternetaccess.com/TheQuarter...</td>\n",
       "      <td>40.0</td>\n",
       "    </tr>\n",
       "    <tr>\n",
       "      <th>149</th>\n",
       "      <td>['https://www.change.org/p/dc-entertainment-re...</td>\n",
       "      <td>20.0</td>\n",
       "    </tr>\n",
       "    <tr>\n",
       "      <th>62</th>\n",
       "      <td>['https://displate.com/thequartering?art=5e0b6...</td>\n",
       "      <td>14.0</td>\n",
       "    </tr>\n",
       "    <tr>\n",
       "      <th>45</th>\n",
       "      <td>['https://lbry.tv/@NerdettesNewsStand:7', 'htt...</td>\n",
       "      <td>10.0</td>\n",
       "    </tr>\n",
       "    <tr>\n",
       "      <th>374</th>\n",
       "      <td>['https://mobile.twitter.com/LauraBockov?s=20'...</td>\n",
       "      <td>10.0</td>\n",
       "    </tr>\n",
       "    <tr>\n",
       "      <th>582</th>\n",
       "      <td>['https://lbry.tv/@NerdettesNewsStand:7', 'htt...</td>\n",
       "      <td>9.0</td>\n",
       "    </tr>\n",
       "    <tr>\n",
       "      <th>605</th>\n",
       "      <td>['n.pr/support-the-tiny-desk']</td>\n",
       "      <td>8.0</td>\n",
       "    </tr>\n",
       "    <tr>\n",
       "      <th>499</th>\n",
       "      <td>['https://lbry.tv/@NerdettesNewsStand:7', 'htt...</td>\n",
       "      <td>7.0</td>\n",
       "    </tr>\n",
       "    <tr>\n",
       "      <th>166</th>\n",
       "      <td>['https://www.google.com/url?sa=t&amp;source=web&amp;r...</td>\n",
       "      <td>4.0</td>\n",
       "    </tr>\n",
       "    <tr>\n",
       "      <th>346</th>\n",
       "      <td>['https://youtu.be/qIXxO7Of_Ow']</td>\n",
       "      <td>4.0</td>\n",
       "    </tr>\n",
       "    <tr>\n",
       "      <th>585</th>\n",
       "      <td>['https://referral.rumble.com/9TRu', 'https://...</td>\n",
       "      <td>2.0</td>\n",
       "    </tr>\n",
       "    <tr>\n",
       "      <th>319</th>\n",
       "      <td>['https://youtu.be/xFOFlPAaxOc']</td>\n",
       "      <td>2.0</td>\n",
       "    </tr>\n",
       "    <tr>\n",
       "      <th>557</th>\n",
       "      <td>['https://www.youtube.com/watch?v=GXMAQ59a-ss&amp;...</td>\n",
       "      <td>2.0</td>\n",
       "    </tr>\n",
       "    <tr>\n",
       "      <th>490</th>\n",
       "      <td>['https://twitter.com/CelticWarriorNY/status/1...</td>\n",
       "      <td>1.0</td>\n",
       "    </tr>\n",
       "    <tr>\n",
       "      <th>595</th>\n",
       "      <td>['https://youtu.be/QQUgzIh9vsw']</td>\n",
       "      <td>1.0</td>\n",
       "    </tr>\n",
       "    <tr>\n",
       "      <th>589</th>\n",
       "      <td>['https://youtu.be/a_DQ_4i-iAs']</td>\n",
       "      <td>1.0</td>\n",
       "    </tr>\n",
       "    <tr>\n",
       "      <th>571</th>\n",
       "      <td>['https://m.facebook.com/story.php?story_fbid=...</td>\n",
       "      <td>1.0</td>\n",
       "    </tr>\n",
       "    <tr>\n",
       "      <th>523</th>\n",
       "      <td>['https://law.yale.edu/sites/default/files/are...</td>\n",
       "      <td>1.0</td>\n",
       "    </tr>\n",
       "    <tr>\n",
       "      <th>522</th>\n",
       "      <td>['https://jambernews.wordpress.com/2016/06/24/...</td>\n",
       "      <td>1.0</td>\n",
       "    </tr>\n",
       "    <tr>\n",
       "      <th>503</th>\n",
       "      <td>['https://www.change.org/p/ministry-of-justice...</td>\n",
       "      <td>1.0</td>\n",
       "    </tr>\n",
       "    <tr>\n",
       "      <th>79</th>\n",
       "      <td>['https://www.change.org/p/dc-entertainment-re...</td>\n",
       "      <td>1.0</td>\n",
       "    </tr>\n",
       "    <tr>\n",
       "      <th>474</th>\n",
       "      <td>['http://chng.it/NgCC6bLnR7']</td>\n",
       "      <td>1.0</td>\n",
       "    </tr>\n",
       "    <tr>\n",
       "      <th>76</th>\n",
       "      <td>['https://youtube.com/playlist?list=PLC18C501E...</td>\n",
       "      <td>1.0</td>\n",
       "    </tr>\n",
       "    <tr>\n",
       "      <th>385</th>\n",
       "      <td>['tinyurl.com/Snapgrls9PANGsex']</td>\n",
       "      <td>1.0</td>\n",
       "    </tr>\n",
       "    <tr>\n",
       "      <th>378</th>\n",
       "      <td>['https://www.youtube.com/channel/UC7kP', 'htt...</td>\n",
       "      <td>1.0</td>\n",
       "    </tr>\n",
       "    <tr>\n",
       "      <th>60</th>\n",
       "      <td>['https://www.change.org/p/l-or%C3%A9al-remove...</td>\n",
       "      <td>1.0</td>\n",
       "    </tr>\n",
       "    <tr>\n",
       "      <th>351</th>\n",
       "      <td>['https://youtu.be/LDCmaO-hiGw']</td>\n",
       "      <td>1.0</td>\n",
       "    </tr>\n",
       "    <tr>\n",
       "      <th>290</th>\n",
       "      <td>['https://youtu.be/S1dwtwmcUTg']</td>\n",
       "      <td>1.0</td>\n",
       "    </tr>\n",
       "    <tr>\n",
       "      <th>279</th>\n",
       "      <td>['https://youtu.be/bqyLJ-fWbSI']</td>\n",
       "      <td>1.0</td>\n",
       "    </tr>\n",
       "    <tr>\n",
       "      <th>181</th>\n",
       "      <td>['https://youtu.be/OLpeX4RRo28']</td>\n",
       "      <td>1.0</td>\n",
       "    </tr>\n",
       "    <tr>\n",
       "      <th>165</th>\n",
       "      <td>['https://variety.com/2018/biz/news/johnny-dep...</td>\n",
       "      <td>1.0</td>\n",
       "    </tr>\n",
       "    <tr>\n",
       "      <th>75</th>\n",
       "      <td>['https://youtu.be/Yxzd4MlhdsM']</td>\n",
       "      <td>1.0</td>\n",
       "    </tr>\n",
       "    <tr>\n",
       "      <th>435</th>\n",
       "      <td>['https://youtu.be/4aBBYzgTdnU']</td>\n",
       "      <td>1.0</td>\n",
       "    </tr>\n",
       "  </tbody>\n",
       "</table>\n",
       "</div>"
      ],
      "text/plain": [
       "                                                  urls  n_replies\n",
       "126  ['https://privateinternetaccess.com/TheQuarter...       40.0\n",
       "149  ['https://www.change.org/p/dc-entertainment-re...       20.0\n",
       "62   ['https://displate.com/thequartering?art=5e0b6...       14.0\n",
       "45   ['https://lbry.tv/@NerdettesNewsStand:7', 'htt...       10.0\n",
       "374  ['https://mobile.twitter.com/LauraBockov?s=20'...       10.0\n",
       "582  ['https://lbry.tv/@NerdettesNewsStand:7', 'htt...        9.0\n",
       "605                     ['n.pr/support-the-tiny-desk']        8.0\n",
       "499  ['https://lbry.tv/@NerdettesNewsStand:7', 'htt...        7.0\n",
       "166  ['https://www.google.com/url?sa=t&source=web&r...        4.0\n",
       "346                   ['https://youtu.be/qIXxO7Of_Ow']        4.0\n",
       "585  ['https://referral.rumble.com/9TRu', 'https://...        2.0\n",
       "319                   ['https://youtu.be/xFOFlPAaxOc']        2.0\n",
       "557  ['https://www.youtube.com/watch?v=GXMAQ59a-ss&...        2.0\n",
       "490  ['https://twitter.com/CelticWarriorNY/status/1...        1.0\n",
       "595                   ['https://youtu.be/QQUgzIh9vsw']        1.0\n",
       "589                   ['https://youtu.be/a_DQ_4i-iAs']        1.0\n",
       "571  ['https://m.facebook.com/story.php?story_fbid=...        1.0\n",
       "523  ['https://law.yale.edu/sites/default/files/are...        1.0\n",
       "522  ['https://jambernews.wordpress.com/2016/06/24/...        1.0\n",
       "503  ['https://www.change.org/p/ministry-of-justice...        1.0\n",
       "79   ['https://www.change.org/p/dc-entertainment-re...        1.0\n",
       "474                      ['http://chng.it/NgCC6bLnR7']        1.0\n",
       "76   ['https://youtube.com/playlist?list=PLC18C501E...        1.0\n",
       "385                   ['tinyurl.com/Snapgrls9PANGsex']        1.0\n",
       "378  ['https://www.youtube.com/channel/UC7kP', 'htt...        1.0\n",
       "60   ['https://www.change.org/p/l-or%C3%A9al-remove...        1.0\n",
       "351                   ['https://youtu.be/LDCmaO-hiGw']        1.0\n",
       "290                   ['https://youtu.be/S1dwtwmcUTg']        1.0\n",
       "279                   ['https://youtu.be/bqyLJ-fWbSI']        1.0\n",
       "181                   ['https://youtu.be/OLpeX4RRo28']        1.0\n",
       "165  ['https://variety.com/2018/biz/news/johnny-dep...        1.0\n",
       "75                    ['https://youtu.be/Yxzd4MlhdsM']        1.0\n",
       "435                   ['https://youtu.be/4aBBYzgTdnU']        1.0"
      ]
     },
     "execution_count": 35,
     "metadata": {},
     "output_type": "execute_result"
    }
   ],
   "source": [
    "df_comments_dec_urls_top_replies[[\"urls\", \"n_replies\"]][~df_comments_dec_urls_top_replies[[\"urls\", \"n_replies\"]].duplicated()]"
   ]
  },
  {
   "cell_type": "code",
   "execution_count": null,
   "id": "00483c4f",
   "metadata": {},
   "outputs": [],
   "source": [
    "\n"
   ]
  },
  {
   "cell_type": "code",
   "execution_count": null,
   "id": "b24f6e5d",
   "metadata": {},
   "outputs": [],
   "source": []
  },
  {
   "cell_type": "markdown",
   "id": "c9746281",
   "metadata": {},
   "source": [
    "# Videos"
   ]
  },
  {
   "cell_type": "markdown",
   "id": "83902011",
   "metadata": {},
   "source": [
    "## 4 Months"
   ]
  },
  {
   "cell_type": "code",
   "execution_count": 36,
   "id": "93d88102",
   "metadata": {},
   "outputs": [],
   "source": [
    "df_videos_4_months_urls = pd.read_csv(data_path + \"df_videos_4_months_urls.csv\")"
   ]
  },
  {
   "cell_type": "code",
   "execution_count": 37,
   "id": "a943a1b4",
   "metadata": {},
   "outputs": [
    {
     "data": {
      "text/html": [
       "<div>\n",
       "<style scoped>\n",
       "    .dataframe tbody tr th:only-of-type {\n",
       "        vertical-align: middle;\n",
       "    }\n",
       "\n",
       "    .dataframe tbody tr th {\n",
       "        vertical-align: top;\n",
       "    }\n",
       "\n",
       "    .dataframe thead th {\n",
       "        text-align: right;\n",
       "    }\n",
       "</style>\n",
       "<table border=\"1\" class=\"dataframe\">\n",
       "  <thead>\n",
       "    <tr style=\"text-align: right;\">\n",
       "      <th></th>\n",
       "      <th>id</th>\n",
       "      <th>Unnamed: 0</th>\n",
       "      <th>Unnamed: 0.1</th>\n",
       "      <th>kind</th>\n",
       "      <th>etag</th>\n",
       "      <th>snippet.publishedAt</th>\n",
       "      <th>snippet.channelId</th>\n",
       "      <th>snippet.title</th>\n",
       "      <th>snippet.description</th>\n",
       "      <th>snippet.thumbnails.default.url</th>\n",
       "      <th>...</th>\n",
       "      <th>statistics.dislikeCount</th>\n",
       "      <th>statistics.favoriteCount</th>\n",
       "      <th>statistics.commentCount</th>\n",
       "      <th>snippet.defaultLanguage</th>\n",
       "      <th>contentDetails.contentRating.ytRating</th>\n",
       "      <th>contentDetails.regionRestriction.blocked</th>\n",
       "      <th>contentDetails.regionRestriction.allowed</th>\n",
       "      <th>year</th>\n",
       "      <th>urls</th>\n",
       "      <th>n_urls</th>\n",
       "    </tr>\n",
       "  </thead>\n",
       "  <tbody>\n",
       "    <tr>\n",
       "      <th>0</th>\n",
       "      <td>14SUI93R_k8</td>\n",
       "      <td>0</td>\n",
       "      <td>0.0</td>\n",
       "      <td>youtube#video</td>\n",
       "      <td>zUX2H4amXbJxvecYfsO-9mMha7c</td>\n",
       "      <td>2021-03-19 17:00:30+00:00</td>\n",
       "      <td>UC-NINtNMPM75eaqh07RCy_Q</td>\n",
       "      <td>jason momoa defends amber heard after aquaman ...</td>\n",
       "      <td>jason momoa defends amber heard after aquaman ...</td>\n",
       "      <td>https://i.ytimg.com/vi/14SUI93R_k8/default.jpg</td>\n",
       "      <td>...</td>\n",
       "      <td>71.0</td>\n",
       "      <td>0</td>\n",
       "      <td>942.0</td>\n",
       "      <td>NaN</td>\n",
       "      <td>NaN</td>\n",
       "      <td>NaN</td>\n",
       "      <td>NaN</td>\n",
       "      <td>2021</td>\n",
       "      <td>['http://bit.ly/2xB5CqA', 'https://bit.ly/3qF3...</td>\n",
       "      <td>9</td>\n",
       "    </tr>\n",
       "  </tbody>\n",
       "</table>\n",
       "<p>1 rows × 55 columns</p>\n",
       "</div>"
      ],
      "text/plain": [
       "            id  Unnamed: 0  Unnamed: 0.1           kind  \\\n",
       "0  14SUI93R_k8           0           0.0  youtube#video   \n",
       "\n",
       "                          etag        snippet.publishedAt  \\\n",
       "0  zUX2H4amXbJxvecYfsO-9mMha7c  2021-03-19 17:00:30+00:00   \n",
       "\n",
       "          snippet.channelId  \\\n",
       "0  UC-NINtNMPM75eaqh07RCy_Q   \n",
       "\n",
       "                                       snippet.title  \\\n",
       "0  jason momoa defends amber heard after aquaman ...   \n",
       "\n",
       "                                 snippet.description  \\\n",
       "0  jason momoa defends amber heard after aquaman ...   \n",
       "\n",
       "                   snippet.thumbnails.default.url  ...  \\\n",
       "0  https://i.ytimg.com/vi/14SUI93R_k8/default.jpg  ...   \n",
       "\n",
       "   statistics.dislikeCount  statistics.favoriteCount statistics.commentCount  \\\n",
       "0                     71.0                         0                   942.0   \n",
       "\n",
       "   snippet.defaultLanguage  contentDetails.contentRating.ytRating  \\\n",
       "0                      NaN                                    NaN   \n",
       "\n",
       "  contentDetails.regionRestriction.blocked  \\\n",
       "0                                      NaN   \n",
       "\n",
       "   contentDetails.regionRestriction.allowed  year  \\\n",
       "0                                       NaN  2021   \n",
       "\n",
       "                                                urls  n_urls  \n",
       "0  ['http://bit.ly/2xB5CqA', 'https://bit.ly/3qF3...       9  \n",
       "\n",
       "[1 rows x 55 columns]"
      ]
     },
     "execution_count": 37,
     "metadata": {},
     "output_type": "execute_result"
    }
   ],
   "source": [
    "df_videos_4_months_urls.head(1)"
   ]
  },
  {
   "cell_type": "code",
   "execution_count": 55,
   "id": "d54bd658",
   "metadata": {},
   "outputs": [],
   "source": [
    "df_videos_4_months_urls = df_videos_4_months_urls[df_videos_4_months_urls.n_urls > 0 ]"
   ]
  },
  {
   "cell_type": "code",
   "execution_count": 56,
   "id": "9a5e102d",
   "metadata": {},
   "outputs": [
    {
     "data": {
      "text/plain": [
       "Index(['id', 'Unnamed: 0', 'Unnamed: 0.1', 'kind', 'etag',\n",
       "       'snippet.publishedAt', 'snippet.channelId', 'snippet.title',\n",
       "       'snippet.description', 'snippet.thumbnails.default.url',\n",
       "       'snippet.thumbnails.default.width', 'snippet.thumbnails.default.height',\n",
       "       'snippet.thumbnails.medium.url', 'snippet.thumbnails.medium.width',\n",
       "       'snippet.thumbnails.medium.height', 'snippet.thumbnails.high.url',\n",
       "       'snippet.thumbnails.high.width', 'snippet.thumbnails.high.height',\n",
       "       'snippet.thumbnails.standard.url', 'snippet.thumbnails.standard.width',\n",
       "       'snippet.thumbnails.standard.height', 'snippet.thumbnails.maxres.url',\n",
       "       'snippet.thumbnails.maxres.width', 'snippet.thumbnails.maxres.height',\n",
       "       'snippet.channelTitle', 'snippet.tags', 'snippet.categoryId',\n",
       "       'snippet.liveBroadcastContent', 'snippet.localized.title',\n",
       "       'snippet.localized.description', 'snippet.defaultAudioLanguage',\n",
       "       'contentDetails.duration', 'contentDetails.dimension',\n",
       "       'contentDetails.definition', 'contentDetails.caption',\n",
       "       'contentDetails.licensedContent', 'contentDetails.projection',\n",
       "       'status.uploadStatus', 'status.privacyStatus', 'status.license',\n",
       "       'status.embeddable', 'status.publicStatsViewable', 'status.madeForKids',\n",
       "       'n_views', 'n_likes', 'n_dislikes', 'n_favorites', 'n_comments',\n",
       "       'snippet.defaultLanguage', 'contentDetails.contentRating.ytRating',\n",
       "       'contentDetails.regionRestriction.blocked',\n",
       "       'contentDetails.regionRestriction.allowed', 'year', 'urls', 'n_urls'],\n",
       "      dtype='object')"
      ]
     },
     "execution_count": 56,
     "metadata": {},
     "output_type": "execute_result"
    }
   ],
   "source": [
    "df_videos_4_months_urls.columns"
   ]
  },
  {
   "cell_type": "code",
   "execution_count": 57,
   "id": "a2e4c82c",
   "metadata": {},
   "outputs": [],
   "source": [
    "df_videos_4_months_urls.rename(\n",
    "    columns={\n",
    "        \"statistics.viewCount\": \"n_views\",\n",
    "        \"statistics.likeCount\": \"n_likes\",\n",
    "        \"statistics.dislikeCount\": \"n_dislikes\",\n",
    "        \"statistics.favoriteCount\": \"n_favorites\",\n",
    "        \"statistics.commentCount\": \"n_comments\",\n",
    "    },\n",
    "    inplace=True,\n",
    ")"
   ]
  },
  {
   "cell_type": "markdown",
   "id": "cc006e68",
   "metadata": {},
   "source": [
    "### Views"
   ]
  },
  {
   "cell_type": "code",
   "execution_count": 58,
   "id": "034645b0",
   "metadata": {},
   "outputs": [
    {
     "data": {
      "text/plain": [
       "count    5.810000e+02\n",
       "mean     9.374224e+04\n",
       "std      4.265484e+05\n",
       "min      4.000000e+00\n",
       "25%      1.581000e+03\n",
       "50%      7.825000e+03\n",
       "75%      5.748600e+04\n",
       "max      7.271086e+06\n",
       "Name: n_views, dtype: float64"
      ]
     },
     "execution_count": 58,
     "metadata": {},
     "output_type": "execute_result"
    }
   ],
   "source": [
    "df_videos_4_months_urls.n_views.describe()"
   ]
  },
  {
   "cell_type": "code",
   "execution_count": 59,
   "id": "e12dd108",
   "metadata": {},
   "outputs": [
    {
     "data": {
      "text/plain": [
       "7271086"
      ]
     },
     "execution_count": 59,
     "metadata": {},
     "output_type": "execute_result"
    }
   ],
   "source": [
    "df_videos_4_months_urls.n_views.max()"
   ]
  },
  {
   "cell_type": "code",
   "execution_count": 60,
   "id": "0547bf49",
   "metadata": {},
   "outputs": [
    {
     "data": {
      "text/plain": [
       "<AxesSubplot:>"
      ]
     },
     "execution_count": 60,
     "metadata": {},
     "output_type": "execute_result"
    },
    {
     "data": {
      "image/png": "[encoded data removed]",
      "text/plain": [
       "<Figure size 432x288 with 1 Axes>"
      ]
     },
     "metadata": {
      "needs_background": "light"
     },
     "output_type": "display_data"
    }
   ],
   "source": [
    "df_videos_4_months_urls.n_views.plot()"
   ]
  },
  {
   "cell_type": "code",
   "execution_count": 61,
   "id": "51256d44",
   "metadata": {},
   "outputs": [
    {
     "data": {
      "text/plain": [
       "28       3\n",
       "82       3\n",
       "2328     2\n",
       "35       2\n",
       "543      2\n",
       "        ..\n",
       "1329     1\n",
       "1328     1\n",
       "21544    1\n",
       "59694    1\n",
       "92390    1\n",
       "Name: n_views, Length: 568, dtype: int64"
      ]
     },
     "execution_count": 61,
     "metadata": {},
     "output_type": "execute_result"
    }
   ],
   "source": [
    "df_videos_4_months_urls.n_views.value_counts()"
   ]
  },
  {
   "cell_type": "code",
   "execution_count": 62,
   "id": "d725bafe",
   "metadata": {},
   "outputs": [
    {
     "data": {
      "text/plain": [
       "581"
      ]
     },
     "execution_count": 62,
     "metadata": {},
     "output_type": "execute_result"
    }
   ],
   "source": [
    "df_videos_4_months_urls.shape[0]"
   ]
  },
  {
   "cell_type": "code",
   "execution_count": 63,
   "id": "aae5cd9c",
   "metadata": {},
   "outputs": [],
   "source": [
    "df_videos_4_months_urls_top_views = df_videos_4_months_urls[df_videos_4_months_urls.n_views > 100]"
   ]
  },
  {
   "cell_type": "code",
   "execution_count": 64,
   "id": "79893b79",
   "metadata": {},
   "outputs": [],
   "source": [
    "df_videos_4_months_urls_top_views.sort_values(\"n_views\", ascending=False, inplace=True)"
   ]
  },
  {
   "cell_type": "code",
   "execution_count": 65,
   "id": "5e65d16f",
   "metadata": {},
   "outputs": [
    {
     "data": {
      "text/html": [
       "<div>\n",
       "<style scoped>\n",
       "    .dataframe tbody tr th:only-of-type {\n",
       "        vertical-align: middle;\n",
       "    }\n",
       "\n",
       "    .dataframe tbody tr th {\n",
       "        vertical-align: top;\n",
       "    }\n",
       "\n",
       "    .dataframe thead th {\n",
       "        text-align: right;\n",
       "    }\n",
       "</style>\n",
       "<table border=\"1\" class=\"dataframe\">\n",
       "  <thead>\n",
       "    <tr style=\"text-align: right;\">\n",
       "      <th></th>\n",
       "      <th>urls</th>\n",
       "      <th>n_views</th>\n",
       "    </tr>\n",
       "  </thead>\n",
       "  <tbody>\n",
       "    <tr>\n",
       "      <th>328</th>\n",
       "      <td>['https://twitter.com/AmberryYt', 'https://www...</td>\n",
       "      <td>7271086</td>\n",
       "    </tr>\n",
       "    <tr>\n",
       "      <th>645</th>\n",
       "      <td>['http://wwe.yt/wwenetwork', 'http://wwe.yt/',...</td>\n",
       "      <td>4869259</td>\n",
       "    </tr>\n",
       "    <tr>\n",
       "      <th>222</th>\n",
       "      <td>['https://www.youtube.com/channel/UCbiT0LUIbQj...</td>\n",
       "      <td>3890345</td>\n",
       "    </tr>\n",
       "    <tr>\n",
       "      <th>53</th>\n",
       "      <td>['http://tiny.cc/bingewatch', 'https://youtu.b...</td>\n",
       "      <td>1333325</td>\n",
       "    </tr>\n",
       "    <tr>\n",
       "      <th>602</th>\n",
       "      <td>['https://instagram.com/thebodylanguageguy', '...</td>\n",
       "      <td>1306224</td>\n",
       "    </tr>\n",
       "    <tr>\n",
       "      <th>...</th>\n",
       "      <td>...</td>\n",
       "      <td>...</td>\n",
       "    </tr>\n",
       "    <tr>\n",
       "      <th>286</th>\n",
       "      <td>['https://cosmicbook.news/amber-heard-censors-...</td>\n",
       "      <td>116</td>\n",
       "    </tr>\n",
       "    <tr>\n",
       "      <th>307</th>\n",
       "      <td>['https://youtu.be/watch?v=XovI9L5eL3Q&amp;list=PL...</td>\n",
       "      <td>116</td>\n",
       "    </tr>\n",
       "    <tr>\n",
       "      <th>169</th>\n",
       "      <td>['https://streamelements.com/escapepodpodcast/...</td>\n",
       "      <td>112</td>\n",
       "    </tr>\n",
       "    <tr>\n",
       "      <th>59</th>\n",
       "      <td>['https://twitter.com/HNN24x7', 'https://www.f...</td>\n",
       "      <td>106</td>\n",
       "    </tr>\n",
       "    <tr>\n",
       "      <th>722</th>\n",
       "      <td>['https://www.instagram.com/lataquillagdl/', '...</td>\n",
       "      <td>101</td>\n",
       "    </tr>\n",
       "  </tbody>\n",
       "</table>\n",
       "<p>550 rows × 2 columns</p>\n",
       "</div>"
      ],
      "text/plain": [
       "                                                  urls  n_views\n",
       "328  ['https://twitter.com/AmberryYt', 'https://www...  7271086\n",
       "645  ['http://wwe.yt/wwenetwork', 'http://wwe.yt/',...  4869259\n",
       "222  ['https://www.youtube.com/channel/UCbiT0LUIbQj...  3890345\n",
       "53   ['http://tiny.cc/bingewatch', 'https://youtu.b...  1333325\n",
       "602  ['https://instagram.com/thebodylanguageguy', '...  1306224\n",
       "..                                                 ...      ...\n",
       "286  ['https://cosmicbook.news/amber-heard-censors-...      116\n",
       "307  ['https://youtu.be/watch?v=XovI9L5eL3Q&list=PL...      116\n",
       "169  ['https://streamelements.com/escapepodpodcast/...      112\n",
       "59   ['https://twitter.com/HNN24x7', 'https://www.f...      106\n",
       "722  ['https://www.instagram.com/lataquillagdl/', '...      101\n",
       "\n",
       "[550 rows x 2 columns]"
      ]
     },
     "execution_count": 65,
     "metadata": {},
     "output_type": "execute_result"
    }
   ],
   "source": [
    "df_videos_4_months_urls_top_views[[\"urls\", \"n_views\"]][~df_videos_4_months_urls_top_views[[\"urls\", \"n_views\"]].duplicated()]"
   ]
  },
  {
   "cell_type": "markdown",
   "id": "3ce5238b",
   "metadata": {},
   "source": [
    "### n_dislikes"
   ]
  },
  {
   "cell_type": "code",
   "execution_count": 73,
   "id": "21aa700b",
   "metadata": {},
   "outputs": [
    {
     "data": {
      "text/plain": [
       "count     575.000000\n",
       "mean      142.977391\n",
       "std       497.341999\n",
       "min         0.000000\n",
       "25%         3.000000\n",
       "50%        13.000000\n",
       "75%        66.500000\n",
       "max      5401.000000\n",
       "Name: n_dislikes, dtype: float64"
      ]
     },
     "execution_count": 73,
     "metadata": {},
     "output_type": "execute_result"
    }
   ],
   "source": [
    "df_videos_4_months_urls.n_dislikes.describe()"
   ]
  },
  {
   "cell_type": "code",
   "execution_count": 74,
   "id": "2964e6b7",
   "metadata": {},
   "outputs": [
    {
     "data": {
      "text/plain": [
       "5401.0"
      ]
     },
     "execution_count": 74,
     "metadata": {},
     "output_type": "execute_result"
    }
   ],
   "source": [
    "df_videos_4_months_urls.n_dislikes.max()"
   ]
  },
  {
   "cell_type": "code",
   "execution_count": 75,
   "id": "67d27cc1",
   "metadata": {},
   "outputs": [
    {
     "data": {
      "text/plain": [
       "<AxesSubplot:>"
      ]
     },
     "execution_count": 75,
     "metadata": {},
     "output_type": "execute_result"
    },
    {
     "data": {
      "image/png": "[encoded data removed]",
      "text/plain": [
       "<Figure size 432x288 with 1 Axes>"
      ]
     },
     "metadata": {
      "needs_background": "light"
     },
     "output_type": "display_data"
    }
   ],
   "source": [
    "df_videos_4_months_urls.n_dislikes.plot()"
   ]
  },
  {
   "cell_type": "code",
   "execution_count": 76,
   "id": "2c526abd",
   "metadata": {},
   "outputs": [
    {
     "data": {
      "text/plain": [
       "0.0       57\n",
       "1.0       41\n",
       "2.0       41\n",
       "3.0       27\n",
       "4.0       19\n",
       "          ..\n",
       "101.0      1\n",
       "52.0       1\n",
       "1069.0     1\n",
       "131.0      1\n",
       "2904.0     1\n",
       "Name: n_dislikes, Length: 178, dtype: int64"
      ]
     },
     "execution_count": 76,
     "metadata": {},
     "output_type": "execute_result"
    }
   ],
   "source": [
    "df_videos_4_months_urls.n_dislikes.value_counts()"
   ]
  },
  {
   "cell_type": "code",
   "execution_count": 77,
   "id": "d088efa1",
   "metadata": {},
   "outputs": [],
   "source": [
    "df_videos_4_months_urls_top_dislikes = df_videos_4_months_urls[df_videos_4_months_urls.n_dislikes > 50]"
   ]
  },
  {
   "cell_type": "code",
   "execution_count": 78,
   "id": "5058442f",
   "metadata": {},
   "outputs": [],
   "source": [
    "df_videos_4_months_urls_top_dislikes.sort_values(\"n_dislikes\", ascending=False, inplace=True)"
   ]
  },
  {
   "cell_type": "code",
   "execution_count": 79,
   "id": "50a7d233",
   "metadata": {},
   "outputs": [
    {
     "data": {
      "text/html": [
       "<div>\n",
       "<style scoped>\n",
       "    .dataframe tbody tr th:only-of-type {\n",
       "        vertical-align: middle;\n",
       "    }\n",
       "\n",
       "    .dataframe tbody tr th {\n",
       "        vertical-align: top;\n",
       "    }\n",
       "\n",
       "    .dataframe thead th {\n",
       "        text-align: right;\n",
       "    }\n",
       "</style>\n",
       "<table border=\"1\" class=\"dataframe\">\n",
       "  <thead>\n",
       "    <tr style=\"text-align: right;\">\n",
       "      <th></th>\n",
       "      <th>urls</th>\n",
       "      <th>n_dislikes</th>\n",
       "    </tr>\n",
       "  </thead>\n",
       "  <tbody>\n",
       "    <tr>\n",
       "      <th>74</th>\n",
       "      <td>['https://www.youtube.com/channel/UCbiT0LUIbQj...</td>\n",
       "      <td>5401.0</td>\n",
       "    </tr>\n",
       "    <tr>\n",
       "      <th>328</th>\n",
       "      <td>['https://twitter.com/AmberryYt', 'https://www...</td>\n",
       "      <td>4605.0</td>\n",
       "    </tr>\n",
       "    <tr>\n",
       "      <th>227</th>\n",
       "      <td>['https://www.youtube.com/watch?v=utozMdfngVk'...</td>\n",
       "      <td>3906.0</td>\n",
       "    </tr>\n",
       "    <tr>\n",
       "      <th>390</th>\n",
       "      <td>['http://youtube.com/watch?v=LrVcWYNXZLY&amp;list=...</td>\n",
       "      <td>3255.0</td>\n",
       "    </tr>\n",
       "    <tr>\n",
       "      <th>260</th>\n",
       "      <td>['https://www.youtube.com/crazedculture?sub_co...</td>\n",
       "      <td>3130.0</td>\n",
       "    </tr>\n",
       "    <tr>\n",
       "      <th>...</th>\n",
       "      <td>...</td>\n",
       "      <td>...</td>\n",
       "    </tr>\n",
       "    <tr>\n",
       "      <th>6</th>\n",
       "      <td>['https://www.youtube.com/watch?v=p3VVy5aKD9s&amp;...</td>\n",
       "      <td>54.0</td>\n",
       "    </tr>\n",
       "    <tr>\n",
       "      <th>128</th>\n",
       "      <td>['https://www.youtube.com/channel/UCbiT0LUIbQj...</td>\n",
       "      <td>53.0</td>\n",
       "    </tr>\n",
       "    <tr>\n",
       "      <th>394</th>\n",
       "      <td>['https://bit.ly/mannixplus']</td>\n",
       "      <td>53.0</td>\n",
       "    </tr>\n",
       "    <tr>\n",
       "      <th>143</th>\n",
       "      <td>['https://youtube.com/channel/UCd0fOkcnWmbE2FK...</td>\n",
       "      <td>52.0</td>\n",
       "    </tr>\n",
       "    <tr>\n",
       "      <th>624</th>\n",
       "      <td>['http://bit.ly/2xB5CqA', 'https://bit.ly/3qF3...</td>\n",
       "      <td>51.0</td>\n",
       "    </tr>\n",
       "  </tbody>\n",
       "</table>\n",
       "<p>166 rows × 2 columns</p>\n",
       "</div>"
      ],
      "text/plain": [
       "                                                  urls  n_dislikes\n",
       "74   ['https://www.youtube.com/channel/UCbiT0LUIbQj...      5401.0\n",
       "328  ['https://twitter.com/AmberryYt', 'https://www...      4605.0\n",
       "227  ['https://www.youtube.com/watch?v=utozMdfngVk'...      3906.0\n",
       "390  ['http://youtube.com/watch?v=LrVcWYNXZLY&list=...      3255.0\n",
       "260  ['https://www.youtube.com/crazedculture?sub_co...      3130.0\n",
       "..                                                 ...         ...\n",
       "6    ['https://www.youtube.com/watch?v=p3VVy5aKD9s&...        54.0\n",
       "128  ['https://www.youtube.com/channel/UCbiT0LUIbQj...        53.0\n",
       "394                      ['https://bit.ly/mannixplus']        53.0\n",
       "143  ['https://youtube.com/channel/UCd0fOkcnWmbE2FK...        52.0\n",
       "624  ['http://bit.ly/2xB5CqA', 'https://bit.ly/3qF3...        51.0\n",
       "\n",
       "[166 rows x 2 columns]"
      ]
     },
     "execution_count": 79,
     "metadata": {},
     "output_type": "execute_result"
    }
   ],
   "source": [
    "df_videos_4_months_urls_top_dislikes[[\"urls\", \"n_dislikes\"]][~df_videos_4_months_urls_top_dislikes[[\"urls\", \"n_dislikes\"]].duplicated()]"
   ]
  },
  {
   "cell_type": "markdown",
   "id": "6a8724c5",
   "metadata": {},
   "source": [
    "### likes"
   ]
  },
  {
   "cell_type": "code",
   "execution_count": 66,
   "id": "3222337d",
   "metadata": {},
   "outputs": [
    {
     "data": {
      "text/plain": [
       "count       575.000000\n",
       "mean       3550.253913\n",
       "std       12721.652185\n",
       "min           0.000000\n",
       "25%          94.500000\n",
       "50%         562.000000\n",
       "75%        2718.500000\n",
       "max      191932.000000\n",
       "Name: n_likes, dtype: float64"
      ]
     },
     "execution_count": 66,
     "metadata": {},
     "output_type": "execute_result"
    }
   ],
   "source": [
    "df_videos_4_months_urls.n_likes.describe()"
   ]
  },
  {
   "cell_type": "code",
   "execution_count": 67,
   "id": "de1b0c90",
   "metadata": {},
   "outputs": [
    {
     "data": {
      "text/plain": [
       "191932.0"
      ]
     },
     "execution_count": 67,
     "metadata": {},
     "output_type": "execute_result"
    }
   ],
   "source": [
    "df_videos_4_months_urls.n_likes.max()"
   ]
  },
  {
   "cell_type": "code",
   "execution_count": 68,
   "id": "bcb48a7c",
   "metadata": {},
   "outputs": [
    {
     "data": {
      "text/plain": [
       "<AxesSubplot:>"
      ]
     },
     "execution_count": 68,
     "metadata": {},
     "output_type": "execute_result"
    },
    {
     "data": {
      "image/png": "[encoded data removed]",
      "text/plain": [
       "<Figure size 432x288 with 1 Axes>"
      ]
     },
     "metadata": {
      "needs_background": "light"
     },
     "output_type": "display_data"
    }
   ],
   "source": [
    "df_videos_4_months_urls.n_likes.plot()"
   ]
  },
  {
   "cell_type": "code",
   "execution_count": 69,
   "id": "e69689f7",
   "metadata": {},
   "outputs": [
    {
     "data": {
      "text/plain": [
       "4.0       11\n",
       "2.0        8\n",
       "3.0        7\n",
       "1.0        6\n",
       "6.0        5\n",
       "          ..\n",
       "9826.0     1\n",
       "304.0      1\n",
       "4571.0     1\n",
       "555.0      1\n",
       "7803.0     1\n",
       "Name: n_likes, Length: 457, dtype: int64"
      ]
     },
     "execution_count": 69,
     "metadata": {},
     "output_type": "execute_result"
    }
   ],
   "source": [
    "df_videos_4_months_urls.n_likes.value_counts()"
   ]
  },
  {
   "cell_type": "code",
   "execution_count": 70,
   "id": "85aa26bb",
   "metadata": {},
   "outputs": [],
   "source": [
    "df_videos_4_months_urls_top_likes = df_videos_4_months_urls[df_videos_4_months_urls.n_likes > 100]"
   ]
  },
  {
   "cell_type": "code",
   "execution_count": 71,
   "id": "fba395fa",
   "metadata": {},
   "outputs": [],
   "source": [
    "df_videos_4_months_urls_top_likes.sort_values(\"n_likes\", ascending=False, inplace=True)"
   ]
  },
  {
   "cell_type": "code",
   "execution_count": 80,
   "id": "1f9ece12",
   "metadata": {},
   "outputs": [
    {
     "data": {
      "text/html": [
       "<div>\n",
       "<style scoped>\n",
       "    .dataframe tbody tr th:only-of-type {\n",
       "        vertical-align: middle;\n",
       "    }\n",
       "\n",
       "    .dataframe tbody tr th {\n",
       "        vertical-align: top;\n",
       "    }\n",
       "\n",
       "    .dataframe thead th {\n",
       "        text-align: right;\n",
       "    }\n",
       "</style>\n",
       "<table border=\"1\" class=\"dataframe\">\n",
       "  <thead>\n",
       "    <tr style=\"text-align: right;\">\n",
       "      <th></th>\n",
       "      <th>urls</th>\n",
       "      <th>n_likes</th>\n",
       "    </tr>\n",
       "  </thead>\n",
       "  <tbody>\n",
       "    <tr>\n",
       "      <th>222</th>\n",
       "      <td>['https://www.youtube.com/channel/UCbiT0LUIbQj...</td>\n",
       "      <td>191932.0</td>\n",
       "    </tr>\n",
       "    <tr>\n",
       "      <th>328</th>\n",
       "      <td>['https://twitter.com/AmberryYt', 'https://www...</td>\n",
       "      <td>154907.0</td>\n",
       "    </tr>\n",
       "    <tr>\n",
       "      <th>390</th>\n",
       "      <td>['http://youtube.com/watch?v=LrVcWYNXZLY&amp;list=...</td>\n",
       "      <td>118811.0</td>\n",
       "    </tr>\n",
       "    <tr>\n",
       "      <th>645</th>\n",
       "      <td>['http://wwe.yt/wwenetwork', 'http://wwe.yt/',...</td>\n",
       "      <td>56688.0</td>\n",
       "    </tr>\n",
       "    <tr>\n",
       "      <th>602</th>\n",
       "      <td>['https://instagram.com/thebodylanguageguy', '...</td>\n",
       "      <td>50706.0</td>\n",
       "    </tr>\n",
       "    <tr>\n",
       "      <th>...</th>\n",
       "      <td>...</td>\n",
       "      <td>...</td>\n",
       "    </tr>\n",
       "    <tr>\n",
       "      <th>673</th>\n",
       "      <td>['https://www.change.org/p/dc-entertainment-re...</td>\n",
       "      <td>108.0</td>\n",
       "    </tr>\n",
       "    <tr>\n",
       "      <th>723</th>\n",
       "      <td>['https://www.patreon.com/psychicgossip?fan_la...</td>\n",
       "      <td>108.0</td>\n",
       "    </tr>\n",
       "    <tr>\n",
       "      <th>145</th>\n",
       "      <td>['https://bit.ly/3txAgy1', 'https://www.youtub...</td>\n",
       "      <td>107.0</td>\n",
       "    </tr>\n",
       "    <tr>\n",
       "      <th>667</th>\n",
       "      <td>['https://www.justgiving.com/fundraising/justi...</td>\n",
       "      <td>107.0</td>\n",
       "    </tr>\n",
       "    <tr>\n",
       "      <th>359</th>\n",
       "      <td>['http://bit.ly/32rc7vI', 'https://youtu.be/jN...</td>\n",
       "      <td>102.0</td>\n",
       "    </tr>\n",
       "  </tbody>\n",
       "</table>\n",
       "<p>429 rows × 2 columns</p>\n",
       "</div>"
      ],
      "text/plain": [
       "                                                  urls   n_likes\n",
       "222  ['https://www.youtube.com/channel/UCbiT0LUIbQj...  191932.0\n",
       "328  ['https://twitter.com/AmberryYt', 'https://www...  154907.0\n",
       "390  ['http://youtube.com/watch?v=LrVcWYNXZLY&list=...  118811.0\n",
       "645  ['http://wwe.yt/wwenetwork', 'http://wwe.yt/',...   56688.0\n",
       "602  ['https://instagram.com/thebodylanguageguy', '...   50706.0\n",
       "..                                                 ...       ...\n",
       "673  ['https://www.change.org/p/dc-entertainment-re...     108.0\n",
       "723  ['https://www.patreon.com/psychicgossip?fan_la...     108.0\n",
       "145  ['https://bit.ly/3txAgy1', 'https://www.youtub...     107.0\n",
       "667  ['https://www.justgiving.com/fundraising/justi...     107.0\n",
       "359  ['http://bit.ly/32rc7vI', 'https://youtu.be/jN...     102.0\n",
       "\n",
       "[429 rows x 2 columns]"
      ]
     },
     "execution_count": 80,
     "metadata": {},
     "output_type": "execute_result"
    }
   ],
   "source": [
    "df_videos_4_months_urls_top_likes[[\"urls\", \"n_likes\"]][~df_videos_4_months_urls_top_likes[[\"urls\", \"n_likes\"]].duplicated()]"
   ]
  },
  {
   "cell_type": "markdown",
   "id": "5c23ee48",
   "metadata": {},
   "source": [
    "### comments"
   ]
  },
  {
   "cell_type": "code",
   "execution_count": 83,
   "id": "3cd31249",
   "metadata": {},
   "outputs": [
    {
     "data": {
      "text/plain": [
       "count      581.000000\n",
       "mean       499.943201\n",
       "std       1283.597322\n",
       "min          1.000000\n",
       "25%         28.000000\n",
       "50%        163.000000\n",
       "75%        515.000000\n",
       "max      18268.000000\n",
       "Name: n_comments, dtype: float64"
      ]
     },
     "execution_count": 83,
     "metadata": {},
     "output_type": "execute_result"
    }
   ],
   "source": [
    "df_videos_4_months_urls.n_comments.describe()"
   ]
  },
  {
   "cell_type": "code",
   "execution_count": 84,
   "id": "daa93ea8",
   "metadata": {},
   "outputs": [
    {
     "data": {
      "text/plain": [
       "18268.0"
      ]
     },
     "execution_count": 84,
     "metadata": {},
     "output_type": "execute_result"
    }
   ],
   "source": [
    "df_videos_4_months_urls.n_comments.max()"
   ]
  },
  {
   "cell_type": "code",
   "execution_count": 85,
   "id": "94b7a27f",
   "metadata": {},
   "outputs": [
    {
     "data": {
      "text/plain": [
       "<AxesSubplot:>"
      ]
     },
     "execution_count": 85,
     "metadata": {},
     "output_type": "execute_result"
    },
    {
     "data": {
      "image/png": "[encoded data removed]",
      "text/plain": [
       "<Figure size 432x288 with 1 Axes>"
      ]
     },
     "metadata": {
      "needs_background": "light"
     },
     "output_type": "display_data"
    }
   ],
   "source": [
    "df_videos_4_months_urls.n_comments.plot()"
   ]
  },
  {
   "cell_type": "code",
   "execution_count": 86,
   "id": "e7192029",
   "metadata": {},
   "outputs": [
    {
     "data": {
      "text/plain": [
       "2.0       16\n",
       "5.0       16\n",
       "1.0       13\n",
       "9.0       10\n",
       "3.0        9\n",
       "          ..\n",
       "3072.0     1\n",
       "1287.0     1\n",
       "2660.0     1\n",
       "378.0      1\n",
       "2230.0     1\n",
       "Name: n_comments, Length: 365, dtype: int64"
      ]
     },
     "execution_count": 86,
     "metadata": {},
     "output_type": "execute_result"
    }
   ],
   "source": [
    "df_videos_4_months_urls.n_comments.value_counts()"
   ]
  },
  {
   "cell_type": "code",
   "execution_count": 88,
   "id": "fb561e0f",
   "metadata": {},
   "outputs": [],
   "source": [
    "df_videos_4_months_urls_top_comments = df_videos_4_months_urls[df_videos_4_months_urls.n_comments > 50]"
   ]
  },
  {
   "cell_type": "code",
   "execution_count": 89,
   "id": "f020708d",
   "metadata": {},
   "outputs": [],
   "source": [
    "df_videos_4_months_urls_top_comments.sort_values(\"n_comments\", ascending=False, inplace=True)"
   ]
  },
  {
   "cell_type": "code",
   "execution_count": 90,
   "id": "d7729501",
   "metadata": {},
   "outputs": [
    {
     "data": {
      "text/html": [
       "<div>\n",
       "<style scoped>\n",
       "    .dataframe tbody tr th:only-of-type {\n",
       "        vertical-align: middle;\n",
       "    }\n",
       "\n",
       "    .dataframe tbody tr th {\n",
       "        vertical-align: top;\n",
       "    }\n",
       "\n",
       "    .dataframe thead th {\n",
       "        text-align: right;\n",
       "    }\n",
       "</style>\n",
       "<table border=\"1\" class=\"dataframe\">\n",
       "  <thead>\n",
       "    <tr style=\"text-align: right;\">\n",
       "      <th></th>\n",
       "      <th>urls</th>\n",
       "      <th>n_comments</th>\n",
       "    </tr>\n",
       "  </thead>\n",
       "  <tbody>\n",
       "    <tr>\n",
       "      <th>222</th>\n",
       "      <td>['https://www.youtube.com/channel/UCbiT0LUIbQj...</td>\n",
       "      <td>18268.0</td>\n",
       "    </tr>\n",
       "    <tr>\n",
       "      <th>390</th>\n",
       "      <td>['http://youtube.com/watch?v=LrVcWYNXZLY&amp;list=...</td>\n",
       "      <td>14613.0</td>\n",
       "    </tr>\n",
       "    <tr>\n",
       "      <th>328</th>\n",
       "      <td>['https://twitter.com/AmberryYt', 'https://www...</td>\n",
       "      <td>12352.0</td>\n",
       "    </tr>\n",
       "    <tr>\n",
       "      <th>602</th>\n",
       "      <td>['https://instagram.com/thebodylanguageguy', '...</td>\n",
       "      <td>6033.0</td>\n",
       "    </tr>\n",
       "    <tr>\n",
       "      <th>325</th>\n",
       "      <td>['https://www.youtube.com/channel/UCbiT0LUIbQj...</td>\n",
       "      <td>5551.0</td>\n",
       "    </tr>\n",
       "    <tr>\n",
       "      <th>...</th>\n",
       "      <td>...</td>\n",
       "      <td>...</td>\n",
       "    </tr>\n",
       "    <tr>\n",
       "      <th>513</th>\n",
       "      <td>['https://bit.ly/3oBlvGz', 'https://bit.ly/370...</td>\n",
       "      <td>53.0</td>\n",
       "    </tr>\n",
       "    <tr>\n",
       "      <th>271</th>\n",
       "      <td>['https://www.youtube.com/channel/UC-lZTlG05ET...</td>\n",
       "      <td>53.0</td>\n",
       "    </tr>\n",
       "    <tr>\n",
       "      <th>255</th>\n",
       "      <td>['https://www.youtube.com/channel/UCG2QYlhnYYx...</td>\n",
       "      <td>52.0</td>\n",
       "    </tr>\n",
       "    <tr>\n",
       "      <th>663</th>\n",
       "      <td>['https://www.justgiving.com/fundraising/justi...</td>\n",
       "      <td>52.0</td>\n",
       "    </tr>\n",
       "    <tr>\n",
       "      <th>240</th>\n",
       "      <td>['https://www.twitch.tv/podcastnow', 'https://...</td>\n",
       "      <td>51.0</td>\n",
       "    </tr>\n",
       "  </tbody>\n",
       "</table>\n",
       "<p>399 rows × 2 columns</p>\n",
       "</div>"
      ],
      "text/plain": [
       "                                                  urls  n_comments\n",
       "222  ['https://www.youtube.com/channel/UCbiT0LUIbQj...     18268.0\n",
       "390  ['http://youtube.com/watch?v=LrVcWYNXZLY&list=...     14613.0\n",
       "328  ['https://twitter.com/AmberryYt', 'https://www...     12352.0\n",
       "602  ['https://instagram.com/thebodylanguageguy', '...      6033.0\n",
       "325  ['https://www.youtube.com/channel/UCbiT0LUIbQj...      5551.0\n",
       "..                                                 ...         ...\n",
       "513  ['https://bit.ly/3oBlvGz', 'https://bit.ly/370...        53.0\n",
       "271  ['https://www.youtube.com/channel/UC-lZTlG05ET...        53.0\n",
       "255  ['https://www.youtube.com/channel/UCG2QYlhnYYx...        52.0\n",
       "663  ['https://www.justgiving.com/fundraising/justi...        52.0\n",
       "240  ['https://www.twitch.tv/podcastnow', 'https://...        51.0\n",
       "\n",
       "[399 rows x 2 columns]"
      ]
     },
     "execution_count": 90,
     "metadata": {},
     "output_type": "execute_result"
    }
   ],
   "source": [
    "df_videos_4_months_urls_top_comments[[\"urls\", \"n_comments\"]][~df_videos_4_months_urls_top_comments[[\"urls\", \"n_comments\"]].duplicated()]"
   ]
  },
  {
   "cell_type": "markdown",
   "id": "58d03d9d",
   "metadata": {},
   "source": [
    "### favorites"
   ]
  },
  {
   "cell_type": "code",
   "execution_count": 91,
   "id": "d6e8b794",
   "metadata": {},
   "outputs": [
    {
     "data": {
      "text/plain": [
       "count    581.0\n",
       "mean       0.0\n",
       "std        0.0\n",
       "min        0.0\n",
       "25%        0.0\n",
       "50%        0.0\n",
       "75%        0.0\n",
       "max        0.0\n",
       "Name: n_favorites, dtype: float64"
      ]
     },
     "execution_count": 91,
     "metadata": {},
     "output_type": "execute_result"
    }
   ],
   "source": [
    "df_videos_4_months_urls.n_favorites.describe()"
   ]
  },
  {
   "cell_type": "code",
   "execution_count": 92,
   "id": "16e211f5",
   "metadata": {},
   "outputs": [
    {
     "data": {
      "text/plain": [
       "0"
      ]
     },
     "execution_count": 92,
     "metadata": {},
     "output_type": "execute_result"
    }
   ],
   "source": [
    "df_videos_4_months_urls.n_favorites.max()"
   ]
  },
  {
   "cell_type": "code",
   "execution_count": null,
   "id": "4b2e673e",
   "metadata": {},
   "outputs": [],
   "source": []
  },
  {
   "cell_type": "markdown",
   "id": "bfc94808",
   "metadata": {},
   "source": [
    "## dec"
   ]
  },
  {
   "cell_type": "code",
   "execution_count": 93,
   "id": "2ff3b3bd",
   "metadata": {},
   "outputs": [],
   "source": [
    "df_videos_dec_urls = pd.read_csv(data_path + \"df_videos_dec_urls.csv\")"
   ]
  },
  {
   "cell_type": "code",
   "execution_count": 94,
   "id": "721f0cea",
   "metadata": {},
   "outputs": [
    {
     "data": {
      "text/html": [
       "<div>\n",
       "<style scoped>\n",
       "    .dataframe tbody tr th:only-of-type {\n",
       "        vertical-align: middle;\n",
       "    }\n",
       "\n",
       "    .dataframe tbody tr th {\n",
       "        vertical-align: top;\n",
       "    }\n",
       "\n",
       "    .dataframe thead th {\n",
       "        text-align: right;\n",
       "    }\n",
       "</style>\n",
       "<table border=\"1\" class=\"dataframe\">\n",
       "  <thead>\n",
       "    <tr style=\"text-align: right;\">\n",
       "      <th></th>\n",
       "      <th>id</th>\n",
       "      <th>Unnamed: 0</th>\n",
       "      <th>Unnamed: 0.1</th>\n",
       "      <th>kind</th>\n",
       "      <th>etag</th>\n",
       "      <th>snippet.publishedAt</th>\n",
       "      <th>snippet.channelId</th>\n",
       "      <th>snippet.title</th>\n",
       "      <th>snippet.description</th>\n",
       "      <th>snippet.thumbnails.default.url</th>\n",
       "      <th>...</th>\n",
       "      <th>statistics.dislikeCount</th>\n",
       "      <th>statistics.favoriteCount</th>\n",
       "      <th>statistics.commentCount</th>\n",
       "      <th>snippet.defaultLanguage</th>\n",
       "      <th>contentDetails.contentRating.ytRating</th>\n",
       "      <th>contentDetails.regionRestriction.blocked</th>\n",
       "      <th>contentDetails.regionRestriction.allowed</th>\n",
       "      <th>year</th>\n",
       "      <th>urls</th>\n",
       "      <th>n_urls</th>\n",
       "    </tr>\n",
       "  </thead>\n",
       "  <tbody>\n",
       "    <tr>\n",
       "      <th>0</th>\n",
       "      <td>ht92feHGR9M</td>\n",
       "      <td>69</td>\n",
       "      <td>0.0</td>\n",
       "      <td>youtube#video</td>\n",
       "      <td>zNkBfCV1TBeKMnDzDWZlqnoNpVM</td>\n",
       "      <td>2020-09-08 20:15:10+00:00</td>\n",
       "      <td>UCO6cSNvOaDs-kjALLQLNhQw</td>\n",
       "      <td>remove amber heard from aquaman 2 petition cou...</td>\n",
       "      <td>remove amber heard from aquaman 2 petition cou...</td>\n",
       "      <td>https://i.ytimg.com/vi/ht92feHGR9M/default.jpg</td>\n",
       "      <td>...</td>\n",
       "      <td>6.0</td>\n",
       "      <td>0</td>\n",
       "      <td>119.0</td>\n",
       "      <td>NaN</td>\n",
       "      <td>NaN</td>\n",
       "      <td>NaN</td>\n",
       "      <td>NaN</td>\n",
       "      <td>2020</td>\n",
       "      <td>['http://bit.ly/32rc7vi', 'https://youtu.be/jn...</td>\n",
       "      <td>2</td>\n",
       "    </tr>\n",
       "  </tbody>\n",
       "</table>\n",
       "<p>1 rows × 55 columns</p>\n",
       "</div>"
      ],
      "text/plain": [
       "            id  Unnamed: 0  Unnamed: 0.1           kind  \\\n",
       "0  ht92feHGR9M          69           0.0  youtube#video   \n",
       "\n",
       "                          etag        snippet.publishedAt  \\\n",
       "0  zNkBfCV1TBeKMnDzDWZlqnoNpVM  2020-09-08 20:15:10+00:00   \n",
       "\n",
       "          snippet.channelId  \\\n",
       "0  UCO6cSNvOaDs-kjALLQLNhQw   \n",
       "\n",
       "                                       snippet.title  \\\n",
       "0  remove amber heard from aquaman 2 petition cou...   \n",
       "\n",
       "                                 snippet.description  \\\n",
       "0  remove amber heard from aquaman 2 petition cou...   \n",
       "\n",
       "                   snippet.thumbnails.default.url  ...  \\\n",
       "0  https://i.ytimg.com/vi/ht92feHGR9M/default.jpg  ...   \n",
       "\n",
       "   statistics.dislikeCount  statistics.favoriteCount statistics.commentCount  \\\n",
       "0                      6.0                         0                   119.0   \n",
       "\n",
       "   snippet.defaultLanguage  contentDetails.contentRating.ytRating  \\\n",
       "0                      NaN                                    NaN   \n",
       "\n",
       "  contentDetails.regionRestriction.blocked  \\\n",
       "0                                      NaN   \n",
       "\n",
       "   contentDetails.regionRestriction.allowed  year  \\\n",
       "0                                       NaN  2020   \n",
       "\n",
       "                                                urls  n_urls  \n",
       "0  ['http://bit.ly/32rc7vi', 'https://youtu.be/jn...       2  \n",
       "\n",
       "[1 rows x 55 columns]"
      ]
     },
     "execution_count": 94,
     "metadata": {},
     "output_type": "execute_result"
    }
   ],
   "source": [
    "df_videos_dec_urls.head(1)"
   ]
  },
  {
   "cell_type": "code",
   "execution_count": 95,
   "id": "3e19a84f",
   "metadata": {},
   "outputs": [],
   "source": [
    "df_videos_dec_urls = df_videos_dec_urls[df_videos_dec_urls.n_urls > 0 ]"
   ]
  },
  {
   "cell_type": "code",
   "execution_count": 96,
   "id": "0b6690c8",
   "metadata": {},
   "outputs": [],
   "source": [
    "df_videos_dec_urls.rename(\n",
    "    columns={\n",
    "        \"statistics.viewCount\": \"n_views\",\n",
    "        \"statistics.likeCount\": \"n_likes\",\n",
    "        \"statistics.dislikeCount\": \"n_dislikes\",\n",
    "        \"statistics.favoriteCount\": \"n_favorites\",\n",
    "        \"statistics.commentCount\": \"n_comments\",\n",
    "    },\n",
    "    inplace=True,\n",
    ")"
   ]
  },
  {
   "cell_type": "markdown",
   "id": "148825a6",
   "metadata": {},
   "source": [
    "### Views"
   ]
  },
  {
   "cell_type": "code",
   "execution_count": 97,
   "id": "740b3a82",
   "metadata": {},
   "outputs": [
    {
     "data": {
      "text/plain": [
       "count    5.960000e+02\n",
       "mean     4.807721e+05\n",
       "std      4.245695e+06\n",
       "min      1.400000e+01\n",
       "25%      9.815250e+03\n",
       "50%      4.219000e+04\n",
       "75%      1.598870e+05\n",
       "max      9.011098e+07\n",
       "Name: n_views, dtype: float64"
      ]
     },
     "execution_count": 97,
     "metadata": {},
     "output_type": "execute_result"
    }
   ],
   "source": [
    "df_videos_dec_urls.n_views.describe()"
   ]
  },
  {
   "cell_type": "code",
   "execution_count": 98,
   "id": "2166c54a",
   "metadata": {},
   "outputs": [
    {
     "data": {
      "text/plain": [
       "90110984"
      ]
     },
     "execution_count": 98,
     "metadata": {},
     "output_type": "execute_result"
    }
   ],
   "source": [
    "df_videos_dec_urls.n_views.max()"
   ]
  },
  {
   "cell_type": "code",
   "execution_count": 99,
   "id": "8f271bba",
   "metadata": {},
   "outputs": [
    {
     "data": {
      "text/plain": [
       "<AxesSubplot:>"
      ]
     },
     "execution_count": 99,
     "metadata": {},
     "output_type": "execute_result"
    },
    {
     "data": {
      "image/png": "[encoded data removed]",
      "text/plain": [
       "<Figure size 432x288 with 1 Axes>"
      ]
     },
     "metadata": {
      "needs_background": "light"
     },
     "output_type": "display_data"
    }
   ],
   "source": [
    "df_videos_dec_urls.n_views.plot()"
   ]
  },
  {
   "cell_type": "code",
   "execution_count": 101,
   "id": "eaaf0fbc",
   "metadata": {},
   "outputs": [
    {
     "data": {
      "text/plain": [
       "596"
      ]
     },
     "execution_count": 101,
     "metadata": {},
     "output_type": "execute_result"
    }
   ],
   "source": [
    "df_videos_dec_urls.shape[0]"
   ]
  },
  {
   "cell_type": "code",
   "execution_count": 102,
   "id": "45ef86ad",
   "metadata": {},
   "outputs": [],
   "source": [
    "df_videos_dec_urls_top_views = df_videos_dec_urls[df_videos_dec_urls.n_views > 400]"
   ]
  },
  {
   "cell_type": "code",
   "execution_count": 103,
   "id": "092790af",
   "metadata": {},
   "outputs": [],
   "source": [
    "df_videos_dec_urls_top_views.sort_values(\"n_views\", ascending=False, inplace=True)"
   ]
  },
  {
   "cell_type": "code",
   "execution_count": 104,
   "id": "2091ddef",
   "metadata": {},
   "outputs": [
    {
     "data": {
      "text/html": [
       "<div>\n",
       "<style scoped>\n",
       "    .dataframe tbody tr th:only-of-type {\n",
       "        vertical-align: middle;\n",
       "    }\n",
       "\n",
       "    .dataframe tbody tr th {\n",
       "        vertical-align: top;\n",
       "    }\n",
       "\n",
       "    .dataframe thead th {\n",
       "        text-align: right;\n",
       "    }\n",
       "</style>\n",
       "<table border=\"1\" class=\"dataframe\">\n",
       "  <thead>\n",
       "    <tr style=\"text-align: right;\">\n",
       "      <th></th>\n",
       "      <th>urls</th>\n",
       "      <th>n_views</th>\n",
       "    </tr>\n",
       "  </thead>\n",
       "  <tbody>\n",
       "    <tr>\n",
       "      <th>390</th>\n",
       "      <td>['http://wwe.yt/wwenetwork', 'http://wwe.yt/',...</td>\n",
       "      <td>90110984</td>\n",
       "    </tr>\n",
       "    <tr>\n",
       "      <th>481</th>\n",
       "      <td>['https://madisonbeer.lnk.to/selfish', 'https:...</td>\n",
       "      <td>42540987</td>\n",
       "    </tr>\n",
       "    <tr>\n",
       "      <th>452</th>\n",
       "      <td>['https://www.youtube.com/watch?v=-t_pzplyvag']</td>\n",
       "      <td>20612790</td>\n",
       "    </tr>\n",
       "    <tr>\n",
       "      <th>523</th>\n",
       "      <td>['https://supr.cl/playbrawl', 'https://supr.cl...</td>\n",
       "      <td>17097269</td>\n",
       "    </tr>\n",
       "    <tr>\n",
       "      <th>193</th>\n",
       "      <td>['https://youtu.be/hwkb80xzdus']</td>\n",
       "      <td>9402370</td>\n",
       "    </tr>\n",
       "    <tr>\n",
       "      <th>...</th>\n",
       "      <td>...</td>\n",
       "      <td>...</td>\n",
       "    </tr>\n",
       "    <tr>\n",
       "      <th>566</th>\n",
       "      <td>['https://live.justgiving.com/pages/donate/520...</td>\n",
       "      <td>825</td>\n",
       "    </tr>\n",
       "    <tr>\n",
       "      <th>446</th>\n",
       "      <td>['https://www.youtube.com/channel/ucwagacj5lth...</td>\n",
       "      <td>724</td>\n",
       "    </tr>\n",
       "    <tr>\n",
       "      <th>256</th>\n",
       "      <td>['https://youtu.be/0pceieeealg', 'https://econ...</td>\n",
       "      <td>636</td>\n",
       "    </tr>\n",
       "    <tr>\n",
       "      <th>423</th>\n",
       "      <td>['https://www.change.org/p/dc-entertainment-re...</td>\n",
       "      <td>572</td>\n",
       "    </tr>\n",
       "    <tr>\n",
       "      <th>428</th>\n",
       "      <td>['https://www.expressvpn.com/girlnextdoorconce...</td>\n",
       "      <td>508</td>\n",
       "    </tr>\n",
       "  </tbody>\n",
       "</table>\n",
       "<p>577 rows × 2 columns</p>\n",
       "</div>"
      ],
      "text/plain": [
       "                                                  urls   n_views\n",
       "390  ['http://wwe.yt/wwenetwork', 'http://wwe.yt/',...  90110984\n",
       "481  ['https://madisonbeer.lnk.to/selfish', 'https:...  42540987\n",
       "452    ['https://www.youtube.com/watch?v=-t_pzplyvag']  20612790\n",
       "523  ['https://supr.cl/playbrawl', 'https://supr.cl...  17097269\n",
       "193                   ['https://youtu.be/hwkb80xzdus']   9402370\n",
       "..                                                 ...       ...\n",
       "566  ['https://live.justgiving.com/pages/donate/520...       825\n",
       "446  ['https://www.youtube.com/channel/ucwagacj5lth...       724\n",
       "256  ['https://youtu.be/0pceieeealg', 'https://econ...       636\n",
       "423  ['https://www.change.org/p/dc-entertainment-re...       572\n",
       "428  ['https://www.expressvpn.com/girlnextdoorconce...       508\n",
       "\n",
       "[577 rows x 2 columns]"
      ]
     },
     "execution_count": 104,
     "metadata": {},
     "output_type": "execute_result"
    }
   ],
   "source": [
    "df_videos_dec_urls_top_views[[\"urls\", \"n_views\"]][~df_videos_dec_urls_top_views[[\"urls\", \"n_views\"]].duplicated()]"
   ]
  },
  {
   "cell_type": "markdown",
   "id": "799029a3",
   "metadata": {},
   "source": [
    "### n_dislikes"
   ]
  },
  {
   "cell_type": "code",
   "execution_count": 105,
   "id": "59700923",
   "metadata": {},
   "outputs": [
    {
     "data": {
      "text/plain": [
       "count       589.000000\n",
       "mean       1425.390492\n",
       "std       20105.164836\n",
       "min           0.000000\n",
       "25%          15.000000\n",
       "50%          52.000000\n",
       "75%         190.000000\n",
       "max      479614.000000\n",
       "Name: n_dislikes, dtype: float64"
      ]
     },
     "execution_count": 105,
     "metadata": {},
     "output_type": "execute_result"
    }
   ],
   "source": [
    "df_videos_dec_urls.n_dislikes.describe()"
   ]
  },
  {
   "cell_type": "code",
   "execution_count": 106,
   "id": "3e693962",
   "metadata": {},
   "outputs": [
    {
     "data": {
      "text/plain": [
       "479614.0"
      ]
     },
     "execution_count": 106,
     "metadata": {},
     "output_type": "execute_result"
    }
   ],
   "source": [
    "df_videos_dec_urls.n_dislikes.max()"
   ]
  },
  {
   "cell_type": "code",
   "execution_count": 107,
   "id": "4159ee29",
   "metadata": {},
   "outputs": [
    {
     "data": {
      "text/plain": [
       "<AxesSubplot:>"
      ]
     },
     "execution_count": 107,
     "metadata": {},
     "output_type": "execute_result"
    },
    {
     "data": {
      "image/png": "[encoded data removed]",
      "text/plain": [
       "<Figure size 432x288 with 1 Axes>"
      ]
     },
     "metadata": {
      "needs_background": "light"
     },
     "output_type": "display_data"
    }
   ],
   "source": [
    "df_videos_dec_urls.n_dislikes.plot()"
   ]
  },
  {
   "cell_type": "code",
   "execution_count": 108,
   "id": "774deab9",
   "metadata": {},
   "outputs": [
    {
     "data": {
      "text/plain": [
       "6.0       15\n",
       "8.0       14\n",
       "3.0       13\n",
       "1.0       13\n",
       "13.0      12\n",
       "          ..\n",
       "37.0       1\n",
       "399.0      1\n",
       "71.0       1\n",
       "1292.0     1\n",
       "485.0      1\n",
       "Name: n_dislikes, Length: 266, dtype: int64"
      ]
     },
     "execution_count": 108,
     "metadata": {},
     "output_type": "execute_result"
    }
   ],
   "source": [
    "df_videos_dec_urls.n_dislikes.value_counts()"
   ]
  },
  {
   "cell_type": "code",
   "execution_count": 109,
   "id": "c35c55ac",
   "metadata": {},
   "outputs": [],
   "source": [
    "df_videos_dec_urls_top_dislikes = df_videos_dec_urls[df_videos_dec_urls.n_dislikes > 200]"
   ]
  },
  {
   "cell_type": "code",
   "execution_count": 110,
   "id": "a8f5a4ed",
   "metadata": {},
   "outputs": [],
   "source": [
    "df_videos_dec_urls_top_dislikes.sort_values(\"n_dislikes\", ascending=False, inplace=True)"
   ]
  },
  {
   "cell_type": "code",
   "execution_count": 112,
   "id": "eaa64e62",
   "metadata": {},
   "outputs": [
    {
     "data": {
      "text/html": [
       "<div>\n",
       "<style scoped>\n",
       "    .dataframe tbody tr th:only-of-type {\n",
       "        vertical-align: middle;\n",
       "    }\n",
       "\n",
       "    .dataframe tbody tr th {\n",
       "        vertical-align: top;\n",
       "    }\n",
       "\n",
       "    .dataframe thead th {\n",
       "        text-align: right;\n",
       "    }\n",
       "</style>\n",
       "<table border=\"1\" class=\"dataframe\">\n",
       "  <thead>\n",
       "    <tr style=\"text-align: right;\">\n",
       "      <th></th>\n",
       "      <th>urls</th>\n",
       "      <th>n_dislikes</th>\n",
       "    </tr>\n",
       "  </thead>\n",
       "  <tbody>\n",
       "    <tr>\n",
       "      <th>234</th>\n",
       "      <td>['http://bit.ly/ahsub', 'http://www.accessonli...</td>\n",
       "      <td>479614.0</td>\n",
       "    </tr>\n",
       "    <tr>\n",
       "      <th>390</th>\n",
       "      <td>['http://wwe.yt/wwenetwork', 'http://wwe.yt/',...</td>\n",
       "      <td>70870.0</td>\n",
       "    </tr>\n",
       "    <tr>\n",
       "      <th>73</th>\n",
       "      <td>['https://news.sky.com/story/amber-heard-nothi...</td>\n",
       "      <td>30068.0</td>\n",
       "    </tr>\n",
       "    <tr>\n",
       "      <th>120</th>\n",
       "      <td>['https://court.tv/live', 'https://www.courttv...</td>\n",
       "      <td>28695.0</td>\n",
       "    </tr>\n",
       "    <tr>\n",
       "      <th>452</th>\n",
       "      <td>['https://www.youtube.com/watch?v=-t_pzplyvag']</td>\n",
       "      <td>24533.0</td>\n",
       "    </tr>\n",
       "    <tr>\n",
       "      <th>...</th>\n",
       "      <td>...</td>\n",
       "      <td>...</td>\n",
       "    </tr>\n",
       "    <tr>\n",
       "      <th>117</th>\n",
       "      <td>['http://www.youtube.com/user/igtamil?sub_conf...</td>\n",
       "      <td>209.0</td>\n",
       "    </tr>\n",
       "    <tr>\n",
       "      <th>141</th>\n",
       "      <td>['https://www.facebook.com/thewillthur6', 'htt...</td>\n",
       "      <td>209.0</td>\n",
       "    </tr>\n",
       "    <tr>\n",
       "      <th>181</th>\n",
       "      <td>['https://www.nickiswift.com/15613/double-life...</td>\n",
       "      <td>207.0</td>\n",
       "    </tr>\n",
       "    <tr>\n",
       "      <th>530</th>\n",
       "      <td>['https://www.twitch.tv/stikkergaming', 'https...</td>\n",
       "      <td>203.0</td>\n",
       "    </tr>\n",
       "    <tr>\n",
       "      <th>164</th>\n",
       "      <td>['https://www.change.org/p/dc-entertainment-re...</td>\n",
       "      <td>201.0</td>\n",
       "    </tr>\n",
       "  </tbody>\n",
       "</table>\n",
       "<p>136 rows × 2 columns</p>\n",
       "</div>"
      ],
      "text/plain": [
       "                                                  urls  n_dislikes\n",
       "234  ['http://bit.ly/ahsub', 'http://www.accessonli...    479614.0\n",
       "390  ['http://wwe.yt/wwenetwork', 'http://wwe.yt/',...     70870.0\n",
       "73   ['https://news.sky.com/story/amber-heard-nothi...     30068.0\n",
       "120  ['https://court.tv/live', 'https://www.courttv...     28695.0\n",
       "452    ['https://www.youtube.com/watch?v=-t_pzplyvag']     24533.0\n",
       "..                                                 ...         ...\n",
       "117  ['http://www.youtube.com/user/igtamil?sub_conf...       209.0\n",
       "141  ['https://www.facebook.com/thewillthur6', 'htt...       209.0\n",
       "181  ['https://www.nickiswift.com/15613/double-life...       207.0\n",
       "530  ['https://www.twitch.tv/stikkergaming', 'https...       203.0\n",
       "164  ['https://www.change.org/p/dc-entertainment-re...       201.0\n",
       "\n",
       "[136 rows x 2 columns]"
      ]
     },
     "execution_count": 112,
     "metadata": {},
     "output_type": "execute_result"
    }
   ],
   "source": [
    "df_videos_dec_urls_top_dislikes[[\"urls\", \"n_dislikes\"]][~df_videos_dec_urls_top_dislikes[[\"urls\", \"n_dislikes\"]].duplicated()]"
   ]
  },
  {
   "cell_type": "markdown",
   "id": "bdabc966",
   "metadata": {},
   "source": [
    "### likes"
   ]
  },
  {
   "cell_type": "code",
   "execution_count": 113,
   "id": "05e19fb7",
   "metadata": {},
   "outputs": [
    {
     "data": {
      "text/plain": [
       "count    5.890000e+02\n",
       "mean     1.152947e+04\n",
       "std      7.509683e+04\n",
       "min      2.000000e+00\n",
       "25%      4.770000e+02\n",
       "50%      1.537000e+03\n",
       "75%      5.240000e+03\n",
       "max      1.227003e+06\n",
       "Name: n_likes, dtype: float64"
      ]
     },
     "execution_count": 113,
     "metadata": {},
     "output_type": "execute_result"
    }
   ],
   "source": [
    "df_videos_dec_urls.n_likes.describe()"
   ]
  },
  {
   "cell_type": "code",
   "execution_count": 114,
   "id": "d1caf271",
   "metadata": {},
   "outputs": [
    {
     "data": {
      "text/plain": [
       "1227003.0"
      ]
     },
     "execution_count": 114,
     "metadata": {},
     "output_type": "execute_result"
    }
   ],
   "source": [
    "df_videos_dec_urls.n_likes.max()"
   ]
  },
  {
   "cell_type": "code",
   "execution_count": 115,
   "id": "1c77771e",
   "metadata": {},
   "outputs": [
    {
     "data": {
      "text/plain": [
       "<AxesSubplot:>"
      ]
     },
     "execution_count": 115,
     "metadata": {},
     "output_type": "execute_result"
    },
    {
     "data": {
      "image/png": "[encoded data removed]",
      "text/plain": [
       "<Figure size 432x288 with 1 Axes>"
      ]
     },
     "metadata": {
      "needs_background": "light"
     },
     "output_type": "display_data"
    }
   ],
   "source": [
    "df_videos_dec_urls.n_likes.plot()"
   ]
  },
  {
   "cell_type": "code",
   "execution_count": 116,
   "id": "4153aa4c",
   "metadata": {},
   "outputs": [
    {
     "data": {
      "text/plain": [
       "18.0       3\n",
       "138.0      3\n",
       "9.0        3\n",
       "24.0       3\n",
       "348.0      2\n",
       "          ..\n",
       "1543.0     1\n",
       "10940.0    1\n",
       "8209.0     1\n",
       "2457.0     1\n",
       "2407.0     1\n",
       "Name: n_likes, Length: 552, dtype: int64"
      ]
     },
     "execution_count": 116,
     "metadata": {},
     "output_type": "execute_result"
    }
   ],
   "source": [
    "df_videos_dec_urls.n_likes.value_counts()"
   ]
  },
  {
   "cell_type": "code",
   "execution_count": 117,
   "id": "443d9995",
   "metadata": {},
   "outputs": [],
   "source": [
    "df_videos_dec_urls_top_likes = df_videos_dec_urls[df_videos_dec_urls.n_likes > 350]"
   ]
  },
  {
   "cell_type": "code",
   "execution_count": 118,
   "id": "3f45f77d",
   "metadata": {},
   "outputs": [],
   "source": [
    "df_videos_dec_urls_top_likes.sort_values(\"n_likes\", ascending=False, inplace=True)"
   ]
  },
  {
   "cell_type": "code",
   "execution_count": 119,
   "id": "df589351",
   "metadata": {},
   "outputs": [
    {
     "data": {
      "text/html": [
       "<div>\n",
       "<style scoped>\n",
       "    .dataframe tbody tr th:only-of-type {\n",
       "        vertical-align: middle;\n",
       "    }\n",
       "\n",
       "    .dataframe tbody tr th {\n",
       "        vertical-align: top;\n",
       "    }\n",
       "\n",
       "    .dataframe thead th {\n",
       "        text-align: right;\n",
       "    }\n",
       "</style>\n",
       "<table border=\"1\" class=\"dataframe\">\n",
       "  <thead>\n",
       "    <tr style=\"text-align: right;\">\n",
       "      <th></th>\n",
       "      <th>urls</th>\n",
       "      <th>n_likes</th>\n",
       "    </tr>\n",
       "  </thead>\n",
       "  <tbody>\n",
       "    <tr>\n",
       "      <th>481</th>\n",
       "      <td>['https://madisonbeer.lnk.to/selfish', 'https:...</td>\n",
       "      <td>1227003.0</td>\n",
       "    </tr>\n",
       "    <tr>\n",
       "      <th>390</th>\n",
       "      <td>['http://wwe.yt/wwenetwork', 'http://wwe.yt/',...</td>\n",
       "      <td>1100425.0</td>\n",
       "    </tr>\n",
       "    <tr>\n",
       "      <th>452</th>\n",
       "      <td>['https://www.youtube.com/watch?v=-t_pzplyvag']</td>\n",
       "      <td>560922.0</td>\n",
       "    </tr>\n",
       "    <tr>\n",
       "      <th>523</th>\n",
       "      <td>['https://supr.cl/playbrawl', 'https://supr.cl...</td>\n",
       "      <td>479638.0</td>\n",
       "    </tr>\n",
       "    <tr>\n",
       "      <th>310</th>\n",
       "      <td>['https://youtube.com/tomharlockvideos', 'http...</td>\n",
       "      <td>133422.0</td>\n",
       "    </tr>\n",
       "    <tr>\n",
       "      <th>...</th>\n",
       "      <td>...</td>\n",
       "      <td>...</td>\n",
       "    </tr>\n",
       "    <tr>\n",
       "      <th>404</th>\n",
       "      <td>['www.patreon.com/darthnews']</td>\n",
       "      <td>377.0</td>\n",
       "    </tr>\n",
       "    <tr>\n",
       "      <th>90</th>\n",
       "      <td>['https://bit.ly/2txttsd', 'https://bit.ly/3mm...</td>\n",
       "      <td>373.0</td>\n",
       "    </tr>\n",
       "    <tr>\n",
       "      <th>580</th>\n",
       "      <td>['https://live.justgiving.com/pages/donate/520...</td>\n",
       "      <td>364.0</td>\n",
       "    </tr>\n",
       "    <tr>\n",
       "      <th>498</th>\n",
       "      <td>['https://twitter.com/washingtonpost', 'https:...</td>\n",
       "      <td>361.0</td>\n",
       "    </tr>\n",
       "    <tr>\n",
       "      <th>494</th>\n",
       "      <td>['https://www.patreon.com/user?u=11797644', 'h...</td>\n",
       "      <td>351.0</td>\n",
       "    </tr>\n",
       "  </tbody>\n",
       "</table>\n",
       "<p>464 rows × 2 columns</p>\n",
       "</div>"
      ],
      "text/plain": [
       "                                                  urls    n_likes\n",
       "481  ['https://madisonbeer.lnk.to/selfish', 'https:...  1227003.0\n",
       "390  ['http://wwe.yt/wwenetwork', 'http://wwe.yt/',...  1100425.0\n",
       "452    ['https://www.youtube.com/watch?v=-t_pzplyvag']   560922.0\n",
       "523  ['https://supr.cl/playbrawl', 'https://supr.cl...   479638.0\n",
       "310  ['https://youtube.com/tomharlockvideos', 'http...   133422.0\n",
       "..                                                 ...        ...\n",
       "404                      ['www.patreon.com/darthnews']      377.0\n",
       "90   ['https://bit.ly/2txttsd', 'https://bit.ly/3mm...      373.0\n",
       "580  ['https://live.justgiving.com/pages/donate/520...      364.0\n",
       "498  ['https://twitter.com/washingtonpost', 'https:...      361.0\n",
       "494  ['https://www.patreon.com/user?u=11797644', 'h...      351.0\n",
       "\n",
       "[464 rows x 2 columns]"
      ]
     },
     "execution_count": 119,
     "metadata": {},
     "output_type": "execute_result"
    }
   ],
   "source": [
    "df_videos_dec_urls_top_likes[[\"urls\", \"n_likes\"]][~df_videos_dec_urls_top_likes[[\"urls\", \"n_likes\"]].duplicated()]"
   ]
  },
  {
   "cell_type": "markdown",
   "id": "dc0d5800",
   "metadata": {},
   "source": [
    "### comments"
   ]
  },
  {
   "cell_type": "code",
   "execution_count": 120,
   "id": "321513d9",
   "metadata": {},
   "outputs": [
    {
     "data": {
      "text/plain": [
       "count       596.000000\n",
       "mean       1484.771812\n",
       "std        6686.502712\n",
       "min           1.000000\n",
       "25%         162.000000\n",
       "50%         411.500000\n",
       "75%        1099.500000\n",
       "max      131021.000000\n",
       "Name: n_comments, dtype: float64"
      ]
     },
     "execution_count": 120,
     "metadata": {},
     "output_type": "execute_result"
    }
   ],
   "source": [
    "df_videos_dec_urls.n_comments.describe()"
   ]
  },
  {
   "cell_type": "code",
   "execution_count": 121,
   "id": "408ff7ac",
   "metadata": {},
   "outputs": [
    {
     "data": {
      "text/plain": [
       "131021.0"
      ]
     },
     "execution_count": 121,
     "metadata": {},
     "output_type": "execute_result"
    }
   ],
   "source": [
    "df_videos_dec_urls.n_comments.max()"
   ]
  },
  {
   "cell_type": "code",
   "execution_count": 122,
   "id": "01160cd6",
   "metadata": {},
   "outputs": [
    {
     "data": {
      "text/plain": [
       "<AxesSubplot:>"
      ]
     },
     "execution_count": 122,
     "metadata": {},
     "output_type": "execute_result"
    },
    {
     "data": {
      "image/png": "[encoded data removed]",
      "text/plain": [
       "<Figure size 432x288 with 1 Axes>"
      ]
     },
     "metadata": {
      "needs_background": "light"
     },
     "output_type": "display_data"
    }
   ],
   "source": [
    "df_videos_dec_urls.n_comments.plot()"
   ]
  },
  {
   "cell_type": "code",
   "execution_count": 123,
   "id": "e1136834",
   "metadata": {},
   "outputs": [
    {
     "data": {
      "text/plain": [
       "33.0      6\n",
       "7.0       5\n",
       "54.0      4\n",
       "12.0      4\n",
       "3.0       4\n",
       "         ..\n",
       "1228.0    1\n",
       "2014.0    1\n",
       "923.0     1\n",
       "66.0      1\n",
       "386.0     1\n",
       "Name: n_comments, Length: 463, dtype: int64"
      ]
     },
     "execution_count": 123,
     "metadata": {},
     "output_type": "execute_result"
    }
   ],
   "source": [
    "df_videos_dec_urls.n_comments.value_counts()"
   ]
  },
  {
   "cell_type": "code",
   "execution_count": 124,
   "id": "cccf594e",
   "metadata": {},
   "outputs": [],
   "source": [
    "df_videos_dec_urls_top_comments = df_videos_dec_urls[df_videos_dec_urls.n_comments > 200]"
   ]
  },
  {
   "cell_type": "code",
   "execution_count": 125,
   "id": "fba9cfdf",
   "metadata": {},
   "outputs": [],
   "source": [
    "df_videos_dec_urls_top_comments.sort_values(\"n_comments\", ascending=False, inplace=True)"
   ]
  },
  {
   "cell_type": "code",
   "execution_count": 126,
   "id": "c916355b",
   "metadata": {},
   "outputs": [
    {
     "data": {
      "text/html": [
       "<div>\n",
       "<style scoped>\n",
       "    .dataframe tbody tr th:only-of-type {\n",
       "        vertical-align: middle;\n",
       "    }\n",
       "\n",
       "    .dataframe tbody tr th {\n",
       "        vertical-align: top;\n",
       "    }\n",
       "\n",
       "    .dataframe thead th {\n",
       "        text-align: right;\n",
       "    }\n",
       "</style>\n",
       "<table border=\"1\" class=\"dataframe\">\n",
       "  <thead>\n",
       "    <tr style=\"text-align: right;\">\n",
       "      <th></th>\n",
       "      <th>urls</th>\n",
       "      <th>n_comments</th>\n",
       "    </tr>\n",
       "  </thead>\n",
       "  <tbody>\n",
       "    <tr>\n",
       "      <th>234</th>\n",
       "      <td>['http://bit.ly/ahsub', 'http://www.accessonli...</td>\n",
       "      <td>131021.0</td>\n",
       "    </tr>\n",
       "    <tr>\n",
       "      <th>452</th>\n",
       "      <td>['https://www.youtube.com/watch?v=-t_pzplyvag']</td>\n",
       "      <td>56272.0</td>\n",
       "    </tr>\n",
       "    <tr>\n",
       "      <th>376</th>\n",
       "      <td>['https://youtu.be/pbxtr41zftq', 'https://yout...</td>\n",
       "      <td>50772.0</td>\n",
       "    </tr>\n",
       "    <tr>\n",
       "      <th>481</th>\n",
       "      <td>['https://madisonbeer.lnk.to/selfish', 'https:...</td>\n",
       "      <td>40690.0</td>\n",
       "    </tr>\n",
       "    <tr>\n",
       "      <th>390</th>\n",
       "      <td>['http://wwe.yt/wwenetwork', 'http://wwe.yt/',...</td>\n",
       "      <td>20724.0</td>\n",
       "    </tr>\n",
       "    <tr>\n",
       "      <th>...</th>\n",
       "      <td>...</td>\n",
       "      <td>...</td>\n",
       "    </tr>\n",
       "    <tr>\n",
       "      <th>15</th>\n",
       "      <td>['https://www.youtube.com/watch?v=zytvthjqzls'...</td>\n",
       "      <td>209.0</td>\n",
       "    </tr>\n",
       "    <tr>\n",
       "      <th>498</th>\n",
       "      <td>['https://twitter.com/washingtonpost', 'https:...</td>\n",
       "      <td>208.0</td>\n",
       "    </tr>\n",
       "    <tr>\n",
       "      <th>534</th>\n",
       "      <td>['https://www.youtube.com/channel/uct4dtz67qo3...</td>\n",
       "      <td>208.0</td>\n",
       "    </tr>\n",
       "    <tr>\n",
       "      <th>367</th>\n",
       "      <td>['https://www.youtube.com/watch?v=jqng_fs5cyg&amp;...</td>\n",
       "      <td>205.0</td>\n",
       "    </tr>\n",
       "    <tr>\n",
       "      <th>32</th>\n",
       "      <td>['https://www.thehotline.org', 'https://www.yo...</td>\n",
       "      <td>203.0</td>\n",
       "    </tr>\n",
       "  </tbody>\n",
       "</table>\n",
       "<p>424 rows × 2 columns</p>\n",
       "</div>"
      ],
      "text/plain": [
       "                                                  urls  n_comments\n",
       "234  ['http://bit.ly/ahsub', 'http://www.accessonli...    131021.0\n",
       "452    ['https://www.youtube.com/watch?v=-t_pzplyvag']     56272.0\n",
       "376  ['https://youtu.be/pbxtr41zftq', 'https://yout...     50772.0\n",
       "481  ['https://madisonbeer.lnk.to/selfish', 'https:...     40690.0\n",
       "390  ['http://wwe.yt/wwenetwork', 'http://wwe.yt/',...     20724.0\n",
       "..                                                 ...         ...\n",
       "15   ['https://www.youtube.com/watch?v=zytvthjqzls'...       209.0\n",
       "498  ['https://twitter.com/washingtonpost', 'https:...       208.0\n",
       "534  ['https://www.youtube.com/channel/uct4dtz67qo3...       208.0\n",
       "367  ['https://www.youtube.com/watch?v=jqng_fs5cyg&...       205.0\n",
       "32   ['https://www.thehotline.org', 'https://www.yo...       203.0\n",
       "\n",
       "[424 rows x 2 columns]"
      ]
     },
     "execution_count": 126,
     "metadata": {},
     "output_type": "execute_result"
    }
   ],
   "source": [
    "df_videos_dec_urls_top_comments[[\"urls\", \"n_comments\"]][~df_videos_dec_urls_top_comments[[\"urls\", \"n_comments\"]].duplicated()]"
   ]
  },
  {
   "cell_type": "markdown",
   "id": "0d45b3e7",
   "metadata": {},
   "source": [
    "### favorites"
   ]
  },
  {
   "cell_type": "code",
   "execution_count": 127,
   "id": "9eeed9d3",
   "metadata": {},
   "outputs": [
    {
     "data": {
      "text/plain": [
       "count    596.0\n",
       "mean       0.0\n",
       "std        0.0\n",
       "min        0.0\n",
       "25%        0.0\n",
       "50%        0.0\n",
       "75%        0.0\n",
       "max        0.0\n",
       "Name: n_favorites, dtype: float64"
      ]
     },
     "execution_count": 127,
     "metadata": {},
     "output_type": "execute_result"
    }
   ],
   "source": [
    "df_videos_dec_urls.n_favorites.describe()"
   ]
  },
  {
   "cell_type": "code",
   "execution_count": 128,
   "id": "637d92d0",
   "metadata": {},
   "outputs": [
    {
     "data": {
      "text/plain": [
       "0"
      ]
     },
     "execution_count": 128,
     "metadata": {},
     "output_type": "execute_result"
    }
   ],
   "source": [
    "df_videos_dec_urls.n_favorites.max()"
   ]
  }
 ],
 "metadata": {
  "kernelspec": {
   "display_name": "Python 3",
   "language": "python",
   "name": "python3"
  },
  "language_info": {
   "codemirror_mode": {
    "name": "ipython",
    "version": 3
   },
   "file_extension": ".py",
   "mimetype": "text/x-python",
   "name": "python",
   "nbconvert_exporter": "python",
   "pygments_lexer": "ipython3",
   "version": "3.8.8"
  }
 },
 "nbformat": 4,
 "nbformat_minor": 5
}
