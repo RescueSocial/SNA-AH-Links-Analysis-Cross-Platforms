{
 "cells": [
  {
   "cell_type": "code",
   "execution_count": 1,
   "id": "01069275",
   "metadata": {},
   "outputs": [],
   "source": [
    "import pandas as pd\n",
    "import json\n",
    "import ast\n",
    "import warnings\n",
    "warnings.filterwarnings(\"ignore\")"
   ]
  },
  {
   "cell_type": "code",
   "execution_count": 2,
   "id": "c75629d2",
   "metadata": {},
   "outputs": [],
   "source": [
    "data_path = \"../../URLs_Data_Filteration/Twitter/\""
   ]
  },
  {
   "cell_type": "code",
   "execution_count": 3,
   "id": "b17dd2c3",
   "metadata": {},
   "outputs": [
    {
     "name": "stdout",
     "output_type": "stream",
     "text": [
      " Volume in drive D has no label.\n",
      " Volume Serial Number is 4623-EF98\n",
      "\n",
      " Directory of D:\\test\\mapbox-android-sample-master\\src\\New folder\\URLs_Data_Filteration\\Twitter\n",
      "\n",
      "01/31/2022  04:25 PM    <DIR>          .\n",
      "01/31/2022  04:25 PM    <DIR>          ..\n",
      "01/25/2022  12:13 PM       120,742,912 df_tweets_4_months_urls.csv\n",
      "01/25/2022  12:13 PM         1,730,038 df_tweets_4_months_urls_1_link.csv\n",
      "01/25/2022  11:41 AM           155,452 df_tweets_4_months_urls_more.csv\n",
      "01/25/2022  12:15 PM         7,660,662 df_tweets_dec_urls.csv\n",
      "01/25/2022  11:41 AM           625,219 df_tweets_dec_urls_1_link.csv\n",
      "01/25/2022  11:41 AM            50,284 df_tweets_dec_urls_more.csv\n",
      "01/31/2022  04:25 PM    <DIR>          notebooks\n",
      "01/31/2022  04:25 PM    <DIR>          Some_used_notebooks\n",
      "01/31/2022  04:25 PM    <DIR>          Unshorten_Data\n",
      "               6 File(s)    130,964,567 bytes\n",
      "               5 Dir(s)  42,454,265,856 bytes free\n"
     ]
    }
   ],
   "source": [
    "ls \"../../URLs_Data_Filteration/Twitter\""
   ]
  },
  {
   "cell_type": "code",
   "execution_count": 4,
   "id": "41d96975",
   "metadata": {},
   "outputs": [],
   "source": [
    "def save(set_, filepath):\n",
    "    with open(filepath, 'w') as f:\n",
    "        f.write(json.dumps(set_))\n",
    "\n",
    "def read(filepath):\n",
    "    with open(filepath, 'r') as f:\n",
    "        return json.loads(f.read())"
   ]
  },
  {
   "cell_type": "markdown",
   "id": "37cfa0cb",
   "metadata": {},
   "source": [
    "# Comments"
   ]
  },
  {
   "cell_type": "markdown",
   "id": "ac8bf7d7",
   "metadata": {},
   "source": [
    "## 4 Months"
   ]
  },
  {
   "cell_type": "code",
   "execution_count": 5,
   "id": "3f7ac1db",
   "metadata": {},
   "outputs": [],
   "source": [
    "df_comments_4_months_urls = pd.read_csv(data_path + \"df_tweets_4_months_urls.csv\")"
   ]
  },
  {
   "cell_type": "code",
   "execution_count": 6,
   "id": "16db0dc7",
   "metadata": {},
   "outputs": [
    {
     "data": {
      "text/html": [
       "<div>\n",
       "<style scoped>\n",
       "    .dataframe tbody tr th:only-of-type {\n",
       "        vertical-align: middle;\n",
       "    }\n",
       "\n",
       "    .dataframe tbody tr th {\n",
       "        vertical-align: top;\n",
       "    }\n",
       "\n",
       "    .dataframe thead th {\n",
       "        text-align: right;\n",
       "    }\n",
       "</style>\n",
       "<table border=\"1\" class=\"dataframe\">\n",
       "  <thead>\n",
       "    <tr style=\"text-align: right;\">\n",
       "      <th></th>\n",
       "      <th>id_str</th>\n",
       "      <th>created_at</th>\n",
       "      <th>full_text</th>\n",
       "      <th>lang</th>\n",
       "      <th>in_reply_to_status_id_str</th>\n",
       "      <th>in_reply_to_user_id</th>\n",
       "      <th>entities.hashtags</th>\n",
       "      <th>entities.media</th>\n",
       "      <th>entities.symbols</th>\n",
       "      <th>entities.urls</th>\n",
       "      <th>...</th>\n",
       "      <th>user.location</th>\n",
       "      <th>user.name</th>\n",
       "      <th>user.screen_name</th>\n",
       "      <th>user.profile_banner_url</th>\n",
       "      <th>user.profile_image_url</th>\n",
       "      <th>user.statuses_count</th>\n",
       "      <th>user.url</th>\n",
       "      <th>user.verified</th>\n",
       "      <th>urls</th>\n",
       "      <th>n_urls</th>\n",
       "    </tr>\n",
       "  </thead>\n",
       "  <tbody>\n",
       "    <tr>\n",
       "      <th>0</th>\n",
       "      <td>1345358697959047168</td>\n",
       "      <td>2021-01-02 13:18:03+00:00</td>\n",
       "      <td>@_missyc97_ 2021 to Amber Heard.😂 https://t.co...</td>\n",
       "      <td>en</td>\n",
       "      <td>1.345358e+18</td>\n",
       "      <td>1.083787e+18</td>\n",
       "      <td>[]</td>\n",
       "      <td>[{'original_info': {'width': 296, 'focus_rects...</td>\n",
       "      <td>[]</td>\n",
       "      <td>[]</td>\n",
       "      <td>...</td>\n",
       "      <td>NaN</td>\n",
       "      <td>Liono</td>\n",
       "      <td>f_liono</td>\n",
       "      <td>https://pbs.twimg.com/profile_banners/12438150...</td>\n",
       "      <td>http://pbs.twimg.com/profile_images/1384133945...</td>\n",
       "      <td>28996.0</td>\n",
       "      <td>NaN</td>\n",
       "      <td>False</td>\n",
       "      <td>['https://t.co/5djnLz36zv']</td>\n",
       "      <td>1</td>\n",
       "    </tr>\n",
       "  </tbody>\n",
       "</table>\n",
       "<p>1 rows × 41 columns</p>\n",
       "</div>"
      ],
      "text/plain": [
       "                id_str                 created_at  \\\n",
       "0  1345358697959047168  2021-01-02 13:18:03+00:00   \n",
       "\n",
       "                                           full_text lang  \\\n",
       "0  @_missyc97_ 2021 to Amber Heard.😂 https://t.co...   en   \n",
       "\n",
       "   in_reply_to_status_id_str  in_reply_to_user_id entities.hashtags  \\\n",
       "0               1.345358e+18         1.083787e+18                []   \n",
       "\n",
       "                                      entities.media entities.symbols  \\\n",
       "0  [{'original_info': {'width': 296, 'focus_rects...               []   \n",
       "\n",
       "  entities.urls  ... user.location user.name  user.screen_name  \\\n",
       "0            []  ...           NaN     Liono           f_liono   \n",
       "\n",
       "                             user.profile_banner_url  \\\n",
       "0  https://pbs.twimg.com/profile_banners/12438150...   \n",
       "\n",
       "                              user.profile_image_url user.statuses_count  \\\n",
       "0  http://pbs.twimg.com/profile_images/1384133945...             28996.0   \n",
       "\n",
       "   user.url  user.verified                         urls n_urls  \n",
       "0       NaN          False  ['https://t.co/5djnLz36zv']      1  \n",
       "\n",
       "[1 rows x 41 columns]"
      ]
     },
     "execution_count": 6,
     "metadata": {},
     "output_type": "execute_result"
    }
   ],
   "source": [
    "df_comments_4_months_urls.head(1)"
   ]
  },
  {
   "cell_type": "code",
   "execution_count": 7,
   "id": "2a4377ad",
   "metadata": {},
   "outputs": [
    {
     "data": {
      "text/plain": [
       "Index(['id_str', 'created_at', 'full_text', 'lang',\n",
       "       'in_reply_to_status_id_str', 'in_reply_to_user_id', 'entities.hashtags',\n",
       "       'entities.media', 'entities.symbols', 'entities.urls',\n",
       "       'entities.user_mentions', 'source', 'quoted_status.id_str',\n",
       "       'quoted_status.created_at', 'quoted_status.full_text',\n",
       "       'quoted_status.lang', 'quoted_status.in_reply_to_status_id_str',\n",
       "       'quoted_status.in_reply_to_user_id', 'quoted_status.entities.hashtags',\n",
       "       'quoted_status.entities.media', 'quoted_status.entities.symbols',\n",
       "       'quoted_status.entities.urls', 'quoted_status.entities.user_mentions',\n",
       "       'quoted_status.user.id_str', 'quoted_status.source', 'user.id_str',\n",
       "       'user.created_at', 'user.description', 'user.followers_count',\n",
       "       'user.friends_count', 'user.lang', 'user.location', 'user.name',\n",
       "       'user.screen_name', 'user.profile_banner_url', 'user.profile_image_url',\n",
       "       'user.statuses_count', 'user.url', 'user.verified', 'urls', 'n_urls'],\n",
       "      dtype='object')"
      ]
     },
     "execution_count": 7,
     "metadata": {},
     "output_type": "execute_result"
    }
   ],
   "source": [
    "df_comments_4_months_urls.columns"
   ]
  }
 ],
 "metadata": {
  "kernelspec": {
   "display_name": "Python 3",
   "language": "python",
   "name": "python3"
  },
  "language_info": {
   "codemirror_mode": {
    "name": "ipython",
    "version": 3
   },
   "file_extension": ".py",
   "mimetype": "text/x-python",
   "name": "python",
   "nbconvert_exporter": "python",
   "pygments_lexer": "ipython3",
   "version": "3.8.8"
  }
 },
 "nbformat": 4,
 "nbformat_minor": 5
}
