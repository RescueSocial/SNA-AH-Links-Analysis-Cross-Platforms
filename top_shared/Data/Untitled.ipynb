{
 "cells": [
  {
   "cell_type": "code",
   "execution_count": 2,
   "id": "6c4cde29",
   "metadata": {},
   "outputs": [],
   "source": [
    "import pandas as pd\n",
    "import os"
   ]
  },
  {
   "cell_type": "code",
   "execution_count": 8,
   "id": "1fd7526d",
   "metadata": {},
   "outputs": [
    {
     "data": {
      "text/plain": [
       "['_top_shared_4_months_all_platforms.csv', '_top_shared_dec_all_platforms.csv']"
      ]
     },
     "execution_count": 8,
     "metadata": {},
     "output_type": "execute_result"
    }
   ],
   "source": []
  },
  {
   "cell_type": "code",
   "execution_count": 10,
   "id": "3c0dd53f",
   "metadata": {},
   "outputs": [],
   "source": [
    "dfs = []\n",
    "for top in [i for i in os.listdir() if \"_top\" in i]:\n",
    "    dfs.append(pd.read_csv(top))"
   ]
  },
  {
   "cell_type": "code",
   "execution_count": 13,
   "id": "d07dfe8d",
   "metadata": {},
   "outputs": [],
   "source": [
    "df = pd.concat(dfs).drop(columns=\"Unnamed: 0\")"
   ]
  },
  {
   "cell_type": "code",
   "execution_count": 19,
   "id": "2c2fa139",
   "metadata": {},
   "outputs": [],
   "source": [
    "sample = df[(df.text.str.contains(\"amber heard\")) | (df.text.str.contains(\"johnny depp\"))]"
   ]
  },
  {
   "cell_type": "code",
   "execution_count": 21,
   "id": "b7a00ef9",
   "metadata": {},
   "outputs": [],
   "source": [
    "sample.to_csv(\"smaall_filterd_shared_urls.csv\", index=False)"
   ]
  },
  {
   "cell_type": "code",
   "execution_count": null,
   "id": "0e79da41",
   "metadata": {},
   "outputs": [],
   "source": []
  }
 ],
 "metadata": {
  "kernelspec": {
   "display_name": "Python 3 (ipykernel)",
   "language": "python",
   "name": "python3"
  },
  "language_info": {
   "codemirror_mode": {
    "name": "ipython",
    "version": 3
   },
   "file_extension": ".py",
   "mimetype": "text/x-python",
   "name": "python",
   "nbconvert_exporter": "python",
   "pygments_lexer": "ipython3",
   "version": "3.9.7"
  }
 },
 "nbformat": 4,
 "nbformat_minor": 5
}
