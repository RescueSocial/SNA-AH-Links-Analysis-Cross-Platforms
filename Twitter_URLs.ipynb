{
 "cells": [
  {
   "cell_type": "code",
   "execution_count": 1,
   "id": "726a693c",
   "metadata": {},
   "outputs": [],
   "source": [
    "from helpers import (\n",
    "    URLS,\n",
    "    get_urls,\n",
    "    urls_df,\n",
    "    one_link_df,\n",
    "    one_link_urls,\n",
    "    one_link_urls_with_count,\n",
    "    df_more_than_link, more_than_one_link_with_count\n",
    ")\n",
    "import pandas as pd\n",
    "import warnings\n",
    "warnings.filterwarnings(\"ignore\")"
   ]
  },
  {
   "cell_type": "markdown",
   "id": "8b56cd59",
   "metadata": {},
   "source": [
    "# Twitter Data URLs"
   ]
  },
  {
   "cell_type": "code",
   "execution_count": 2,
   "id": "2d321f99",
   "metadata": {},
   "outputs": [],
   "source": [
    "reddit_filter_path =  \"../URLS_Data/Twitter\""
   ]
  },
  {
   "cell_type": "markdown",
   "id": "98b6b525",
   "metadata": {},
   "source": [
    "## Table of Contents\n",
    "<ul>\n",
    "<li><a href=\"#Comments\"><b>Comments</b></a></li>\n",
    "<li><a href=\"#Posts\">Posts</a></li>\n",
    "</ul>"
   ]
  },
  {
   "cell_type": "code",
   "execution_count": 7,
   "id": "dc9936b8",
   "metadata": {},
   "outputs": [],
   "source": [
    "twitter_data_path =  \"../_Twitter - Data/\""
   ]
  },
  {
   "cell_type": "code",
   "execution_count": 8,
   "id": "baf7e185",
   "metadata": {},
   "outputs": [
    {
     "name": "stdout",
     "output_type": "stream",
     "text": [
      " Volume in drive D has no label.\n",
      " Volume Serial Number is 4623-EF98\n",
      "\n",
      " Directory of D:\\test\\mapbox-android-sample-master\\src\\New folder\\_Twitter - Data\n",
      "\n",
      "01/18/2022  10:58 PM    <DIR>          .\n",
      "01/18/2022  10:58 PM    <DIR>          ..\n",
      "08/01/2021  11:25 PM            11,055 2020_daily_creation.csv\n",
      "08/01/2021  11:25 PM            10,177 daily_creation18.csv\n",
      "08/01/2021  11:24 PM            10,288 daily_creation19.csv\n",
      "08/01/2021  11:24 PM             3,353 daily_creation21.csv\n",
      "08/01/2021  11:24 PM        21,390,363 data_2018.zip\n",
      "08/01/2021  11:24 PM        54,170,354 data_2019.zip\n",
      "08/01/2021  11:24 PM       125,356,342 data_2021.zip\n",
      "08/01/2021  11:25 PM       341,334,497 data_new.zip\n",
      "01/18/2022  10:55 PM    <DIR>          Retweets Data\n",
      "01/18/2022  10:56 PM    <DIR>          Retweets for Jan to Apr 2021\n",
      "08/01/2021  11:25 PM        41,381,163 tweets_2018.csv\n",
      "08/01/2021  11:24 PM        18,062,222 tweets_2018_lite.csv\n",
      "08/01/2021  11:24 PM       120,657,758 tweets_2019.csv\n",
      "08/01/2021  11:24 PM        49,407,408 tweets_2019_lite.csv\n",
      "08/01/2021  11:25 PM       160,400,236 tweets_2020_lite(1).csv\n",
      "08/01/2021  11:25 PM       324,384,951 tweets_2021(1).csv\n",
      "08/01/2021  11:25 PM       324,384,951 tweets_2021.csv\n",
      "08/01/2021  11:25 PM       114,687,864 tweets_2021_lite.csv\n",
      "08/01/2021  11:25 PM         5,741,978 users_2018.csv\n",
      "08/01/2021  11:25 PM        10,340,452 users_2019.csv\n",
      "08/01/2021  11:25 PM        13,455,471 users_2020.csv\n",
      "08/01/2021  11:25 PM           484,572 users_created_in_2018.csv\n",
      "08/01/2021  11:25 PM           595,910 users_created_in_2019.csv\n",
      "08/01/2021  11:25 PM         2,099,166 users_created_in_2020.csv\n",
      "              22 File(s)  1,728,370,531 bytes\n",
      "               4 Dir(s)  46,770,814,976 bytes free\n"
     ]
    }
   ],
   "source": [
    "ls \"../_Twitter - Data/\""
   ]
  },
  {
   "cell_type": "markdown",
   "id": "9598ae2d",
   "metadata": {},
   "source": [
    "<a id='Tweets'></a>\n",
    "\n",
    "## Tweets\n",
    "\n",
    "\n",
    "><ul>\n",
    " <li><a href=\"#4\">4 Months</a></li>\n",
    " <li><a href=\"#12\">December</a></li>  \n",
    "\n",
    " </ul>"
   ]
  },
  {
   "cell_type": "code",
   "execution_count": 9,
   "id": "66814ae9",
   "metadata": {},
   "outputs": [],
   "source": [
    "df_tweets_21 = pd.read_csv(twitter_data_path + \"tweets_2021.csv\")"
   ]
  },
  {
   "cell_type": "code",
   "execution_count": 10,
   "id": "e7d33438",
   "metadata": {},
   "outputs": [
    {
     "data": {
      "text/html": [
       "<div>\n",
       "<style scoped>\n",
       "    .dataframe tbody tr th:only-of-type {\n",
       "        vertical-align: middle;\n",
       "    }\n",
       "\n",
       "    .dataframe tbody tr th {\n",
       "        vertical-align: top;\n",
       "    }\n",
       "\n",
       "    .dataframe thead th {\n",
       "        text-align: right;\n",
       "    }\n",
       "</style>\n",
       "<table border=\"1\" class=\"dataframe\">\n",
       "  <thead>\n",
       "    <tr style=\"text-align: right;\">\n",
       "      <th></th>\n",
       "      <th>id_str</th>\n",
       "      <th>created_at</th>\n",
       "      <th>full_text</th>\n",
       "      <th>lang</th>\n",
       "      <th>in_reply_to_status_id_str</th>\n",
       "      <th>in_reply_to_user_id</th>\n",
       "      <th>entities.hashtags</th>\n",
       "      <th>entities.media</th>\n",
       "      <th>entities.symbols</th>\n",
       "      <th>entities.urls</th>\n",
       "      <th>...</th>\n",
       "      <th>user.friends_count</th>\n",
       "      <th>user.lang</th>\n",
       "      <th>user.location</th>\n",
       "      <th>user.name</th>\n",
       "      <th>user.screen_name</th>\n",
       "      <th>user.profile_banner_url</th>\n",
       "      <th>user.profile_image_url</th>\n",
       "      <th>user.statuses_count</th>\n",
       "      <th>user.url</th>\n",
       "      <th>user.verified</th>\n",
       "    </tr>\n",
       "  </thead>\n",
       "  <tbody>\n",
       "    <tr>\n",
       "      <th>0</th>\n",
       "      <td>1345359931550134272</td>\n",
       "      <td>2021-01-02 13:22:57+00:00</td>\n",
       "      <td>So ready ✨ for the next #DeppMovieNight\\n\\nFil...</td>\n",
       "      <td>en</td>\n",
       "      <td>NaN</td>\n",
       "      <td>NaN</td>\n",
       "      <td>[{'indices': [24, 39], 'text': 'DeppMovieNight...</td>\n",
       "      <td>NaN</td>\n",
       "      <td>[]</td>\n",
       "      <td>[]</td>\n",
       "      <td>...</td>\n",
       "      <td>544.0</td>\n",
       "      <td>NaN</td>\n",
       "      <td>South West, England</td>\n",
       "      <td>🏴‍☠️ Tongo Bozzie 🏴‍☠️</td>\n",
       "      <td>Noneofthemknew1</td>\n",
       "      <td>https://pbs.twimg.com/profile_banners/13190075...</td>\n",
       "      <td>http://pbs.twimg.com/profile_images/1384638730...</td>\n",
       "      <td>20334.0</td>\n",
       "      <td>NaN</td>\n",
       "      <td>False</td>\n",
       "    </tr>\n",
       "    <tr>\n",
       "      <th>1</th>\n",
       "      <td>1345359929507459075</td>\n",
       "      <td>2021-01-02 13:22:57+00:00</td>\n",
       "      <td>#Johnuary #DeppMovieNight #JusticeForJohnnyDep...</td>\n",
       "      <td>und</td>\n",
       "      <td>NaN</td>\n",
       "      <td>NaN</td>\n",
       "      <td>[{'indices': [0, 9], 'text': 'Johnuary'}, {'in...</td>\n",
       "      <td>NaN</td>\n",
       "      <td>[]</td>\n",
       "      <td>[]</td>\n",
       "      <td>...</td>\n",
       "      <td>52.0</td>\n",
       "      <td>NaN</td>\n",
       "      <td>France</td>\n",
       "      <td>Nor33 🇫🇷</td>\n",
       "      <td>Angiex0101</td>\n",
       "      <td>NaN</td>\n",
       "      <td>http://pbs.twimg.com/profile_images/1384567498...</td>\n",
       "      <td>13101.0</td>\n",
       "      <td>NaN</td>\n",
       "      <td>False</td>\n",
       "    </tr>\n",
       "  </tbody>\n",
       "</table>\n",
       "<p>2 rows × 39 columns</p>\n",
       "</div>"
      ],
      "text/plain": [
       "                id_str                 created_at  \\\n",
       "0  1345359931550134272  2021-01-02 13:22:57+00:00   \n",
       "1  1345359929507459075  2021-01-02 13:22:57+00:00   \n",
       "\n",
       "                                           full_text lang  \\\n",
       "0  So ready ✨ for the next #DeppMovieNight\\n\\nFil...   en   \n",
       "1  #Johnuary #DeppMovieNight #JusticeForJohnnyDep...  und   \n",
       "\n",
       "  in_reply_to_status_id_str in_reply_to_user_id  \\\n",
       "0                       NaN                 NaN   \n",
       "1                       NaN                 NaN   \n",
       "\n",
       "                                   entities.hashtags entities.media  \\\n",
       "0  [{'indices': [24, 39], 'text': 'DeppMovieNight...            NaN   \n",
       "1  [{'indices': [0, 9], 'text': 'Johnuary'}, {'in...            NaN   \n",
       "\n",
       "  entities.symbols entities.urls  ... user.friends_count user.lang  \\\n",
       "0               []            []  ...              544.0       NaN   \n",
       "1               []            []  ...               52.0       NaN   \n",
       "\n",
       "         user.location               user.name user.screen_name  \\\n",
       "0  South West, England  🏴‍☠️ Tongo Bozzie 🏴‍☠️  Noneofthemknew1   \n",
       "1               France                Nor33 🇫🇷       Angiex0101   \n",
       "\n",
       "                             user.profile_banner_url  \\\n",
       "0  https://pbs.twimg.com/profile_banners/13190075...   \n",
       "1                                                NaN   \n",
       "\n",
       "                              user.profile_image_url  user.statuses_count  \\\n",
       "0  http://pbs.twimg.com/profile_images/1384638730...              20334.0   \n",
       "1  http://pbs.twimg.com/profile_images/1384567498...              13101.0   \n",
       "\n",
       "  user.url user.verified  \n",
       "0      NaN         False  \n",
       "1      NaN         False  \n",
       "\n",
       "[2 rows x 39 columns]"
      ]
     },
     "execution_count": 10,
     "metadata": {},
     "output_type": "execute_result"
    }
   ],
   "source": [
    "df_tweets_21.head(2)"
   ]
  },
  {
   "cell_type": "code",
   "execution_count": null,
   "id": "954e2920",
   "metadata": {},
   "outputs": [],
   "source": []
  },
  {
   "cell_type": "code",
   "execution_count": null,
   "id": "12b1702c",
   "metadata": {},
   "outputs": [],
   "source": []
  },
  {
   "cell_type": "code",
   "execution_count": 4,
   "id": "4b4cf30d",
   "metadata": {},
   "outputs": [],
   "source": [
    "df_reddit_20 = pd.read_csv(reddit_data_path + \"reddit_2020.csv\")"
   ]
  },
  {
   "cell_type": "code",
   "execution_count": 5,
   "id": "2213ac35",
   "metadata": {},
   "outputs": [],
   "source": [
    "df_reddit_21 = pd.read_csv(reddit_data_path + \"reddit_2021.csv\")"
   ]
  },
  {
   "cell_type": "code",
   "execution_count": 6,
   "id": "798d2bff",
   "metadata": {},
   "outputs": [
    {
     "data": {
      "text/html": [
       "<div>\n",
       "<style scoped>\n",
       "    .dataframe tbody tr th:only-of-type {\n",
       "        vertical-align: middle;\n",
       "    }\n",
       "\n",
       "    .dataframe tbody tr th {\n",
       "        vertical-align: top;\n",
       "    }\n",
       "\n",
       "    .dataframe thead th {\n",
       "        text-align: right;\n",
       "    }\n",
       "</style>\n",
       "<table border=\"1\" class=\"dataframe\">\n",
       "  <thead>\n",
       "    <tr style=\"text-align: right;\">\n",
       "      <th></th>\n",
       "      <th>_index</th>\n",
       "      <th>_type</th>\n",
       "      <th>_id</th>\n",
       "      <th>_score</th>\n",
       "      <th>id</th>\n",
       "      <th>name</th>\n",
       "      <th>permalink</th>\n",
       "      <th>text</th>\n",
       "      <th>parent_id</th>\n",
       "      <th>subreddit</th>\n",
       "      <th>author</th>\n",
       "      <th>created_at</th>\n",
       "      <th>entities.urls</th>\n",
       "      <th>sentiment_blob</th>\n",
       "      <th>sentiment_nltk</th>\n",
       "    </tr>\n",
       "  </thead>\n",
       "  <tbody>\n",
       "    <tr>\n",
       "      <th>0</th>\n",
       "      <td>reddit</td>\n",
       "      <td>_doc</td>\n",
       "      <td>iVjxa3oBZsCJ_ScUg-Dh</td>\n",
       "      <td>1.0</td>\n",
       "      <td>ewweg2</td>\n",
       "      <td>t3_ewweg2</td>\n",
       "      <td>/r/MensRights/comments/ewweg2/amber_heard_admi...</td>\n",
       "      <td>Amber Heard admits to 'hitting' ex-husband Joh...</td>\n",
       "      <td>NaN</td>\n",
       "      <td>r/MensRights</td>\n",
       "      <td>furchfur</td>\n",
       "      <td>Fri Jan 31 22:45:00 +0000 2020</td>\n",
       "      <td>[]</td>\n",
       "      <td>Negative</td>\n",
       "      <td>Neutral</td>\n",
       "    </tr>\n",
       "  </tbody>\n",
       "</table>\n",
       "</div>"
      ],
      "text/plain": [
       "   _index _type                   _id  _score      id       name  \\\n",
       "0  reddit  _doc  iVjxa3oBZsCJ_ScUg-Dh     1.0  ewweg2  t3_ewweg2   \n",
       "\n",
       "                                           permalink  \\\n",
       "0  /r/MensRights/comments/ewweg2/amber_heard_admi...   \n",
       "\n",
       "                                                text parent_id     subreddit  \\\n",
       "0  Amber Heard admits to 'hitting' ex-husband Joh...       NaN  r/MensRights   \n",
       "\n",
       "     author                      created_at entities.urls sentiment_blob  \\\n",
       "0  furchfur  Fri Jan 31 22:45:00 +0000 2020            []       Negative   \n",
       "\n",
       "  sentiment_nltk  \n",
       "0        Neutral  "
      ]
     },
     "execution_count": 6,
     "metadata": {},
     "output_type": "execute_result"
    }
   ],
   "source": [
    "df_reddit_20.head(1)"
   ]
  },
  {
   "cell_type": "code",
   "execution_count": 7,
   "id": "c054ca44",
   "metadata": {},
   "outputs": [
    {
     "data": {
      "text/html": [
       "<div>\n",
       "<style scoped>\n",
       "    .dataframe tbody tr th:only-of-type {\n",
       "        vertical-align: middle;\n",
       "    }\n",
       "\n",
       "    .dataframe tbody tr th {\n",
       "        vertical-align: top;\n",
       "    }\n",
       "\n",
       "    .dataframe thead th {\n",
       "        text-align: right;\n",
       "    }\n",
       "</style>\n",
       "<table border=\"1\" class=\"dataframe\">\n",
       "  <thead>\n",
       "    <tr style=\"text-align: right;\">\n",
       "      <th></th>\n",
       "      <th>_index</th>\n",
       "      <th>_type</th>\n",
       "      <th>_id</th>\n",
       "      <th>_score</th>\n",
       "      <th>id</th>\n",
       "      <th>name</th>\n",
       "      <th>permalink</th>\n",
       "      <th>text</th>\n",
       "      <th>parent_id</th>\n",
       "      <th>subreddit</th>\n",
       "      <th>author</th>\n",
       "      <th>created_at</th>\n",
       "      <th>entities.urls</th>\n",
       "      <th>sentiment_blob</th>\n",
       "      <th>sentiment_nltk</th>\n",
       "    </tr>\n",
       "  </thead>\n",
       "  <tbody>\n",
       "    <tr>\n",
       "      <th>0</th>\n",
       "      <td>reddit</td>\n",
       "      <td>_doc</td>\n",
       "      <td>YVa2ZnoBZsCJ_ScUHdu9</td>\n",
       "      <td>1.0</td>\n",
       "      <td>l9bdw3</td>\n",
       "      <td>t3_l9bdw3</td>\n",
       "      <td>/r/TIHI/comments/l9bdw3/thanks_i_hate_johnny_d...</td>\n",
       "      <td>Thanks, I hate Johnny Depp replacing Amber Heard</td>\n",
       "      <td>NaN</td>\n",
       "      <td>r/TIHI</td>\n",
       "      <td>ohshahab</td>\n",
       "      <td>Sun Jan 31 12:28:23 +0000 2021</td>\n",
       "      <td>[]</td>\n",
       "      <td>Negative</td>\n",
       "      <td>Neutral</td>\n",
       "    </tr>\n",
       "  </tbody>\n",
       "</table>\n",
       "</div>"
      ],
      "text/plain": [
       "   _index _type                   _id  _score      id       name  \\\n",
       "0  reddit  _doc  YVa2ZnoBZsCJ_ScUHdu9     1.0  l9bdw3  t3_l9bdw3   \n",
       "\n",
       "                                           permalink  \\\n",
       "0  /r/TIHI/comments/l9bdw3/thanks_i_hate_johnny_d...   \n",
       "\n",
       "                                               text parent_id subreddit  \\\n",
       "0  Thanks, I hate Johnny Depp replacing Amber Heard       NaN    r/TIHI   \n",
       "\n",
       "     author                      created_at entities.urls sentiment_blob  \\\n",
       "0  ohshahab  Sun Jan 31 12:28:23 +0000 2021            []       Negative   \n",
       "\n",
       "  sentiment_nltk  \n",
       "0        Neutral  "
      ]
     },
     "execution_count": 7,
     "metadata": {},
     "output_type": "execute_result"
    }
   ],
   "source": [
    "df_reddit_21.head(1)"
   ]
  },
  {
   "cell_type": "code",
   "execution_count": 8,
   "id": "272cc9bf",
   "metadata": {},
   "outputs": [],
   "source": [
    "df_reddit_20[\"created_at\"] = pd.to_datetime(df_reddit_20.created_at)\n",
    "df_reddit_21[\"created_at\"] = pd.to_datetime(df_reddit_21.created_at)"
   ]
  },
  {
   "cell_type": "code",
   "execution_count": 9,
   "id": "08e9227f",
   "metadata": {},
   "outputs": [],
   "source": [
    "urls_reddits_20 = URLS(df_reddit_20)\n",
    "urls_reddits_21 = URLS(df_reddit_21)"
   ]
  },
  {
   "cell_type": "code",
   "execution_count": 10,
   "id": "48a7a1e4",
   "metadata": {},
   "outputs": [],
   "source": [
    "# 4 months data\n",
    "df_reddit_4_months = urls_reddits_21.months_filteration(\n",
    "    datetime_column=\"created_at\", start=\"2021-01-01 00:00:00\", end=\"2021-05-01 00:00:00\"\n",
    ")"
   ]
  },
  {
   "cell_type": "code",
   "execution_count": 11,
   "id": "cc374810",
   "metadata": {},
   "outputs": [],
   "source": [
    "# dec data\n",
    "df_reddit_dec = urls_reddits_20.months_filteration(\n",
    "    datetime_column=\"created_at\", start=\"2020-12-01 00:00:00\", end=\"2021-01-01 00:00:00\"\n",
    ")"
   ]
  },
  {
   "cell_type": "code",
   "execution_count": 12,
   "id": "b8d0032f",
   "metadata": {},
   "outputs": [
    {
     "data": {
      "text/plain": [
       "(Timestamp('2021-01-01 00:21:46+0000', tz='UTC'),\n",
       " Timestamp('2021-04-30 23:34:17+0000', tz='UTC'))"
      ]
     },
     "execution_count": 12,
     "metadata": {},
     "output_type": "execute_result"
    }
   ],
   "source": [
    "df_reddit_4_months.created_at.min(), df_reddit_4_months.created_at.max()"
   ]
  },
  {
   "cell_type": "code",
   "execution_count": 13,
   "id": "2a5ebaa6",
   "metadata": {},
   "outputs": [
    {
     "data": {
      "text/plain": [
       "(Timestamp('2020-12-01 00:00:25+0000', tz='UTC'),\n",
       " Timestamp('2020-12-31 23:48:00+0000', tz='UTC'))"
      ]
     },
     "execution_count": 13,
     "metadata": {},
     "output_type": "execute_result"
    }
   ],
   "source": [
    "df_reddit_dec.created_at.min(), df_reddit_dec.created_at.max()"
   ]
  },
  {
   "cell_type": "markdown",
   "id": "ad2d6ef8",
   "metadata": {},
   "source": [
    "### 4 Months\n",
    "<a id='4'></a>\n",
    "\n",
    "\n",
    "><ul>\n",
    " <li><a href=\"#one4\">One Link</a></li>\n",
    " <li><a href=\"#more4\">More Than One Link</a></li>  \n",
    "\n",
    " </ul>"
   ]
  },
  {
   "cell_type": "code",
   "execution_count": 14,
   "id": "ffd6f4a4",
   "metadata": {},
   "outputs": [
    {
     "data": {
      "text/plain": [
       "15259"
      ]
     },
     "execution_count": 14,
     "metadata": {},
     "output_type": "execute_result"
    }
   ],
   "source": [
    "df_reddit_4_months.shape[0]"
   ]
  },
  {
   "cell_type": "code",
   "execution_count": 14,
   "id": "bf390cb7",
   "metadata": {},
   "outputs": [],
   "source": [
    "df_reddit_4_months.drop_duplicates(inplace=True)"
   ]
  },
  {
   "cell_type": "code",
   "execution_count": 15,
   "id": "effee2a1",
   "metadata": {},
   "outputs": [],
   "source": [
    "df_reddit_dec.drop_duplicates(inplace=True)"
   ]
  },
  {
   "cell_type": "code",
   "execution_count": null,
   "id": "4e6664d8",
   "metadata": {},
   "outputs": [],
   "source": [
    "df_reddit_4_months[\"urls\"] = df_reddit_4_months.text.astype(str).apply(lambda x: get_urls(x))"
   ]
  },
  {
   "cell_type": "code",
   "execution_count": null,
   "id": "b30bbb17",
   "metadata": {},
   "outputs": [],
   "source": [
    "df_reddit_4_months[\"n_urls\"] = df_reddit_4_months.urls.apply(lambda x: len(x))"
   ]
  },
  {
   "cell_type": "code",
   "execution_count": null,
   "id": "2212e63b",
   "metadata": {},
   "outputs": [],
   "source": [
    "df_reddit_4_months_urls = urls_df(df_reddit_4_months)"
   ]
  },
  {
   "cell_type": "code",
   "execution_count": null,
   "id": "1309b9c1",
   "metadata": {},
   "outputs": [],
   "source": [
    "df_reddit_4_months_urls.head(10)"
   ]
  },
  {
   "cell_type": "code",
   "execution_count": null,
   "id": "163b593e",
   "metadata": {},
   "outputs": [],
   "source": [
    "# save data\n",
    "df_reddit_4_months_urls.to_csv(\n",
    "    reddit_filter_path + \"df_reddits_4_months_urls.csv\", index=False\n",
    ")"
   ]
  },
  {
   "cell_type": "markdown",
   "id": "205bb7fc",
   "metadata": {},
   "source": [
    "<a id='one4'></a>\n",
    "#### One Link\n",
    "\n",
    "><ul>\n",
    " <li><a href=\"#one4\">One Link</a></li>\n",
    " <li><a href=\"#more4\">More Than One Link</a></li>  \n",
    "\n",
    " </ul>\n"
   ]
  },
  {
   "cell_type": "code",
   "execution_count": null,
   "id": "bbd5140c",
   "metadata": {},
   "outputs": [],
   "source": [
    "df_reddit_4_months_urls_1_link = one_link_df(df_reddit_4_months_urls)"
   ]
  },
  {
   "cell_type": "code",
   "execution_count": null,
   "id": "92f820d0",
   "metadata": {},
   "outputs": [],
   "source": [
    "df_reddit_4_months_urls_1_link.head(1)"
   ]
  },
  {
   "cell_type": "code",
   "execution_count": null,
   "id": "e7ffe4be",
   "metadata": {},
   "outputs": [],
   "source": [
    "list_reddit_4_months_urls_1_link = one_link_urls(df_reddit_4_months_urls_1_link)"
   ]
  },
  {
   "cell_type": "code",
   "execution_count": null,
   "id": "36e23503",
   "metadata": {},
   "outputs": [],
   "source": [
    "list_reddit_4_months_urls_1_link"
   ]
  },
  {
   "cell_type": "code",
   "execution_count": null,
   "id": "ce20bf2b",
   "metadata": {},
   "outputs": [],
   "source": [
    "df_reddit_4_months_urls_1_link.head(1)"
   ]
  },
  {
   "cell_type": "code",
   "execution_count": null,
   "id": "84b46966",
   "metadata": {},
   "outputs": [],
   "source": [
    "df_reddit_4_months_urls_1_link_ith_users_count = one_link_urls_with_count(\n",
    "    df_reddit_4_months_urls_1_link, user_column=\"author\", url_column=\"url\"\n",
    ")"
   ]
  },
  {
   "cell_type": "code",
   "execution_count": null,
   "id": "1d4d286b",
   "metadata": {},
   "outputs": [],
   "source": [
    "df_reddit_4_months_urls_1_link_ith_users_count"
   ]
  },
  {
   "cell_type": "code",
   "execution_count": null,
   "id": "26131532",
   "metadata": {},
   "outputs": [],
   "source": [
    "df_reddit_4_months_urls_1_link_ith_users_count.to_csv(\n",
    "    reddit_filter_path\n",
    "    + \"df_reddits_4_months_urls_1_link.csv\",\n",
    "    index=False,\n",
    ")"
   ]
  },
  {
   "cell_type": "markdown",
   "id": "b9c23edf",
   "metadata": {},
   "source": [
    "<a id='more4'></a>\n",
    "#### More Than One Link\n",
    "\n",
    "><ul>\n",
    " <li><a href=\"#one4\">One Link</a></li>\n",
    " <li><a href=\"#more4\">More Than One Link</a></li>  \n",
    "\n",
    " </ul>\n",
    "\n"
   ]
  },
  {
   "cell_type": "code",
   "execution_count": null,
   "id": "37561631",
   "metadata": {},
   "outputs": [],
   "source": [
    "df_reddits_4_months_urls_more = df_more_than_link(df_reddit_4_months_urls)"
   ]
  },
  {
   "cell_type": "code",
   "execution_count": null,
   "id": "42325750",
   "metadata": {},
   "outputs": [],
   "source": [
    "df_reddits_4_months_urls_more.head(2)"
   ]
  },
  {
   "cell_type": "code",
   "execution_count": null,
   "id": "01c0b1cb",
   "metadata": {},
   "outputs": [],
   "source": [
    "df_reddits_4_months_urls_more_link_with_users_count = more_than_one_link_with_count(df_reddits_4_months_urls_more,\n",
    "                             \"author\",\n",
    "                             \"urls\")"
   ]
  },
  {
   "cell_type": "code",
   "execution_count": null,
   "id": "7048c88b",
   "metadata": {},
   "outputs": [],
   "source": [
    "df_reddits_4_months_urls_more_link_with_users_count.to_csv(\n",
    "    reddit_filter_path\n",
    "    + \"df_reddits_4_months_urls_more.csv\",\n",
    "    index=False,\n",
    ")"
   ]
  },
  {
   "cell_type": "markdown",
   "id": "f92b6f3a",
   "metadata": {},
   "source": [
    "### December\n",
    "<a id='12'></a>\n",
    "\n",
    "\n",
    "><ul>\n",
    " <li><a href=\"#one12\">One Link</a></li>\n",
    " <li><a href=\"#more12\">More Than One Link</a></li>  \n",
    "\n",
    " </ul>"
   ]
  },
  {
   "cell_type": "code",
   "execution_count": null,
   "id": "4996582f",
   "metadata": {},
   "outputs": [],
   "source": [
    "df_reddit_dec[\"urls\"] = df_reddit_dec.text.apply(lambda x: get_urls(x))"
   ]
  },
  {
   "cell_type": "code",
   "execution_count": null,
   "id": "0f5594ca",
   "metadata": {},
   "outputs": [],
   "source": [
    "df_reddit_dec[\"n_urls\"] = df_reddit_dec.urls.apply(lambda x: len(x))"
   ]
  },
  {
   "cell_type": "code",
   "execution_count": null,
   "id": "0cf8ce5e",
   "metadata": {},
   "outputs": [],
   "source": [
    "df_reddit_dec_urls = urls_df(df_reddit_dec)"
   ]
  },
  {
   "cell_type": "code",
   "execution_count": null,
   "id": "19a90542",
   "metadata": {},
   "outputs": [],
   "source": [
    "df_reddit_dec_urls.head(5)"
   ]
  },
  {
   "cell_type": "code",
   "execution_count": null,
   "id": "53223395",
   "metadata": {},
   "outputs": [],
   "source": [
    "# save data\n",
    "df_reddit_dec_urls.to_csv(\n",
    "    reddit_filter_path + \"df_reddits_dec_urls.csv\", index=False\n",
    ")"
   ]
  },
  {
   "cell_type": "markdown",
   "id": "e386243e",
   "metadata": {},
   "source": [
    "<a id='one12'></a>\n",
    "#### One Link\n",
    "\n",
    "><ul>\n",
    " <li><a href=\"#one12\">One Link</a></li>\n",
    " <li><a href=\"#more12\">More Than One Link</a></li>  \n",
    "\n",
    " </ul>\n"
   ]
  },
  {
   "cell_type": "code",
   "execution_count": null,
   "id": "430b3825",
   "metadata": {},
   "outputs": [],
   "source": [
    "df_reddit_dec_urls_1_link = one_link_df(df_reddit_dec_urls)"
   ]
  },
  {
   "cell_type": "code",
   "execution_count": null,
   "id": "eb6ec772",
   "metadata": {},
   "outputs": [],
   "source": [
    "df_reddit_dec_urls_1_link.head(1)"
   ]
  },
  {
   "cell_type": "code",
   "execution_count": null,
   "id": "0c6ff838",
   "metadata": {},
   "outputs": [],
   "source": [
    "list_reddit_dec_urls_1_link = one_link_urls(df_reddit_dec_urls_1_link)"
   ]
  },
  {
   "cell_type": "code",
   "execution_count": null,
   "id": "b24f8a78",
   "metadata": {},
   "outputs": [],
   "source": [
    "list_reddit_dec_urls_1_link"
   ]
  },
  {
   "cell_type": "code",
   "execution_count": null,
   "id": "29c0e894",
   "metadata": {},
   "outputs": [],
   "source": [
    "df_reddit_dec_urls_1_link_ith_users_count = one_link_urls_with_count(\n",
    "    df_reddit_dec_urls_1_link, user_column=\"author\", url_column=\"url\"\n",
    ")"
   ]
  },
  {
   "cell_type": "code",
   "execution_count": null,
   "id": "92901846",
   "metadata": {},
   "outputs": [],
   "source": [
    "df_reddit_dec_urls_1_link_ith_users_count"
   ]
  },
  {
   "cell_type": "code",
   "execution_count": null,
   "id": "a33d7e0c",
   "metadata": {},
   "outputs": [],
   "source": [
    "# save data\n",
    "df_reddit_dec_urls_1_link_ith_users_count.to_csv(\n",
    "    reddit_filter_path\n",
    "    + \"df_reddits_dec_urls_1_link.csv\",\n",
    "    index=False,\n",
    ")"
   ]
  },
  {
   "cell_type": "markdown",
   "id": "5153bda7",
   "metadata": {},
   "source": [
    "<a id='more4'></a>\n",
    "#### More Than One Link\n",
    "\n",
    "><ul>\n",
    " <li><a href=\"#one4\">One Link</a></li>\n",
    " <li><a href=\"#more4\">More Than One Link</a></li>  \n",
    "\n",
    " </ul>\n",
    "\n"
   ]
  },
  {
   "cell_type": "code",
   "execution_count": null,
   "id": "7a61bfe7",
   "metadata": {},
   "outputs": [],
   "source": [
    "df_reddits_dec_urls_urls_more = df_more_than_link(df_reddit_dec_urls)"
   ]
  },
  {
   "cell_type": "code",
   "execution_count": null,
   "id": "c64fbcec",
   "metadata": {},
   "outputs": [],
   "source": [
    "df_reddits_dec_urls_urls_more.head(2)"
   ]
  },
  {
   "cell_type": "code",
   "execution_count": null,
   "id": "3a1a93fa",
   "metadata": {},
   "outputs": [],
   "source": [
    "df_reddits_dec_urls_urls_more_with_users_count = more_than_one_link_with_count(df_reddits_dec_urls_urls_more,\n",
    "                             \"author\",\n",
    "                             \"urls\")"
   ]
  },
  {
   "cell_type": "code",
   "execution_count": 44,
   "id": "ae7c221c",
   "metadata": {},
   "outputs": [],
   "source": [
    "df_reddits_dec_urls_urls_more_with_users_count.to_csv(\n",
    "    reddit_filter_path\n",
    "    + \"df_reddits_dec_urls_more.csv\",\n",
    "    index=False,\n",
    ")"
   ]
  }
 ],
 "metadata": {
  "kernelspec": {
   "display_name": "Python 3",
   "language": "python",
   "name": "python3"
  },
  "language_info": {
   "codemirror_mode": {
    "name": "ipython",
    "version": 3
   },
   "file_extension": ".py",
   "mimetype": "text/x-python",
   "name": "python",
   "nbconvert_exporter": "python",
   "pygments_lexer": "ipython3",
   "version": "3.8.8"
  }
 },
 "nbformat": 4,
 "nbformat_minor": 5
}
