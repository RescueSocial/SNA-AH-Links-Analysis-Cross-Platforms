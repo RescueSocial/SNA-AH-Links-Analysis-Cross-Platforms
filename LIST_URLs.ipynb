{
 "cells": [
  {
   "cell_type": "code",
   "execution_count": 1,
   "id": "43a9f250",
   "metadata": {},
   "outputs": [],
   "source": [
    "import pandas as pd"
   ]
  },
  {
   "cell_type": "code",
   "execution_count": 6,
   "id": "c48ceb58",
   "metadata": {},
   "outputs": [],
   "source": [
    "saving = \"URLs_Lists/\""
   ]
  },
  {
   "cell_type": "code",
   "execution_count": 17,
   "id": "9574309c",
   "metadata": {},
   "outputs": [],
   "source": [
    "def saving_list(df, column, name):\n",
    "    with open(saving + f\"{name}.txt\", \"w\") as f:\n",
    "        f.write(str(list(df[column].values)))"
   ]
  },
  {
   "cell_type": "markdown",
   "id": "78b6a232",
   "metadata": {},
   "source": [
    "## top interacted data"
   ]
  },
  {
   "cell_type": "code",
   "execution_count": 18,
   "id": "b7d9023b",
   "metadata": {},
   "outputs": [
    {
     "data": {
      "text/html": [
       "<div>\n",
       "<style scoped>\n",
       "    .dataframe tbody tr th:only-of-type {\n",
       "        vertical-align: middle;\n",
       "    }\n",
       "\n",
       "    .dataframe tbody tr th {\n",
       "        vertical-align: top;\n",
       "    }\n",
       "\n",
       "    .dataframe thead th {\n",
       "        text-align: right;\n",
       "    }\n",
       "</style>\n",
       "<table border=\"1\" class=\"dataframe\">\n",
       "  <thead>\n",
       "    <tr style=\"text-align: right;\">\n",
       "      <th></th>\n",
       "      <th>shared_url</th>\n",
       "      <th>id/url</th>\n",
       "      <th>text</th>\n",
       "      <th>n_likes</th>\n",
       "      <th>total</th>\n",
       "      <th>url_id</th>\n",
       "      <th>media_id</th>\n",
       "      <th>n_replies</th>\n",
       "      <th>score</th>\n",
       "      <th>n_views</th>\n",
       "      <th>n_dislikes</th>\n",
       "      <th>n_favorites</th>\n",
       "      <th>n_comments</th>\n",
       "      <th>platform</th>\n",
       "    </tr>\n",
       "  </thead>\n",
       "  <tbody>\n",
       "    <tr>\n",
       "      <th>0</th>\n",
       "      <td>https://www.youtube.com/watch?v=HIShWZkr0hs&amp;li...</td>\n",
       "      <td>https://www.youtube.com/watch?v=A1kOXoxgt18</td>\n",
       "      <td>the day olive was born... 1 million subscriber...</td>\n",
       "      <td>154907.0</td>\n",
       "      <td>14885900.0</td>\n",
       "      <td>youtube_videos_4_months_0</td>\n",
       "      <td>NaN</td>\n",
       "      <td>NaN</td>\n",
       "      <td>NaN</td>\n",
       "      <td>7271086.0</td>\n",
       "      <td>4605.0</td>\n",
       "      <td>0.0</td>\n",
       "      <td>12352.0</td>\n",
       "      <td>youtube</td>\n",
       "    </tr>\n",
       "    <tr>\n",
       "      <th>1</th>\n",
       "      <td>https://www.youtube.com/watch?v=-AP5Y791RN4&amp;li...</td>\n",
       "      <td>https://www.youtube.com/watch?v=A1kOXoxgt18</td>\n",
       "      <td>the day olive was born... 1 million subscriber...</td>\n",
       "      <td>154907.0</td>\n",
       "      <td>14885900.0</td>\n",
       "      <td>youtube_videos_4_months_0</td>\n",
       "      <td>NaN</td>\n",
       "      <td>NaN</td>\n",
       "      <td>NaN</td>\n",
       "      <td>7271086.0</td>\n",
       "      <td>4605.0</td>\n",
       "      <td>0.0</td>\n",
       "      <td>12352.0</td>\n",
       "      <td>youtube</td>\n",
       "    </tr>\n",
       "  </tbody>\n",
       "</table>\n",
       "</div>"
      ],
      "text/plain": [
       "                                          shared_url  \\\n",
       "0  https://www.youtube.com/watch?v=HIShWZkr0hs&li...   \n",
       "1  https://www.youtube.com/watch?v=-AP5Y791RN4&li...   \n",
       "\n",
       "                                        id/url  \\\n",
       "0  https://www.youtube.com/watch?v=A1kOXoxgt18   \n",
       "1  https://www.youtube.com/watch?v=A1kOXoxgt18   \n",
       "\n",
       "                                                text   n_likes       total  \\\n",
       "0  the day olive was born... 1 million subscriber...  154907.0  14885900.0   \n",
       "1  the day olive was born... 1 million subscriber...  154907.0  14885900.0   \n",
       "\n",
       "                      url_id  media_id  n_replies  score    n_views  \\\n",
       "0  youtube_videos_4_months_0       NaN        NaN    NaN  7271086.0   \n",
       "1  youtube_videos_4_months_0       NaN        NaN    NaN  7271086.0   \n",
       "\n",
       "   n_dislikes  n_favorites  n_comments platform  \n",
       "0      4605.0          0.0     12352.0  youtube  \n",
       "1      4605.0          0.0     12352.0  youtube  "
      ]
     },
     "metadata": {},
     "output_type": "display_data"
    },
    {
     "data": {
      "text/plain": [
       "561"
      ]
     },
     "metadata": {},
     "output_type": "display_data"
    }
   ],
   "source": [
    "# load 4 months data\n",
    "df_top_interacted_4_months = pd.read_csv(\"Top_Interacted/Data/_all_4_months.csv\")\n",
    "display(df_top_interacted_4_months.head(2), df_top_interacted_4_months.shape[0])"
   ]
  },
  {
   "cell_type": "code",
   "execution_count": 22,
   "id": "d37435df",
   "metadata": {},
   "outputs": [],
   "source": [
    "saving_list(df_top_interacted_4_months, \"shared_url\", \"top_interacted_4_months\")"
   ]
  },
  {
   "cell_type": "code",
   "execution_count": 5,
   "id": "8e83bc6b",
   "metadata": {},
   "outputs": [
    {
     "data": {
      "text/plain": [
       "598"
      ]
     },
     "execution_count": 5,
     "metadata": {},
     "output_type": "execute_result"
    }
   ],
   "source": [
    "df_top_interacted_dec = pd.read_csv(\"Top_Interacted/Data/_all_dec.csv\")\n",
    "df_top_interacted_dec.shape[0]"
   ]
  },
  {
   "cell_type": "code",
   "execution_count": 23,
   "id": "2d29c903",
   "metadata": {},
   "outputs": [],
   "source": [
    "saving_list(df_top_interacted_dec, \"shared_url\", \"top_interacted_dec\")"
   ]
  },
  {
   "cell_type": "markdown",
   "id": "88b72c4a",
   "metadata": {},
   "source": [
    "## top shared"
   ]
  },
  {
   "cell_type": "code",
   "execution_count": 21,
   "id": "b250442b",
   "metadata": {},
   "outputs": [
    {
     "data": {
      "text/html": [
       "<div>\n",
       "<style scoped>\n",
       "    .dataframe tbody tr th:only-of-type {\n",
       "        vertical-align: middle;\n",
       "    }\n",
       "\n",
       "    .dataframe tbody tr th {\n",
       "        vertical-align: top;\n",
       "    }\n",
       "\n",
       "    .dataframe thead th {\n",
       "        text-align: right;\n",
       "    }\n",
       "</style>\n",
       "<table border=\"1\" class=\"dataframe\">\n",
       "  <thead>\n",
       "    <tr style=\"text-align: right;\">\n",
       "      <th></th>\n",
       "      <th>Unnamed: 0</th>\n",
       "      <th>shared_url</th>\n",
       "      <th>n_shared</th>\n",
       "      <th>from_n_users</th>\n",
       "      <th>users</th>\n",
       "      <th>n_urls</th>\n",
       "      <th>platform</th>\n",
       "      <th>from</th>\n",
       "      <th>id/url</th>\n",
       "      <th>text</th>\n",
       "      <th>n_likes</th>\n",
       "      <th>total</th>\n",
       "      <th>url_id</th>\n",
       "      <th>media_id</th>\n",
       "      <th>n_replies</th>\n",
       "      <th>score</th>\n",
       "      <th>n_views</th>\n",
       "      <th>n_dislikes</th>\n",
       "      <th>n_favorites</th>\n",
       "      <th>n_comments</th>\n",
       "    </tr>\n",
       "  </thead>\n",
       "  <tbody>\n",
       "    <tr>\n",
       "      <th>0</th>\n",
       "      <td>0</td>\n",
       "      <td>https://www.instagram.com/amberryphoeberry</td>\n",
       "      <td>1</td>\n",
       "      <td>1</td>\n",
       "      <td>{'UCxnYiv7s4698GRIlGE1_T7g'}</td>\n",
       "      <td>{7}</td>\n",
       "      <td>youtube</td>\n",
       "      <td>comment</td>\n",
       "      <td>https://www.youtube.com/watch?v=A1kOXoxgt18</td>\n",
       "      <td>the day olive was born... 1 million subscriber...</td>\n",
       "      <td>154907.0</td>\n",
       "      <td>14885900.0</td>\n",
       "      <td>youtube_videos_4_months_0</td>\n",
       "      <td>NaN</td>\n",
       "      <td>NaN</td>\n",
       "      <td>NaN</td>\n",
       "      <td>7271086.0</td>\n",
       "      <td>4605.0</td>\n",
       "      <td>0.0</td>\n",
       "      <td>12352.0</td>\n",
       "    </tr>\n",
       "    <tr>\n",
       "      <th>1</th>\n",
       "      <td>1</td>\n",
       "      <td>https://www.roblox.com/groups/3857126/Amberry-...</td>\n",
       "      <td>1</td>\n",
       "      <td>1</td>\n",
       "      <td>{'UCxnYiv7s4698GRIlGE1_T7g'}</td>\n",
       "      <td>{7}</td>\n",
       "      <td>youtube</td>\n",
       "      <td>comment</td>\n",
       "      <td>https://www.youtube.com/watch?v=A1kOXoxgt18</td>\n",
       "      <td>the day olive was born... 1 million subscriber...</td>\n",
       "      <td>154907.0</td>\n",
       "      <td>14885900.0</td>\n",
       "      <td>youtube_videos_4_months_0</td>\n",
       "      <td>NaN</td>\n",
       "      <td>NaN</td>\n",
       "      <td>NaN</td>\n",
       "      <td>7271086.0</td>\n",
       "      <td>4605.0</td>\n",
       "      <td>0.0</td>\n",
       "      <td>12352.0</td>\n",
       "    </tr>\n",
       "  </tbody>\n",
       "</table>\n",
       "</div>"
      ],
      "text/plain": [
       "   Unnamed: 0                                         shared_url  n_shared  \\\n",
       "0           0         https://www.instagram.com/amberryphoeberry         1   \n",
       "1           1  https://www.roblox.com/groups/3857126/Amberry-...         1   \n",
       "\n",
       "   from_n_users                         users n_urls platform     from  \\\n",
       "0             1  {'UCxnYiv7s4698GRIlGE1_T7g'}    {7}  youtube  comment   \n",
       "1             1  {'UCxnYiv7s4698GRIlGE1_T7g'}    {7}  youtube  comment   \n",
       "\n",
       "                                        id/url  \\\n",
       "0  https://www.youtube.com/watch?v=A1kOXoxgt18   \n",
       "1  https://www.youtube.com/watch?v=A1kOXoxgt18   \n",
       "\n",
       "                                                text   n_likes       total  \\\n",
       "0  the day olive was born... 1 million subscriber...  154907.0  14885900.0   \n",
       "1  the day olive was born... 1 million subscriber...  154907.0  14885900.0   \n",
       "\n",
       "                      url_id  media_id  n_replies  score    n_views  \\\n",
       "0  youtube_videos_4_months_0       NaN        NaN    NaN  7271086.0   \n",
       "1  youtube_videos_4_months_0       NaN        NaN    NaN  7271086.0   \n",
       "\n",
       "   n_dislikes  n_favorites  n_comments  \n",
       "0      4605.0          0.0     12352.0  \n",
       "1      4605.0          0.0     12352.0  "
      ]
     },
     "metadata": {},
     "output_type": "display_data"
    },
    {
     "data": {
      "text/plain": [
       "753"
      ]
     },
     "metadata": {},
     "output_type": "display_data"
    }
   ],
   "source": [
    "# load 4 months data\n",
    "df_top_shared_4_months = pd.read_csv(\"Top_Shared/Data/_top_shared_4_months_all_platforms.csv\")\n",
    "display(df_top_shared_4_months.head(2), df_top_shared_4_months.shape[0])"
   ]
  },
  {
   "cell_type": "code",
   "execution_count": 24,
   "id": "35fd4af2",
   "metadata": {},
   "outputs": [],
   "source": [
    "saving_list(df_top_shared_4_months, \"shared_url\", \"top_shared_4_months\")"
   ]
  },
  {
   "cell_type": "code",
   "execution_count": 25,
   "id": "d03248f3",
   "metadata": {},
   "outputs": [
    {
     "data": {
      "text/html": [
       "<div>\n",
       "<style scoped>\n",
       "    .dataframe tbody tr th:only-of-type {\n",
       "        vertical-align: middle;\n",
       "    }\n",
       "\n",
       "    .dataframe tbody tr th {\n",
       "        vertical-align: top;\n",
       "    }\n",
       "\n",
       "    .dataframe thead th {\n",
       "        text-align: right;\n",
       "    }\n",
       "</style>\n",
       "<table border=\"1\" class=\"dataframe\">\n",
       "  <thead>\n",
       "    <tr style=\"text-align: right;\">\n",
       "      <th></th>\n",
       "      <th>Unnamed: 0</th>\n",
       "      <th>shared_url</th>\n",
       "      <th>n_shared</th>\n",
       "      <th>from_n_users</th>\n",
       "      <th>users</th>\n",
       "      <th>n_urls</th>\n",
       "      <th>platform</th>\n",
       "      <th>from</th>\n",
       "      <th>id/url</th>\n",
       "      <th>text</th>\n",
       "      <th>n_likes</th>\n",
       "      <th>total</th>\n",
       "      <th>url_id</th>\n",
       "      <th>media_id</th>\n",
       "      <th>n_replies</th>\n",
       "      <th>score</th>\n",
       "      <th>n_views</th>\n",
       "      <th>n_dislikes</th>\n",
       "      <th>n_favorites</th>\n",
       "      <th>n_comments</th>\n",
       "    </tr>\n",
       "  </thead>\n",
       "  <tbody>\n",
       "    <tr>\n",
       "      <th>0</th>\n",
       "      <td>0</td>\n",
       "      <td>https://link.chtbl.com/7fp6uoqk</td>\n",
       "      <td>1</td>\n",
       "      <td>1</td>\n",
       "      <td>{'UCJ5v_MCY6GNUBTO8-D3XoAg'}</td>\n",
       "      <td>{16}</td>\n",
       "      <td>youtube</td>\n",
       "      <td>comment</td>\n",
       "      <td>https://www.youtube.com/watch?v=lnlE_HEKuc0</td>\n",
       "      <td>full match - men's elimination chamber match: ...</td>\n",
       "      <td>1100425.0</td>\n",
       "      <td>91303003.0</td>\n",
       "      <td>youtube_videos_dec_0</td>\n",
       "      <td>NaN</td>\n",
       "      <td>NaN</td>\n",
       "      <td>NaN</td>\n",
       "      <td>90110984.0</td>\n",
       "      <td>70870.0</td>\n",
       "      <td>0.0</td>\n",
       "      <td>20724.0</td>\n",
       "    </tr>\n",
       "    <tr>\n",
       "      <th>1</th>\n",
       "      <td>1</td>\n",
       "      <td>https://twitter.com/wwe</td>\n",
       "      <td>1</td>\n",
       "      <td>1</td>\n",
       "      <td>{'UCJ5v_MCY6GNUBTO8-D3XoAg'}</td>\n",
       "      <td>{16}</td>\n",
       "      <td>youtube</td>\n",
       "      <td>comment</td>\n",
       "      <td>https://www.youtube.com/watch?v=lnlE_HEKuc0</td>\n",
       "      <td>full match - men's elimination chamber match: ...</td>\n",
       "      <td>1100425.0</td>\n",
       "      <td>91303003.0</td>\n",
       "      <td>youtube_videos_dec_0</td>\n",
       "      <td>NaN</td>\n",
       "      <td>NaN</td>\n",
       "      <td>NaN</td>\n",
       "      <td>90110984.0</td>\n",
       "      <td>70870.0</td>\n",
       "      <td>0.0</td>\n",
       "      <td>20724.0</td>\n",
       "    </tr>\n",
       "  </tbody>\n",
       "</table>\n",
       "</div>"
      ],
      "text/plain": [
       "   Unnamed: 0                       shared_url  n_shared  from_n_users  \\\n",
       "0           0  https://link.chtbl.com/7fp6uoqk         1             1   \n",
       "1           1          https://twitter.com/wwe         1             1   \n",
       "\n",
       "                          users n_urls platform     from  \\\n",
       "0  {'UCJ5v_MCY6GNUBTO8-D3XoAg'}   {16}  youtube  comment   \n",
       "1  {'UCJ5v_MCY6GNUBTO8-D3XoAg'}   {16}  youtube  comment   \n",
       "\n",
       "                                        id/url  \\\n",
       "0  https://www.youtube.com/watch?v=lnlE_HEKuc0   \n",
       "1  https://www.youtube.com/watch?v=lnlE_HEKuc0   \n",
       "\n",
       "                                                text    n_likes       total  \\\n",
       "0  full match - men's elimination chamber match: ...  1100425.0  91303003.0   \n",
       "1  full match - men's elimination chamber match: ...  1100425.0  91303003.0   \n",
       "\n",
       "                 url_id  media_id  n_replies  score     n_views  n_dislikes  \\\n",
       "0  youtube_videos_dec_0       NaN        NaN    NaN  90110984.0     70870.0   \n",
       "1  youtube_videos_dec_0       NaN        NaN    NaN  90110984.0     70870.0   \n",
       "\n",
       "   n_favorites  n_comments  \n",
       "0          0.0     20724.0  \n",
       "1          0.0     20724.0  "
      ]
     },
     "metadata": {},
     "output_type": "display_data"
    },
    {
     "data": {
      "text/plain": [
       "901"
      ]
     },
     "metadata": {},
     "output_type": "display_data"
    }
   ],
   "source": [
    "# load dec data\n",
    "df_top_shared_dec = pd.read_csv(\"Top_Shared/Data/_top_shared_dec_all_platforms.csv\")\n",
    "display(df_top_shared_dec.head(2), df_top_shared_dec.shape[0])"
   ]
  },
  {
   "cell_type": "code",
   "execution_count": 26,
   "id": "ce6eceee",
   "metadata": {},
   "outputs": [],
   "source": [
    "saving_list(df_top_shared_dec, \"shared_url\", \"top_shared_dec\")"
   ]
  }
 ],
 "metadata": {
  "kernelspec": {
   "display_name": "Python 3 (ipykernel)",
   "language": "python",
   "name": "python3"
  },
  "language_info": {
   "codemirror_mode": {
    "name": "ipython",
    "version": 3
   },
   "file_extension": ".py",
   "mimetype": "text/x-python",
   "name": "python",
   "nbconvert_exporter": "python",
   "pygments_lexer": "ipython3",
   "version": "3.9.7"
  }
 },
 "nbformat": 4,
 "nbformat_minor": 5
}
