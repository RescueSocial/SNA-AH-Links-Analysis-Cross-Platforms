{
  "nbformat": 4,
  "nbformat_minor": 0,
  "metadata": {
    "colab": {
      "name": "UrlRelations.ipynb",
      "private_outputs": true,
      "provenance": [],
      "collapsed_sections": []
    },
    "kernelspec": {
      "name": "python3",
      "display_name": "Python 3"
    },
    "language_info": {
      "name": "python"
    }
  },
  "cells": [
    {
      "cell_type": "code",
      "execution_count": null,
      "metadata": {
        "id": "FWKtMxlmCHrA"
      },
      "outputs": [],
      "source": [
        "## import library\n",
        "import numpy as np\n",
        "import pandas as pd\n",
        "import matplotlib.pyplot as plt"
      ]
    },
    {
      "cell_type": "code",
      "source": [
        "## read csv data \n",
        "df = pd.read_csv('/content/drive/MyDrive/twitter dataset/tweets_2021.csv')\n",
        "df.head(3)"
      ],
      "metadata": {
        "id": "niudUN2jDj40"
      },
      "execution_count": null,
      "outputs": []
    },
    {
      "cell_type": "code",
      "source": [
        "## extract only main info for extract relation in url\n",
        "urlRelation = df[['entities.urls' , 'user.name' , 'user.screen_name']]"
      ],
      "metadata": {
        "id": "Rj58no2Qe6pB"
      },
      "execution_count": null,
      "outputs": []
    },
    {
      "cell_type": "code",
      "source": [
        "## shape of this data \n",
        "urlRelation.shape"
      ],
      "metadata": {
        "id": "d3pYhXhxHnSf"
      },
      "execution_count": null,
      "outputs": []
    },
    {
      "cell_type": "code",
      "source": [
        "urlRelation['user.screen_name'].value_counts()"
      ],
      "metadata": {
        "id": "uSBrPAcIfdo8"
      },
      "execution_count": null,
      "outputs": []
    },
    {
      "cell_type": "code",
      "source": [
        "urlRelation.isnull().sum()"
      ],
      "metadata": {
        "id": "u9Aws6vnhRev"
      },
      "execution_count": null,
      "outputs": []
    },
    {
      "cell_type": "code",
      "source": [
        "## print first 4 rows\n",
        "urlRelation.head(4)"
      ],
      "metadata": {
        "id": "8MQK5t2ThfsQ"
      },
      "execution_count": null,
      "outputs": []
    },
    {
      "cell_type": "code",
      "source": [
        "## print length of first url\n",
        "print(len(urlRelation['entities.urls'][0]))"
      ],
      "metadata": {
        "id": "3Hs75EOZkFsy"
      },
      "execution_count": null,
      "outputs": []
    },
    {
      "cell_type": "code",
      "source": [
        "## ignore empty list\n",
        "urlRelation = urlRelation[urlRelation['entities.urls'].map(lambda d: len(d)) > 2]\n"
      ],
      "metadata": {
        "id": "hymeFCYqje0d"
      },
      "execution_count": null,
      "outputs": []
    },
    {
      "cell_type": "code",
      "source": [
        "## describe data info\n",
        "urlRelation.info()"
      ],
      "metadata": {
        "id": "qSFMFGOchy0Z"
      },
      "execution_count": null,
      "outputs": []
    },
    {
      "cell_type": "code",
      "source": [
        "## urls\n",
        "urlRelation['url'] = 0"
      ],
      "metadata": {
        "id": "MbhduJ14idFe"
      },
      "execution_count": null,
      "outputs": []
    },
    {
      "cell_type": "code",
      "source": [
        "urlRelation.isnull().sum()"
      ],
      "metadata": {
        "id": "9iPI0m08kr2q"
      },
      "execution_count": null,
      "outputs": []
    },
    {
      "cell_type": "code",
      "source": [
        "##\n",
        "urlRelation['entities.urls']"
      ],
      "metadata": {
        "id": "Sgo0drddjCVC"
      },
      "execution_count": null,
      "outputs": []
    },
    {
      "cell_type": "code",
      "source": [
        "urlRelation = urlRelation.reset_index()\n",
        "urlRelation.head(3)"
      ],
      "metadata": {
        "id": "wP32-Jrdl--x"
      },
      "execution_count": null,
      "outputs": []
    },
    {
      "cell_type": "code",
      "source": [
        "## print columns name \n",
        "urlRelation.columns"
      ],
      "metadata": {
        "id": "JTUU-kZ5mQps"
      },
      "execution_count": null,
      "outputs": []
    },
    {
      "cell_type": "code",
      "source": [
        "## drop index and rename level_0 with index\n",
        "urlRelation.drop(['index'] , axis = 1 , inplace =True)\n",
        "urlRelation.rename({\"level_0\" : \"index\"} , axis =0 , inplace =True)\n",
        "urlRelation.head(3)"
      ],
      "metadata": {
        "id": "vJrX2jp2nDXH"
      },
      "execution_count": null,
      "outputs": []
    },
    {
      "cell_type": "code",
      "source": [
        "## increase alot of column to extract main info inside url\n",
        "urlRelation['display_url'] = 0\n",
        "urlRelation['expanded_url'] = 0\n",
        "\n",
        "urlRelation.columns"
      ],
      "metadata": {
        "id": "XkC5wm9sntVT"
      },
      "execution_count": null,
      "outputs": []
    },
    {
      "cell_type": "code",
      "source": [
        "## print the first row \n",
        "urlRelation['entities.urls'][0]"
      ],
      "metadata": {
        "id": "jLOvpBVqmtun"
      },
      "execution_count": null,
      "outputs": []
    },
    {
      "cell_type": "code",
      "source": [
        "## print the first 5 row\n",
        "urlRelation.head(3)"
      ],
      "metadata": {
        "id": "KlauLJMQooMu"
      },
      "execution_count": null,
      "outputs": []
    },
    {
      "cell_type": "code",
      "source": [
        "urlRelation['entities.urls'][0]"
      ],
      "metadata": {
        "id": "VfcAxiQvcECx"
      },
      "execution_count": null,
      "outputs": []
    },
    {
      "cell_type": "code",
      "source": [
        "urlRelation['entities.urls'][7177]"
      ],
      "metadata": {
        "id": "GNp8ZGidcSSS"
      },
      "execution_count": null,
      "outputs": []
    },
    {
      "cell_type": "code",
      "source": [
        "## convert json data in url into dictionary\n",
        "import json\n",
        "for i in range(len(urlRelation)):\n",
        "    urlRelation['entities.urls'][i] = urlRelation['entities.urls'][i].replace(\"\\'\" , \"\\\"\")\n",
        "      "
      ],
      "metadata": {
        "id": "au16gFjtf1Oa"
      },
      "execution_count": null,
      "outputs": []
    },
    {
      "cell_type": "code",
      "source": [
        "urlRelation['entities.urls'][7177]"
      ],
      "metadata": {
        "id": "vxGoIMzWztoR"
      },
      "execution_count": null,
      "outputs": []
    },
    {
      "cell_type": "code",
      "source": [
        "urlRelation['entities.urls'][0]"
      ],
      "metadata": {
        "id": "8282rwN-cnpq"
      },
      "execution_count": null,
      "outputs": []
    },
    {
      "cell_type": "code",
      "source": [
        "urlRelation['entities.urls'][2]"
      ],
      "metadata": {
        "id": "5_4phJk7b2Ps"
      },
      "execution_count": null,
      "outputs": []
    },
    {
      "cell_type": "code",
      "source": [
        "df = urlRelation"
      ],
      "metadata": {
        "id": "DEo67bpYmY7A"
      },
      "execution_count": null,
      "outputs": []
    },
    {
      "cell_type": "code",
      "source": [
        "df.shape"
      ],
      "metadata": {
        "id": "mMnxnr-femNe"
      },
      "execution_count": null,
      "outputs": []
    },
    {
      "cell_type": "code",
      "source": [
        "df['entities.urls'][9252]"
      ],
      "metadata": {
        "id": "8JoanwfOga2D"
      },
      "execution_count": null,
      "outputs": []
    },
    {
      "cell_type": "code",
      "source": [
        "df.drop([2074] , inplace=True)\n",
        "df.reset_index()\n"
      ],
      "metadata": {
        "id": "encE4mMihBPs"
      },
      "execution_count": null,
      "outputs": []
    },
    {
      "cell_type": "code",
      "source": [
        "df.shape"
      ],
      "metadata": {
        "id": "LsBf9MInt6Ul"
      },
      "execution_count": null,
      "outputs": []
    },
    {
      "cell_type": "code",
      "source": [
        "df.columns"
      ],
      "metadata": {
        "id": "05O7-fzkmlXe"
      },
      "execution_count": null,
      "outputs": []
    },
    {
      "cell_type": "code",
      "source": [
        "## convert json to object in url\n",
        "import json\n",
        "for index , row in df.iterrows():\n",
        "    if index in [9252 ,9668 , 18389]:\n",
        "        continue;\n",
        "    allData = row['entities.urls']\n",
        "    aDict = json.loads(allData)\n",
        "    df['entities.urls'][index] = aDict"
      ],
      "metadata": {
        "id": "ua2CCNqlgz6W"
      },
      "execution_count": null,
      "outputs": []
    },
    {
      "cell_type": "code",
      "source": [
        "df.drop([9252 ,9668 , 18389 ] , inplace = True)"
      ],
      "metadata": {
        "id": "fItXviiirzY6"
      },
      "execution_count": null,
      "outputs": []
    },
    {
      "cell_type": "code",
      "source": [
        "df.reset_index()"
      ],
      "metadata": {
        "id": "UeTUMZfmsel_"
      },
      "execution_count": null,
      "outputs": []
    },
    {
      "cell_type": "code",
      "source": [
        "## print columns \n",
        "df.columns"
      ],
      "metadata": {
        "id": "4qW5y9Zm1M7J"
      },
      "execution_count": null,
      "outputs": []
    },
    {
      "cell_type": "code",
      "source": [
        "df['entities.urls'][16200][1]"
      ],
      "metadata": {
        "id": "5omDDTEGqmhW"
      },
      "execution_count": null,
      "outputs": []
    },
    {
      "cell_type": "code",
      "source": [
        "df.columns"
      ],
      "metadata": {
        "id": "1c4sfvO4rG_B"
      },
      "execution_count": null,
      "outputs": []
    },
    {
      "cell_type": "code",
      "source": [
        "## extract All info inside url\n",
        "for index , row in df.iterrows():\n",
        "    if index in [16200 , 16236]:\n",
        "        continue;\n",
        "    allInfo = row['entities.urls'][0]\n",
        "    df['display_url'][index] = allInfo['display_url']\n",
        "    print(allInfo['display_url'])\n",
        "    df['expanded_url'][index] = allInfo['expanded_url']\n",
        "    df['url'][index] = allInfo['url']\n"
      ],
      "metadata": {
        "id": "Q1ZI212k1InS"
      },
      "execution_count": null,
      "outputs": []
    },
    {
      "cell_type": "code",
      "source": [
        "df.drop([16200 , 16236] , inplace = True)\n",
        "df.reset_index()"
      ],
      "metadata": {
        "id": "obEX-VwEtNHO"
      },
      "execution_count": null,
      "outputs": []
    },
    {
      "cell_type": "code",
      "source": [
        "df['url'].value_counts()"
      ],
      "metadata": {
        "id": "zD9v8xCbtf02"
      },
      "execution_count": null,
      "outputs": []
    },
    {
      "cell_type": "code",
      "source": [
        "df.columns"
      ],
      "metadata": {
        "id": "avbjbkafttmu"
      },
      "execution_count": null,
      "outputs": []
    },
    {
      "cell_type": "code",
      "source": [
        "df.shape"
      ],
      "metadata": {
        "id": "6wWtVxy2uF6m"
      },
      "execution_count": null,
      "outputs": []
    },
    {
      "cell_type": "code",
      "source": [
        "df.isnull().sum()"
      ],
      "metadata": {
        "id": "h_IcjGDTvnlY"
      },
      "execution_count": null,
      "outputs": []
    },
    {
      "cell_type": "code",
      "source": [
        "## list all unique url \n",
        "op1 = df.groupby(['url'])\n",
        "op1.head(3)\n"
      ],
      "metadata": {
        "id": "hG2ya08lvp49"
      },
      "execution_count": null,
      "outputs": []
    },
    {
      "cell_type": "code",
      "source": [
        "df.columns\n"
      ],
      "metadata": {
        "id": "fQXSgUfkfwqv"
      },
      "execution_count": null,
      "outputs": []
    },
    {
      "cell_type": "code",
      "source": [
        "grouped_df = df.groupby(\"url\")\n",
        "grouped_lists = grouped_df[\"user.screen_name\"].apply(list)\n",
        "grouped_lists = grouped_lists.reset_index()"
      ],
      "metadata": {
        "id": "eI_BZXXhfofz"
      },
      "execution_count": null,
      "outputs": []
    },
    {
      "cell_type": "code",
      "source": [
        "print(grouped_lists)\n"
      ],
      "metadata": {
        "id": "4PnCYRR7z5hj"
      },
      "execution_count": null,
      "outputs": []
    },
    {
      "cell_type": "code",
      "source": [
        "# grouped_lists.to_csv('sameUrl.csv' , index =False)\n",
        "df = pd.DataFrame(grouped_lists)"
      ],
      "metadata": {
        "id": "O8GfHl8zZ5Fx"
      },
      "execution_count": null,
      "outputs": []
    },
    {
      "cell_type": "code",
      "source": [
        "df.shape"
      ],
      "metadata": {
        "id": "7mw6jkQJpYby"
      },
      "execution_count": null,
      "outputs": []
    },
    {
      "cell_type": "code",
      "source": [
        "df.columns"
      ],
      "metadata": {
        "id": "Ixl4-fyniChb"
      },
      "execution_count": null,
      "outputs": []
    },
    {
      "cell_type": "code",
      "source": [
        "df['NumberOfUsersShareSameUrl'] = 0"
      ],
      "metadata": {
        "id": "JWvqqEr6gOw-"
      },
      "execution_count": null,
      "outputs": []
    },
    {
      "cell_type": "code",
      "source": [
        "df.head(3)"
      ],
      "metadata": {
        "id": "H35_R-R3h4gd"
      },
      "execution_count": null,
      "outputs": []
    },
    {
      "cell_type": "code",
      "source": [
        "df['user.screen_name'][2]"
      ],
      "metadata": {
        "id": "PgHXRfcDjsBD"
      },
      "execution_count": null,
      "outputs": []
    },
    {
      "cell_type": "code",
      "source": [
        "for i in range(len(df)):\n",
        "    df['NumberOfUsersShareSameUrl'][i] = len(df['user.screen_name'][i])"
      ],
      "metadata": {
        "id": "UrEhRh-4W-hg"
      },
      "execution_count": null,
      "outputs": []
    },
    {
      "cell_type": "code",
      "source": [
        "df['uniqueUserNameShareSameUrl'] = 0\n",
        "for i in range(len(df)):\n",
        "    df['uniqueUserNameShareSameUrl'][i] =list(set(df['user.screen_name'][i]))"
      ],
      "metadata": {
        "id": "uLWftRq-lqQQ"
      },
      "execution_count": null,
      "outputs": []
    },
    {
      "cell_type": "code",
      "source": [
        "df.head(10)"
      ],
      "metadata": {
        "id": "3sJSsaj2l5fC"
      },
      "execution_count": null,
      "outputs": []
    },
    {
      "cell_type": "code",
      "source": [
        "df.to_csv('urlsharing.csv' , index = False)"
      ],
      "metadata": {
        "id": "ZyDxiO4dneMo"
      },
      "execution_count": null,
      "outputs": []
    },
    {
      "cell_type": "code",
      "source": [
        ""
      ],
      "metadata": {
        "id": "UEQtsqw7aO4-"
      },
      "execution_count": null,
      "outputs": []
    }
  ]
}