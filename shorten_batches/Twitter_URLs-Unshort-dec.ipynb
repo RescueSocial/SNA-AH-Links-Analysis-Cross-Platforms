{
 "cells": [
  {
   "cell_type": "code",
   "execution_count": 1,
   "id": "726a693c",
   "metadata": {},
   "outputs": [],
   "source": [
    "from helpers import (\n",
    "    URLS,\n",
    "    get_urls,\n",
    "    urls_df,\n",
    "    one_link_df,\n",
    "    one_link_urls,\n",
    "    one_link_urls_with_count,\n",
    "    df_more_than_link, more_than_one_link_with_count\n",
    ")\n",
    "import pandas as pd\n",
    "import warnings\n",
    "warnings.filterwarnings(\"ignore\")"
   ]
  },
  {
   "cell_type": "markdown",
   "id": "8b56cd59",
   "metadata": {},
   "source": [
    "# Twitter Data URLs"
   ]
  },
  {
   "cell_type": "code",
   "execution_count": 2,
   "id": "de6a8370",
   "metadata": {},
   "outputs": [
    {
     "name": "stdout",
     "output_type": "stream",
     "text": [
      " Volume in drive D has no label.\n",
      " Volume Serial Number is 4623-EF98\n",
      "\n",
      " Directory of D:\\test\\mapbox-android-sample-master\\src\\New folder\\URLS_Data\\Twitter\n",
      "\n",
      "01/22/2022  06:42 PM    <DIR>          .\n",
      "01/22/2022  06:42 PM    <DIR>          ..\n",
      "01/21/2022  08:50 PM    <DIR>          .ipynb_checkpoints\n",
      "01/20/2022  09:09 PM       120,742,912 df_tweets_4_months_urls.csv\n",
      "01/20/2022  09:14 PM         1,730,038 df_tweets_4_months_urls_1_link.csv\n",
      "01/20/2022  09:14 PM           155,452 df_tweets_4_months_urls_more.csv\n",
      "01/20/2022  09:14 PM         7,660,662 df_tweets_dec_urls.csv\n",
      "01/20/2022  09:15 PM           625,219 df_tweets_dec_urls_1_link.csv\n",
      "01/20/2022  09:15 PM            50,284 df_tweets_dec_urls_more.csv\n",
      "01/22/2022  06:52 PM    <DIR>          unshortend_links_data\n",
      "01/21/2022  09:15 PM            28,726 Untitled.ipynb\n",
      "01/21/2022  08:57 PM            28,700 url_analysis.ipynb\n",
      "               8 File(s)    131,021,993 bytes\n",
      "               4 Dir(s)  43,087,847,424 bytes free\n"
     ]
    }
   ],
   "source": [
    "ls \"../URLS_Data/Twitter/\""
   ]
  },
  {
   "cell_type": "code",
   "execution_count": 6,
   "id": "2d321f99",
   "metadata": {},
   "outputs": [],
   "source": [
    "twitter_path =  \"../URLS_Data/Twitter/unshortend_links_data/\""
   ]
  },
  {
   "cell_type": "code",
   "execution_count": 7,
   "id": "469b8717",
   "metadata": {},
   "outputs": [
    {
     "name": "stdout",
     "output_type": "stream",
     "text": [
      " Volume in drive D has no label.\n",
      " Volume Serial Number is 4623-EF98\n",
      "\n",
      " Directory of D:\\test\\mapbox-android-sample-master\\src\\New folder\\URLS_Data\\Twitter\\unshortend_links_data\n",
      "\n",
      "01/22/2022  06:52 PM    <DIR>          .\n",
      "01/22/2022  06:52 PM    <DIR>          ..\n",
      "01/22/2022  06:52 PM         9,020,209 df_tweets_dec_urls.csv\n",
      "01/22/2022  06:52 PM    <DIR>          from_cloud\n",
      "               1 File(s)      9,020,209 bytes\n",
      "               3 Dir(s)  43,087,847,424 bytes free\n"
     ]
    }
   ],
   "source": [
    "ls \"../URLS_Data/Twitter/unshortend_links_data/\""
   ]
  },
  {
   "cell_type": "markdown",
   "id": "a191bdbf",
   "metadata": {},
   "source": [
    "### December\n",
    "<a id='12'></a>\n",
    "\n",
    "\n",
    "><ul>\n",
    " <li><a href=\"#one12\">One Link</a></li>\n",
    " <li><a href=\"#more12\">More Than One Link</a></li>  \n",
    "\n",
    " </ul>"
   ]
  },
  {
   "cell_type": "code",
   "execution_count": 10,
   "id": "a5b487c1",
   "metadata": {},
   "outputs": [],
   "source": [
    "df_tweets_dec_urls = pd.read_csv(twitter_path + \"df_tweets_dec_urls.csv\")"
   ]
  },
  {
   "cell_type": "code",
   "execution_count": 15,
   "id": "ecd5e020",
   "metadata": {},
   "outputs": [],
   "source": [
    "df_tweets_dec_urls.rename(columns={\"urls\": \"shorten_urls\",\n",
    "                                  \"unshorten_urls\": \"urls\"}, inplace=True)"
   ]
  },
  {
   "cell_type": "code",
   "execution_count": 19,
   "id": "094f4e3b",
   "metadata": {},
   "outputs": [],
   "source": [
    "import ast"
   ]
  },
  {
   "cell_type": "code",
   "execution_count": 20,
   "id": "cd6740b0",
   "metadata": {},
   "outputs": [],
   "source": [
    "df_tweets_dec_urls[\"urls\"] = df_tweets_dec_urls[\"urls\"].apply(lambda x: ast.literal_eval(x))"
   ]
  },
  {
   "cell_type": "code",
   "execution_count": 21,
   "id": "3128a074",
   "metadata": {},
   "outputs": [
    {
     "data": {
      "text/plain": [
       "0        [https://twitter.com/Camilaalustiza3/status/13...\n",
       "1                               [https://chng.it/Z9hCPtzh]\n",
       "2        [https://twitter.com/cat_a_estranha/status/133...\n",
       "3        [https://twitter.com/JustMe_Katiebee/status/13...\n",
       "4        [https://www.change.org/p/rupert-murdoch-probe...\n",
       "                               ...                        \n",
       "23965    [https://www.entreveredas.com.mx/2020/12/amber...\n",
       "23966    [https://nypost.com/2020/11/28/star-studded-ti...\n",
       "23967    [https://www.radiovanguardia.com/2020/12/06/am...\n",
       "23968    [https://www.reddit.com/r/memes/comments/k5ao7...\n",
       "23969    [https://www.change.org/, https://www.change.o...\n",
       "Name: urls, Length: 23970, dtype: object"
      ]
     },
     "execution_count": 21,
     "metadata": {},
     "output_type": "execute_result"
    }
   ],
   "source": [
    "df_tweets_dec_urls[\"urls\"]"
   ]
  },
  {
   "cell_type": "markdown",
   "id": "5f08423f",
   "metadata": {},
   "source": [
    "<a id='one12'></a>\n",
    "#### One Link\n",
    "\n",
    "><ul>\n",
    " <li><a href=\"#one12\">One Link</a></li>\n",
    " <li><a href=\"#more12\">More Than One Link</a></li>  \n",
    "\n",
    " </ul>\n"
   ]
  },
  {
   "cell_type": "code",
   "execution_count": 22,
   "id": "7c1d1635",
   "metadata": {},
   "outputs": [],
   "source": [
    "df_tweets_dec_urls_1_link = one_link_df(df_tweets_dec_urls)"
   ]
  },
  {
   "cell_type": "code",
   "execution_count": 23,
   "id": "046dc480",
   "metadata": {},
   "outputs": [
    {
     "data": {
      "text/html": [
       "<div>\n",
       "<style scoped>\n",
       "    .dataframe tbody tr th:only-of-type {\n",
       "        vertical-align: middle;\n",
       "    }\n",
       "\n",
       "    .dataframe tbody tr th {\n",
       "        vertical-align: top;\n",
       "    }\n",
       "\n",
       "    .dataframe thead th {\n",
       "        text-align: right;\n",
       "    }\n",
       "</style>\n",
       "<table border=\"1\" class=\"dataframe\">\n",
       "  <thead>\n",
       "    <tr style=\"text-align: right;\">\n",
       "      <th></th>\n",
       "      <th>id_str</th>\n",
       "      <th>created_at</th>\n",
       "      <th>full_text</th>\n",
       "      <th>user.id_str</th>\n",
       "      <th>user.screen_name</th>\n",
       "      <th>user.name</th>\n",
       "      <th>user.created_at</th>\n",
       "      <th>shorten_urls</th>\n",
       "      <th>n_urls</th>\n",
       "      <th>urls</th>\n",
       "      <th>url</th>\n",
       "    </tr>\n",
       "  </thead>\n",
       "  <tbody>\n",
       "    <tr>\n",
       "      <th>0</th>\n",
       "      <td>1.338250e+18</td>\n",
       "      <td>2020-12-13 22:43:30+00:00</td>\n",
       "      <td>It Is just me? Or everybody does when sees Joh...</td>\n",
       "      <td>1.327950e+18</td>\n",
       "      <td>Camilaalustiza3</td>\n",
       "      <td>OnlyForJohnny</td>\n",
       "      <td>2020-11-15 12:31:21+00:00</td>\n",
       "      <td>['https://t.co/UzOD82X1oU']</td>\n",
       "      <td>1</td>\n",
       "      <td>[https://twitter.com/Camilaalustiza3/status/13...</td>\n",
       "      <td>https://twitter.com/Camilaalustiza3/status/133...</td>\n",
       "    </tr>\n",
       "  </tbody>\n",
       "</table>\n",
       "</div>"
      ],
      "text/plain": [
       "         id_str                 created_at  \\\n",
       "0  1.338250e+18  2020-12-13 22:43:30+00:00   \n",
       "\n",
       "                                           full_text   user.id_str  \\\n",
       "0  It Is just me? Or everybody does when sees Joh...  1.327950e+18   \n",
       "\n",
       "  user.screen_name      user.name            user.created_at  \\\n",
       "0  Camilaalustiza3  OnlyForJohnny  2020-11-15 12:31:21+00:00   \n",
       "\n",
       "                  shorten_urls  n_urls  \\\n",
       "0  ['https://t.co/UzOD82X1oU']       1   \n",
       "\n",
       "                                                urls  \\\n",
       "0  [https://twitter.com/Camilaalustiza3/status/13...   \n",
       "\n",
       "                                                 url  \n",
       "0  https://twitter.com/Camilaalustiza3/status/133...  "
      ]
     },
     "execution_count": 23,
     "metadata": {},
     "output_type": "execute_result"
    }
   ],
   "source": [
    "df_tweets_dec_urls_1_link.head(1)"
   ]
  },
  {
   "cell_type": "code",
   "execution_count": 24,
   "id": "a45502dd",
   "metadata": {},
   "outputs": [],
   "source": [
    "list_tweets_dec_urls_1_link = one_link_urls(df_tweets_dec_urls_1_link)"
   ]
  },
  {
   "cell_type": "code",
   "execution_count": 25,
   "id": "94734fa7",
   "metadata": {},
   "outputs": [
    {
     "data": {
      "text/plain": [
       "array([list(['https://twitter.com/Camilaalustiza3/status/1338253238244683777/photo/1']),\n",
       "       list(['https://chng.it/Z9hCPtzh']),\n",
       "       list(['https://twitter.com/cat_a_estranha/status/1338251599983104002/photo/1']),\n",
       "       ..., list(['https://chng.it/d7pDjTXB']),\n",
       "       list(['https://chng.it/Tt9w4DXq']),\n",
       "       list(['https://twitter.com/stockyjulz/status/1335459423788048384/photo/1'])],\n",
       "      dtype=object)"
      ]
     },
     "execution_count": 25,
     "metadata": {},
     "output_type": "execute_result"
    }
   ],
   "source": [
    "list_tweets_dec_urls_1_link"
   ]
  },
  {
   "cell_type": "code",
   "execution_count": 26,
   "id": "e7594776",
   "metadata": {},
   "outputs": [],
   "source": [
    "df_tweets_dec_urls_1_link_ith_users_count = one_link_urls_with_count(\n",
    "    df_tweets_dec_urls_1_link, user_column=\"user.id_str\", url_column=\"url\"\n",
    ")"
   ]
  },
  {
   "cell_type": "code",
   "execution_count": 27,
   "id": "d9dbd987",
   "metadata": {},
   "outputs": [
    {
     "data": {
      "text/html": [
       "<div>\n",
       "<style scoped>\n",
       "    .dataframe tbody tr th:only-of-type {\n",
       "        vertical-align: middle;\n",
       "    }\n",
       "\n",
       "    .dataframe tbody tr th {\n",
       "        vertical-align: top;\n",
       "    }\n",
       "\n",
       "    .dataframe thead th {\n",
       "        text-align: right;\n",
       "    }\n",
       "</style>\n",
       "<table border=\"1\" class=\"dataframe\">\n",
       "  <thead>\n",
       "    <tr style=\"text-align: right;\">\n",
       "      <th></th>\n",
       "      <th>link</th>\n",
       "      <th>count</th>\n",
       "      <th>n_users</th>\n",
       "    </tr>\n",
       "  </thead>\n",
       "  <tbody>\n",
       "    <tr>\n",
       "      <th>0</th>\n",
       "      <td>https://youtu.be/1yuki8YG3xA</td>\n",
       "      <td>49</td>\n",
       "      <td>47</td>\n",
       "    </tr>\n",
       "    <tr>\n",
       "      <th>1</th>\n",
       "      <td>https://youtu.be/U_MYHvZZizY</td>\n",
       "      <td>47</td>\n",
       "      <td>47</td>\n",
       "    </tr>\n",
       "    <tr>\n",
       "      <th>2</th>\n",
       "      <td>https://www.change.org/p/dc-entertainment-remo...</td>\n",
       "      <td>105</td>\n",
       "      <td>40</td>\n",
       "    </tr>\n",
       "    <tr>\n",
       "      <th>3</th>\n",
       "      <td>https://youtu.be/uretrfMA-Io</td>\n",
       "      <td>42</td>\n",
       "      <td>38</td>\n",
       "    </tr>\n",
       "    <tr>\n",
       "      <th>4</th>\n",
       "      <td>https://youtu.be/4Sy-9UnO_hE</td>\n",
       "      <td>38</td>\n",
       "      <td>37</td>\n",
       "    </tr>\n",
       "    <tr>\n",
       "      <th>...</th>\n",
       "      <td>...</td>\n",
       "      <td>...</td>\n",
       "      <td>...</td>\n",
       "    </tr>\n",
       "    <tr>\n",
       "      <th>19619</th>\n",
       "      <td>https://twitter.com/Soledad15981419/status/134...</td>\n",
       "      <td>1</td>\n",
       "      <td>1</td>\n",
       "    </tr>\n",
       "    <tr>\n",
       "      <th>19620</th>\n",
       "      <td>https://twitter.com/Soledad15981419/status/134...</td>\n",
       "      <td>1</td>\n",
       "      <td>1</td>\n",
       "    </tr>\n",
       "    <tr>\n",
       "      <th>19621</th>\n",
       "      <td>https://twitter.com/Soledad15981419/status/134...</td>\n",
       "      <td>1</td>\n",
       "      <td>1</td>\n",
       "    </tr>\n",
       "    <tr>\n",
       "      <th>19622</th>\n",
       "      <td>https://twitter.com/Soledad15981419/status/134...</td>\n",
       "      <td>1</td>\n",
       "      <td>1</td>\n",
       "    </tr>\n",
       "    <tr>\n",
       "      <th>19623</th>\n",
       "      <td>https://twitter.com/stockyjulz/status/13354594...</td>\n",
       "      <td>1</td>\n",
       "      <td>1</td>\n",
       "    </tr>\n",
       "  </tbody>\n",
       "</table>\n",
       "<p>19624 rows × 3 columns</p>\n",
       "</div>"
      ],
      "text/plain": [
       "                                                    link  count  n_users\n",
       "0                           https://youtu.be/1yuki8YG3xA     49       47\n",
       "1                           https://youtu.be/U_MYHvZZizY     47       47\n",
       "2      https://www.change.org/p/dc-entertainment-remo...    105       40\n",
       "3                           https://youtu.be/uretrfMA-Io     42       38\n",
       "4                           https://youtu.be/4Sy-9UnO_hE     38       37\n",
       "...                                                  ...    ...      ...\n",
       "19619  https://twitter.com/Soledad15981419/status/134...      1        1\n",
       "19620  https://twitter.com/Soledad15981419/status/134...      1        1\n",
       "19621  https://twitter.com/Soledad15981419/status/134...      1        1\n",
       "19622  https://twitter.com/Soledad15981419/status/134...      1        1\n",
       "19623  https://twitter.com/stockyjulz/status/13354594...      1        1\n",
       "\n",
       "[19624 rows x 3 columns]"
      ]
     },
     "execution_count": 27,
     "metadata": {},
     "output_type": "execute_result"
    }
   ],
   "source": [
    "df_tweets_dec_urls_1_link_ith_users_count"
   ]
  },
  {
   "cell_type": "code",
   "execution_count": 28,
   "id": "f1a2145c",
   "metadata": {},
   "outputs": [],
   "source": [
    "# save data\n",
    "df_tweets_dec_urls_1_link_ith_users_count.to_csv(\n",
    "    twitter_path\n",
    "    + \"df_tweets_dec_urls_1_link.csv\",\n",
    "    index=False,\n",
    ")"
   ]
  },
  {
   "cell_type": "markdown",
   "id": "053df600",
   "metadata": {},
   "source": [
    "<a id='more12'></a>\n",
    "#### More Than One Link\n",
    "\n",
    "><ul>\n",
    " <li><a href=\"#one12\">One Link</a></li>\n",
    " <li><a href=\"#more12\">More Than One Link</a></li>  \n",
    "\n",
    " </ul>\n",
    "\n"
   ]
  },
  {
   "cell_type": "code",
   "execution_count": 29,
   "id": "b8f492ec",
   "metadata": {},
   "outputs": [],
   "source": [
    "df_tweets_dec_urls_urls_more = df_more_than_link(df_tweets_dec_urls)"
   ]
  },
  {
   "cell_type": "code",
   "execution_count": 30,
   "id": "a8899201",
   "metadata": {},
   "outputs": [
    {
     "data": {
      "text/html": [
       "<div>\n",
       "<style scoped>\n",
       "    .dataframe tbody tr th:only-of-type {\n",
       "        vertical-align: middle;\n",
       "    }\n",
       "\n",
       "    .dataframe tbody tr th {\n",
       "        vertical-align: top;\n",
       "    }\n",
       "\n",
       "    .dataframe thead th {\n",
       "        text-align: right;\n",
       "    }\n",
       "</style>\n",
       "<table border=\"1\" class=\"dataframe\">\n",
       "  <thead>\n",
       "    <tr style=\"text-align: right;\">\n",
       "      <th></th>\n",
       "      <th>id_str</th>\n",
       "      <th>created_at</th>\n",
       "      <th>full_text</th>\n",
       "      <th>user.id_str</th>\n",
       "      <th>user.screen_name</th>\n",
       "      <th>user.name</th>\n",
       "      <th>user.created_at</th>\n",
       "      <th>shorten_urls</th>\n",
       "      <th>n_urls</th>\n",
       "      <th>urls</th>\n",
       "    </tr>\n",
       "  </thead>\n",
       "  <tbody>\n",
       "    <tr>\n",
       "      <th>0</th>\n",
       "      <td>1.338252e+18</td>\n",
       "      <td>2020-12-13 22:40:00+00:00</td>\n",
       "      <td>Johnny Depp exige a Warner Bros. sacar a Amber...</td>\n",
       "      <td>244218738.0</td>\n",
       "      <td>SinEmbargoMX</td>\n",
       "      <td>Sin Embargo MX</td>\n",
       "      <td>2011-01-28 20:21:23+00:00</td>\n",
       "      <td>['https://t.co/NHto0O1Ftk', 'https://t.co/v6P2...</td>\n",
       "      <td>2</td>\n",
       "      <td>[https://www.sinembargo.mx/13-12-2020/3909331,...</td>\n",
       "    </tr>\n",
       "    <tr>\n",
       "      <th>1</th>\n",
       "      <td>1.338262e+18</td>\n",
       "      <td>2020-12-13 23:20:00+00:00</td>\n",
       "      <td>Johnny Depp exige a Warner Bros. sacar a Amber...</td>\n",
       "      <td>415155226.0</td>\n",
       "      <td>MagazineSEMX</td>\n",
       "      <td>Sin Embargo Magazine</td>\n",
       "      <td>2011-11-17 23:55:57+00:00</td>\n",
       "      <td>['https://t.co/quKtMDv5Ry', 'https://t.co/N4Nw...</td>\n",
       "      <td>2</td>\n",
       "      <td>[https://www.sinembargo.mx/13-12-2020/3909331,...</td>\n",
       "    </tr>\n",
       "  </tbody>\n",
       "</table>\n",
       "</div>"
      ],
      "text/plain": [
       "         id_str                 created_at  \\\n",
       "0  1.338252e+18  2020-12-13 22:40:00+00:00   \n",
       "1  1.338262e+18  2020-12-13 23:20:00+00:00   \n",
       "\n",
       "                                           full_text  user.id_str  \\\n",
       "0  Johnny Depp exige a Warner Bros. sacar a Amber...  244218738.0   \n",
       "1  Johnny Depp exige a Warner Bros. sacar a Amber...  415155226.0   \n",
       "\n",
       "  user.screen_name             user.name            user.created_at  \\\n",
       "0     SinEmbargoMX        Sin Embargo MX  2011-01-28 20:21:23+00:00   \n",
       "1     MagazineSEMX  Sin Embargo Magazine  2011-11-17 23:55:57+00:00   \n",
       "\n",
       "                                        shorten_urls  n_urls  \\\n",
       "0  ['https://t.co/NHto0O1Ftk', 'https://t.co/v6P2...       2   \n",
       "1  ['https://t.co/quKtMDv5Ry', 'https://t.co/N4Nw...       2   \n",
       "\n",
       "                                                urls  \n",
       "0  [https://www.sinembargo.mx/13-12-2020/3909331,...  \n",
       "1  [https://www.sinembargo.mx/13-12-2020/3909331,...  "
      ]
     },
     "execution_count": 30,
     "metadata": {},
     "output_type": "execute_result"
    }
   ],
   "source": [
    "df_tweets_dec_urls_urls_more.head(2)"
   ]
  },
  {
   "cell_type": "code",
   "execution_count": 31,
   "id": "2a87874d",
   "metadata": {},
   "outputs": [],
   "source": [
    "df_tweets_dec_urls_urls_more_with_users_count = more_than_one_link_with_count(df_tweets_dec_urls_urls_more,\n",
    "                             \"user.id_str\",\n",
    "                             \"urls\")"
   ]
  },
  {
   "cell_type": "code",
   "execution_count": 32,
   "id": "dd2c29fa",
   "metadata": {},
   "outputs": [],
   "source": [
    "df_tweets_dec_urls_urls_more_with_users_count.to_csv(\n",
    "    twitter_path\n",
    "    + \"df_tweets_dec_urls_more.csv\",\n",
    "    index=False,\n",
    ")"
   ]
  },
  {
   "cell_type": "code",
   "execution_count": 33,
   "id": "676db671",
   "metadata": {},
   "outputs": [
    {
     "data": {
      "text/html": [
       "<div>\n",
       "<style scoped>\n",
       "    .dataframe tbody tr th:only-of-type {\n",
       "        vertical-align: middle;\n",
       "    }\n",
       "\n",
       "    .dataframe tbody tr th {\n",
       "        vertical-align: top;\n",
       "    }\n",
       "\n",
       "    .dataframe thead th {\n",
       "        text-align: right;\n",
       "    }\n",
       "</style>\n",
       "<table border=\"1\" class=\"dataframe\">\n",
       "  <thead>\n",
       "    <tr style=\"text-align: right;\">\n",
       "      <th></th>\n",
       "      <th>link</th>\n",
       "      <th>count</th>\n",
       "      <th>n_users</th>\n",
       "    </tr>\n",
       "  </thead>\n",
       "  <tbody>\n",
       "    <tr>\n",
       "      <th>0</th>\n",
       "      <td>https://www.sinembargo.mx/13-12-2020/3909331</td>\n",
       "      <td>2</td>\n",
       "      <td>2</td>\n",
       "    </tr>\n",
       "    <tr>\n",
       "      <th>1</th>\n",
       "      <td>https://twitter.com/SinEmbargoMX/status/133825...</td>\n",
       "      <td>1</td>\n",
       "      <td>1</td>\n",
       "    </tr>\n",
       "    <tr>\n",
       "      <th>2</th>\n",
       "      <td>https://twitter.com/MagazineSEMX/status/133826...</td>\n",
       "      <td>1</td>\n",
       "      <td>1</td>\n",
       "    </tr>\n",
       "    <tr>\n",
       "      <th>3</th>\n",
       "      <td>https://www.change.org/</td>\n",
       "      <td>33</td>\n",
       "      <td>20</td>\n",
       "    </tr>\n",
       "    <tr>\n",
       "      <th>4</th>\n",
       "      <td>https://www.change.org/p/dc-entertainment-remo...</td>\n",
       "      <td>14</td>\n",
       "      <td>13</td>\n",
       "    </tr>\n",
       "    <tr>\n",
       "      <th>...</th>\n",
       "      <td>...</td>\n",
       "      <td>...</td>\n",
       "      <td>...</td>\n",
       "    </tr>\n",
       "    <tr>\n",
       "      <th>1578</th>\n",
       "      <td>https://www.dailymail.co.uk/news/article-89977...</td>\n",
       "      <td>1</td>\n",
       "      <td>1</td>\n",
       "    </tr>\n",
       "    <tr>\n",
       "      <th>1579</th>\n",
       "      <td>https://www.radiovanguardia.com/2020/12/06/amb...</td>\n",
       "      <td>1</td>\n",
       "      <td>1</td>\n",
       "    </tr>\n",
       "    <tr>\n",
       "      <th>1580</th>\n",
       "      <td>https://twitter.com/rvanguardia/status/1335660...</td>\n",
       "      <td>1</td>\n",
       "      <td>1</td>\n",
       "    </tr>\n",
       "    <tr>\n",
       "      <th>1581</th>\n",
       "      <td>https://www.reddit.com/r/memes/comments/k5ao7x...</td>\n",
       "      <td>1</td>\n",
       "      <td>1</td>\n",
       "    </tr>\n",
       "    <tr>\n",
       "      <th>1582</th>\n",
       "      <td>https://twitter.com/BraveMoonGirl1/status/1335...</td>\n",
       "      <td>1</td>\n",
       "      <td>1</td>\n",
       "    </tr>\n",
       "  </tbody>\n",
       "</table>\n",
       "<p>1583 rows × 3 columns</p>\n",
       "</div>"
      ],
      "text/plain": [
       "                                                   link  count  n_users\n",
       "0          https://www.sinembargo.mx/13-12-2020/3909331      2        2\n",
       "1     https://twitter.com/SinEmbargoMX/status/133825...      1        1\n",
       "2     https://twitter.com/MagazineSEMX/status/133826...      1        1\n",
       "3                               https://www.change.org/     33       20\n",
       "4     https://www.change.org/p/dc-entertainment-remo...     14       13\n",
       "...                                                 ...    ...      ...\n",
       "1578  https://www.dailymail.co.uk/news/article-89977...      1        1\n",
       "1579  https://www.radiovanguardia.com/2020/12/06/amb...      1        1\n",
       "1580  https://twitter.com/rvanguardia/status/1335660...      1        1\n",
       "1581  https://www.reddit.com/r/memes/comments/k5ao7x...      1        1\n",
       "1582  https://twitter.com/BraveMoonGirl1/status/1335...      1        1\n",
       "\n",
       "[1583 rows x 3 columns]"
      ]
     },
     "execution_count": 33,
     "metadata": {},
     "output_type": "execute_result"
    }
   ],
   "source": [
    "df_tweets_dec_urls_urls_more_with_users_count"
   ]
  },
  {
   "cell_type": "code",
   "execution_count": null,
   "id": "de2aff45",
   "metadata": {},
   "outputs": [],
   "source": []
  },
  {
   "cell_type": "code",
   "execution_count": null,
   "id": "fb24266b",
   "metadata": {},
   "outputs": [],
   "source": []
  }
 ],
 "metadata": {
  "kernelspec": {
   "display_name": "Python 3 (ipykernel)",
   "language": "python",
   "name": "python3"
  },
  "language_info": {
   "codemirror_mode": {
    "name": "ipython",
    "version": 3
   },
   "file_extension": ".py",
   "mimetype": "text/x-python",
   "name": "python",
   "nbconvert_exporter": "python",
   "pygments_lexer": "ipython3",
   "version": "3.9.7"
  }
 },
 "nbformat": 4,
 "nbformat_minor": 5
}
